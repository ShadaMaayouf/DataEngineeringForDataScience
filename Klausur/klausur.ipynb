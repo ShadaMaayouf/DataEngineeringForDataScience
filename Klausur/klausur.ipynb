{
 "cells": [
  {
   "cell_type": "raw",
   "id": "1b9fb232",
   "metadata": {},
   "source": [
    "Name:\n",
    "Matrikelnummer:"
   ]
  },
  {
   "cell_type": "markdown",
   "id": "989253d6",
   "metadata": {},
   "source": [
    "___"
   ]
  },
  {
   "cell_type": "markdown",
   "id": "f6388327",
   "metadata": {},
   "source": [
    "# Allgemeine Hinweise zur Klausur 01882 **Data Engineering für Data Science**\n",
    "> **_NOTE:_**  *Bitte lesen Sie sich diese Hinweise vor der Bearbeitung der Klausur aufmerksam durch.*\n",
    "\n",
    "- Die **Klausurdauer** beträgt **2 Stunden**.\n",
    "- Bevor Sie mit der Bearbeitung der Klausuraufgaben beginnen, tragen Sie bitte Ihre(n) **Nachnamen**, Ihre(n) **Vornamen** und Ihre **Matrikelnummer** in die vorgesehenen Felder (oben) ein.\n",
    "- Wie schon in den Übungsaufgaben erfolgt die Bearbeitung in zwei unterschiedliche Zell-Typen: In **Code-Zellen** sollen Sie (Python-)Code (bei Bedarf kommentiert) einfügen und ausführen. In **Raw-Zellen** erwarten wir eine Antwort in Textform.\n",
    "- Sollten bestimmte Fakten aus Ihrer Sicht nicht eindeutig formuliert sein, so schreiben Sie Ihre Annahmen zur Lösung dazu.\n",
    "- Denken Sie bei Plots an Titel, Achsenbeschriftung und bei Bedarf Legende.\n",
    "- Es empfiehlt sich, das Notebook, bzw. das daraus generierte PDF in regelmäßigen Abständen zu sichern. So müssen Sie nicht bei Null anfangen, sollte es unerwartetere Weise zu Software-Problemen kommen.\n",
    "- Diese Klausur ist eine sogenannte \"Open-Book-Klausur\", was bedeutet, dass Sie alle Vorlesungsunterlagen, etc. als Hilfsmittel verwenden dürfen. Es ist jedoch ausdrücklich **verboten**, dass Sie untereinander kommunizieren oder andere Personen zu Rate ziehen. "
   ]
  },
  {
   "cell_type": "markdown",
   "id": "56eaaa51",
   "metadata": {},
   "source": [
    "___"
   ]
  },
  {
   "cell_type": "code",
   "execution_count": 1,
   "id": "c6b3fc59",
   "metadata": {
    "ExecuteTime": {
     "end_time": "2023-09-01T08:52:46.011268Z",
     "start_time": "2023-09-01T08:52:45.177194Z"
    }
   },
   "outputs": [],
   "source": [
    "# Imports\n",
    "import pandas as pd\n",
    "import matplotlib.pyplot as plt\n",
    "import seaborn as sns\n",
    "import iplantuml\n",
    "import plantuml\n",
    "import numpy as np"
   ]
  },
  {
   "cell_type": "markdown",
   "id": "4ce46374",
   "metadata": {},
   "source": [
    "# Marktanalyse\n",
    "Ein fiktives Szenario: Die Geschwister Käfer besitzen bereits zwei Restaurants in der Stadt Pixhagen. Die beiden Restaurants laufen so gut, dass Sie überlegen, ob Sie ein neues Restaurant in Pixhagen eröffnen sollen und was für eine Art von Restaurant für die Pixhagener:innen von Interesse wäre. Für eine Marktanalyse schicken sie fünf Mitarbeiter:innen in die Stadt, um dort eine Umfrage durchzuführen. Am Tag nach der Umfrage werden Ihnen die Daten zur Verfügung gestellt. Dies ist der Inhalt der Klausur.\n",
    "\n",
    "Folgende Dokumente stehen Ihnen zur Verfügung:\n",
    "- *marktanalyse.csv* - Die Daten der Umfragen\n",
    "- *informationen.pdf* - Informationen zu der fiktiven Stadt Pixhagen, den Geschwistern Käfer sowie der Umfrage und den Daten\n",
    "- *umfrage.pdf* - Ein Muster des Umfragebogens, der den Mitarbeiter:innen zur Verfügung gestellt wurde\n",
    "- *anmerkungen.pdf* - Die Anmerkungen zur Umfrage der fünf Mitarbeiter:innen"
   ]
  },
  {
   "cell_type": "markdown",
   "id": "8659e2bc",
   "metadata": {},
   "source": [
    "## Aufgabe 1 - Datenqualität (17 Punkte)\n",
    "In der ersten Aufgabe geht es darum, sich mit den Daten vertraut zu machen und diese bzgl. ihrer Qualität zu analysieren."
   ]
  },
  {
   "cell_type": "markdown",
   "id": "297ba05b",
   "metadata": {},
   "source": [
    "### Aufgabe 1.1 Daten laden (1 Punkt)\n",
    "*Laden Sie die Daten (`marktanalyse.csv`) in ein DataFrame namens `df`.*"
   ]
  },
  {
   "cell_type": "code",
   "execution_count": 3,
   "id": "b97d2ef0",
   "metadata": {
    "ExecuteTime": {
     "end_time": "2023-01-26T17:00:06.492633Z",
     "start_time": "2023-01-26T17:00:06.480681Z"
    },
    "scrolled": true
   },
   "outputs": [
    {
     "data": {
      "text/plain": [
       "MA\n",
       "Sara Hofmann       121\n",
       "Karin Storch       103\n",
       "Layla Hawi         102\n",
       "Oliver Gonzalez     99\n",
       "Fadil Mebarek       96\n",
       "Name: count, dtype: int64"
      ]
     },
     "execution_count": 3,
     "metadata": {},
     "output_type": "execute_result"
    }
   ],
   "source": [
    "# Ihre Lösung\n",
    "df = pd.read_csv(\"./marktanalyse.csv\", index_col=0)\n",
    "df['MA'].value_counts()"
   ]
  },
  {
   "cell_type": "markdown",
   "id": "b050095a",
   "metadata": {},
   "source": [
    "### Aufgabe 1.2 Data Integrity (10 Punkte)\n",
    "Machen Sie sich mit den Daten vertraut.\n",
    "\n",
    "*Beurteilen Sie die Daten anhand der 5 Kriterien für **Data Integrity**, die Sie im Buch von McGregor in Kapitel 3 als **Important** kennengelernt haben.*"
   ]
  },
  {
   "cell_type": "code",
   "execution_count": 4,
   "id": "3b753382",
   "metadata": {
    "ExecuteTime": {
     "end_time": "2023-01-26T17:00:06.497996Z",
     "start_time": "2023-01-26T17:00:06.494950Z"
    }
   },
   "outputs": [
    {
     "name": "stdout",
     "output_type": "stream",
     "text": [
      "Der Datensatz hat 8 Spalten und 521 Zeilen.\n",
      "Der Datensatz hat folgende Spalten: \n"
     ]
    },
    {
     "data": {
      "text/plain": [
       "['MA',\n",
       " 'Geschlecht',\n",
       " 'Stadtteil',\n",
       " 'Ernaehrung',\n",
       " 'Einkommen',\n",
       " 'Budget',\n",
       " 'Besuche',\n",
       " 'Interesse']"
      ]
     },
     "metadata": {},
     "output_type": "display_data"
    },
    {
     "name": "stdout",
     "output_type": "stream",
     "text": [
      "Der Datensatz hat folgende informationen: \n",
      "<class 'pandas.core.frame.DataFrame'>\n",
      "Index: 521 entries, 1 to 102\n",
      "Data columns (total 8 columns):\n",
      " #   Column      Non-Null Count  Dtype  \n",
      "---  ------      --------------  -----  \n",
      " 0   MA          521 non-null    object \n",
      " 1   Geschlecht  521 non-null    object \n",
      " 2   Stadtteil   521 non-null    object \n",
      " 3   Ernaehrung  518 non-null    object \n",
      " 4   Einkommen   210 non-null    float64\n",
      " 5   Budget      521 non-null    float64\n",
      " 6   Besuche     521 non-null    int64  \n",
      " 7   Interesse   521 non-null    int64  \n",
      "dtypes: float64(2), int64(2), object(4)\n",
      "memory usage: 36.6+ KB\n"
     ]
    },
    {
     "data": {
      "text/plain": [
       "None"
      ]
     },
     "metadata": {},
     "output_type": "display_data"
    }
   ],
   "source": [
    "# Platz für Analysen\n",
    "\n",
    "#initiale analyse\n",
    "nr_rows = len(df)\n",
    "nr_col = len(df.columns)\n",
    "print(\"Der Datensatz hat \"+str(nr_col)+\" Spalten und \"+str(nr_rows)+\" Zeilen.\")\n",
    "print(\"Der Datensatz hat folgende Spalten: \")\n",
    "display(list(df.columns))\n",
    "\n",
    "print(\"Der Datensatz hat folgende informationen: \")\n",
    "display(df.info())"
   ]
  },
  {
   "cell_type": "code",
   "execution_count": 5,
   "id": "30a51dfc",
   "metadata": {},
   "outputs": [
    {
     "name": "stdout",
     "output_type": "stream",
     "text": [
      "Passt die Größe des Samples?\n",
      "Die Sample-größe ist 521\n",
      "\n",
      "Ist die Anzahl Teilnehmer pro Stadtteil ähnlich?\n"
     ]
    },
    {
     "data": {
      "text/plain": [
       "Stadtteil\n",
       "Nord    185\n",
       "West    129\n",
       "Süd     121\n",
       "Ost      86\n",
       "Name: count, dtype: int64"
      ]
     },
     "metadata": {},
     "output_type": "display_data"
    },
    {
     "data": {
      "image/png": "[encoded data removed]",
      "text/plain": [
       "<Figure size 1000x500 with 1 Axes>"
      ]
     },
     "metadata": {},
     "output_type": "display_data"
    },
    {
     "name": "stdout",
     "output_type": "stream",
     "text": [
      "Von der Verteilung die man im Graph sieht, ist die Anzahl teilnehmer pro Stadtteil nicht fair verteilt. Vorallem ist da ein Unterschied zwischen dem östlichen und den nördlichen Stadtteil. Das könnte das Ergebnis beeinflussen.\n"
     ]
    }
   ],
   "source": [
    "# High volume: reicht das Volumen des Datensatzes aus, um die Hauptfrage zu beantworten?\n",
    "\n",
    "print(\"Passt die Größe des Samples?\")\n",
    "print(\"Die Sample-größe ist \"+str(nr_rows))\n",
    "\n",
    "print(\"\\nIst die Anzahl Teilnehmer pro Stadtteil ähnlich?\")\n",
    "display(df[\"Stadtteil\"].value_counts(dropna=False))\n",
    "df['Stadtteil'].value_counts().plot.bar(\n",
    "    figsize=(10,5), \n",
    "    title=\"Anzahl Teilnehmer pro Stadtteil\",\n",
    "    xlabel=\"Stadtteil\", \n",
    "    ylabel=\"Anzahl Teilnehmer\")\n",
    "plt.show()\n",
    "print(\"Von der Verteilung die man im Graph sieht, ist die Anzahl teilnehmer pro Stadtteil nicht fair verteilt. Vorallem ist da ein Unterschied zwischen dem östlichen und den nördlichen Stadtteil. Das könnte das Ergebnis beeinflussen.\")"
   ]
  },
  {
   "cell_type": "code",
   "execution_count": 6,
   "id": "51a4ea0d",
   "metadata": {},
   "outputs": [
    {
     "name": "stdout",
     "output_type": "stream",
     "text": [
      "in den Unterlagen sowie in den Daten selber gibt es keine Information darüber wann diese Daten erfasst wurden. Da die Daten auf Anfrage der Geschwister Käfer aufgefasst wurden sind, nehmen wir an, sie sind von neustem Stand.\n"
     ]
    }
   ],
   "source": [
    "#timely: sind die Daten auf dem neuesten Stand?\n",
    "print(\"in den Unterlagen sowie in den Daten selber gibt es keine Information darüber wann diese Daten erfasst wurden. \"\n",
    "      +\"Da die Daten auf Anfrage der Geschwister Käfer aufgefasst wurden sind, nehmen wir an, sie sind von neustem Stand.\")"
   ]
  },
  {
   "cell_type": "code",
   "execution_count": 7,
   "id": "3f2c17f1",
   "metadata": {},
   "outputs": [
    {
     "name": "stdout",
     "output_type": "stream",
     "text": [
      "Sind alle Spalten von den Metadaten vorhanden? False\n"
     ]
    },
    {
     "data": {
      "text/plain": [
       "Index(['MA', 'Geschlecht', 'Stadtteil', 'Ernaehrung', 'Einkommen', 'Budget',\n",
       "       'Besuche', 'Interesse'],\n",
       "      dtype='object')"
      ]
     },
     "metadata": {},
     "output_type": "display_data"
    },
    {
     "name": "stdout",
     "output_type": "stream",
     "text": [
      "Es fehlt die Spalte Nr die die Befragungsteilnehmer nummeriert und identifizierbar macht.\n"
     ]
    }
   ],
   "source": [
    "#Complete: Haben die für die Analyse erforderlichen Hauptmerkmale/-attribute fehlenden Werte?\n",
    "\n",
    "#Sind alle Spalten von den Metadaten vorhanden?\n",
    "print(\"Sind alle Spalten von den Metadaten vorhanden? \"+str(nr_col==9))\n",
    "display(df.columns)\n",
    "print(\"Es fehlt die Spalte Nr die die Befragungsteilnehmer nummeriert und identifizierbar macht.\")"
   ]
  },
  {
   "cell_type": "code",
   "execution_count": 8,
   "id": "6287c7e7",
   "metadata": {},
   "outputs": [
    {
     "name": "stdout",
     "output_type": "stream",
     "text": [
      "Gibt es fehlende Daten? True\n",
      "Es gibt fehlende Daten und die sind verteilt wie folgt: \n",
      "Sum of all Nans? 314\n",
      "Sum of Nans per column? \n",
      "MA              0\n",
      "Geschlecht      0\n",
      "Stadtteil       0\n",
      "Ernaehrung      3\n",
      "Einkommen     311\n",
      "Budget          0\n",
      "Besuche         0\n",
      "Interesse       0\n",
      "dtype: int64\n",
      "count of existing values is 3854\n"
     ]
    }
   ],
   "source": [
    "#Gibt es fehlende Daten?\n",
    "check = df.isnull()\n",
    "print(\"Gibt es fehlende Daten? \"+str(check.values.any()))\n",
    "\n",
    "if(check.values.any()):\n",
    "    print(\"Es gibt fehlende Daten und die sind verteilt wie folgt: \")\n",
    "    print(\"Sum of all Nans? \"+str(check.values.sum())); \n",
    "    print(\"Sum of Nans per column? \\n\"+str(check.sum()))\n",
    "    print(\"count of existing values is \"+str(df.count().sum()))\n",
    "\n"
   ]
  },
  {
   "cell_type": "code",
   "execution_count": 9,
   "id": "f07ff7e6",
   "metadata": {},
   "outputs": [
    {
     "name": "stdout",
     "output_type": "stream",
     "text": [
      "Multivariat: Wird zu jedem Datensatz mehrere Attribute oder Merkmale zugeordnet?\n",
      "Anzahl Attribute für jeden Datensatz ist 8\n"
     ]
    }
   ],
   "source": [
    "#Multivariat:Wird zu jedem Datensatz mehrere Attribute oder Merkmale zugeordnet?\n",
    "\n",
    "#Spalten sehen\n",
    "print(\"Multivariat: Wird zu jedem Datensatz mehrere Attribute oder Merkmale zugeordnet?\")\n",
    "print(\"Anzahl Attribute für jeden Datensatz ist \"+str(nr_col))"
   ]
  },
  {
   "cell_type": "code",
   "execution_count": 10,
   "id": "b951ce47",
   "metadata": {},
   "outputs": [
    {
     "name": "stdout",
     "output_type": "stream",
     "text": [
      "Anzahl fehlende Werte in der Spalte 'Einkommen': 311\n",
      "Wie wir aus der Ausgabe sehen können, die überwiegende Mehrheit der Teilnehmer wollten nicht ihre Jahreseinkommen angeben. Dies wirft die Frage auf, wie nützlich diese Spalte wirklich ist.\n",
      "Der Budget ist ein gutes Indikator für den Einkommen der Teilnehmer.\n"
     ]
    }
   ],
   "source": [
    "print(\"Anzahl fehlende Werte in der Spalte 'Einkommen': \"+str(df['Einkommen'].isna().sum()))\n",
    "print(\"Wie wir aus der Ausgabe sehen können, die überwiegende Mehrheit der Teilnehmer wollten nicht ihre Jahreseinkommen angeben. Dies wirft die Frage auf, wie nützlich diese Spalte wirklich ist.\")\n",
    "print(\"Der Budget ist ein gutes Indikator für den Einkommen der Teilnehmer.\")"
   ]
  },
  {
   "cell_type": "code",
   "execution_count": 11,
   "id": "64a52734",
   "metadata": {},
   "outputs": [
    {
     "name": "stdout",
     "output_type": "stream",
     "text": [
      "In der Umfrage wurde nur ermittelt, ob die Teilnehmer in einem der Restaurants war oder in keinem der beiden, aber nicht in beide.\n"
     ]
    },
    {
     "data": {
      "text/plain": [
       "Besuche\n",
       "0    244\n",
       "1    158\n",
       "2    119\n",
       "Name: count, dtype: int64"
      ]
     },
     "metadata": {},
     "output_type": "display_data"
    },
    {
     "data": {
      "text/plain": [
       "Ernaehrung\n",
       "vegetarisch    243\n",
       "alles          217\n",
       "vegan           53\n",
       "frugan           5\n",
       "NaN              3\n",
       "Name: count, dtype: int64"
      ]
     },
     "metadata": {},
     "output_type": "display_data"
    }
   ],
   "source": [
    "# atomic: Sind die daten granular? Gibt es zusammenfassenden Statistiken, kombinierte Daten oder Kennzahlen?\n",
    "print(\"In der Umfrage wurde nur ermittelt, ob die Teilnehmer in einem der Restaurants war oder in keinem der beiden, aber nicht in beide.\")\n",
    "display(df[\"Besuche\"].value_counts())\n",
    "display(df[\"Ernaehrung\"].value_counts(dropna=False))\n"
   ]
  },
  {
   "cell_type": "raw",
   "id": "03d91f9c",
   "metadata": {},
   "source": [
    "Ihre Beurteilung:\n",
    "\n",
    "Anhand der 5 \"Implortant\" Kriterien für Data Integrity und der initialen Analyse ist meine Beurteilung wie folgt:\n",
    "1. High volume:\n",
    "Das Volumen des Datensatzes bzw. Die Sample Größe von 521 Teilnehmer reicht aus, um die Hauptfrage zu beantworten. Allerdings ist von der Verteilung, die man im Balkendiagramm gut sehen kann, zu erkennen, dass die Anzahl teilnehmer pro Stadtteil nicht fair verteilt ist. Vorallem ist da ein Unterschied an Anzhal Teilnehmer zwischen dem östlichen und den nördlichen Stadtteil. Das könnte das Ergebnis beeinflussen.\n",
    "\n",
    "2. timely: sind die Daten auf dem neuesten Stand?\n",
    "In den Unterlagen sowie in den Daten selber gibt es keine Information über den genauen Zeitpunkt der Erfassing dieser Daten. Da die Daten auf Anfrage der Geschwister Käfer aufgefasst wurden sind, und die Erfassung für jeweils jeden Mitarbeiter ein Tag gedauert hat, können wir annehmen, sie sind von neustem Stand.\n",
    "\n",
    "3. Complete: Haben die für die Analyse erforderlichen Hauptmerkmale/-attribute fehlenden Werte?\n",
    "\n",
    "Die CSV datei hat nur 8 von 9 Spalten, die in der Metadaten genannt sind. Es fehlt die Spalte Nr die die Befragungsteilnehmer nummeriert und identifizierbar macht. Es gibt außerdem fehlende Werte in den Spalten \"Ernährung\" (3 fehlende Werte) und \"Einkommen\" (311 fehlende Werte). Wie wir aus der Ausgabe sehen können, die überwiegende Mehrheit der Teilnehmer wollten nicht ihre Jahreseinkommen angeben. Dies wirft die Frage auf, wie nützlich diese Spalte wirklich ist. Der Budget ist ein gutes Indikator für den Einkommen des Teilnehmers.\n",
    "\n",
    "4. #Multivariat:Wird zu jedem Datensatz mehrere Attribute oder Merkmale zugeordnet?\n",
    "\n",
    "Jeder Datensatz hat 8 Attribute.\n",
    "\n",
    "5. atomic: Sind die daten granular? Gibt es zusammenfassenden Statistiken, kombinierte Daten oder Kennzahlen?\n",
    "\n",
    "Die Daten weisen keine zusammenfassenden Statistiken, kombinierte Daten, Aggregationen oder Kennzahlen auf."
   ]
  },
  {
   "cell_type": "markdown",
   "id": "c1f0ca72",
   "metadata": {},
   "source": [
    "### Aufgabe 1.3 Data Fit (4 Punkte)\n",
    "*Beurteilen Sie, ob die Daten Ihrer Meinung nach geeignet sind, um eine Entscheidung über ein neues Restaurant zu treffen. Welche Informationen aus den Daten sind hilfreich und welche nicht? Welche weiteren Informationen wären ggf. notwendig?*"
   ]
  },
  {
   "cell_type": "code",
   "execution_count": 12,
   "id": "292b526a",
   "metadata": {
    "ExecuteTime": {
     "end_time": "2023-01-26T17:00:06.505904Z",
     "start_time": "2023-01-26T17:00:06.502641Z"
    }
   },
   "outputs": [
    {
     "name": "stdout",
     "output_type": "stream",
     "text": [
      "<class 'pandas.core.frame.DataFrame'>\n",
      "Index: 521 entries, 1 to 102\n",
      "Data columns (total 8 columns):\n",
      " #   Column      Non-Null Count  Dtype  \n",
      "---  ------      --------------  -----  \n",
      " 0   MA          521 non-null    object \n",
      " 1   Geschlecht  521 non-null    object \n",
      " 2   Stadtteil   521 non-null    object \n",
      " 3   Ernaehrung  518 non-null    object \n",
      " 4   Einkommen   210 non-null    float64\n",
      " 5   Budget      521 non-null    float64\n",
      " 6   Besuche     521 non-null    int64  \n",
      " 7   Interesse   521 non-null    int64  \n",
      "dtypes: float64(2), int64(2), object(4)\n",
      "memory usage: 36.6+ KB\n"
     ]
    },
    {
     "data": {
      "text/plain": [
       "None"
      ]
     },
     "metadata": {},
     "output_type": "display_data"
    },
    {
     "data": {
      "text/plain": [
       "array([[<Axes: title={'center': 'Budget'}>]], dtype=object)"
      ]
     },
     "execution_count": 12,
     "metadata": {},
     "output_type": "execute_result"
    },
    {
     "data": {
      "image/png": "[encoded data removed]",
      "text/plain": [
       "<Figure size 640x480 with 1 Axes>"
      ]
     },
     "metadata": {},
     "output_type": "display_data"
    }
   ],
   "source": [
    "# Platz für Analysen\n",
    "#1. Validity: Haben die Daten den richtigen Typ, das richtige Format und den richtigen Bereich?\n",
    "#Typ der Daten\n",
    "display(df.info())\n",
    "#Format der Daten\n",
    "df.head()\n",
    "\n",
    "#Bereich der Daten: gibt es Ausreißer?\n",
    "df.hist('Budget')"
   ]
  },
  {
   "cell_type": "code",
   "execution_count": 13,
   "id": "e43360c9",
   "metadata": {},
   "outputs": [
    {
     "data": {
      "text/plain": [
       "Interesse\n",
       "1    352\n",
       "0    169\n",
       "Name: count, dtype: int64"
      ]
     },
     "execution_count": 13,
     "metadata": {},
     "output_type": "execute_result"
    }
   ],
   "source": [
    "#2. Reliability: Zuverlässigkeit beschreibt die Genauigkeit und Stabilität des Datensatzes?\n",
    "\n",
    "df[\"Interesse\"].value_counts(dropna=False)"
   ]
  },
  {
   "cell_type": "code",
   "execution_count": 14,
   "id": "3461bfeb",
   "metadata": {},
   "outputs": [],
   "source": [
    "#3. Representativeness: ob diese Erkenntnisse ein genaues Porträt einer bestimmten Situation oder Bevölkerung sind"
   ]
  },
  {
   "cell_type": "raw",
   "id": "cb207ccd",
   "metadata": {},
   "source": [
    "Ihre Einschätzung:\n",
    "\n",
    "Die Hauptfrage dieser Umfrage ist: zu beurteilen, ob und wenn Ja, wo und welches Restaurant eröffnet werden soll.\n",
    "Die Informationen könnten teilweise hilfreich für die Beantwortung der Fragestellung sein, so könnte man z.B. bestimmen, ob ein Restaurant überhaupt eröffnet werden soll anhand der Interesse, und welches Restaurant eröffnet werden soll basierend auf die überwiegende Diät der Teilnehmer. Desweiteren kann man folgendes über den Data fit sagen:\n",
    "\n",
    "1. Validity: Haben die Daten den richtigen Typ, das richtige Format und den richtigen Bereich?\n",
    "Ja. Die Daten habe, den richtigen Format, und die richtigen Bereiche.\n",
    "\n",
    "2. Representativeness:\n",
    "\n",
    "Der Datensatz stellt keine ausreichende Repräsentation der betroffenen Population der jeweiligen Stadtteile  dar, da die Anzahl Teilnehmer pro Stadtteil nicht fair aufgeteilt ist. Z.B. gab es nur 86 Teilnehmer von der Oststadt und 185 Teilnehmer von der Weststadt.\n",
    "\n",
    "3. Reliability: Zuverlässigkeit beschreibt die Genauigkeit und Stabilität des Datensatzes?\n",
    "    Genauigkeit: Die Daten spiegelndie Teilnehmer teilweise gut wider. Abgesehen von der Spalte  Besuche in der angegeben wurde, ob die Teilnehmer in einem der Restaurants waren oder in keinem der beiden, aber nicht in beide.\n",
    "    Stabilitität: Die Stabilität des Datensatzes ist fraglich, da beispielsweise Ernährungsgewohnheiten und Wohnort (bzw. Stadtteil) eines Teilnehmers sich mit der Zeit ändern kann. \n",
    "    \n",
    "Folgende Faktoren könnten die Datenqualität beeinträchtigen:\n",
    "- Die unfaire Verteilung der Anzahl Teilenehmer pro Stadtteil, .B. gab es nur 86 Teilnehmer von der Oststadt und 185 Teilnehmer von der Weststadt.\n",
    "\n",
    "Welche Informationen aus den Daten sind hilfreich und welche nicht? \n",
    "- 311 von 521 Werte fehlen in der Spalte \"Einkommen\". Es ist sinnvoll die Spalte komplett zu entfernen, da sie keinen Mehrwert bringt und die fehlenden Werte nicht ersetzbar sind.\n",
    "- Die Spalte Budget kann hilfreich sein einen Eindruck über das Einkommen des teilnehmers zu geben.\n",
    "\n",
    "Welche weiteren Informationen wären ggf. notwendig?\n",
    "- In der Spalte in die Spalte \"Besuche\" wurde angegeben, ob die Teilnehmer in einem der Restaurants waren oder in keinem der beiden, aber nicht in beide. Außerdem wäre es hilfreich zu wissen gewesen, ob die Teilnehmer ihren Besuch zu den restaurants als gut oder schlecht bewerten.\n",
    "- Alter der Teilnehmer. z.B. Je jünger, desto eher wird auf tierische Produkte verzichtet."
   ]
  },
  {
   "cell_type": "markdown",
   "id": "832d72c6",
   "metadata": {},
   "source": [
    "### Aufgabe 1.4 Repräsentativität (2 Punkte)\n",
    "*Welche Informationen aus dem Datensatz können verwendet werden, um einzuschätzen, wie repräsentativ der Datensatz ist? Nennen Sie zudem **mindestens eine** weitere Information, die bisher nicht in den Daten enthalten ist, aber die hilfreich wäre, um die Repräsentativität besser beurteilen zu können.*"
   ]
  },
  {
   "cell_type": "code",
   "execution_count": 15,
   "id": "4bde505c",
   "metadata": {
    "ExecuteTime": {
     "end_time": "2023-01-26T17:00:06.518816Z",
     "start_time": "2023-01-26T17:00:06.508644Z"
    }
   },
   "outputs": [],
   "source": [
    "# Platz für Analysen\n"
   ]
  },
  {
   "cell_type": "raw",
   "id": "a99ca17b",
   "metadata": {},
   "source": [
    "Ihre Antwort:\n",
    "Die Information \"Stadtteil\". Der Datensatz stellt keine ausreichende Repräsentation der betroffenen Population der jeweiligen Stadtteile  dar, da die Anzahl Teilnehmer pro Stadtteil nicht fair aufgeteilt ist. Z.B. gab es nur 86 Teilnehmer von der Oststadt während 185 Teilnehmer von der Weststadt kommen.\n",
    "\n",
    "Eine weitere Information wäre der \"Alter\" und/oder \"Beruf\" der Teilnehmer hilfreich. Diese könnten nämlich auf eine mögliche Zielgruppe der REstaurants weisen."
   ]
  },
  {
   "cell_type": "markdown",
   "id": "3b75c33f",
   "metadata": {},
   "source": [
    "## Aufgabe 2 - Datenvorverarbeitung (22 Punkte)\n",
    "Die zweite Aufgabe beschäftigt sich mit der Datenvorverarbeitung."
   ]
  },
  {
   "cell_type": "markdown",
   "id": "4dfa44c2",
   "metadata": {},
   "source": [
    "### Aufgabe 2.1 Plausibilitätschecks (6 Punkte)\n",
    "\n",
    "Entsprechend der Anmerkungen der Mitarbeiter:innen sind verschiedene Plausibilitätschecks der Daten denkbar. Bei diesen Checks wird geprüft, ob sich die Aussagen der Mitarbeiter:innen in den Daten wiederspiegeln."
   ]
  },
  {
   "cell_type": "markdown",
   "id": "3991203f",
   "metadata": {},
   "source": [
    "*Führen Sie drei Plausibilitätschecks Ihrer Wahl durch. Geben Sie bei jedem Check an, auf welche Aussage Sie sich beziehen und, ob der Check fehlgeschlagen ist oder nicht.*"
   ]
  },
  {
   "cell_type": "code",
   "execution_count": 16,
   "id": "894f336d",
   "metadata": {
    "ExecuteTime": {
     "end_time": "2023-01-26T17:00:06.524738Z",
     "start_time": "2023-01-26T17:00:06.522083Z"
    }
   },
   "outputs": [],
   "source": [
    "# Ihre Lösung"
   ]
  },
  {
   "cell_type": "raw",
   "id": "14abe6e7",
   "metadata": {},
   "source": [
    "Ihre Begründung:"
   ]
  },
  {
   "cell_type": "markdown",
   "id": "e55e6f52",
   "metadata": {},
   "source": [
    "### Aufgabe 2.2 Theoretische Überlegungen (2 + 2 Punkte)"
   ]
  },
  {
   "cell_type": "markdown",
   "id": "965d892b",
   "metadata": {},
   "source": [
    "Zunächst werden die Spalten `Besuche` und `Budget` betrachtet."
   ]
  },
  {
   "cell_type": "markdown",
   "id": "1e7ecbf1",
   "metadata": {},
   "source": [
    "Die Spalte `Besuche` ist numerisch codiert. \n",
    "\n",
    "*Erläutern Sie (**nur beschreiben, kein Code erforderlich!**), inwiefern dies zu Problemen führen könnte. (2 Punkte)*"
   ]
  },
  {
   "cell_type": "raw",
   "id": "beb749dc",
   "metadata": {},
   "source": [
    "Ihre Antwort:"
   ]
  },
  {
   "cell_type": "markdown",
   "id": "83dd9657",
   "metadata": {},
   "source": [
    "In der Spalte `Budget` gibt es einen Ausreißer:"
   ]
  },
  {
   "cell_type": "code",
   "execution_count": 17,
   "id": "797b5ba6",
   "metadata": {
    "ExecuteTime": {
     "end_time": "2023-01-26T17:00:07.140674Z",
     "start_time": "2023-01-26T17:00:06.844325Z"
    }
   },
   "outputs": [
    {
     "data": {
      "text/plain": [
       "<Axes: >"
      ]
     },
     "execution_count": 17,
     "metadata": {},
     "output_type": "execute_result"
    },
    {
     "data": {
      "image/png": "[encoded data removed]",
      "text/plain": [
       "<Figure size 640x480 with 1 Axes>"
      ]
     },
     "metadata": {},
     "output_type": "display_data"
    }
   ],
   "source": [
    "df.Budget.hist()"
   ]
  },
  {
   "cell_type": "markdown",
   "id": "405560d0",
   "metadata": {},
   "source": [
    "*Beschreiben Sie (**nur beschreiben, kein Code erforderlich!**), wie Sie mit diesem Ausreißer umgehen würden. (2 Punkte)*"
   ]
  },
  {
   "cell_type": "raw",
   "id": "36327829",
   "metadata": {},
   "source": [
    "Ihre Antwort:"
   ]
  },
  {
   "cell_type": "markdown",
   "id": "1781750b",
   "metadata": {},
   "source": [
    "### Aufgabe 2.3 Praktische Anwendung (12 Punkte)\n",
    "Das Ziel der Geschwister Käfer ist es, wie oben beschrieben, herauszufinden, ob Interesse an einem neuen Restaurant vorhanden ist. Und falls Interesse da ist, sollen mithilfe der Umfrageergebnisse weitere Informationen ermittelt werden, welche Art von Restaurant am gefragtesten wäre. Für eine sinnvolle Analyse sind diverse Vorverarbeitungsschritte notwendig. \n",
    "\n",
    "*Führen Sie Vorverarbeitungsmaßnahmen durch, die Ihrer Meinung nach nötig sind, um die Qualität der Daten zu verbessern. Begründen Sie für jede Maßnahme Ihr Vorgehen.*\n",
    "\n",
    "\n",
    ">> **Achtung**: *Da die Spalten `Besuche` und `Budget` bereits in den vorherigen Aufgaben theortetisch diskutiert wurden, sind sie deshalb aus Zeitgründen für diese Aufgabe nicht relevant. Zudem ist eine **Umbenennung** von Spalten aus Zeitgründen ebenfalls nicht notwendig!*"
   ]
  },
  {
   "cell_type": "code",
   "execution_count": 18,
   "id": "16f089aa",
   "metadata": {
    "ExecuteTime": {
     "end_time": "2023-01-26T17:00:07.147303Z",
     "start_time": "2023-01-26T17:00:07.143518Z"
    }
   },
   "outputs": [],
   "source": [
    "# Ihre Lösung"
   ]
  },
  {
   "cell_type": "raw",
   "id": "adc3890b",
   "metadata": {},
   "source": [
    "Ihre Begründung:"
   ]
  },
  {
   "cell_type": "markdown",
   "id": "2d27972a",
   "metadata": {},
   "source": [
    "## Aufgabe 3 - Datenanalyse (16 Punkte)\n",
    "In dieser Aufgabe werden Analysen auf den Daten ausgeführt."
   ]
  },
  {
   "cell_type": "markdown",
   "id": "3868df88",
   "metadata": {},
   "source": [
    "### Aufgabe 3.1 (6 Punkte)\n",
    "*Ermitteln Sie folgende Informationen:*\n",
    "- Wie ist das durchschnittliche Interesse nach Ernaerhung? Bei welcher Gruppe ist das Interesse am höchsten und bei welcher am niedrigsten? (2 Punkte)\n",
    "- Aus welchem Stadtteil stammen die meisten der befragten Personen?  (2 Punkte)\n",
    "- Welches der beiden bereits existierenden Restaurant wurde bisher am häufigsten von Bewohner:innen der Weststadt besucht?  (2 Punkte)\n",
    "\n",
    "*Interpretieren Sie die Aussage Ihres Codes, indem Sie die Antwort auf die jeweilige Frage in die dafür vorgesehene Raw-Zelle schreiben. Schätzen Sie dabei für jede Frage die Aussagekraft der Ergebnisse ein.*"
   ]
  },
  {
   "cell_type": "code",
   "execution_count": 19,
   "id": "cb99ad07",
   "metadata": {
    "ExecuteTime": {
     "end_time": "2023-01-26T17:06:05.756308Z",
     "start_time": "2023-01-26T17:06:05.752628Z"
    }
   },
   "outputs": [
    {
     "data": {
      "text/plain": [
       "Ernaehrung\n",
       "alles          0.608295\n",
       "frugan         0.600000\n",
       "vegan          0.735849\n",
       "vegetarisch    0.720165\n",
       "Name: Interesse, dtype: float64"
      ]
     },
     "metadata": {},
     "output_type": "display_data"
    },
    {
     "name": "stdout",
     "output_type": "stream",
     "text": [
      "Am höchsten interessiert ist die Gruppe vegan\n",
      "Am niedrigsten interessiert ist die Gruppe frugan\n"
     ]
    }
   ],
   "source": [
    "# Wie ist das durchschnittliche Interesse nach Ernaerhung? (nur Code)\n",
    "avg_interest = df.groupby('Ernaehrung')['Interesse'].mean()\n",
    "display(avg_interest)\n",
    "# Bei welcher Gruppe ist das Interesse am höchsten und bei welcher am niedrigsten? (Antwort in Raw-Zelle)\n",
    "print(\"Am höchsten interessiert ist die Gruppe \"+str(avg_interest.idxmax()))\n",
    "print(\"Am niedrigsten interessiert ist die Gruppe \"+str(avg_interest.idxmin()))"
   ]
  },
  {
   "cell_type": "raw",
   "id": "7d5e321e",
   "metadata": {},
   "source": [
    "Ihre Antwort:"
   ]
  },
  {
   "cell_type": "code",
   "execution_count": 20,
   "id": "8585d908",
   "metadata": {
    "ExecuteTime": {
     "end_time": "2023-01-26T17:00:07.318798Z",
     "start_time": "2023-01-26T17:00:07.307845Z"
    }
   },
   "outputs": [
    {
     "data": {
      "text/plain": [
       "'Nord'"
      ]
     },
     "execution_count": 20,
     "metadata": {},
     "output_type": "execute_result"
    }
   ],
   "source": [
    "# Aus welchem Stadtteil stammen die meisten der befragten Personen? \n",
    "df[\"Stadtteil\"].value_counts().idxmax()"
   ]
  },
  {
   "cell_type": "raw",
   "id": "6f8cfde0",
   "metadata": {},
   "source": [
    "Ihre Antwort:\n"
   ]
  },
  {
   "cell_type": "code",
   "execution_count": 21,
   "id": "71bff13d",
   "metadata": {
    "ExecuteTime": {
     "end_time": "2023-01-26T17:00:07.333126Z",
     "start_time": "2023-01-26T17:00:07.322405Z"
    }
   },
   "outputs": [
    {
     "data": {
      "text/html": [
       "<div>\n",
       "<style scoped>\n",
       "    .dataframe tbody tr th:only-of-type {\n",
       "        vertical-align: middle;\n",
       "    }\n",
       "\n",
       "    .dataframe tbody tr th {\n",
       "        vertical-align: top;\n",
       "    }\n",
       "\n",
       "    .dataframe thead th {\n",
       "        text-align: right;\n",
       "    }\n",
       "</style>\n",
       "<table border=\"1\" class=\"dataframe\">\n",
       "  <thead>\n",
       "    <tr style=\"text-align: right;\">\n",
       "      <th></th>\n",
       "      <th>MA</th>\n",
       "      <th>Geschlecht</th>\n",
       "      <th>Stadtteil</th>\n",
       "      <th>Ernaehrung</th>\n",
       "      <th>Einkommen</th>\n",
       "      <th>Budget</th>\n",
       "      <th>Besuche</th>\n",
       "      <th>Interesse</th>\n",
       "    </tr>\n",
       "    <tr>\n",
       "      <th>Nr.</th>\n",
       "      <th></th>\n",
       "      <th></th>\n",
       "      <th></th>\n",
       "      <th></th>\n",
       "      <th></th>\n",
       "      <th></th>\n",
       "      <th></th>\n",
       "      <th></th>\n",
       "    </tr>\n",
       "  </thead>\n",
       "  <tbody>\n",
       "    <tr>\n",
       "      <th>5</th>\n",
       "      <td>Sara Hofmann</td>\n",
       "      <td>m</td>\n",
       "      <td>West</td>\n",
       "      <td>vegan</td>\n",
       "      <td>53120.0</td>\n",
       "      <td>27.0</td>\n",
       "      <td>0</td>\n",
       "      <td>1</td>\n",
       "    </tr>\n",
       "    <tr>\n",
       "      <th>19</th>\n",
       "      <td>Sara Hofmann</td>\n",
       "      <td>f</td>\n",
       "      <td>West</td>\n",
       "      <td>vegetarisch</td>\n",
       "      <td>NaN</td>\n",
       "      <td>28.0</td>\n",
       "      <td>1</td>\n",
       "      <td>1</td>\n",
       "    </tr>\n",
       "    <tr>\n",
       "      <th>21</th>\n",
       "      <td>Sara Hofmann</td>\n",
       "      <td>m</td>\n",
       "      <td>West</td>\n",
       "      <td>vegetarisch</td>\n",
       "      <td>NaN</td>\n",
       "      <td>29.0</td>\n",
       "      <td>1</td>\n",
       "      <td>1</td>\n",
       "    </tr>\n",
       "    <tr>\n",
       "      <th>43</th>\n",
       "      <td>Sara Hofmann</td>\n",
       "      <td>f</td>\n",
       "      <td>West</td>\n",
       "      <td>vegetarisch</td>\n",
       "      <td>NaN</td>\n",
       "      <td>22.0</td>\n",
       "      <td>1</td>\n",
       "      <td>1</td>\n",
       "    </tr>\n",
       "    <tr>\n",
       "      <th>61</th>\n",
       "      <td>Sara Hofmann</td>\n",
       "      <td>m</td>\n",
       "      <td>West</td>\n",
       "      <td>vegetarisch</td>\n",
       "      <td>NaN</td>\n",
       "      <td>29.0</td>\n",
       "      <td>1</td>\n",
       "      <td>1</td>\n",
       "    </tr>\n",
       "    <tr>\n",
       "      <th>...</th>\n",
       "      <td>...</td>\n",
       "      <td>...</td>\n",
       "      <td>...</td>\n",
       "      <td>...</td>\n",
       "      <td>...</td>\n",
       "      <td>...</td>\n",
       "      <td>...</td>\n",
       "      <td>...</td>\n",
       "    </tr>\n",
       "    <tr>\n",
       "      <th>81</th>\n",
       "      <td>Layla Hawi</td>\n",
       "      <td>m</td>\n",
       "      <td>West</td>\n",
       "      <td>alles</td>\n",
       "      <td>0.0</td>\n",
       "      <td>35.0</td>\n",
       "      <td>0</td>\n",
       "      <td>1</td>\n",
       "    </tr>\n",
       "    <tr>\n",
       "      <th>85</th>\n",
       "      <td>Layla Hawi</td>\n",
       "      <td>m</td>\n",
       "      <td>West</td>\n",
       "      <td>alles</td>\n",
       "      <td>0.0</td>\n",
       "      <td>28.0</td>\n",
       "      <td>2</td>\n",
       "      <td>1</td>\n",
       "    </tr>\n",
       "    <tr>\n",
       "      <th>87</th>\n",
       "      <td>Layla Hawi</td>\n",
       "      <td>w</td>\n",
       "      <td>West</td>\n",
       "      <td>vegetarisch</td>\n",
       "      <td>0.0</td>\n",
       "      <td>25.0</td>\n",
       "      <td>0</td>\n",
       "      <td>1</td>\n",
       "    </tr>\n",
       "    <tr>\n",
       "      <th>93</th>\n",
       "      <td>Layla Hawi</td>\n",
       "      <td>w</td>\n",
       "      <td>West</td>\n",
       "      <td>vegetarisch</td>\n",
       "      <td>0.0</td>\n",
       "      <td>30.0</td>\n",
       "      <td>0</td>\n",
       "      <td>0</td>\n",
       "    </tr>\n",
       "    <tr>\n",
       "      <th>95</th>\n",
       "      <td>Layla Hawi</td>\n",
       "      <td>w</td>\n",
       "      <td>West</td>\n",
       "      <td>frugan</td>\n",
       "      <td>0.0</td>\n",
       "      <td>38.0</td>\n",
       "      <td>1</td>\n",
       "      <td>0</td>\n",
       "    </tr>\n",
       "  </tbody>\n",
       "</table>\n",
       "<p>129 rows × 8 columns</p>\n",
       "</div>"
      ],
      "text/plain": [
       "               MA Geschlecht Stadtteil   Ernaehrung  Einkommen  Budget   \n",
       "Nr.                                                                      \n",
       "5    Sara Hofmann          m      West        vegan    53120.0    27.0  \\\n",
       "19   Sara Hofmann          f      West  vegetarisch        NaN    28.0   \n",
       "21   Sara Hofmann          m      West  vegetarisch        NaN    29.0   \n",
       "43   Sara Hofmann          f      West  vegetarisch        NaN    22.0   \n",
       "61   Sara Hofmann          m      West  vegetarisch        NaN    29.0   \n",
       "..            ...        ...       ...          ...        ...     ...   \n",
       "81     Layla Hawi          m      West        alles        0.0    35.0   \n",
       "85     Layla Hawi          m      West        alles        0.0    28.0   \n",
       "87     Layla Hawi          w      West  vegetarisch        0.0    25.0   \n",
       "93     Layla Hawi          w      West  vegetarisch        0.0    30.0   \n",
       "95     Layla Hawi          w      West       frugan        0.0    38.0   \n",
       "\n",
       "     Besuche  Interesse  \n",
       "Nr.                      \n",
       "5          0          1  \n",
       "19         1          1  \n",
       "21         1          1  \n",
       "43         1          1  \n",
       "61         1          1  \n",
       "..       ...        ...  \n",
       "81         0          1  \n",
       "85         2          1  \n",
       "87         0          1  \n",
       "93         0          0  \n",
       "95         1          0  \n",
       "\n",
       "[129 rows x 8 columns]"
      ]
     },
     "metadata": {},
     "output_type": "display_data"
    },
    {
     "data": {
      "text/plain": [
       "1"
      ]
     },
     "execution_count": 21,
     "metadata": {},
     "output_type": "execute_result"
    }
   ],
   "source": [
    "# Welches der beiden bereits existierenden Restaurant wurde bisher am häufigsten von Bewohner:innen der Weststadt besucht?\n",
    "df[\"Besuche\"].value_counts()\n",
    "\n",
    "west = df[df[\"Stadtteil\"]==\"West\"]\n",
    "display(west)\n",
    "west[west[\"Besuche\"]!=0][\"Besuche\"].value_counts().idxmax()"
   ]
  },
  {
   "cell_type": "raw",
   "id": "507492f0",
   "metadata": {},
   "source": [
    "Ihre Antwort:\n"
   ]
  },
  {
   "cell_type": "markdown",
   "id": "18721dd0",
   "metadata": {},
   "source": [
    "### Aufgabe 3.2 (4 Punkte)\n",
    "Gibt es einen Unterschied in der Ernährungsweise je nach Stadtteil? \n",
    "\n",
    "*Beantworten Sie die Frage mithilfe von Kreisdiagrammen. Denken Sie dabei an Titel und Legende sowie die Interpretation des Diagramms.*"
   ]
  },
  {
   "cell_type": "code",
   "execution_count": 22,
   "id": "5aa062e7",
   "metadata": {},
   "outputs": [
    {
     "data": {
      "text/html": [
       "<div>\n",
       "<style scoped>\n",
       "    .dataframe tbody tr th:only-of-type {\n",
       "        vertical-align: middle;\n",
       "    }\n",
       "\n",
       "    .dataframe tbody tr th {\n",
       "        vertical-align: top;\n",
       "    }\n",
       "\n",
       "    .dataframe thead th {\n",
       "        text-align: right;\n",
       "    }\n",
       "</style>\n",
       "<table border=\"1\" class=\"dataframe\">\n",
       "  <thead>\n",
       "    <tr style=\"text-align: right;\">\n",
       "      <th>Stadtteil</th>\n",
       "      <th>Nord</th>\n",
       "      <th>Ost</th>\n",
       "      <th>Süd</th>\n",
       "      <th>West</th>\n",
       "    </tr>\n",
       "    <tr>\n",
       "      <th>Ernaehrung</th>\n",
       "      <th></th>\n",
       "      <th></th>\n",
       "      <th></th>\n",
       "      <th></th>\n",
       "    </tr>\n",
       "  </thead>\n",
       "  <tbody>\n",
       "    <tr>\n",
       "      <th>alles</th>\n",
       "      <td>17.0</td>\n",
       "      <td>36.0</td>\n",
       "      <td>95.0</td>\n",
       "      <td>69.0</td>\n",
       "    </tr>\n",
       "    <tr>\n",
       "      <th>frugan</th>\n",
       "      <td>NaN</td>\n",
       "      <td>NaN</td>\n",
       "      <td>NaN</td>\n",
       "      <td>5.0</td>\n",
       "    </tr>\n",
       "    <tr>\n",
       "      <th>vegan</th>\n",
       "      <td>22.0</td>\n",
       "      <td>21.0</td>\n",
       "      <td>NaN</td>\n",
       "      <td>10.0</td>\n",
       "    </tr>\n",
       "    <tr>\n",
       "      <th>vegetarisch</th>\n",
       "      <td>145.0</td>\n",
       "      <td>29.0</td>\n",
       "      <td>26.0</td>\n",
       "      <td>43.0</td>\n",
       "    </tr>\n",
       "  </tbody>\n",
       "</table>\n",
       "</div>"
      ],
      "text/plain": [
       "Stadtteil     Nord   Ost   Süd  West\n",
       "Ernaehrung                          \n",
       "alles         17.0  36.0  95.0  69.0\n",
       "frugan         NaN   NaN   NaN   5.0\n",
       "vegan         22.0  21.0   NaN  10.0\n",
       "vegetarisch  145.0  29.0  26.0  43.0"
      ]
     },
     "metadata": {},
     "output_type": "display_data"
    },
    {
     "data": {
      "text/plain": [
       "Stadtteil\n",
       "Nord    184.0\n",
       "Ost      86.0\n",
       "Süd     121.0\n",
       "West    127.0\n",
       "dtype: float64"
      ]
     },
     "execution_count": 22,
     "metadata": {},
     "output_type": "execute_result"
    }
   ],
   "source": [
    "data = df.groupby(['Ernaehrung','Stadtteil']).size().unstack('Stadtteil')\n",
    "display(data)\n",
    "data.sum()"
   ]
  },
  {
   "cell_type": "code",
   "execution_count": 23,
   "id": "66f7f330",
   "metadata": {
    "ExecuteTime": {
     "end_time": "2023-01-26T17:00:07.392550Z",
     "start_time": "2023-01-26T17:00:07.337139Z"
    }
   },
   "outputs": [
    {
     "data": {
      "image/png": "[encoded data removed]",
      "text/plain": [
       "<Figure size 1500x1000 with 4 Axes>"
      ]
     },
     "metadata": {},
     "output_type": "display_data"
    }
   ],
   "source": [
    "# Ihre Lösung\n",
    "# Ihre Lösung\n",
    "def absolute_value(val):\n",
    "    a  = np.round(val/data.sum()*100, 0)\n",
    "    return a\n",
    "\n",
    "\n",
    "data.plot(kind=\"pie\", \n",
    "figsize=(15,10), \n",
    "layout=(2, 2),\n",
    "title=\"Anteil der unterschiedlichen Ernährungstypen pro Stadtteil\",\n",
    "#autopct = absolute_value,\n",
    "subplots=True)\n",
    "\n",
    "plt.show()"
   ]
  },
  {
   "cell_type": "code",
   "execution_count": null,
   "id": "3d606813",
   "metadata": {},
   "outputs": [],
   "source": []
  },
  {
   "cell_type": "raw",
   "id": "2454acd1",
   "metadata": {
    "ExecuteTime": {
     "end_time": "2022-11-29T10:27:49.970323Z",
     "start_time": "2022-11-29T10:27:49.959611Z"
    }
   },
   "source": [
    "Ihre Interpretation des Diagramms:"
   ]
  },
  {
   "cell_type": "markdown",
   "id": "3d110e81",
   "metadata": {},
   "source": [
    "### Aufgabe 3.3 (4 Punkte)\n",
    "Gibt es bzgl. des durchschnittlichen Interesses an einem neuen Restaurant einen großen Unterschied in Abhängigkeit der Stadtteile?\n",
    "\n",
    "*Beantworten Sie die Frage mithilfe eines Säulendiagramms. Denken Sie dabei an Titel und Achsenbeschriftung sowie die Interpretation des Diagramms.*"
   ]
  },
  {
   "cell_type": "code",
   "execution_count": 24,
   "id": "f8ccd7b2",
   "metadata": {
    "ExecuteTime": {
     "end_time": "2023-01-26T17:00:08.139005Z",
     "start_time": "2023-01-26T17:00:08.134930Z"
    }
   },
   "outputs": [
    {
     "data": {
      "text/html": [
       "<div>\n",
       "<style scoped>\n",
       "    .dataframe tbody tr th:only-of-type {\n",
       "        vertical-align: middle;\n",
       "    }\n",
       "\n",
       "    .dataframe tbody tr th {\n",
       "        vertical-align: top;\n",
       "    }\n",
       "\n",
       "    .dataframe thead th {\n",
       "        text-align: right;\n",
       "    }\n",
       "</style>\n",
       "<table border=\"1\" class=\"dataframe\">\n",
       "  <thead>\n",
       "    <tr style=\"text-align: right;\">\n",
       "      <th></th>\n",
       "      <th>Stadtteil</th>\n",
       "      <th>Interesse</th>\n",
       "    </tr>\n",
       "  </thead>\n",
       "  <tbody>\n",
       "    <tr>\n",
       "      <th>0</th>\n",
       "      <td>Nord</td>\n",
       "      <td>0.756757</td>\n",
       "    </tr>\n",
       "    <tr>\n",
       "      <th>1</th>\n",
       "      <td>Ost</td>\n",
       "      <td>0.767442</td>\n",
       "    </tr>\n",
       "    <tr>\n",
       "      <th>2</th>\n",
       "      <td>Süd</td>\n",
       "      <td>0.504132</td>\n",
       "    </tr>\n",
       "    <tr>\n",
       "      <th>3</th>\n",
       "      <td>West</td>\n",
       "      <td>0.658915</td>\n",
       "    </tr>\n",
       "  </tbody>\n",
       "</table>\n",
       "</div>"
      ],
      "text/plain": [
       "  Stadtteil  Interesse\n",
       "0      Nord   0.756757\n",
       "1       Ost   0.767442\n",
       "2       Süd   0.504132\n",
       "3      West   0.658915"
      ]
     },
     "metadata": {},
     "output_type": "display_data"
    },
    {
     "data": {
      "image/png": "[encoded data removed]",
      "text/plain": [
       "<Figure size 1500x1000 with 4 Axes>"
      ]
     },
     "metadata": {},
     "output_type": "display_data"
    }
   ],
   "source": [
    "# Ihre Lösung\n",
    "#interesse = df.groupby(['Interesse','Stadtteil']).size().unstack('Stadtteil')\n",
    "#display(interesse)\n",
    "data2 = df.groupby('Stadtteil')[\"Interesse\"].mean().reset_index()\n",
    "display(data2)\n",
    "data2.plot(kind=\"bar\", \n",
    "figsize=(15,10), \n",
    "layout=(2, 2),\n",
    "title=\"Anteil der unterschiedlichen Ernährungstypen pro Stadtteil\",\n",
    "#autopct = absolute_value,\n",
    "subplots=True)\n",
    "\n",
    "plt.show()"
   ]
  },
  {
   "cell_type": "code",
   "execution_count": 223,
   "id": "f63a6827",
   "metadata": {},
   "outputs": [
    {
     "data": {
      "image/png": "[encoded data removed]",
      "text/plain": [
       "<Figure size 640x480 with 1 Axes>"
      ]
     },
     "metadata": {},
     "output_type": "display_data"
    },
    {
     "data": {
      "text/plain": [
       "<Figure size 1000x500 with 0 Axes>"
      ]
     },
     "metadata": {},
     "output_type": "display_data"
    }
   ],
   "source": [
    "plt.bar(data2[\"Stadtteil\"], data2['Interesse'], color ='maroon', width = 0.4)\n",
    " \n",
    "fig = plt.figure(figsize = (10, 5))\n",
    "\n",
    "#plt.xlabel(\"Department\")\n",
    "#plt.ylabel(\"Anzahl Angestellte\")\n",
    "#plt.title(\"Anzahl Angestellte pro Department\")\n",
    "plt.show()"
   ]
  },
  {
   "cell_type": "raw",
   "id": "7921e9d2",
   "metadata": {
    "ExecuteTime": {
     "end_time": "2022-11-29T10:28:25.603988Z",
     "start_time": "2022-11-29T10:28:25.591591Z"
    }
   },
   "source": [
    "Ihre Interpretation des Diagramms:"
   ]
  },
  {
   "cell_type": "markdown",
   "id": "d941ae32",
   "metadata": {},
   "source": [
    "### Aufgabe 3.4 (2 Punkte)\n",
    "*Entsprechend Ihrer Analysen: Wenn ein neues Restaurant eröffnet werden soll, welchen Stadtteil würden Sie empfehlen und welche Hinweise würden Sie für die Ausrichtung der Speisekarte entsprechend der Ernährungsweise geben? Nehmen Sie für diese Aufgabe an, dass Sie eine Entscheidung treffen müssen und es aus Zeit- und Kostengründen keine Option ist, weitere Informationen (z.B. durch eine erneute Umfrage) einzuholen.*"
   ]
  },
  {
   "cell_type": "raw",
   "id": "321d88e5",
   "metadata": {},
   "source": [
    "Ihre Antwort:"
   ]
  },
  {
   "cell_type": "markdown",
   "id": "fd395ed8",
   "metadata": {},
   "source": [
    "## Aufgabe 4 - Big Data Analysis (15 Punkte)\n",
    "In diesem Aufgabenbereich geht es um Hadoop und Spark."
   ]
  },
  {
   "cell_type": "markdown",
   "id": "eb496d0f",
   "metadata": {},
   "source": [
    "### Aufgabe 4.1 Hadoop Map Reduce vs. Spark (2 + 1 Punkte)\n",
    "*Beschreiben Sie die Unterschiede zwischen der Verarbeitung der Tasks von Hadoop MapReduce und von Spark. (2 Punkte)*"
   ]
  },
  {
   "cell_type": "raw",
   "id": "aa4e4a92",
   "metadata": {},
   "source": [
    "Ihre Antwort:"
   ]
  },
  {
   "cell_type": "markdown",
   "id": "29017fec",
   "metadata": {},
   "source": [
    "*Welche Vorteile ergeben sich daraus bei der Arbeit mit Spark? (1 Punkt)*"
   ]
  },
  {
   "cell_type": "raw",
   "id": "99be0f32",
   "metadata": {},
   "source": [
    "Ihre Antwort:"
   ]
  },
  {
   "cell_type": "markdown",
   "id": "4bb91cdf",
   "metadata": {},
   "source": [
    "### Aufgabe 4.2 Eigenschaften RDDs (8 Punkte)\n",
    "Nennen Sie vier der fünf wichtigsten Eigenschaften von RDDs. Beschreiben Sie für jede Eigenschaft mit einem kurzen Satz, warum sie von Bedeutung ist."
   ]
  },
  {
   "cell_type": "raw",
   "id": "2ed91f12",
   "metadata": {},
   "source": [
    "Ihre Antwort:"
   ]
  },
  {
   "cell_type": "markdown",
   "id": "07ccf1fa",
   "metadata": {},
   "source": [
    "### Aufgabe 4.3 Ressourcenvebrauch (4 Punkte)\n",
    "Gegeben sei folgender Auszug aus der Datei `spark-defaults.conf`:\n",
    "\n",
    "```\n",
    "spark.executor.instances 3\n",
    "spark.executor.memory 1G\n",
    "spark.executor.cores 2\n",
    "spark.executor.memoryOverhead 512M\n",
    "\n",
    "spark.yarn.am.cores 1\n",
    "spark.yarn.am.memory 2G\n",
    "spark.yarn.am.memoryOverhead 512M\n",
    "\n",
    "spark.dynamicAllocation.enabled false\n",
    "```\n",
    "\n",
    "Ein pyspark-Shell wird mit folgendem Aufruf gestartet:\n",
    "`pyspark --master yarn`\n",
    "\n",
    "Gehen Sie davon aus, dass im Cluster genügend freie Ressourcen zur Verfügung stehen, um die Anfragen des Application Masters zu erfüllen.\n",
    "\n",
    "*Berechnen Sie den Ressourcen-Verbrauch (Memory und Cores) der Spark-Anwendung. Geben Sie dabei Ihren Rechenweg an.*"
   ]
  },
  {
   "cell_type": "raw",
   "id": "4f5db997",
   "metadata": {},
   "source": [
    "Ihre Antwort:"
   ]
  },
  {
   "cell_type": "markdown",
   "id": "ee305885",
   "metadata": {},
   "source": [
    "## Aufgabe 5 - Modellierung, NoSQL (25 Punkte)"
   ]
  },
  {
   "cell_type": "markdown",
   "id": "6b0aa0ab",
   "metadata": {},
   "source": [
    "### Aufgabe 5.1 (2 Punkte)\n",
    "\n",
    "Beschreiben Sie Anwendungseigenschaften bzw. Charakteristika, die eher für die Verwendung eines dokumentorientierten bzw. spaltenorientierten Datenbanksystems sprechen."
   ]
  },
  {
   "cell_type": "raw",
   "id": "02be78e1",
   "metadata": {},
   "source": [
    "Ihre Antwort:"
   ]
  },
  {
   "cell_type": "markdown",
   "id": "76f6a280",
   "metadata": {},
   "source": [
    "### Aufgabe 5.2 (2 Punkte)\n",
    "\n",
    "Embedded vs. referentielle Modellierung bei dokumentorientierten Datenbanksystemen wie MongoDB.\n",
    "\n",
    "Sie möchten aus Eigenschaften der Anwendung bzw. der Abfragen schlussfolgern, welche Art der Modellierung (embedded oder referenziell) Sie wählen sollen. Geben Sie Modellierungsrichtlinien bzw. Anwendungscharakteristika an, die einen starken Einfluss auf die Auswahl der Modellierung haben."
   ]
  },
  {
   "cell_type": "raw",
   "id": "7f24f10b",
   "metadata": {},
   "source": [
    "Ihre Antwort:"
   ]
  },
  {
   "cell_type": "markdown",
   "id": "2f4cb29a",
   "metadata": {},
   "source": [
    "### Aufgabe 5.3 (21 Punkte)\n",
    "\n",
    "In einem dokumentenorientierten NoSQL-Datenbanksystem sollen Kunden, Produkte und Bestellungen gespeichert werden. Dabei können pro Bestellung **mehrere Produkte in unterschiedlicher Anzahl** bestellt werden. Außerdem können Kunden Reviews zu den bestellten Produkten abgeben.\n",
    "\n",
    "\n",
    "Geplante Abfragen:\n",
    "\n",
    "- Es können neue Produkte hinzugefügt werden.\n",
    "- Die Preise der Produkte können verändert werden.\n",
    "- Produkte können entfernt werden.\n",
    "- Neue Kunde können angelegt werden.\n",
    "- Es kann nach Produkten gesucht werden. Zu den Produkten werden neben den Produktinformationen ebenfalls die 10 neuesten Reviews angezeigt.\n",
    "- Ein Kunde kann eine neue Bestellung aufgeben.\n",
    "- Ein Kunde kann Reviews über gekaufte Produkte schreiben.\n",
    "- Ein Kunde kann sich seine  Bestellungen innerhalb eines bestimmten Zeitraums anzeigen lassen. Das Gleiche gilt für Reviews.\n",
    "\n",
    "\n",
    "1. Erstellen Sie zunächst ein plattformunabhängiges (konzeptionelles) Modell (dieses Modell enthält noch keine Fremdschlüssel, Einbettungen und Datentypen). Modellieren Sie außerdem folgende Attribute: Kunden haben einen Namen und Vornamen. Bestellungen haben ein Datum. Produkte haben einen Titel, einen Preis und eine Beschreibung. Reviews enthalten den Text und ein Datum.\n",
    "2. Skizzieren Sie anschließend ein geeignetes Datenmodell für die Speicherung in einem dokumentenorientierten Datenbanksystem. Begründen Sie ihre Entscheidungen für Referenzierungen, Einbettungen und redundante Speicherung bzw. Einbettung. Heben Sie redundante- und Fremdschlüssel-Attribute farblich hervor.\n",
    "\n",
    "[example here](https://i.stack.imgur.com/mNgza.png)"
   ]
  },
  {
   "cell_type": "raw",
   "id": "b135cda1",
   "metadata": {},
   "source": [
    "1. Platformunabhängiges (konzeptionelles) Modell:"
   ]
  },
  {
   "cell_type": "code",
   "execution_count": 52,
   "id": "93d86cb9",
   "metadata": {},
   "outputs": [
    {
     "data": {
      "image/svg+xml": [
       "<svg xmlns=\"http://www.w3.org/2000/svg\" xmlns:xlink=\"http://www.w3.org/1999/xlink\" contentStyleType=\"text/css\" height=\"371px\" preserveAspectRatio=\"none\" style=\"width:874px;height:371px;background:#FFFFFF;\" version=\"1.1\" viewBox=\"0 0 874 371\" width=\"874px\" zoomAndPan=\"magnify\"><defs/><g><!--class db--><g id=\"elem_db\"><rect codeLine=\"7\" fill=\"#F1F1F1\" height=\"123.7813\" id=\"db\" rx=\"2.5\" ry=\"2.5\" style=\"stroke:#181818;stroke-width:0.5;\" width=\"355\" x=\"7\" y=\"7\"/><text fill=\"#000000\" font-family=\"sans-serif\" font-size=\"14\" lengthAdjust=\"spacing\" textLength=\"80\" x=\"144.5\" y=\"24.9951\">Datenbank</text><line style=\"stroke:#181818;stroke-width:0.5;\" x1=\"8\" x2=\"361\" y1=\"33.2969\" y2=\"33.2969\"/><line style=\"stroke:#181818;stroke-width:0.5;\" x1=\"8\" x2=\"361\" y1=\"41.2969\" y2=\"41.2969\"/><text fill=\"#000000\" font-family=\"sans-serif\" font-size=\"14\" lengthAdjust=\"spacing\" textLength=\"267\" x=\"13\" y=\"58.292\">+void change_price(new_price: float)</text><text fill=\"#000000\" font-family=\"sans-serif\" font-size=\"14\" lengthAdjust=\"spacing\" textLength=\"190\" x=\"13\" y=\"74.5889\">+add_product(p : Product)</text><text fill=\"#000000\" font-family=\"sans-serif\" font-size=\"14\" lengthAdjust=\"spacing\" textLength=\"219\" x=\"13\" y=\"90.8857\">+remove_product(p : Product)</text><text fill=\"#000000\" font-family=\"sans-serif\" font-size=\"14\" lengthAdjust=\"spacing\" textLength=\"343\" x=\"13\" y=\"107.1826\">+Product[] look_up_products(search_text: text)</text><text fill=\"#000000\" font-family=\"sans-serif\" font-size=\"14\" lengthAdjust=\"spacing\" textLength=\"165\" x=\"13\" y=\"123.4795\">+add_kunde(k : Kunde)</text></g><!--class p--><g id=\"elem_p\"><rect codeLine=\"15\" fill=\"#F1F1F1\" height=\"123.7813\" id=\"p\" rx=\"2.5\" ry=\"2.5\" style=\"stroke:#181818;stroke-width:0.5;\" width=\"275\" x=\"542\" y=\"224\"/><text fill=\"#000000\" font-family=\"sans-serif\" font-size=\"14\" lengthAdjust=\"spacing\" textLength=\"57\" x=\"651\" y=\"241.9951\">Produkt</text><line style=\"stroke:#181818;stroke-width:0.5;\" x1=\"543\" x2=\"816\" y1=\"250.2969\" y2=\"250.2969\"/><text fill=\"#000000\" font-family=\"sans-serif\" font-size=\"14\" lengthAdjust=\"spacing\" textLength=\"7\" x=\"548\" y=\"267.292\">*</text><text fill=\"#0000FF\" font-family=\"sans-serif\" font-size=\"14\" font-weight=\"bold\" lengthAdjust=\"spacing\" textLength=\"158\" x=\"555\" y=\"267.292\">product_id: int«PK»</text><text fill=\"#000000\" font-family=\"sans-serif\" font-size=\"14\" lengthAdjust=\"spacing\" textLength=\"78\" x=\"548\" y=\"283.5889\">*title: text</text><text fill=\"#000000\" font-family=\"sans-serif\" font-size=\"14\" lengthAdjust=\"spacing\" textLength=\"129\" x=\"548\" y=\"299.8857\">*description: text</text><text fill=\"#000000\" font-family=\"sans-serif\" font-size=\"14\" lengthAdjust=\"spacing\" textLength=\"87\" x=\"548\" y=\"316.1826\">*price: float</text><line style=\"stroke:#181818;stroke-width:0.5;\" x1=\"543\" x2=\"816\" y1=\"323.4844\" y2=\"323.4844\"/><text fill=\"#000000\" font-family=\"sans-serif\" font-size=\"14\" lengthAdjust=\"spacing\" textLength=\"263\" x=\"548\" y=\"340.4795\">*void change_price(new_price: float)</text></g><!--class b--><g id=\"elem_b\"><rect codeLine=\"23\" fill=\"#F1F1F1\" height=\"107.4844\" id=\"b\" rx=\"2.5\" ry=\"2.5\" style=\"stroke:#181818;stroke-width:0.5;\" width=\"189\" x=\"397\" y=\"15.5\"/><text fill=\"#000000\" font-family=\"sans-serif\" font-size=\"14\" lengthAdjust=\"spacing\" textLength=\"76\" x=\"453.5\" y=\"33.4951\">Bestellung</text><line style=\"stroke:#181818;stroke-width:0.5;\" x1=\"398\" x2=\"585\" y1=\"41.7969\" y2=\"41.7969\"/><text fill=\"#000000\" font-family=\"sans-serif\" font-size=\"14\" lengthAdjust=\"spacing\" textLength=\"7\" x=\"403\" y=\"58.792\">*</text><text fill=\"#0000FF\" font-family=\"sans-serif\" font-size=\"14\" font-weight=\"bold\" lengthAdjust=\"spacing\" textLength=\"137\" x=\"410\" y=\"58.792\">order_id: int«PK»</text><text fill=\"#000000\" font-family=\"sans-serif\" font-size=\"14\" lengthAdjust=\"spacing\" textLength=\"7\" x=\"403\" y=\"75.0889\">*</text><text fill=\"#FF6347\" font-family=\"sans-serif\" font-size=\"14\" font-weight=\"bold\" lengthAdjust=\"spacing\" textLength=\"157\" x=\"410\" y=\"75.0889\">product_id: int«FK»</text><text fill=\"#000000\" font-family=\"sans-serif\" font-size=\"14\" lengthAdjust=\"spacing\" textLength=\"7\" x=\"403\" y=\"91.3857\">*</text><text fill=\"#FF6347\" font-family=\"sans-serif\" font-size=\"14\" font-weight=\"bold\" lengthAdjust=\"spacing\" textLength=\"170\" x=\"410\" y=\"91.3857\">costumer_id: int«FK»</text><text fill=\"#000000\" font-family=\"sans-serif\" font-size=\"14\" lengthAdjust=\"spacing\" textLength=\"128\" x=\"403\" y=\"107.6826\">*order_date: date</text><line style=\"stroke:#181818;stroke-width:0.5;\" x1=\"398\" x2=\"585\" y1=\"114.9844\" y2=\"114.9844\"/></g><!--class k--><g id=\"elem_k\"><rect codeLine=\"30\" fill=\"#F1F1F1\" height=\"156.375\" id=\"k\" rx=\"2.5\" ry=\"2.5\" style=\"stroke:#181818;stroke-width:0.5;\" width=\"278\" x=\"45.5\" y=\"208\"/><text fill=\"#000000\" font-family=\"sans-serif\" font-size=\"14\" lengthAdjust=\"spacing\" textLength=\"45\" x=\"162\" y=\"225.9951\">Kunde</text><line style=\"stroke:#181818;stroke-width:0.5;\" x1=\"46.5\" x2=\"322.5\" y1=\"234.2969\" y2=\"234.2969\"/><text fill=\"#000000\" font-family=\"sans-serif\" font-size=\"14\" lengthAdjust=\"spacing\" textLength=\"7\" x=\"51.5\" y=\"251.292\">*</text><text fill=\"#0000FF\" font-family=\"sans-serif\" font-size=\"14\" font-weight=\"bold\" lengthAdjust=\"spacing\" textLength=\"87\" x=\"58.5\" y=\"251.292\">id: int«PK»</text><text fill=\"#000000\" font-family=\"sans-serif\" font-size=\"14\" lengthAdjust=\"spacing\" textLength=\"88\" x=\"51.5\" y=\"267.5889\">*Name: text</text><text fill=\"#000000\" font-family=\"sans-serif\" font-size=\"14\" lengthAdjust=\"spacing\" textLength=\"108\" x=\"51.5\" y=\"283.8857\">*forname: text</text><line style=\"stroke:#181818;stroke-width:0.5;\" x1=\"46.5\" x2=\"322.5\" y1=\"291.1875\" y2=\"291.1875\"/><text fill=\"#000000\" font-family=\"sans-serif\" font-size=\"14\" lengthAdjust=\"spacing\" textLength=\"159\" x=\"51.5\" y=\"308.1826\">*put_order(p Produkt)</text><text fill=\"#000000\" font-family=\"sans-serif\" font-size=\"14\" lengthAdjust=\"spacing\" textLength=\"266\" x=\"51.5\" y=\"324.4795\">*write_review(p : Produkt, r : Review)</text><text fill=\"#000000\" font-family=\"sans-serif\" font-size=\"14\" lengthAdjust=\"spacing\" textLength=\"95\" x=\"51.5\" y=\"340.7764\">*see_orders()</text><text fill=\"#000000\" font-family=\"sans-serif\" font-size=\"14\" lengthAdjust=\"spacing\" textLength=\"103\" x=\"51.5\" y=\"357.0732\">*see_reviews()</text></g><!--class r--><g id=\"elem_r\"><rect codeLine=\"40\" fill=\"#F1F1F1\" height=\"74.8906\" id=\"r\" rx=\"2.5\" ry=\"2.5\" style=\"stroke:#181818;stroke-width:0.5;\" width=\"148\" x=\"358.5\" y=\"248.5\"/><text fill=\"#000000\" font-family=\"sans-serif\" font-size=\"14\" lengthAdjust=\"spacing\" textLength=\"51\" x=\"407\" y=\"266.4951\">Review</text><line style=\"stroke:#181818;stroke-width:0.5;\" x1=\"359.5\" x2=\"505.5\" y1=\"274.7969\" y2=\"274.7969\"/><text fill=\"#000000\" font-family=\"sans-serif\" font-size=\"14\" lengthAdjust=\"spacing\" textLength=\"132\" x=\"364.5\" y=\"291.792\">*review_text: text</text><text fill=\"#000000\" font-family=\"sans-serif\" font-size=\"14\" lengthAdjust=\"spacing\" textLength=\"136\" x=\"364.5\" y=\"308.0889\">*review_date: date</text><line style=\"stroke:#181818;stroke-width:0.5;\" x1=\"359.5\" x2=\"505.5\" y1=\"315.3906\" y2=\"315.3906\"/></g><!--class d--><g id=\"elem_d\"><rect fill=\"#F1F1F1\" height=\"42.2969\" id=\"d\" rx=\"2.5\" ry=\"2.5\" style=\"stroke:#181818;stroke-width:0.5;\" width=\"15\" x=\"762\" y=\"48\"/><text fill=\"#000000\" font-family=\"sans-serif\" font-size=\"14\" lengthAdjust=\"spacing\" textLength=\"9\" x=\"765\" y=\"65.9951\">d</text><line style=\"stroke:#181818;stroke-width:0.5;\" x1=\"763\" x2=\"776\" y1=\"74.2969\" y2=\"74.2969\"/><line style=\"stroke:#181818;stroke-width:0.5;\" x1=\"763\" x2=\"776\" y1=\"82.2969\" y2=\"82.2969\"/></g><!--class e--><g id=\"elem_e\"><rect fill=\"#F1F1F1\" height=\"42.2969\" id=\"e\" rx=\"2.5\" ry=\"2.5\" style=\"stroke:#181818;stroke-width:0.5;\" width=\"15\" x=\"852\" y=\"265\"/><text fill=\"#000000\" font-family=\"sans-serif\" font-size=\"14\" lengthAdjust=\"spacing\" textLength=\"9\" x=\"855\" y=\"282.9951\">e</text><line style=\"stroke:#181818;stroke-width:0.5;\" x1=\"853\" x2=\"866\" y1=\"291.2969\" y2=\"291.2969\"/><line style=\"stroke:#181818;stroke-width:0.5;\" x1=\"853\" x2=\"866\" y1=\"299.2969\" y2=\"299.2969\"/></g><!--link d to e--><g id=\"link_d_e\"><path codeLine=\"45\" d=\"M777.147,84.637 C789.988,109.545 816.266,161.956 834.5,208 C842.004,226.948 849.027,249.134 853.708,264.8117 \" fill=\"none\" id=\"d-e\" style=\"stroke:#181818;stroke-width:1.0;\"/><polygon fill=\"#000000\" points=\"829.4554,174.1682,828.6229,164.6941,823.2132,166.9929,829.4554,174.1682\" style=\"stroke:#000000;stroke-width:1.0;\"/><text fill=\"#000000\" font-family=\"sans-serif\" font-size=\"13\" lengthAdjust=\"spacing\" textLength=\"23\" x=\"836.5\" y=\"174.0669\">has</text><text fill=\"#000000\" font-family=\"sans-serif\" font-size=\"13\" lengthAdjust=\"spacing\" textLength=\"8\" x=\"784.8631\" y=\"87.0403\">1</text><text fill=\"#000000\" font-family=\"sans-serif\" font-size=\"13\" lengthAdjust=\"spacing\" textLength=\"23\" x=\"825.8446\" y=\"253.7873\">0..*</text></g><!--link d to p--><g id=\"link_d_p\"><path codeLine=\"46\" d=\"M761.981,87.961 C749.603,117.532 724.38,177.786 705.068,223.921 \" fill=\"none\" id=\"d-p\" style=\"stroke:#181818;stroke-width:1.0;\"/><polygon fill=\"#000000\" points=\"733.5693,174.1786,739.7729,166.9699,734.351,164.7002,733.5693,174.1786\" style=\"stroke:#000000;stroke-width:1.0;\"/><text fill=\"#000000\" font-family=\"sans-serif\" font-size=\"13\" lengthAdjust=\"spacing\" textLength=\"23\" x=\"744.5\" y=\"174.0669\">has</text><text fill=\"#000000\" font-family=\"sans-serif\" font-size=\"13\" lengthAdjust=\"spacing\" textLength=\"8\" x=\"746.0617\" y=\"92.8509\">1</text><text fill=\"#000000\" font-family=\"sans-serif\" font-size=\"13\" lengthAdjust=\"spacing\" textLength=\"23\" x=\"683.6946\" y=\"212.9631\">0..*</text></g><!--SRC=[ZLBRIiGm47tlLmnzwgxtrx8iA2A88AA-YPGqcRMXQLAIwQue_hlP9EjslUSXPCxSpfbC8mK2bvOhp5nZLj1XLwDrqLX8LC9bcMkbxfbb7N35d3ibih8U22-vqNVo1U4uou87ydD6g6kcsnoO0r73QmR-xC7II06yOVe9gzvAZeN6LNoLi526qIH5CY4yRiJ0gUYXX9luthWjTcQ9lqKay-4Hb35jDVIRO5SuP9Ot5U4pbR2-nqtRGGiiMb_mQlsQP6yViaB9beAeFccQmemRPMnPgm7dqsbgKabHWjGqczrSpJqyEmfHyvH3aXJ6tWaHwBYLFKcZT_3nR1Bqdo5kIP-X8rHgq4-1T_q3RsC5sZzOfunxqp4otscz-4yMDuw6RjpisxH8IFXDAc5zZoI5ZmbgsX_K_AxZcdMxmryOgpzZ_K1LuE2NAtty9BbMLX9M5fSILzlLQsaVh3Tk0xw9TOYnZ2l6K4nUOrjPCJ7eiX-wOk1eLtVntVa8o4zoE3Y0_FZmS9e3UZgDBpV_ukatddS0]--></g></svg>"
      ],
      "text/plain": [
       "<IPython.core.display.SVG object>"
      ]
     },
     "execution_count": 52,
     "metadata": {},
     "output_type": "execute_result"
    }
   ],
   "source": [
    "%%plantuml\n",
    "@startuml\n",
    "\n",
    "hide circle\n",
    "show members\n",
    "show fields\n",
    "\n",
    "skinparam classAttributeIconSize 0\n",
    "\n",
    "class \"Datenbank\" as db {\n",
    "    + void change_price(new_price: float)\n",
    "    + add_product(p : Product)\n",
    "    + remove_product(p : Product)\n",
    "    + Product[] look_up_products(search_text: text)\n",
    "    + add_kunde(k : Kunde)\n",
    "}\n",
    "\n",
    "class \"Produkt\" as p {\n",
    "    * <color:blue>**product_id: int<<PK>>**</color>\n",
    "    * title: text\n",
    "    * description: text\n",
    "    * price: float\n",
    "    * void change_price(new_price: float)\n",
    "}\n",
    "\n",
    "class \"Bestellung\" as b {\n",
    "    * <color:blue>**order_id: int<<PK>>**</color>\n",
    "    * <color:Tomato>**product_id: int<<FK>>**</color>\n",
    "    * <color:Tomato>**costumer_id: int<<FK>>**</color>\n",
    "    * order_date: date\n",
    "}\n",
    "\n",
    "class \"Kunde\" as k {\n",
    "    * <color:blue>**id: int<<PK>>**</color>\n",
    "    * Name: text\n",
    "    * forname: text\n",
    "    * put_order(p Produkt)\n",
    "    * write_review(p : Produkt, r : Review)\n",
    "    * see_orders()\n",
    "    * see_reviews()\n",
    "}\n",
    "\n",
    "class \"Review\" as r {\n",
    "    * review_text: text\n",
    "    * review_date: date\n",
    "}\n",
    "\n",
    "d \"1\" -- \"0..*\" e : has >\n",
    "d \"1\" -- \"0..*\" p : has >\n",
    "\n",
    "@enduml"
   ]
  },
  {
   "cell_type": "raw",
   "id": "eacdef20",
   "metadata": {},
   "source": [
    "2. Platformspezifisches Modell (dokumentorientiert):"
   ]
  },
  {
   "cell_type": "code",
   "execution_count": null,
   "id": "816fd48a",
   "metadata": {},
   "outputs": [],
   "source": []
  },
  {
   "cell_type": "raw",
   "id": "c8023d2e",
   "metadata": {},
   "source": [
    "Ihre Antwort (Designentscheidungen):\n",
    "When to embed:\n",
    "- Reads greatly outnumber writes.\n",
    "- You’re comfortable with the slim risk of inconsistent data across the multiple copies.\n",
    "- You’re optimising for speed of access.\n",
    "\n",
    "Advantages:\n",
    "Speed of access: embedding everything in one document means we need just one database look-up.\n",
    "Potentially greater fault tolerance at read time: in a distributed database our referred documents would live on multiple machines, so by embedding we’re introducing fewer opportunities for something to go wrong and we’re simplifying the application side.\n",
    "\n",
    "Disadvantages:\n",
    "- Inconsistency: if Steve wants to update his address after the order is made, we’re relying on:\n",
    "    - our application code to be robust enough to find every instance of his address in the database and update it\n",
    "    - nothing going wrong on the network, database side or elsewhere that would prevent the update completing fully.\n",
    "- Queryability: by making multiple copies of the same data, it could be harder to query on the data we replicate as we’ll have to filter out all of the embedded copies.\n",
    "- Size: you could end up with large documents consistening of lots of duplicated data.\n",
    "- More documents: this isn’t a major concern but it could have some impacts, such as the size of your cached working set."
   ]
  },
  {
   "cell_type": "raw",
   "id": "b5d2dfc5",
   "metadata": {},
   "source": [
    "When to refer:\n",
    "- Reads greatly outnumber writes.\n",
    "- You’re comfortable with the slim risk of inconsistent data across the multiple copies.\n",
    "- You’re optimising for speed of access.\n",
    "\n",
    "Advantages:\n",
    "- Consistency: we’re maintaining one canonical copy of Steve’s profile information and the stock item details.\n",
    "- Queryability: this time, when we query the data set we can be more sure that the results are the canonical versions of the data rather than embedded copies.\n",
    "- Better cache usage: as we’re accessing the canonical documents frequently, they’ll stay in our cache, rather than having multiple embedding copies that are accessed less frequently and so drop out of the cache.\n",
    "- More efficient hardware usage: embedding data gives us larger documents with multiple copies of the same data; referring helps reduce the disk and RAM our database needs.\n",
    "\n",
    "Disadvantages:\n",
    "- Multiple look-ups: this is mostly a consideration for cache misses, as the read time increases whenever we need to read from disk.\n",
    "- Consistency is enforced: referring to a canonical version of a document means updates to that document will be reflected in every context where it is used"
   ]
  },
  {
   "cell_type": "markdown",
   "id": "cd6b5dad",
   "metadata": {},
   "source": [
    "## Aufgabe 6 - Technologien für Big Data (5 Punkte)"
   ]
  },
  {
   "cell_type": "markdown",
   "id": "5d9be9bf",
   "metadata": {},
   "source": [
    "### Aufgabe 6.1 (2 Punkte)\n",
    "Warum eignen sich spaltenorientierte Datenbanksysteme sehr gut für analytische Anwendung wie beispielsweise Data Warehouses?"
   ]
  },
  {
   "cell_type": "raw",
   "id": "de0d4fc4",
   "metadata": {},
   "source": [
    "Ihre Antwort:"
   ]
  },
  {
   "cell_type": "markdown",
   "id": "4120a850",
   "metadata": {},
   "source": [
    "### Aufgabe 6.2 (1 Punkt)\n",
    "In einer Tabelle `Verkauf` mit Verkaufsdaten ist jeder Datensatz (jede Zeile) im Mittel 100 Bytes lang. Das Attribut `Filiale` belegt 5 Bytes. Wieviel Prozent der Daten müssen bei einer spaltenorientierten Speicherung im Vergleich zu einer zeilenorientierten Speicherung gelesen werden, wenn die folgende SQL-Query ausgeführt wird?\n",
    "\n",
    "`SELECT Filiale, COUNT(*) FROM Verkauf GROUP BY Filiale;`"
   ]
  },
  {
   "cell_type": "raw",
   "id": "144b9443",
   "metadata": {},
   "source": [
    "Ihre Antwort:"
   ]
  },
  {
   "cell_type": "markdown",
   "id": "88b4b568",
   "metadata": {},
   "source": [
    "### Aufgabe 6.3 (2 Punkte)\n",
    "Angenommen, Sie verwenden in einem Cluster mit *n* Servern für die Zuordnung der Daten mit Key *k* die Hashfunktion *k mod n*. Welche Probleme würden in diesem Szenario auftreten?"
   ]
  },
  {
   "cell_type": "raw",
   "id": "91febb36",
   "metadata": {},
   "source": [
    "Ihre Antwort:"
   ]
  }
 ],
 "metadata": {
  "kernelspec": {
   "display_name": "Python 3 (ipykernel)",
   "language": "python",
   "name": "python3"
  },
  "language_info": {
   "codemirror_mode": {
    "name": "ipython",
    "version": 3
   },
   "file_extension": ".py",
   "mimetype": "text/x-python",
   "name": "python",
   "nbconvert_exporter": "python",
   "pygments_lexer": "ipython3",
   "version": "3.11.3"
  },
  "toc": {
   "base_numbering": 1,
   "nav_menu": {},
   "number_sections": true,
   "sideBar": true,
   "skip_h1_title": true,
   "title_cell": "Table of Contents",
   "title_sidebar": "Contents",
   "toc_cell": false,
   "toc_position": {
    "height": "calc(100% - 180px)",
    "left": "10px",
    "top": "150px",
    "width": "384px"
   },
   "toc_section_display": true,
   "toc_window_display": true
  }
 },
 "nbformat": 4,
 "nbformat_minor": 5
}
