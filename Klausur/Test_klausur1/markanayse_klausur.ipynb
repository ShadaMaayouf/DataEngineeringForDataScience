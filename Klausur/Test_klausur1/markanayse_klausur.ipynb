{
 "cells": [
  {
   "cell_type": "raw",
   "id": "1b9fb232",
   "metadata": {},
   "source": [
    "Name:\n",
    "Matrikelnummer:"
   ]
  },
  {
   "cell_type": "markdown",
   "id": "989253d6",
   "metadata": {},
   "source": [
    "___"
   ]
  },
  {
   "cell_type": "markdown",
   "id": "f6388327",
   "metadata": {},
   "source": [
    "# Allgemeine Hinweise zur Klausur 01882 **Data Engineering für Data Science**\n",
    "> **_NOTE:_**  *Bitte lesen Sie sich diese Hinweise vor der Bearbeitung der Klausur aufmerksam durch.*\n",
    "\n",
    "- Die **Klausurdauer** beträgt **2 Stunden**.\n",
    "- Bevor Sie mit der Bearbeitung der Klausuraufgaben beginnen, tragen Sie bitte Ihre(n) **Nachnamen**, Ihre(n) **Vornamen** und Ihre **Matrikelnummer** in die vorgesehenen Felder (oben) ein.\n",
    "- Wie schon in den Übungsaufgaben erfolgt die Bearbeitung in zwei unterschiedliche Zell-Typen: In **Code-Zellen** sollen Sie (Python-)Code (bei Bedarf kommentiert) einfügen und ausführen. In **Raw-Zellen** erwarten wir eine Antwort in Textform.\n",
    "- Sollten bestimmte Fakten aus Ihrer Sicht nicht eindeutig formuliert sein, so schreiben Sie Ihre Annahmen zur Lösung dazu.\n",
    "- Denken Sie bei Plots an Titel, Achsenbeschriftung und bei Bedarf Legende.\n",
    "- Es empfiehlt sich, das Notebook, bzw. das daraus generierte PDF in regelmäßigen Abständen zu sichern. So müssen Sie nicht bei Null anfangen, sollte es unerwartetere Weise zu Software-Problemen kommen.\n",
    "- Diese Klausur ist eine sogenannte \"Open-Book-Klausur\", was bedeutet, dass Sie alle Vorlesungsunterlagen, etc. als Hilfsmittel verwenden dürfen. Es ist jedoch ausdrücklich **verboten**, dass Sie untereinander kommunizieren oder andere Personen zu Rate ziehen. "
   ]
  },
  {
   "cell_type": "markdown",
   "id": "56eaaa51",
   "metadata": {},
   "source": [
    "___"
   ]
  },
  {
   "cell_type": "code",
   "execution_count": 15,
   "id": "c6b3fc59",
   "metadata": {
    "ExecuteTime": {
     "end_time": "2024-02-18T22:14:10.856422Z",
     "start_time": "2024-02-18T22:14:10.687839Z"
    }
   },
   "outputs": [],
   "source": [
    "# Imports\n",
    "import pandas as pd\n",
    "import matplotlib.pyplot as plt\n",
    "import seaborn as sns\n",
    "import iplantuml\n",
    "import plantuml\n",
    "import numpy as np"
   ]
  },
  {
   "cell_type": "code",
   "execution_count": 16,
   "id": "6ad3317f",
   "metadata": {},
   "outputs": [],
   "source": [
    "from pyspark.sql import SparkSession\n",
    "import pyspark.sql.functions as f"
   ]
  },
  {
   "cell_type": "markdown",
   "id": "4ce46374",
   "metadata": {},
   "source": [
    "# Marktanalyse\n",
    "Ein fiktives Szenario: Die Geschwister Käfer besitzen bereits zwei Restaurants in der Stadt Pixhagen. Die beiden Restaurants laufen so gut, dass Sie überlegen, ob Sie ein neues Restaurant in Pixhagen eröffnen sollen und was für eine Art von Restaurant für die Pixhagener:innen von Interesse wäre. Für eine Marktanalyse schicken sie fünf Mitarbeiter:innen in die Stadt, um dort eine Umfrage durchzuführen. Am Tag nach der Umfrage werden Ihnen die Daten zur Verfügung gestellt. Dies ist der Inhalt der Klausur.\n",
    "\n",
    "Folgende Dokumente stehen Ihnen zur Verfügung:\n",
    "- *marktanalyse.csv* - Die Daten der Umfragen\n",
    "- *informationen.pdf* - Informationen zu der fiktiven Stadt Pixhagen, den Geschwistern Käfer sowie der Umfrage und den Daten\n",
    "- *umfrage.pdf* - Ein Muster des Umfragebogens, der den Mitarbeiter:innen zur Verfügung gestellt wurde\n",
    "- *anmerkungen.pdf* - Die Anmerkungen zur Umfrage der fünf Mitarbeiter:innen"
   ]
  },
  {
   "cell_type": "markdown",
   "id": "8659e2bc",
   "metadata": {},
   "source": [
    "## Aufgabe 1 - Datenqualität (17 Punkte)\n",
    "In der ersten Aufgabe geht es darum, sich mit den Daten vertraut zu machen und diese bzgl. ihrer Qualität zu analysieren."
   ]
  },
  {
   "cell_type": "markdown",
   "id": "297ba05b",
   "metadata": {},
   "source": [
    "### Aufgabe 1.1 Daten laden (1 Punkt)\n",
    "*Laden Sie die Daten (`marktanalyse.csv`) in ein DataFrame namens `df`.*"
   ]
  },
  {
   "cell_type": "code",
   "execution_count": 17,
   "id": "b97d2ef0",
   "metadata": {
    "ExecuteTime": {
     "end_time": "2023-01-26T17:00:06.492633Z",
     "start_time": "2023-01-26T17:00:06.480681Z"
    },
    "scrolled": true
   },
   "outputs": [
    {
     "data": {
      "text/html": [
       "<div>\n",
       "<style scoped>\n",
       "    .dataframe tbody tr th:only-of-type {\n",
       "        vertical-align: middle;\n",
       "    }\n",
       "\n",
       "    .dataframe tbody tr th {\n",
       "        vertical-align: top;\n",
       "    }\n",
       "\n",
       "    .dataframe thead th {\n",
       "        text-align: right;\n",
       "    }\n",
       "</style>\n",
       "<table border=\"1\" class=\"dataframe\">\n",
       "  <thead>\n",
       "    <tr style=\"text-align: right;\">\n",
       "      <th></th>\n",
       "      <th>Nr.</th>\n",
       "      <th>MA</th>\n",
       "      <th>Geschlecht</th>\n",
       "      <th>Stadtteil</th>\n",
       "      <th>Ernaehrung</th>\n",
       "      <th>Einkommen</th>\n",
       "      <th>Budget</th>\n",
       "      <th>Besuche</th>\n",
       "      <th>Interesse</th>\n",
       "    </tr>\n",
       "  </thead>\n",
       "  <tbody>\n",
       "    <tr>\n",
       "      <th>0</th>\n",
       "      <td>1</td>\n",
       "      <td>Sara Hofmann</td>\n",
       "      <td>m</td>\n",
       "      <td>Nord</td>\n",
       "      <td>vegetarisch</td>\n",
       "      <td>NaN</td>\n",
       "      <td>25.0</td>\n",
       "      <td>1</td>\n",
       "      <td>1</td>\n",
       "    </tr>\n",
       "    <tr>\n",
       "      <th>1</th>\n",
       "      <td>2</td>\n",
       "      <td>Sara Hofmann</td>\n",
       "      <td>f</td>\n",
       "      <td>Nord</td>\n",
       "      <td>vegan</td>\n",
       "      <td>NaN</td>\n",
       "      <td>10.0</td>\n",
       "      <td>0</td>\n",
       "      <td>1</td>\n",
       "    </tr>\n",
       "    <tr>\n",
       "      <th>2</th>\n",
       "      <td>3</td>\n",
       "      <td>Sara Hofmann</td>\n",
       "      <td>m</td>\n",
       "      <td>Nord</td>\n",
       "      <td>vegetarisch</td>\n",
       "      <td>NaN</td>\n",
       "      <td>24.0</td>\n",
       "      <td>1</td>\n",
       "      <td>1</td>\n",
       "    </tr>\n",
       "    <tr>\n",
       "      <th>3</th>\n",
       "      <td>4</td>\n",
       "      <td>Sara Hofmann</td>\n",
       "      <td>m</td>\n",
       "      <td>Nord</td>\n",
       "      <td>vegetarisch</td>\n",
       "      <td>NaN</td>\n",
       "      <td>11.0</td>\n",
       "      <td>2</td>\n",
       "      <td>1</td>\n",
       "    </tr>\n",
       "    <tr>\n",
       "      <th>4</th>\n",
       "      <td>5</td>\n",
       "      <td>Sara Hofmann</td>\n",
       "      <td>m</td>\n",
       "      <td>West</td>\n",
       "      <td>vegan</td>\n",
       "      <td>53120.0</td>\n",
       "      <td>27.0</td>\n",
       "      <td>0</td>\n",
       "      <td>1</td>\n",
       "    </tr>\n",
       "    <tr>\n",
       "      <th>...</th>\n",
       "      <td>...</td>\n",
       "      <td>...</td>\n",
       "      <td>...</td>\n",
       "      <td>...</td>\n",
       "      <td>...</td>\n",
       "      <td>...</td>\n",
       "      <td>...</td>\n",
       "      <td>...</td>\n",
       "      <td>...</td>\n",
       "    </tr>\n",
       "    <tr>\n",
       "      <th>516</th>\n",
       "      <td>98</td>\n",
       "      <td>Layla Hawi</td>\n",
       "      <td>m</td>\n",
       "      <td>Ost</td>\n",
       "      <td>alles</td>\n",
       "      <td>0.0</td>\n",
       "      <td>17.0</td>\n",
       "      <td>0</td>\n",
       "      <td>0</td>\n",
       "    </tr>\n",
       "    <tr>\n",
       "      <th>517</th>\n",
       "      <td>99</td>\n",
       "      <td>Layla Hawi</td>\n",
       "      <td>w</td>\n",
       "      <td>Nord</td>\n",
       "      <td>vegan</td>\n",
       "      <td>0.0</td>\n",
       "      <td>29.0</td>\n",
       "      <td>2</td>\n",
       "      <td>1</td>\n",
       "    </tr>\n",
       "    <tr>\n",
       "      <th>518</th>\n",
       "      <td>100</td>\n",
       "      <td>Layla Hawi</td>\n",
       "      <td>w</td>\n",
       "      <td>Süd</td>\n",
       "      <td>alles</td>\n",
       "      <td>0.0</td>\n",
       "      <td>26.0</td>\n",
       "      <td>1</td>\n",
       "      <td>1</td>\n",
       "    </tr>\n",
       "    <tr>\n",
       "      <th>519</th>\n",
       "      <td>101</td>\n",
       "      <td>Layla Hawi</td>\n",
       "      <td>m</td>\n",
       "      <td>Nord</td>\n",
       "      <td>vegetarisch</td>\n",
       "      <td>0.0</td>\n",
       "      <td>38.0</td>\n",
       "      <td>0</td>\n",
       "      <td>1</td>\n",
       "    </tr>\n",
       "    <tr>\n",
       "      <th>520</th>\n",
       "      <td>102</td>\n",
       "      <td>Layla Hawi</td>\n",
       "      <td>m</td>\n",
       "      <td>Nord</td>\n",
       "      <td>vegetarisch</td>\n",
       "      <td>0.0</td>\n",
       "      <td>25.0</td>\n",
       "      <td>0</td>\n",
       "      <td>0</td>\n",
       "    </tr>\n",
       "  </tbody>\n",
       "</table>\n",
       "<p>521 rows × 9 columns</p>\n",
       "</div>"
      ],
      "text/plain": [
       "     Nr.            MA Geschlecht Stadtteil   Ernaehrung  Einkommen  Budget   \n",
       "0      1  Sara Hofmann          m      Nord  vegetarisch        NaN    25.0  \\\n",
       "1      2  Sara Hofmann          f      Nord        vegan        NaN    10.0   \n",
       "2      3  Sara Hofmann          m      Nord  vegetarisch        NaN    24.0   \n",
       "3      4  Sara Hofmann          m      Nord  vegetarisch        NaN    11.0   \n",
       "4      5  Sara Hofmann          m      West        vegan    53120.0    27.0   \n",
       "..   ...           ...        ...       ...          ...        ...     ...   \n",
       "516   98    Layla Hawi          m       Ost        alles        0.0    17.0   \n",
       "517   99    Layla Hawi          w      Nord        vegan        0.0    29.0   \n",
       "518  100    Layla Hawi          w       Süd        alles        0.0    26.0   \n",
       "519  101    Layla Hawi          m      Nord  vegetarisch        0.0    38.0   \n",
       "520  102    Layla Hawi          m      Nord  vegetarisch        0.0    25.0   \n",
       "\n",
       "     Besuche  Interesse  \n",
       "0          1          1  \n",
       "1          0          1  \n",
       "2          1          1  \n",
       "3          2          1  \n",
       "4          0          1  \n",
       "..       ...        ...  \n",
       "516        0          0  \n",
       "517        2          1  \n",
       "518        1          1  \n",
       "519        0          1  \n",
       "520        0          0  \n",
       "\n",
       "[521 rows x 9 columns]"
      ]
     },
     "execution_count": 17,
     "metadata": {},
     "output_type": "execute_result"
    }
   ],
   "source": [
    "df = pd.read_csv('.\\marktanalyse.csv')\n",
    "df"
   ]
  },
  {
   "cell_type": "markdown",
   "id": "b050095a",
   "metadata": {},
   "source": [
    "### Aufgabe 1.2 Data Integrity (10 Punkte)\n",
    "Machen Sie sich mit den Daten vertraut.\n",
    "\n",
    "*Beurteilen Sie die Daten anhand der 5 Kriterien für **Data Integrity**, die Sie im Buch von McGregor in Kapitel 3 als **Important** kennengelernt haben.*"
   ]
  },
  {
   "cell_type": "code",
   "execution_count": 18,
   "id": "30a51dfc",
   "metadata": {},
   "outputs": [
    {
     "data": {
      "text/plain": [
       "Nr.           False\n",
       "MA            False\n",
       "Geschlecht    False\n",
       "Stadtteil     False\n",
       "Ernaehrung     True\n",
       "Einkommen      True\n",
       "Budget        False\n",
       "Besuche       False\n",
       "Interesse     False\n",
       "dtype: bool"
      ]
     },
     "execution_count": 18,
     "metadata": {},
     "output_type": "execute_result"
    }
   ],
   "source": [
    "# complete\n",
    "df.isna().any()"
   ]
  },
  {
   "cell_type": "code",
   "execution_count": 19,
   "id": "2fe55490",
   "metadata": {},
   "outputs": [
    {
     "data": {
      "text/plain": [
       "3"
      ]
     },
     "execution_count": 19,
     "metadata": {},
     "output_type": "execute_result"
    }
   ],
   "source": [
    "df['Ernaehrung'].isnull().sum()"
   ]
  },
  {
   "cell_type": "code",
   "execution_count": 20,
   "id": "92267602",
   "metadata": {},
   "outputs": [
    {
     "data": {
      "text/html": [
       "<div>\n",
       "<style scoped>\n",
       "    .dataframe tbody tr th:only-of-type {\n",
       "        vertical-align: middle;\n",
       "    }\n",
       "\n",
       "    .dataframe tbody tr th {\n",
       "        vertical-align: top;\n",
       "    }\n",
       "\n",
       "    .dataframe thead th {\n",
       "        text-align: right;\n",
       "    }\n",
       "</style>\n",
       "<table border=\"1\" class=\"dataframe\">\n",
       "  <thead>\n",
       "    <tr style=\"text-align: right;\">\n",
       "      <th></th>\n",
       "      <th>Nr.</th>\n",
       "      <th>MA</th>\n",
       "      <th>Geschlecht</th>\n",
       "      <th>Stadtteil</th>\n",
       "      <th>Ernaehrung</th>\n",
       "      <th>Einkommen</th>\n",
       "      <th>Budget</th>\n",
       "      <th>Besuche</th>\n",
       "      <th>Interesse</th>\n",
       "    </tr>\n",
       "  </thead>\n",
       "  <tbody>\n",
       "    <tr>\n",
       "      <th>70</th>\n",
       "      <td>71</td>\n",
       "      <td>Sara Hofmann</td>\n",
       "      <td>f</td>\n",
       "      <td>Nord</td>\n",
       "      <td>NaN</td>\n",
       "      <td>NaN</td>\n",
       "      <td>27.0</td>\n",
       "      <td>1</td>\n",
       "      <td>1</td>\n",
       "    </tr>\n",
       "    <tr>\n",
       "      <th>397</th>\n",
       "      <td>75</td>\n",
       "      <td>Fadil Mebarek</td>\n",
       "      <td>Weiblich</td>\n",
       "      <td>West</td>\n",
       "      <td>NaN</td>\n",
       "      <td>NaN</td>\n",
       "      <td>15.0</td>\n",
       "      <td>0</td>\n",
       "      <td>1</td>\n",
       "    </tr>\n",
       "    <tr>\n",
       "      <th>441</th>\n",
       "      <td>23</td>\n",
       "      <td>Layla Hawi</td>\n",
       "      <td>w</td>\n",
       "      <td>West</td>\n",
       "      <td>NaN</td>\n",
       "      <td>0.0</td>\n",
       "      <td>14.0</td>\n",
       "      <td>0</td>\n",
       "      <td>1</td>\n",
       "    </tr>\n",
       "  </tbody>\n",
       "</table>\n",
       "</div>"
      ],
      "text/plain": [
       "     Nr.             MA Geschlecht Stadtteil Ernaehrung  Einkommen  Budget   \n",
       "70    71   Sara Hofmann          f      Nord        NaN        NaN    27.0  \\\n",
       "397   75  Fadil Mebarek   Weiblich      West        NaN        NaN    15.0   \n",
       "441   23     Layla Hawi          w      West        NaN        0.0    14.0   \n",
       "\n",
       "     Besuche  Interesse  \n",
       "70         1          1  \n",
       "397        0          1  \n",
       "441        0          1  "
      ]
     },
     "execution_count": 20,
     "metadata": {},
     "output_type": "execute_result"
    }
   ],
   "source": [
    "df[df['Ernaehrung'].isnull()]"
   ]
  },
  {
   "cell_type": "code",
   "execution_count": 21,
   "id": "b779cbbc",
   "metadata": {},
   "outputs": [
    {
     "data": {
      "text/plain": [
       "311"
      ]
     },
     "execution_count": 21,
     "metadata": {},
     "output_type": "execute_result"
    }
   ],
   "source": [
    "df['Einkommen'].isnull().sum()"
   ]
  },
  {
   "cell_type": "code",
   "execution_count": 22,
   "id": "894e24f6",
   "metadata": {},
   "outputs": [
    {
     "name": "stdout",
     "output_type": "stream",
     "text": [
      "Gibt es fehlende Werte? \n",
      "Nr.           False\n",
      "MA            False\n",
      "Geschlecht    False\n",
      "Stadtteil     False\n",
      "Ernaehrung     True\n",
      "Einkommen      True\n",
      "Budget        False\n",
      "Besuche       False\n",
      "Interesse     False\n",
      "dtype: bool\n",
      "fehlende Werte pro Spalte? \n",
      "Nr.             0\n",
      "MA              0\n",
      "Geschlecht      0\n",
      "Stadtteil       0\n",
      "Ernaehrung      3\n",
      "Einkommen     311\n",
      "Budget          0\n",
      "Besuche         0\n",
      "Interesse       0\n",
      "dtype: int64\n"
     ]
    }
   ],
   "source": [
    "check = df.isnull()\n",
    "\n",
    "if(check.values.any()):\n",
    "    print(\"Gibt es fehlende Werte? \\n\"+str(check.any())); \n",
    "    print(\"fehlende Werte pro Spalte? \\n\"+str(check.sum()))\n",
    "else: print(\"Es gibt keine fehlenden Werte? \\n\")"
   ]
  },
  {
   "cell_type": "code",
   "execution_count": 23,
   "id": "51a4ea0d",
   "metadata": {},
   "outputs": [
    {
     "data": {
      "text/plain": [
       "521"
      ]
     },
     "execution_count": 23,
     "metadata": {},
     "output_type": "execute_result"
    }
   ],
   "source": [
    "#high volume\n",
    "len(df)"
   ]
  },
  {
   "cell_type": "code",
   "execution_count": 24,
   "id": "3f2c17f1",
   "metadata": {},
   "outputs": [
    {
     "data": {
      "text/plain": [
       "MA\n",
       "Sara Hofmann       121\n",
       "Karin Storch       103\n",
       "Layla Hawi         102\n",
       "Oliver Gonzalez     99\n",
       "Fadil Mebarek       96\n",
       "Name: count, dtype: int64"
      ]
     },
     "execution_count": 24,
     "metadata": {},
     "output_type": "execute_result"
    }
   ],
   "source": [
    "df['MA'].value_counts()"
   ]
  },
  {
   "cell_type": "code",
   "execution_count": 25,
   "id": "2e20dcc2",
   "metadata": {},
   "outputs": [
    {
     "data": {
      "text/plain": [
       "Stadtteil\n",
       "Nord    185\n",
       "West    129\n",
       "Süd     121\n",
       "Ost      86\n",
       "Name: count, dtype: int64"
      ]
     },
     "execution_count": 25,
     "metadata": {},
     "output_type": "execute_result"
    }
   ],
   "source": [
    "df['Stadtteil'].value_counts()"
   ]
  },
  {
   "cell_type": "code",
   "execution_count": 26,
   "id": "6287c7e7",
   "metadata": {},
   "outputs": [],
   "source": [
    "#multivariant"
   ]
  },
  {
   "cell_type": "code",
   "execution_count": 27,
   "id": "f07ff7e6",
   "metadata": {},
   "outputs": [
    {
     "name": "stdout",
     "output_type": "stream",
     "text": [
      "Der Datensatz ist multivariant mit  9  Variablen.\n"
     ]
    }
   ],
   "source": [
    "# Check the number of variables (columns) in the dataset\n",
    "\n",
    "if df.shape[1] > 1:\n",
    "    print(\"Der Datensatz ist multivariant mit \", df.shape[1], \" Variablen.\")\n",
    "else:\n",
    "    print(\"Der Datensatz ist nicht multivariant.\")"
   ]
  },
  {
   "cell_type": "code",
   "execution_count": 28,
   "id": "d39a9277",
   "metadata": {
    "scrolled": false
   },
   "outputs": [
    {
     "data": {
      "image/png": "[encoded data removed]",
      "text/plain": [
       "<Figure size 640x480 with 2 Axes>"
      ]
     },
     "metadata": {},
     "output_type": "display_data"
    }
   ],
   "source": [
    "# Nur numerische Spalten auswählen\n",
    "numerical_df = df.select_dtypes(include=[np.number])\n",
    "\n",
    "# Korrelationsmatrix erstellen\n",
    "corr = numerical_df.corr()\n",
    "\n",
    "# Korrelationsmatrix anzeigen\n",
    "sns.heatmap(corr, annot=True, cmap='coolwarm')\n",
    "plt.show()\n"
   ]
  },
  {
   "cell_type": "code",
   "execution_count": 29,
   "id": "b951ce47",
   "metadata": {},
   "outputs": [
    {
     "name": "stdout",
     "output_type": "stream",
     "text": [
      "True\n"
     ]
    }
   ],
   "source": [
    "#atomic\n",
    "\n",
    "def is_atomic(df):\n",
    "    for column in df.columns:\n",
    "        \n",
    "        if df[column].apply(lambda x: isinstance(x, (list, dict))).any():\n",
    "            return False\n",
    "    return True\n",
    "\n",
    "#überprüft,ob ein Element in der Spalte eine Instanz einer Liste oder eines dictionarys ist\n",
    "print(is_atomic(df))"
   ]
  },
  {
   "cell_type": "code",
   "execution_count": 30,
   "id": "584bc9c1",
   "metadata": {},
   "outputs": [
    {
     "data": {
      "text/plain": [
       "array(['Sara Hofmann', 'Oliver Gonzalez', 'Karin Storch', 'Fadil Mebarek',\n",
       "       'Layla Hawi'], dtype=object)"
      ]
     },
     "execution_count": 30,
     "metadata": {},
     "output_type": "execute_result"
    }
   ],
   "source": [
    "unique_values = df['MA'].unique()\n",
    "unique_values"
   ]
  },
  {
   "cell_type": "code",
   "execution_count": 31,
   "id": "542898b0",
   "metadata": {},
   "outputs": [
    {
     "name": "stdout",
     "output_type": "stream",
     "text": [
      "   Nr.            MA Geschlecht Stadtteil   Ernaehrung  Einkommen  Budget   \n",
      "0    1  Sara Hofmann          m      Nord  vegetarisch        NaN    25.0  \\\n",
      "1    2  Sara Hofmann          f      Nord        vegan        NaN    10.0   \n",
      "2    3  Sara Hofmann          m      Nord  vegetarisch        NaN    24.0   \n",
      "3    4  Sara Hofmann          m      Nord  vegetarisch        NaN    11.0   \n",
      "4    5  Sara Hofmann          m      West        vegan    53120.0    27.0   \n",
      "\n",
      "   Besuche  Interesse  \n",
      "0        1          1  \n",
      "1        0          1  \n",
      "2        1          1  \n",
      "3        2          1  \n",
      "4        0          1  \n",
      "     Nr.               MA Geschlecht Stadtteil   Ernaehrung  Einkommen   \n",
      "121    1  Oliver Gonzalez   Weiblich       Süd        alles        0.0  \\\n",
      "122    2  Oliver Gonzalez   Männlich       Süd        alles        0.0   \n",
      "123    3  Oliver Gonzalez   Weiblich       Süd        alles        0.0   \n",
      "124    4  Oliver Gonzalez   Männlich       Süd  vegetarisch        0.0   \n",
      "125    5  Oliver Gonzalez   Männlich       Süd        alles        0.0   \n",
      "\n",
      "     Budget  Besuche  Interesse  \n",
      "121    23.0        0          0  \n",
      "122    39.0        0          1  \n",
      "123    26.0        0          0  \n",
      "124    20.0        0          0  \n",
      "125    21.0        2          0  \n",
      "     Nr.            MA Geschlecht Stadtteil   Ernaehrung  Einkommen  Budget   \n",
      "220    1  Karin Storch   Weiblich       Süd        alles        NaN    22.0  \\\n",
      "221    2  Karin Storch   Männlich       Ost  vegetarisch        NaN    30.0   \n",
      "222    3  Karin Storch   Weiblich      Nord  vegetarisch        NaN    17.0   \n",
      "223    4  Karin Storch   Männlich      West        alles        NaN    23.0   \n",
      "224    5  Karin Storch   Männlich      West        alles        NaN    16.0   \n",
      "\n",
      "     Besuche  Interesse  \n",
      "220        1          1  \n",
      "221        0          0  \n",
      "222        0          1  \n",
      "223        2          0  \n",
      "224        0          1  \n",
      "     Nr.             MA Geschlecht Stadtteil   Ernaehrung  Einkommen  Budget   \n",
      "323    1  Fadil Mebarek   Männlich      West        alles        NaN    17.0  \\\n",
      "324    2  Fadil Mebarek   Männlich      West        alles        NaN    30.0   \n",
      "325    3  Fadil Mebarek   Männlich       Ost        alles        NaN    23.0   \n",
      "326    4  Fadil Mebarek   Weiblich      Nord  vegetarisch        NaN    14.0   \n",
      "327    5  Fadil Mebarek   Weiblich      West        alles        NaN    14.0   \n",
      "\n",
      "     Besuche  Interesse  \n",
      "323        0          1  \n",
      "324        0          0  \n",
      "325        0          1  \n",
      "326        0          1  \n",
      "327        0          1  \n",
      "     Nr.          MA Geschlecht Stadtteil   Ernaehrung  Einkommen  Budget   \n",
      "419    1  Layla Hawi          m      Nord  vegetarisch        0.0    31.0  \\\n",
      "420    2  Layla Hawi          m      West        alles        0.0    25.0   \n",
      "421    3  Layla Hawi          m      Nord  vegetarisch        0.0    13.0   \n",
      "422    4  Layla Hawi          m      West  vegetarisch        0.0    32.0   \n",
      "423    5  Layla Hawi          m      Nord  vegetarisch        0.0    21.0   \n",
      "\n",
      "     Besuche  Interesse  \n",
      "419        1          0  \n",
      "420        2          1  \n",
      "421        0          0  \n",
      "422        0          1  \n",
      "423        1          1  \n"
     ]
    }
   ],
   "source": [
    "for value in unique_values:\n",
    "    subset = df[df['MA'] == value]\n",
    "    print(subset.head(5))"
   ]
  },
  {
   "cell_type": "code",
   "execution_count": null,
   "id": "51f3e7b4",
   "metadata": {},
   "outputs": [],
   "source": []
  },
  {
   "cell_type": "raw",
   "id": "03d91f9c",
   "metadata": {},
   "source": [
    "1. Timely:\n",
    "Ohne zusätzliche Informationen wie das Datum der Umfrage oder den Zeitraum, in dem die Daten gesammelt wurden, ist es schwierig zu beurteilen, ob die Daten “timely” sind. Die Information, dass einer der restaurants vor drei Jahren eröffnet wurde, gibt uns einen Anhaltspunkt, aber es lässt sich nicht direkt ableiten, wann genau die Daten gesammelt wurden. \n",
    "\n",
    "2. High volume:\n",
    "Die Mitarbeiter haben insgesamt 521 Personen befragt, verteilt auf die vier Stadtteile. iese Verteilung scheint nicht gleichmäßig zu sein, da der Stadtteil Nord mehr Befragte hat als die anderen Stadtteile, , während stadtteil ost vielweniger befragten hat. Wenn die Bevölkerung in den Stadtteilen jedoch stark variiert, könnte diese Verteilung repräsentativ sein. Karin hat erwähnt dass die wenigsrten ihrere befragten aus der Oststadt kommen.\n",
    "\n",
    "3. completeness: Der Datensatz scheint in den meisten Spalten vollständig zu sein, mit Ausnahme der Spalte “Einkommen”, in der 311 Werte fehlen undd der spalte Ernahrung mit 3 fehleneden werten. Das jährliche Einkommen der Befragten kann ein wichtiger Faktor für die Entscheidung über eine Restauranteröffnung sein, da es einen Einblick in die Kaufkraft der potenziellen Kunden gibt. Mann könnte überlegen ob es Möglichkeiten gibt, diese fehlenden Werte zu ersetzen oder zu schätzen, oder ob man die Analyse auf die Teilmenge der Daten beschränken, die diese Information enthält.\n",
    "\n",
    "4. Multivariant: Der Datensatz enthält 8 Variablen.\n",
    "\n",
    "5. atomic: Größtenteils gegegeben (keine Aggregation) im allgemeinen enthält der datensatz keine zusammengesetzten werte wie Listen oder dictionaries. Allerdings gibt es im Datensatz mehrere Zeilen für jeden Mitarbeiter (z.B. “Sara Hofmann”) mit unterschiedlichen Werten für andere Attribute wie “Geschlecht”, “Stadtteil”, “Ernährung” usw. Ein atomarer Datensatz würde erfordern, dass jede Zeile eindeutige Informationen enthält und keine Duplikate vorhanden sind. Man könnte das lösen in dem man die Spalte MA komplett löscht da sie keinen Mehrwert zur Datenanalyse bringt."
   ]
  },
  {
   "cell_type": "markdown",
   "id": "c1f0ca72",
   "metadata": {},
   "source": [
    "### Aufgabe 1.3 Data Fit (4 Punkte)\n",
    "*Beurteilen Sie, ob die Daten Ihrer Meinung nach geeignet sind, um eine Entscheidung über ein neues Restaurant zu treffen. Welche Informationen aus den Daten sind hilfreich und welche nicht? Welche weiteren Informationen wären ggf. notwendig?*"
   ]
  },
  {
   "cell_type": "code",
   "execution_count": 39,
   "id": "292b526a",
   "metadata": {
    "ExecuteTime": {
     "end_time": "2023-01-26T17:00:06.505904Z",
     "start_time": "2023-01-26T17:00:06.502641Z"
    }
   },
   "outputs": [
    {
     "data": {
      "text/plain": [
       "Stadtteil\n",
       "Nord    185\n",
       "West    129\n",
       "Süd     121\n",
       "Ost      86\n",
       "Name: count, dtype: int64"
      ]
     },
     "execution_count": 39,
     "metadata": {},
     "output_type": "execute_result"
    }
   ],
   "source": []
  },
  {
   "cell_type": "code",
   "execution_count": null,
   "id": "e43360c9",
   "metadata": {},
   "outputs": [],
   "source": []
  },
  {
   "cell_type": "code",
   "execution_count": null,
   "id": "3461bfeb",
   "metadata": {},
   "outputs": [],
   "source": [
    "#3. Representativeness: ob diese Erkenntnisse ein genaues Porträt einer bestimmten Situation oder Bevölkerung sind"
   ]
  },
  {
   "cell_type": "raw",
   "id": "cb207ccd",
   "metadata": {},
   "source": [
    "Die Informationen über die Ernährungsgewohnheiten und das Interesse der Befragten hilfreich sein. Allerdings könnten die fehlenden Werte in der “Einkommen”-Spalte ein Problem darstellen, da das Einkommen ein wichtiger Faktor für die Entscheidung sein könnte, wo das neue Restaurant eröffnet werden sollte.\n",
    "\n",
    "Zusätzliche Informationen, die hilfreich sein könnten, sind zum Beispiel der genaue Standort der Befragten innerhalb ihrer Stadtteile, ihre Präferenzen für verschiedene Arten von Restaurants (z.B. Fast Food, Fine Dining, Ethnisch, etc.), und ihre Ausgabengewohnheiten in Bezug auf Essen und Trinken."
   ]
  },
  {
   "cell_type": "raw",
   "id": "a99ca17b",
   "metadata": {},
   "source": [
    "Insgesamt scheint der Datensatz eine hohe Datenfitness zu haben, obwohl es einige potenzielle Probleme gibt, die berücksichtigt werden sollten.\n",
    "\n",
    "Die Probanden scheinen aus verschiedenen Stadtteilen zu kommen, was gut ist. Allerdings gibt es mehr Probanden aus dem Stadtteil “Nord” als aus anderen Stadtteilen. Wenn die Stadtteile ähnlich groß sind und eine ähnliche Anzahl von Einwohnern haben, könnte dies darauf hindeuten, dass der Stadtteil “Nord” überrepräsentiert ist.\n",
    "\n",
    "1. **Gültigkeit (Validity)**: In diesem Fall scheinen die Daten gültig zu sein, da sie Informationen über die Präferenzen der Mitglieder für verschiedene Aktivitäten enthalten, was direkt relevant für die Fragestellung ist. Die Daten scheinen auch korrekt erfasst und codiert worden zu sein, wie aus den Anmerkungen der Mitarbeiter hervorgeht.\n",
    "\n",
    "2. **Zuverlässigkeit (Reliability)**: Die Zuverlässigkeit bezieht sich darauf, ob die Daten konsistent und stabil sind. Da jeder Teilnehmer eine eindeutige ID hat und nur ein Eintrag pro ID erlaubt ist, scheinen die Daten zuverlässig zu sein. Es gibt jedoch einige potenzielle Probleme, wie z.B. die Schwierigkeit, einige der handschriftlichen Antworten zu lesen, die die Zuverlässigkeit beeinträchtigen könnten.\n",
    "\n",
    "3. **Repräsentativität (Representativeness)**: Die Repräsentativität bezieht sich darauf, ob die Daten eine genaue Darstellung der Gruppe sind, die sie repräsentieren sollen. Da die Daten von allen Mitgliedern des Jugendzentrums gesammelt wurden und die Altersverteilung gleichmäßig ist, scheinen die Daten repräsentativ für die Mitglieder des Jugendzentrums zu sein. Es ist jedoch zu beachten, dass seit der Erstellung der Umfrage zwei neue Mitglieder hinzugekommen sind, deren Präferenzen in den Daten nicht enthalten sind.\n",
    "\n",
    " Es könnte sinnvoll sein, die Daten regelmäßig zu aktualisieren und zu überprüfen, um sicherzustellen, dass sie weiterhin gültig, zuverlässig und repräsentativ sind."
   ]
  },
  {
   "cell_type": "markdown",
   "id": "832d72c6",
   "metadata": {},
   "source": [
    "### Aufgabe 1.4 Repräsentativität (2 Punkte)\n",
    "*Welche Informationen aus dem Datensatz können verwendet werden, um einzuschätzen, wie repräsentativ der Datensatz ist? Nennen Sie zudem **mindestens eine** weitere Information, die bisher nicht in den Daten enthalten ist, aber die hilfreich wäre, um die Repräsentativität besser beurteilen zu können.*"
   ]
  },
  {
   "cell_type": "code",
   "execution_count": null,
   "id": "4bde505c",
   "metadata": {
    "ExecuteTime": {
     "end_time": "2023-01-26T17:00:06.518816Z",
     "start_time": "2023-01-26T17:00:06.508644Z"
    }
   },
   "outputs": [],
   "source": [
    "# Platz für Analysen\n",
    "df['Stadtteil'].value_counts()"
   ]
  },
  {
   "cell_type": "code",
   "execution_count": 40,
   "id": "bd897b23",
   "metadata": {},
   "outputs": [
    {
     "data": {
      "text/plain": [
       "Ernaehrung\n",
       "vegetarisch    243\n",
       "alles          217\n",
       "vegan           53\n",
       "frugan           5\n",
       "Name: count, dtype: int64"
      ]
     },
     "execution_count": 40,
     "metadata": {},
     "output_type": "execute_result"
    }
   ],
   "source": [
    "df['Ernaehrung'].value_counts()"
   ]
  },
  {
   "cell_type": "markdown",
   "id": "3b75c33f",
   "metadata": {},
   "source": [
    "## Aufgabe 2 - Datenvorverarbeitung (22 Punkte)\n",
    "Die zweite Aufgabe beschäftigt sich mit der Datenvorverarbeitung."
   ]
  },
  {
   "cell_type": "markdown",
   "id": "4dfa44c2",
   "metadata": {},
   "source": [
    "### Aufgabe 2.1 Plausibilitätschecks (6 Punkte)\n",
    "\n",
    "Entsprechend der Anmerkungen der Mitarbeiter:innen sind verschiedene Plausibilitätschecks der Daten denkbar. Bei diesen Checks wird geprüft, ob sich die Aussagen der Mitarbeiter:innen in den Daten wiederspiegeln."
   ]
  },
  {
   "cell_type": "markdown",
   "id": "3991203f",
   "metadata": {},
   "source": [
    "*Führen Sie drei Plausibilitätschecks Ihrer Wahl durch. Geben Sie bei jedem Check an, auf welche Aussage Sie sich beziehen und, ob der Check fehlgeschlagen ist oder nicht.*"
   ]
  },
  {
   "cell_type": "code",
   "execution_count": 32,
   "id": "894f336d",
   "metadata": {
    "ExecuteTime": {
     "end_time": "2023-01-26T17:00:06.524738Z",
     "start_time": "2023-01-26T17:00:06.522083Z"
    }
   },
   "outputs": [
    {
     "name": "stdout",
     "output_type": "stream",
     "text": [
      "Anzahl der ungültigen Werte in der Spalte 'Stadtteil': 0\n",
      "Anzahl der ungültigen Werte in der Spalte 'Interesse': 0\n",
      "Anzahl der ungültigen Werte in der Spalte 'Besuche': 0\n"
     ]
    }
   ],
   "source": [
    "# Ihre Lösung\n",
    "\n",
    "#Gültigkeitsprüfung: Überprüfen Sie, ob die Werte in den Spalten gültig sind.\n",
    "\n",
    "invalid_values_stadtteil = ~df['Stadtteil'].isin(['Nord', 'Ost', 'Süd', 'West'])\n",
    "print(\"Anzahl der ungültigen Werte in der Spalte 'Stadtteil':\", invalid_values_stadtteil.sum())\n",
    "\n",
    "invalid_values_Interesse = ~df['Interesse'].isin([0,1])\n",
    "print(\"Anzahl der ungültigen Werte in der Spalte 'Interesse':\", invalid_values_Interesse.sum())\n",
    "\n",
    "invalid_values_besuche = ~df['Besuche'].isin([0,1,2])\n",
    "print(\"Anzahl der ungültigen Werte in der Spalte 'Besuche':\", invalid_values_besuche.sum())"
   ]
  },
  {
   "cell_type": "raw",
   "id": "14abe6e7",
   "metadata": {},
   "source": [
    "Ihre Begründung:"
   ]
  },
  {
   "cell_type": "markdown",
   "id": "e55e6f52",
   "metadata": {},
   "source": [
    "### Aufgabe 2.2 Theoretische Überlegungen (2 + 2 Punkte)"
   ]
  },
  {
   "cell_type": "markdown",
   "id": "965d892b",
   "metadata": {},
   "source": [
    "Zunächst werden die Spalten `Besuche` und `Budget` betrachtet."
   ]
  },
  {
   "cell_type": "markdown",
   "id": "1e7ecbf1",
   "metadata": {},
   "source": [
    "Die Spalte `Besuche` ist numerisch codiert. \n",
    "\n",
    "*Erläutern Sie (**nur beschreiben, kein Code erforderlich!**), inwiefern dies zu Problemen führen könnte. (2 Punkte)*"
   ]
  },
  {
   "cell_type": "raw",
   "id": "beb749dc",
   "metadata": {},
   "source": [
    "Ihre Antwort:\n",
    "Mögliche Fehlinterpretation als kontinuierliche Variable oder kategoriale Variable. Eine numerische Kodierung könnte dazu führen, dass Modelle fälschlicherweise eine Rangordnung annehmen und statistische Analysen wie Durchschnittsberechnungen oder Regressionen könnten falsche Ergebnisse liefern"
   ]
  },
  {
   "cell_type": "markdown",
   "id": "83dd9657",
   "metadata": {},
   "source": [
    "In der Spalte `Budget` gibt es einen Ausreißer:"
   ]
  },
  {
   "cell_type": "code",
   "execution_count": 37,
   "id": "797b5ba6",
   "metadata": {
    "ExecuteTime": {
     "end_time": "2023-01-26T17:00:07.140674Z",
     "start_time": "2023-01-26T17:00:06.844325Z"
    }
   },
   "outputs": [
    {
     "data": {
      "text/html": [
       "<div>\n",
       "<style scoped>\n",
       "    .dataframe tbody tr th:only-of-type {\n",
       "        vertical-align: middle;\n",
       "    }\n",
       "\n",
       "    .dataframe tbody tr th {\n",
       "        vertical-align: top;\n",
       "    }\n",
       "\n",
       "    .dataframe thead th {\n",
       "        text-align: right;\n",
       "    }\n",
       "</style>\n",
       "<table border=\"1\" class=\"dataframe\">\n",
       "  <thead>\n",
       "    <tr style=\"text-align: right;\">\n",
       "      <th></th>\n",
       "      <th>Nr.</th>\n",
       "      <th>MA</th>\n",
       "      <th>Geschlecht</th>\n",
       "      <th>Stadtteil</th>\n",
       "      <th>Ernaehrung</th>\n",
       "      <th>Einkommen</th>\n",
       "      <th>Budget</th>\n",
       "      <th>Besuche</th>\n",
       "      <th>Interesse</th>\n",
       "    </tr>\n",
       "  </thead>\n",
       "  <tbody>\n",
       "    <tr>\n",
       "      <th>96</th>\n",
       "      <td>97</td>\n",
       "      <td>Sara Hofmann</td>\n",
       "      <td>m</td>\n",
       "      <td>Nord</td>\n",
       "      <td>vegetarisch</td>\n",
       "      <td>NaN</td>\n",
       "      <td>100.0</td>\n",
       "      <td>1</td>\n",
       "      <td>0</td>\n",
       "    </tr>\n",
       "  </tbody>\n",
       "</table>\n",
       "</div>"
      ],
      "text/plain": [
       "    Nr.            MA Geschlecht Stadtteil   Ernaehrung  Einkommen  Budget   \n",
       "96   97  Sara Hofmann          m      Nord  vegetarisch        NaN   100.0  \\\n",
       "\n",
       "    Besuche  Interesse  \n",
       "96        1          0  "
      ]
     },
     "execution_count": 37,
     "metadata": {},
     "output_type": "execute_result"
    },
    {
     "data": {
      "image/png": "[encoded data removed]",
      "text/plain": [
       "<Figure size 640x480 with 1 Axes>"
      ]
     },
     "metadata": {},
     "output_type": "display_data"
    }
   ],
   "source": [
    "df['Budget'].plot.hist()\n",
    "df[df['Budget'] == 100]"
   ]
  },
  {
   "cell_type": "markdown",
   "id": "405560d0",
   "metadata": {},
   "source": [
    "*Beschreiben Sie (**nur beschreiben, kein Code erforderlich!**), wie Sie mit diesem Ausreißer umgehen würden. (2 Punkte)*"
   ]
  },
  {
   "cell_type": "raw",
   "id": "36327829",
   "metadata": {},
   "source": [
    "Ihre Antwort:"
   ]
  },
  {
   "cell_type": "markdown",
   "id": "1781750b",
   "metadata": {},
   "source": [
    "### Aufgabe 2.3 Praktische Anwendung (12 Punkte)\n",
    "Das Ziel der Geschwister Käfer ist es, wie oben beschrieben, herauszufinden, ob Interesse an einem neuen Restaurant vorhanden ist. Und falls Interesse da ist, sollen mithilfe der Umfrageergebnisse weitere Informationen ermittelt werden, welche Art von Restaurant am gefragtesten wäre. Für eine sinnvolle Analyse sind diverse Vorverarbeitungsschritte notwendig. \n",
    "\n",
    "*Führen Sie Vorverarbeitungsmaßnahmen durch, die Ihrer Meinung nach nötig sind, um die Qualität der Daten zu verbessern. Begründen Sie für jede Maßnahme Ihr Vorgehen.*\n",
    "\n",
    "\n",
    ">> **Achtung**: *Da die Spalten `Besuche` und `Budget` bereits in den vorherigen Aufgaben theortetisch diskutiert wurden, sind sie deshalb aus Zeitgründen für diese Aufgabe nicht relevant. Zudem ist eine **Umbenennung** von Spalten aus Zeitgründen ebenfalls nicht notwendig!*"
   ]
  },
  {
   "cell_type": "code",
   "execution_count": 40,
   "id": "16f089aa",
   "metadata": {
    "ExecuteTime": {
     "end_time": "2023-01-26T17:00:07.147303Z",
     "start_time": "2023-01-26T17:00:07.143518Z"
    }
   },
   "outputs": [],
   "source": [
    "# Ihre Lösung\n",
    "\n",
    "gender_recoding={\n",
    "    'm': 'Männlich',\n",
    "    'f': 'Weiblich',\n",
    "    'w': 'Weiblich'\n",
    "}\n",
    "df['Geschlecht'] = df['Geschlecht'].map(gender_recoding).fillna(df['Geschlecht'])"
   ]
  },
  {
   "cell_type": "code",
   "execution_count": 48,
   "id": "76d0dd15",
   "metadata": {},
   "outputs": [
    {
     "data": {
      "text/html": [
       "<div>\n",
       "<style scoped>\n",
       "    .dataframe tbody tr th:only-of-type {\n",
       "        vertical-align: middle;\n",
       "    }\n",
       "\n",
       "    .dataframe tbody tr th {\n",
       "        vertical-align: top;\n",
       "    }\n",
       "\n",
       "    .dataframe thead th {\n",
       "        text-align: right;\n",
       "    }\n",
       "</style>\n",
       "<table border=\"1\" class=\"dataframe\">\n",
       "  <thead>\n",
       "    <tr style=\"text-align: right;\">\n",
       "      <th></th>\n",
       "      <th>Nr.</th>\n",
       "      <th>MA</th>\n",
       "      <th>Geschlecht</th>\n",
       "      <th>Stadtteil</th>\n",
       "      <th>Ernaehrung</th>\n",
       "      <th>Einkommen</th>\n",
       "      <th>Budget</th>\n",
       "      <th>Besuche</th>\n",
       "      <th>Interesse</th>\n",
       "    </tr>\n",
       "  </thead>\n",
       "  <tbody>\n",
       "    <tr>\n",
       "      <th>70</th>\n",
       "      <td>71</td>\n",
       "      <td>Sara Hofmann</td>\n",
       "      <td>Weiblich</td>\n",
       "      <td>Nord</td>\n",
       "      <td>NaN</td>\n",
       "      <td>NaN</td>\n",
       "      <td>27.0</td>\n",
       "      <td>1</td>\n",
       "      <td>1</td>\n",
       "    </tr>\n",
       "    <tr>\n",
       "      <th>397</th>\n",
       "      <td>75</td>\n",
       "      <td>Fadil Mebarek</td>\n",
       "      <td>Weiblich</td>\n",
       "      <td>West</td>\n",
       "      <td>NaN</td>\n",
       "      <td>NaN</td>\n",
       "      <td>15.0</td>\n",
       "      <td>0</td>\n",
       "      <td>1</td>\n",
       "    </tr>\n",
       "    <tr>\n",
       "      <th>441</th>\n",
       "      <td>23</td>\n",
       "      <td>Layla Hawi</td>\n",
       "      <td>Weiblich</td>\n",
       "      <td>West</td>\n",
       "      <td>NaN</td>\n",
       "      <td>0.0</td>\n",
       "      <td>14.0</td>\n",
       "      <td>0</td>\n",
       "      <td>1</td>\n",
       "    </tr>\n",
       "  </tbody>\n",
       "</table>\n",
       "</div>"
      ],
      "text/plain": [
       "     Nr.             MA Geschlecht Stadtteil Ernaehrung  Einkommen  Budget   \n",
       "70    71   Sara Hofmann   Weiblich      Nord        NaN        NaN    27.0  \\\n",
       "397   75  Fadil Mebarek   Weiblich      West        NaN        NaN    15.0   \n",
       "441   23     Layla Hawi   Weiblich      West        NaN        0.0    14.0   \n",
       "\n",
       "     Besuche  Interesse  \n",
       "70         1          1  \n",
       "397        0          1  \n",
       "441        0          1  "
      ]
     },
     "execution_count": 48,
     "metadata": {},
     "output_type": "execute_result"
    }
   ],
   "source": [
    "df[df['Ernaehrung'].isna()]"
   ]
  },
  {
   "cell_type": "code",
   "execution_count": 58,
   "id": "32e68889",
   "metadata": {},
   "outputs": [
    {
     "data": {
      "text/plain": [
       "Besuche  Ernaehrung \n",
       "0        alles          118\n",
       "         frugan           1\n",
       "         vegan           20\n",
       "         vegetarisch    103\n",
       "1        alles           53\n",
       "         frugan           4\n",
       "         vegan           17\n",
       "         vegetarisch     83\n",
       "2        alles           46\n",
       "         vegan           16\n",
       "         vegetarisch     57\n",
       "dtype: int64"
      ]
     },
     "execution_count": 58,
     "metadata": {},
     "output_type": "execute_result"
    }
   ],
   "source": [
    "df.groupby(['Besuche','Ernaehrung']).size()"
   ]
  },
  {
   "cell_type": "raw",
   "id": "adc3890b",
   "metadata": {},
   "source": [
    "Ihre Begründung:"
   ]
  },
  {
   "cell_type": "code",
   "execution_count": null,
   "id": "9b6ee1fa",
   "metadata": {},
   "outputs": [],
   "source": []
  },
  {
   "cell_type": "markdown",
   "id": "2d27972a",
   "metadata": {},
   "source": [
    "## Aufgabe 3 - Datenanalyse (16 Punkte)\n",
    "In dieser Aufgabe werden Analysen auf den Daten ausgeführt."
   ]
  },
  {
   "cell_type": "markdown",
   "id": "3868df88",
   "metadata": {},
   "source": [
    "### Aufgabe 3.1 (6 Punkte)\n",
    "*Ermitteln Sie folgende Informationen:*\n",
    "- Wie ist das durchschnittliche Interesse nach Ernaerhung? Bei welcher Gruppe ist das Interesse am höchsten und bei welcher am niedrigsten? (2 Punkte)\n",
    "- Aus welchem Stadtteil stammen die meisten der befragten Personen?  (2 Punkte)\n",
    "- Welches der beiden bereits existierenden Restaurant wurde bisher am häufigsten von Bewohner:innen der Weststadt besucht?  (2 Punkte)\n",
    "\n",
    "*Interpretieren Sie die Aussage Ihres Codes, indem Sie die Antwort auf die jeweilige Frage in die dafür vorgesehene Raw-Zelle schreiben. Schätzen Sie dabei für jede Frage die Aussagekraft der Ergebnisse ein.*"
   ]
  },
  {
   "cell_type": "code",
   "execution_count": 76,
   "id": "cb99ad07",
   "metadata": {
    "ExecuteTime": {
     "end_time": "2023-01-26T17:06:05.756308Z",
     "start_time": "2023-01-26T17:06:05.752628Z"
    }
   },
   "outputs": [
    {
     "data": {
      "text/plain": [
       "Ernaehrung\n",
       "alles          0.608295\n",
       "frugan         0.600000\n",
       "vegan          0.735849\n",
       "vegetarisch    0.720165\n",
       "Name: Interesse, dtype: float64"
      ]
     },
     "execution_count": 76,
     "metadata": {},
     "output_type": "execute_result"
    }
   ],
   "source": [
    "average_interest_by_diet = df.groupby('Ernaehrung')['Interesse'].mean()\n",
    "average_interest_by_diet\n"
   ]
  },
  {
   "cell_type": "code",
   "execution_count": 79,
   "id": "66ee5056",
   "metadata": {},
   "outputs": [
    {
     "name": "stdout",
     "output_type": "stream",
     "text": [
      "\n",
      "Gruppe mit höchstem Interesse: vegan\n",
      "Gruppe mit niedrigstem Interesse: frugan\n"
     ]
    }
   ],
   "source": [
    "max_interest_diet = average_interest_by_diet.idxmax()\n",
    "max_interest_value = average_interest_by_diet[max_interest_diet]\n",
    "\n",
    "# Identifizieren der Gruppe mit dem niedrigsten Durchschnittsinteresse\n",
    "min_interest_diet = average_interest_by_diet.idxmin()\n",
    "min_interest_value = average_interest_by_diet[min_interest_diet]\n",
    "print(\"\\nGruppe mit höchstem Interesse:\", average_interest_by_diet.idxmax())\n",
    "print(\"Gruppe mit niedrigstem Interesse:\", average_interest_by_diet.idxmin())"
   ]
  },
  {
   "cell_type": "raw",
   "id": "7d5e321e",
   "metadata": {},
   "source": [
    "Ihre Antwort:"
   ]
  },
  {
   "cell_type": "code",
   "execution_count": 85,
   "id": "8585d908",
   "metadata": {
    "ExecuteTime": {
     "end_time": "2023-01-26T17:00:07.318798Z",
     "start_time": "2023-01-26T17:00:07.307845Z"
    }
   },
   "outputs": [
    {
     "data": {
      "text/plain": [
       "'Nord'"
      ]
     },
     "execution_count": 85,
     "metadata": {},
     "output_type": "execute_result"
    }
   ],
   "source": [
    "# Aus welchem Stadtteil stammen die meisten der befragten Personen? \n",
    "df['Stadtteil'].value_counts().idxmax()"
   ]
  },
  {
   "cell_type": "raw",
   "id": "6f8cfde0",
   "metadata": {},
   "source": [
    "Ihre Antwort:\n"
   ]
  },
  {
   "cell_type": "code",
   "execution_count": 93,
   "id": "71bff13d",
   "metadata": {
    "ExecuteTime": {
     "end_time": "2023-01-26T17:00:07.333126Z",
     "start_time": "2023-01-26T17:00:07.322405Z"
    }
   },
   "outputs": [
    {
     "data": {
      "text/plain": [
       "'Palmendieb'"
      ]
     },
     "execution_count": 93,
     "metadata": {},
     "output_type": "execute_result"
    }
   ],
   "source": [
    "# Welches der beiden bereits existierenden Restaurant wurde bisher am häufigsten von Bewohner:innen der Weststadt besucht?\n",
    "restaurants = {\n",
    "    1: 'Palmendieb',\n",
    "    2: 'Plumplori'\n",
    "}\n",
    "restaurants.get(df['Besuche'].value_counts()[[1,2]].idxmax())"
   ]
  },
  {
   "cell_type": "raw",
   "id": "507492f0",
   "metadata": {},
   "source": [
    "Ihre Antwort:\n"
   ]
  },
  {
   "cell_type": "markdown",
   "id": "18721dd0",
   "metadata": {},
   "source": [
    "### Aufgabe 3.2 (4 Punkte)\n",
    "Gibt es einen Unterschied in der Ernährungsweise je nach Stadtteil? \n",
    "\n",
    "*Beantworten Sie die Frage mithilfe von Kreisdiagrammen. Denken Sie dabei an Titel und Legende sowie die Interpretation des Diagramms.*"
   ]
  },
  {
   "cell_type": "code",
   "execution_count": 100,
   "id": "a3194a7c",
   "metadata": {},
   "outputs": [
    {
     "data": {
      "text/plain": [
       "Ernaehrung   Stadtteil\n",
       "alles        Nord          17\n",
       "             Ost           36\n",
       "             Süd           95\n",
       "             West          69\n",
       "frugan       West           5\n",
       "vegan        Nord          22\n",
       "             Ost           21\n",
       "             West          10\n",
       "vegetarisch  Nord         145\n",
       "             Ost           29\n",
       "             Süd           26\n",
       "             West          43\n",
       "dtype: int64"
      ]
     },
     "execution_count": 100,
     "metadata": {},
     "output_type": "execute_result"
    }
   ],
   "source": [
    "df.groupby(['Ernaehrung', 'Stadtteil']).size()"
   ]
  },
  {
   "cell_type": "code",
   "execution_count": 101,
   "id": "5aa062e7",
   "metadata": {},
   "outputs": [
    {
     "data": {
      "text/plain": [
       "array([[<Axes: ylabel='Nord'>, <Axes: ylabel='Ost'>],\n",
       "       [<Axes: ylabel='Süd'>, <Axes: ylabel='West'>]], dtype=object)"
      ]
     },
     "execution_count": 101,
     "metadata": {},
     "output_type": "execute_result"
    },
    {
     "data": {
      "image/png": "[encoded data removed]",
      "text/plain": [
       "<Figure size 1500x1000 with 4 Axes>"
      ]
     },
     "metadata": {},
     "output_type": "display_data"
    }
   ],
   "source": [
    "df.groupby(['Ernaehrung', 'Stadtteil']).size().unstack('Stadtteil').plot(kind='pie',subplots=True, figsize=(15,10), layout=(2, 2), autopct='%1.1f%%')\n"
   ]
  },
  {
   "cell_type": "code",
   "execution_count": null,
   "id": "66f7f330",
   "metadata": {
    "ExecuteTime": {
     "end_time": "2023-01-26T17:00:07.392550Z",
     "start_time": "2023-01-26T17:00:07.337139Z"
    }
   },
   "outputs": [],
   "source": []
  },
  {
   "cell_type": "code",
   "execution_count": null,
   "id": "3d606813",
   "metadata": {},
   "outputs": [],
   "source": []
  },
  {
   "cell_type": "raw",
   "id": "2454acd1",
   "metadata": {
    "ExecuteTime": {
     "end_time": "2022-11-29T10:27:49.970323Z",
     "start_time": "2022-11-29T10:27:49.959611Z"
    }
   },
   "source": [
    "Ihre Interpretation des Diagramms:"
   ]
  },
  {
   "cell_type": "markdown",
   "id": "3d110e81",
   "metadata": {},
   "source": [
    "### Aufgabe 3.3 (4 Punkte)\n",
    "Gibt es bzgl. des durchschnittlichen Interesses an einem neuen Restaurant einen großen Unterschied in Abhängigkeit der Stadtteile?\n",
    "\n",
    "*Beantworten Sie die Frage mithilfe eines Säulendiagramms. Denken Sie dabei an Titel und Achsenbeschriftung sowie die Interpretation des Diagramms.*"
   ]
  },
  {
   "cell_type": "code",
   "execution_count": 107,
   "id": "f8ccd7b2",
   "metadata": {
    "ExecuteTime": {
     "end_time": "2023-01-26T17:00:08.139005Z",
     "start_time": "2023-01-26T17:00:08.134930Z"
    }
   },
   "outputs": [
    {
     "data": {
      "text/plain": [
       "<Axes: xlabel='Stadtteil'>"
      ]
     },
     "execution_count": 107,
     "metadata": {},
     "output_type": "execute_result"
    },
    {
     "data": {
      "image/png": "[encoded data removed]",
      "text/plain": [
       "<Figure size 640x480 with 1 Axes>"
      ]
     },
     "metadata": {},
     "output_type": "display_data"
    }
   ],
   "source": [
    "# Ihre Lösung\n",
    "df.groupby(['Stadtteil'])['Interesse'].mean().plot(kind='bar')\n"
   ]
  },
  {
   "cell_type": "raw",
   "id": "7921e9d2",
   "metadata": {
    "ExecuteTime": {
     "end_time": "2022-11-29T10:28:25.603988Z",
     "start_time": "2022-11-29T10:28:25.591591Z"
    }
   },
   "source": [
    "Ihre Interpretation des Diagramms:"
   ]
  },
  {
   "cell_type": "markdown",
   "id": "d941ae32",
   "metadata": {},
   "source": [
    "### Aufgabe 3.4 (2 Punkte)\n",
    "*Entsprechend Ihrer Analysen: Wenn ein neues Restaurant eröffnet werden soll, welchen Stadtteil würden Sie empfehlen und welche Hinweise würden Sie für die Ausrichtung der Speisekarte entsprechend der Ernährungsweise geben? Nehmen Sie für diese Aufgabe an, dass Sie eine Entscheidung treffen müssen und es aus Zeit- und Kostengründen keine Option ist, weitere Informationen (z.B. durch eine erneute Umfrage) einzuholen.*"
   ]
  },
  {
   "cell_type": "raw",
   "id": "321d88e5",
   "metadata": {},
   "source": [
    "Ihre Antwort:"
   ]
  },
  {
   "cell_type": "markdown",
   "id": "fd395ed8",
   "metadata": {},
   "source": [
    "## Aufgabe 4 - Big Data Analysis (15 Punkte)\n",
    "In diesem Aufgabenbereich geht es um Hadoop und Spark."
   ]
  },
  {
   "cell_type": "markdown",
   "id": "eb496d0f",
   "metadata": {},
   "source": [
    "### Aufgabe 4.1 Hadoop Map Reduce vs. Spark (2 + 1 Punkte)\n",
    "*Beschreiben Sie die Unterschiede zwischen der Verarbeitung der Tasks von Hadoop MapReduce und von Spark. (2 Punkte)*"
   ]
  },
  {
   "cell_type": "raw",
   "id": "aa4e4a92",
   "metadata": {},
   "source": [
    "Ihre Antwort:"
   ]
  },
  {
   "cell_type": "markdown",
   "id": "29017fec",
   "metadata": {},
   "source": [
    "*Welche Vorteile ergeben sich daraus bei der Arbeit mit Spark? (1 Punkt)*"
   ]
  },
  {
   "cell_type": "raw",
   "id": "99be0f32",
   "metadata": {},
   "source": [
    "Ihre Antwort:"
   ]
  },
  {
   "cell_type": "markdown",
   "id": "4bb91cdf",
   "metadata": {},
   "source": [
    "### Aufgabe 4.2 Eigenschaften RDDs (8 Punkte)\n",
    "Nennen Sie vier der fünf wichtigsten Eigenschaften von RDDs. Beschreiben Sie für jede Eigenschaft mit einem kurzen Satz, warum sie von Bedeutung ist."
   ]
  },
  {
   "cell_type": "raw",
   "id": "2ed91f12",
   "metadata": {},
   "source": [
    "Ihre Antwort:"
   ]
  },
  {
   "cell_type": "markdown",
   "id": "07ccf1fa",
   "metadata": {},
   "source": [
    "### Aufgabe 4.3 Ressourcenvebrauch (4 Punkte)\n",
    "Gegeben sei folgender Auszug aus der Datei `spark-defaults.conf`:\n",
    "\n",
    "```\n",
    "spark.executor.instances 3\n",
    "spark.executor.memory 1G\n",
    "spark.executor.cores 2\n",
    "spark.executor.memoryOverhead 512M\n",
    "\n",
    "spark.yarn.am.cores 1\n",
    "spark.yarn.am.memory 2G\n",
    "spark.yarn.am.memoryOverhead 512M\n",
    "\n",
    "spark.dynamicAllocation.enabled false\n",
    "```\n",
    "\n",
    "Ein pyspark-Shell wird mit folgendem Aufruf gestartet:\n",
    "`pyspark --master yarn`\n",
    "\n",
    "Gehen Sie davon aus, dass im Cluster genügend freie Ressourcen zur Verfügung stehen, um die Anfragen des Application Masters zu erfüllen.\n",
    "\n",
    "*Berechnen Sie den Ressourcen-Verbrauch (Memory und Cores) der Spark-Anwendung. Geben Sie dabei Ihren Rechenweg an.*"
   ]
  },
  {
   "cell_type": "raw",
   "id": "4f5db997",
   "metadata": {},
   "source": [
    "Ihre Antwort:"
   ]
  },
  {
   "cell_type": "markdown",
   "id": "ee305885",
   "metadata": {},
   "source": [
    "## Aufgabe 5 - Modellierung, NoSQL (25 Punkte)"
   ]
  },
  {
   "cell_type": "markdown",
   "id": "6b0aa0ab",
   "metadata": {},
   "source": [
    "### Aufgabe 5.1 (2 Punkte)\n",
    "\n",
    "Beschreiben Sie Anwendungseigenschaften bzw. Charakteristika, die eher für die Verwendung eines dokumentorientierten bzw. spaltenorientierten Datenbanksystems sprechen."
   ]
  },
  {
   "cell_type": "raw",
   "id": "02be78e1",
   "metadata": {},
   "source": [
    "Ihre Antwort:"
   ]
  },
  {
   "cell_type": "markdown",
   "id": "76f6a280",
   "metadata": {},
   "source": [
    "### Aufgabe 5.2 (2 Punkte)\n",
    "\n",
    "Embedded vs. referentielle Modellierung bei dokumentorientierten Datenbanksystemen wie MongoDB.\n",
    "\n",
    "Sie möchten aus Eigenschaften der Anwendung bzw. der Abfragen schlussfolgern, welche Art der Modellierung (embedded oder referenziell) Sie wählen sollen. Geben Sie Modellierungsrichtlinien bzw. Anwendungscharakteristika an, die einen starken Einfluss auf die Auswahl der Modellierung haben."
   ]
  },
  {
   "cell_type": "raw",
   "id": "7f24f10b",
   "metadata": {},
   "source": [
    "Ihre Antwort:"
   ]
  },
  {
   "cell_type": "markdown",
   "id": "2f4cb29a",
   "metadata": {},
   "source": [
    "### Aufgabe 5.3 (21 Punkte)\n",
    "\n",
    "In einem dokumentenorientierten NoSQL-Datenbanksystem sollen Kunden, Produkte und Bestellungen gespeichert werden. Dabei können pro Bestellung **mehrere Produkte in unterschiedlicher Anzahl** bestellt werden. Außerdem können Kunden Reviews zu den bestellten Produkten abgeben.\n",
    "\n",
    "\n",
    "Geplante Abfragen:\n",
    "\n",
    "- Es können neue Produkte hinzugefügt werden.\n",
    "- Die Preise der Produkte können verändert werden.\n",
    "- Produkte können entfernt werden.\n",
    "- Neue Kunde können angelegt werden.\n",
    "- Es kann nach Produkten gesucht werden. Zu den Produkten werden neben den Produktinformationen ebenfalls die 10 neuesten Reviews angezeigt.\n",
    "- Ein Kunde kann eine neue Bestellung aufgeben.\n",
    "- Ein Kunde kann Reviews über gekaufte Produkte schreiben.\n",
    "- Ein Kunde kann sich seine  Bestellungen innerhalb eines bestimmten Zeitraums anzeigen lassen. Das Gleiche gilt für Reviews.\n",
    "\n",
    "\n",
    "1. Erstellen Sie zunächst ein plattformunabhängiges (konzeptionelles) Modell (dieses Modell enthält noch keine Fremdschlüssel, Einbettungen und Datentypen). Modellieren Sie außerdem folgende Attribute: Kunden haben einen Namen und Vornamen. Bestellungen haben ein Datum. Produkte haben einen Titel, einen Preis und eine Beschreibung. Reviews enthalten den Text und ein Datum.\n",
    "2. Skizzieren Sie anschließend ein geeignetes Datenmodell für die Speicherung in einem dokumentenorientierten Datenbanksystem. Begründen Sie ihre Entscheidungen für Referenzierungen, Einbettungen und redundante Speicherung bzw. Einbettung. Heben Sie redundante- und Fremdschlüssel-Attribute farblich hervor.\n",
    "\n",
    "[example here](https://i.stack.imgur.com/mNgza.png)"
   ]
  },
  {
   "cell_type": "raw",
   "id": "b135cda1",
   "metadata": {},
   "source": [
    "1. Platformunabhängiges (konzeptionelles) Modell:"
   ]
  },
  {
   "cell_type": "code",
   "execution_count": null,
   "id": "93d86cb9",
   "metadata": {},
   "outputs": [],
   "source": [
    "%%plantuml\n",
    "@startuml\n",
    "\n",
    "hide circle\n",
    "show members\n",
    "show fields\n",
    "\n",
    "skinparam classAttributeIconSize 0\n",
    "\n",
    "class \"Datenbank\" as db {\n",
    "    + void change_price(new_price: float)\n",
    "    + add_product(p : Product)\n",
    "    + remove_product(p : Product)\n",
    "    + Product[] look_up_products(search_text: text)\n",
    "    + add_kunde(k : Kunde)\n",
    "}\n",
    "\n",
    "class \"Produkt\" as p {\n",
    "    * <color:blue>**product_id: int<<PK>>**</color>\n",
    "    * title: text\n",
    "    * description: text\n",
    "    * price: float\n",
    "    * void change_price(new_price: float)\n",
    "}\n",
    "\n",
    "class \"Bestellung\" as b {\n",
    "    * <color:blue>**order_id: int<<PK>>**</color>\n",
    "    * <color:Tomato>**product_id: int<<FK>>**</color>\n",
    "    * <color:Tomato>**costumer_id: int<<FK>>**</color>\n",
    "    * order_date: date\n",
    "}\n",
    "\n",
    "class \"Kunde\" as k {\n",
    "    * <color:blue>**id: int<<PK>>**</color>\n",
    "    * Name: text\n",
    "    * forname: text\n",
    "    * put_order(p Produkt)\n",
    "    * write_review(p : Produkt, r : Review)\n",
    "    * see_orders()\n",
    "    * see_reviews()\n",
    "}\n",
    "\n",
    "class \"Review\" as r {\n",
    "    * review_text: text\n",
    "    * review_date: date\n",
    "}\n",
    "\n",
    "d \"1\" -- \"0..*\" e : has >\n",
    "d \"1\" -- \"0..*\" p : has >\n",
    "\n",
    "@enduml"
   ]
  },
  {
   "cell_type": "raw",
   "id": "eacdef20",
   "metadata": {},
   "source": [
    "2. Platformspezifisches Modell (dokumentorientiert):"
   ]
  },
  {
   "cell_type": "code",
   "execution_count": null,
   "id": "816fd48a",
   "metadata": {},
   "outputs": [],
   "source": []
  },
  {
   "cell_type": "raw",
   "id": "c8023d2e",
   "metadata": {},
   "source": [
    "Ihre Antwort (Designentscheidungen):\n",
    "When to embed:\n",
    "- Reads greatly outnumber writes.\n",
    "- You’re comfortable with the slim risk of inconsistent data across the multiple copies.\n",
    "- You’re optimising for speed of access.\n",
    "\n",
    "Advantages:\n",
    "Speed of access: embedding everything in one document means we need just one database look-up.\n",
    "Potentially greater fault tolerance at read time: in a distributed database our referred documents would live on multiple machines, so by embedding we’re introducing fewer opportunities for something to go wrong and we’re simplifying the application side.\n",
    "\n",
    "Disadvantages:\n",
    "- Inconsistency: if Steve wants to update his address after the order is made, we’re relying on:\n",
    "    - our application code to be robust enough to find every instance of his address in the database and update it\n",
    "    - nothing going wrong on the network, database side or elsewhere that would prevent the update completing fully.\n",
    "- Queryability: by making multiple copies of the same data, it could be harder to query on the data we replicate as we’ll have to filter out all of the embedded copies.\n",
    "- Size: you could end up with large documents consistening of lots of duplicated data.\n",
    "- More documents: this isn’t a major concern but it could have some impacts, such as the size of your cached working set."
   ]
  },
  {
   "cell_type": "raw",
   "id": "b5d2dfc5",
   "metadata": {},
   "source": [
    "When to refer:\n",
    "- Reads greatly outnumber writes.\n",
    "- You’re comfortable with the slim risk of inconsistent data across the multiple copies.\n",
    "- You’re optimising for speed of access.\n",
    "\n",
    "Advantages:\n",
    "- Consistency: we’re maintaining one canonical copy of Steve’s profile information and the stock item details.\n",
    "- Queryability: this time, when we query the data set we can be more sure that the results are the canonical versions of the data rather than embedded copies.\n",
    "- Better cache usage: as we’re accessing the canonical documents frequently, they’ll stay in our cache, rather than having multiple embedding copies that are accessed less frequently and so drop out of the cache.\n",
    "- More efficient hardware usage: embedding data gives us larger documents with multiple copies of the same data; referring helps reduce the disk and RAM our database needs.\n",
    "\n",
    "Disadvantages:\n",
    "- Multiple look-ups: this is mostly a consideration for cache misses, as the read time increases whenever we need to read from disk.\n",
    "- Consistency is enforced: referring to a canonical version of a document means updates to that document will be reflected in every context where it is used"
   ]
  },
  {
   "cell_type": "markdown",
   "id": "cd6b5dad",
   "metadata": {},
   "source": [
    "## Aufgabe 6 - Technologien für Big Data (5 Punkte)"
   ]
  },
  {
   "cell_type": "markdown",
   "id": "5d9be9bf",
   "metadata": {},
   "source": [
    "### Aufgabe 6.1 (2 Punkte)\n",
    "Warum eignen sich spaltenorientierte Datenbanksysteme sehr gut für analytische Anwendung wie beispielsweise Data Warehouses?"
   ]
  },
  {
   "cell_type": "raw",
   "id": "de0d4fc4",
   "metadata": {},
   "source": [
    "Ihre Antwort:"
   ]
  },
  {
   "cell_type": "markdown",
   "id": "4120a850",
   "metadata": {},
   "source": [
    "### Aufgabe 6.2 (1 Punkt)\n",
    "In einer Tabelle `Verkauf` mit Verkaufsdaten ist jeder Datensatz (jede Zeile) im Mittel 100 Bytes lang. Das Attribut `Filiale` belegt 5 Bytes. Wieviel Prozent der Daten müssen bei einer spaltenorientierten Speicherung im Vergleich zu einer zeilenorientierten Speicherung gelesen werden, wenn die folgende SQL-Query ausgeführt wird?\n",
    "\n",
    "`SELECT Filiale, COUNT(*) FROM Verkauf GROUP BY Filiale;`"
   ]
  },
  {
   "cell_type": "raw",
   "id": "144b9443",
   "metadata": {},
   "source": [
    "Ihre Antwort:"
   ]
  },
  {
   "cell_type": "markdown",
   "id": "88b4b568",
   "metadata": {},
   "source": [
    "### Aufgabe 6.3 (2 Punkte)\n",
    "Angenommen, Sie verwenden in einem Cluster mit *n* Servern für die Zuordnung der Daten mit Key *k* die Hashfunktion *k mod n*. Welche Probleme würden in diesem Szenario auftreten?"
   ]
  },
  {
   "cell_type": "raw",
   "id": "91febb36",
   "metadata": {},
   "source": [
    "Ihre Antwort:"
   ]
  }
 ],
 "metadata": {
  "kernelspec": {
   "display_name": "Python 3 (ipykernel)",
   "language": "python",
   "name": "python3"
  },
  "language_info": {
   "codemirror_mode": {
    "name": "ipython",
    "version": 3
   },
   "file_extension": ".py",
   "mimetype": "text/x-python",
   "name": "python",
   "nbconvert_exporter": "python",
   "pygments_lexer": "ipython3",
   "version": "3.11.3"
  },
  "toc": {
   "base_numbering": 1,
   "nav_menu": {},
   "number_sections": true,
   "sideBar": true,
   "skip_h1_title": true,
   "title_cell": "Table of Contents",
   "title_sidebar": "Contents",
   "toc_cell": false,
   "toc_position": {
    "height": "calc(100% - 180px)",
    "left": "10px",
    "top": "150px",
    "width": "384px"
   },
   "toc_section_display": true,
   "toc_window_display": true
  }
 },
 "nbformat": 4,
 "nbformat_minor": 5
}
