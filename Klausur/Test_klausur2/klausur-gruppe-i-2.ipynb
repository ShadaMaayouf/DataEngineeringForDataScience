{
 "cells": [
  {
   "cell_type": "raw",
   "id": "1b9fb232",
   "metadata": {},
   "source": [
    "Name: Shada Maayouf\n",
    "Matrikelnummer: 4311663"
   ]
  },
  {
   "cell_type": "markdown",
   "id": "f15db888",
   "metadata": {},
   "source": [
    "**Punkte**\n",
    "\n",
    "| Aufgabe 1 | Aufgabe 2 | Aufgabe 3 | Aufgabe 4 |\n",
    "|-----------|-----------|-----------|-----------|\n",
    "|           |           |           |           |\n",
    "|     / 55  |     / 15  |     / 25  |     /  5  |\n",
    "|           |           |           |           |\n",
    "\n",
    "Gesamtpunktzahl:"
   ]
  },
  {
   "cell_type": "markdown",
   "id": "989253d6",
   "metadata": {},
   "source": [
    "___"
   ]
  },
  {
   "cell_type": "markdown",
   "id": "f6388327",
   "metadata": {},
   "source": [
    "# Allgemeine Hinweise zur Klausur 01882 **Data Engineering für Data Science**\n",
    "> **_NOTE:_**  *Bitte lesen Sie sich diese Hinweise vor der Bearbeitung der Klausur aufmerksam durch.*\n",
    "\n",
    "- Die **Klausurdauer** beträgt **2 Stunden**.\n",
    "- Bevor Sie mit der Bearbeitung der Klausuraufgaben beginnen, tragen Sie bitte Ihre(n) **Nachnamen**, Ihre(n) **Vornamen** und Ihre **Matrikelnummer** in die vorgesehenen Felder (oben) ein.\n",
    "- Wie schon in den Übungsaufgaben erfolgt die Bearbeitung in zwei unterschiedliche Zell-Typen: In **Code-Zellen** sollen Sie (Python-)Code (bei Bedarf kommentiert) einfügen und ausführen. In **Raw-Zellen** erwarten wir eine Antwort in Textform.\n",
    "- Sollten bestimmte Fakten aus Ihrer Sicht nicht eindeutig formuliert sein, so schreiben Sie Ihre Annahmen zur Lösung dazu.\n",
    "- Denken Sie bei Plots an Titel, Achsenbeschriftung und bei Bedarf Legende.\n",
    "- Es empfiehlt sich, das Notebook, bzw. das daraus generierte PDF in regelmäßigen Abständen zu sichern. So müssen Sie nicht bei Null anfangen, sollte es unerwartetere Weise zu Software-Problemen kommen.\n",
    "- Diese Klausur ist eine sogenannte \"Open-Book-Klausur\", was bedeutet, dass Sie alle Vorlesungsunterlagen, etc. als Hilfsmittel verwenden dürfen. Es ist jedoch ausdrücklich **verboten**, dass Sie untereinander kommunizieren oder andere Personen zu Rate ziehen. "
   ]
  },
  {
   "cell_type": "markdown",
   "id": "56eaaa51",
   "metadata": {},
   "source": [
    "___"
   ]
  },
  {
   "cell_type": "code",
   "execution_count": 383,
   "id": "c6b3fc59",
   "metadata": {
    "pycharm": {
     "is_executing": true
    }
   },
   "outputs": [],
   "source": [
    "# Imports\n",
    "import pandas as pd\n",
    "import matplotlib.pyplot as plt\n",
    "import seaborn as sns\n",
    "import iplantuml\n",
    "import re\n",
    "import numpy as np\n",
    "from pyspark.sql import SparkSession\n",
    "import pyspark.sql.functions as f"
   ]
  },
  {
   "cell_type": "markdown",
   "id": "8659e2bc",
   "metadata": {},
   "source": [
    "## Aufgabe 1 - Datenvorverarbeitung und Datenqualität: Das Jugendzentrum Pixhagen (55 Punkte)\n",
    "Ein fiktives Szenario: Das Jugendzentrum Pixhagen ist ein beliebter Treffpunkt für Jugendliche aus allen vier Stadtteilen (Nord, Ost, Süd, West). Es hat jeden Tag in der Woche von 12-22 Uhr geöffnet. Neben diversen Gemeinschaftsräumen, in denen man sich die Zeit vertreiben kann, werden auch unterschiedliche Aktivitäten wie z.B. ein Pizzakurs oder eine Fußballgruppe angeboten. Da unerwartet Budget frei geworden ist, um eine neue Aktivität anzubieten, wurde kurzfristig eine Umfrage unter den Jugendlichen durchgeführt. Die Daten der Umfrage sollen dazu verwendet werden, herauszufinden, welche neue Aktivität angeboten werden soll und an welchem Wochentag. Die durchzuführende Analyse ist Inhalt dieser Klausur. Zeitpunkt der Analyse ist der heutige Tag.\n",
    "\n",
    "Folgende Dokumente stehen Ihnen zur Verfügung:\n",
    "- *umfrage.csv* - Die Daten der Umfrage\n",
    "- *bericht.pdf* - Ein Bericht, in dem unterschiedliche Informationen zum Jugendzentrum und zur Umfrage dokumentiert sind"
   ]
  },
  {
   "cell_type": "markdown",
   "id": "297ba05b",
   "metadata": {},
   "source": [
    "### Aufgabe 1.1 Daten laden (1 Punkt)\n",
    "*Laden Sie die Daten (`umfrage.csv`) in ein DataFrame namens `df`, so dass der Index rein numerisch ist.*"
   ]
  },
  {
   "cell_type": "code",
   "execution_count": 277,
   "id": "b97d2ef0",
   "metadata": {
    "tags": [
     "solution"
    ]
   },
   "outputs": [
    {
     "data": {
      "text/html": [
       "<div>\n",
       "<style scoped>\n",
       "    .dataframe tbody tr th:only-of-type {\n",
       "        vertical-align: middle;\n",
       "    }\n",
       "\n",
       "    .dataframe tbody tr th {\n",
       "        vertical-align: top;\n",
       "    }\n",
       "\n",
       "    .dataframe thead th {\n",
       "        text-align: right;\n",
       "    }\n",
       "</style>\n",
       "<table border=\"1\" class=\"dataframe\">\n",
       "  <thead>\n",
       "    <tr style=\"text-align: right;\">\n",
       "      <th></th>\n",
       "      <th>id</th>\n",
       "      <th>stadtteil</th>\n",
       "      <th>alter</th>\n",
       "      <th>entfernung</th>\n",
       "      <th>mo</th>\n",
       "      <th>di</th>\n",
       "      <th>mi</th>\n",
       "      <th>do</th>\n",
       "      <th>fr</th>\n",
       "      <th>sa</th>\n",
       "      <th>so</th>\n",
       "      <th>favorit</th>\n",
       "    </tr>\n",
       "  </thead>\n",
       "  <tbody>\n",
       "    <tr>\n",
       "      <th>0</th>\n",
       "      <td>W1933</td>\n",
       "      <td>West</td>\n",
       "      <td>9</td>\n",
       "      <td>2.57</td>\n",
       "      <td>Nein</td>\n",
       "      <td>Ja</td>\n",
       "      <td>Nein</td>\n",
       "      <td>Ja</td>\n",
       "      <td>Nein</td>\n",
       "      <td>Ja</td>\n",
       "      <td>Ja</td>\n",
       "      <td>Malen</td>\n",
       "    </tr>\n",
       "    <tr>\n",
       "      <th>1</th>\n",
       "      <td>W3885</td>\n",
       "      <td>West</td>\n",
       "      <td>9</td>\n",
       "      <td>2.44</td>\n",
       "      <td>Nein</td>\n",
       "      <td>Nein</td>\n",
       "      <td>Ja</td>\n",
       "      <td>Nein</td>\n",
       "      <td>Nein</td>\n",
       "      <td>Ja</td>\n",
       "      <td>Ja</td>\n",
       "      <td>Malen</td>\n",
       "    </tr>\n",
       "    <tr>\n",
       "      <th>2</th>\n",
       "      <td>W2138</td>\n",
       "      <td>West</td>\n",
       "      <td>17</td>\n",
       "      <td>2.84</td>\n",
       "      <td>N</td>\n",
       "      <td>N</td>\n",
       "      <td>N</td>\n",
       "      <td>N</td>\n",
       "      <td>J</td>\n",
       "      <td>J</td>\n",
       "      <td>J</td>\n",
       "      <td>Kochen</td>\n",
       "    </tr>\n",
       "    <tr>\n",
       "      <th>3</th>\n",
       "      <td>O2881</td>\n",
       "      <td>Ost</td>\n",
       "      <td>10</td>\n",
       "      <td>1.70</td>\n",
       "      <td>Ja</td>\n",
       "      <td>Nein</td>\n",
       "      <td>Ja</td>\n",
       "      <td>Nein</td>\n",
       "      <td>Ja</td>\n",
       "      <td>Ja</td>\n",
       "      <td>Ja</td>\n",
       "      <td>Werken</td>\n",
       "    </tr>\n",
       "    <tr>\n",
       "      <th>4</th>\n",
       "      <td>N1952</td>\n",
       "      <td>Nord</td>\n",
       "      <td>9</td>\n",
       "      <td>0.87</td>\n",
       "      <td>Nein</td>\n",
       "      <td>Nein</td>\n",
       "      <td>Ja</td>\n",
       "      <td>Nein</td>\n",
       "      <td>Nein</td>\n",
       "      <td>Ja</td>\n",
       "      <td>Nein</td>\n",
       "      <td>Musik</td>\n",
       "    </tr>\n",
       "    <tr>\n",
       "      <th>...</th>\n",
       "      <td>...</td>\n",
       "      <td>...</td>\n",
       "      <td>...</td>\n",
       "      <td>...</td>\n",
       "      <td>...</td>\n",
       "      <td>...</td>\n",
       "      <td>...</td>\n",
       "      <td>...</td>\n",
       "      <td>...</td>\n",
       "      <td>...</td>\n",
       "      <td>...</td>\n",
       "      <td>...</td>\n",
       "    </tr>\n",
       "    <tr>\n",
       "      <th>106</th>\n",
       "      <td>N1026</td>\n",
       "      <td>Nord</td>\n",
       "      <td>19</td>\n",
       "      <td>0.29</td>\n",
       "      <td>J</td>\n",
       "      <td>N</td>\n",
       "      <td>J</td>\n",
       "      <td>N</td>\n",
       "      <td>N</td>\n",
       "      <td>J</td>\n",
       "      <td>N</td>\n",
       "      <td>Sport</td>\n",
       "    </tr>\n",
       "    <tr>\n",
       "      <th>107</th>\n",
       "      <td>S3495</td>\n",
       "      <td>Süd</td>\n",
       "      <td>12</td>\n",
       "      <td>NaN</td>\n",
       "      <td>N</td>\n",
       "      <td>N</td>\n",
       "      <td>J</td>\n",
       "      <td>J</td>\n",
       "      <td>J</td>\n",
       "      <td>N</td>\n",
       "      <td>J</td>\n",
       "      <td>Sport</td>\n",
       "    </tr>\n",
       "    <tr>\n",
       "      <th>108</th>\n",
       "      <td>N1102</td>\n",
       "      <td>Nord</td>\n",
       "      <td>12</td>\n",
       "      <td>0.44</td>\n",
       "      <td>Nein</td>\n",
       "      <td>Nein</td>\n",
       "      <td>Nein</td>\n",
       "      <td>Ja</td>\n",
       "      <td>Ja</td>\n",
       "      <td>Ja</td>\n",
       "      <td>Ja</td>\n",
       "      <td>Sport</td>\n",
       "    </tr>\n",
       "    <tr>\n",
       "      <th>109</th>\n",
       "      <td>O4397</td>\n",
       "      <td>Ost</td>\n",
       "      <td>14</td>\n",
       "      <td>1.59</td>\n",
       "      <td>N</td>\n",
       "      <td>N</td>\n",
       "      <td>N</td>\n",
       "      <td>J</td>\n",
       "      <td>J</td>\n",
       "      <td>J</td>\n",
       "      <td>N</td>\n",
       "      <td>Kochen</td>\n",
       "    </tr>\n",
       "    <tr>\n",
       "      <th>110</th>\n",
       "      <td>S3600</td>\n",
       "      <td>Süd</td>\n",
       "      <td>9</td>\n",
       "      <td>4.76</td>\n",
       "      <td>N</td>\n",
       "      <td>J</td>\n",
       "      <td>N</td>\n",
       "      <td>N</td>\n",
       "      <td>J</td>\n",
       "      <td>J</td>\n",
       "      <td>N</td>\n",
       "      <td>Malen</td>\n",
       "    </tr>\n",
       "  </tbody>\n",
       "</table>\n",
       "<p>111 rows × 12 columns</p>\n",
       "</div>"
      ],
      "text/plain": [
       "        id stadtteil  alter  entfernung    mo    di    mi    do    fr  sa   \n",
       "0    W1933      West      9        2.57  Nein    Ja  Nein    Ja  Nein  Ja  \\\n",
       "1    W3885      West      9        2.44  Nein  Nein    Ja  Nein  Nein  Ja   \n",
       "2    W2138      West     17        2.84     N     N     N     N     J   J   \n",
       "3    O2881       Ost     10        1.70    Ja  Nein    Ja  Nein    Ja  Ja   \n",
       "4    N1952      Nord      9        0.87  Nein  Nein    Ja  Nein  Nein  Ja   \n",
       "..     ...       ...    ...         ...   ...   ...   ...   ...   ...  ..   \n",
       "106  N1026      Nord     19        0.29     J     N     J     N     N   J   \n",
       "107  S3495       Süd     12         NaN     N     N     J     J     J   N   \n",
       "108  N1102      Nord     12        0.44  Nein  Nein  Nein    Ja    Ja  Ja   \n",
       "109  O4397       Ost     14        1.59     N     N     N     J     J   J   \n",
       "110  S3600       Süd      9        4.76     N     J     N     N     J   J   \n",
       "\n",
       "       so favorit  \n",
       "0      Ja   Malen  \n",
       "1      Ja   Malen  \n",
       "2       J  Kochen  \n",
       "3      Ja  Werken  \n",
       "4    Nein   Musik  \n",
       "..    ...     ...  \n",
       "106     N   Sport  \n",
       "107     J   Sport  \n",
       "108    Ja   Sport  \n",
       "109     N  Kochen  \n",
       "110     N   Malen  \n",
       "\n",
       "[111 rows x 12 columns]"
      ]
     },
     "execution_count": 277,
     "metadata": {},
     "output_type": "execute_result"
    }
   ],
   "source": [
    "df = pd.read_csv('./umfrage.csv')\n",
    "df"
   ]
  },
  {
   "cell_type": "markdown",
   "id": "b050095a",
   "metadata": {},
   "source": [
    "### Aufgabe 1.2 Data Integrity (6 Punkte)\n",
    "Machen Sie sich mit den Daten vertraut.\n",
    "\n",
    "*Wählen Sie aus den 5 Kriterien für **Data Integrity**, die Sie im Buch von McGregor in Kapitel 3 als **Important** kennengelernt haben, 3 Ihrer Wahl aus und beurteilen Sie die Daten anhand dieser Kriterien.*"
   ]
  },
  {
   "cell_type": "code",
   "execution_count": 278,
   "id": "45a294ea",
   "metadata": {},
   "outputs": [
    {
     "data": {
      "text/plain": [
       "id            0\n",
       "stadtteil     0\n",
       "alter         0\n",
       "entfernung    4\n",
       "mo            0\n",
       "di            0\n",
       "mi            0\n",
       "do            0\n",
       "fr            0\n",
       "sa            0\n",
       "so            0\n",
       "favorit       7\n",
       "dtype: int64"
      ]
     },
     "execution_count": 278,
     "metadata": {},
     "output_type": "execute_result"
    }
   ],
   "source": [
    "#complete\n",
    "df.isna().sum()"
   ]
  },
  {
   "cell_type": "code",
   "execution_count": 279,
   "id": "2b7b75de",
   "metadata": {},
   "outputs": [
    {
     "data": {
      "text/html": [
       "<div>\n",
       "<style scoped>\n",
       "    .dataframe tbody tr th:only-of-type {\n",
       "        vertical-align: middle;\n",
       "    }\n",
       "\n",
       "    .dataframe tbody tr th {\n",
       "        vertical-align: top;\n",
       "    }\n",
       "\n",
       "    .dataframe thead th {\n",
       "        text-align: right;\n",
       "    }\n",
       "</style>\n",
       "<table border=\"1\" class=\"dataframe\">\n",
       "  <thead>\n",
       "    <tr style=\"text-align: right;\">\n",
       "      <th></th>\n",
       "      <th>id</th>\n",
       "      <th>stadtteil</th>\n",
       "      <th>alter</th>\n",
       "      <th>entfernung</th>\n",
       "      <th>mo</th>\n",
       "      <th>di</th>\n",
       "      <th>mi</th>\n",
       "      <th>do</th>\n",
       "      <th>fr</th>\n",
       "      <th>sa</th>\n",
       "      <th>so</th>\n",
       "      <th>favorit</th>\n",
       "    </tr>\n",
       "  </thead>\n",
       "  <tbody>\n",
       "    <tr>\n",
       "      <th>25</th>\n",
       "      <td>W3708</td>\n",
       "      <td>West</td>\n",
       "      <td>10</td>\n",
       "      <td>NaN</td>\n",
       "      <td>Ja</td>\n",
       "      <td>Nein</td>\n",
       "      <td>Ja</td>\n",
       "      <td>Ja</td>\n",
       "      <td>Ja</td>\n",
       "      <td>Ja</td>\n",
       "      <td>Ja</td>\n",
       "      <td>Werken</td>\n",
       "    </tr>\n",
       "    <tr>\n",
       "      <th>38</th>\n",
       "      <td>N1356</td>\n",
       "      <td>Nord</td>\n",
       "      <td>16</td>\n",
       "      <td>NaN</td>\n",
       "      <td>Nein</td>\n",
       "      <td>Ja</td>\n",
       "      <td>Nein</td>\n",
       "      <td>Nein</td>\n",
       "      <td>Nein</td>\n",
       "      <td>Ja</td>\n",
       "      <td>Ja</td>\n",
       "      <td>Kochen</td>\n",
       "    </tr>\n",
       "    <tr>\n",
       "      <th>69</th>\n",
       "      <td>N2718</td>\n",
       "      <td>Nord</td>\n",
       "      <td>17</td>\n",
       "      <td>NaN</td>\n",
       "      <td>Nein</td>\n",
       "      <td>Nein</td>\n",
       "      <td>Nein</td>\n",
       "      <td>Ja</td>\n",
       "      <td>Ja</td>\n",
       "      <td>Nein</td>\n",
       "      <td>Nein</td>\n",
       "      <td>Kochen</td>\n",
       "    </tr>\n",
       "    <tr>\n",
       "      <th>107</th>\n",
       "      <td>S3495</td>\n",
       "      <td>Süd</td>\n",
       "      <td>12</td>\n",
       "      <td>NaN</td>\n",
       "      <td>N</td>\n",
       "      <td>N</td>\n",
       "      <td>J</td>\n",
       "      <td>J</td>\n",
       "      <td>J</td>\n",
       "      <td>N</td>\n",
       "      <td>J</td>\n",
       "      <td>Sport</td>\n",
       "    </tr>\n",
       "  </tbody>\n",
       "</table>\n",
       "</div>"
      ],
      "text/plain": [
       "        id stadtteil  alter  entfernung    mo    di    mi    do    fr    sa   \n",
       "25   W3708      West     10         NaN    Ja  Nein    Ja    Ja    Ja    Ja  \\\n",
       "38   N1356      Nord     16         NaN  Nein    Ja  Nein  Nein  Nein    Ja   \n",
       "69   N2718      Nord     17         NaN  Nein  Nein  Nein    Ja    Ja  Nein   \n",
       "107  S3495       Süd     12         NaN     N     N     J     J     J     N   \n",
       "\n",
       "       so favorit  \n",
       "25     Ja  Werken  \n",
       "38     Ja  Kochen  \n",
       "69   Nein  Kochen  \n",
       "107     J   Sport  "
      ]
     },
     "execution_count": 279,
     "metadata": {},
     "output_type": "execute_result"
    }
   ],
   "source": [
    "df[df['entfernung'].isnull()]"
   ]
  },
  {
   "cell_type": "code",
   "execution_count": 280,
   "id": "54d5959d",
   "metadata": {},
   "outputs": [
    {
     "data": {
      "text/plain": [
       "stadtteil\n",
       "Nord    0.193040\n",
       "Ost     0.201104\n",
       "Süd     0.346716\n",
       "West    0.179945\n",
       "Name: entfernung, dtype: float64"
      ]
     },
     "execution_count": 280,
     "metadata": {},
     "output_type": "execute_result"
    }
   ],
   "source": [
    "#low variance means that the data points tend to be very close to the mean, and thus, the mean is a good measure of central tendency.\n",
    "df.groupby('stadtteil')['entfernung'].var()"
   ]
  },
  {
   "cell_type": "code",
   "execution_count": 281,
   "id": "7bf59d8f",
   "metadata": {},
   "outputs": [
    {
     "data": {
      "text/plain": [
       "111"
      ]
     },
     "execution_count": 281,
     "metadata": {},
     "output_type": "execute_result"
    }
   ],
   "source": [
    "# High volume: reicht das Volumen des Datensatzes aus, um die Hauptfrage zu beantworten?\n",
    "len(df)"
   ]
  },
  {
   "cell_type": "code",
   "execution_count": 282,
   "id": "b6da0d0e",
   "metadata": {},
   "outputs": [
    {
     "name": "stdout",
     "output_type": "stream",
     "text": [
      "Die Teilnahmequote beträgt 43.359%\n"
     ]
    }
   ],
   "source": [
    "participation_rate = (111 / 256) * 100\n",
    "print(f\"Die Teilnahmequote beträgt {participation_rate:.3f}%\")"
   ]
  },
  {
   "cell_type": "code",
   "execution_count": 283,
   "id": "30fb666c",
   "metadata": {},
   "outputs": [
    {
     "data": {
      "text/plain": [
       "stadtteil\n",
       "Nord    52\n",
       "West    24\n",
       "Ost     23\n",
       "Süd     12\n",
       "Name: count, dtype: int64"
      ]
     },
     "execution_count": 283,
     "metadata": {},
     "output_type": "execute_result"
    }
   ],
   "source": [
    "df['stadtteil'].value_counts()"
   ]
  },
  {
   "cell_type": "code",
   "execution_count": 284,
   "id": "869b5a0f",
   "metadata": {},
   "outputs": [
    {
     "data": {
      "text/plain": [
       "stadtteil\n",
       "Nord    0.927400\n",
       "Ost     2.186957\n",
       "Süd     4.058182\n",
       "West    2.300000\n",
       "Name: entfernung, dtype: float64"
      ]
     },
     "execution_count": 284,
     "metadata": {},
     "output_type": "execute_result"
    }
   ],
   "source": [
    "df.groupby('stadtteil')['entfernung'].mean()"
   ]
  },
  {
   "cell_type": "code",
   "execution_count": 285,
   "id": "d93072ab",
   "metadata": {},
   "outputs": [
    {
     "name": "stdout",
     "output_type": "stream",
     "text": [
      "Der Datensatz ist multivariant mit  12  Variablen.\n"
     ]
    }
   ],
   "source": [
    "#multivariant\n",
    "#multivariate\n",
    "# Check the number of variables (columns) in the dataset\n",
    "if df.shape[1] > 1:\n",
    "    print(\"Der Datensatz ist multivariant mit \", df.shape[1], \" Variablen.\")\n",
    "else:\n",
    "    print(\"Der Datensatz ist nicht multivariant.\")\n"
   ]
  },
  {
   "cell_type": "code",
   "execution_count": 286,
   "id": "286b653c",
   "metadata": {},
   "outputs": [
    {
     "name": "stdout",
     "output_type": "stream",
     "text": [
      "True\n"
     ]
    }
   ],
   "source": [
    "#atomic\n",
    "def is_atomic(df):\n",
    "    for column in df.columns:\n",
    "        if df[column].apply(lambda x: isinstance(x, (list, dict))).any():\n",
    "            return False\n",
    "    return True\n",
    "\n",
    "#überprüft,ob ein Element in der Spalte eine Instanz einer Liste oder eines dictionarys ist\n",
    "print(is_atomic(df))"
   ]
  },
  {
   "cell_type": "code",
   "execution_count": 287,
   "id": "10e6b984",
   "metadata": {},
   "outputs": [
    {
     "data": {
      "text/plain": [
       "Index(['id', 'stadtteil', 'alter', 'entfernung', 'mo', 'di', 'mi', 'do', 'fr',\n",
       "       'sa', 'so', 'favorit'],\n",
       "      dtype='object')"
      ]
     },
     "execution_count": 287,
     "metadata": {},
     "output_type": "execute_result"
    }
   ],
   "source": [
    "df.columns"
   ]
  },
  {
   "cell_type": "code",
   "execution_count": 288,
   "id": "c7ecda2b",
   "metadata": {},
   "outputs": [
    {
     "data": {
      "text/plain": [
       "33    W4166\n",
       "58    W1787\n",
       "Name: id, dtype: object"
      ]
     },
     "execution_count": 288,
     "metadata": {},
     "output_type": "execute_result"
    }
   ],
   "source": [
    "unique_values = df['id'].unique()\n",
    "unique_values\n",
    "\n",
    "df[df['id'].duplicated()]['id']"
   ]
  },
  {
   "cell_type": "code",
   "execution_count": 289,
   "id": "06882c19",
   "metadata": {
    "scrolled": true
   },
   "outputs": [
    {
     "name": "stdout",
     "output_type": "stream",
     "text": [
      "this dataset contains  2  duplicates.\n",
      "       id stadtteil  alter  entfernung    mo    di    mi    do  fr  sa    so   \n",
      "33  W4166      West     10        2.46  Nein  Nein  Nein    Ja  Ja  Ja    Ja  \\\n",
      "58  W1787      West     10        1.96  Nein  Nein  Nein  Nein  Ja  Ja  Nein   \n",
      "\n",
      "   favorit  \n",
      "33  Werken  \n",
      "58  Werken  \n"
     ]
    }
   ],
   "source": [
    "#consistent\n",
    "if(df.duplicated().any()):\n",
    "    print(\"this dataset contains \", df.duplicated().sum() ,\" duplicates.\")\n",
    "    print(df[df.duplicated()])\n",
    "\n",
    "else: print(\"this dataset does not contain duplicates.\")"
   ]
  },
  {
   "cell_type": "code",
   "execution_count": 290,
   "id": "91bad34d",
   "metadata": {},
   "outputs": [
    {
     "data": {
      "text/plain": [
       "id\n",
       "W1787    2\n",
       "W4166    2\n",
       "W1933    1\n",
       "O2550    1\n",
       "N4654    1\n",
       "        ..\n",
       "N3859    1\n",
       "O2083    1\n",
       "O1511    1\n",
       "N2138    1\n",
       "S3600    1\n",
       "Name: count, Length: 109, dtype: int64"
      ]
     },
     "metadata": {},
     "output_type": "display_data"
    },
    {
     "data": {
      "text/plain": [
       "stadtteil\n",
       "Nord    52\n",
       "West    24\n",
       "Ost     23\n",
       "Süd     12\n",
       "Name: count, dtype: int64"
      ]
     },
     "metadata": {},
     "output_type": "display_data"
    },
    {
     "data": {
      "text/plain": [
       "alter\n",
       "10    23\n",
       "9     21\n",
       "11    19\n",
       "17     8\n",
       "19     8\n",
       "15     8\n",
       "12     7\n",
       "14     7\n",
       "13     6\n",
       "16     2\n",
       "18     2\n",
       "Name: count, dtype: int64"
      ]
     },
     "metadata": {},
     "output_type": "display_data"
    },
    {
     "data": {
      "text/plain": [
       "entfernung\n",
       "0.59    3\n",
       "1.59    2\n",
       "1.20    2\n",
       "2.38    2\n",
       "2.67    2\n",
       "       ..\n",
       "1.62    1\n",
       "2.30    1\n",
       "1.25    1\n",
       "1.58    1\n",
       "4.76    1\n",
       "Name: count, Length: 93, dtype: int64"
      ]
     },
     "metadata": {},
     "output_type": "display_data"
    },
    {
     "data": {
      "text/plain": [
       "mo\n",
       "Nein    52\n",
       "J       23\n",
       "N       19\n",
       "Ja      17\n",
       "Name: count, dtype: int64"
      ]
     },
     "metadata": {},
     "output_type": "display_data"
    },
    {
     "data": {
      "text/plain": [
       "di\n",
       "Nein    42\n",
       "N       31\n",
       "Ja      27\n",
       "J       11\n",
       "Name: count, dtype: int64"
      ]
     },
     "metadata": {},
     "output_type": "display_data"
    },
    {
     "data": {
      "text/plain": [
       "mi\n",
       "Nein    47\n",
       "N       24\n",
       "Ja      22\n",
       "J       18\n",
       "Name: count, dtype: int64"
      ]
     },
     "metadata": {},
     "output_type": "display_data"
    },
    {
     "data": {
      "text/plain": [
       "do\n",
       "Nein    37\n",
       "Ja      32\n",
       "N       26\n",
       "J       16\n",
       "Name: count, dtype: int64"
      ]
     },
     "metadata": {},
     "output_type": "display_data"
    },
    {
     "data": {
      "text/plain": [
       "fr\n",
       "Ja      52\n",
       "J       26\n",
       "Nein    17\n",
       "N       16\n",
       "Name: count, dtype: int64"
      ]
     },
     "metadata": {},
     "output_type": "display_data"
    },
    {
     "data": {
      "text/plain": [
       "sa\n",
       "Ja      54\n",
       "J       30\n",
       "Nein    15\n",
       "N       12\n",
       "Name: count, dtype: int64"
      ]
     },
     "metadata": {},
     "output_type": "display_data"
    },
    {
     "data": {
      "text/plain": [
       "so\n",
       "Ja      49\n",
       "J       21\n",
       "N       21\n",
       "Nein    20\n",
       "Name: count, dtype: int64"
      ]
     },
     "metadata": {},
     "output_type": "display_data"
    },
    {
     "data": {
      "text/plain": [
       "favorit\n",
       "Malen     30\n",
       "Sport     22\n",
       "Kochen    21\n",
       "Werken    21\n",
       "Musik     10\n",
       "Name: count, dtype: int64"
      ]
     },
     "metadata": {},
     "output_type": "display_data"
    }
   ],
   "source": [
    "for col in df.columns:\n",
    "    display(df[col].value_counts())"
   ]
  },
  {
   "cell_type": "code",
   "execution_count": 291,
   "id": "6ecfbef6",
   "metadata": {},
   "outputs": [
    {
     "name": "stdout",
     "output_type": "stream",
     "text": [
      "Column names:\n",
      "Index(['id', 'stadtteil', 'alter', 'entfernung', 'mo', 'di', 'mi', 'do', 'fr',\n",
      "       'sa', 'so', 'favorit'],\n",
      "      dtype='object')\n",
      "\n",
      "Unique values in id:\n",
      "['W1933' 'W3885' 'W2138' 'O2881' 'N1952' 'N2003' 'N1456' 'N1418' 'S4836'\n",
      " 'N1108' 'O4471' 'N2728' 'N1419' 'N2126' 'O4529' 'N3298' 'N4033' 'O4985'\n",
      " 'W4166' 'W2857' 'S2455' 'W2481' 'N3661' 'N3771' 'S2093' 'W3708' 'W1284'\n",
      " 'N3872' 'O2470' 'N3418' 'N2138' 'O1511' 'O2083' 'N3859' 'W1787' 'N4920'\n",
      " 'N1383' 'N1356' 'N4315' 'O3261' 'N1895' 'N3069' 'W2185' 'O1177' 'N1814'\n",
      " 'N1571' 'O1396' 'N1902' 'N1881' 'O2200' 'O1322' 'N3619' 'N2556' 'N2378'\n",
      " 'N4108' 'O3574' 'N4300' 'W4416' 'O4777' 'N4560' 'W2556' 'W4503' 'N4037'\n",
      " 'O4626' 'N3465' 'N1130' 'W1187' 'N2718' 'S3654' 'O3988' 'N3233' 'N2139'\n",
      " 'S1858' 'W4549' 'O3196' 'N1653' 'W3364' 'N1379' 'S1292' 'O3472' 'N4654'\n",
      " 'S2516' 'O2550' 'W3603' 'N4127' 'N1914' 'S3874' 'W1326' 'N1636' 'W1413'\n",
      " 'S3799' 'W1953' 'O3533' 'N3413' 'N2839' 'W1666' 'N3232' 'O4305' 'N2393'\n",
      " 'W2494' 'N2731' 'O2408' 'S3745' 'N4016' 'N1026' 'S3495' 'N1102' 'O4397'\n",
      " 'S3600']\n",
      "\n",
      "Unique values in stadtteil:\n",
      "['West' 'Ost' 'Nord' 'Süd']\n",
      "\n",
      "Unique values in alter:\n",
      "[ 9 17 10 12 11 14 13 19 15 16 18]\n",
      "\n",
      "Unique values in entfernung:\n",
      "[2.57 2.44 2.84 1.7  0.87 1.13 1.26 0.83 4.12 1.02 1.91 1.48 1.33 1.64\n",
      " 2.17 0.58 0.25 2.37 2.46 2.08 3.21 2.59 0.78 0.53 3.82  nan 0.52 2.38\n",
      " 1.58 1.25 2.67 2.3  1.62 1.96 0.59 1.36 2.12 1.54 2.11 1.66 1.05 1.2\n",
      " 0.33 0.98 1.67 1.69 0.45 1.59 0.36 0.76 2.16 1.65 2.42 1.52 0.82 2.85\n",
      " 3.2  0.75 0.56 0.66 1.8  4.61 2.78 1.12 4.62 1.95 2.03 0.97 2.28 0.86\n",
      " 3.44 2.96 4.82 1.89 1.81 1.14 1.01 3.39 1.97 3.13 4.18 1.71 2.04 0.27\n",
      " 1.83 2.68 0.22 2.31 1.46 3.67 1.43 0.29 0.44 4.76]\n",
      "\n",
      "Unique values in mo:\n",
      "['Nein' 'N' 'Ja' 'J']\n",
      "\n",
      "Unique values in di:\n",
      "['Ja' 'Nein' 'N' 'J']\n",
      "\n",
      "Unique values in mi:\n",
      "['Nein' 'Ja' 'N' 'J']\n",
      "\n",
      "Unique values in do:\n",
      "['Ja' 'Nein' 'N' 'J']\n",
      "\n",
      "Unique values in fr:\n",
      "['Nein' 'J' 'Ja' 'N']\n",
      "\n",
      "Unique values in sa:\n",
      "['Ja' 'J' 'Nein' 'N']\n",
      "\n",
      "Unique values in so:\n",
      "['Ja' 'J' 'Nein' 'N']\n",
      "\n",
      "Unique values in favorit:\n",
      "['Malen' 'Kochen' 'Werken' 'Musik' 'Sport' nan]\n"
     ]
    }
   ],
   "source": [
    "#clear\n",
    "# Check column names for clarity\n",
    "print(\"Column names:\")\n",
    "print(df.columns)\n",
    "\n",
    "# Check unique values in each column\n",
    "for column in df.columns:\n",
    "    print(f\"\\nUnique values in {column}:\")\n",
    "    print(df[column].unique())"
   ]
  },
  {
   "cell_type": "code",
   "execution_count": 292,
   "id": "00738831",
   "metadata": {},
   "outputs": [],
   "source": [
    "#dimensionaly structured\n"
   ]
  },
  {
   "cell_type": "raw",
   "id": "1817e5fb",
   "metadata": {
    "tags": [
     "solution"
    ]
   },
   "source": [
    "- Necessary, but not sufficient\n",
    "    - Of known provence:\n",
    "    \n",
    "    - Well-Annotated:\n",
    "    \n",
    "- Important\n",
    "    - Timely: \n",
    "Die Umfrage lag vom 12.08.2023 – 25.08.2023 aus. Die letzte Datenerfassung, die erwähnt ist, war am 31. August 2023. Wenn wir uns in einem Zeitraum kurz nach diesem Datum befinden, könnte man den Datensatz als aktuell betrachten. Wenn jedoch seitdem eine erhebliche Zeit vergangen ist, könnte der Datensatz veraltet sein. Seit der Erstellung der Umfrage sind auch 2 Mitglieder dazu gekommen, was die Aktualität des Datensatzes beeinflussen kann. Es zeigt, dass sich die Mitgliederbasis des Jugendzentrums weiterentwickelt. Wenn diese neuen Mitglieder jedoch noch nicht in der Umfrage berücksichtigt wurden, spiegelt der Datensatz möglicherweise nicht die aktuelle Situation des Zentrums vollständig wider.\n",
    "    \n",
    "    - Complete:\n",
    "    \n",
    "    Der Datensatz scheint in den meisten Spalten vollständig zu sein, mit Ausnahme der Spalte “Entfernung”, in der 4 Werte fehlen undd der spalte 'Favorit' mit 7 fehleneden werten. Diese sind keine große Zahlen. Die varianz der Entfernungen der Mitglieder aus dem gleichen Stadtteil ist niedrig was auf die Möglichkeit andeutet, diese fehlenden Werte mit der durchschnittlichen Entfernungen der Mitglieder aus dem gleichen Stadtteil zu ersetzen.\n",
    "\n",
    "vorallem bei der Spalte Entfernung. Man könnte die fehlenden Entfernungen basierend auf den durchschnittlichen Entfernungen der Mitglieder aus dem gleichen Stadtteil schätzen. Diese Methode berücksichtigt die geografische Nähe und könnte in diesem Kontext genauer sein als andere Methoden.\n",
    "\n",
    "    - High Volume:\n",
    "    \n",
    "    \n",
    "    \n",
    "    - Multivariant:\n",
    "    \n",
    "    - Atomic:\n",
    "    \n",
    "- Achievable:\n",
    "    - Consistent:\n",
    "    \n",
    "    - Clear:\n",
    "    \n",
    "    - Dimensionally structed:\n",
    "    "
   ]
  },
  {
   "cell_type": "markdown",
   "id": "a1549c4e",
   "metadata": {},
   "source": [
    "### Aufgabe 1.3 Plausibilitätschecks (8 Punkte)\n",
    "\n",
    "Entsprechend der Informationen aus dem Bericht sind verschiedene Plausibilitätschecks der Daten denkbar. Bei diesen Checks wird geprüft, ob sich die Informationen des Berichts in den Daten wiederspiegeln.\n",
    "\n",
    "*Führen Sie vier Plausibilitätschecks Ihrer Wahl durch. Geben Sie bei jedem Check an, auf welche Information aus dem PDF Sie sich beziehen und, ob der Check fehlgeschlagen ist oder nicht.*"
   ]
  },
  {
   "cell_type": "code",
   "execution_count": 293,
   "id": "60a584c0",
   "metadata": {
    "tags": [
     "solution"
    ]
   },
   "outputs": [
    {
     "data": {
      "text/plain": [
       "True"
      ]
     },
     "execution_count": 293,
     "metadata": {},
     "output_type": "execute_result"
    }
   ],
   "source": [
    "df['alter'].min()>=9 & df['alter'].max()<=19"
   ]
  },
  {
   "cell_type": "code",
   "execution_count": 294,
   "id": "a199ebe8",
   "metadata": {},
   "outputs": [
    {
     "name": "stdout",
     "output_type": "stream",
     "text": [
      "Fehlende Werte in jeder Spalte:\n",
      " id            0\n",
      "stadtteil     0\n",
      "alter         0\n",
      "entfernung    4\n",
      "mo            0\n",
      "di            0\n",
      "mi            0\n",
      "do            0\n",
      "fr            0\n",
      "sa            0\n",
      "so            0\n",
      "favorit       7\n",
      "dtype: int64\n"
     ]
    }
   ],
   "source": [
    "missing_values = df.isnull().sum()\n",
    "print(\"Fehlende Werte in jeder Spalte:\\n\", missing_values)"
   ]
  },
  {
   "cell_type": "code",
   "execution_count": 295,
   "id": "aad25167",
   "metadata": {},
   "outputs": [
    {
     "name": "stdout",
     "output_type": "stream",
     "text": [
      "Anzahl der Duplikate in der Spalte 'ID': 4\n"
     ]
    }
   ],
   "source": [
    "duplicates = df.duplicated(subset=['id'], keep=False)\n",
    "print(\"Anzahl der Duplikate in der Spalte 'ID':\", duplicates.sum())"
   ]
  },
  {
   "cell_type": "code",
   "execution_count": 296,
   "id": "3b86e1b6",
   "metadata": {},
   "outputs": [
    {
     "data": {
      "text/html": [
       "<div>\n",
       "<style scoped>\n",
       "    .dataframe tbody tr th:only-of-type {\n",
       "        vertical-align: middle;\n",
       "    }\n",
       "\n",
       "    .dataframe tbody tr th {\n",
       "        vertical-align: top;\n",
       "    }\n",
       "\n",
       "    .dataframe thead th {\n",
       "        text-align: right;\n",
       "    }\n",
       "</style>\n",
       "<table border=\"1\" class=\"dataframe\">\n",
       "  <thead>\n",
       "    <tr style=\"text-align: right;\">\n",
       "      <th></th>\n",
       "      <th>id</th>\n",
       "      <th>stadtteil</th>\n",
       "      <th>alter</th>\n",
       "      <th>entfernung</th>\n",
       "      <th>mo</th>\n",
       "      <th>di</th>\n",
       "      <th>mi</th>\n",
       "      <th>do</th>\n",
       "      <th>fr</th>\n",
       "      <th>sa</th>\n",
       "      <th>so</th>\n",
       "      <th>favorit</th>\n",
       "    </tr>\n",
       "  </thead>\n",
       "  <tbody>\n",
       "    <tr>\n",
       "      <th>18</th>\n",
       "      <td>W4166</td>\n",
       "      <td>West</td>\n",
       "      <td>10</td>\n",
       "      <td>2.46</td>\n",
       "      <td>Nein</td>\n",
       "      <td>Nein</td>\n",
       "      <td>Nein</td>\n",
       "      <td>Ja</td>\n",
       "      <td>Ja</td>\n",
       "      <td>Ja</td>\n",
       "      <td>Ja</td>\n",
       "      <td>Werken</td>\n",
       "    </tr>\n",
       "    <tr>\n",
       "      <th>33</th>\n",
       "      <td>W4166</td>\n",
       "      <td>West</td>\n",
       "      <td>10</td>\n",
       "      <td>2.46</td>\n",
       "      <td>Nein</td>\n",
       "      <td>Nein</td>\n",
       "      <td>Nein</td>\n",
       "      <td>Ja</td>\n",
       "      <td>Ja</td>\n",
       "      <td>Ja</td>\n",
       "      <td>Ja</td>\n",
       "      <td>Werken</td>\n",
       "    </tr>\n",
       "    <tr>\n",
       "      <th>35</th>\n",
       "      <td>W1787</td>\n",
       "      <td>West</td>\n",
       "      <td>10</td>\n",
       "      <td>1.96</td>\n",
       "      <td>Nein</td>\n",
       "      <td>Nein</td>\n",
       "      <td>Nein</td>\n",
       "      <td>Nein</td>\n",
       "      <td>Ja</td>\n",
       "      <td>Ja</td>\n",
       "      <td>Nein</td>\n",
       "      <td>Werken</td>\n",
       "    </tr>\n",
       "    <tr>\n",
       "      <th>58</th>\n",
       "      <td>W1787</td>\n",
       "      <td>West</td>\n",
       "      <td>10</td>\n",
       "      <td>1.96</td>\n",
       "      <td>Nein</td>\n",
       "      <td>Nein</td>\n",
       "      <td>Nein</td>\n",
       "      <td>Nein</td>\n",
       "      <td>Ja</td>\n",
       "      <td>Ja</td>\n",
       "      <td>Nein</td>\n",
       "      <td>Werken</td>\n",
       "    </tr>\n",
       "  </tbody>\n",
       "</table>\n",
       "</div>"
      ],
      "text/plain": [
       "       id stadtteil  alter  entfernung    mo    di    mi    do  fr  sa    so   \n",
       "18  W4166      West     10        2.46  Nein  Nein  Nein    Ja  Ja  Ja    Ja  \\\n",
       "33  W4166      West     10        2.46  Nein  Nein  Nein    Ja  Ja  Ja    Ja   \n",
       "35  W1787      West     10        1.96  Nein  Nein  Nein  Nein  Ja  Ja  Nein   \n",
       "58  W1787      West     10        1.96  Nein  Nein  Nein  Nein  Ja  Ja  Nein   \n",
       "\n",
       "   favorit  \n",
       "18  Werken  \n",
       "33  Werken  \n",
       "35  Werken  \n",
       "58  Werken  "
      ]
     },
     "execution_count": 296,
     "metadata": {},
     "output_type": "execute_result"
    }
   ],
   "source": [
    "df[duplicates]"
   ]
  },
  {
   "cell_type": "code",
   "execution_count": 297,
   "id": "c06af313",
   "metadata": {},
   "outputs": [
    {
     "name": "stdout",
     "output_type": "stream",
     "text": [
      "Anzahl der inkonsistenten Daten: 1\n"
     ]
    },
    {
     "data": {
      "text/html": [
       "<div>\n",
       "<style scoped>\n",
       "    .dataframe tbody tr th:only-of-type {\n",
       "        vertical-align: middle;\n",
       "    }\n",
       "\n",
       "    .dataframe tbody tr th {\n",
       "        vertical-align: top;\n",
       "    }\n",
       "\n",
       "    .dataframe thead th {\n",
       "        text-align: right;\n",
       "    }\n",
       "</style>\n",
       "<table border=\"1\" class=\"dataframe\">\n",
       "  <thead>\n",
       "    <tr style=\"text-align: right;\">\n",
       "      <th></th>\n",
       "      <th>id</th>\n",
       "      <th>stadtteil</th>\n",
       "      <th>alter</th>\n",
       "      <th>entfernung</th>\n",
       "      <th>mo</th>\n",
       "      <th>di</th>\n",
       "      <th>mi</th>\n",
       "      <th>do</th>\n",
       "      <th>fr</th>\n",
       "      <th>sa</th>\n",
       "      <th>so</th>\n",
       "      <th>favorit</th>\n",
       "    </tr>\n",
       "  </thead>\n",
       "  <tbody>\n",
       "    <tr>\n",
       "      <th>104</th>\n",
       "      <td>S3745</td>\n",
       "      <td>Süd</td>\n",
       "      <td>11</td>\n",
       "      <td>3.67</td>\n",
       "      <td>Ja</td>\n",
       "      <td>Nein</td>\n",
       "      <td>Nein</td>\n",
       "      <td>Ja</td>\n",
       "      <td>Ja</td>\n",
       "      <td>Ja</td>\n",
       "      <td>Ja</td>\n",
       "      <td>NaN</td>\n",
       "    </tr>\n",
       "  </tbody>\n",
       "</table>\n",
       "</div>"
      ],
      "text/plain": [
       "        id stadtteil  alter  entfernung  mo    di    mi  do  fr  sa  so   \n",
       "104  S3745       Süd     11        3.67  Ja  Nein  Nein  Ja  Ja  Ja  Ja  \\\n",
       "\n",
       "    favorit  \n",
       "104     NaN  "
      ]
     },
     "execution_count": 297,
     "metadata": {},
     "output_type": "execute_result"
    }
   ],
   "source": [
    "inconsistent_data = (df['mo'] == 'Ja') & (df['favorit'].isnull())\n",
    "print(\"Anzahl der inkonsistenten Daten:\", inconsistent_data.sum())\n",
    "\n",
    "df[inconsistent_data]"
   ]
  },
  {
   "cell_type": "code",
   "execution_count": 298,
   "id": "39391258",
   "metadata": {},
   "outputs": [
    {
     "data": {
      "text/plain": [
       "stadtteil\n",
       "Nord    N1952\n",
       "Ost     O2881\n",
       "Süd     S4836\n",
       "West    W1933\n",
       "Name: id, dtype: object"
      ]
     },
     "execution_count": 298,
     "metadata": {},
     "output_type": "execute_result"
    }
   ],
   "source": [
    "df.groupby(\"stadtteil\")[\"id\"].first()"
   ]
  },
  {
   "cell_type": "code",
   "execution_count": 299,
   "id": "1bfe545f",
   "metadata": {},
   "outputs": [
    {
     "data": {
      "text/plain": [
       "True"
      ]
     },
     "execution_count": 299,
     "metadata": {},
     "output_type": "execute_result"
    }
   ],
   "source": [
    "import re\n",
    "stadteil_mapping = {\n",
    "\"S\":\"Süd\",\n",
    "\"W\":\"West\",\n",
    "\"N\":\"Nord\",\n",
    "\"O\":\"Ost\",\n",
    "}\n",
    "\n",
    "# Ihre Lösung\n",
    "regular_expression = \"[A-Z]+\" # <- fügen Sie hier den entsprechenden regulären Ausdruck ein\n",
    " \n",
    "def check_id(id_, stadteil):\n",
    "    stadteil_id = \"\".join(re.findall(regular_expression, id_))\n",
    "    return stadteil_mapping.get(stadteil_id) == stadteil\n",
    "\n",
    "# Ist der Check für alle Zeilen des Datensatzes erfolgreich?\n",
    "df.apply(lambda x: check_id(x[\"id\"], x[\"stadtteil\"]), axis=1).all()"
   ]
  },
  {
   "cell_type": "code",
   "execution_count": 300,
   "id": "e9d9d4d6",
   "metadata": {},
   "outputs": [
    {
     "name": "stdout",
     "output_type": "stream",
     "text": [
      "Anzahl der ungültigen Werte in der Spalte 'Stadtteil': 0\n"
     ]
    }
   ],
   "source": [
    "#Gültigkeitsprüfung\n",
    "\n",
    "invalid_values = ~df['stadtteil'].isin(['Nord', 'Ost', 'Süd', 'West'])\n",
    "print(\"Anzahl der ungültigen Werte in der Spalte 'Stadtteil':\", invalid_values.sum())"
   ]
  },
  {
   "cell_type": "code",
   "execution_count": 301,
   "id": "b2bc5f7f",
   "metadata": {},
   "outputs": [
    {
     "name": "stdout",
     "output_type": "stream",
     "text": [
      "Anzahl der ungültigen Werte in der Spalte 'favorit':         id stadtteil  alter  entfernung    mo    di    mi    do    fr    sa   \n",
      "22   N3661      Nord     11        0.78  Nein  Nein    Ja  Nein  Nein  Nein  \\\n",
      "28   O2470       Ost     12        2.38  Nein    Ja  Nein  Nein    Ja    Ja   \n",
      "51   O1322       Ost     19        1.69     N     N     N     N     N     N   \n",
      "54   N2378      Nord     19        0.36     N     J     J     J     J     J   \n",
      "59   W4416      West     15        2.42     N     N     N     N     J     J   \n",
      "98   N3232      Nord      9        1.66  Nein    Ja    Ja  Nein  Nein    Ja   \n",
      "104  S3745       Süd     11        3.67    Ja  Nein  Nein    Ja    Ja    Ja   \n",
      "\n",
      "       so favorit  \n",
      "22     Ja     NaN  \n",
      "28     Ja     NaN  \n",
      "51      J     NaN  \n",
      "54      N     NaN  \n",
      "59      J     NaN  \n",
      "98   Nein     NaN  \n",
      "104    Ja     NaN  \n"
     ]
    }
   ],
   "source": [
    "\n",
    "invalid_values_favorit = ~df['favorit'].isin(['Kochen', 'Malen', 'Musik', 'Sport', 'Werken'])\n",
    "print(\"Anzahl der ungültigen Werte in der Spalte 'favorit':\", df[invalid_values_favorit])"
   ]
  },
  {
   "cell_type": "markdown",
   "id": "bfe27192",
   "metadata": {},
   "source": [
    "### Aufgabe 1.4 Data Cleaning (12 Punkte)\n",
    "Für eine sinnvolle Analyse sind diverse Vorverarbeitungsschritte notwendig. \n",
    "\n",
    "*Führen Sie Vorverarbeitungsmaßnahmen durch, die Ihrer Meinung nach nötig sind, um die Qualität der Daten zu verbessern. Begründen Sie für jede Maßnahme Ihr Vorgehen.*\n",
    "\n",
    "\n",
    "> **Achtung**: *Eine **Umbenennung** von Spalten ist aus Zeitgründen nicht notwendig!*"
   ]
  },
  {
   "cell_type": "code",
   "execution_count": 302,
   "id": "e9af7399",
   "metadata": {
    "tags": [
     "solution"
    ]
   },
   "outputs": [
    {
     "data": {
      "text/plain": [
       "Index(['mo', 'di', 'mi', 'do', 'fr', 'sa', 'so'], dtype='object')"
      ]
     },
     "execution_count": 302,
     "metadata": {},
     "output_type": "execute_result"
    }
   ],
   "source": [
    "# Ihre Lösung\n",
    "jein_recoding = {\n",
    "    'J': 'Ja',\n",
    "    'N': 'Nein'\n",
    "}\n",
    "df.columns[4:11]"
   ]
  },
  {
   "cell_type": "code",
   "execution_count": 303,
   "id": "64e114fc",
   "metadata": {},
   "outputs": [
    {
     "data": {
      "text/html": [
       "<div>\n",
       "<style scoped>\n",
       "    .dataframe tbody tr th:only-of-type {\n",
       "        vertical-align: middle;\n",
       "    }\n",
       "\n",
       "    .dataframe tbody tr th {\n",
       "        vertical-align: top;\n",
       "    }\n",
       "\n",
       "    .dataframe thead th {\n",
       "        text-align: right;\n",
       "    }\n",
       "</style>\n",
       "<table border=\"1\" class=\"dataframe\">\n",
       "  <thead>\n",
       "    <tr style=\"text-align: right;\">\n",
       "      <th></th>\n",
       "      <th>mo</th>\n",
       "      <th>di</th>\n",
       "      <th>mi</th>\n",
       "      <th>do</th>\n",
       "      <th>fr</th>\n",
       "      <th>sa</th>\n",
       "      <th>so</th>\n",
       "    </tr>\n",
       "  </thead>\n",
       "  <tbody>\n",
       "    <tr>\n",
       "      <th>0</th>\n",
       "      <td>Nein</td>\n",
       "      <td>Ja</td>\n",
       "      <td>Nein</td>\n",
       "      <td>Ja</td>\n",
       "      <td>Nein</td>\n",
       "      <td>Ja</td>\n",
       "      <td>Ja</td>\n",
       "    </tr>\n",
       "    <tr>\n",
       "      <th>1</th>\n",
       "      <td>Nein</td>\n",
       "      <td>Nein</td>\n",
       "      <td>Ja</td>\n",
       "      <td>Nein</td>\n",
       "      <td>Nein</td>\n",
       "      <td>Ja</td>\n",
       "      <td>Ja</td>\n",
       "    </tr>\n",
       "    <tr>\n",
       "      <th>2</th>\n",
       "      <td>Nein</td>\n",
       "      <td>Nein</td>\n",
       "      <td>Nein</td>\n",
       "      <td>Nein</td>\n",
       "      <td>Ja</td>\n",
       "      <td>Ja</td>\n",
       "      <td>Ja</td>\n",
       "    </tr>\n",
       "    <tr>\n",
       "      <th>3</th>\n",
       "      <td>Ja</td>\n",
       "      <td>Nein</td>\n",
       "      <td>Ja</td>\n",
       "      <td>Nein</td>\n",
       "      <td>Ja</td>\n",
       "      <td>Ja</td>\n",
       "      <td>Ja</td>\n",
       "    </tr>\n",
       "    <tr>\n",
       "      <th>4</th>\n",
       "      <td>Nein</td>\n",
       "      <td>Nein</td>\n",
       "      <td>Ja</td>\n",
       "      <td>Nein</td>\n",
       "      <td>Nein</td>\n",
       "      <td>Ja</td>\n",
       "      <td>Nein</td>\n",
       "    </tr>\n",
       "    <tr>\n",
       "      <th>...</th>\n",
       "      <td>...</td>\n",
       "      <td>...</td>\n",
       "      <td>...</td>\n",
       "      <td>...</td>\n",
       "      <td>...</td>\n",
       "      <td>...</td>\n",
       "      <td>...</td>\n",
       "    </tr>\n",
       "    <tr>\n",
       "      <th>106</th>\n",
       "      <td>Ja</td>\n",
       "      <td>Nein</td>\n",
       "      <td>Ja</td>\n",
       "      <td>Nein</td>\n",
       "      <td>Nein</td>\n",
       "      <td>Ja</td>\n",
       "      <td>Nein</td>\n",
       "    </tr>\n",
       "    <tr>\n",
       "      <th>107</th>\n",
       "      <td>Nein</td>\n",
       "      <td>Nein</td>\n",
       "      <td>Ja</td>\n",
       "      <td>Ja</td>\n",
       "      <td>Ja</td>\n",
       "      <td>Nein</td>\n",
       "      <td>Ja</td>\n",
       "    </tr>\n",
       "    <tr>\n",
       "      <th>108</th>\n",
       "      <td>Nein</td>\n",
       "      <td>Nein</td>\n",
       "      <td>Nein</td>\n",
       "      <td>Ja</td>\n",
       "      <td>Ja</td>\n",
       "      <td>Ja</td>\n",
       "      <td>Ja</td>\n",
       "    </tr>\n",
       "    <tr>\n",
       "      <th>109</th>\n",
       "      <td>Nein</td>\n",
       "      <td>Nein</td>\n",
       "      <td>Nein</td>\n",
       "      <td>Ja</td>\n",
       "      <td>Ja</td>\n",
       "      <td>Ja</td>\n",
       "      <td>Nein</td>\n",
       "    </tr>\n",
       "    <tr>\n",
       "      <th>110</th>\n",
       "      <td>Nein</td>\n",
       "      <td>Ja</td>\n",
       "      <td>Nein</td>\n",
       "      <td>Nein</td>\n",
       "      <td>Ja</td>\n",
       "      <td>Ja</td>\n",
       "      <td>Nein</td>\n",
       "    </tr>\n",
       "  </tbody>\n",
       "</table>\n",
       "<p>111 rows × 7 columns</p>\n",
       "</div>"
      ],
      "text/plain": [
       "       mo    di    mi    do    fr    sa    so\n",
       "0    Nein    Ja  Nein    Ja  Nein    Ja    Ja\n",
       "1    Nein  Nein    Ja  Nein  Nein    Ja    Ja\n",
       "2    Nein  Nein  Nein  Nein    Ja    Ja    Ja\n",
       "3      Ja  Nein    Ja  Nein    Ja    Ja    Ja\n",
       "4    Nein  Nein    Ja  Nein  Nein    Ja  Nein\n",
       "..    ...   ...   ...   ...   ...   ...   ...\n",
       "106    Ja  Nein    Ja  Nein  Nein    Ja  Nein\n",
       "107  Nein  Nein    Ja    Ja    Ja  Nein    Ja\n",
       "108  Nein  Nein  Nein    Ja    Ja    Ja    Ja\n",
       "109  Nein  Nein  Nein    Ja    Ja    Ja  Nein\n",
       "110  Nein    Ja  Nein  Nein    Ja    Ja  Nein\n",
       "\n",
       "[111 rows x 7 columns]"
      ]
     },
     "execution_count": 303,
     "metadata": {},
     "output_type": "execute_result"
    }
   ],
   "source": [
    "#Spalten umbennen:\n",
    "for col in df.columns[4:11]:\n",
    "    df[col] = df[col].replace(jein_recoding)\n",
    "\n",
    "\n",
    "df.iloc[:, 4:11]"
   ]
  },
  {
   "cell_type": "code",
   "execution_count": 304,
   "id": "89620ad7",
   "metadata": {},
   "outputs": [
    {
     "name": "stdout",
     "output_type": "stream",
     "text": [
      "Anzahl der Duplikate in der Spalte 'ID': 4\n"
     ]
    },
    {
     "data": {
      "text/html": [
       "<div>\n",
       "<style scoped>\n",
       "    .dataframe tbody tr th:only-of-type {\n",
       "        vertical-align: middle;\n",
       "    }\n",
       "\n",
       "    .dataframe tbody tr th {\n",
       "        vertical-align: top;\n",
       "    }\n",
       "\n",
       "    .dataframe thead th {\n",
       "        text-align: right;\n",
       "    }\n",
       "</style>\n",
       "<table border=\"1\" class=\"dataframe\">\n",
       "  <thead>\n",
       "    <tr style=\"text-align: right;\">\n",
       "      <th></th>\n",
       "      <th>id</th>\n",
       "      <th>stadtteil</th>\n",
       "      <th>alter</th>\n",
       "      <th>entfernung</th>\n",
       "      <th>mo</th>\n",
       "      <th>di</th>\n",
       "      <th>mi</th>\n",
       "      <th>do</th>\n",
       "      <th>fr</th>\n",
       "      <th>sa</th>\n",
       "      <th>so</th>\n",
       "      <th>favorit</th>\n",
       "    </tr>\n",
       "  </thead>\n",
       "  <tbody>\n",
       "    <tr>\n",
       "      <th>18</th>\n",
       "      <td>W4166</td>\n",
       "      <td>West</td>\n",
       "      <td>10</td>\n",
       "      <td>2.46</td>\n",
       "      <td>Nein</td>\n",
       "      <td>Nein</td>\n",
       "      <td>Nein</td>\n",
       "      <td>Ja</td>\n",
       "      <td>Ja</td>\n",
       "      <td>Ja</td>\n",
       "      <td>Ja</td>\n",
       "      <td>Werken</td>\n",
       "    </tr>\n",
       "    <tr>\n",
       "      <th>33</th>\n",
       "      <td>W4166</td>\n",
       "      <td>West</td>\n",
       "      <td>10</td>\n",
       "      <td>2.46</td>\n",
       "      <td>Nein</td>\n",
       "      <td>Nein</td>\n",
       "      <td>Nein</td>\n",
       "      <td>Ja</td>\n",
       "      <td>Ja</td>\n",
       "      <td>Ja</td>\n",
       "      <td>Ja</td>\n",
       "      <td>Werken</td>\n",
       "    </tr>\n",
       "    <tr>\n",
       "      <th>35</th>\n",
       "      <td>W1787</td>\n",
       "      <td>West</td>\n",
       "      <td>10</td>\n",
       "      <td>1.96</td>\n",
       "      <td>Nein</td>\n",
       "      <td>Nein</td>\n",
       "      <td>Nein</td>\n",
       "      <td>Nein</td>\n",
       "      <td>Ja</td>\n",
       "      <td>Ja</td>\n",
       "      <td>Nein</td>\n",
       "      <td>Werken</td>\n",
       "    </tr>\n",
       "    <tr>\n",
       "      <th>58</th>\n",
       "      <td>W1787</td>\n",
       "      <td>West</td>\n",
       "      <td>10</td>\n",
       "      <td>1.96</td>\n",
       "      <td>Nein</td>\n",
       "      <td>Nein</td>\n",
       "      <td>Nein</td>\n",
       "      <td>Nein</td>\n",
       "      <td>Ja</td>\n",
       "      <td>Ja</td>\n",
       "      <td>Nein</td>\n",
       "      <td>Werken</td>\n",
       "    </tr>\n",
       "  </tbody>\n",
       "</table>\n",
       "</div>"
      ],
      "text/plain": [
       "       id stadtteil  alter  entfernung    mo    di    mi    do  fr  sa    so   \n",
       "18  W4166      West     10        2.46  Nein  Nein  Nein    Ja  Ja  Ja    Ja  \\\n",
       "33  W4166      West     10        2.46  Nein  Nein  Nein    Ja  Ja  Ja    Ja   \n",
       "35  W1787      West     10        1.96  Nein  Nein  Nein  Nein  Ja  Ja  Nein   \n",
       "58  W1787      West     10        1.96  Nein  Nein  Nein  Nein  Ja  Ja  Nein   \n",
       "\n",
       "   favorit  \n",
       "18  Werken  \n",
       "33  Werken  \n",
       "35  Werken  \n",
       "58  Werken  "
      ]
     },
     "execution_count": 304,
     "metadata": {},
     "output_type": "execute_result"
    }
   ],
   "source": [
    "duplicates = df.duplicated(subset=['id'], keep=False)\n",
    "print(\"Anzahl der Duplikate in der Spalte 'ID':\", duplicates.sum())\n",
    "df[duplicates]"
   ]
  },
  {
   "cell_type": "code",
   "execution_count": 305,
   "id": "81c41ded",
   "metadata": {},
   "outputs": [
    {
     "data": {
      "text/plain": [
       "0"
      ]
     },
     "execution_count": 305,
     "metadata": {},
     "output_type": "execute_result"
    }
   ],
   "source": [
    "df.drop_duplicates(subset=['id'], keep='first', inplace=True)\n",
    "df.duplicated(subset=['id'], keep=False).sum()"
   ]
  },
  {
   "cell_type": "code",
   "execution_count": 306,
   "id": "0f643bf1",
   "metadata": {},
   "outputs": [
    {
     "data": {
      "text/html": [
       "<div>\n",
       "<style scoped>\n",
       "    .dataframe tbody tr th:only-of-type {\n",
       "        vertical-align: middle;\n",
       "    }\n",
       "\n",
       "    .dataframe tbody tr th {\n",
       "        vertical-align: top;\n",
       "    }\n",
       "\n",
       "    .dataframe thead th {\n",
       "        text-align: right;\n",
       "    }\n",
       "</style>\n",
       "<table border=\"1\" class=\"dataframe\">\n",
       "  <thead>\n",
       "    <tr style=\"text-align: right;\">\n",
       "      <th></th>\n",
       "      <th>id</th>\n",
       "      <th>stadtteil</th>\n",
       "      <th>alter</th>\n",
       "      <th>entfernung</th>\n",
       "      <th>montag</th>\n",
       "      <th>dienstag</th>\n",
       "      <th>mittwoch</th>\n",
       "      <th>donnerstag</th>\n",
       "      <th>freitag</th>\n",
       "      <th>samstag</th>\n",
       "      <th>sonntag</th>\n",
       "      <th>favorit</th>\n",
       "    </tr>\n",
       "  </thead>\n",
       "  <tbody>\n",
       "    <tr>\n",
       "      <th>0</th>\n",
       "      <td>W1933</td>\n",
       "      <td>West</td>\n",
       "      <td>9</td>\n",
       "      <td>2.57</td>\n",
       "      <td>Nein</td>\n",
       "      <td>Ja</td>\n",
       "      <td>Nein</td>\n",
       "      <td>Ja</td>\n",
       "      <td>Nein</td>\n",
       "      <td>Ja</td>\n",
       "      <td>Ja</td>\n",
       "      <td>Malen</td>\n",
       "    </tr>\n",
       "    <tr>\n",
       "      <th>1</th>\n",
       "      <td>W3885</td>\n",
       "      <td>West</td>\n",
       "      <td>9</td>\n",
       "      <td>2.44</td>\n",
       "      <td>Nein</td>\n",
       "      <td>Nein</td>\n",
       "      <td>Ja</td>\n",
       "      <td>Nein</td>\n",
       "      <td>Nein</td>\n",
       "      <td>Ja</td>\n",
       "      <td>Ja</td>\n",
       "      <td>Malen</td>\n",
       "    </tr>\n",
       "    <tr>\n",
       "      <th>2</th>\n",
       "      <td>W2138</td>\n",
       "      <td>West</td>\n",
       "      <td>17</td>\n",
       "      <td>2.84</td>\n",
       "      <td>Nein</td>\n",
       "      <td>Nein</td>\n",
       "      <td>Nein</td>\n",
       "      <td>Nein</td>\n",
       "      <td>Ja</td>\n",
       "      <td>Ja</td>\n",
       "      <td>Ja</td>\n",
       "      <td>Kochen</td>\n",
       "    </tr>\n",
       "    <tr>\n",
       "      <th>3</th>\n",
       "      <td>O2881</td>\n",
       "      <td>Ost</td>\n",
       "      <td>10</td>\n",
       "      <td>1.70</td>\n",
       "      <td>Ja</td>\n",
       "      <td>Nein</td>\n",
       "      <td>Ja</td>\n",
       "      <td>Nein</td>\n",
       "      <td>Ja</td>\n",
       "      <td>Ja</td>\n",
       "      <td>Ja</td>\n",
       "      <td>Werken</td>\n",
       "    </tr>\n",
       "    <tr>\n",
       "      <th>4</th>\n",
       "      <td>N1952</td>\n",
       "      <td>Nord</td>\n",
       "      <td>9</td>\n",
       "      <td>0.87</td>\n",
       "      <td>Nein</td>\n",
       "      <td>Nein</td>\n",
       "      <td>Ja</td>\n",
       "      <td>Nein</td>\n",
       "      <td>Nein</td>\n",
       "      <td>Ja</td>\n",
       "      <td>Nein</td>\n",
       "      <td>Musik</td>\n",
       "    </tr>\n",
       "    <tr>\n",
       "      <th>...</th>\n",
       "      <td>...</td>\n",
       "      <td>...</td>\n",
       "      <td>...</td>\n",
       "      <td>...</td>\n",
       "      <td>...</td>\n",
       "      <td>...</td>\n",
       "      <td>...</td>\n",
       "      <td>...</td>\n",
       "      <td>...</td>\n",
       "      <td>...</td>\n",
       "      <td>...</td>\n",
       "      <td>...</td>\n",
       "    </tr>\n",
       "    <tr>\n",
       "      <th>106</th>\n",
       "      <td>N1026</td>\n",
       "      <td>Nord</td>\n",
       "      <td>19</td>\n",
       "      <td>0.29</td>\n",
       "      <td>Ja</td>\n",
       "      <td>Nein</td>\n",
       "      <td>Ja</td>\n",
       "      <td>Nein</td>\n",
       "      <td>Nein</td>\n",
       "      <td>Ja</td>\n",
       "      <td>Nein</td>\n",
       "      <td>Sport</td>\n",
       "    </tr>\n",
       "    <tr>\n",
       "      <th>107</th>\n",
       "      <td>S3495</td>\n",
       "      <td>Süd</td>\n",
       "      <td>12</td>\n",
       "      <td>NaN</td>\n",
       "      <td>Nein</td>\n",
       "      <td>Nein</td>\n",
       "      <td>Ja</td>\n",
       "      <td>Ja</td>\n",
       "      <td>Ja</td>\n",
       "      <td>Nein</td>\n",
       "      <td>Ja</td>\n",
       "      <td>Sport</td>\n",
       "    </tr>\n",
       "    <tr>\n",
       "      <th>108</th>\n",
       "      <td>N1102</td>\n",
       "      <td>Nord</td>\n",
       "      <td>12</td>\n",
       "      <td>0.44</td>\n",
       "      <td>Nein</td>\n",
       "      <td>Nein</td>\n",
       "      <td>Nein</td>\n",
       "      <td>Ja</td>\n",
       "      <td>Ja</td>\n",
       "      <td>Ja</td>\n",
       "      <td>Ja</td>\n",
       "      <td>Sport</td>\n",
       "    </tr>\n",
       "    <tr>\n",
       "      <th>109</th>\n",
       "      <td>O4397</td>\n",
       "      <td>Ost</td>\n",
       "      <td>14</td>\n",
       "      <td>1.59</td>\n",
       "      <td>Nein</td>\n",
       "      <td>Nein</td>\n",
       "      <td>Nein</td>\n",
       "      <td>Ja</td>\n",
       "      <td>Ja</td>\n",
       "      <td>Ja</td>\n",
       "      <td>Nein</td>\n",
       "      <td>Kochen</td>\n",
       "    </tr>\n",
       "    <tr>\n",
       "      <th>110</th>\n",
       "      <td>S3600</td>\n",
       "      <td>Süd</td>\n",
       "      <td>9</td>\n",
       "      <td>4.76</td>\n",
       "      <td>Nein</td>\n",
       "      <td>Ja</td>\n",
       "      <td>Nein</td>\n",
       "      <td>Nein</td>\n",
       "      <td>Ja</td>\n",
       "      <td>Ja</td>\n",
       "      <td>Nein</td>\n",
       "      <td>Malen</td>\n",
       "    </tr>\n",
       "  </tbody>\n",
       "</table>\n",
       "<p>109 rows × 12 columns</p>\n",
       "</div>"
      ],
      "text/plain": [
       "        id stadtteil  alter  entfernung montag dienstag mittwoch donnerstag   \n",
       "0    W1933      West      9        2.57   Nein       Ja     Nein         Ja  \\\n",
       "1    W3885      West      9        2.44   Nein     Nein       Ja       Nein   \n",
       "2    W2138      West     17        2.84   Nein     Nein     Nein       Nein   \n",
       "3    O2881       Ost     10        1.70     Ja     Nein       Ja       Nein   \n",
       "4    N1952      Nord      9        0.87   Nein     Nein       Ja       Nein   \n",
       "..     ...       ...    ...         ...    ...      ...      ...        ...   \n",
       "106  N1026      Nord     19        0.29     Ja     Nein       Ja       Nein   \n",
       "107  S3495       Süd     12         NaN   Nein     Nein       Ja         Ja   \n",
       "108  N1102      Nord     12        0.44   Nein     Nein     Nein         Ja   \n",
       "109  O4397       Ost     14        1.59   Nein     Nein     Nein         Ja   \n",
       "110  S3600       Süd      9        4.76   Nein       Ja     Nein       Nein   \n",
       "\n",
       "    freitag samstag sonntag favorit  \n",
       "0      Nein      Ja      Ja   Malen  \n",
       "1      Nein      Ja      Ja   Malen  \n",
       "2        Ja      Ja      Ja  Kochen  \n",
       "3        Ja      Ja      Ja  Werken  \n",
       "4      Nein      Ja    Nein   Musik  \n",
       "..      ...     ...     ...     ...  \n",
       "106    Nein      Ja    Nein   Sport  \n",
       "107      Ja    Nein      Ja   Sport  \n",
       "108      Ja      Ja      Ja   Sport  \n",
       "109      Ja      Ja    Nein  Kochen  \n",
       "110      Ja      Ja    Nein   Malen  \n",
       "\n",
       "[109 rows x 12 columns]"
      ]
     },
     "execution_count": 306,
     "metadata": {},
     "output_type": "execute_result"
    }
   ],
   "source": [
    "#rename columns\n",
    "columns_recoding = {\n",
    "    'mo': 'montag',\n",
    "    'di': 'dienstag',\n",
    "    'mi': 'mittwoch',\n",
    "    'do': 'donnerstag',\n",
    "    'fr': 'freitag',\n",
    "    'sa': 'samstag',\n",
    "    'so': 'sonntag'\n",
    "}\n",
    "df = df.rename(columns=columns_recoding)\n",
    "df"
   ]
  },
  {
   "cell_type": "code",
   "execution_count": 307,
   "id": "a9521a2d",
   "metadata": {
    "tags": [
     "solution"
    ]
   },
   "outputs": [
    {
     "data": {
      "text/plain": [
       "stadtteil\n",
       "Nord    0.927400\n",
       "Ost     2.186957\n",
       "Süd     4.058182\n",
       "West    2.308571\n",
       "Name: entfernung, dtype: float64"
      ]
     },
     "execution_count": 307,
     "metadata": {},
     "output_type": "execute_result"
    }
   ],
   "source": [
    "df_stadtteil = df.groupby('stadtteil')['entfernung'].mean()\n",
    "df_stadtteil"
   ]
  },
  {
   "cell_type": "code",
   "execution_count": 308,
   "id": "c1a0447a",
   "metadata": {},
   "outputs": [],
   "source": [
    "for stadtteil in df_stadtteil.index:\n",
    "    df.loc[df[\"stadtteil\"]==stadtteil, 'entfernung'] = df.loc[df[\"stadtteil\"]==stadtteil, 'entfernung'].fillna(df_stadtteil[stadtteil])"
   ]
  },
  {
   "cell_type": "code",
   "execution_count": 309,
   "id": "12725b87",
   "metadata": {},
   "outputs": [
    {
     "data": {
      "text/plain": [
       "0"
      ]
     },
     "execution_count": 309,
     "metadata": {},
     "output_type": "execute_result"
    }
   ],
   "source": [
    "df['entfernung'].isna().sum()"
   ]
  },
  {
   "cell_type": "code",
   "execution_count": 310,
   "id": "0a2bc334",
   "metadata": {},
   "outputs": [],
   "source": [
    "df[\"favorit\"] = df[\"favorit\"].fillna(\"Nicht angegeben\")\n"
   ]
  },
  {
   "cell_type": "code",
   "execution_count": 311,
   "id": "c7bafb0e",
   "metadata": {},
   "outputs": [
    {
     "data": {
      "text/plain": [
       "favorit\n",
       "Malen              30\n",
       "Sport              22\n",
       "Kochen             21\n",
       "Werken             19\n",
       "Musik              10\n",
       "Nicht angegeben     7\n",
       "Name: count, dtype: int64"
      ]
     },
     "execution_count": 311,
     "metadata": {},
     "output_type": "execute_result"
    }
   ],
   "source": [
    "df['favorit'].value_counts()"
   ]
  },
  {
   "cell_type": "code",
   "execution_count": 321,
   "id": "1c0fbe35",
   "metadata": {},
   "outputs": [
    {
     "data": {
      "text/plain": [
       "favorit\n",
       "Malen    30\n",
       "Sport    22\n",
       "Name: count, dtype: int64"
      ]
     },
     "execution_count": 321,
     "metadata": {},
     "output_type": "execute_result"
    }
   ],
   "source": [
    "df['favorit'].value_counts()[[\"Malen\", \"Sport\"]]"
   ]
  },
  {
   "cell_type": "markdown",
   "id": "d3feaf01",
   "metadata": {},
   "source": [
    "### Aufgabe 1.5 Analyse Stadtteil (3 + 3 Punkte)\n",
    "\n",
    "*Gibt es einen Unterschied in der Anzahl Jugendlicher pro Stadtteil? Passt das Ergebnis zu den Informationen, die Sie über das Jugenzentrum haben? (3 Punkte)*\n",
    "\n",
    "Interpretieren Sie die Aussage Ihres Codes, indem Sie die Antwort auf die Frage in die dafür vorgesehene Raw-Zelle schreiben."
   ]
  },
  {
   "cell_type": "code",
   "execution_count": 322,
   "id": "8585d908",
   "metadata": {
    "tags": [
     "solution"
    ]
   },
   "outputs": [
    {
     "data": {
      "text/plain": [
       "stadtteil\n",
       "Nord    52\n",
       "Ost     23\n",
       "West    22\n",
       "Süd     12\n",
       "Name: count, dtype: int64"
      ]
     },
     "execution_count": 322,
     "metadata": {},
     "output_type": "execute_result"
    }
   ],
   "source": [
    "df['stadtteil'].value_counts()"
   ]
  },
  {
   "cell_type": "code",
   "execution_count": 323,
   "id": "17345b5d",
   "metadata": {},
   "outputs": [
    {
     "data": {
      "text/plain": [
       "stadtteil\n",
       "Nord    0.927400\n",
       "Ost     2.186957\n",
       "Süd     4.058182\n",
       "West    2.308571\n",
       "Name: entfernung, dtype: float64"
      ]
     },
     "execution_count": 323,
     "metadata": {},
     "output_type": "execute_result"
    }
   ],
   "source": [
    "df.groupby('stadtteil')['entfernung'].mean()"
   ]
  },
  {
   "cell_type": "raw",
   "id": "6f8cfde0",
   "metadata": {
    "tags": [
     "solution"
    ]
   },
   "source": [
    "JA die Anzahl der jugendliche pron Stadtteil variiert. Man könnte sagen dass jugendliche aus der Nordstadt überrepräsentiert, während jugendliche aus der Südstadt unterrepräsentiert sind. Dies ist wahrscheinlich damit begründet, dass die durchschnittliche Entfernung der Jugendlichen zum Jugendzentrum ebenfalls je nach Stadtteil variiert. Allerdings stimmt das mit der Infromationen vom PDF überein, da in den Anmerkungen angegeben wurde, dass Ost und West ungefähr gleich weit von Nord entfernt sind und Süd etwas weiter weg ist."
   ]
  },
  {
   "cell_type": "markdown",
   "id": "8dc21512",
   "metadata": {},
   "source": [
    "*Gibt es in der Wahl des Favoriten einen Unterschied in Abhängigkeit des Stadtteils? Beantworten Sie die Frage mithilfe von Kreisdiagrammen. Erstellen Sie dabei ein Kreisdiagramm pro Stadtteil. (3 Punkte)*"
   ]
  },
  {
   "cell_type": "code",
   "execution_count": 334,
   "id": "771918f9",
   "metadata": {},
   "outputs": [
    {
     "data": {
      "text/plain": [
       "array([[<Axes: ylabel='Nord'>, <Axes: ylabel='Ost'>],\n",
       "       [<Axes: ylabel='Süd'>, <Axes: ylabel='West'>]], dtype=object)"
      ]
     },
     "execution_count": 334,
     "metadata": {},
     "output_type": "execute_result"
    },
    {
     "data": {
      "image/png": "[encoded data removed]",
      "text/plain": [
       "<Figure size 1500x1000 with 4 Axes>"
      ]
     },
     "metadata": {},
     "output_type": "display_data"
    }
   ],
   "source": [
    "df.groupby(['stadtteil','favorit'])\\\n",
    ".size()\\\n",
    ".unstack('stadtteil')\\\n",
    ".plot(kind='pie',subplots=True, figsize=(15,10), layout=(2, 2), autopct='%1.1f%%')"
   ]
  },
  {
   "cell_type": "markdown",
   "id": "13903a1d",
   "metadata": {},
   "source": [
    "### Aufgabe 1.6  Analyse Alter (2 + 3 Punkte)"
   ]
  },
  {
   "cell_type": "markdown",
   "id": "d81ef3a0",
   "metadata": {},
   "source": [
    "*Analysieren Sie die Verteilung des Alters. Ist zu erkennen, ob eher jüngere oder eher ältere Jugendliche an der Umfrage teilgenommen haben? Entspricht die Verteilung der Befragten der aller Jugendlichen? (2 Punkte)*"
   ]
  },
  {
   "cell_type": "code",
   "execution_count": 337,
   "id": "804c292e",
   "metadata": {},
   "outputs": [
    {
     "data": {
      "text/plain": [
       "count    109.000000\n",
       "mean      12.330275\n",
       "std        3.165365\n",
       "min        9.000000\n",
       "25%       10.000000\n",
       "50%       11.000000\n",
       "75%       15.000000\n",
       "max       19.000000\n",
       "Name: alter, dtype: float64"
      ]
     },
     "execution_count": 337,
     "metadata": {},
     "output_type": "execute_result"
    }
   ],
   "source": [
    "df['alter'].describe()"
   ]
  },
  {
   "cell_type": "code",
   "execution_count": 336,
   "id": "595f63a1",
   "metadata": {
    "tags": [
     "solution"
    ]
   },
   "outputs": [
    {
     "data": {
      "text/plain": [
       "array([[<Axes: title={'center': 'alter'}>]], dtype=object)"
      ]
     },
     "execution_count": 336,
     "metadata": {},
     "output_type": "execute_result"
    },
    {
     "data": {
      "image/png": "[encoded data removed]",
      "text/plain": [
       "<Figure size 640x480 with 1 Axes>"
      ]
     },
     "metadata": {},
     "output_type": "display_data"
    }
   ],
   "source": [
    "df.hist(column='alter', bins=20, color='blue')\n"
   ]
  },
  {
   "cell_type": "raw",
   "id": "a95d37ca",
   "metadata": {
    "tags": [
     "solution"
    ]
   },
   "source": [
    "die deskriptiven Statistiken zeigen, dass das Durchschnittsalter der Jugendlichen, die an der Umfrage teilgenommen haben, etwa 12,33 Jahre beträgt. Die Standardabweichung beträgt etwa 3,17 Jahre, was darauf hindeutet, dass das Alter der Jugendlichen um das Durchschnittsalter herum ziemlich gut verteilt ist.\n",
    "\n",
    "Die Quartilwerte zeigen, dass 25% der Jugendlichen 10 Jahre oder jünger sind und 50% (also der Median) 11 Jahre oder jünger sind.\n",
    "Diese Statistiken deuten darauf hin, dass eher jüngere Jugendliche an der Umfrage teilgenommen haben, da der Median (11 Jahre) unter dem Durchschnittsalter liegt. "
   ]
  },
  {
   "cell_type": "markdown",
   "id": "0ca9d6c1",
   "metadata": {},
   "source": [
    "*Hängt die Wahl des Favoriten vom Alter ab? Erstellen Sie zur Beantwortung der Frage ein Säulendiagramm, bei pro Alter die Anzahl des Favoriten gezählt wird. (3 Punkte)*"
   ]
  },
  {
   "cell_type": "code",
   "execution_count": 382,
   "id": "c4ee93a5",
   "metadata": {
    "tags": [
     "solution"
    ]
   },
   "outputs": [
    {
     "data": {
      "image/png": "[encoded data removed]",
      "text/plain": [
       "<Figure size 640x480 with 1 Axes>"
      ]
     },
     "metadata": {},
     "output_type": "display_data"
    }
   ],
   "source": [
    "df.groupby(['alter','favorit'])\\\n",
    ".size()\\\n",
    ".unstack('favorit')\\\n",
    ".plot(kind='bar')\n",
    "\n",
    "plt.title('Anzahl favoriten pro Alter')\n",
    "plt.ylabel('Anzahl favoriten')  # Füge  \n",
    "plt.show()"
   ]
  },
  {
   "cell_type": "markdown",
   "id": "8f7a3561",
   "metadata": {},
   "source": [
    "### Aufgabe 1.7 Analyse Wochentage (4 Punkte)\n",
    "*An welchem Tag kommen die meisten Jugendlichen ins Jugendzentrum? Beantworten Sie die Frage mit einem Säulendiagramm.*\n",
    "\n",
    "> **Achtung**: *Da diese Aufgabe etwas komplexer ist, gibt es hier einen Punkt mehr als bei den anderen Diagrammen.*"
   ]
  },
  {
   "cell_type": "code",
   "execution_count": 373,
   "id": "35f413ac",
   "metadata": {},
   "outputs": [
    {
     "data": {
      "text/html": [
       "<div>\n",
       "<style scoped>\n",
       "    .dataframe tbody tr th:only-of-type {\n",
       "        vertical-align: middle;\n",
       "    }\n",
       "\n",
       "    .dataframe tbody tr th {\n",
       "        vertical-align: top;\n",
       "    }\n",
       "\n",
       "    .dataframe thead th {\n",
       "        text-align: right;\n",
       "    }\n",
       "</style>\n",
       "<table border=\"1\" class=\"dataframe\">\n",
       "  <thead>\n",
       "    <tr style=\"text-align: right;\">\n",
       "      <th></th>\n",
       "      <th>Tag</th>\n",
       "      <th>Anzahl_besuche</th>\n",
       "    </tr>\n",
       "  </thead>\n",
       "  <tbody>\n",
       "    <tr>\n",
       "      <th>0</th>\n",
       "      <td>montag</td>\n",
       "      <td>40</td>\n",
       "    </tr>\n",
       "    <tr>\n",
       "      <th>1</th>\n",
       "      <td>dienstag</td>\n",
       "      <td>38</td>\n",
       "    </tr>\n",
       "    <tr>\n",
       "      <th>2</th>\n",
       "      <td>mittwoch</td>\n",
       "      <td>40</td>\n",
       "    </tr>\n",
       "    <tr>\n",
       "      <th>3</th>\n",
       "      <td>donnerstag</td>\n",
       "      <td>47</td>\n",
       "    </tr>\n",
       "    <tr>\n",
       "      <th>4</th>\n",
       "      <td>freitag</td>\n",
       "      <td>76</td>\n",
       "    </tr>\n",
       "    <tr>\n",
       "      <th>5</th>\n",
       "      <td>samstag</td>\n",
       "      <td>82</td>\n",
       "    </tr>\n",
       "    <tr>\n",
       "      <th>6</th>\n",
       "      <td>sonntag</td>\n",
       "      <td>69</td>\n",
       "    </tr>\n",
       "  </tbody>\n",
       "</table>\n",
       "</div>"
      ],
      "text/plain": [
       "          Tag  Anzahl_besuche\n",
       "0      montag              40\n",
       "1    dienstag              38\n",
       "2    mittwoch              40\n",
       "3  donnerstag              47\n",
       "4     freitag              76\n",
       "5     samstag              82\n",
       "6     sonntag              69"
      ]
     },
     "execution_count": 373,
     "metadata": {},
     "output_type": "execute_result"
    }
   ],
   "source": [
    "tage = df.columns[4:11].to_list()\n",
    "\n",
    "besuche = []\n",
    "for tag in tage:\n",
    "    besuche.append(len(df[df[tag] == 'Ja']))\n",
    "    \n",
    "df_neu = pd.DataFrame({\n",
    "'Tag': tage,\n",
    "'Anzahl_besuche': besuche})"
   ]
  },
  {
   "cell_type": "code",
   "execution_count": 380,
   "id": "c5dcd94e",
   "metadata": {
    "tags": [
     "solution"
    ]
   },
   "outputs": [
    {
     "data": {
      "image/png": "[encoded data removed]",
      "text/plain": [
       "<Figure size 640x480 with 1 Axes>"
      ]
     },
     "metadata": {},
     "output_type": "display_data"
    }
   ],
   "source": [
    "df_neu.plot(kind='bar', x='Tag', y='Anzahl_besuche')\n",
    "\n",
    "plt.title('Anzahl Besuche pro Tag')\n",
    "plt.ylabel('Anzahl Besuche') \n",
    "plt.xlabel('Tag')  # Füge\n",
    "\n",
    "plt.show()\n"
   ]
  },
  {
   "cell_type": "raw",
   "id": "7921e9d2",
   "metadata": {
    "tags": [
     "solution"
    ]
   },
   "source": [
    "Ihre Interpretation des Diagramms:"
   ]
  },
  {
   "cell_type": "markdown",
   "id": "d941ae32",
   "metadata": {},
   "source": [
    "### Aufgabe 1.8 Data Fitness (6 Punkte)\n",
    "\n",
    "*Entsprechend Ihrer Analysen: Beurteilen Sie die Data Fitness. Orientieren Sie sich dabei an den 3 Aspekten, die Sie im Buch von McGregor in Kapitel 3 kennengelernt haben (6 Punkte).*"
   ]
  },
  {
   "cell_type": "raw",
   "id": "64eb8088",
   "metadata": {
    "tags": [
     "solution"
    ]
   },
   "source": [
    "Ihre Antwort:\n"
   ]
  },
  {
   "cell_type": "markdown",
   "id": "ffbee626",
   "metadata": {},
   "source": [
    "### Aufgabe 1.9 Ergebnis (3 + 4 Punkte)"
   ]
  },
  {
   "cell_type": "markdown",
   "id": "19e4dc4a",
   "metadata": {},
   "source": [
    "*Wenn Sie eine Entscheidung treffen müssten: Welche neue Aktivität sollte eingeführt werden und an welchem Wochentag? Beurteilen Sie die Aussagekraft dieses Ergebnisses in Bezug zu Ihrer Einschätzung von Data Fitness. (3 Punkte)*"
   ]
  },
  {
   "cell_type": "raw",
   "id": "5c85cd27",
   "metadata": {
    "tags": [
     "solution"
    ]
   },
   "source": [
    "Ihre Antwort:"
   ]
  },
  {
   "cell_type": "markdown",
   "id": "c225334d",
   "metadata": {},
   "source": [
    "*Nennen Sie die Aspekte, die bei der aktuellen Umfrage nicht beachtet wurden, aber Ihrer Meinung nach für den Anwendungsfall wichtig sind. Begründen Sie diese Aspekte und geben Sie außerdem an, welches Qualitätskriterium Sie damit verbessern würden. (4 Punkte)*"
   ]
  },
  {
   "cell_type": "raw",
   "id": "64b942b3",
   "metadata": {
    "tags": [
     "solution"
    ]
   },
   "source": [
    "Ihre Antwort:"
   ]
  },
  {
   "cell_type": "markdown",
   "id": "6db9a893",
   "metadata": {},
   "source": [
    "<span style=\"color:white\">\\newpage</span>."
   ]
  },
  {
   "cell_type": "markdown",
   "id": "53c6f372",
   "metadata": {},
   "source": [
    "## Aufgabe 2 - Big Data Analysis (15 Punkte)\n",
    "In diesem Aufgabenbereich geht es um Hadoop und Spark."
   ]
  },
  {
   "attachments": {
    "grafik-3.png": {
     "image/png": "[encoded data removed]"
    }
   },
   "cell_type": "markdown",
   "id": "e0d62ddd",
   "metadata": {},
   "source": [
    "### Aufgabe 2.1 Eigenschaften von Spark (3 Punkte)\n",
    "Betrachten Sie folgendes Code-Beispiel:\n",
    "\n",
    "> **Hinweis:** `**`-Operator = Potenz, z.B. `2**2 = 4`\n",
    "\n",
    "![grafik-3.png](attachment:grafik-3.png)\n",
    "\n",
    "*Warum tritt hier kein Fehler auf, obwohl es nicht möglich ist, Strings zu potenzieren? Welches Prinzip von Spark liegt hier zugrunde, was bedeutet es und wofür ist es da? (3 Punkte)*"
   ]
  },
  {
   "cell_type": "raw",
   "id": "aa4e4a92",
   "metadata": {
    "tags": [
     "solution"
    ]
   },
   "source": [
    "Ihre Antwort:\n",
    "In diesem Fall tritt kein Fehler auf, weil Spark die sogenannte Lazy Evaluation verwendet.\n",
    "\n",
    "Lazy Evaluation bedeutet, dass die Ausführung von Operationen so lange wie möglich verzögert wird. In diesem speziellen Fall wird die Funktion map(lambda x: x**x) nicht sofort ausgeführt, wenn sie aufgerufen wird. Stattdessen wird sie erst ausgeführt, wenn eine Aktion (wie z.B. collect(), take(), etc.) auf dem RDD aufgerufen wird, das durch die map()-Funktion erzeugt wurde.\n",
    "\n",
    "Der Hauptvorteil der Lazy Evaluation besteht darin, dass sie die Ausführung von Spark-Programmen optimiert. Sie ermöglicht es Spark, den gesamten Datenverarbeitungsplan zu betrachten und Optimierungen vorzunehmen, bevor die tatsächliche Berechnung stattfindet. Dies kann zu erheblichen Leistungsverbesserungen führen."
   ]
  },
  {
   "attachments": {
    "grafik-2.png": {
     "image/png": "[encoded data removed]"
    }
   },
   "cell_type": "markdown",
   "id": "29017fec",
   "metadata": {},
   "source": [
    "### Aufgabe 2.2 Caching (3 Punkte)\n",
    "Betrachten Sie folgendes Code-Beispiel:\n",
    "\n",
    "![grafik-2.png](attachment:grafik-2.png)\n",
    "\n",
    "*In welcher Zeile wäre es sinnvoll ein Caching einzufügen und warum? (3 Punkte)*"
   ]
  },
  {
   "cell_type": "code",
   "execution_count": null,
   "id": "438a63ec",
   "metadata": {},
   "outputs": [],
   "source": [
    "data = spark.read.csv(path = 'data.csv', header = True)\n",
    "relevant_data = data.filter(data.processing_data.between(last_week, yesterday))\n",
    "customers = relevant_data.select('ID', 'City', 'Email', 'Age', 'No_of_orders', 'No_of_complaints')\n",
    "\n",
    "hagen = customers.where(customers['City']=='Hagen')\n",
    "hagen.show()\n",
    "\n",
    "age_orders = hagen.where(hagen['No_of_orders']>3).agg({'Age':'mean'})\n",
    "age_orders.show()\n",
    "\n",
    "age_complaints = hagen.where(hagen['No_of_complaints']>3).agg({'Age':'mean'})\n",
    "age_complaints.show()\n",
    "\n",
    "complaints_orders = hagen.where(hagen['No_of_complaints']>3).agg({'No_of_complaints':'mean'})\n",
    "complaints_orders.show()"
   ]
  },
  {
   "cell_type": "raw",
   "id": "99be0f32",
   "metadata": {
    "tags": [
     "solution"
    ]
   },
   "source": [
    "Ihre Antwort:\n",
    "Es wäre sinnvoll, ein Caching nach der Zeile `hagen = customers.where(customers['City']=='Hagen')` einzufügen. Der Grund dafür ist, dass wir mehrere Operationen auf dem DataFrame hagen ausführen. Durch das Caching dieses DataFrames nach seiner Erstellung kann man die Berechnungszeit für nachfolgende Aktionen, die hagen verwenden, erheblich reduzieren."
   ]
  },
  {
   "cell_type": "markdown",
   "id": "1e982eec",
   "metadata": {},
   "source": [
    "### Aufgabe 2.3 Ressourcenvebrauch (4 + 5 Punkte)\n",
    "Nehmen Sie an, es steht ein Cluster mit 100GB RAM und 100 Kernen zur Verfügung.\n",
    "\n",
    "Gegeben sei folgender Auszug aus der Datei `spark-defaults.conf`:\n",
    "\n",
    "```\n",
    "spark.executor.instances 5\n",
    "spark.executor.memory 10G\n",
    "spark.executor.cores 5\n",
    "spark.executor.memoryOverhead 1GB\n",
    "\n",
    "spark.yarn.am.cores 5\n",
    "spark.yarn.am.memory 5G\n",
    "spark.yarn.am.memoryOverhead 1G\n",
    "\n",
    "spark.dynamicAllocation.enabled false\n",
    "```"
   ]
  },
  {
   "cell_type": "markdown",
   "id": "07ccf1fa",
   "metadata": {},
   "source": [
    "Es wird eine pyspark-Shell mit folgendem Aufruf gestartet (zu diesem Zeitpunkt laufen keine weiteren Spark-Anwendungen):\n",
    "\n",
    "`pyspark --master yarn --num-executors 10 --executor-memory 7.5G`\n",
    "\n",
    "*Berechnen Sie den Ressourcen-Verbrauch (Memory und Cores) der Spark-Anwendung. Geben Sie dabei Ihren Rechenweg an. (4 Punkte)*"
   ]
  },
  {
   "cell_type": "raw",
   "id": "4f5db997",
   "metadata": {
    "tags": [
     "solution"
    ]
   },
   "source": [
    "Ihre Antwort:\n",
    "\n",
    "Spark Executor-Ressourcen:\n",
    "\n",
    "    Executor-Instanzen: 10 (aus --num-executors in pyspark-Aufruf)\n",
    "    Speicher pro Executor: 7.5G (aus --executor-memory in pyspark-Aufruf)\n",
    "    Kerne pro Executor: 5 (aus spark.executor.cores in spark-defaults.conf)\n",
    "    Speicher-Overhead pro Executor: 1GB (aus spark.executor.memoryOverhead in spark-defaults.conf)\n",
    "\n",
    "Gesamter Speicherverbrauch der Executor: 10 Executor * (7.5G Executor-Speicher + 1GB Speicher-Overhead) = 80GB\n",
    "Spark Application Master-Ressourcen:\n",
    "\n",
    "    Kerne für den Application Master: 5 (aus spark.yarn.am.cores in spark-defaults.conf)\n",
    "    Speicher für den Application Master: 5G (aus spark.yarn.am.memory in spark-defaults.conf)\n",
    "    Speicher-Overhead für den Application Master: 1GB (aus spark.yarn.am.memoryOverhead in spark-defaults.conf)\n",
    "\n",
    "Gesamter Ressourcenverbrauch:\n",
    "\n",
    "    Speicher insgesamt: Speicher für Executor + Speicher für Application Master = 80GB + 5G = 85GB\n",
    "    Kerne insgesamt: Kerne für Executor + Kerne für Application Master = 10 Executor * 5 Kerne/Executor + 5 Kerne für Application Master = 55 Kerne\n",
    "\n",
    "Daher beträgt der Ressourcenverbrauch der Spark-Anwendung 85GB Speicher und 55 Kerne."
   ]
  },
  {
   "cell_type": "markdown",
   "id": "c522b0a5",
   "metadata": {},
   "source": [
    "Während die eben gestartete pyspark-Shell noch läuft, wird eine zweite pyspark-Shell mit folgendem Aufruf gestartet:\n",
    "\n",
    "`pyspark --master yarn`\n",
    "\n",
    "*Wie viele Ressourcen werden benötigt? Kann die Shell gestartet werden? Kann Spark-Code ausgeführt werden? Begründen Sie Ihre Antworten! (5 Punkte)*"
   ]
  },
  {
   "cell_type": "raw",
   "id": "92d4230d",
   "metadata": {
    "tags": [
     "solution"
    ]
   },
   "source": [
    "Ihre Antwort:"
   ]
  },
  {
   "cell_type": "markdown",
   "id": "9ecabdf2",
   "metadata": {},
   "source": [
    "<span style=\"color:white\">\\newpage</span>."
   ]
  },
  {
   "cell_type": "markdown",
   "id": "ee305885",
   "metadata": {},
   "source": [
    "## Aufgabe 3 - Modellierung, NoSQL (25 Punkte)"
   ]
  },
  {
   "cell_type": "markdown",
   "id": "cf4abd10",
   "metadata": {},
   "source": [
    "Der landesweite Verband von Jugendzentren verwendet aktuell ein relationales Datenbanksystem (PostgreSQL) für die Datenverwaltung. \n",
    "Ein neuer Mitarbeiter der IT-Abteilung hat die Idee zu einem NoSQL Datenbanksystem zu wechseln und schlägt aufgrund der Beliebtheit MongoDB vor.\n",
    "\n",
    "Die nachfolgende Grafik zeigt zunächst einen vereinfachten Ausschnitt des aktuellen physischen Datenbankschemas (PostgreSQL) des IT-Systems der Vereinigung von Jugendzentren."
   ]
  },
  {
   "attachments": {
    "relationales_schema.png": {
     "image/png": "[encoded data removed]"
    }
   },
   "cell_type": "markdown",
   "id": "e5b29dee",
   "metadata": {},
   "source": [
    "![relationales_schema.png](attachment:relationales_schema.png)"
   ]
  },
  {
   "cell_type": "markdown",
   "id": "91f066a7",
   "metadata": {},
   "source": [
    "Für die Migration nach MongoDB wurden folgende Abfragen berücksichtigt. Diese erhalten außerdem bezüglich der Häufigkeit verschiedene Tags (\"Sehr Häufig\"; \"Regelmäßig\"; \"Selten\").\n",
    "\n",
    "**Leseoperationen:**\n",
    "\n",
    "- **R1** (Sehr Häufig). Gegeben ist eine *Jugendzentrum.id*, gebe folgende Attribute aus: *Angebotskatalog.id*, *Angebotskatalog.bezeichnung* und *Angebotskatalog.beschreibung*. \n",
    "    - **Beschreibung:** Mit dieser Abfrage werde alle Angebote, die ein bestimmtes Jugendzentrum anbietet angezeigt. \n",
    "- **R2** (Sehr Häufig). Gegeben ist eine *Jugendzentrum.id*, eine *Angebotskatalog.id* und ein *Datumsbereich*, gebe folgende Attribute aus: *Angebot_Termine.datum* und *Angebot_Termine.freie_plaetze*.\n",
    "    - **Beschreibung:** Für ein bestimmtes Jugendzentrum, einen angegebenen Datumsbereich und ein bestimmtes Angebot, werden die noch freie Plätze der Termine angezeigt. \n",
    "- **R3** (Regelmäßig). Gegeben ist eine *Jugendzentrum.id* und ein *Datumsbereich*, gebe folgende Attribute aus: *Angebotskatalog.bezeichnung*, *Angebot_Termine.datum* und  *Mitglied.name* von Mitgliedern die sich für den Termin angemeldet haben.\n",
    "    - **Beschreibung:** Mit dieser Abfrage lassen sich für ein bestimmtes Jugendzentrum und einem bestimmten Datumsbereich Listen mit den Namen der angemeldeten Mitglieder zu den vorhandenen Terminen der verschidenen Angebote ausgeben.\n",
    "- **R4** (Selten). Gegeben ist eine *Jugendzentrum.id*, gebe folgende Attribute aus: *Angebotkatalog.id*, *Angebotkatalog.bezeichnung* und *anzahl_voll_ausgebucht* dessen Termine voll ausgebucht waren.\n",
    "    - **Beschreibung:** Für ein bestimmtes Jugendzentrum wird eine Liste der Angebote ausgegeben die nach Anzahl voll ausgebuchter Plätze sortiert ist. \n",
    "- **R5** (Selten). Gegeben ist eine *Jugendzentrum.id*, gebe folgende Attribute aus: *Mitglied.id*, *Mitglied.name*, sowie die  *Wochentage* (z.B. 0-6) , an denen Anmeldungen zu Terminen vorlagen.\n",
    "    - **Beschreibung:** Für ein bestimmtes Jugendzentrum wird eine Liste aller Mitglieder ausgegeben, für die jeweils angegeben ist, an welchen Wochentagen Anmeldungen zu Angeboten vorgenommen wurden.\n",
    "\n",
    "**Schreiboperationen**\n",
    "\n",
    "- **W1** (Selten). Gegeben ist eine *Jugendzentrum.id*, füge ein neues Mitglied (*name*, *adresse*, *geburtsdatum*, *entfernung*) hinzu.\n",
    "    - **Beschreibung:** Neue Mitglieder werden einem bestimmten Jugendzentrum hinzugefügt. \n",
    "- **W2** (Regelmäßig). Gegeben ist eine *Jugendzentrum.id* und eine *Angebotskatalog.id*, füge einen neuen *Angebot_Termin* (*datum*, *vorhandene_plaetze*) hinzu.\n",
    "    - **Beschreibung:** Für ein bestimmtes Jugendzentrum wird für ein Angebot ein neuer Termin hinzugefügt. \n",
    "- **W3** (Sehr Häufig). Gegeben ist eine *Mitglied.id* und eine *Angebot_Termin.id*, füge eine neue Anmeldung hinzu.\n",
    "    - **Beschreibung:** Ein Mitglied wird für einen vorhandenen Termin angemeldet. "
   ]
  },
  {
   "cell_type": "markdown",
   "id": "80e7adc1",
   "metadata": {},
   "source": [
    "Bei der Modellierung von Anmeldungen bezüglich angebotener Termine ist sich der Mitarbeiter allerdings unsicher und benötigt Unterstützung.\n",
    "Im folgenden eine Darstellung des aktuellen Stands des migrierten Schemas (MongoDB):"
   ]
  },
  {
   "attachments": {
    "mongodb_schema_unvollstaendig.png": {
     "image/png": "[encoded data removed]"
    }
   },
   "cell_type": "markdown",
   "id": "582c4bb4",
   "metadata": {},
   "source": [
    "![mongodb_schema_unvollstaendig.png](attachment:mongodb_schema_unvollstaendig.png)"
   ]
  },
  {
   "cell_type": "markdown",
   "id": "7447e3e1",
   "metadata": {},
   "source": [
    "### Aufgabe 3.1 (2 Punkte)\n",
    "\n",
    "Embedded vs. referentielle Modellierung bei dokumentorientierten Datenbanksystemen wie MongoDB.\n",
    "\n",
    "Geben Sie zunächst Modellierungsrichtlinien bzw. Anwendungscharakteristika an, die einen starken Einfluss auf die Modellierung haben (embedded vs. referenziell)."
   ]
  },
  {
   "cell_type": "raw",
   "id": "c5c12374",
   "metadata": {
    "tags": [
     "solution"
    ]
   },
   "source": [
    "Ihre Antwort:"
   ]
  },
  {
   "cell_type": "markdown",
   "id": "147ccaa2",
   "metadata": {},
   "source": [
    "### Aufgabe 3.2 (3 Punkte)  \n",
    "    \n",
    "Bei der Modellierung der *Anmeldungen* stellt sich die Frage diese zu referenzieren oder in *Angebot_Termin* einzubetten. Auf welche Abfragen hat diese Entscheidung eine Auswirkung?\n",
    "\n",
    "Begründen Sie außerdem weshalb dies eine Auswirkung auf die entpsrechenden Abfragen hat."
   ]
  },
  {
   "cell_type": "raw",
   "id": "34d6a996",
   "metadata": {
    "tags": [
     "solution"
    ]
   },
   "source": [
    "Ihre Antwort:"
   ]
  },
  {
   "cell_type": "markdown",
   "id": "2e105844",
   "metadata": {},
   "source": [
    "### Aufgabe 3.3 (8 Punkte)  \n",
    "    \n",
    "Helfen Sie nun bei der Migration, indem Sie zunächst die Modellierung der *Anmeldung* vervollständigen. Begründen Sie Ihre Entscheidung, um diese den anderen Mitarbeitern nachvollziehbar darzulegen.\n",
    "\n",
    "Vervollständigen Sie hierzu das nachfolgende Modell.\n",
    "\n",
    "*HINWEIS:* Modellieren Sie eine Einbettung als \"Composition\"."
   ]
  },
  {
   "cell_type": "code",
   "execution_count": 385,
   "id": "1ccaf428",
   "metadata": {},
   "outputs": [
    {
     "data": {
      "image/svg+xml": [
       "<svg xmlns=\"http://www.w3.org/2000/svg\" xmlns:xlink=\"http://www.w3.org/1999/xlink\" contentStyleType=\"text/css\" height=\"673px\" preserveAspectRatio=\"none\" style=\"width:325px;height:673px;background:#FFFFFF;\" version=\"1.1\" viewBox=\"0 0 325 673\" width=\"325px\" zoomAndPan=\"magnify\"><defs/><g><!--class jz--><g id=\"elem_jz\"><rect codeLine=\"5\" fill=\"#F1F1F1\" height=\"115.7813\" id=\"jz\" rx=\"2.5\" ry=\"2.5\" style=\"stroke:#181818;stroke-width:0.5;\" width=\"136\" x=\"34\" y=\"199\"/><text fill=\"#000000\" font-family=\"sans-serif\" font-size=\"14\" lengthAdjust=\"spacing\" textLength=\"109\" x=\"47.5\" y=\"216.9951\">Jugendzentrum</text><line style=\"stroke:#181818;stroke-width:0.5;\" x1=\"35\" x2=\"169\" y1=\"225.2969\" y2=\"225.2969\"/><ellipse cx=\"45\" cy=\"238.9453\" fill=\"#000000\" rx=\"3\" ry=\"3\" style=\"stroke:#000000;stroke-width:1.0;\"/><text fill=\"#000000\" font-family=\"sans-serif\" font-size=\"14\" lengthAdjust=\"spacing\" textLength=\"66\" x=\"54\" y=\"242.292\">_id: int32</text><text fill=\"#000000\" font-family=\"sans-serif\" font-size=\"14\" font-weight=\"bold\" lengthAdjust=\"spacing\" textLength=\"20\" x=\"124\" y=\"242.292\">PK</text><ellipse cx=\"45\" cy=\"255.2422\" fill=\"#000000\" rx=\"3\" ry=\"3\" style=\"stroke:#000000;stroke-width:1.0;\"/><text fill=\"#000000\" font-family=\"sans-serif\" font-size=\"14\" lengthAdjust=\"spacing\" textLength=\"91\" x=\"54\" y=\"258.5889\">name: string</text><ellipse cx=\"45\" cy=\"271.5391\" fill=\"#000000\" rx=\"3\" ry=\"3\" style=\"stroke:#000000;stroke-width:1.0;\"/><text fill=\"#000000\" font-family=\"sans-serif\" font-size=\"14\" lengthAdjust=\"spacing\" textLength=\"96\" x=\"54\" y=\"274.8857\">street: string</text><ellipse cx=\"45\" cy=\"287.8359\" fill=\"#000000\" rx=\"3\" ry=\"3\" style=\"stroke:#000000;stroke-width:1.0;\"/><text fill=\"#000000\" font-family=\"sans-serif\" font-size=\"14\" lengthAdjust=\"spacing\" textLength=\"78\" x=\"54\" y=\"291.1826\">city: string</text><ellipse cx=\"45\" cy=\"304.1328\" fill=\"#000000\" rx=\"3\" ry=\"3\" style=\"stroke:#000000;stroke-width:1.0;\"/><text fill=\"#000000\" font-family=\"sans-serif\" font-size=\"14\" lengthAdjust=\"spacing\" textLength=\"110\" x=\"54\" y=\"307.4795\">zip_code: int32</text></g><!--class a--><g id=\"elem_a\"><rect codeLine=\"13\" fill=\"#F1F1F1\" height=\"99.4844\" id=\"a\" rx=\"2.5\" ry=\"2.5\" style=\"stroke:#181818;stroke-width:0.5;\" width=\"190\" x=\"7\" y=\"567\"/><text fill=\"#000000\" font-family=\"sans-serif\" font-size=\"14\" lengthAdjust=\"spacing\" textLength=\"124\" x=\"40\" y=\"584.9951\">Angebotskatalog</text><line style=\"stroke:#181818;stroke-width:0.5;\" x1=\"8\" x2=\"196\" y1=\"593.2969\" y2=\"593.2969\"/><ellipse cx=\"18\" cy=\"606.9453\" fill=\"#000000\" rx=\"3\" ry=\"3\" style=\"stroke:#000000;stroke-width:1.0;\"/><text fill=\"#000000\" font-family=\"sans-serif\" font-size=\"14\" lengthAdjust=\"spacing\" textLength=\"66\" x=\"27\" y=\"610.292\">_id: int32</text><text fill=\"#000000\" font-family=\"sans-serif\" font-size=\"14\" font-weight=\"bold\" lengthAdjust=\"spacing\" textLength=\"20\" x=\"97\" y=\"610.292\">PK</text><ellipse cx=\"18\" cy=\"623.2422\" fill=\"#000000\" rx=\"3\" ry=\"3\" style=\"stroke:#000000;stroke-width:1.0;\"/><text fill=\"#000000\" font-family=\"sans-serif\" font-size=\"14\" lengthAdjust=\"spacing\" textLength=\"143\" x=\"27\" y=\"626.5889\">bezeichnung: string</text><ellipse cx=\"18\" cy=\"639.5391\" fill=\"#000000\" rx=\"3\" ry=\"3\" style=\"stroke:#000000;stroke-width:1.0;\"/><text fill=\"#000000\" font-family=\"sans-serif\" font-size=\"14\" lengthAdjust=\"spacing\" textLength=\"149\" x=\"27\" y=\"642.8857\">beschreibung: string</text><ellipse cx=\"18\" cy=\"655.8359\" fill=\"#000000\" rx=\"3\" ry=\"3\" style=\"stroke:#000000;stroke-width:1.0;\"/><text fill=\"#000000\" font-family=\"sans-serif\" font-size=\"14\" lengthAdjust=\"spacing\" textLength=\"141\" x=\"27\" y=\"659.1826\">jugz_id: array[int32]</text><text fill=\"#000000\" font-family=\"sans-serif\" font-size=\"14\" font-weight=\"bold\" lengthAdjust=\"spacing\" textLength=\"19\" x=\"172\" y=\"659.1826\">FK</text></g><!--class t--><g id=\"elem_t\"><rect codeLine=\"20\" fill=\"#F1F1F1\" height=\"132.0781\" id=\"t\" rx=\"2.5\" ry=\"2.5\" style=\"stroke:#181818;stroke-width:0.5;\" width=\"219\" x=\"74.5\" y=\"375\"/><text fill=\"#000000\" font-family=\"sans-serif\" font-size=\"14\" lengthAdjust=\"spacing\" textLength=\"121\" x=\"123.5\" y=\"392.9951\">Angebot_Termin</text><line style=\"stroke:#181818;stroke-width:0.5;\" x1=\"75.5\" x2=\"292.5\" y1=\"401.2969\" y2=\"401.2969\"/><ellipse cx=\"85.5\" cy=\"414.9453\" fill=\"#000000\" rx=\"3\" ry=\"3\" style=\"stroke:#000000;stroke-width:1.0;\"/><text fill=\"#000000\" font-family=\"sans-serif\" font-size=\"14\" lengthAdjust=\"spacing\" textLength=\"66\" x=\"94.5\" y=\"418.292\">_id: int32</text><text fill=\"#000000\" font-family=\"sans-serif\" font-size=\"14\" font-weight=\"bold\" lengthAdjust=\"spacing\" textLength=\"20\" x=\"164.5\" y=\"418.292\">PK</text><ellipse cx=\"85.5\" cy=\"431.2422\" fill=\"#000000\" rx=\"3\" ry=\"3\" style=\"stroke:#000000;stroke-width:1.0;\"/><text fill=\"#000000\" font-family=\"sans-serif\" font-size=\"14\" lengthAdjust=\"spacing\" textLength=\"111\" x=\"94.5\" y=\"434.5889\">angbk_id: int32</text><text fill=\"#000000\" font-family=\"sans-serif\" font-size=\"14\" font-weight=\"bold\" lengthAdjust=\"spacing\" textLength=\"19\" x=\"209.5\" y=\"434.5889\">FK</text><ellipse cx=\"85.5\" cy=\"447.5391\" fill=\"#000000\" rx=\"3\" ry=\"3\" style=\"stroke:#000000;stroke-width:1.0;\"/><text fill=\"#000000\" font-family=\"sans-serif\" font-size=\"14\" lengthAdjust=\"spacing\" textLength=\"95\" x=\"94.5\" y=\"450.8857\">jugz_id: int32</text><text fill=\"#000000\" font-family=\"sans-serif\" font-size=\"14\" font-weight=\"bold\" lengthAdjust=\"spacing\" textLength=\"19\" x=\"193.5\" y=\"450.8857\">FK</text><ellipse cx=\"85.5\" cy=\"463.8359\" fill=\"#000000\" rx=\"3\" ry=\"3\" style=\"stroke:#000000;stroke-width:1.0;\"/><text fill=\"#000000\" font-family=\"sans-serif\" font-size=\"14\" lengthAdjust=\"spacing\" textLength=\"88\" x=\"94.5\" y=\"467.1826\">datum: date</text><ellipse cx=\"85.5\" cy=\"480.1328\" fill=\"#000000\" rx=\"3\" ry=\"3\" style=\"stroke:#000000;stroke-width:1.0;\"/><text fill=\"#000000\" font-family=\"sans-serif\" font-size=\"14\" lengthAdjust=\"spacing\" textLength=\"193\" x=\"94.5\" y=\"483.4795\">vorhandene_plaetze: int32</text><ellipse cx=\"85.5\" cy=\"496.4297\" fill=\"#000000\" rx=\"3\" ry=\"3\" style=\"stroke:#000000;stroke-width:1.0;\"/><text fill=\"#000000\" font-family=\"sans-serif\" font-size=\"14\" lengthAdjust=\"spacing\" textLength=\"165\" x=\"94.5\" y=\"499.7764\">belegte_plaetze: int32</text></g><!--class an--><g id=\"elem_an\"><rect codeLine=\"29\" fill=\"#F1F1F1\" height=\"50.5938\" id=\"an\" rx=\"2.5\" ry=\"2.5\" style=\"stroke:#181818;stroke-width:0.5;\" width=\"96\" x=\"222\" y=\"47.5\"/><text fill=\"#000000\" font-family=\"sans-serif\" font-size=\"14\" font-weight=\"bold\" lengthAdjust=\"spacing\" textLength=\"90\" x=\"225\" y=\"65.4951\">Anmeldung</text><line style=\"stroke:#181818;stroke-width:0.5;\" x1=\"223\" x2=\"317\" y1=\"73.7969\" y2=\"73.7969\"/><ellipse cx=\"233\" cy=\"87.4453\" fill=\"#000000\" rx=\"3\" ry=\"3\" style=\"stroke:#000000;stroke-width:1.0;\"/><text fill=\"#000000\" font-family=\"sans-serif\" font-size=\"14\" lengthAdjust=\"spacing\" textLength=\"15\" x=\"242\" y=\"90.792\">...</text></g><!--class m--><g id=\"elem_m\"><rect codeLine=\"34\" fill=\"#F1F1F1\" height=\"132.0781\" id=\"m\" rx=\"2.5\" ry=\"2.5\" style=\"stroke:#181818;stroke-width:0.5;\" width=\"170\" x=\"17\" y=\"7\"/><text fill=\"#000000\" font-family=\"sans-serif\" font-size=\"14\" lengthAdjust=\"spacing\" textLength=\"58\" x=\"73\" y=\"24.9951\">Mitglied</text><line style=\"stroke:#181818;stroke-width:0.5;\" x1=\"18\" x2=\"186\" y1=\"33.2969\" y2=\"33.2969\"/><ellipse cx=\"28\" cy=\"46.9453\" fill=\"#000000\" rx=\"3\" ry=\"3\" style=\"stroke:#000000;stroke-width:1.0;\"/><text fill=\"#000000\" font-family=\"sans-serif\" font-size=\"14\" lengthAdjust=\"spacing\" textLength=\"71\" x=\"37\" y=\"50.292\">_id: string</text><text fill=\"#000000\" font-family=\"sans-serif\" font-size=\"14\" font-weight=\"bold\" lengthAdjust=\"spacing\" textLength=\"20\" x=\"112\" y=\"50.292\">PK</text><ellipse cx=\"28\" cy=\"63.2422\" fill=\"#000000\" rx=\"3\" ry=\"3\" style=\"stroke:#000000;stroke-width:1.0;\"/><text fill=\"#000000\" font-family=\"sans-serif\" font-size=\"14\" lengthAdjust=\"spacing\" textLength=\"95\" x=\"37\" y=\"66.5889\">jugz_id: int32</text><text fill=\"#000000\" font-family=\"sans-serif\" font-size=\"14\" font-weight=\"bold\" lengthAdjust=\"spacing\" textLength=\"19\" x=\"136\" y=\"66.5889\">FK</text><ellipse cx=\"28\" cy=\"79.5391\" fill=\"#000000\" rx=\"3\" ry=\"3\" style=\"stroke:#000000;stroke-width:1.0;\"/><text fill=\"#000000\" font-family=\"sans-serif\" font-size=\"14\" lengthAdjust=\"spacing\" textLength=\"91\" x=\"37\" y=\"82.8857\">name: string</text><ellipse cx=\"28\" cy=\"95.8359\" fill=\"#000000\" rx=\"3\" ry=\"3\" style=\"stroke:#000000;stroke-width:1.0;\"/><text fill=\"#000000\" font-family=\"sans-serif\" font-size=\"14\" lengthAdjust=\"spacing\" textLength=\"106\" x=\"37\" y=\"99.1826\">adresse: string</text><ellipse cx=\"28\" cy=\"112.1328\" fill=\"#000000\" rx=\"3\" ry=\"3\" style=\"stroke:#000000;stroke-width:1.0;\"/><text fill=\"#000000\" font-family=\"sans-serif\" font-size=\"14\" lengthAdjust=\"spacing\" textLength=\"144\" x=\"37\" y=\"115.4795\">geburtsdatum: date</text><ellipse cx=\"28\" cy=\"128.4297\" fill=\"#000000\" rx=\"3\" ry=\"3\" style=\"stroke:#000000;stroke-width:1.0;\"/><text fill=\"#000000\" font-family=\"sans-serif\" font-size=\"14\" lengthAdjust=\"spacing\" textLength=\"139\" x=\"37\" y=\"131.7764\">entfernung: double</text></g><!--link jz to a--><g id=\"link_jz_a\"><path codeLine=\"44\" d=\"M75.2326,315.097 C67.7938,333.769 60.7346,354.886 57,375 C46.29,432.681 45.5416,449.463 57,507 C61.0427,527.3 68.9537,548.559 77.03,566.8251 \" fill=\"none\" id=\"jz-a\" style=\"stroke:#181818;stroke-width:1.0;\"/><text fill=\"#000000\" font-family=\"sans-serif\" font-size=\"13\" lengthAdjust=\"spacing\" textLength=\"23\" x=\"47.8079\" y=\"334.7689\">1..*</text><text fill=\"#000000\" font-family=\"sans-serif\" font-size=\"13\" lengthAdjust=\"spacing\" textLength=\"23\" x=\"48.9014\" y=\"555.8269\">0..*</text></g><!--link t to a--><g id=\"link_t_a\"><path codeLine=\"45\" d=\"M153.233,507.099 C143.871,526.907 133.749,548.323 124.994,566.8479 \" fill=\"none\" id=\"t-a\" style=\"stroke:#181818;stroke-width:1.0;\"/><text fill=\"#000000\" font-family=\"sans-serif\" font-size=\"13\" lengthAdjust=\"spacing\" textLength=\"23\" x=\"125.61\" y=\"527.2188\">0..*</text><text fill=\"#000000\" font-family=\"sans-serif\" font-size=\"13\" lengthAdjust=\"spacing\" textLength=\"24\" x=\"102.5401\" y=\"555.8532\">1..1</text></g><!--link jz to t--><g id=\"link_jz_t\"><path codeLine=\"46\" d=\"M127.72,315.087 C136.269,334.06 145.851,355.328 154.652,374.862 \" fill=\"none\" id=\"jz-t\" style=\"stroke:#181818;stroke-width:1.0;\"/><text fill=\"#000000\" font-family=\"sans-serif\" font-size=\"13\" lengthAdjust=\"spacing\" textLength=\"24\" x=\"105.3067\" y=\"334.7577\">1..1</text><text fill=\"#000000\" font-family=\"sans-serif\" font-size=\"13\" lengthAdjust=\"spacing\" textLength=\"23\" x=\"127.1843\" y=\"363.8777\">0..*</text></g><!--link m to jz--><g id=\"link_m_jz\"><path codeLine=\"49\" d=\"M102,139.192 C102,158.674 102,179.876 102,198.803 \" fill=\"none\" id=\"m-jz\" style=\"stroke:#181818;stroke-width:1.0;\"/><text fill=\"#000000\" font-family=\"sans-serif\" font-size=\"13\" lengthAdjust=\"spacing\" textLength=\"23\" x=\"77.7422\" y=\"159.3219\">0..*</text><text fill=\"#000000\" font-family=\"sans-serif\" font-size=\"13\" lengthAdjust=\"spacing\" textLength=\"23\" x=\"77.5984\" y=\"187.8845\">1..*</text></g><!--SRC=[XL8zJyCm4DtpAwoCbXfHsBfrwG12Oc13AFB7rN5hEvLz1jM8_uwJfYbDAiYIyxkdv_VErsW9H6Wl31HDLrkm77meGjD-agq68qDH2CD28ELZLE1a0eS-sfAmG7Q9V1KaVvJKMgw8TlXmJoXzUQ9qm1spi281lNPgWF8102UWq7YSG4aVQj5A67IBxz79sYdWBOOzGsPQrNjX_rhXa42BnaMd9ZTn2ABneFcyjOigzOBCUtPywsNVi-wcqvqvgb_1M-rwG_Yl8UOKtryrDvVcUF6DdcGOxQhxmO1yjBvXJeA3-c0OO1gdTaveGE6iUGb0wThP_Dnv0fIU1kh8cA2ggevx9ZzhL4Q3x7dsEkTfUjT1_yfoOq6Oz1325Cq3ZXx3F7jUo2tuqxFADlAyovtNl9pbigfocCM2b7TznGeybnsOsyiE7AZBtrJC4dP2pjKk_G00]--></g></svg>"
      ],
      "text/plain": [
       "<IPython.core.display.SVG object>"
      ]
     },
     "execution_count": 385,
     "metadata": {},
     "output_type": "execute_result"
    }
   ],
   "source": [
    "%%plantuml \n",
    "\n",
    "@startuml\n",
    "\n",
    "hide circle\n",
    "hide members\n",
    "show fields\n",
    "\n",
    "class \"Jugendzentrum\" as jz {\n",
    "    * _id: int32 **PK**\n",
    "    * name: string\n",
    "    * street: string\n",
    "    * city: string\n",
    "    * zip_code: int32\n",
    "}\n",
    "\n",
    "class \"Angebotskatalog\" as a {\n",
    "    * _id: int32 **PK**\n",
    "    * bezeichnung: string\n",
    "    * beschreibung: string\n",
    "    * jugz_id: array[int32] **FK**\n",
    "}\n",
    "\n",
    "class \"Angebot_Termin\" as t {\n",
    "    * _id: int32 **PK**\n",
    "    * angbk_id: int32 **FK**\n",
    "    * jugz_id: int32 **FK**\n",
    "    * datum: date\n",
    "    * vorhandene_plaetze: int32\n",
    "    * belegte_plaetze: int32\n",
    "}\n",
    "\n",
    "class \"**Anmeldung**\" as an  {\n",
    "    * ...\n",
    "}\n",
    "\n",
    "\n",
    "class \"Mitglied\" as m {\n",
    "    * _id: string **PK**\n",
    "    * jugz_id: int32 **FK**\n",
    "    * name: string\n",
    "    * adresse: string\n",
    "    * geburtsdatum: date\n",
    "    * entfernung: double\n",
    "}\n",
    "\n",
    "\n",
    "jz \"1..*\" -- \"0..*\" a\n",
    "t \"0..*\" -- \"1..1\" a\n",
    "jz \"1..1\" -- \"0..*\" t\n",
    "\n",
    "\n",
    "m \"0..*\" -- \"1..*\" jz\n",
    "\n",
    "@enduml"
   ]
  },
  {
   "cell_type": "code",
   "execution_count": 387,
   "id": "f67143b2",
   "metadata": {},
   "outputs": [
    {
     "data": {
      "image/svg+xml": [
       "<svg xmlns=\"http://www.w3.org/2000/svg\" xmlns:xlink=\"http://www.w3.org/1999/xlink\" contentStyleType=\"text/css\" height=\"689px\" preserveAspectRatio=\"none\" style=\"width:409px;height:689px;background:#FFFFFF;\" version=\"1.1\" viewBox=\"0 0 409 689\" width=\"409px\" zoomAndPan=\"magnify\"><defs/><g><!--class jz--><g id=\"elem_jz\"><rect codeLine=\"5\" fill=\"#F1F1F1\" height=\"115.7813\" id=\"jz\" rx=\"2.5\" ry=\"2.5\" style=\"stroke:#181818;stroke-width:0.5;\" width=\"136\" x=\"34\" y=\"199\"/><text fill=\"#000000\" font-family=\"sans-serif\" font-size=\"14\" lengthAdjust=\"spacing\" textLength=\"109\" x=\"47.5\" y=\"216.9951\">Jugendzentrum</text><line style=\"stroke:#181818;stroke-width:0.5;\" x1=\"35\" x2=\"169\" y1=\"225.2969\" y2=\"225.2969\"/><ellipse cx=\"45\" cy=\"238.9453\" fill=\"#000000\" rx=\"3\" ry=\"3\" style=\"stroke:#000000;stroke-width:1.0;\"/><text fill=\"#000000\" font-family=\"sans-serif\" font-size=\"14\" lengthAdjust=\"spacing\" textLength=\"66\" x=\"54\" y=\"242.292\">_id: int32</text><text fill=\"#000000\" font-family=\"sans-serif\" font-size=\"14\" font-weight=\"bold\" lengthAdjust=\"spacing\" textLength=\"20\" x=\"124\" y=\"242.292\">PK</text><ellipse cx=\"45\" cy=\"255.2422\" fill=\"#000000\" rx=\"3\" ry=\"3\" style=\"stroke:#000000;stroke-width:1.0;\"/><text fill=\"#000000\" font-family=\"sans-serif\" font-size=\"14\" lengthAdjust=\"spacing\" textLength=\"91\" x=\"54\" y=\"258.5889\">name: string</text><ellipse cx=\"45\" cy=\"271.5391\" fill=\"#000000\" rx=\"3\" ry=\"3\" style=\"stroke:#000000;stroke-width:1.0;\"/><text fill=\"#000000\" font-family=\"sans-serif\" font-size=\"14\" lengthAdjust=\"spacing\" textLength=\"96\" x=\"54\" y=\"274.8857\">street: string</text><ellipse cx=\"45\" cy=\"287.8359\" fill=\"#000000\" rx=\"3\" ry=\"3\" style=\"stroke:#000000;stroke-width:1.0;\"/><text fill=\"#000000\" font-family=\"sans-serif\" font-size=\"14\" lengthAdjust=\"spacing\" textLength=\"78\" x=\"54\" y=\"291.1826\">city: string</text><ellipse cx=\"45\" cy=\"304.1328\" fill=\"#000000\" rx=\"3\" ry=\"3\" style=\"stroke:#000000;stroke-width:1.0;\"/><text fill=\"#000000\" font-family=\"sans-serif\" font-size=\"14\" lengthAdjust=\"spacing\" textLength=\"110\" x=\"54\" y=\"307.4795\">zip_code: int32</text></g><!--class a--><g id=\"elem_a\"><rect codeLine=\"13\" fill=\"#F1F1F1\" height=\"99.4844\" id=\"a\" rx=\"2.5\" ry=\"2.5\" style=\"stroke:#181818;stroke-width:0.5;\" width=\"190\" x=\"7\" y=\"583\"/><text fill=\"#000000\" font-family=\"sans-serif\" font-size=\"14\" lengthAdjust=\"spacing\" textLength=\"124\" x=\"40\" y=\"600.9951\">Angebotskatalog</text><line style=\"stroke:#181818;stroke-width:0.5;\" x1=\"8\" x2=\"196\" y1=\"609.2969\" y2=\"609.2969\"/><ellipse cx=\"18\" cy=\"622.9453\" fill=\"#000000\" rx=\"3\" ry=\"3\" style=\"stroke:#000000;stroke-width:1.0;\"/><text fill=\"#000000\" font-family=\"sans-serif\" font-size=\"14\" lengthAdjust=\"spacing\" textLength=\"66\" x=\"27\" y=\"626.292\">_id: int32</text><text fill=\"#000000\" font-family=\"sans-serif\" font-size=\"14\" font-weight=\"bold\" lengthAdjust=\"spacing\" textLength=\"20\" x=\"97\" y=\"626.292\">PK</text><ellipse cx=\"18\" cy=\"639.2422\" fill=\"#000000\" rx=\"3\" ry=\"3\" style=\"stroke:#000000;stroke-width:1.0;\"/><text fill=\"#000000\" font-family=\"sans-serif\" font-size=\"14\" lengthAdjust=\"spacing\" textLength=\"143\" x=\"27\" y=\"642.5889\">bezeichnung: string</text><ellipse cx=\"18\" cy=\"655.5391\" fill=\"#000000\" rx=\"3\" ry=\"3\" style=\"stroke:#000000;stroke-width:1.0;\"/><text fill=\"#000000\" font-family=\"sans-serif\" font-size=\"14\" lengthAdjust=\"spacing\" textLength=\"149\" x=\"27\" y=\"658.8857\">beschreibung: string</text><ellipse cx=\"18\" cy=\"671.8359\" fill=\"#000000\" rx=\"3\" ry=\"3\" style=\"stroke:#000000;stroke-width:1.0;\"/><text fill=\"#000000\" font-family=\"sans-serif\" font-size=\"14\" lengthAdjust=\"spacing\" textLength=\"141\" x=\"27\" y=\"675.1826\">jugz_id: array[int32]</text><text fill=\"#000000\" font-family=\"sans-serif\" font-size=\"14\" font-weight=\"bold\" lengthAdjust=\"spacing\" textLength=\"19\" x=\"172\" y=\"675.1826\">FK</text></g><!--class t--><g id=\"elem_t\"><rect codeLine=\"20\" fill=\"#F1F1F1\" height=\"148.375\" id=\"t\" rx=\"2.5\" ry=\"2.5\" style=\"stroke:#181818;stroke-width:0.5;\" width=\"259\" x=\"64.5\" y=\"375\"/><text fill=\"#000000\" font-family=\"sans-serif\" font-size=\"14\" lengthAdjust=\"spacing\" textLength=\"121\" x=\"133.5\" y=\"392.9951\">Angebot_Termin</text><line style=\"stroke:#181818;stroke-width:0.5;\" x1=\"65.5\" x2=\"322.5\" y1=\"401.2969\" y2=\"401.2969\"/><ellipse cx=\"75.5\" cy=\"414.9453\" fill=\"#000000\" rx=\"3\" ry=\"3\" style=\"stroke:#000000;stroke-width:1.0;\"/><text fill=\"#000000\" font-family=\"sans-serif\" font-size=\"14\" lengthAdjust=\"spacing\" textLength=\"66\" x=\"84.5\" y=\"418.292\">_id: int32</text><text fill=\"#000000\" font-family=\"sans-serif\" font-size=\"14\" font-weight=\"bold\" lengthAdjust=\"spacing\" textLength=\"20\" x=\"154.5\" y=\"418.292\">PK</text><ellipse cx=\"75.5\" cy=\"431.2422\" fill=\"#000000\" rx=\"3\" ry=\"3\" style=\"stroke:#000000;stroke-width:1.0;\"/><text fill=\"#000000\" font-family=\"sans-serif\" font-size=\"14\" lengthAdjust=\"spacing\" textLength=\"111\" x=\"84.5\" y=\"434.5889\">angbk_id: int32</text><text fill=\"#000000\" font-family=\"sans-serif\" font-size=\"14\" font-weight=\"bold\" lengthAdjust=\"spacing\" textLength=\"19\" x=\"199.5\" y=\"434.5889\">FK</text><ellipse cx=\"75.5\" cy=\"447.5391\" fill=\"#000000\" rx=\"3\" ry=\"3\" style=\"stroke:#000000;stroke-width:1.0;\"/><text fill=\"#000000\" font-family=\"sans-serif\" font-size=\"14\" lengthAdjust=\"spacing\" textLength=\"95\" x=\"84.5\" y=\"450.8857\">jugz_id: int32</text><text fill=\"#000000\" font-family=\"sans-serif\" font-size=\"14\" font-weight=\"bold\" lengthAdjust=\"spacing\" textLength=\"19\" x=\"183.5\" y=\"450.8857\">FK</text><ellipse cx=\"75.5\" cy=\"463.8359\" fill=\"#000000\" rx=\"3\" ry=\"3\" style=\"stroke:#000000;stroke-width:1.0;\"/><text fill=\"#000000\" font-family=\"sans-serif\" font-size=\"14\" lengthAdjust=\"spacing\" textLength=\"88\" x=\"84.5\" y=\"467.1826\">datum: date</text><ellipse cx=\"75.5\" cy=\"480.1328\" fill=\"#000000\" rx=\"3\" ry=\"3\" style=\"stroke:#000000;stroke-width:1.0;\"/><text fill=\"#000000\" font-family=\"sans-serif\" font-size=\"14\" lengthAdjust=\"spacing\" textLength=\"193\" x=\"84.5\" y=\"483.4795\">vorhandene_plaetze: int32</text><ellipse cx=\"75.5\" cy=\"496.4297\" fill=\"#000000\" rx=\"3\" ry=\"3\" style=\"stroke:#000000;stroke-width:1.0;\"/><text fill=\"#000000\" font-family=\"sans-serif\" font-size=\"14\" lengthAdjust=\"spacing\" textLength=\"165\" x=\"84.5\" y=\"499.7764\">belegte_plaetze: int32</text><ellipse cx=\"75.5\" cy=\"512.7266\" fill=\"#000000\" rx=\"3\" ry=\"3\" style=\"stroke:#000000;stroke-width:1.0;\"/><text fill=\"#000000\" font-family=\"sans-serif\" font-size=\"14\" lengthAdjust=\"spacing\" textLength=\"233\" x=\"84.5\" y=\"516.0732\">anmeldungen: array[Anmeldung]</text></g><!--class an--><g id=\"elem_an\"><rect codeLine=\"30\" fill=\"#F1F1F1\" height=\"66.8906\" id=\"an\" rx=\"2.5\" ry=\"2.5\" style=\"stroke:#181818;stroke-width:0.5;\" width=\"180\" x=\"222\" y=\"39.5\"/><text fill=\"#000000\" font-family=\"sans-serif\" font-size=\"14\" lengthAdjust=\"spacing\" textLength=\"81\" x=\"271.5\" y=\"57.4951\">Anmeldung</text><line style=\"stroke:#181818;stroke-width:0.5;\" x1=\"223\" x2=\"401\" y1=\"65.7969\" y2=\"65.7969\"/><ellipse cx=\"233\" cy=\"79.4453\" fill=\"#000000\" rx=\"3\" ry=\"3\" style=\"stroke:#000000;stroke-width:1.0;\"/><text fill=\"#000000\" font-family=\"sans-serif\" font-size=\"14\" lengthAdjust=\"spacing\" textLength=\"131\" x=\"242\" y=\"82.792\">mitglied_id: string</text><text fill=\"#000000\" font-family=\"sans-serif\" font-size=\"14\" font-weight=\"bold\" lengthAdjust=\"spacing\" textLength=\"19\" x=\"377\" y=\"82.792\">FK</text><ellipse cx=\"233\" cy=\"95.7422\" fill=\"#000000\" rx=\"3\" ry=\"3\" style=\"stroke:#000000;stroke-width:1.0;\"/><text fill=\"#000000\" font-family=\"sans-serif\" font-size=\"14\" lengthAdjust=\"spacing\" textLength=\"88\" x=\"242\" y=\"99.0889\">datum: date</text></g><!--class m--><g id=\"elem_m\"><rect codeLine=\"35\" fill=\"#F1F1F1\" height=\"132.0781\" id=\"m\" rx=\"2.5\" ry=\"2.5\" style=\"stroke:#181818;stroke-width:0.5;\" width=\"170\" x=\"17\" y=\"7\"/><text fill=\"#000000\" font-family=\"sans-serif\" font-size=\"14\" lengthAdjust=\"spacing\" textLength=\"58\" x=\"73\" y=\"24.9951\">Mitglied</text><line style=\"stroke:#181818;stroke-width:0.5;\" x1=\"18\" x2=\"186\" y1=\"33.2969\" y2=\"33.2969\"/><ellipse cx=\"28\" cy=\"46.9453\" fill=\"#000000\" rx=\"3\" ry=\"3\" style=\"stroke:#000000;stroke-width:1.0;\"/><text fill=\"#000000\" font-family=\"sans-serif\" font-size=\"14\" lengthAdjust=\"spacing\" textLength=\"71\" x=\"37\" y=\"50.292\">_id: string</text><text fill=\"#000000\" font-family=\"sans-serif\" font-size=\"14\" font-weight=\"bold\" lengthAdjust=\"spacing\" textLength=\"20\" x=\"112\" y=\"50.292\">PK</text><ellipse cx=\"28\" cy=\"63.2422\" fill=\"#000000\" rx=\"3\" ry=\"3\" style=\"stroke:#000000;stroke-width:1.0;\"/><text fill=\"#000000\" font-family=\"sans-serif\" font-size=\"14\" lengthAdjust=\"spacing\" textLength=\"95\" x=\"37\" y=\"66.5889\">jugz_id: int32</text><text fill=\"#000000\" font-family=\"sans-serif\" font-size=\"14\" font-weight=\"bold\" lengthAdjust=\"spacing\" textLength=\"19\" x=\"136\" y=\"66.5889\">FK</text><ellipse cx=\"28\" cy=\"79.5391\" fill=\"#000000\" rx=\"3\" ry=\"3\" style=\"stroke:#000000;stroke-width:1.0;\"/><text fill=\"#000000\" font-family=\"sans-serif\" font-size=\"14\" lengthAdjust=\"spacing\" textLength=\"91\" x=\"37\" y=\"82.8857\">name: string</text><ellipse cx=\"28\" cy=\"95.8359\" fill=\"#000000\" rx=\"3\" ry=\"3\" style=\"stroke:#000000;stroke-width:1.0;\"/><text fill=\"#000000\" font-family=\"sans-serif\" font-size=\"14\" lengthAdjust=\"spacing\" textLength=\"106\" x=\"37\" y=\"99.1826\">adresse: string</text><ellipse cx=\"28\" cy=\"112.1328\" fill=\"#000000\" rx=\"3\" ry=\"3\" style=\"stroke:#000000;stroke-width:1.0;\"/><text fill=\"#000000\" font-family=\"sans-serif\" font-size=\"14\" lengthAdjust=\"spacing\" textLength=\"144\" x=\"37\" y=\"115.4795\">geburtsdatum: date</text><ellipse cx=\"28\" cy=\"128.4297\" fill=\"#000000\" rx=\"3\" ry=\"3\" style=\"stroke:#000000;stroke-width:1.0;\"/><text fill=\"#000000\" font-family=\"sans-serif\" font-size=\"14\" lengthAdjust=\"spacing\" textLength=\"139\" x=\"37\" y=\"131.7764\">entfernung: double</text></g><!--link jz to a--><g id=\"link_jz_a\"><path codeLine=\"45\" d=\"M69.035,315.119 C60.052,333.617 51.5495,354.628 47,375 C32.6636,439.196 31.7109,459.024 47,523 C51.9333,543.643 61.4696,564.8 71.2346,582.8855 \" fill=\"none\" id=\"jz-a\" style=\"stroke:#181818;stroke-width:1.0;\"/><text fill=\"#000000\" font-family=\"sans-serif\" font-size=\"13\" lengthAdjust=\"spacing\" textLength=\"23\" x=\"40.8937\" y=\"334.7934\">1..*</text><text fill=\"#000000\" font-family=\"sans-serif\" font-size=\"13\" lengthAdjust=\"spacing\" textLength=\"23\" x=\"42.291\" y=\"571.8965\">0..*</text></g><!--link t to a--><g id=\"link_t_a\"><path codeLine=\"46\" d=\"M156.978,523.038 C146.792,543.133 135.995,564.434 126.691,582.7886 \" fill=\"none\" id=\"t-a\" style=\"stroke:#181818;stroke-width:1.0;\"/><text fill=\"#000000\" font-family=\"sans-serif\" font-size=\"13\" lengthAdjust=\"spacing\" textLength=\"23\" x=\"128.9742\" y=\"543.501\">0..*</text><text fill=\"#000000\" font-family=\"sans-serif\" font-size=\"13\" lengthAdjust=\"spacing\" textLength=\"24\" x=\"104.4759\" y=\"571.7859\">1..1</text></g><!--link jz to t--><g id=\"link_jz_t\"><path codeLine=\"47\" d=\"M129.603,315.006 C138.707,333.807 148.961,354.985 158.566,374.821 \" fill=\"none\" id=\"jz-t\" style=\"stroke:#181818;stroke-width:1.0;\"/><text fill=\"#000000\" font-family=\"sans-serif\" font-size=\"13\" lengthAdjust=\"spacing\" textLength=\"24\" x=\"107.4071\" y=\"334.6674\">1..1</text><text fill=\"#000000\" font-family=\"sans-serif\" font-size=\"13\" lengthAdjust=\"spacing\" textLength=\"23\" x=\"130.9459\" y=\"363.8357\">0..*</text></g><!--link m to jz--><g id=\"link_m_jz\"><path codeLine=\"48\" d=\"M102,139.192 C102,158.674 102,179.876 102,198.803 \" fill=\"none\" id=\"m-jz\" style=\"stroke:#181818;stroke-width:1.0;\"/><text fill=\"#000000\" font-family=\"sans-serif\" font-size=\"13\" lengthAdjust=\"spacing\" textLength=\"23\" x=\"77.7422\" y=\"159.3219\">0..*</text><text fill=\"#000000\" font-family=\"sans-serif\" font-size=\"13\" lengthAdjust=\"spacing\" textLength=\"23\" x=\"77.5984\" y=\"187.8845\">1..*</text></g><!--SRC=[ZLAnRi8m4Dtz5LR6IA3IRcmi3AqgCNIhK7I93yTWNv3jj29L_xsEIK898CYIotkNvtVFLog1l52sqCZAjZPeShIEkRBwvXk5MZZ62WtEyUIrbaYYGVAsDWa7nxSD_s4yF2dFb9XpHVxbcQVfwYrDEvp0u9mxRnN93WeVY7u45ieVHb2ZzbbH2UnqsU_WP44Iyygx7NZGbOnUuAwL71jKHKaroT59ERgYjAZoIsfRooOAWhLm-8ooww2xR7Kl76KVQ8sYQCZVDGGayzqPkJoHmy5NE06-DlFsXHtoLTaII21XjjU0lXbIwoVKAFqD4iY4Ymwp8_LpBdfeVJPa1nu39pvCQ9INMg68Xe_vtNPy4dplVejwvZolGMNrM2PN5Ws4HUV6QBYesdftcM5Ox0tQutg8givrjCh2aYUpwJHD-6J2awTO0VDzsOA1dhLWrphxt-gP6RM6Qjly0G00]--></g></svg>"
      ],
      "text/plain": [
       "<IPython.core.display.SVG object>"
      ]
     },
     "execution_count": 387,
     "metadata": {},
     "output_type": "execute_result"
    }
   ],
   "source": [
    "%%plantuml \n",
    "\n",
    "@startuml\n",
    "\n",
    "hide circle\n",
    "hide members\n",
    "show fields\n",
    "\n",
    "class \"Jugendzentrum\" as jz {\n",
    "    * _id: int32 **PK**\n",
    "    * name: string\n",
    "    * street: string\n",
    "    * city: string\n",
    "    * zip_code: int32\n",
    "}\n",
    "\n",
    "class \"Angebotskatalog\" as a {\n",
    "    * _id: int32 **PK**\n",
    "    * bezeichnung: string\n",
    "    * beschreibung: string\n",
    "    * jugz_id: array[int32] **FK**\n",
    "}\n",
    "\n",
    "class \"Angebot_Termin\" as t {\n",
    "    * _id: int32 **PK**\n",
    "    * angbk_id: int32 **FK**\n",
    "    * jugz_id: int32 **FK**\n",
    "    * datum: date\n",
    "    * vorhandene_plaetze: int32\n",
    "    * belegte_plaetze: int32\n",
    "    * anmeldungen: array[Anmeldung]\n",
    "}\n",
    "\n",
    "class \"Anmeldung\" as an  {\n",
    "    * mitglied_id: string **FK**\n",
    "    * datum: date\n",
    "}\n",
    "\n",
    "class \"Mitglied\" as m {\n",
    "    * _id: string **PK**\n",
    "    * jugz_id: int32 **FK**\n",
    "    * name: string\n",
    "    * adresse: string\n",
    "    * geburtsdatum: date\n",
    "    * entfernung: double\n",
    "}\n",
    "\n",
    "\n",
    "jz \"1..*\" -- \"0..*\" a\n",
    "t \"0..*\" -- \"1..1\" a\n",
    "jz \"1..1\" -- \"0..*\" t\n",
    "m \"0..*\" -- \"1..*\" jz\n",
    "\n",
    "@enduml\n"
   ]
  },
  {
   "cell_type": "raw",
   "id": "169a4d7d",
   "metadata": {
    "tags": [
     "solution"
    ]
   },
   "source": [
    "Begründung der Modellierung:\n",
    "Die “Anmeldung”-Klasse enthält nun die Mitglied-ID und das Datum der Anmeldung. Diese Informationen sind direkt in der “Angebot_Termin”-Klasse eingebettet, was den Zugriff auf diese Informationen erleichtert und die Notwendigkeit von JOIN-Operationen reduziert, die in MongoDB nicht nativ unterstützt werden.\n",
    "\n",
    "Diese Modellierung ermöglicht es uns, die Anmeldungen für einen bestimmten Termin direkt abzurufen, ohne zusätzliche Abfragen durchführen zu müssen. Darüber hinaus können wir leicht neue Anmeldungen hinzufügen oder bestehende Anmeldungen aktualisieren oder löschen, indem wir die entsprechenden Operationen auf dem eingebetteten “Anmeldung”-Dokument durchführen.\n",
    "\n",
    "Die Composition ist in der “Angebot_Termin”-Klasse, wo die “Anmeldung”-Klasse als eingebettetes Dokument modelliert wird. die “Anmeldung”-Klasse Teil der “Angebot_Termin”-Klasse und existiert nicht unabhängig von ihr."
   ]
  },
  {
   "cell_type": "markdown",
   "id": "c84bf0dc",
   "metadata": {},
   "source": [
    "### Aufgabe 3.4 (2 Punkte)  \n",
    "    \n",
    "Nach der Migration der Daten wurde festgestellt, dass Abfragen **R3** und **R4** noch Probleme mit der Performance haben. Wie könnte die \"MongoDB-Collection\" *Angebot_Termin* erweitert bzw. angepasst werden, dass diese Abfragen möglichst optimal implementiert werden können?"
   ]
  },
  {
   "cell_type": "raw",
   "id": "0173f24d",
   "metadata": {
    "tags": [
     "solution"
    ]
   },
   "source": [
    "Ihre Antwort:"
   ]
  },
  {
   "cell_type": "markdown",
   "id": "73f7cd15",
   "metadata": {},
   "source": [
    "### Aufgabe 3.5 (4 Punkte)\n",
    "\n",
    "Der landesweite Verband von Jugendzentren hat sich vorgenommen die digitale Präsens weiter auszubauen. Es soll ein Framework für Blogs entwickelt werden. Jedes Mitglied soll Blog-Einträge mit Text und Fotos veröffentlichen können. Andere Nutzer können Einträge \"liken\" und \"disliken\" sowie Kommentare zu den Einträgen schreiben.\n",
    "\n",
    "Der neue Mitarbeiter hat vorgeschlagen hierfür ebenfalls MongoDB als Datenbanksystem zu verwenden, hat dies allerdings noch nicht ausreichend begründet. Helfen Sie indem Sie Gründe für oder gegen die Verwendung von MongoDB als Datenbanksystem angeben. "
   ]
  },
  {
   "cell_type": "raw",
   "id": "db9a5b2b",
   "metadata": {
    "tags": [
     "solution"
    ]
   },
   "source": [
    "Ihre Antwort:"
   ]
  },
  {
   "cell_type": "markdown",
   "id": "bcecbb9b",
   "metadata": {},
   "source": [
    "### Aufgabe 3.6 (4 Punkte)\n",
    "\n",
    "Erläutern Sie die wesentlichen Unterschiede zwischen Dokumentorientierten Datenbanksystemen und Column-Family-Datenbanksystemen."
   ]
  },
  {
   "cell_type": "raw",
   "id": "71d65119",
   "metadata": {
    "tags": [
     "solution"
    ]
   },
   "source": [
    "Ihre Antwort:"
   ]
  },
  {
   "cell_type": "markdown",
   "id": "6cefee94",
   "metadata": {},
   "source": [
    "### Aufgabe 3.7 (2 Punkte)\n",
    "\n",
    "Erläutern Sie das Konzept der aggregatorientierten Modellierung."
   ]
  },
  {
   "cell_type": "raw",
   "id": "0dea7fd6",
   "metadata": {
    "tags": [
     "solution"
    ]
   },
   "source": [
    "Ihre Antwort:"
   ]
  },
  {
   "cell_type": "markdown",
   "id": "cd6b5dad",
   "metadata": {},
   "source": [
    "## Aufgabe 4 - Technologien für Big Data (5 Punkte)"
   ]
  },
  {
   "cell_type": "markdown",
   "id": "5d9be9bf",
   "metadata": {},
   "source": [
    "### Aufgabe 4.1 (2 Punkte)\n",
    "Sharding: Welche Vor- und Nachteile hat Range-based Sharding in Bezug auf die gleichmäßige Verteilung der Daten über die Knoten und in Bezug auf die Performance von Queries?\n"
   ]
  },
  {
   "cell_type": "raw",
   "id": "de0d4fc4",
   "metadata": {
    "tags": [
     "solution"
    ]
   },
   "source": [
    "Ihre Antwort: "
   ]
  },
  {
   "cell_type": "markdown",
   "id": "4120a850",
   "metadata": {},
   "source": [
    "### Aufgabe 4.2 (2 Punkte)\n",
    "Replikation: Welche Vor- und Nachteile hat die asynchrone Replikation? "
   ]
  },
  {
   "cell_type": "raw",
   "id": "144b9443",
   "metadata": {
    "tags": [
     "solution"
    ]
   },
   "source": [
    "Ihre Antwort: "
   ]
  },
  {
   "cell_type": "markdown",
   "id": "88b4b568",
   "metadata": {},
   "source": [
    "### Aufgabe 4.3 (1 Punkt)\n",
    "Warum verwendet man in In-Memory-Datenbanksystemen zum Aktualisieren von Daten i.A. einen Differential Buffer und ersetzt nicht *in-place*?"
   ]
  },
  {
   "cell_type": "raw",
   "id": "91febb36",
   "metadata": {
    "tags": [
     "solution"
    ]
   },
   "source": [
    "Ihre Antwort: "
   ]
  }
 ],
 "metadata": {
  "celltoolbar": "",
  "kernelspec": {
   "display_name": "Python 3 (ipykernel)",
   "language": "python",
   "name": "python3"
  },
  "language_info": {
   "codemirror_mode": {
    "name": "ipython",
    "version": 3
   },
   "file_extension": ".py",
   "mimetype": "text/x-python",
   "name": "python",
   "nbconvert_exporter": "python",
   "pygments_lexer": "ipython3",
   "version": "3.11.3"
  },
  "toc": {
   "base_numbering": 1,
   "nav_menu": {},
   "number_sections": true,
   "sideBar": true,
   "skip_h1_title": true,
   "title_cell": "Table of Contents",
   "title_sidebar": "Contents",
   "toc_cell": false,
   "toc_position": {},
   "toc_section_display": true,
   "toc_window_display": true
  }
 },
 "nbformat": 4,
 "nbformat_minor": 5
}
