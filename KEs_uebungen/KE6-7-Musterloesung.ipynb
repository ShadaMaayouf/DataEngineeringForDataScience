{
 "cells": [
  {
   "cell_type": "raw",
   "id": "15b94051",
   "metadata": {},
   "source": [
    "Name:\n",
    "Matrikelnummer:"
   ]
  },
  {
   "cell_type": "markdown",
   "id": "7b4b8e40",
   "metadata": {},
   "source": [
    "___"
   ]
  },
  {
   "cell_type": "markdown",
   "id": "b8bb480d",
   "metadata": {},
   "source": [
    "# (I can't get no) satisfaction\n",
    "\n",
    "Ziel dieser Kurseinheit ist es, Erfahrung mit der Datenmodellierung für dokument-orientierte und spalten-orientierte Datenbanksysteme (im Vergleich zu relationalen Systemen) zu sammeln."
   ]
  },
  {
   "cell_type": "markdown",
   "id": "8db451bc",
   "metadata": {},
   "source": [
    "## Module und Umgebunsvariablen laden\n",
    "\n",
    "Wie bereits in KE1 beschrieben, werden zunächst zwei Umgebungsvariablen Variablen angelegt, auf die im Verlauf dieser Kurseinheit zugegriffen wird. "
   ]
  },
  {
   "cell_type": "code",
   "execution_count": 4,
   "id": "bb376690",
   "metadata": {
    "ExecuteTime": {
     "end_time": "2023-08-24T16:18:30.268130Z",
     "start_time": "2023-08-24T16:18:30.205133Z"
    }
   },
   "outputs": [],
   "source": [
    "# Load neccessary python libraries\n",
    "import os\n",
    "import iplantuml\n",
    "import plantuml"
   ]
  },
  {
   "cell_type": "code",
   "execution_count": null,
   "id": "efbf226b",
   "metadata": {},
   "outputs": [],
   "source": [
    "# Absolute path to the folder cotaining the git repo\n",
    "host_repo_path =  \"/CHANGE/ME\"\n",
    "\n",
    "# Relative path to the folder containing following files (INSIDE OF THE WORKSPACE FOLDER!):\n",
    "#   employees_satisfaction_transformed.csv\n",
    "#   departments.csv\n",
    "#   projects.csv\n",
    "workspace_data_path = \"CHANGE/ME\"\n",
    "\n",
    "os.environ['HOST_DATA_PATH'] = os.path.join(host_repo_path, \"workspace\", workspace_data_path)\n",
    "os.environ['DATA_PATH'] = os.path.join(\"/home/pyspark-client/workspace/\", workspace_data_path)"
   ]
  },
  {
   "cell_type": "markdown",
   "id": "4f4da72b",
   "metadata": {},
   "source": [
    "##  Datenmodellierung\n",
    "\n",
    "Wir beginnen mit einer Analyse der zur Verfügung stehenden Dateien bzw. Daten, die in die verschiedenen Datenbanksysteme importiert werden sollen.\n",
    "\n",
    "Neben der bereits verwendeten Datei:\n",
    "\n",
    "- *employees_satisfaction_transformed.csv*"
   ]
  },
  {
   "cell_type": "code",
   "execution_count": null,
   "id": "24233efa",
   "metadata": {
    "scrolled": true
   },
   "outputs": [],
   "source": [
    "%%bash\n",
    "\n",
    "# Show the headline from file \"employees_satisfaction_transformed.csv\"\n",
    "printf \"\\n## Employee columns\\n\"\n",
    "head -1 ${DATA_PATH}/employees_satisfaction_transformed.csv"
   ]
  },
  {
   "cell_type": "markdown",
   "id": "40a01479",
   "metadata": {},
   "source": [
    "werden zwei weitere Dateien bereitgestellt:\n",
    "\n",
    "- *departments.csv*\n",
    "\n",
    "- *projects.csv*"
   ]
  },
  {
   "cell_type": "code",
   "execution_count": null,
   "id": "e5daf7f5",
   "metadata": {},
   "outputs": [],
   "source": [
    "%%bash\n",
    "\n",
    "# Show the headline from file \"departments.csv\"\n",
    "printf \"\\n## Department columns:\\n\"\n",
    "head -1 ${DATA_PATH}/departments.csv\n",
    "\n",
    "# Show the headline from file \"projects.csv\"\n",
    "printf \"\\n## Project columns\\n\"\n",
    "head -1 ${DATA_PATH}/projects.csv"
   ]
  },
  {
   "cell_type": "markdown",
   "id": "6a89375c",
   "metadata": {},
   "source": [
    "> *HINWEIS:* Die Binärdaten der Bilddateien (*Projects.proj_image*) sind base64 encodiert!"
   ]
  },
  {
   "cell_type": "markdown",
   "id": "e121aa86",
   "metadata": {},
   "source": [
    "\n",
    "\n",
    "<div class=\"alert alert-block alert-info\">\n",
    "    \n",
    "**Aufgabe 1**    \n",
    "\n",
    "Erstellen Sie zunächst ein Klassen-Diagramm, das die Struktur bzw. das Schema der vorhandenen Daten darstellt (Eine Klasse je CSV-Datei). Heben Sie insbesondere Primär- und Fremd-Schlüsselattribute hervor (fett) und Markieren Sie farblich (fett und rot) die in den vorliegenden Daten fehlenden Schlüsselattribute die für die nachfolgend aufgelisteten Beziehungen notwendig sind. Es ist ebenfalls sinnvoll eine Analyse der Datentypen (string, int, float) der vorhandenen Werte vorzunehmen und diese ebenfalls darzustellen.\n",
    "</div>\n",
    "\n",
    "\n",
    "Folgende Beziehungen sind in den Daten vorhanden bzw. sollen modelliert werden:\n",
    "\n",
    "- Ein Department hat mehrere Projekte, aber ein Projekt ist immer genau einem Department zugeordnet\n",
    "- Ein Department hat viele Mitarbeiter, aber ein Mitarbeiter ist nur einem Department zugeordnet\n",
    "\n",
    "\n",
    "\n",
    "> *HINWEIS:* Für die Modellierung verwenden wir PlantUML innerhalb der Jupyter-Notebook-Zellen. Eine Dokumentation zu PlantUML ist unter folgender URL zu finden: [https://plantuml.com/class-diagram](https://plantuml.com/class-diagram)"
   ]
  },
  {
   "cell_type": "code",
   "execution_count": 9,
   "id": "366a4500",
   "metadata": {
    "ExecuteTime": {
     "end_time": "2023-06-10T12:07:42.421285Z",
     "start_time": "2023-06-10T12:07:35.066774Z"
    },
    "scrolled": false
   },
   "outputs": [
    {
     "data": {
      "image/svg+xml": [
       "<svg xmlns=\"http://www.w3.org/2000/svg\" xmlns:xlink=\"http://www.w3.org/1999/xlink\" contentStyleType=\"text/css\" height=\"452px\" preserveAspectRatio=\"none\" style=\"width:494px;height:452px;background:#FFFFFF;\" version=\"1.1\" viewBox=\"0 0 494 452\" width=\"494px\" zoomAndPan=\"magnify\"><defs/><g><!--class d--><g id=\"elem_d\"><rect codeLine=\"5\" fill=\"#F1F1F1\" height=\"99.4844\" id=\"d\" rx=\"2.5\" ry=\"2.5\" style=\"stroke:#181818;stroke-width:0.5;\" width=\"123\" x=\"187\" y=\"7\"/><text fill=\"#000000\" font-family=\"sans-serif\" font-size=\"14\" lengthAdjust=\"spacing\" textLength=\"90\" x=\"203.5\" y=\"24.9951\">Department</text><line style=\"stroke:#181818;stroke-width:0.5;\" x1=\"188\" x2=\"309\" y1=\"33.2969\" y2=\"33.2969\"/><ellipse cx=\"198\" cy=\"46.9453\" fill=\"#000000\" rx=\"3\" ry=\"3\" style=\"stroke:#000000;stroke-width:1.0;\"/><text fill=\"#000000\" font-family=\"sans-serif\" font-size=\"14\" font-weight=\"bold\" lengthAdjust=\"spacing\" textLength=\"97\" x=\"207\" y=\"50.292\">id : int «PK»</text><ellipse cx=\"198\" cy=\"63.2422\" fill=\"#000000\" rx=\"3\" ry=\"3\" style=\"stroke:#000000;stroke-width:1.0;\"/><text fill=\"#000000\" font-family=\"sans-serif\" font-size=\"14\" lengthAdjust=\"spacing\" textLength=\"95\" x=\"207\" y=\"66.5889\">name : string</text><ellipse cx=\"198\" cy=\"79.5391\" fill=\"#000000\" rx=\"3\" ry=\"3\" style=\"stroke:#000000;stroke-width:1.0;\"/><text fill=\"#000000\" font-family=\"sans-serif\" font-size=\"14\" lengthAdjust=\"spacing\" textLength=\"82\" x=\"207\" y=\"82.8857\">city : string</text><ellipse cx=\"198\" cy=\"95.8359\" fill=\"#000000\" rx=\"3\" ry=\"3\" style=\"stroke:#000000;stroke-width:1.0;\"/><text fill=\"#000000\" font-family=\"sans-serif\" font-size=\"14\" lengthAdjust=\"spacing\" textLength=\"97\" x=\"207\" y=\"99.1826\">zip_code : int</text></g><!--class p--><g id=\"elem_p\"><rect codeLine=\"12\" fill=\"#F1F1F1\" height=\"148.375\" id=\"p\" rx=\"2.5\" ry=\"2.5\" style=\"stroke:#181818;stroke-width:0.5;\" width=\"225\" x=\"7\" y=\"240\"/><text fill=\"#000000\" font-family=\"sans-serif\" font-size=\"14\" lengthAdjust=\"spacing\" textLength=\"52\" x=\"93.5\" y=\"257.9951\">Project</text><line style=\"stroke:#181818;stroke-width:0.5;\" x1=\"8\" x2=\"231\" y1=\"266.2969\" y2=\"266.2969\"/><ellipse cx=\"18\" cy=\"279.9453\" fill=\"#000000\" rx=\"3\" ry=\"3\" style=\"stroke:#000000;stroke-width:1.0;\"/><text fill=\"#FF6347\" font-family=\"sans-serif\" font-size=\"14\" font-weight=\"bold\" lengthAdjust=\"spacing\" textLength=\"97\" x=\"27\" y=\"283.292\">id : int «PK»</text><ellipse cx=\"18\" cy=\"296.2422\" fill=\"#000000\" rx=\"3\" ry=\"3\" style=\"stroke:#000000;stroke-width:1.0;\"/><text fill=\"#000000\" font-family=\"sans-serif\" font-size=\"14\" font-weight=\"bold\" lengthAdjust=\"spacing\" textLength=\"199\" x=\"27\" y=\"299.5889\">department_id : int «FK»</text><ellipse cx=\"18\" cy=\"312.5391\" fill=\"#000000\" rx=\"3\" ry=\"3\" style=\"stroke:#000000;stroke-width:1.0;\"/><text fill=\"#000000\" font-family=\"sans-serif\" font-size=\"14\" lengthAdjust=\"spacing\" textLength=\"86\" x=\"27\" y=\"315.8857\">title : string</text><ellipse cx=\"18\" cy=\"328.8359\" fill=\"#000000\" rx=\"3\" ry=\"3\" style=\"stroke:#000000;stroke-width:1.0;\"/><text fill=\"#000000\" font-family=\"sans-serif\" font-size=\"14\" lengthAdjust=\"spacing\" textLength=\"135\" x=\"27\" y=\"332.1826\">proj_image : string</text><ellipse cx=\"18\" cy=\"345.1328\" fill=\"#000000\" rx=\"3\" ry=\"3\" style=\"stroke:#000000;stroke-width:1.0;\"/><text fill=\"#000000\" font-family=\"sans-serif\" font-size=\"14\" lengthAdjust=\"spacing\" textLength=\"99\" x=\"27\" y=\"348.4795\">budget : float</text><ellipse cx=\"18\" cy=\"361.4297\" fill=\"#000000\" rx=\"3\" ry=\"3\" style=\"stroke:#000000;stroke-width:1.0;\"/><text fill=\"#000000\" font-family=\"sans-serif\" font-size=\"14\" lengthAdjust=\"spacing\" textLength=\"130\" x=\"27\" y=\"364.7764\">start_date : string</text><ellipse cx=\"18\" cy=\"377.7266\" fill=\"#000000\" rx=\"3\" ry=\"3\" style=\"stroke:#000000;stroke-width:1.0;\"/><text fill=\"#000000\" font-family=\"sans-serif\" font-size=\"14\" lengthAdjust=\"spacing\" textLength=\"122\" x=\"27\" y=\"381.0732\">end_date : string</text></g><!--class e--><g id=\"elem_e\"><rect codeLine=\"22\" fill=\"#F1F1F1\" height=\"262.4531\" id=\"e\" rx=\"2.5\" ry=\"2.5\" style=\"stroke:#181818;stroke-width:0.5;\" width=\"220\" x=\"267.5\" y=\"183\"/><text fill=\"#000000\" font-family=\"sans-serif\" font-size=\"14\" lengthAdjust=\"spacing\" textLength=\"72\" x=\"341.5\" y=\"200.9951\">Employee</text><line style=\"stroke:#181818;stroke-width:0.5;\" x1=\"268.5\" x2=\"486.5\" y1=\"209.2969\" y2=\"209.2969\"/><ellipse cx=\"278.5\" cy=\"222.9453\" fill=\"#000000\" rx=\"3\" ry=\"3\" style=\"stroke:#000000;stroke-width:1.0;\"/><text fill=\"#000000\" font-family=\"sans-serif\" font-size=\"14\" font-weight=\"bold\" lengthAdjust=\"spacing\" textLength=\"97\" x=\"287.5\" y=\"226.292\">id : int «PK»</text><ellipse cx=\"278.5\" cy=\"239.2422\" fill=\"#000000\" rx=\"3\" ry=\"3\" style=\"stroke:#000000;stroke-width:1.0;\"/><text fill=\"#FF6347\" font-family=\"sans-serif\" font-size=\"14\" font-weight=\"bold\" lengthAdjust=\"spacing\" textLength=\"194\" x=\"287.5\" y=\"242.5889\">department_id: int «FK»</text><ellipse cx=\"278.5\" cy=\"255.5391\" fill=\"#000000\" rx=\"3\" ry=\"3\" style=\"stroke:#000000;stroke-width:1.0;\"/><text fill=\"#000000\" font-family=\"sans-serif\" font-size=\"14\" lengthAdjust=\"spacing\" textLength=\"59\" x=\"287.5\" y=\"258.8857\">age : int</text><ellipse cx=\"278.5\" cy=\"271.8359\" fill=\"#000000\" rx=\"3\" ry=\"3\" style=\"stroke:#000000;stroke-width:1.0;\"/><text fill=\"#000000\" font-family=\"sans-serif\" font-size=\"14\" lengthAdjust=\"spacing\" textLength=\"143\" x=\"287.5\" y=\"275.1826\">department : string</text><ellipse cx=\"278.5\" cy=\"288.1328\" fill=\"#000000\" rx=\"3\" ry=\"3\" style=\"stroke:#000000;stroke-width:1.0;\"/><text fill=\"#000000\" font-family=\"sans-serif\" font-size=\"14\" lengthAdjust=\"spacing\" textLength=\"106\" x=\"287.5\" y=\"291.4795\">gender : string</text><ellipse cx=\"278.5\" cy=\"304.4297\" fill=\"#000000\" rx=\"3\" ry=\"3\" style=\"stroke:#000000;stroke-width:1.0;\"/><text fill=\"#000000\" font-family=\"sans-serif\" font-size=\"14\" lengthAdjust=\"spacing\" textLength=\"126\" x=\"287.5\" y=\"307.7764\">education : string</text><ellipse cx=\"278.5\" cy=\"320.7266\" fill=\"#000000\" rx=\"3\" ry=\"3\" style=\"stroke:#000000;stroke-width:1.0;\"/><text fill=\"#000000\" font-family=\"sans-serif\" font-size=\"14\" lengthAdjust=\"spacing\" textLength=\"183\" x=\"287.5\" y=\"324.0732\">recruitment_type : string</text><ellipse cx=\"278.5\" cy=\"337.0234\" fill=\"#000000\" rx=\"3\" ry=\"3\" style=\"stroke:#000000;stroke-width:1.0;\"/><text fill=\"#000000\" font-family=\"sans-serif\" font-size=\"14\" lengthAdjust=\"spacing\" textLength=\"97\" x=\"287.5\" y=\"340.3701\">job_level : int</text><ellipse cx=\"278.5\" cy=\"353.3203\" fill=\"#000000\" rx=\"3\" ry=\"3\" style=\"stroke:#000000;stroke-width:1.0;\"/><text fill=\"#000000\" font-family=\"sans-serif\" font-size=\"14\" lengthAdjust=\"spacing\" textLength=\"98\" x=\"287.5\" y=\"356.667\">rating : string</text><ellipse cx=\"278.5\" cy=\"369.6172\" fill=\"#000000\" rx=\"3\" ry=\"3\" style=\"stroke:#000000;stroke-width:1.0;\"/><text fill=\"#000000\" font-family=\"sans-serif\" font-size=\"14\" lengthAdjust=\"spacing\" textLength=\"82\" x=\"287.5\" y=\"372.9639\">awards : int</text><ellipse cx=\"278.5\" cy=\"385.9141\" fill=\"#000000\" rx=\"3\" ry=\"3\" style=\"stroke:#000000;stroke-width:1.0;\"/><text fill=\"#000000\" font-family=\"sans-serif\" font-size=\"14\" lengthAdjust=\"spacing\" textLength=\"129\" x=\"287.5\" y=\"389.2607\">certifications : int</text><ellipse cx=\"278.5\" cy=\"402.2109\" fill=\"#000000\" rx=\"3\" ry=\"3\" style=\"stroke:#000000;stroke-width:1.0;\"/><text fill=\"#000000\" font-family=\"sans-serif\" font-size=\"14\" lengthAdjust=\"spacing\" textLength=\"88\" x=\"287.5\" y=\"405.5576\">salary : float</text><ellipse cx=\"278.5\" cy=\"418.5078\" fill=\"#000000\" rx=\"3\" ry=\"3\" style=\"stroke:#000000;stroke-width:1.0;\"/><text fill=\"#000000\" font-family=\"sans-serif\" font-size=\"14\" lengthAdjust=\"spacing\" textLength=\"134\" x=\"287.5\" y=\"421.8545\">entry_date : string</text><ellipse cx=\"278.5\" cy=\"434.8047\" fill=\"#000000\" rx=\"3\" ry=\"3\" style=\"stroke:#000000;stroke-width:1.0;\"/><text fill=\"#000000\" font-family=\"sans-serif\" font-size=\"14\" lengthAdjust=\"spacing\" textLength=\"94\" x=\"287.5\" y=\"438.1514\">satisfied : int</text></g><!--link d to e--><g id=\"link_d_e\"><path codeLine=\"40\" d=\"M273.068,106.159 C284.216,128.239 297.987,155.516 311.831,182.935 \" fill=\"none\" id=\"d-e\" style=\"stroke:#181818;stroke-width:1.0;\"/><polygon fill=\"#000000\" points=\"301.7535,149.0298,300.3004,139.6309,295.0534,142.28,301.7535,149.0298\" style=\"stroke:#000000;stroke-width:1.0;\"/><text fill=\"#000000\" font-family=\"sans-serif\" font-size=\"13\" lengthAdjust=\"spacing\" textLength=\"23\" x=\"308.5\" y=\"149.0669\">has</text><text fill=\"#000000\" font-family=\"sans-serif\" font-size=\"13\" lengthAdjust=\"spacing\" textLength=\"8\" x=\"268.0889\" y=\"126.5953\">1</text><text fill=\"#000000\" font-family=\"sans-serif\" font-size=\"13\" lengthAdjust=\"spacing\" textLength=\"23\" x=\"284.3697\" y=\"171.9818\">0..*</text></g><!--link d to p--><g id=\"link_d_p\"><path codeLine=\"41\" d=\"M223.932,106.159 C204.853,143.948 178.088,196.96 156.43,239.855 \" fill=\"none\" id=\"d-p\" style=\"stroke:#181818;stroke-width:1.0;\"/><polygon fill=\"#000000\" points=\"210.2465,149.0298,216.9466,142.28,211.6996,139.6309,210.2465,149.0298\" style=\"stroke:#000000;stroke-width:1.0;\"/><text fill=\"#000000\" font-family=\"sans-serif\" font-size=\"13\" lengthAdjust=\"spacing\" textLength=\"23\" x=\"221.5\" y=\"149.0669\">has</text><text fill=\"#000000\" font-family=\"sans-serif\" font-size=\"13\" lengthAdjust=\"spacing\" textLength=\"8\" x=\"211.7361\" y=\"126.5953\">1</text><text fill=\"#000000\" font-family=\"sans-serif\" font-size=\"13\" lengthAdjust=\"spacing\" textLength=\"23\" x=\"135.9333\" y=\"228.873\">0..*</text></g><!--SRC=[ZLAnJiCm4Dtz5QUCaLfWhQ9CmCBIWJroxMjYvDZM-KeL4F-EsvIqSJgGoNdlVE-zEtT68oX3ogBeJkSU-nrI5B7pHzWRj3eAeQoC4Ofd39AuHyS5o0WQlWMahuIoD1esO1n3LMtVwheiBuoJFIOcCXdNNZ1bUCYnBnCQvJMENSJFfBab_u5g50oJOAMyzRHvzxraNz-HhnxE5VLaK4_UcvlYrrklRDWkp8QatvXUjWjcTz0jSaBtrak-W96JIgCbByhHwGo_XdpfW_K3uZab_cEiUVvPkdcuR19ZaDECn__hpTnmcnmZBMBeWv9ilCi9GaK7CthW8IpoV_XTO_4JxKoUKY_NvhNoA4d7MQ52OhCte_QSYj9A6h9591iqt5r4J2rYUjdw-jQ4XkAfWDKAYiVrkYpWTAbBkwWNJFXZVW40]--></g></svg>"
      ],
      "text/plain": [
       "<IPython.core.display.SVG object>"
      ]
     },
     "execution_count": 9,
     "metadata": {},
     "output_type": "execute_result"
    }
   ],
   "source": [
    "%%plantuml \n",
    "\n",
    "@startuml\n",
    "\n",
    "hide circle\n",
    "hide members\n",
    "show fields\n",
    "\n",
    "class \"Department\" as d {\n",
    "    * **id : int <<PK>>**\n",
    "    * name : string\n",
    "    * city : string\n",
    "    * zip_code : int\n",
    "}\n",
    "\n",
    "class \"Project\" as p {\n",
    "    * <color:Tomato>**id : int <<PK>>**</color>\n",
    "    * **department_id : int <<FK>>**\n",
    "    * title : string\n",
    "    * proj_image : string\n",
    "    * budget : float\n",
    "    * start_date : string\n",
    "    * end_date : string\n",
    "}\n",
    "\n",
    "class \"Employee\" as e {\n",
    "    * **id : int <<PK>>**\n",
    "    * <color:Tomato>**department_id: int <<FK>>**</color>\n",
    "    * age : int\n",
    "    * department : string\n",
    "    * gender : string\n",
    "    * education : string\n",
    "    * recruitment_type : string\n",
    "    * job_level : int\n",
    "    * rating : string\n",
    "    * awards : int\n",
    "    * certifications : int\n",
    "    * salary : float\n",
    "    * entry_date : string\n",
    "    * satisfied : int\n",
    "}\n",
    "\n",
    "\n",
    "d \"1\" -- \"0..*\" e : has >\n",
    "d \"1\" -- \"0..*\" p : has >\n",
    "   \n",
    "@enduml"
   ]
  },
  {
   "cell_type": "markdown",
   "id": "afe8034d",
   "metadata": {},
   "source": [
    "> *HINWEIS:* Attribute wie *Employee.entry_date* wurden hier als *string* dargestellt, da eine automatische Erfassung von Datentypen mit Tools wie *xsv* Strings, die ein Datum enthalten diesen nicht immer als *date* erkennen! Außerdem können Spalten Werte in verschiedenen Datentypen enthalten (in diesem Fall enhält die Spalte *Employee.rating* String- und Float-Werte). Diese werden von Tools wie *xsv* dann ebenfalls als String erkannt. Für den Import in ein Datenbanksystem müssen diese gegebenenfalls angepasst werden!"
   ]
  },
  {
   "cell_type": "markdown",
   "id": "2926ccc8",
   "metadata": {},
   "source": [
    "## PostgreSQL    \n",
    "\n",
    "Im Folgenden sollen die vorhandenen Daten zunächst in ein relationales Datenbanksystem - in diesem Fall PostgreSQL - importiert werden.\n",
    "\n",
    "<div class=\"alert alert-block alert-info\">\n",
    "    \n",
    "**Aufgabe 2**    \n",
    "    \n",
    "Bilden Sie das in Aufgabe 1 aus den vorhandenen Daten extrahiert Modell jetzt geeignet auf das relationale Datenmodell ab (pysisches Modell). Hierbei muss im Sinne einer Normalisierung kein weitere Aufteilung der Tabellen vorgenommen werden.    Markieren Sie ebenfalls wieder farblich für die Modellierung notwendigen Attribute, die in den vorhandenen Daten fehlen. Kennzeichnen Sie ebenfalls redundante Attribute die Sie an dieser Stelle entfernen würden. \n",
    "</div>\n",
    "\n"
   ]
  },
  {
   "cell_type": "code",
   "execution_count": 10,
   "id": "fabe68f9",
   "metadata": {},
   "outputs": [
    {
     "data": {
      "image/svg+xml": [
       "<svg xmlns=\"http://www.w3.org/2000/svg\" xmlns:xlink=\"http://www.w3.org/1999/xlink\" contentStyleType=\"text/css\" height=\"435px\" preserveAspectRatio=\"none\" style=\"width:868px;height:435px;background:#FFFFFF;\" version=\"1.1\" viewBox=\"0 0 868 435\" width=\"868px\" zoomAndPan=\"magnify\"><defs/><g><!--class d--><g id=\"elem_d\"><rect codeLine=\"5\" fill=\"#F1F1F1\" height=\"99.4844\" id=\"d\" rx=\"2.5\" ry=\"2.5\" style=\"stroke:#181818;stroke-width:0.5;\" width=\"119\" x=\"564\" y=\"7\"/><text fill=\"#000000\" font-family=\"sans-serif\" font-size=\"14\" lengthAdjust=\"spacing\" textLength=\"90\" x=\"578.5\" y=\"24.9951\">Department</text><line style=\"stroke:#181818;stroke-width:0.5;\" x1=\"565\" x2=\"682\" y1=\"33.2969\" y2=\"33.2969\"/><ellipse cx=\"575\" cy=\"46.9453\" fill=\"#000000\" rx=\"3\" ry=\"3\" style=\"stroke:#000000;stroke-width:1.0;\"/><text fill=\"#000000\" font-family=\"sans-serif\" font-size=\"14\" font-weight=\"bold\" lengthAdjust=\"spacing\" textLength=\"92\" x=\"584\" y=\"50.292\">id: int «PK»</text><ellipse cx=\"575\" cy=\"63.2422\" fill=\"#000000\" rx=\"3\" ry=\"3\" style=\"stroke:#000000;stroke-width:1.0;\"/><text fill=\"#000000\" font-family=\"sans-serif\" font-size=\"14\" lengthAdjust=\"spacing\" textLength=\"80\" x=\"584\" y=\"66.5889\">name: text</text><ellipse cx=\"575\" cy=\"79.5391\" fill=\"#000000\" rx=\"3\" ry=\"3\" style=\"stroke:#000000;stroke-width:1.0;\"/><text fill=\"#000000\" font-family=\"sans-serif\" font-size=\"14\" lengthAdjust=\"spacing\" textLength=\"67\" x=\"584\" y=\"82.8857\">city: text</text><ellipse cx=\"575\" cy=\"95.8359\" fill=\"#000000\" rx=\"3\" ry=\"3\" style=\"stroke:#000000;stroke-width:1.0;\"/><text fill=\"#000000\" font-family=\"sans-serif\" font-size=\"14\" lengthAdjust=\"spacing\" textLength=\"93\" x=\"584\" y=\"99.1826\">zip_code: int</text></g><!--class p--><g id=\"elem_p\"><rect codeLine=\"12\" fill=\"#F1F1F1\" height=\"148.375\" id=\"p\" rx=\"2.5\" ry=\"2.5\" style=\"stroke:#181818;stroke-width:0.5;\" width=\"220\" x=\"641.5\" y=\"223\"/><text fill=\"#000000\" font-family=\"sans-serif\" font-size=\"14\" lengthAdjust=\"spacing\" textLength=\"52\" x=\"725.5\" y=\"240.9951\">Project</text><line style=\"stroke:#181818;stroke-width:0.5;\" x1=\"642.5\" x2=\"860.5\" y1=\"249.2969\" y2=\"249.2969\"/><ellipse cx=\"652.5\" cy=\"262.9453\" fill=\"#000000\" rx=\"3\" ry=\"3\" style=\"stroke:#000000;stroke-width:1.0;\"/><text fill=\"#FF6347\" font-family=\"sans-serif\" font-size=\"14\" font-weight=\"bold\" lengthAdjust=\"spacing\" textLength=\"92\" x=\"661.5\" y=\"266.292\">id: int «PK»</text><ellipse cx=\"652.5\" cy=\"279.2422\" fill=\"#000000\" rx=\"3\" ry=\"3\" style=\"stroke:#000000;stroke-width:1.0;\"/><text fill=\"#000000\" font-family=\"sans-serif\" font-size=\"14\" font-weight=\"bold\" lengthAdjust=\"spacing\" textLength=\"194\" x=\"661.5\" y=\"282.5889\">department_id: int «FK»</text><ellipse cx=\"652.5\" cy=\"295.5391\" fill=\"#000000\" rx=\"3\" ry=\"3\" style=\"stroke:#000000;stroke-width:1.0;\"/><text fill=\"#000000\" font-family=\"sans-serif\" font-size=\"14\" lengthAdjust=\"spacing\" textLength=\"71\" x=\"661.5\" y=\"298.8857\">title: text</text><ellipse cx=\"652.5\" cy=\"311.8359\" fill=\"#000000\" rx=\"3\" ry=\"3\" style=\"stroke:#000000;stroke-width:1.0;\"/><text fill=\"#000000\" font-family=\"sans-serif\" font-size=\"14\" lengthAdjust=\"spacing\" textLength=\"131\" x=\"661.5\" y=\"315.1826\">proj_image: bytea</text><ellipse cx=\"652.5\" cy=\"328.1328\" fill=\"#000000\" rx=\"3\" ry=\"3\" style=\"stroke:#000000;stroke-width:1.0;\"/><text fill=\"#000000\" font-family=\"sans-serif\" font-size=\"14\" lengthAdjust=\"spacing\" textLength=\"95\" x=\"661.5\" y=\"331.4795\">budget: float</text><ellipse cx=\"652.5\" cy=\"344.4297\" fill=\"#000000\" rx=\"3\" ry=\"3\" style=\"stroke:#000000;stroke-width:1.0;\"/><text fill=\"#000000\" font-family=\"sans-serif\" font-size=\"14\" lengthAdjust=\"spacing\" textLength=\"117\" x=\"661.5\" y=\"347.7764\">start_date: date</text><ellipse cx=\"652.5\" cy=\"360.7266\" fill=\"#000000\" rx=\"3\" ry=\"3\" style=\"stroke:#000000;stroke-width:1.0;\"/><text fill=\"#000000\" font-family=\"sans-serif\" font-size=\"14\" lengthAdjust=\"spacing\" textLength=\"109\" x=\"661.5\" y=\"364.0732\">end_date: date</text></g><!--class e--><g id=\"elem_e\"><rect codeLine=\"22\" fill=\"#F1F1F1\" height=\"262.4531\" id=\"e\" rx=\"2.5\" ry=\"2.5\" style=\"stroke:#181818;stroke-width:0.5;\" width=\"220\" x=\"386.5\" y=\"166\"/><text fill=\"#000000\" font-family=\"sans-serif\" font-size=\"14\" lengthAdjust=\"spacing\" textLength=\"72\" x=\"460.5\" y=\"183.9951\">Employee</text><line style=\"stroke:#181818;stroke-width:0.5;\" x1=\"387.5\" x2=\"605.5\" y1=\"192.2969\" y2=\"192.2969\"/><ellipse cx=\"397.5\" cy=\"205.9453\" fill=\"#000000\" rx=\"3\" ry=\"3\" style=\"stroke:#000000;stroke-width:1.0;\"/><text fill=\"#000000\" font-family=\"sans-serif\" font-size=\"14\" font-weight=\"bold\" lengthAdjust=\"spacing\" textLength=\"87\" x=\"406.5\" y=\"209.292\">id: int«PK»</text><ellipse cx=\"397.5\" cy=\"222.2422\" fill=\"#000000\" rx=\"3\" ry=\"3\" style=\"stroke:#000000;stroke-width:1.0;\"/><text fill=\"#FF6347\" font-family=\"sans-serif\" font-size=\"14\" font-weight=\"bold\" lengthAdjust=\"spacing\" textLength=\"194\" x=\"406.5\" y=\"225.5889\">department_id: int «FK»</text><ellipse cx=\"397.5\" cy=\"238.5391\" fill=\"#000000\" rx=\"3\" ry=\"3\" style=\"stroke:#000000;stroke-width:1.0;\"/><text fill=\"#000000\" font-family=\"sans-serif\" font-size=\"14\" lengthAdjust=\"spacing\" textLength=\"55\" x=\"406.5\" y=\"241.8857\">age: int</text><ellipse cx=\"397.5\" cy=\"254.8359\" fill=\"#000000\" rx=\"3\" ry=\"3\" style=\"stroke:#000000;stroke-width:1.0;\"/><text fill=\"#696969\" font-family=\"sans-serif\" font-size=\"14\" lengthAdjust=\"spacing\" textLength=\"88\" x=\"406.5\" y=\"258.1826\">department</text><ellipse cx=\"397.5\" cy=\"271.1328\" fill=\"#000000\" rx=\"3\" ry=\"3\" style=\"stroke:#000000;stroke-width:1.0;\"/><text fill=\"#000000\" font-family=\"sans-serif\" font-size=\"14\" lengthAdjust=\"spacing\" textLength=\"91\" x=\"406.5\" y=\"274.4795\">gender: text</text><ellipse cx=\"397.5\" cy=\"287.4297\" fill=\"#000000\" rx=\"3\" ry=\"3\" style=\"stroke:#000000;stroke-width:1.0;\"/><text fill=\"#000000\" font-family=\"sans-serif\" font-size=\"14\" lengthAdjust=\"spacing\" textLength=\"111\" x=\"406.5\" y=\"290.7764\">education: text</text><ellipse cx=\"397.5\" cy=\"303.7266\" fill=\"#000000\" rx=\"3\" ry=\"3\" style=\"stroke:#000000;stroke-width:1.0;\"/><text fill=\"#000000\" font-family=\"sans-serif\" font-size=\"14\" lengthAdjust=\"spacing\" textLength=\"168\" x=\"406.5\" y=\"307.0732\">recruitment_type: text</text><ellipse cx=\"397.5\" cy=\"320.0234\" fill=\"#000000\" rx=\"3\" ry=\"3\" style=\"stroke:#000000;stroke-width:1.0;\"/><text fill=\"#000000\" font-family=\"sans-serif\" font-size=\"14\" lengthAdjust=\"spacing\" textLength=\"93\" x=\"406.5\" y=\"323.3701\">job_level: int</text><ellipse cx=\"397.5\" cy=\"336.3203\" fill=\"#000000\" rx=\"3\" ry=\"3\" style=\"stroke:#000000;stroke-width:1.0;\"/><text fill=\"#000000\" font-family=\"sans-serif\" font-size=\"14\" lengthAdjust=\"spacing\" textLength=\"86\" x=\"406.5\" y=\"339.667\">rating: float</text><ellipse cx=\"397.5\" cy=\"352.6172\" fill=\"#000000\" rx=\"3\" ry=\"3\" style=\"stroke:#000000;stroke-width:1.0;\"/><text fill=\"#000000\" font-family=\"sans-serif\" font-size=\"14\" lengthAdjust=\"spacing\" textLength=\"78\" x=\"406.5\" y=\"355.9639\">awards: int</text><ellipse cx=\"397.5\" cy=\"368.9141\" fill=\"#000000\" rx=\"3\" ry=\"3\" style=\"stroke:#000000;stroke-width:1.0;\"/><text fill=\"#000000\" font-family=\"sans-serif\" font-size=\"14\" lengthAdjust=\"spacing\" textLength=\"125\" x=\"406.5\" y=\"372.2607\">certifications: int</text><ellipse cx=\"397.5\" cy=\"385.2109\" fill=\"#000000\" rx=\"3\" ry=\"3\" style=\"stroke:#000000;stroke-width:1.0;\"/><text fill=\"#000000\" font-family=\"sans-serif\" font-size=\"14\" lengthAdjust=\"spacing\" textLength=\"84\" x=\"406.5\" y=\"388.5576\">salary: float</text><ellipse cx=\"397.5\" cy=\"401.5078\" fill=\"#000000\" rx=\"3\" ry=\"3\" style=\"stroke:#000000;stroke-width:1.0;\"/><text fill=\"#000000\" font-family=\"sans-serif\" font-size=\"14\" lengthAdjust=\"spacing\" textLength=\"121\" x=\"406.5\" y=\"404.8545\">entry_date: date</text><ellipse cx=\"397.5\" cy=\"417.8047\" fill=\"#000000\" rx=\"3\" ry=\"3\" style=\"stroke:#000000;stroke-width:1.0;\"/><text fill=\"#000000\" font-family=\"sans-serif\" font-size=\"14\" lengthAdjust=\"spacing\" textLength=\"90\" x=\"406.5\" y=\"421.1514\">satisfied: int</text></g><path d=\"M6,272 L6,312.2656 A0,0 0 0 0 6,312.2656 L351,312.2656 A0,0 0 0 0 351,312.2656 L351,296.1328 L390.5,253.3359 L351,288.1328 L351,282 L341,272 L6,272 A0,0 0 0 0 6,272 \" fill=\"#FEFFDD\" style=\"stroke:#181818;stroke-width:0.5;\"/><path d=\"M341,272 L341,282 L351,282 L341,272 \" fill=\"#FEFFDD\" style=\"stroke:#181818;stroke-width:0.5;\"/><text fill=\"#000000\" font-family=\"sans-serif\" font-size=\"13\" lengthAdjust=\"spacing\" textLength=\"85\" x=\"12\" y=\"289.0669\">Das Attribute</text><text fill=\"#000000\" font-family=\"sans-serif\" font-size=\"13\" font-weight=\"bold\" lengthAdjust=\"spacing\" textLength=\"91\" x=\"101\" y=\"289.0669\">department</text><text fill=\"#000000\" font-family=\"sans-serif\" font-size=\"13\" lengthAdjust=\"spacing\" textLength=\"97\" x=\"196\" y=\"289.0669\">wird geloescht,</text><text fill=\"#000000\" font-family=\"sans-serif\" font-size=\"13\" lengthAdjust=\"spacing\" textLength=\"324\" x=\"12\" y=\"304.1997\">da dieses ansonsten redundant vorhanden waere!</text><!--reverse link d to e--><g id=\"link_d_e\"><path codeLine=\"45\" d=\"M594.8268,111.3479 C585.4708,128.9169 577.229,144.395 565.914,165.644 \" fill=\"none\" id=\"d-backto-e\" style=\"stroke:#181818;stroke-width:1.0;\"/><polygon fill=\"#181818\" points=\"597.647,106.052,589.8861,112.1157,595.2968,110.4652,596.9473,115.876,597.647,106.052\" style=\"stroke:#181818;stroke-width:1.0;\"/><text fill=\"#000000\" font-family=\"sans-serif\" font-size=\"13\" lengthAdjust=\"spacing\" textLength=\"8\" x=\"585.2623\" y=\"126.4726\">1</text><text fill=\"#000000\" font-family=\"sans-serif\" font-size=\"13\" lengthAdjust=\"spacing\" textLength=\"23\" x=\"546.0812\" y=\"155.1084\">0..*</text></g><!--reverse link d to p--><g id=\"link_d_p\"><path codeLine=\"46\" d=\"M652.3944,111.3387 C670.3764,144.8427 691.775,184.715 712.104,222.594 \" fill=\"none\" id=\"d-backto-p\" style=\"stroke:#181818;stroke-width:1.0;\"/><polygon fill=\"#181818\" points=\"649.557,106.052,650.2887,115.8736,651.9215,110.4576,657.3376,112.0904,649.557,106.052\" style=\"stroke:#181818;stroke-width:1.0;\"/><text fill=\"#000000\" font-family=\"sans-serif\" font-size=\"13\" lengthAdjust=\"spacing\" textLength=\"8\" x=\"644.7966\" y=\"126.4726\">1</text><text fill=\"#000000\" font-family=\"sans-serif\" font-size=\"13\" lengthAdjust=\"spacing\" textLength=\"23\" x=\"684.253\" y=\"211.8427\">0..*</text></g><!--SRC=[ZP91Zvmm38Nl-HKkHzJTjbU4a2fDsqClU-WTcSGCMOK49MQdjEf_huUPicH6gfO3GY-st_CN1ci8j8tQaHhEtoED7SMaqX1Eq5jo9Ycb7QO4nO4cZ3oIvm8mWO7V2kGfeIojgS1wXhf- -juqPNazy3XI1Km_-Ifeoqic_B9JguEXjLtzsRoUOdWcVJ6QDgDQ1nTYzIECoA6vjwq_h0NDbijiaTlNsg_xY6pPvHadiMxjY4UHkuK9htetcoDn1RqB-AysiOnl3RBKdjzNcRpPYR3RwyiukR0GhOlHFS4RWBSB_sUVcztN-6UcsQ237Rz5MfhNEJTjHubECUD1PjR8DlXCZQJZR2zHU9boXC-XQnszaDj7Y3B47tD-UC9eqhvAKsJRsujZTfBGOLpoVd6Fopt_9Dr9_bwp_LO-o3quwXb23rHLR-Dna4lwp1njDqlx7dzPmib68xnSeAG7VWzhXq4mbX8bG9za0IOlgCpi3SfTlOGue03sS4AAz4u9RJX7KqePA3uLK3yyGF7nyR4iWEwbwIy0]--></g></svg>"
      ],
      "text/plain": [
       "<IPython.core.display.SVG object>"
      ]
     },
     "execution_count": 10,
     "metadata": {},
     "output_type": "execute_result"
    }
   ],
   "source": [
    "%%plantuml\n",
    "@startuml\n",
    "\n",
    "hide circle\n",
    "hide members\n",
    "show fields\n",
    "\n",
    "class \"Department\" as d {\n",
    "    * **id: int <<PK>>**\n",
    "    * name: text\n",
    "    * city: text\n",
    "    * zip_code: int\n",
    "}\n",
    "\n",
    "class \"Project\" as p {\n",
    "    * <color:Tomato>**id: int <<PK>>**</color>\n",
    "    * **department_id: int <<FK>>**\n",
    "    * title: text\n",
    "    * proj_image: bytea\n",
    "    * budget: float\n",
    "    * start_date: date\n",
    "    * end_date: date \n",
    "}\n",
    "\n",
    "class \"Employee\" as e {\n",
    "    * **id: int<<PK>>**\n",
    "    * <color:Tomato>**department_id: int <<FK>>**</color>\n",
    "    * age: int\n",
    "    * <color:DimGrey>department</color>\n",
    "    * gender: text\n",
    "    * education: text\n",
    "    * recruitment_type: text\n",
    "    * job_level: int\n",
    "    * rating: float\n",
    "    * awards: int\n",
    "    * certifications: int\n",
    "    * salary: float\n",
    "    * entry_date: date\n",
    "    * satisfied: int\n",
    "}\n",
    "\n",
    "note left of e::<color:DimGrey>department</color>\n",
    "    Das Attribute **department** wird geloescht, \n",
    "    da dieses ansonsten redundant vorhanden waere!\n",
    "end note\n",
    "\n",
    "\n",
    "d \"1\" <-- \"0..*\" e\n",
    "d \"1\" <-- \"0..*\" p\n",
    "   \n",
    "@enduml"
   ]
  },
  {
   "cell_type": "markdown",
   "id": "5ab5c7fe",
   "metadata": {},
   "source": [
    "### Data Preparation   \n",
    "\n",
    "$$ \\\\ $$\n",
    "\n",
    "<div class=\"alert alert-block alert-info\">\n",
    "\n",
    "**Aufgabe 3**\n",
    "    \n",
    "Nehmen Sie an dieser Stelle für den Import möglicherweise notwendige Änderungen an den Daten vor. Es steht Ihnen frei dies mithilfe von Bash-Tools, Python-Skripten oder sonstigen Werkzeugen umzusetzen. \n",
    "\n",
    "Beschreiben Sie außerdem nachvollziehbar - mit Kommentaren im Code oder Markdown-Zellen - welche Änderungen Sie vornehmen und wieso Sie diese vornehmen.\n",
    "</div>\n",
    "\n"
   ]
  },
  {
   "cell_type": "markdown",
   "id": "fb5a9964",
   "metadata": {},
   "source": [
    "1. Der Header wird aus den CSV-Dateien entfernt. Dies erleichtern den späteren Import in MongoDB mithilfe von *mongoimport*. Die Header werden zusätzlich in einer Textdatei abgelegt."
   ]
  },
  {
   "cell_type": "code",
   "execution_count": null,
   "id": "23c12eb0",
   "metadata": {},
   "outputs": [],
   "source": [
    "%%bash\n",
    "\n",
    "## move csv header to extra file\n",
    "head -1 ${DATA_PATH}/employees_satisfaction_transformed.csv > \\\n",
    "${DATA_PATH}/employees_satisfaction_transformed-header.txt\n",
    "\n",
    "head -1 ${DATA_PATH}/projects.csv > \\\n",
    "${DATA_PATH}/projects-header.txt\n",
    "\n",
    "head -1 ${DATA_PATH}/departments.csv > \\\n",
    "${DATA_PATH}/departments-header.txt\n",
    "\n",
    "## and remove the header from file\n",
    "tail -n +2 ${DATA_PATH}/departments.csv > ${DATA_PATH}/tmp.csv && \\\n",
    "mv ${DATA_PATH}/tmp.csv ${DATA_PATH}/departments.csv\n",
    "\n",
    "tail -n +2 ${DATA_PATH}/projects.csv > ${DATA_PATH}/tmp.csv \\\n",
    "&& mv ${DATA_PATH}/tmp.csv ${DATA_PATH}/projects.csv\n",
    "\n",
    "tail -n +2 ${DATA_PATH}/employees_satisfaction_transformed.csv > ${DATA_PATH}/tmp.csv && \\\n",
    "mv ${DATA_PATH}/tmp.csv ${DATA_PATH}/employees_satisfaction_transformed.csv"
   ]
  },
  {
   "cell_type": "markdown",
   "id": "3f13fddc",
   "metadata": {},
   "source": [
    "2. Beim Import nach PostgreSQL kommt es zu einem Fehler, da die Spalte *rating* in der Datei *employees_satisfaction_transformed.csv* strings und numerische Werte enthält. Folgendermaßen kann dies überprüft und korrigiert werden"
   ]
  },
  {
   "cell_type": "code",
   "execution_count": null,
   "id": "a8aaae59",
   "metadata": {},
   "outputs": [],
   "source": [
    "%%bash\n",
    "\n",
    "## delete the string values \n",
    "sed -i 's/,Unavailable,/,,/g' ${DATA_PATH}/employees_satisfaction_transformed.csv"
   ]
  },
  {
   "cell_type": "code",
   "execution_count": null,
   "id": "7cf8d4f0",
   "metadata": {},
   "outputs": [],
   "source": [
    "%%bash\n",
    "\n",
    "printf \"\\n## test for datatype\\n\"\n",
    "if [ -z $(cat ${DATA_PATH}/employees_satisfaction_transformed.csv |\n",
    "awk -F\",\" '{print $7}' | sort | uniq | grep -v '[0-9]*\\.[0-9]*') ]; then\n",
    "    printf \"  only numeric values found in column 7 (rating) :)\\n\";\n",
    "else\n",
    "    printf \"  not only numeric values found :(\\n\";\n",
    "fi\n",
    "\n",
    "# show the unique content of the row\n",
    "printf \"\\n## unique values\\n\"\n",
    "cat ${DATA_PATH}/employees_satisfaction_transformed.csv |\n",
    "awk -F\",\" '{print $7}' | sort | uniq -c"
   ]
  },
  {
   "cell_type": "markdown",
   "id": "73dd1c7a",
   "metadata": {},
   "source": [
    "### Datenimport     \n",
    "\n",
    "\n",
    "Starten Sie jetzt einen Docker-Container mit einer PostgreSQL-Datenbank, innerhalb des Docker-Netzwerks, in dem sich alle weiteren hier verwendeten Container befinden."
   ]
  },
  {
   "cell_type": "code",
   "execution_count": null,
   "id": "4fe234fc",
   "metadata": {},
   "outputs": [],
   "source": [
    "%%bash\n",
    "\n",
    "sudo docker run -d --rm \\\n",
    "--name dbis-postgres-db-1 \\\n",
    "--hostname dbis-postgres-db-1 \\\n",
    "-v \"${HOST_DATA_PATH}:/mnt/workspace:ro\" \\\n",
    "-e POSTGRES_PASSWORD=root \\\n",
    "-p 127.0.0.1:5432:5432 \\\n",
    "--network dbis-hadoop-cluster-network \\\n",
    "postgres:14.4"
   ]
  },
  {
   "cell_type": "markdown",
   "id": "dba90a00",
   "metadata": {},
   "source": [
    "Vergewissern Sie sich, dass der Container läuft:"
   ]
  },
  {
   "cell_type": "code",
   "execution_count": null,
   "id": "44414ac0",
   "metadata": {
    "scrolled": false
   },
   "outputs": [],
   "source": [
    "%%bash\n",
    "sudo docker ps --filter \"name=dbis-postgres-db-1\" --format \"table {{.Names}}\\t{{.Status}}\""
   ]
  },
  {
   "cell_type": "markdown",
   "id": "ce252c6d",
   "metadata": {},
   "source": [
    "<div class=\"alert alert-block alert-info\">\n",
    "    \n",
    "**Aufgabe 4**    \n",
    "    \n",
    "Schreiben Sie ein SQL-Skript, das die notwendigen Schema-Strukturen anlegt, die CSV-Dateien einliest und entsprechend dem in Aufgabe 2 entworfenem Modell \"Umstrukturierungen\" vornimmt. Vervollständigen Sie hierzu das nachfolgende SQL-Skript.\n",
    "\n",
    "Sie können natürlich auch abweichend alternative Methoden bzw. Tools verwenden. Der Python-Treiber für PostgreSQL ([psycopg](https://www.psycopg.org/psycopg3/docs/)) ist bereits installiert.\n",
    "</div>\n",
    "\n",
    "\n",
    "> *HINWEIS:* Der Import der Daten kann mehrere Minuten in Anspruch nehmen! Bezüglich der benötigten SQL-Aufrufe kann die Online-Dokumentation von PostgreSQL hilfreich sein (beispielsweise hinsichtlich des *COPY-FROM*-Befehls: [https://www.postgresql.org/docs/14/sql-copy.html](https://www.postgresql.org/docs/14/sql-copy.html)).\n"
   ]
  },
  {
   "cell_type": "code",
   "execution_count": null,
   "id": "97edf0b8",
   "metadata": {
    "scrolled": false
   },
   "outputs": [],
   "source": [
    "%%bash\n",
    "\n",
    "cat <<\"EOF\" | sudo docker exec -i dbis-postgres-db-1 psql -U postgres\n",
    "\n",
    "DROP DATABASE IF EXISTS satisfaction;\n",
    "CREATE DATABASE satisfaction;\n",
    "\\c satisfaction;\n",
    "\n",
    "/*==============================================================*/\n",
    "/* Table: Department                                            */\n",
    "/*==============================================================*/\n",
    "\\qecho ** CREATE TABLE Department ...\n",
    "CREATE TABLE Department (\n",
    "   id                   int               not null,\n",
    "   name                 text              not null,        \n",
    "   city                 text              not null,\n",
    "   zip_code             int               not null,\n",
    "   CONSTRAINT pk_department PRIMARY KEY (id)\n",
    ");\n",
    "\n",
    "\\qecho ** COPY from CSV-file into Department ...\n",
    "COPY \n",
    "    Department(id,name,city,zip_code)\n",
    "FROM \n",
    "   '/mnt/workspace/departments.csv'\n",
    "WITH (\n",
    "    FORMAT CSV,\n",
    "    DELIMITER ',',\n",
    "    HEADER false,\n",
    "    NULL ''\n",
    ");\n",
    "\n",
    "/*==============================================================*/\n",
    "/* Table: Project                                               */\n",
    "/*==============================================================*/\n",
    "\n",
    "\\qecho ** CREATE a temporary TABLE Project_tmp ...\n",
    "CREATE TABLE Project_tmp (\n",
    "   id                   serial               PRIMARY KEY,\n",
    "   department_id        int                  not null,\n",
    "   title                text                 not null,\n",
    "   proj_image           text                 null,\n",
    "   budget               float                not null,\n",
    "   start_date           date                 not null,\n",
    "   end_date             date                 not null \n",
    ");\n",
    "\n",
    "\\qecho ** COPY from CSV-file into temporary Table Project_tmp ...\n",
    "COPY \n",
    "    Project_tmp(department_id,title,proj_image,budget,start_date,end_date)\n",
    "FROM \n",
    "    '/mnt/workspace/projects.csv'\n",
    "WITH (\n",
    "    FORMAT CSV,\n",
    "    DELIMITER ',',\n",
    "    HEADER false,\n",
    "    NULL ''\n",
    ");\n",
    "\n",
    "\\qecho ** CREATE TABLE Project ...\n",
    "CREATE TABLE Project (\n",
    "   id                   int                  not null,\n",
    "   department_id        int                  not null,\n",
    "   title                text                 not null,\n",
    "   proj_image           bytea                null,\n",
    "   budget               float                not null,\n",
    "   start_date           date                 not null,\n",
    "   end_date             date                 not null,\n",
    "   CONSTRAINT pk_project PRIMARY KEY (id)\n",
    ");\n",
    "\n",
    "\\qecho ** COPY from temporary table Project_tmp to Project (DECODE base_64 image) ...\n",
    "INSERT INTO Project(id,department_id,title,proj_image,budget,start_date,end_date)\n",
    "SELECT\n",
    "   id,\n",
    "   department_id,\n",
    "   title,\n",
    "   DECODE(proj_image, 'base64'),\n",
    "   budget,\n",
    "   start_date,\n",
    "   end_date\n",
    "FROM Project_tmp;\n",
    "\n",
    "\\qecho ** DROP TABLE Project_tmp ...\n",
    "DROP TABLE Project_tmp;\n",
    "\n",
    "\n",
    "/*==============================================================*/\n",
    "/* Table: Employee                                              */\n",
    "/*==============================================================*/\n",
    "\\qecho ** CREATE TABLE Employee ...\n",
    "CREATE TABLE Employee (\n",
    "   id                   int                  not null,\n",
    "   department           text                 not null,\n",
    "   department_id        int                  null,\n",
    "   satisfied            int                  not null,\n",
    "   age                  int                  not null,\n",
    "   gender               text                 not null,\n",
    "   education            text                 not null,\n",
    "   recruitment_type     text                 not null,\n",
    "   job_level            int                  not null,\n",
    "   rating               float                null,\n",
    "   awards               int                  not null,\n",
    "   certifications       int                  not null,\n",
    "   salary               float                not null,\n",
    "   entry_date           date                 not null,\n",
    "   CONSTRAINT pk_employee PRIMARY KEY (ID)\n",
    ");\n",
    "\n",
    "\\qecho ** COPY vom CSV-file into Employee ...\n",
    "COPY \n",
    "    Employee(id,age,department,education,recruitment_type,job_level,rating,awards,certifications,\n",
    "             salary,gender,entry_date,satisfied)\n",
    "FROM \n",
    "    '/mnt/workspace/employees_satisfaction_transformed.csv'\n",
    "WITH (\n",
    "    FORMAT CSV,\n",
    "    DELIMITER ',',\n",
    "    HEADER false,\n",
    "    NULL ''\n",
    ");\n",
    "\n",
    "/*==============================================================*/\n",
    "/* Add Foreign Key constraint to Project table                  */\n",
    "/*==============================================================*/\n",
    "\n",
    "\\qecho ** ALTER TABLE Project (set 'department_id' as foreign key) ...\n",
    "ALTER TABLE Project\n",
    "    ADD CONSTRAINT fk_project_department FOREIGN KEY (department_id)\n",
    "        REFERENCES Department (id)\n",
    "    ON DELETE RESTRICT \n",
    "    ON UPDATE RESTRICT;\n",
    "\n",
    "\n",
    "/*==============================================================*/\n",
    "/* Insert Foreign Key values to Employee table                  */\n",
    "/*==============================================================*/\n",
    "\n",
    "-- Insert values to Employee.department_id\n",
    "\\qecho ** UPDATE Employee (add values to column 'department_id') ...\n",
    "UPDATE Employee\n",
    "   SET department_id = d.id\n",
    "   FROM (\n",
    "      SELECT id, name\n",
    "      FROM Department\n",
    "      ) AS d\n",
    "   WHERE d.name = Employee.department;\n",
    "\n",
    "-- Set Employee.department_id to not null\n",
    "\\qecho ** ALTER TABLE Employee (set 'department_id' to NOT NULL) ...\n",
    "ALTER TABLE Employee \n",
    "    ALTER COLUMN department_id SET NOT NULL;\n",
    "\n",
    "\n",
    "/*==============================================================*/\n",
    "/* Add Foreign Key constraint to Employee table                 */\n",
    "/*==============================================================*/\n",
    "\n",
    "\\qecho ** ALTER TABLE Employee (set 'department_id' as foreign key) ...\n",
    "ALTER TABLE Employee\n",
    "    ADD CONSTRAINT fk_employee_department FOREIGN KEY (department_id)\n",
    "        REFERENCES Department (id)\n",
    "    ON DELETE RESTRICT \n",
    "    ON UPDATE RESTRICT;\n",
    "\n",
    "\n",
    "/*==============================================================*/\n",
    "/* Remove attribute department from Employee table              */\n",
    "/*==============================================================*/\n",
    "\n",
    "\\qecho ** ALTER TABLE Employee (remove column 'department') ...\n",
    "ALTER TABLE Employee\n",
    "    DROP COLUMN department;\n",
    "\n",
    "EOF"
   ]
  },
  {
   "cell_type": "markdown",
   "id": "8fee1509",
   "metadata": {},
   "source": [
    "Verwendung des Python Driver:"
   ]
  },
  {
   "cell_type": "code",
   "execution_count": null,
   "id": "5c33ecb2",
   "metadata": {},
   "outputs": [],
   "source": [
    "import psycopg\n",
    "\n",
    "postgres_conn = None\n",
    "postgres_cursor = None\n",
    "try:\n",
    "    postgres_conn = psycopg.connect(\"host='dbis-postgres-db-1' dbname='satisfaction' user='postgres' password='root'\")\n",
    "    postgres_cursor = postgres_conn.cursor()\n",
    "except psycopg.DatabaseError:\n",
    "    print(\"No database connection!\")"
   ]
  },
  {
   "cell_type": "markdown",
   "id": "7b9f5f44",
   "metadata": {},
   "source": [
    "*Optional:* Anzeigen eines Project-Image (Bild):"
   ]
  },
  {
   "cell_type": "code",
   "execution_count": null,
   "id": "6f22e0c9",
   "metadata": {
    "scrolled": false
   },
   "outputs": [],
   "source": [
    "import base64\n",
    "from IPython.display import Image\n",
    "\n",
    "postgres_cursor.execute(\"SELECT proj_image FROM Project WHERE id = 42\")\n",
    "postgres_conn.commit()\n",
    "\n",
    "result = postgres_cursor.fetchone()\n",
    "\n",
    "Image(result[0])"
   ]
  },
  {
   "cell_type": "markdown",
   "id": "9933fcb6",
   "metadata": {},
   "source": [
    "### Datenbankabfragen    \n",
    "\n",
    "$$ \\\\ $$\n",
    "\n",
    "<div class=\"alert alert-block alert-info\">\n",
    "    \n",
    "**Aufgabe 5**    \n",
    "    \n",
    "Schreiben Sie nun für nachfolgende Abfragen SQL-Statements und führen diese aus. Sie können entweder das vorgegebene SQL-Skript oder den Python-Treiber verwenden. Zu jeder Abfrage werden außerdem die Attribute angegeben, die jeweils ausgegeben werden sollen.\n",
    "</div>\n",
    "\n",
    "- **Q1. Anzahl Projekte pro Department**\n",
    "    - Auszugebende Attribute: *Department.id, Department.name, Department.city, Department.zip_code, count_projects*\n",
    "    - Erwartetes Ergebnis:\n",
    "\n",
    "\n",
    " id  |    name    |      city      | zip_code | count_projects \n",
    "-----|------------|----------------|----------|----------------\n",
    " 101 | HR         | Frankfurt a.M. |    60306 |             85\n",
    " 103 | Purchasing | München        |    80331 |            102\n",
    " 104 | Sales      | Hamburg        |    21140 |             59\n",
    " 105 | Technology | Berlin         |    10115 |            406\n",
    " 102 | Marketing  | Berlin         |    10115 |            348\n",
    "  \n",
    "\n",
    "- **Q2. Durchschnittliche Dauer aller Projekte**\n",
    "    - Auszugebende Attribute: *avg_project_duration_days*\n",
    "    - Erwartetes Ergebnis:\n",
    "    \n",
    "|  avg_proj_duration_days |\n",
    "|-------------------------|\n",
    "|   932.6690000000000000  |\n",
    "  \n",
    "- **Q3. Durchschnittliche Projektdauer pro Department**\n",
    "    - Auszugebende Attribute: *Department.id, Department.name, Department.city, Department.zip_code, avg_project_duration_days*\n",
    "    - Erwartetes Ergebnis:   \n",
    "  \n",
    "\n",
    " id  |    name    |      city      | zip_code | avg_proj_duration_days \n",
    "-----|------------|----------------|----------|------------------------\n",
    " 101 | HR         | Frankfurt a.M. |    60306 |   992.2000000000000000\n",
    " 103 | Purchasing | München        |    80331 |   993.4509803921568627\n",
    " 104 | Sales      | Hamburg        |    21140 |   856.1864406779661017\n",
    " 105 | Technology | Berlin         |    10115 |   946.0270935960591133\n",
    " 102 | Marketing  | Berlin         |    10115 |   897.6954022988505747\n",
    " \n",
    "\n",
    "- **Q4. Durchschnittliche Satisfaction pro Department**\n",
    "    - Auszugebende Attribute: *Department.id, Department.name, Department.city, Department.zip_code, avg_satisfied*\n",
    "    - Erwartetes Ergebnis:   \n",
    "\n",
    "\n",
    " id  |    name    |      city      | zip_code |     avg_satisfied      \n",
    "-----|------------|----------------|----------|------------------------\n",
    " 101 | HR         | Frankfurt a.M. |    60306 | 0.68867924528301886792\n",
    " 103 | Purchasing | München        |    80331 | 0.70175438596491228070\n",
    " 104 | Sales      | Hamburg        |    21140 | 0.80459770114942528736\n",
    " 105 | Technology | Berlin         |    10115 | 0.74489795918367346939\n",
    " 102 | Marketing  | Berlin         |    10115 | 0.64516129032258064516\n",
    "    \n",
    "\n",
    "- **Q5. Durchschnittliche Projektdauer des \"Technology\" Departments**\n",
    "    - Auszugebende Attribute: *Department.id, Department.name, Department.city, Department.zip_code, avg_proj_duration_days*\n",
    "    - Erwartetes Ergebnis:\n",
    "\n",
    "\n",
    " id  |    name    |  city  | zip_code | avg_proj_duration_days \n",
    "-----|------------|--------|----------|------------------------\n",
    " 105 | Technology | Berlin |    10115 |   946.0270935960591133    \n",
    "\n",
    "\n",
    "- **Q6. Satisfaction des \"Technology\" Departments**\n",
    "    - Auszugebende Attribute: *Department.id, Department.name, Department.city, Department.zip_code, avg_satisfied*\n",
    "    - Erwartetes Ergebnis:\n",
    "\n",
    "\n",
    " id  |    name    |  city  | zip_code |     avg_satisfied      \n",
    "-----|------------|--------|----------|------------------------\n",
    " 105 | Technology | Berlin |    10115 | 0.74489795918367346939\n",
    "\n"
   ]
  },
  {
   "cell_type": "code",
   "execution_count": null,
   "id": "30ca74f3",
   "metadata": {
    "scrolled": false
   },
   "outputs": [],
   "source": [
    "%%bash\n",
    "cat <<\"EOF\" | sudo docker exec -i dbis-postgres-db-1 psql -U postgres -d satisfaction\n",
    "\n",
    "\\qecho ******** Q1 ********\n",
    "SELECT\n",
    "    d.id,\n",
    "    d.name,\n",
    "    d.city,\n",
    "    d.zip_code,\n",
    "    COUNT(d.name) AS count_projects\n",
    "    FROM Department d\n",
    "    JOIN Project p\n",
    "    ON d.id = p.department_id\n",
    "    GROUP BY d.name, d.id;\n",
    "\n",
    "\\qecho ******** Q2 ********\n",
    "SELECT \n",
    "   AVG(end_date - start_date) AS avg_proj_duration_days \n",
    "FROM Project;\n",
    "\n",
    "\\qecho ******** Q3 ********\n",
    "SELECT \n",
    "    d.id, \n",
    "    d.name, \n",
    "    d.city, \n",
    "    d.zip_code, \n",
    "    AVG(p.end_date - p.start_date) AS avg_proj_duration_days \n",
    "FROM \n",
    "    Department d\n",
    "JOIN \n",
    "    Project p\n",
    "ON d.id = p.department_id\n",
    "GROUP BY d.name, d.id;\n",
    "\n",
    "\\qecho ******** Q4 ********\n",
    "SELECT \n",
    "    d.id, \n",
    "    d.name, \n",
    "    d.city, \n",
    "    d.zip_code, \n",
    "    AVG(satisfied) AS avg_satisfied \n",
    "FROM \n",
    "    Department d\n",
    "JOIN \n",
    "    Employee e\n",
    "ON d.id = e.department_id\n",
    "GROUP BY d.name, d.id;\n",
    "\n",
    "\\qecho ******** Q5 ********\n",
    "SELECT \n",
    "    d.id, \n",
    "    d.name, \n",
    "    d.city, \n",
    "    d.zip_code, \n",
    "    AVG(p.end_date - p.start_date) AS avg_proj_duration_days \n",
    "FROM \n",
    "    Department d\n",
    "JOIN \n",
    "    Project p\n",
    "ON d.id = p.department_id\n",
    "WHERE\n",
    "    d.name = 'Technology'\n",
    "GROUP BY d.name, d.id;\n",
    "\n",
    "\\qecho ******** Q6 ********\n",
    "SELECT \n",
    "    d.id, \n",
    "    d.name, \n",
    "    d.city, \n",
    "    d.zip_code, \n",
    "    AVG(satisfied) AS avg_satisfied \n",
    "FROM \n",
    "    Department d\n",
    "JOIN \n",
    "    Employee e\n",
    "ON d.id = e.department_id\n",
    "WHERE\n",
    "    d.name = 'Technology'\n",
    "GROUP BY d.name, d.id;\n",
    "\n",
    "EOF"
   ]
  },
  {
   "cell_type": "markdown",
   "id": "75c1d81d",
   "metadata": {},
   "source": [
    "**Alternativ kann auch der Python-Treiber (psycopg) verwendet werden:**"
   ]
  },
  {
   "cell_type": "code",
   "execution_count": null,
   "id": "b241ca74",
   "metadata": {
    "scrolled": true
   },
   "outputs": [],
   "source": [
    "from pprint import pprint\n",
    "q1 = \"\"\" \n",
    "SELECT\n",
    "    d.id,\n",
    "    d.name,\n",
    "    d.city,\n",
    "    d.zip_code,\n",
    "    COUNT(d.name) AS count_projects\n",
    "FROM Department d\n",
    "JOIN Project p\n",
    "    ON d.id = p.department_id\n",
    "GROUP BY d.name, d.id\n",
    "\"\"\"\n",
    "\n",
    "postgres_cursor.execute(q1)\n",
    "postgres_conn.commit()\n",
    "\n",
    "result = postgres_cursor.fetchall()\n",
    "pprint(result)"
   ]
  },
  {
   "cell_type": "markdown",
   "id": "db6813bd",
   "metadata": {},
   "source": [
    "Die Datenbankverbindung wieder schließen:"
   ]
  },
  {
   "cell_type": "code",
   "execution_count": null,
   "id": "adace4e5",
   "metadata": {},
   "outputs": [],
   "source": [
    "if postgres_conn:\n",
    "    postgres_conn.close()"
   ]
  },
  {
   "cell_type": "markdown",
   "id": "03415b8e",
   "metadata": {},
   "source": [
    "Abschließend kann der Datenbank-Container folgendermaßen wieder gestoppt werden (zu beachten gilt, dass aufgrund des `--rm` Flags der Container nach dem Stoppen automatisch gelöscht wird): "
   ]
  },
  {
   "cell_type": "code",
   "execution_count": null,
   "id": "03d91dbd",
   "metadata": {},
   "outputs": [],
   "source": [
    "%%bash\n",
    "\n",
    "# stop the postgresql docker container\n",
    "if [ -z $(sudo docker ps --filter \"name=dbis-postgres-db-1\" -q) ]; then\n",
    "    printf \"\\nthe container does not exist\\n\";\n",
    "else \n",
    "    printf \"\\nstopping the container ...\\n\";\n",
    "    sudo docker stop dbis-postgres-db-1\n",
    "fi"
   ]
  },
  {
   "cell_type": "markdown",
   "id": "03717155",
   "metadata": {},
   "source": [
    "## MongoDB    \n",
    "\n",
    "Nachdem die zur Verfügung stehenden Daten in ein relationales Datenbanksystem importiert wurden, beschäftigen wir uns im Folgenden mit der Modellierung und Import bezüglich des dokument-orientierten Datenbanksystems MongoDB.\n",
    "\n",
    "<div class=\"alert alert-block alert-info\">\n",
    "    \n",
    "**Aufgabe 6**    \n",
    "    \n",
    "Bilden Sie das in Aufgabe 1 aus den vorhandenen Daten extrahiert Modell jetzt geeignet auf das Modell von MongoDB ab (inklusive Datentypen). Optimieren bzw. gestalten Sie das Modell so, dass für die geplanten Abfragen keine Joins benötigt werden ([*\\$lookup*](https://www.mongodb.com/docs/manual/reference/operator/aggregation/lookup/))! Begründen Sie ihre Entscheidungen bezüglich des Schema-Designs (Einbettung, Referenzierung, Redundanz), wo dieses vom Modell aus Aufgabe 1 abweicht.\n",
    "</div>\n",
    "\n",
    "\n",
    "> *HINWEIS:* Integer Type Limits in MongoDB:\n",
    "\n",
    "- int32: -2.147.483.648 to 2.147.483.647\n",
    "- int64: -9.223.372.036.854.775.808 to 9.223.372.036.854.775.807\n"
   ]
  },
  {
   "cell_type": "code",
   "execution_count": null,
   "id": "bc1a9390",
   "metadata": {
    "scrolled": false
   },
   "outputs": [],
   "source": [
    "%%plantuml --jar\n",
    "\n",
    "@startuml\n",
    "\n",
    "hide circle\n",
    "hide members\n",
    "show fields\n",
    "\n",
    "class \"**Department**\" as d {\n",
    "    _id: int64 <<PK>>\n",
    "    name: string\n",
    "    city: string\n",
    "    zip_code: int32\n",
    "    employees: array[object]\n",
    "}\n",
    "\n",
    "class \"**Project**\" as p {\n",
    "    <color:Tomato>**_id: objectid <<PK>>**</color>\n",
    "    department_id: int64 <<FK>>\n",
    "    title: string\n",
    "    proj_image: binary\n",
    "    budget: double\n",
    "    start_date: date\n",
    "    end_date: date\n",
    "    <color:blue>department_name: string</color>\n",
    "    <color:blue>department_city: string</color>\n",
    "    <color:blue>department_zip_code: int32</color>\n",
    "}\n",
    "\n",
    "class \"**Employee**\" as e #lightblue {\n",
    "    _id: int64\n",
    "    age: int\n",
    "    gender: string\n",
    "    education: string\n",
    "    recruitment_type: string\n",
    "    job_level: int\n",
    "    rating: double\n",
    "    awards: int\n",
    "    certifications: int\n",
    "    salary: double\n",
    "    entry_date: date\n",
    "    satisfied: int\n",
    "}\n",
    "\n",
    "\n",
    "d \"1\" *--> \"0..*\" e\n",
    "d \"1\" <-- \"0..*\" p\n",
    "   \n",
    "@enduml"
   ]
  },
  {
   "cell_type": "markdown",
   "id": "95640668",
   "metadata": {},
   "source": [
    "**Begründung:**\n",
    "\n",
    "- Zur Vermeidung von Joins bei Abfrage 4 und 6 werden die Employee-Dokumente in Department eingebettet.\n",
    "- Department und Project werden ebenfalls gemeinsam abgefragt. Hier ist es allerdings aufgrund der Dokumentgröße von \"Project\" nicht möglich diese in \"Department\" einzubetten. Daher werden zur Vermeidung von Joins die für die Abfragen benötigten Attribute aus \"Department\" redundant in \"Project\" gespeichert."
   ]
  },
  {
   "cell_type": "markdown",
   "id": "c8b6b939",
   "metadata": {},
   "source": [
    "> *HINWEIS*: Hier ist es nicht notwendig den Datentyp \"int64\" für Schlüsselattribute zu verwenden (\"int32\" ist auch vollkommen ausreichend)! Außerdem wurde hier der in \"Project\" fehlende Primärschlüssel automatisch von MongoDB während des Datenimports generiert, wodurch dieser abweichend vom Typ \"objectid\" ist! Besser wäre natürlich, wenn die Datentypen der Schlüsselattribute konsistent sind :)"
   ]
  },
  {
   "cell_type": "markdown",
   "id": "5b178052",
   "metadata": {},
   "source": [
    "### Datenimport    \n",
    "\n",
    "Starten Sie jetzt eine MongoDB Datenbank innerhalb des Docker-Netzwerks in dem sich alle weiteren hier verwendeten Container befinden."
   ]
  },
  {
   "cell_type": "code",
   "execution_count": null,
   "id": "04160b56",
   "metadata": {},
   "outputs": [],
   "source": [
    "%%bash\n",
    "\n",
    "sudo docker run -d --rm \\\n",
    "--name dbis-mongo-db-1 \\\n",
    "--hostname dbis-mongo-db-1 \\\n",
    "-v \"${HOST_DATA_PATH}:/mnt/workspace:ro\" \\\n",
    "-e BROWSERSLIST_IGNORE_OLD_DATA=1 \\\n",
    "--network dbis-hadoop-cluster-network \\\n",
    "-p 127.0.0.1:27017:27017 \\\n",
    "mongo:5.0.5-focal"
   ]
  },
  {
   "cell_type": "markdown",
   "id": "3b3a24c5",
   "metadata": {},
   "source": [
    "Vergewissern Sie sich wieder, dass der Container läuft:"
   ]
  },
  {
   "cell_type": "code",
   "execution_count": null,
   "id": "666c9ce5",
   "metadata": {
    "scrolled": true
   },
   "outputs": [],
   "source": [
    "%%bash\n",
    "sudo docker ps --filter \"name=dbis-mongo-db-1\" --format \"table {{.Names}}\\t{{.Status}}\""
   ]
  },
  {
   "cell_type": "markdown",
   "id": "332d343c",
   "metadata": {},
   "source": [
    "<div class=\"alert alert-block alert-info\">\n",
    "    \n",
    "**Aufgabe 7**    \n",
    "    \n",
    "Importieren Sie die Daten nach MongoDB (schauen Sie sich diesbezüglich die Dokumentation zu [mongoimport](https://www.mongodb.com/docs/database-tools/mongoimport/) an). Achten Sie insbesondere auf die entsprechenden Datentypen.\n",
    "    \n",
    "Nehmen Sie außerdem bezüglich dem in Aufgabe 6 erstellten Modell notwendige \"Umstrukturierungen\" der Daten vor. Hierbei sind unterschiedliche Vorgehensweisen denkbar. Es können Beispielsweise die Daten zunächst so wie sie vorliegen in MongoDB importiert und anschließend durch entsprechende Aufrufe (*\\$lookup*, *\\$addFields*, *\\$merge*, ...) umstrukturiert werden. Die Daten können natürlich auch vorher - beispielsweise mit Python - in die benötigte Struktur überführt und anschließend importiert werden.\n",
    "\n",
    "Abweichend zu *mongoimport* kann hier auch der [*pymongo*](https://pymongo.readthedocs.io/en/stable/) Python-Treiber verwendet werden. Dieser ist ebenfalls bereits installiert.\n",
    "</div>"
   ]
  },
  {
   "cell_type": "markdown",
   "id": "9bac620e",
   "metadata": {},
   "source": [
    "Die Daten werde hier zunächst so wie sie vorliegen importiert."
   ]
  },
  {
   "cell_type": "code",
   "execution_count": null,
   "id": "b12bbe54",
   "metadata": {},
   "outputs": [],
   "source": [
    "%%bash\n",
    "\n",
    "## Insert Departments\n",
    "printf \"\\n## Import to Department ...\\n\"\n",
    "sudo docker exec -i dbis-mongo-db-1 mongoimport \\\n",
    "--drop \\\n",
    "--db=satisfaction \\\n",
    "--collection=Department \\\n",
    "--numInsertionWorkers=4 \\\n",
    "--type=csv \\\n",
    "--columnsHaveTypes \\\n",
    "--fields=\"_id.int64(),name.string(),city.string(),zip_code.int32()\" \\\n",
    "--file=/mnt/workspace/departments.csv"
   ]
  },
  {
   "cell_type": "code",
   "execution_count": null,
   "id": "b4cecfa7",
   "metadata": {
    "scrolled": false
   },
   "outputs": [],
   "source": [
    "%%bash\n",
    "## Insert Projects\n",
    "sudo docker exec -i dbis-mongo-db-1 mongoimport \\\n",
    "--drop \\\n",
    "--db=satisfaction \\\n",
    "--collection=Project \\\n",
    "--numInsertionWorkers=4 \\\n",
    "--type=csv \\\n",
    "--columnsHaveTypes \\\n",
    "--fields=\"department_id.int64(),title.string(),proj_image.binary(base64),budget.double(),start_date.date(2006-01-02 15:04:05),end_date.date(2006-01-02 15:04:05)\" \\\n",
    "--file=/mnt/workspace/projects.csv"
   ]
  },
  {
   "cell_type": "code",
   "execution_count": null,
   "id": "92175622",
   "metadata": {},
   "outputs": [],
   "source": [
    "%%bash\n",
    "## Insert Employees\n",
    "sudo docker exec -i dbis-mongo-db-1 mongoimport \\\n",
    "--drop \\\n",
    "--db=satisfaction \\\n",
    "--collection=Employee \\\n",
    "--numInsertionWorkers=4 \\\n",
    "--type=csv \\\n",
    "--columnsHaveTypes \\\n",
    "--ignoreBlanks \\\n",
    "--fields=\"_id.int64(),age.int32(),department.string(),education.string(),recruitment_type.string(),job_level.int32(),rating.double(),awards.int32(),certifications.int32(),salary.double(),gender.string(),entry_date.date(2006-01-02),satisfied.int32()\" \\\n",
    "--file=/mnt/workspace/employees_satisfaction_transformed.csv"
   ]
  },
  {
   "cell_type": "markdown",
   "id": "ef043644",
   "metadata": {},
   "source": [
    "**Schema-Modifikationen**    \n",
    "\n",
    "1. Die Attribute *name*, *city* und *zip_code* aus \"Department\" werden redundant zu den entpsrechenden Projekten hinzugefügt:"
   ]
  },
  {
   "cell_type": "code",
   "execution_count": null,
   "id": "ff33b64a",
   "metadata": {
    "scrolled": true
   },
   "outputs": [],
   "source": [
    "%%bash\n",
    "\n",
    "# add attributes from department to project\n",
    "sudo docker exec -i dbis-mongo-db-1 mongosh satisfaction --quiet --eval \\\n",
    "'db.Project.aggregate([\n",
    "        {\n",
    "            $lookup: {\n",
    "                from: \"Department\",\n",
    "                localField: \"department_id\",\n",
    "                foreignField: \"_id\",\n",
    "                as: \"department_obj\"\n",
    "            }\n",
    "        },\n",
    "        {\n",
    "            $addFields: {\n",
    "                department_name : { $first: \"$department_obj.name\" },\n",
    "                department_city : { $first: \"$department_obj.city\" },\n",
    "                department_zip_code : { $first: \"$department_obj.zip_code\" }\n",
    "            }\n",
    "        },\n",
    "        {\n",
    "            $project: {\n",
    "                department_obj : 0\n",
    "            }\n",
    "        },\n",
    "        {\n",
    "            $merge: {\n",
    "                into: \"Project\",\n",
    "                whenMatched: \"replace\",\n",
    "                whenNotMatched: \"discard\"\n",
    "            }\n",
    "        }\n",
    "])'"
   ]
  },
  {
   "cell_type": "markdown",
   "id": "34525be5",
   "metadata": {},
   "source": [
    "2. Employee-Dokumente werden in die entsprechenden Department-Dokumente eingebettet. Außerdem kann daraufhin die Employee-Collection gelöscht werden, da jeder Mitarbeiter einem Department zugeteilt ist!"
   ]
  },
  {
   "cell_type": "code",
   "execution_count": null,
   "id": "19d8c73f",
   "metadata": {},
   "outputs": [],
   "source": [
    "%%bash\n",
    "\n",
    "## embed employees in departments\n",
    "sudo docker exec -i dbis-mongo-db-1 mongosh satisfaction --quiet --eval \\\n",
    "'db.Department.aggregate([\n",
    "        {\n",
    "            $lookup: {\n",
    "                from: \"Employee\",\n",
    "                localField: \"name\",\n",
    "                foreignField: \"department\",\n",
    "                as: \"employees\"\n",
    "            }\n",
    "        },\n",
    "        {\n",
    "            $project: {\n",
    "                \"employees.department\" : 0,\n",
    "                \"employees.department_id\" : 0\n",
    "            }\n",
    "        },\n",
    "        {\n",
    "            $merge: {\n",
    "                into: \"Department\",\n",
    "                whenMatched: \"replace\",\n",
    "                whenNotMatched: \"discard\"\n",
    "            }\n",
    "        }\n",
    "]);\n",
    "// delete the Employee Collection\n",
    "db.Employee.drop();'"
   ]
  },
  {
   "cell_type": "markdown",
   "id": "85e42f52",
   "metadata": {},
   "source": [
    "### Datenbankabfragen    \n",
    "\n",
    "<div class=\"alert alert-block alert-info\">\n",
    "    \n",
    "**Aufgabe 8**    \n",
    "    \n",
    "Führen Sie nun wieder die vorgegeben Abfragen aus (siehe Aufgabe 5). Nochmals der Hinweis, dass keine Joins (*\\$lookup*) verwendet werden sollen. Außerdem sollten *\\$unwind*-Operationen möglichst vermieden werden.\n",
    "\n",
    "Alternativ zu dem vorgegebenen Rahmen (Verwendung der Mongo-Shell) können Sie ebenfalls den *pymongo* Python-Treiber verwenden.\n",
    "</div>"
   ]
  },
  {
   "cell_type": "markdown",
   "id": "812791ad",
   "metadata": {},
   "source": [
    "*Q1*. Anzahl Projekte pro Department "
   ]
  },
  {
   "cell_type": "code",
   "execution_count": null,
   "id": "898830b4",
   "metadata": {},
   "outputs": [],
   "source": [
    "%%bash\n",
    "\n",
    "sudo docker exec -i dbis-mongo-db-1 mongosh satisfaction --quiet --eval \\\n",
    "'print(\"******** Q1 ******** \");\n",
    "db.Project.aggregate([   \n",
    "        {\n",
    "            $group: {\n",
    "                _id: \"$department_name\",\n",
    "                count_projects: {\n",
    "                    $count: { }\n",
    "                },\n",
    "                city: { $first: \"$department_city\" },\n",
    "                zip_code: { $first: \"$department_zip_code\" }\n",
    "            }\n",
    "        }\n",
    "]);'"
   ]
  },
  {
   "cell_type": "markdown",
   "id": "4bfb8af7",
   "metadata": {},
   "source": [
    "**Alternativ kann auch der Python-Driver verwendet werden:**"
   ]
  },
  {
   "cell_type": "code",
   "execution_count": null,
   "id": "c44a87bb",
   "metadata": {},
   "outputs": [],
   "source": [
    "from pymongo import MongoClient\n",
    "from pprint import pprint\n",
    "\n",
    "mongo_client = MongoClient('mongodb://dbis-mongo-db-1:27017/')\n",
    "mongo_db = mongo_client['satisfaction']\n",
    "\n",
    "pipeline = [{\n",
    "    \"$group\" : {\n",
    "        \"_id\": \"$department_name\",\n",
    "        \"count_projects\": {\n",
    "            \"$count\": { }\n",
    "        },\n",
    "        \"city\": { \"$first\": \"$department_city\" },\n",
    "        \"zip_code\": { \"$first\": \"$department_zip_code\" }\n",
    "    }\n",
    "}]\n",
    "    \n",
    "result = mongo_db['Project'].aggregate(pipeline)\n",
    "pprint(list(result))\n",
    "       \n",
    "mongo_client.close()"
   ]
  },
  {
   "cell_type": "markdown",
   "id": "54113787",
   "metadata": {},
   "source": [
    "*Q2*. Durchschnittliche Projektdauer aller Projekte "
   ]
  },
  {
   "cell_type": "code",
   "execution_count": null,
   "id": "30cf7394",
   "metadata": {
    "scrolled": true
   },
   "outputs": [],
   "source": [
    "%%bash\n",
    "\n",
    "sudo docker exec -i dbis-mongo-db-1 mongosh satisfaction --quiet --eval \\\n",
    "'print(\"******** Q2 ******** \");\n",
    "db.Project.aggregate([{\n",
    "            $group: {\n",
    "                _id: null,\n",
    "                averageTime: {\n",
    "                    $avg: {\n",
    "                        $dateDiff: {\n",
    "                            startDate: \"$start_date\",\n",
    "                            endDate: \"$end_date\",\n",
    "                            unit: \"day\"\n",
    "                        }\n",
    "                    }\n",
    "                }\n",
    "            }\n",
    "        },\n",
    "        {\n",
    "            $project: {\n",
    "                _id: 0,\n",
    "                avg_proj_duration_days: {\n",
    "                    // truncates a number to a whole integer or to a specified decimal place\n",
    "                    $trunc: [\"$averageTime\", 2]\n",
    "                }\n",
    "            }\n",
    "        }\n",
    "])'"
   ]
  },
  {
   "cell_type": "markdown",
   "id": "d1bbc022",
   "metadata": {},
   "source": [
    "*Q3*. Durchschnittliche Projektdauer pro Department "
   ]
  },
  {
   "cell_type": "code",
   "execution_count": null,
   "id": "1d76f994",
   "metadata": {
    "scrolled": false
   },
   "outputs": [],
   "source": [
    "%%bash\n",
    "\n",
    "sudo docker exec -i dbis-mongo-db-1 mongosh satisfaction --quiet --eval \\\n",
    "'print(\"******** Q3 ******** \");\n",
    "db.Project.aggregate([   \n",
    "        {\n",
    "            $group: {\n",
    "                _id: \"$department_name\",\n",
    "                avg_proj_duration_days: {\n",
    "                    $avg: {\n",
    "                        $dateDiff: {\n",
    "                            startDate: \"$start_date\",\n",
    "                            endDate: \"$end_date\",\n",
    "                            unit: \"day\"\n",
    "                        }\n",
    "                    }\n",
    "                },\n",
    "                city: { $first: \"$department_city\" },\n",
    "                zip_code: { $first: \"$department_zip_code\" }\n",
    "            }\n",
    "        }\n",
    "])'"
   ]
  },
  {
   "cell_type": "markdown",
   "id": "d60848e0",
   "metadata": {},
   "source": [
    "*Q4*. Durchschnittliche Sat. pro Department"
   ]
  },
  {
   "cell_type": "code",
   "execution_count": null,
   "id": "f558bcb2",
   "metadata": {},
   "outputs": [],
   "source": [
    "%%bash\n",
    "\n",
    "sudo docker exec -i dbis-mongo-db-1 mongosh satisfaction --quiet --eval \\\n",
    "'print(\"******** Q4 ******** \");\n",
    "db.Department.find({},{\n",
    "    _id : 0,\n",
    "    name : 1,\n",
    "    city: 1,\n",
    "    zip_code: 1,\n",
    "    avg_proj_satisfied: { $avg: \"$employees.satisfied\" }\n",
    "})'"
   ]
  },
  {
   "cell_type": "markdown",
   "id": "d72e6105",
   "metadata": {},
   "source": [
    "*Q5.* Durchschnittliche Projektdauer des \"Technology\" Departments "
   ]
  },
  {
   "cell_type": "code",
   "execution_count": null,
   "id": "072c1d52",
   "metadata": {},
   "outputs": [],
   "source": [
    "%%bash\n",
    "\n",
    "sudo docker exec -i dbis-mongo-db-1 mongosh satisfaction --quiet --eval \\\n",
    "'print(\"******** Q5 ******** \");\n",
    "db.Project.aggregate([   \n",
    "        {\n",
    "            $match: {\n",
    "                department_name: \"Technology\"\n",
    "            }\n",
    "        },\n",
    "        {\n",
    "            $group: {\n",
    "                _id: \"$department_name\",\n",
    "                avg_proj_duration_days: {\n",
    "                    $avg: {\n",
    "                        $dateDiff: {\n",
    "                            startDate: \"$start_date\",\n",
    "                            endDate: \"$end_date\",\n",
    "                            unit: \"day\"\n",
    "                        }\n",
    "                    }\n",
    "                },\n",
    "                city: { $first: \"$department_city\" },\n",
    "                zip_code: { $first: \"$department_zip_code\" }\n",
    "            }\n",
    "        }\n",
    "])'"
   ]
  },
  {
   "cell_type": "markdown",
   "id": "c8cdb551",
   "metadata": {},
   "source": [
    "*Q6.* Satisfaction des \"Technology\" Departments"
   ]
  },
  {
   "cell_type": "code",
   "execution_count": null,
   "id": "097e44be",
   "metadata": {},
   "outputs": [],
   "source": [
    "%%bash\n",
    "\n",
    "sudo docker exec -i dbis-mongo-db-1 mongosh satisfaction --quiet --eval \\\n",
    "'print(\"******** Q6 ******** \");\n",
    "db.Department.find({\n",
    "    name: \"Technology\"\n",
    "},{\n",
    "    _id : 0,\n",
    "    name : 1,\n",
    "    city: 1,\n",
    "    zip_code: 1,\n",
    "    avg_proj_satisfied: { $avg: \"$employees.satisfied\" }\n",
    "})'"
   ]
  },
  {
   "cell_type": "markdown",
   "id": "9399bda4",
   "metadata": {},
   "source": [
    "Der MongoDB-Container kann folgendermaßen wieder gestoppt werden:"
   ]
  },
  {
   "cell_type": "code",
   "execution_count": null,
   "id": "f02d7ed4",
   "metadata": {},
   "outputs": [],
   "source": [
    "%%bash\n",
    "\n",
    "# stop the mongodb docker container\n",
    "if [ -z $(sudo docker ps --filter \"name=dbis-mongo-db-1\" -q) ]; then\n",
    "    printf \"\\nthe container does not exist\\n\";\n",
    "else \n",
    "    printf \"\\nstopping the container ...\\n\";\n",
    "    sudo docker stop dbis-mongo-db-1\n",
    "fi"
   ]
  },
  {
   "cell_type": "markdown",
   "id": "05c6092a",
   "metadata": {},
   "source": [
    "## Cassandra\n",
    "\n",
    "Abschließend, beschäftigen wir uns mit der Modellierung und Import bezüglich des spalten-orientierten Datenbanksystems Cassandra.\n",
    "\n",
    "Machen sie sich hierzu zunächst mit der Daten-Modellierung in Cassandra vertraut (siehe: [https://cassandra.apache.org/doc/latest/cassandra/data_modeling/index.html](https://cassandra.apache.org/doc/latest/cassandra/data_modeling/index.html))"
   ]
  },
  {
   "cell_type": "markdown",
   "id": "2c806e06",
   "metadata": {},
   "source": [
    "### Datenmodellierung    \n",
    "\n",
    "<div class=\"alert alert-block alert-info\">\n",
    "    \n",
    "**Aufgabe 9**    \n",
    "    \n",
    "Erstellen Sie ein *Chebotko logical data model* bezüglich der Datenbankabfragen *Q1, Q2, Q5, Q6* (siehe [https://cassandra.apache.org/doc/latest/cassandra/data_modeling/data_modeling_logical.html](https://cassandra.apache.org/doc/latest/cassandra/data_modeling/data_modeling_logical.html)). Beachten Sie dabei, dass wir jetzt - im Gegensatz zu der Modellierung und Import bei PostgreSQL und MongoDB - nur die in den Abfragen benötigten Attribute modellieren und importieren. Beachten Sie außerdem, dass wir im Gegensatzt zu dem in der Cassandra-Dokumentation verwendeten \"Hotel-Beispiel\" keinen Workflow zwischen den Abfragen haben und somit die \"Tabellen\" in unserem Diagramm auch nicht in Bezug zueinander stehen werden.\n",
    "</div>\n",
    "\n",
    "\n",
    "\n",
    "- **Q1.** Anzahl Projekte pro Department \n",
    "- **Q2.** Durchschnittliche Dauer aller Projekte \n",
    "- **Q5.** Durchschnittliche Projektdauer des \"Technology\" Departments \n",
    "- **Q6.** Durchschnittliche Employee satisfaction des \"Technology\" Departments "
   ]
  },
  {
   "cell_type": "code",
   "execution_count": null,
   "id": "082d2690",
   "metadata": {
    "scrolled": false
   },
   "outputs": [],
   "source": [
    "%%plantuml --jar\n",
    "\n",
    "@startuml\n",
    "\n",
    "hide members\n",
    "hide circle\n",
    "show fields\n",
    "\n",
    "class **project_count_by_department**<Q1> {\n",
    "department_name  **K**\n",
    "project_id  **C↑**\n",
    "department_city  **S**\n",
    "department_zip_code  **S**\n",
    "}\n",
    "\n",
    "\n",
    "class **avg_project_duration**<Q2> {\n",
    "project_id  **K**\n",
    "project_start_date  **C↑**\n",
    "project_end_date\n",
    "}\n",
    "\n",
    "\n",
    "class **avg_project_duration_by_department**<Q5> {\n",
    "department_name  **K**\n",
    "project_id  **C↑**\n",
    "department_city  **S**\n",
    "department_zip_code  **S**\n",
    "project_start_date\n",
    "project_end_date\n",
    "}\n",
    "\n",
    "\n",
    "class **avg_employee_satisfaction_by_department**<Q6> {\n",
    "department_name  **K**\n",
    "employee_id  **C↑**\n",
    "department_city  **S**\n",
    "department_zip_code  **S**\n",
    "employee_satisfied\n",
    "}\n",
    "\n",
    "@enduml"
   ]
  },
  {
   "cell_type": "markdown",
   "id": "19c2cd55",
   "metadata": {},
   "source": [
    "<div class=\"alert alert-block alert-info\">\n",
    "    \n",
    "**Aufgabe 10**    \n",
    "    \n",
    "Erstellen Sie jetzt ein *Chebotko physical data model*. Fassen Sie dabei, wenn möglich, Tabellen aus der logischen Modellierung (eine Tabelle je Abfrage) zusammen.\n",
    "</div>"
   ]
  },
  {
   "cell_type": "code",
   "execution_count": null,
   "id": "124253d2",
   "metadata": {},
   "outputs": [],
   "source": [
    "%%plantuml --jar\n",
    "\n",
    "@startuml\n",
    "\n",
    "hide members\n",
    "hide circle\n",
    "show fields\n",
    "   \n",
    "package Satisfaction_Keyspace <<Rectangle>> {\n",
    "    class **projects_by_department**<Q1, Q2, Q5> {\n",
    "        department_name : text **K**\n",
    "        project_id : int  **C↑**\n",
    "        department_city : string  **S**\n",
    "        department_zip_code : int  **S**\n",
    "        project_start_date : timestamp\n",
    "        project_end_date : timestamp\n",
    "    }\n",
    "\n",
    "\n",
    "    class **employees_by_department**<Q6> {\n",
    "        department_name : text  **K**\n",
    "        employee_id : int **C↑**\n",
    "        department_city : text  **S**\n",
    "        department_zip_code : int  **S**\n",
    "        employee_satisfied : int\n",
    "    }\n",
    "}\n",
    "\n",
    "@enduml"
   ]
  },
  {
   "cell_type": "markdown",
   "id": "7d813958",
   "metadata": {},
   "source": [
    "### Datenimport\n",
    "\n",
    "Starten Sie eine Cassandra Datenbank. Das hier verwendete Docker-Image beinhaltete bereits den DataStax Bulk Reader für einen effizienten Import von CSV-Dateien ([https://docs.datastax.com/en/dsbulk/docs/dsbulkAbout.html](https://docs.datastax.com/en/dsbulk/docs/dsbulkAbout.html))."
   ]
  },
  {
   "cell_type": "code",
   "execution_count": null,
   "id": "d7bd1671",
   "metadata": {},
   "outputs": [],
   "source": [
    "%%bash\n",
    "\n",
    "sudo docker run -d --rm \\\n",
    "--name dbis-cassandra-db-1 \\\n",
    "--hostname dbis-cassandra-db-1 \\\n",
    "-v \"${HOST_DATA_PATH}:/mnt/workspace:ro\" \\\n",
    "--network dbis-hadoop-cluster-network \\\n",
    "-p 127.0.0.1:7000:7000 \\\n",
    "registry.dbis-pro1.fernuni-hagen.de/pub-access/data-engineering-infrastructure/cassandra:4.0.4-dsbulk-1.10"
   ]
  },
  {
   "cell_type": "markdown",
   "id": "472201e6",
   "metadata": {},
   "source": [
    "Vergewissern Sie sich, dass der Docker-Container läuft:"
   ]
  },
  {
   "cell_type": "code",
   "execution_count": null,
   "id": "dccca729",
   "metadata": {},
   "outputs": [],
   "source": [
    "%%bash\n",
    "sudo docker ps --filter \"name=dbis-cassandra-db-1\" --format \"table {{.Names}}\\t{{.Status}}\""
   ]
  },
  {
   "cell_type": "markdown",
   "id": "88cb6bc6",
   "metadata": {},
   "source": [
    "<div class=\"alert alert-block alert-info\">\n",
    "    \n",
    "**Aufgabe 11**    \n",
    "    \n",
    "Vervollständigen Sie jetzt das nachfolgende CQL-Skript für die Erzeugung des Schemas.\n",
    "</div>\n",
    "\n",
    "\n",
    "> *HINWEIS:* Es kann mehrere Minuten dauern, bis die Datenbank vollständig gestartet ist!\n"
   ]
  },
  {
   "cell_type": "code",
   "execution_count": null,
   "id": "939b82af",
   "metadata": {},
   "outputs": [],
   "source": [
    "%%bash\n",
    "\n",
    "cat <<\"EOF\" | sudo docker exec -i dbis-cassandra-db-1 cqlsh\n",
    "\n",
    "DROP KEYSPACE IF EXISTS satisfaction;\n",
    "CREATE KEYSPACE satisfaction\n",
    "    WITH replication = {'class': 'SimpleStrategy', 'replication_factor' : 1};\n",
    "\n",
    "USE satisfaction;\n",
    "\n",
    "DROP TABLE IF EXISTS projects_by_department;\n",
    "CREATE TABLE projects_by_department ( \n",
    "    department_name text,\n",
    "    project_id int,\n",
    "    department_city text static,\n",
    "    department_zip_code int static,\n",
    "    project_start_date timestamp,\n",
    "    project_end_date timestamp,\n",
    "    PRIMARY KEY ((department_name), project_id)\n",
    ") WITH comment = 'Q1, Q2, Q5. Count projects per department. Get average project duration of all projects. Get average project duration per department'\n",
    "AND CLUSTERING ORDER BY (project_id ASC);\n",
    "\n",
    "\n",
    "DROP TABLE IF EXISTS employees_by_department;\n",
    "CREATE TABLE employees_by_department ( \n",
    "    department_name text,\n",
    "    employee_id int,\n",
    "    department_city text static,\n",
    "    department_zip_code int static,\n",
    "    employee_satisfied int,\n",
    "    PRIMARY KEY ((department_name), employee_id)\n",
    ") WITH comment = 'Q6. Get average saturation per department'\n",
    "AND CLUSTERING ORDER BY (employee_id ASC);\n",
    "\n",
    "DESCRIBE KEYSPACE satisfaction;\n",
    "\n",
    "EOF"
   ]
  },
  {
   "cell_type": "markdown",
   "id": "0363bd2f",
   "metadata": {},
   "source": [
    "<div class=\"alert alert-block alert-info\">\n",
    "    \n",
    "**Aufgabe 12**    \n",
    "    \n",
    "Erzeugen Sie zunächst die für den Import in Cassandra benötigten CSV-Dateien. Hier sind wieder unterschiedliche Vorgehensweisen denkbar. Beispielsweise haben wir die Daten bereits in PostgreSQL importiert und könnten diese durch den COPY-TO-Befehl in der benötigten Form exportierten. Es steht Ihnen an dieser Stelle ebenfalls wieder Frei auf welche Weise die Daten in die benötigte Struktur überführt und importiert werden. Der Python-Treiber für Cassandra ([*cassandra-driver*](https://docs.datastax.com/en/developer/python-driver/3.25/)) ist ebenfalls bereits installiert.\n",
    "</div>\n"
   ]
  },
  {
   "cell_type": "markdown",
   "id": "032b4a44",
   "metadata": {},
   "source": [
    "Da die Daten bereits in PostgreSQL importiert wurden können wir mithilfe der entsprechender Abfragen die Daten mit wenig Aufwand in der benötigten Struktur aus PosgreSQL exportieren:"
   ]
  },
  {
   "cell_type": "code",
   "execution_count": null,
   "id": "7d90aa7f",
   "metadata": {},
   "outputs": [],
   "source": [
    "%%bash\n",
    "\n",
    "cat <<\"EOF\" | sudo docker exec -i dbis-postgres-db-1 psql -U postgres -d satisfaction\n",
    "\n",
    "\\qecho ## Export department_projects\n",
    "COPY (\n",
    "    SELECT\n",
    "        TRIM(d.name) AS department_name,\n",
    "        p.id AS project_id,\n",
    "        TRIM(d.city) AS department_city,\n",
    "        d.zip_code AS department_zip_code,\n",
    "        p.start_date AS project_start_date,\n",
    "        p.end_date AS project_end_date\n",
    "    FROM\n",
    "        Department d\n",
    "    JOIN\n",
    "        Project p\n",
    "    ON d.id = p.department_id\n",
    "    ORDER BY d.id, p.id\n",
    ") TO '/tmp/department_projects.csv' (FORMAT csv, header);\n",
    "\n",
    "\n",
    "\n",
    "\\qecho ## Export department_employees\n",
    "COPY (\n",
    "    SELECT\n",
    "        TRIM(d.name) AS department_name,\n",
    "        e.id AS employee_id,\n",
    "        TRIM(d.city) AS department_city,\n",
    "        d.zip_code AS department_zip_code,\n",
    "        e.satisfied AS employee_satisfied\n",
    "    FROM\n",
    "        Department d\n",
    "    JOIN\n",
    "        Employee e\n",
    "    ON d.id = e.department_id\n",
    "    ORDER BY d.id, e.id\n",
    ") TO '/tmp/department_employees.csv' (FORMAT csv, header);\n",
    "\n",
    "EOF"
   ]
  },
  {
   "cell_type": "markdown",
   "id": "ab47826c",
   "metadata": {},
   "source": [
    "Da das Volumen des PostgreSQL Docker-Containers *read only* eingebunden ist, müssen wir die Dateien aus dem Container kopieren:"
   ]
  },
  {
   "cell_type": "code",
   "execution_count": null,
   "id": "9a951e99",
   "metadata": {},
   "outputs": [],
   "source": [
    "%%bash\n",
    "\n",
    "sudo docker cp dbis-postgres-db-1:/tmp/department_projects.csv ${DATA_PATH/}\n",
    "sudo docker cp dbis-postgres-db-1:/tmp/department_employees.csv ${DATA_PATH/}"
   ]
  },
  {
   "cell_type": "markdown",
   "id": "1b73178a",
   "metadata": {},
   "source": [
    "<div class=\"alert alert-block alert-info\">\n",
    "    \n",
    "**Aufgabe 13**    \n",
    "    \n",
    "Importieren Sie die zuvor erzeugten CSV-Dateien mithilfe von DSBulk (falls kein abweichendes Vorgehen gewählt wurde).\n",
    "</div>"
   ]
  },
  {
   "cell_type": "code",
   "execution_count": null,
   "id": "7f8ead82",
   "metadata": {},
   "outputs": [],
   "source": [
    "%%bash\n",
    "\n",
    "##############################\n",
    "#\n",
    "## TABLE: projects_by_department\n",
    "#\n",
    "##############################\n",
    "printf \"\\n## 'Import projects_by_department'\\n\"\n",
    "sudo docker exec -i dbis-cassandra-db-1 dsbulk load \\\n",
    "--connector.name csv \\\n",
    "--connector.csv.url /mnt/workspace/department_projects.csv \\\n",
    "--connector.csv.delimiter ',' \\\n",
    "--connector.csv.header true \\\n",
    "--schema.keyspace satisfaction \\\n",
    "--schema.table 'projects_by_department' \\\n",
    "--schema.mapping '0 = department_name, 1 = project_id, 2 = department_city, 3 = department_zip_code, 4 = project_start_date, 5 = project_end_date' \\\n",
    "--log.directory /var/lib/cassandra/dsbulk_log \\\n",
    "--engine.dryRun false"
   ]
  },
  {
   "cell_type": "code",
   "execution_count": null,
   "id": "ef2d3ccb",
   "metadata": {},
   "outputs": [],
   "source": [
    "%%bash\n",
    "\n",
    "##############################\n",
    "#\n",
    "## TABLE: employees_by_department\n",
    "#\n",
    "##############################\n",
    "printf \"\\n## 'Import employees_by_department'\\n\";\n",
    "sudo docker exec -i dbis-cassandra-db-1 dsbulk load \\\n",
    "--connector.name csv \\\n",
    "--connector.csv.url /mnt/workspace/department_employees.csv \\\n",
    "--connector.csv.delimiter ',' \\\n",
    "--connector.csv.header true \\\n",
    "--schema.keyspace satisfaction \\\n",
    "--schema.table 'employees_by_department' \\\n",
    "--schema.mapping '0 = department_name, 1 = employee_id, 2 = department_city, 3 = department_zip_code, 4 = employee_satisfied' \\\n",
    "--log.directory /var/lib/cassandra/dsbulk_log \\\n",
    "--engine.dryRun false"
   ]
  },
  {
   "cell_type": "markdown",
   "id": "dba355ef",
   "metadata": {},
   "source": [
    "### Datenbankabfragen    \n",
    "\n",
    "<div class=\"alert alert-block alert-info\">\n",
    "    \n",
    "**Aufgabe 14**    \n",
    "    \n",
    "Führen Sie die Abfragen jetzt auf Cassandra (CQL) aus.\n",
    "Alternativ zu dem vorgegebenen Rahmen (Verwendung der CQL-Shell) können Sie ebenfalls das *cassandra-driver* Python-Modul verwenden.\n",
    "</div>"
   ]
  },
  {
   "cell_type": "code",
   "execution_count": null,
   "id": "4126700d",
   "metadata": {},
   "outputs": [],
   "source": [
    "%%bash\n",
    "# --------------\n",
    "## Q1\n",
    "# --------------\n",
    "printf \"# ------------\\n# Q1\\n# ------------\\n\"\n",
    "cat <<\"EOF\" | sudo docker exec -i dbis-cassandra-db-1 cqlsh -k satisfaction\n",
    "\n",
    "SELECT \n",
    "  department_name,\n",
    "  department_city,\n",
    "  department_zip_code,\n",
    "  COUNT(department_name) AS count_projects\n",
    "FROM \n",
    "  projects_by_department\n",
    "GROUP BY \n",
    "  department_name;\n",
    "\n",
    "EOF\n",
    "\n",
    "\n",
    "# --------------\n",
    "## Q2\n",
    "# --------------\n",
    "printf \"# ------------\\n# Q2\\n# ------------\\n\"\n",
    "cat <<\"EOF\" | sudo docker exec -i dbis-cassandra-db-1 cqlsh -k satisfaction\n",
    "\n",
    "SELECT \n",
    "  AVG(CAST(toUnixTimestamp(project_end_date) as double) - CAST(toUnixTimestamp(project_start_date) as double)) \n",
    "  / (1000*60*60*24) AS avg_proj_duration_days\n",
    "FROM \n",
    "  projects_by_department;\n",
    "\n",
    "EOF\n",
    "\n",
    "\n",
    "# --------------\n",
    "## Q5\n",
    "# --------------\n",
    "printf \"# ------------\\n# Q5\\n# ------------\\n\"\n",
    "cat <<\"EOF\" | sudo docker exec -i dbis-cassandra-db-1 cqlsh -k satisfaction\n",
    "\n",
    "SELECT \n",
    "  department_name,\n",
    "  department_city,\n",
    "  department_zip_code,\n",
    "  AVG(CAST(toUnixTimestamp(project_end_date) as double) - CAST(toUnixTimestamp(project_start_date) as double)) \n",
    "  / (1000*60*60*24) AS avg_proj_duration_days\n",
    "FROM \n",
    "  projects_by_department\n",
    "WHERE\n",
    "  department_name = 'Technology';\n",
    "\n",
    "EOF\n",
    "\n",
    "\n",
    "# --------------\n",
    "## Q6\n",
    "# --------------\n",
    "printf \"# ------------\\n# Q6\\n# ------------\\n\"\n",
    "cat <<\"EOF\" | sudo docker exec -i dbis-cassandra-db-1 cqlsh -k satisfaction\n",
    "\n",
    "SELECT \n",
    "    department_name,\n",
    "    department_city,\n",
    "    department_zip_code,\n",
    "    AVG(CAST(employee_satisfied as double)) AS avg_satisfied \n",
    "FROM\n",
    "    employees_by_department\n",
    "WHERE\n",
    "    department_name = 'Technology';\n",
    "\n",
    "EOF"
   ]
  },
  {
   "cell_type": "markdown",
   "id": "194ede01",
   "metadata": {},
   "source": [
    "Der Cassandra-Container kann abschließend folgendermaßen gestoppt werden:"
   ]
  },
  {
   "cell_type": "code",
   "execution_count": null,
   "id": "31dd79e1",
   "metadata": {},
   "outputs": [],
   "source": [
    "%%bash\n",
    "\n",
    "# stop the mongodb docker container\n",
    "if [ -z $(sudo docker ps --filter \"name=dbis-cassandra-db-1\" -q) ]; then\n",
    "    printf \"\\nthe container does not exist\\n\";\n",
    "else \n",
    "    printf \"\\nstopping the container ...\\n\";\n",
    "    sudo docker stop dbis-cassandra-db-1\n",
    "fi"
   ]
  },
  {
   "cell_type": "markdown",
   "id": "39d57b97",
   "metadata": {},
   "source": [
    "<div class=\"alert alert-block alert-info\">\n",
    "    \n",
    "**Aufgabe 15**    \n",
    "    \n",
    "Beschreiben Sie, warum Abfragen wie *Q1* und *Q2* bei Cassandra zu Problemen führen könnten.\n",
    "</div>"
   ]
  },
  {
   "cell_type": "markdown",
   "id": "3c1e059a",
   "metadata": {},
   "source": [
    "Die Abfragen 1 und 2 verwenden keinen Partition-Key in der WHERE Condition. Daher muss Cassandra einen vollständigen Tablescan durchführen, da nicht auf eine bestimmte Partition und somit die Abfrage nicht (im idealfall) von einem Knoten beantwortet werden kann.\n",
    "\n",
    "Cassandra verteilt die Partitionen (anhand der Partition-Keys) auf alle Knoten des Clusters. In einem großen Cluster können dies Milliarden von Zeilen sein. Daher kann ein vollständiger Tabellenscan, der alle Datensätze umfasst, sehr \"teuer\" sein."
   ]
  },
  {
   "cell_type": "markdown",
   "id": "81e37536",
   "metadata": {},
   "source": [
    "<div class=\"alert alert-block alert-info\">\n",
    "    \n",
    "**Aufgabe 16**    \n",
    "    \n",
    "Die empfohlene Größe für Partitionen in Cassandra beträgt 100.000 Cells. Berechnen Sie die Größe der aktuell größten Partition (siehe [https://cassandra.apache.org/doc/latest/cassandra/data_modeling/data_modeling_refining.html](https://cassandra.apache.org/doc/latest/cassandra/data_modeling/data_modeling_refining.html)). Welche Möglichkeiten bzw. Modellierungsstrategien bezüglich des Schema-Designs gibt es, um zu große Partitionen zu vermeiden?\n",
    "</div>"
   ]
  },
  {
   "cell_type": "markdown",
   "id": "dd4f5dfa",
   "metadata": {},
   "source": [
    "Berechnung der *partition size*:\n",
    "\n",
    "$$ N_v = N_r(N_c - N_{pk} − N_s) + N_s $$\n",
    "\n",
    "$$ N_v = \\text{Number of values (or cells)} $$\n",
    "$$ N_s = \\text{Number of static columns} $$\n",
    "$$ N_r = \\text{Number of rows} $$\n",
    "$$ N_c = \\text{Number of columns} $$\n",
    "$$ N_{pk} = \\text{Number of primary key columns} $$\n",
    "\n",
    "\n",
    "Tabelle: *projects_by_department*\n",
    "\n",
    "- $N_c = $ 6 columns in total\n",
    "- $N_{pk} = $ 2 primary key columns\n",
    "- $N_s = $ 2 static columns\n",
    "- $N_r = 406 $ (Größte Anzahl an Projekten eines Departments (*Technology*))\n",
    "\n",
    "$N_v = 406 *\\ (6 - 2 - 2) + 2 = 814$\n",
    "\n",
    "\n",
    "Tabelle: *employees_by_department*\n",
    "\n",
    "- $N_c = $ 5 columns in total\n",
    "- $N_{pk} = $ 2 primary key columns\n",
    "- $N_s = $ 2 static columns\n",
    "- $N_r = 114 $ (Größte Anzahl an Mitarbeitern eines Departments (*Purchasing*))\n",
    "\n",
    "$N_v = 114 *\\ (6 - 2 - 2) + 2 = 230$\n",
    "\n",
    "Die aktuell größte Partition umfasst **814 Cells**.\n",
    "\n",
    "\n",
    "> *HINWEIS:* Für die Anzahl der rows ($N_r$) werden in der Regel Schätzungen auf der Grundlage der zu entwerfenden Anwendung vorgenommen!\n",
    "\n",
    "\n",
    "Mögliches Vorgehen bei \"großen\" Partitionen:\n",
    "\n",
    "- Das zunächst einfachste und naheliegendste Vorgehen ist das Hinzufügen einer weiteren Spalte zum Partition-Key.\n",
    "- Eine weiteres, häufig angewendetes Vorgehen ist das *bucketing*. Handelt es sich beispilsweise um Rows, die ein Datum aufweisen (time series), kann eine weitere Spalte hinzugefügt werden, die lediglich den jeweiligen Monat des Datums beinhalten. Diese Spalte wir dann Teil des Partition-Keys."
   ]
  },
  {
   "cell_type": "markdown",
   "id": "630de007",
   "metadata": {},
   "source": [
    "---\n",
    "Der PDF-Export dieses Jupyter-Notebooks kann alternativ durch folgenden Aufruf erfolgen (Pfad zum Notebook muss entsprechend angepasst werden!):"
   ]
  },
  {
   "cell_type": "code",
   "execution_count": null,
   "id": "6c7c317f",
   "metadata": {},
   "outputs": [],
   "source": [
    "!jupyter nbconvert --to pdf --template '/home/pyspark-client/nbconvert-templates/fernuni-latex' \\\n",
    "~/workspace/PATH/TO/KE6-7-loesung.ipynb"
   ]
  }
 ],
 "metadata": {
  "kernelspec": {
   "display_name": "Python 3 (ipykernel)",
   "language": "python",
   "name": "python3"
  },
  "language_info": {
   "codemirror_mode": {
    "name": "ipython",
    "version": 3
   },
   "file_extension": ".py",
   "mimetype": "text/x-python",
   "name": "python",
   "nbconvert_exporter": "python",
   "pygments_lexer": "ipython3",
   "version": "3.11.3"
  },
  "toc": {
   "base_numbering": 1,
   "nav_menu": {},
   "number_sections": true,
   "sideBar": true,
   "skip_h1_title": true,
   "title_cell": "Table of Contents",
   "title_sidebar": "Contents",
   "toc_cell": false,
   "toc_position": {
    "height": "calc(100% - 180px)",
    "left": "10px",
    "top": "150px",
    "width": "302.4px"
   },
   "toc_section_display": true,
   "toc_window_display": true
  }
 },
 "nbformat": 4,
 "nbformat_minor": 5
}
