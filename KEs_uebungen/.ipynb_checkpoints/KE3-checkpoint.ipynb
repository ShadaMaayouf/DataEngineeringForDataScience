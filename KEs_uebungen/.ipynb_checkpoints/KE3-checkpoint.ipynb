{
 "cells": [
  {
   "cell_type": "raw",
   "metadata": {
    "ExecuteTime": {
     "end_time": "2022-02-23T10:26:52.226330Z",
     "start_time": "2022-02-23T10:26:52.189669Z"
    }
   },
   "source": [
    "Name:\n",
    "Matrikelnummer:"
   ]
  },
  {
   "cell_type": "markdown",
   "metadata": {},
   "source": [
    "___"
   ]
  },
  {
   "cell_type": "code",
   "execution_count": 113,
   "metadata": {
    "ExecuteTime": {
     "end_time": "2023-08-20T22:22:21.104996Z",
     "start_time": "2023-08-20T22:22:15.183763Z"
    },
    "pycharm": {
     "is_executing": true
    }
   },
   "outputs": [],
   "source": [
    "# Imports\n",
    "import pandas as pd\n",
    "import os  \n"
   ]
  },
  {
   "cell_type": "markdown",
   "metadata": {},
   "source": [
    "___\n",
    "**_Bitte beachten:_**\n",
    "\n",
    "- In Code-Zellen soll (bei Bedarf kommentierter) Code eingefügt werden. In Raw-Zellen erwarten wir Antworten im Freitext-Format.\n",
    "- Fragestellungen sind teilweise bewusst etwas offener formuliert, weil Sie auch im Arbeitsleben nur selten mit ganz spezifischen Anweisungen rechnen können.Es gibt häufig mehrere mögliche Lösungen, dies wird in der Korrektur  berücksichtigt.\n",
    "\n",
    "___"
   ]
  },
  {
   "cell_type": "markdown",
   "metadata": {},
   "source": [
    "# (I can't get no) satisfaction\n",
    "Wir arbeiten weiterhin mit dem Datensatz über die Zufriedenheit von Angestellten der fiktiven Firma *Fiktiva*. In dieser Kurseinheit werden wir einige Techniken zur Datenvorverarbeitung / zum Data Cleaning anwenden.\n",
    "\n",
    "Sie können hier, wenn Sie weitere Informationen benötigen, ebenfalls externe Quellen verwenden und bspw. die Datei `metadata.txt` zu Rate ziehen, aber auch alle Informationen aus dem Fiktiva-Newsletter. "
   ]
  },
  {
   "cell_type": "code",
   "execution_count": 3,
   "metadata": {
    "ExecuteTime": {
     "end_time": "2022-02-23T10:26:53.588112Z",
     "start_time": "2022-02-23T10:26:53.554691Z"
    }
   },
   "outputs": [
    {
     "data": {
      "text/html": [
       "<div>\n",
       "<style scoped>\n",
       "    .dataframe tbody tr th:only-of-type {\n",
       "        vertical-align: middle;\n",
       "    }\n",
       "\n",
       "    .dataframe tbody tr th {\n",
       "        vertical-align: top;\n",
       "    }\n",
       "\n",
       "    .dataframe thead th {\n",
       "        text-align: right;\n",
       "    }\n",
       "</style>\n",
       "<table border=\"1\" class=\"dataframe\">\n",
       "  <thead>\n",
       "    <tr style=\"text-align: right;\">\n",
       "      <th></th>\n",
       "      <th>emp_id</th>\n",
       "      <th>age</th>\n",
       "      <th>Dept</th>\n",
       "      <th>education</th>\n",
       "      <th>recruitment_type</th>\n",
       "      <th>job_level</th>\n",
       "      <th>rating</th>\n",
       "      <th>awards</th>\n",
       "      <th>certifications</th>\n",
       "      <th>salary</th>\n",
       "      <th>gender</th>\n",
       "      <th>entry_date</th>\n",
       "      <th>last_raise</th>\n",
       "      <th>satisfied</th>\n",
       "    </tr>\n",
       "  </thead>\n",
       "  <tbody>\n",
       "    <tr>\n",
       "      <th>0</th>\n",
       "      <td>HR8270</td>\n",
       "      <td>28</td>\n",
       "      <td>HR</td>\n",
       "      <td>PG</td>\n",
       "      <td>Referral</td>\n",
       "      <td>5</td>\n",
       "      <td>2.0</td>\n",
       "      <td>1</td>\n",
       "      <td>0</td>\n",
       "      <td>86750</td>\n",
       "      <td>m</td>\n",
       "      <td>2019-02-01</td>\n",
       "      <td>NaN</td>\n",
       "      <td>1</td>\n",
       "    </tr>\n",
       "    <tr>\n",
       "      <th>1</th>\n",
       "      <td>TECH1860</td>\n",
       "      <td>50</td>\n",
       "      <td>Technology</td>\n",
       "      <td>PG</td>\n",
       "      <td>Recruitment Agency</td>\n",
       "      <td>3</td>\n",
       "      <td>5.0</td>\n",
       "      <td>2</td>\n",
       "      <td>1</td>\n",
       "      <td>42419</td>\n",
       "      <td>Male</td>\n",
       "      <td>2017-01-17</td>\n",
       "      <td>NaN</td>\n",
       "      <td>0</td>\n",
       "    </tr>\n",
       "    <tr>\n",
       "      <th>2</th>\n",
       "      <td>TECH6390</td>\n",
       "      <td>43</td>\n",
       "      <td>Technology</td>\n",
       "      <td>UG</td>\n",
       "      <td>Referral</td>\n",
       "      <td>4</td>\n",
       "      <td>1.0</td>\n",
       "      <td>2</td>\n",
       "      <td>0</td>\n",
       "      <td>65715</td>\n",
       "      <td>f</td>\n",
       "      <td>2012-08-27</td>\n",
       "      <td>NaN</td>\n",
       "      <td>1</td>\n",
       "    </tr>\n",
       "    <tr>\n",
       "      <th>3</th>\n",
       "      <td>SAL6191</td>\n",
       "      <td>44</td>\n",
       "      <td>Sales</td>\n",
       "      <td>PG</td>\n",
       "      <td>On-Campus</td>\n",
       "      <td>2</td>\n",
       "      <td>3.0</td>\n",
       "      <td>0</td>\n",
       "      <td>0</td>\n",
       "      <td>29805</td>\n",
       "      <td>f</td>\n",
       "      <td>2017-07-25</td>\n",
       "      <td>NaN</td>\n",
       "      <td>1</td>\n",
       "    </tr>\n",
       "    <tr>\n",
       "      <th>4</th>\n",
       "      <td>HR6734</td>\n",
       "      <td>33</td>\n",
       "      <td>HR</td>\n",
       "      <td>UG</td>\n",
       "      <td>Recruitment Agency</td>\n",
       "      <td>2</td>\n",
       "      <td>1.0</td>\n",
       "      <td>5</td>\n",
       "      <td>0</td>\n",
       "      <td>29805</td>\n",
       "      <td>m</td>\n",
       "      <td>2019-05-17</td>\n",
       "      <td>NaN</td>\n",
       "      <td>1</td>\n",
       "    </tr>\n",
       "    <tr>\n",
       "      <th>...</th>\n",
       "      <td>...</td>\n",
       "      <td>...</td>\n",
       "      <td>...</td>\n",
       "      <td>...</td>\n",
       "      <td>...</td>\n",
       "      <td>...</td>\n",
       "      <td>...</td>\n",
       "      <td>...</td>\n",
       "      <td>...</td>\n",
       "      <td>...</td>\n",
       "      <td>...</td>\n",
       "      <td>...</td>\n",
       "      <td>...</td>\n",
       "      <td>...</td>\n",
       "    </tr>\n",
       "    <tr>\n",
       "      <th>495</th>\n",
       "      <td>HR5330</td>\n",
       "      <td>49</td>\n",
       "      <td>HR</td>\n",
       "      <td>PG</td>\n",
       "      <td>On-Campus</td>\n",
       "      <td>2</td>\n",
       "      <td>5.0</td>\n",
       "      <td>6</td>\n",
       "      <td>0</td>\n",
       "      <td>29805</td>\n",
       "      <td>m</td>\n",
       "      <td>2014-03-21</td>\n",
       "      <td>NaN</td>\n",
       "      <td>1</td>\n",
       "    </tr>\n",
       "    <tr>\n",
       "      <th>496</th>\n",
       "      <td>TECH9010</td>\n",
       "      <td>24</td>\n",
       "      <td>Technology</td>\n",
       "      <td>UG</td>\n",
       "      <td>Referral</td>\n",
       "      <td>2</td>\n",
       "      <td>4.0</td>\n",
       "      <td>2</td>\n",
       "      <td>0</td>\n",
       "      <td>29805</td>\n",
       "      <td>f</td>\n",
       "      <td>2018-02-20</td>\n",
       "      <td>NaN</td>\n",
       "      <td>0</td>\n",
       "    </tr>\n",
       "    <tr>\n",
       "      <th>497</th>\n",
       "      <td>MKT7801</td>\n",
       "      <td>34</td>\n",
       "      <td>Marketing</td>\n",
       "      <td>PG</td>\n",
       "      <td>On-Campus</td>\n",
       "      <td>1</td>\n",
       "      <td>NaN</td>\n",
       "      <td>2</td>\n",
       "      <td>0</td>\n",
       "      <td>24076</td>\n",
       "      <td>m</td>\n",
       "      <td>2020-10-20</td>\n",
       "      <td>NaN</td>\n",
       "      <td>1</td>\n",
       "    </tr>\n",
       "    <tr>\n",
       "      <th>498</th>\n",
       "      <td>TECH5846</td>\n",
       "      <td>26</td>\n",
       "      <td>Technology</td>\n",
       "      <td>UG</td>\n",
       "      <td>Walk-in</td>\n",
       "      <td>2</td>\n",
       "      <td>1.0</td>\n",
       "      <td>1</td>\n",
       "      <td>1</td>\n",
       "      <td>29805</td>\n",
       "      <td>Male</td>\n",
       "      <td>2012-05-18</td>\n",
       "      <td>NaN</td>\n",
       "      <td>0</td>\n",
       "    </tr>\n",
       "    <tr>\n",
       "      <th>499</th>\n",
       "      <td>TECH7731</td>\n",
       "      <td>26</td>\n",
       "      <td>Technology</td>\n",
       "      <td>UG</td>\n",
       "      <td>Recruitment Agency</td>\n",
       "      <td>3</td>\n",
       "      <td>4.0</td>\n",
       "      <td>3</td>\n",
       "      <td>0</td>\n",
       "      <td>42419</td>\n",
       "      <td>Male</td>\n",
       "      <td>2018-12-28</td>\n",
       "      <td>NaN</td>\n",
       "      <td>0</td>\n",
       "    </tr>\n",
       "  </tbody>\n",
       "</table>\n",
       "<p>500 rows × 14 columns</p>\n",
       "</div>"
      ],
      "text/plain": [
       "       emp_id  age        Dept education    recruitment_type  job_level   \n",
       "0      HR8270   28          HR        PG            Referral          5  \\\n",
       "1    TECH1860   50  Technology        PG  Recruitment Agency          3   \n",
       "2    TECH6390   43  Technology        UG            Referral          4   \n",
       "3     SAL6191   44       Sales        PG           On-Campus          2   \n",
       "4      HR6734   33          HR        UG  Recruitment Agency          2   \n",
       "..        ...  ...         ...       ...                 ...        ...   \n",
       "495    HR5330   49          HR        PG           On-Campus          2   \n",
       "496  TECH9010   24  Technology        UG            Referral          2   \n",
       "497   MKT7801   34   Marketing        PG           On-Campus          1   \n",
       "498  TECH5846   26  Technology        UG             Walk-in          2   \n",
       "499  TECH7731   26  Technology        UG  Recruitment Agency          3   \n",
       "\n",
       "     rating  awards  certifications  salary gender  entry_date  last_raise   \n",
       "0       2.0       1               0   86750      m  2019-02-01         NaN  \\\n",
       "1       5.0       2               1   42419   Male  2017-01-17         NaN   \n",
       "2       1.0       2               0   65715      f  2012-08-27         NaN   \n",
       "3       3.0       0               0   29805      f  2017-07-25         NaN   \n",
       "4       1.0       5               0   29805      m  2019-05-17         NaN   \n",
       "..      ...     ...             ...     ...    ...         ...         ...   \n",
       "495     5.0       6               0   29805      m  2014-03-21         NaN   \n",
       "496     4.0       2               0   29805      f  2018-02-20         NaN   \n",
       "497     NaN       2               0   24076      m  2020-10-20         NaN   \n",
       "498     1.0       1               1   29805   Male  2012-05-18         NaN   \n",
       "499     4.0       3               0   42419   Male  2018-12-28         NaN   \n",
       "\n",
       "     satisfied  \n",
       "0            1  \n",
       "1            0  \n",
       "2            1  \n",
       "3            1  \n",
       "4            1  \n",
       "..         ...  \n",
       "495          1  \n",
       "496          0  \n",
       "497          1  \n",
       "498          0  \n",
       "499          0  \n",
       "\n",
       "[500 rows x 14 columns]"
      ]
     },
     "execution_count": 3,
     "metadata": {},
     "output_type": "execute_result"
    }
   ],
   "source": [
    "# Datensatz laden\n",
    "# Hinweis: Laden Sie den Datensatz so, dass die erste Spalte als Index (Row Label) verwendet wird\n",
    "df = pd.read_csv(\"./data/employees_satisfaction.csv\", index_col=0)\n",
    "df"
   ]
  },
  {
   "cell_type": "markdown",
   "metadata": {},
   "source": [
    "## Spalten umbennen"
   ]
  },
  {
   "cell_type": "markdown",
   "metadata": {},
   "source": [
    "Die Spalte `Dept` wird als einzige groß geschrieben. Benennen Sie die Spalte deshalb in `department` um."
   ]
  },
  {
   "cell_type": "code",
   "execution_count": 4,
   "metadata": {
    "ExecuteTime": {
     "end_time": "2022-02-23T10:22:46.512713Z",
     "start_time": "2022-02-23T10:22:46.504715Z"
    }
   },
   "outputs": [
    {
     "data": {
      "text/html": [
       "<div>\n",
       "<style scoped>\n",
       "    .dataframe tbody tr th:only-of-type {\n",
       "        vertical-align: middle;\n",
       "    }\n",
       "\n",
       "    .dataframe tbody tr th {\n",
       "        vertical-align: top;\n",
       "    }\n",
       "\n",
       "    .dataframe thead th {\n",
       "        text-align: right;\n",
       "    }\n",
       "</style>\n",
       "<table border=\"1\" class=\"dataframe\">\n",
       "  <thead>\n",
       "    <tr style=\"text-align: right;\">\n",
       "      <th></th>\n",
       "      <th>emp_id</th>\n",
       "      <th>age</th>\n",
       "      <th>department</th>\n",
       "      <th>education</th>\n",
       "      <th>recruitment_type</th>\n",
       "      <th>job_level</th>\n",
       "      <th>rating</th>\n",
       "      <th>awards</th>\n",
       "      <th>certifications</th>\n",
       "      <th>salary</th>\n",
       "      <th>gender</th>\n",
       "      <th>entry_date</th>\n",
       "      <th>last_raise</th>\n",
       "      <th>satisfied</th>\n",
       "    </tr>\n",
       "  </thead>\n",
       "  <tbody>\n",
       "    <tr>\n",
       "      <th>0</th>\n",
       "      <td>HR8270</td>\n",
       "      <td>28</td>\n",
       "      <td>HR</td>\n",
       "      <td>PG</td>\n",
       "      <td>Referral</td>\n",
       "      <td>5</td>\n",
       "      <td>2.0</td>\n",
       "      <td>1</td>\n",
       "      <td>0</td>\n",
       "      <td>86750</td>\n",
       "      <td>m</td>\n",
       "      <td>2019-02-01</td>\n",
       "      <td>NaN</td>\n",
       "      <td>1</td>\n",
       "    </tr>\n",
       "    <tr>\n",
       "      <th>1</th>\n",
       "      <td>TECH1860</td>\n",
       "      <td>50</td>\n",
       "      <td>Technology</td>\n",
       "      <td>PG</td>\n",
       "      <td>Recruitment Agency</td>\n",
       "      <td>3</td>\n",
       "      <td>5.0</td>\n",
       "      <td>2</td>\n",
       "      <td>1</td>\n",
       "      <td>42419</td>\n",
       "      <td>Male</td>\n",
       "      <td>2017-01-17</td>\n",
       "      <td>NaN</td>\n",
       "      <td>0</td>\n",
       "    </tr>\n",
       "    <tr>\n",
       "      <th>2</th>\n",
       "      <td>TECH6390</td>\n",
       "      <td>43</td>\n",
       "      <td>Technology</td>\n",
       "      <td>UG</td>\n",
       "      <td>Referral</td>\n",
       "      <td>4</td>\n",
       "      <td>1.0</td>\n",
       "      <td>2</td>\n",
       "      <td>0</td>\n",
       "      <td>65715</td>\n",
       "      <td>f</td>\n",
       "      <td>2012-08-27</td>\n",
       "      <td>NaN</td>\n",
       "      <td>1</td>\n",
       "    </tr>\n",
       "    <tr>\n",
       "      <th>3</th>\n",
       "      <td>SAL6191</td>\n",
       "      <td>44</td>\n",
       "      <td>Sales</td>\n",
       "      <td>PG</td>\n",
       "      <td>On-Campus</td>\n",
       "      <td>2</td>\n",
       "      <td>3.0</td>\n",
       "      <td>0</td>\n",
       "      <td>0</td>\n",
       "      <td>29805</td>\n",
       "      <td>f</td>\n",
       "      <td>2017-07-25</td>\n",
       "      <td>NaN</td>\n",
       "      <td>1</td>\n",
       "    </tr>\n",
       "    <tr>\n",
       "      <th>4</th>\n",
       "      <td>HR6734</td>\n",
       "      <td>33</td>\n",
       "      <td>HR</td>\n",
       "      <td>UG</td>\n",
       "      <td>Recruitment Agency</td>\n",
       "      <td>2</td>\n",
       "      <td>1.0</td>\n",
       "      <td>5</td>\n",
       "      <td>0</td>\n",
       "      <td>29805</td>\n",
       "      <td>m</td>\n",
       "      <td>2019-05-17</td>\n",
       "      <td>NaN</td>\n",
       "      <td>1</td>\n",
       "    </tr>\n",
       "    <tr>\n",
       "      <th>...</th>\n",
       "      <td>...</td>\n",
       "      <td>...</td>\n",
       "      <td>...</td>\n",
       "      <td>...</td>\n",
       "      <td>...</td>\n",
       "      <td>...</td>\n",
       "      <td>...</td>\n",
       "      <td>...</td>\n",
       "      <td>...</td>\n",
       "      <td>...</td>\n",
       "      <td>...</td>\n",
       "      <td>...</td>\n",
       "      <td>...</td>\n",
       "      <td>...</td>\n",
       "    </tr>\n",
       "    <tr>\n",
       "      <th>495</th>\n",
       "      <td>HR5330</td>\n",
       "      <td>49</td>\n",
       "      <td>HR</td>\n",
       "      <td>PG</td>\n",
       "      <td>On-Campus</td>\n",
       "      <td>2</td>\n",
       "      <td>5.0</td>\n",
       "      <td>6</td>\n",
       "      <td>0</td>\n",
       "      <td>29805</td>\n",
       "      <td>m</td>\n",
       "      <td>2014-03-21</td>\n",
       "      <td>NaN</td>\n",
       "      <td>1</td>\n",
       "    </tr>\n",
       "    <tr>\n",
       "      <th>496</th>\n",
       "      <td>TECH9010</td>\n",
       "      <td>24</td>\n",
       "      <td>Technology</td>\n",
       "      <td>UG</td>\n",
       "      <td>Referral</td>\n",
       "      <td>2</td>\n",
       "      <td>4.0</td>\n",
       "      <td>2</td>\n",
       "      <td>0</td>\n",
       "      <td>29805</td>\n",
       "      <td>f</td>\n",
       "      <td>2018-02-20</td>\n",
       "      <td>NaN</td>\n",
       "      <td>0</td>\n",
       "    </tr>\n",
       "    <tr>\n",
       "      <th>497</th>\n",
       "      <td>MKT7801</td>\n",
       "      <td>34</td>\n",
       "      <td>Marketing</td>\n",
       "      <td>PG</td>\n",
       "      <td>On-Campus</td>\n",
       "      <td>1</td>\n",
       "      <td>NaN</td>\n",
       "      <td>2</td>\n",
       "      <td>0</td>\n",
       "      <td>24076</td>\n",
       "      <td>m</td>\n",
       "      <td>2020-10-20</td>\n",
       "      <td>NaN</td>\n",
       "      <td>1</td>\n",
       "    </tr>\n",
       "    <tr>\n",
       "      <th>498</th>\n",
       "      <td>TECH5846</td>\n",
       "      <td>26</td>\n",
       "      <td>Technology</td>\n",
       "      <td>UG</td>\n",
       "      <td>Walk-in</td>\n",
       "      <td>2</td>\n",
       "      <td>1.0</td>\n",
       "      <td>1</td>\n",
       "      <td>1</td>\n",
       "      <td>29805</td>\n",
       "      <td>Male</td>\n",
       "      <td>2012-05-18</td>\n",
       "      <td>NaN</td>\n",
       "      <td>0</td>\n",
       "    </tr>\n",
       "    <tr>\n",
       "      <th>499</th>\n",
       "      <td>TECH7731</td>\n",
       "      <td>26</td>\n",
       "      <td>Technology</td>\n",
       "      <td>UG</td>\n",
       "      <td>Recruitment Agency</td>\n",
       "      <td>3</td>\n",
       "      <td>4.0</td>\n",
       "      <td>3</td>\n",
       "      <td>0</td>\n",
       "      <td>42419</td>\n",
       "      <td>Male</td>\n",
       "      <td>2018-12-28</td>\n",
       "      <td>NaN</td>\n",
       "      <td>0</td>\n",
       "    </tr>\n",
       "  </tbody>\n",
       "</table>\n",
       "<p>500 rows × 14 columns</p>\n",
       "</div>"
      ],
      "text/plain": [
       "       emp_id  age  department education    recruitment_type  job_level   \n",
       "0      HR8270   28          HR        PG            Referral          5  \\\n",
       "1    TECH1860   50  Technology        PG  Recruitment Agency          3   \n",
       "2    TECH6390   43  Technology        UG            Referral          4   \n",
       "3     SAL6191   44       Sales        PG           On-Campus          2   \n",
       "4      HR6734   33          HR        UG  Recruitment Agency          2   \n",
       "..        ...  ...         ...       ...                 ...        ...   \n",
       "495    HR5330   49          HR        PG           On-Campus          2   \n",
       "496  TECH9010   24  Technology        UG            Referral          2   \n",
       "497   MKT7801   34   Marketing        PG           On-Campus          1   \n",
       "498  TECH5846   26  Technology        UG             Walk-in          2   \n",
       "499  TECH7731   26  Technology        UG  Recruitment Agency          3   \n",
       "\n",
       "     rating  awards  certifications  salary gender  entry_date  last_raise   \n",
       "0       2.0       1               0   86750      m  2019-02-01         NaN  \\\n",
       "1       5.0       2               1   42419   Male  2017-01-17         NaN   \n",
       "2       1.0       2               0   65715      f  2012-08-27         NaN   \n",
       "3       3.0       0               0   29805      f  2017-07-25         NaN   \n",
       "4       1.0       5               0   29805      m  2019-05-17         NaN   \n",
       "..      ...     ...             ...     ...    ...         ...         ...   \n",
       "495     5.0       6               0   29805      m  2014-03-21         NaN   \n",
       "496     4.0       2               0   29805      f  2018-02-20         NaN   \n",
       "497     NaN       2               0   24076      m  2020-10-20         NaN   \n",
       "498     1.0       1               1   29805   Male  2012-05-18         NaN   \n",
       "499     4.0       3               0   42419   Male  2018-12-28         NaN   \n",
       "\n",
       "     satisfied  \n",
       "0            1  \n",
       "1            0  \n",
       "2            1  \n",
       "3            1  \n",
       "4            1  \n",
       "..         ...  \n",
       "495          1  \n",
       "496          0  \n",
       "497          1  \n",
       "498          0  \n",
       "499          0  \n",
       "\n",
       "[500 rows x 14 columns]"
      ]
     },
     "execution_count": 4,
     "metadata": {},
     "output_type": "execute_result"
    }
   ],
   "source": [
    "# Ihre Lösung\n",
    "df = df.rename(columns={'Dept': 'department'})\n",
    "#or, in case you want to work on the same dataframe use inplace=True\n",
    "#df.rename(columns={'Dept': 'department'}, inplace=True)\n",
    "df"
   ]
  },
  {
   "cell_type": "markdown",
   "metadata": {},
   "source": [
    "## Spalten transformieren\n",
    "Um ein besseres Gefühl für die Werte der Spalte `salary` zu bekommen, wandeln wir die Werte, die aktuell in US-Dollar angegeben sind, in Euro um. Aktualisieren Sie anschließend auch die Datei `metadata.txt`.\n",
    "\n",
    "*Hinweis: Verwenden Sie folgenden Umrechnungskurs: $ 1\\$ = 0.9€ $*"
   ]
  },
  {
   "cell_type": "code",
   "execution_count": 5,
   "metadata": {
    "ExecuteTime": {
     "end_time": "2022-02-23T10:22:46.528709Z",
     "start_time": "2022-02-23T10:22:46.515719Z"
    }
   },
   "outputs": [],
   "source": [
    "# Ihre Lösung\n",
    "df['salary'] *= 0.9"
   ]
  },
  {
   "cell_type": "code",
   "execution_count": 6,
   "metadata": {},
   "outputs": [
    {
     "data": {
      "text/plain": [
       "0      78075.0\n",
       "1      38177.1\n",
       "2      59143.5\n",
       "3      26824.5\n",
       "4      26824.5\n",
       "        ...   \n",
       "495    26824.5\n",
       "496    26824.5\n",
       "497    21668.4\n",
       "498    26824.5\n",
       "499    38177.1\n",
       "Name: salary, Length: 500, dtype: float64"
      ]
     },
     "metadata": {},
     "output_type": "display_data"
    }
   ],
   "source": [
    "display(df['salary'])"
   ]
  },
  {
   "cell_type": "markdown",
   "metadata": {},
   "source": [
    "Die Spalte `entry_date` enthält Informationen über das Einstellungsdatum, die Daten sind jedoch nicht vom Typ Datetime. Dies ist für Datums-Berechnungen sehr ungünstig, wandeln Sie den Datentypen deshalb entsprechend um."
   ]
  },
  {
   "cell_type": "code",
   "execution_count": 7,
   "metadata": {
    "ExecuteTime": {
     "end_time": "2022-02-23T10:22:46.544708Z",
     "start_time": "2022-02-23T10:22:46.531715Z"
    }
   },
   "outputs": [
    {
     "data": {
      "text/plain": [
       "0     2019-02-01\n",
       "1     2017-01-17\n",
       "2     2012-08-27\n",
       "3     2017-07-25\n",
       "4     2019-05-17\n",
       "         ...    \n",
       "495   2014-03-21\n",
       "496   2018-02-20\n",
       "497   2020-10-20\n",
       "498   2012-05-18\n",
       "499   2018-12-28\n",
       "Name: entry_date, Length: 500, dtype: datetime64[ns]"
      ]
     },
     "metadata": {},
     "output_type": "display_data"
    },
    {
     "name": "stdout",
     "output_type": "stream",
     "text": [
      "2004-01-05 00:00:00\n",
      "2020-12-17 00:00:00\n"
     ]
    }
   ],
   "source": [
    "# Ihre Lösung\n",
    "# convert the values in the `entry_date` column to *actual* dates\n",
    "df['entry_date'] = pd.to_datetime(df['entry_date'], format='%Y-%m-%d')\n",
    "\n",
    "# print out the `min()` and `max()` values in the `entry_date` column\n",
    "display(df['entry_date'])\n",
    "print(df['entry_date'].min())\n",
    "print(df['entry_date'].max())"
   ]
  },
  {
   "cell_type": "code",
   "execution_count": 8,
   "metadata": {},
   "outputs": [
    {
     "data": {
      "text/plain": [
       "dtype('float64')"
      ]
     },
     "execution_count": 8,
     "metadata": {},
     "output_type": "execute_result"
    }
   ],
   "source": [
    "df.dtypes['salary']"
   ]
  },
  {
   "cell_type": "markdown",
   "metadata": {},
   "source": [
    "In der Spalte `gender` sind die Werte nicht einheitlich kodiert (`m`/`Male` und `f`/`Female`). Vereinheitlichen Sie diese Spalte, so dass `m` zu `Male` wird und `f` zu `Female`. Dazu können Sie untenstehendes Dictionary `gender_recoding` verwenden."
   ]
  },
  {
   "cell_type": "code",
   "execution_count": 9,
   "metadata": {
    "ExecuteTime": {
     "end_time": "2022-02-23T10:22:46.560709Z",
     "start_time": "2022-02-23T10:22:46.547710Z"
    },
    "scrolled": true
   },
   "outputs": [
    {
     "data": {
      "text/plain": [
       "gender\n",
       "m         207\n",
       "f         187\n",
       "Male       57\n",
       "Female     46\n",
       "Name: count, dtype: int64"
      ]
     },
     "execution_count": 9,
     "metadata": {},
     "output_type": "execute_result"
    }
   ],
   "source": [
    "gender_recoding = {\n",
    "    \"f\": \"Female\",\n",
    "    \"m\": \"Male\"\n",
    "}\n",
    "\n",
    "#with this we can see the number of different values in a column\n",
    "df['gender'].value_counts()"
   ]
  },
  {
   "cell_type": "code",
   "execution_count": 10,
   "metadata": {
    "ExecuteTime": {
     "end_time": "2022-02-23T10:22:46.576709Z",
     "start_time": "2022-02-23T10:22:46.563710Z"
    }
   },
   "outputs": [
    {
     "data": {
      "text/plain": [
       "0        Male\n",
       "1        Male\n",
       "2      Female\n",
       "3      Female\n",
       "4        Male\n",
       "        ...  \n",
       "495      Male\n",
       "496    Female\n",
       "497      Male\n",
       "498      Male\n",
       "499      Male\n",
       "Name: gender, Length: 500, dtype: object"
      ]
     },
     "execution_count": 10,
     "metadata": {},
     "output_type": "execute_result"
    }
   ],
   "source": [
    "# Ihre Lösung\n",
    "df['gender'] = df['gender'].map(gender_recoding).fillna(df['gender'])\n",
    "df['gender']"
   ]
  },
  {
   "cell_type": "markdown",
   "metadata": {},
   "source": [
    "In der Spalte `education` ist der Ausbildungsgrad der Angestellten in `UG`/`PG` angegeben:"
   ]
  },
  {
   "cell_type": "code",
   "execution_count": 11,
   "metadata": {
    "ExecuteTime": {
     "end_time": "2022-02-23T10:26:58.432868Z",
     "start_time": "2022-02-23T10:26:58.417195Z"
    }
   },
   "outputs": [
    {
     "data": {
      "text/plain": [
       "array(['PG', 'UG'], dtype=object)"
      ]
     },
     "execution_count": 11,
     "metadata": {},
     "output_type": "execute_result"
    }
   ],
   "source": [
    "df[\"education\"].unique()"
   ]
  },
  {
   "cell_type": "markdown",
   "metadata": {},
   "source": [
    "Dies sind in Deutschland keine gebräuchlichen Abkürzungen, weshalb die Information u.U. nicht verständlich ist. Transformieren Sie die Spalte, so dass die Abkürzungen ausgeschrieben und somit verständlicher sind. Aktualisieren Sie außerdem die Datei `metadata.txt` und fügen Sie eine kurze Erklärung zu den beiden Ausprägungen hinzu."
   ]
  },
  {
   "cell_type": "code",
   "execution_count": 12,
   "metadata": {
    "ExecuteTime": {
     "end_time": "2022-02-23T10:22:46.608733Z",
     "start_time": "2022-02-23T10:22:46.594713Z"
    }
   },
   "outputs": [
    {
     "data": {
      "text/plain": [
       "0      Postgraduate\n",
       "1      Postgraduate\n",
       "2         Undergrad\n",
       "3      Postgraduate\n",
       "4         Undergrad\n",
       "           ...     \n",
       "495    Postgraduate\n",
       "496       Undergrad\n",
       "497    Postgraduate\n",
       "498       Undergrad\n",
       "499       Undergrad\n",
       "Name: education, Length: 500, dtype: object"
      ]
     },
     "execution_count": 12,
     "metadata": {},
     "output_type": "execute_result"
    }
   ],
   "source": [
    "# Ihre Lösung\n",
    "education_recoding = {\n",
    "    \"PG\": \"Postgraduate\",\n",
    "    \"UG\": \"Undergrad\"\n",
    "}\n",
    "df['education'] = df['education'].map(education_recoding).fillna(df['education'])\n",
    "df['education']"
   ]
  },
  {
   "cell_type": "markdown",
   "metadata": {},
   "source": [
    "## Plausibilitätschecks\n",
    "\n",
    "#### Was ist ein Plausibilitätscheck?\n",
    "Eine Plausibilitätsprüfung ist eine Methode zur groben Überprüfung, ob ein Wert oder ein Ergebnis akzeptabel, plausibel und nachvollziehbar ist. Es ist eine Datenqualitätsmetrik, die verwendet wird, um offensichtliche Ungenauigkeiten oder Inkonsistenzen in den Daten oder im Ergebnis zu erkennen. Eine Plausibilitätsprüfung kann auf physikalischen, logischen oder statistischen Kriterien basieren. Beispielsweise kann eine Plausibilitätsprüfung die Geschwindigkeit des Autos als Signal nutzen, um die Sicherheit einer Funktion zu überprüfen.\n",
    "\n",
    "Es ist sinnvoll, einige Prüfungen bzgl. der Plausibilität der Daten vorzunhemen.\n",
    "\n",
    "Nehmen Sie an, einer Ihrer Plausibilitätschecks schlägt fehlt. Was sollten Sie dann tun?"
   ]
  },
  {
   "cell_type": "raw",
   "metadata": {},
   "source": [
    "Ihre Überlegung:\n",
    "\n",
    "Dann sollten weitere Informationen eingeholt werden, um herauszufinden, ob die\n",
    "Informationen korrekt sind. Können diese Informationen nicht beschafft werden, die Prüfung ist aber nur für wenige, einzelne Zeilen fehlgeschlagen, könnte es sinnvoll sein, die entsprechenden Zeilen zu löschen, da sie unter Umständen inkorrekte Daten enthalten. Schlägt ein Plausbilitätscheck für einen Großteil der Daten fehl, sollte die Qualität und somit die Verwendbarkeit des Datensatzes in Frage gestellt werden."
   ]
  },
  {
   "cell_type": "markdown",
   "metadata": {},
   "source": [
    "Wir würden davon ausgehen, dass Personen frühestens ab 16 Jahren fest in einer Firma angestellt werden. Prüfen Sie deshalb, ob alle Personen mindestens 16 Jahre alt waren, als Sie bei der Firma begonnen haben (siehe `entry_date`). Gehen Sie dafür davon aus, dass der Datensatz am 01.01.2021 erstellt wurde (siehe Variable `created`)."
   ]
  },
  {
   "cell_type": "code",
   "execution_count": 13,
   "metadata": {
    "ExecuteTime": {
     "end_time": "2022-02-23T10:22:46.624711Z",
     "start_time": "2022-02-23T10:22:46.610711Z"
    }
   },
   "outputs": [],
   "source": [
    "from datetime import date\n",
    "created = date(2021, 1, 1)"
   ]
  },
  {
   "cell_type": "code",
   "execution_count": 14,
   "metadata": {
    "ExecuteTime": {
     "end_time": "2022-02-23T10:22:46.656710Z",
     "start_time": "2022-02-23T10:22:46.625711Z"
    }
   },
   "outputs": [
    {
     "data": {
      "text/html": [
       "<div>\n",
       "<style scoped>\n",
       "    .dataframe tbody tr th:only-of-type {\n",
       "        vertical-align: middle;\n",
       "    }\n",
       "\n",
       "    .dataframe tbody tr th {\n",
       "        vertical-align: top;\n",
       "    }\n",
       "\n",
       "    .dataframe thead th {\n",
       "        text-align: right;\n",
       "    }\n",
       "</style>\n",
       "<table border=\"1\" class=\"dataframe\">\n",
       "  <thead>\n",
       "    <tr style=\"text-align: right;\">\n",
       "      <th></th>\n",
       "      <th>emp_id</th>\n",
       "      <th>age</th>\n",
       "      <th>department</th>\n",
       "      <th>education</th>\n",
       "      <th>recruitment_type</th>\n",
       "      <th>job_level</th>\n",
       "      <th>rating</th>\n",
       "      <th>awards</th>\n",
       "      <th>certifications</th>\n",
       "      <th>salary</th>\n",
       "      <th>gender</th>\n",
       "      <th>entry_date</th>\n",
       "      <th>last_raise</th>\n",
       "      <th>satisfied</th>\n",
       "    </tr>\n",
       "  </thead>\n",
       "  <tbody>\n",
       "  </tbody>\n",
       "</table>\n",
       "</div>"
      ],
      "text/plain": [
       "Empty DataFrame\n",
       "Columns: [emp_id, age, department, education, recruitment_type, job_level, rating, awards, certifications, salary, gender, entry_date, last_raise, satisfied]\n",
       "Index: []"
      ]
     },
     "execution_count": 14,
     "metadata": {},
     "output_type": "execute_result"
    }
   ],
   "source": [
    "# Ihre Lösung\n",
    "#result = entry_date - created\n",
    "#age - result >= 16\n",
    "difference = created.year - df[\"entry_date\"].dt.year\n",
    "#show all rows that are younger than 16\n",
    "df.where(~((df[\"age\"] - difference) >=16)).dropna()\n",
    "\n",
    "#one liner\n",
    "#df.where(~((df[\"age\"] - (created.year - df[\"entry_date\"].dt.year) > 15))).dropna()\n"
   ]
  },
  {
   "cell_type": "markdown",
   "metadata": {},
   "source": [
    "Die ID der Angestellten scheint mit ihrer Abteilung zusammenzuhängen. Betrachten wir bspw. den ersten Datensatz:"
   ]
  },
  {
   "cell_type": "code",
   "execution_count": 15,
   "metadata": {
    "ExecuteTime": {
     "end_time": "2022-02-23T10:22:46.672708Z",
     "start_time": "2022-02-23T10:22:46.658710Z"
    }
   },
   "outputs": [
    {
     "data": {
      "text/plain": [
       "emp_id          TECH1860\n",
       "department    Technology\n",
       "Name: 1, dtype: object"
      ]
     },
     "execution_count": 15,
     "metadata": {},
     "output_type": "execute_result"
    }
   ],
   "source": [
    "df.loc[1][[\"emp_id\", \"department\"]]\n"
   ]
  },
  {
   "cell_type": "markdown",
   "metadata": {
    "ExecuteTime": {
     "end_time": "2022-02-18T14:08:44.802043Z",
     "start_time": "2022-02-18T14:08:44.773231Z"
    }
   },
   "source": [
    "Die ersten Buchstaben beziehen sich auf die Abteilung. Wir gruppieren das Dataframe und schauen uns aus jeder Abteilung die `emp_id` des ersten Datensatzes an."
   ]
  },
  {
   "cell_type": "code",
   "execution_count": 16,
   "metadata": {
    "ExecuteTime": {
     "end_time": "2022-02-23T10:22:46.688710Z",
     "start_time": "2022-02-23T10:22:46.673709Z"
    }
   },
   "outputs": [
    {
     "data": {
      "text/plain": [
       "department\n",
       "HR              HR8270\n",
       "Marketing      MKT2685\n",
       "Purchasing     PUR7265\n",
       "Sales          SAL6191\n",
       "Technology    TECH1860\n",
       "Name: emp_id, dtype: object"
      ]
     },
     "execution_count": 16,
     "metadata": {},
     "output_type": "execute_result"
    }
   ],
   "source": [
    "df.groupby(\"department\").first()[\"emp_id\"]"
   ]
  },
  {
   "cell_type": "markdown",
   "metadata": {},
   "source": [
    "Wir gehen deshalb von folgender Zuordnung aus:"
   ]
  },
  {
   "cell_type": "code",
   "execution_count": 17,
   "metadata": {
    "ExecuteTime": {
     "end_time": "2022-02-23T10:22:46.704709Z",
     "start_time": "2022-02-23T10:22:46.689710Z"
    }
   },
   "outputs": [],
   "source": [
    "id_dept_mapping = {\n",
    "    \"HR\":\"HR\",\n",
    "    \"MKT\":\"Marketing\",\n",
    "    \"PUR\":\"Purchasing\",\n",
    "    \"SAL\":\"Sales\",\n",
    "    \"TECH\":\"Technology\"\n",
    "}"
   ]
  },
  {
   "cell_type": "markdown",
   "metadata": {},
   "source": [
    "Den Buchstaben folgt dann immer eine eindeutige Nummer, der Aufbau ist also \\<dept_id\\>\\<employee_number\\>.\n",
    "\n",
    "Wir wollen prüfen, ob dieses Muster für alle Angestellten konsistent ist. Dafür verwenden wir die Funktion `check_id`. Diese prüft mittels des oben angegebenen Dictionary `id_dept_mapping`, ob `dept_id` und die Abteilung zusammenpassen. Zur Extraktion der `dept_id` sollen Sie einen regulären Ausdruck erstellen. Prüfen Sie anschließend mithilfe der Funktion `check_id`, ob das Muster für alle Angestellten konsistent ist.\n",
    "\n",
    "*Hinweis: Sie können vom obigen Aufbau ausgehen, bei dem `dept_id` immer aus Buchstaben besteht, während `employee_number` immer Zahlen sein sollen.*"
   ]
  },
  {
   "cell_type": "code",
   "execution_count": 18,
   "metadata": {
    "ExecuteTime": {
     "end_time": "2022-02-23T10:22:46.720714Z",
     "start_time": "2022-02-23T10:22:46.706711Z"
    }
   },
   "outputs": [],
   "source": [
    "import re\n",
    "# Ihre Lösung\n",
    "regular_expression = \"[A-Z]+\" # <- fügen Sie hier den entsprechenden regulären Ausdruck ein"
   ]
  },
  {
   "cell_type": "code",
   "execution_count": 19,
   "metadata": {
    "ExecuteTime": {
     "end_time": "2022-02-23T10:22:46.735715Z",
     "start_time": "2022-02-23T10:22:46.724712Z"
    }
   },
   "outputs": [],
   "source": [
    "def check_id(emp_id, department):\n",
    "    dept_id = \"\".join(re.findall(regular_expression, emp_id))\n",
    "    return id_dept_mapping.get(dept_id) == department"
   ]
  },
  {
   "cell_type": "code",
   "execution_count": 20,
   "metadata": {
    "ExecuteTime": {
     "end_time": "2022-02-23T10:22:46.767710Z",
     "start_time": "2022-02-23T10:22:46.737712Z"
    }
   },
   "outputs": [
    {
     "data": {
      "text/plain": [
       "True"
      ]
     },
     "execution_count": 20,
     "metadata": {},
     "output_type": "execute_result"
    }
   ],
   "source": [
    "# Ist der Check für alle Zeilen des Datensatzes erfolgreich?\n",
    "df.apply(lambda x: check_id(x[\"emp_id\"], x[\"department\"]), axis=1).all()\n",
    "# x here is row\n"
   ]
  },
  {
   "cell_type": "markdown",
   "metadata": {},
   "source": [
    "## Fehlende Werte\n",
    "Oft kommt es vor, dass in Daten Werte fehlen. Dies kann unterschiedlichste Gründe haben, z.B. kann ein Wert bewusst weggelassen werden (bpsw. der Titel in einer Anrede) oder Daten können nicht korrekt übertragen werden. Für viele Analysen ist es jedoch wichtig, dass es keine fehlenden Werte gibt.\n",
    "\n",
    "Das Ersetzen von fehlenden Werten wird als *(Missing Value) Imputation* bezeichnet. Hierfür gibt es verschiedene Strategien:\n",
    "- Korrekten Wert ermitteln: Im besten Fall kann der korrekte Wert ermittelt werden, bspw. durch Rücksprache mit (Fach-)Expert\\*innen. Dies ist jedoch nur selten der Fall und häufig mit großem Aufwand verbunden.\n",
    "- Zeilen mit fehlenden Werten löschen: Fehlen wenige, einzelne Werte, kann es u.U. sinnvoll sein, die entsprechenden Zeilen zu löschen. Hierbei muss jedoch darauf geachtet werden, dass nicht zu viele Informationen verloren gehen.\n",
    "- Spalte mit fehlenden Werten löschen: Fehlen in einer Spalte so viele Werte, dass diese keine Aussagekraft mehr hat, kann es sinnvoll sein, die gesamte Spalte zu entfernen.\n",
    "- Neuen Wert einsetzen:\n",
    "    - Neue Kategorie: Bei nominalen Werten kann eine neue Kategorie (z.B. \"Unbekannt\") eingeführt werden.\n",
    "    - Mode Imputation: Die fehlenden Werte werden durch den am häufigst vorkommenden Wert ersetzt.\n",
    "    - Mean Imputation: Die fehlenden Werte werden durch den Mittelwert ersetzt.\n",
    "    - Median Imputation: Die fehlenden Werte werden durch den Median ersetzt.\n",
    "    - Mode, Mean und Median Imputation können auch basierend auf den Werten einer anderen Spalte vorgenommen werden (in unserem Fall z.B. für zufriedene und unzufriedene Angestellte getrennt).\n",
    "    - Imputation mit 0 oder einem anderen konstanten Wert: Die fehlenden Werte werden durch eine 0 oder eine andere, je nach Anwendungsfall passende, Konstante ersetzt.\n",
    "    - Modell-basierte Imputation: Es wird ein Machine-Learning-Modell trainiert, das die fehlenden Werte vorhersagt.\n",
    "    - Zusätzlich zu den genannten Strategien ist es möglich, ein neues Feature zu erstellen, das kennzeichnet, ob eine Imputation vorgenommen wurde (=1) oder nicht (=0)."
   ]
  },
  {
   "cell_type": "markdown",
   "metadata": {},
   "source": [
    "Wir bleiben bei der Spalte `gender`, hier gibt es fehlende Werte."
   ]
  },
  {
   "cell_type": "code",
   "execution_count": 21,
   "metadata": {
    "ExecuteTime": {
     "end_time": "2022-02-23T10:22:46.796381Z",
     "start_time": "2022-02-23T10:22:46.770711Z"
    }
   },
   "outputs": [
    {
     "data": {
      "text/plain": [
       "3"
      ]
     },
     "execution_count": 21,
     "metadata": {},
     "output_type": "execute_result"
    }
   ],
   "source": [
    "df[\"gender\"].isna().sum()"
   ]
  },
  {
   "cell_type": "markdown",
   "metadata": {},
   "source": [
    "Wählen Sie eine geeignete Strategie zur *Imputation*, also der Ersetzung der fehlenden Werte. Begründen Sie Ihre Entscheidung!"
   ]
  },
  {
   "cell_type": "raw",
   "metadata": {},
   "source": [
    "Ihre Begründung:\n",
    "In diesem Datensatz ist das Geschlecht lediglich binär kodiert, diverse Personen werden\n",
    "nicht berücksichtigt. Es ist also denkbar, dass die fehlenden Werte dadurch entstanden\n",
    "sind, dass diese Personen bei der Frage nach dem Geschlecht sich weder weiblich noch\n",
    "männlich zugeordnet haben und deshalb keine Angabe gemacht haben. Es ist auch denkbar,\n",
    "dass Personen ihr Geschlecht nicht angeben, weil sie als Folge Nachteile befürchten.\n",
    "Natürlich kann es auch sein, dass die Angabe des Geschlechts lediglich vergessen wurde\n",
    "oder, wenn eine Befragung auf Papier stattgefunden hat, die Informationen bei der Ü\n",
    "bertragung in die digitale Form verloren gegangen sind. Es liegen uns nicht genügend\n",
    "Informationen vor, um entscheiden zu können, welcher Wert für die Imputation passend\n",
    "wäre. Aus diesem Grund führen wir eine dritte Kategorie \"Unknown\" ein und ersetzen\n",
    "damit die fehlenden Werte."
   ]
  },
  {
   "cell_type": "code",
   "execution_count": 22,
   "metadata": {
    "ExecuteTime": {
     "end_time": "2022-02-23T10:22:46.812008Z",
     "start_time": "2022-02-23T10:22:46.796381Z"
    }
   },
   "outputs": [],
   "source": [
    "# Ihre Lösung\n",
    "df[\"gender\"] = df[\"gender\"].fillna(\"Unknown\")"
   ]
  },
  {
   "cell_type": "markdown",
   "metadata": {},
   "source": [
    "Auch in der Spalte `last_raise` gibt es fehlende Werte."
   ]
  },
  {
   "cell_type": "code",
   "execution_count": 23,
   "metadata": {
    "ExecuteTime": {
     "end_time": "2022-02-23T10:22:46.827632Z",
     "start_time": "2022-02-23T10:22:46.812008Z"
    }
   },
   "outputs": [
    {
     "data": {
      "text/plain": [
       "474"
      ]
     },
     "execution_count": 23,
     "metadata": {},
     "output_type": "execute_result"
    }
   ],
   "source": [
    "df[\"last_raise\"].isna().sum()"
   ]
  },
  {
   "cell_type": "markdown",
   "metadata": {},
   "source": [
    "Entscheiden Sie sich hier ebenfalls für eine geeignete Imputation-Strategie und begründen Sie Ihre Wahl."
   ]
  },
  {
   "cell_type": "raw",
   "metadata": {},
   "source": [
    "Ihre Begründung:\n",
    "In dieser Spalte fehlen ca. 95% der Werte. Man könnte die Annahme treffen, dass ein\n",
    "fehlender Wert bedeutet, dass diese Person noch keine Gehaltserhöhung bekommen hat und\n",
    "die fehlenden Werte mit 0.0 ersetzen. Um hier die Plausibilität zu prüfen, könnte man\n",
    "den Zusammenhang zwischen dem Eintrittsdatum und der letzten Gehaltserhöhung prüfen,\n",
    "wenn man davon ausgeht, dass dienstältere Personen eher schon einmal eine\n",
    "Gehaltserhöhung bekommen haben. Alternativ wäre es auch denkbar, die Spalte zu löschen,\n",
    "weil sie nicht genügend Informationen enthält.\n"
   ]
  },
  {
   "cell_type": "code",
   "execution_count": 24,
   "metadata": {
    "ExecuteTime": {
     "end_time": "2022-02-23T10:22:46.866925Z",
     "start_time": "2022-02-23T10:22:46.827632Z"
    }
   },
   "outputs": [
    {
     "data": {
      "text/html": [
       "<div>\n",
       "<style scoped>\n",
       "    .dataframe tbody tr th:only-of-type {\n",
       "        vertical-align: middle;\n",
       "    }\n",
       "\n",
       "    .dataframe tbody tr th {\n",
       "        vertical-align: top;\n",
       "    }\n",
       "\n",
       "    .dataframe thead th {\n",
       "        text-align: right;\n",
       "    }\n",
       "</style>\n",
       "<table border=\"1\" class=\"dataframe\">\n",
       "  <thead>\n",
       "    <tr style=\"text-align: right;\">\n",
       "      <th></th>\n",
       "      <th>emp_id</th>\n",
       "      <th>age</th>\n",
       "      <th>department</th>\n",
       "      <th>education</th>\n",
       "      <th>recruitment_type</th>\n",
       "      <th>job_level</th>\n",
       "      <th>rating</th>\n",
       "      <th>awards</th>\n",
       "      <th>certifications</th>\n",
       "      <th>salary</th>\n",
       "      <th>gender</th>\n",
       "      <th>entry_date</th>\n",
       "      <th>last_raise</th>\n",
       "      <th>satisfied</th>\n",
       "    </tr>\n",
       "  </thead>\n",
       "  <tbody>\n",
       "    <tr>\n",
       "      <th>386</th>\n",
       "      <td>TECH8253</td>\n",
       "      <td>48</td>\n",
       "      <td>Technology</td>\n",
       "      <td>Undergrad</td>\n",
       "      <td>Referral</td>\n",
       "      <td>5</td>\n",
       "      <td>5.0</td>\n",
       "      <td>4</td>\n",
       "      <td>1</td>\n",
       "      <td>78075.0</td>\n",
       "      <td>Male</td>\n",
       "      <td>2004-01-05</td>\n",
       "      <td>0.07</td>\n",
       "      <td>1</td>\n",
       "    </tr>\n",
       "    <tr>\n",
       "      <th>45</th>\n",
       "      <td>PUR8099</td>\n",
       "      <td>36</td>\n",
       "      <td>Purchasing</td>\n",
       "      <td>Undergrad</td>\n",
       "      <td>On-Campus</td>\n",
       "      <td>5</td>\n",
       "      <td>5.0</td>\n",
       "      <td>4</td>\n",
       "      <td>0</td>\n",
       "      <td>78075.0</td>\n",
       "      <td>Female</td>\n",
       "      <td>2004-01-16</td>\n",
       "      <td>0.04</td>\n",
       "      <td>1</td>\n",
       "    </tr>\n",
       "    <tr>\n",
       "      <th>360</th>\n",
       "      <td>MKT1830</td>\n",
       "      <td>40</td>\n",
       "      <td>Marketing</td>\n",
       "      <td>Postgraduate</td>\n",
       "      <td>Walk-in</td>\n",
       "      <td>5</td>\n",
       "      <td>1.0</td>\n",
       "      <td>8</td>\n",
       "      <td>1</td>\n",
       "      <td>78075.0</td>\n",
       "      <td>Male</td>\n",
       "      <td>2004-01-20</td>\n",
       "      <td>0.08</td>\n",
       "      <td>0</td>\n",
       "    </tr>\n",
       "    <tr>\n",
       "      <th>161</th>\n",
       "      <td>MKT2636</td>\n",
       "      <td>34</td>\n",
       "      <td>Marketing</td>\n",
       "      <td>Postgraduate</td>\n",
       "      <td>On-Campus</td>\n",
       "      <td>2</td>\n",
       "      <td>2.0</td>\n",
       "      <td>8</td>\n",
       "      <td>0</td>\n",
       "      <td>26824.5</td>\n",
       "      <td>Female</td>\n",
       "      <td>2004-01-20</td>\n",
       "      <td>0.10</td>\n",
       "      <td>0</td>\n",
       "    </tr>\n",
       "    <tr>\n",
       "      <th>375</th>\n",
       "      <td>PUR4672</td>\n",
       "      <td>40</td>\n",
       "      <td>Purchasing</td>\n",
       "      <td>Postgraduate</td>\n",
       "      <td>Referral</td>\n",
       "      <td>2</td>\n",
       "      <td>3.0</td>\n",
       "      <td>2</td>\n",
       "      <td>1</td>\n",
       "      <td>26824.5</td>\n",
       "      <td>Male</td>\n",
       "      <td>2004-01-22</td>\n",
       "      <td>0.02</td>\n",
       "      <td>1</td>\n",
       "    </tr>\n",
       "    <tr>\n",
       "      <th>134</th>\n",
       "      <td>HR4627</td>\n",
       "      <td>44</td>\n",
       "      <td>HR</td>\n",
       "      <td>Undergrad</td>\n",
       "      <td>Referral</td>\n",
       "      <td>2</td>\n",
       "      <td>4.0</td>\n",
       "      <td>8</td>\n",
       "      <td>0</td>\n",
       "      <td>26824.5</td>\n",
       "      <td>Male</td>\n",
       "      <td>2004-02-24</td>\n",
       "      <td>0.01</td>\n",
       "      <td>1</td>\n",
       "    </tr>\n",
       "    <tr>\n",
       "      <th>9</th>\n",
       "      <td>TECH9322</td>\n",
       "      <td>45</td>\n",
       "      <td>Technology</td>\n",
       "      <td>Postgraduate</td>\n",
       "      <td>Referral</td>\n",
       "      <td>3</td>\n",
       "      <td>3.0</td>\n",
       "      <td>9</td>\n",
       "      <td>0</td>\n",
       "      <td>38177.1</td>\n",
       "      <td>Female</td>\n",
       "      <td>2004-03-19</td>\n",
       "      <td>0.07</td>\n",
       "      <td>0</td>\n",
       "    </tr>\n",
       "    <tr>\n",
       "      <th>274</th>\n",
       "      <td>TECH4444</td>\n",
       "      <td>39</td>\n",
       "      <td>Technology</td>\n",
       "      <td>Undergrad</td>\n",
       "      <td>On-Campus</td>\n",
       "      <td>2</td>\n",
       "      <td>3.0</td>\n",
       "      <td>3</td>\n",
       "      <td>1</td>\n",
       "      <td>26824.5</td>\n",
       "      <td>Female</td>\n",
       "      <td>2004-04-13</td>\n",
       "      <td>0.08</td>\n",
       "      <td>1</td>\n",
       "    </tr>\n",
       "    <tr>\n",
       "      <th>389</th>\n",
       "      <td>PUR3141</td>\n",
       "      <td>37</td>\n",
       "      <td>Purchasing</td>\n",
       "      <td>Postgraduate</td>\n",
       "      <td>Walk-in</td>\n",
       "      <td>2</td>\n",
       "      <td>5.0</td>\n",
       "      <td>8</td>\n",
       "      <td>1</td>\n",
       "      <td>26824.5</td>\n",
       "      <td>Female</td>\n",
       "      <td>2004-04-17</td>\n",
       "      <td>0.02</td>\n",
       "      <td>1</td>\n",
       "    </tr>\n",
       "    <tr>\n",
       "      <th>239</th>\n",
       "      <td>HR5433</td>\n",
       "      <td>38</td>\n",
       "      <td>HR</td>\n",
       "      <td>Undergrad</td>\n",
       "      <td>On-Campus</td>\n",
       "      <td>3</td>\n",
       "      <td>3.0</td>\n",
       "      <td>3</td>\n",
       "      <td>1</td>\n",
       "      <td>38177.1</td>\n",
       "      <td>Male</td>\n",
       "      <td>2004-04-19</td>\n",
       "      <td>0.04</td>\n",
       "      <td>1</td>\n",
       "    </tr>\n",
       "    <tr>\n",
       "      <th>5</th>\n",
       "      <td>PUR7265</td>\n",
       "      <td>40</td>\n",
       "      <td>Purchasing</td>\n",
       "      <td>Undergrad</td>\n",
       "      <td>Walk-in</td>\n",
       "      <td>3</td>\n",
       "      <td>3.0</td>\n",
       "      <td>7</td>\n",
       "      <td>1</td>\n",
       "      <td>38177.1</td>\n",
       "      <td>Male</td>\n",
       "      <td>2004-04-22</td>\n",
       "      <td>0.02</td>\n",
       "      <td>1</td>\n",
       "    </tr>\n",
       "    <tr>\n",
       "      <th>235</th>\n",
       "      <td>HR1098</td>\n",
       "      <td>53</td>\n",
       "      <td>HR</td>\n",
       "      <td>Postgraduate</td>\n",
       "      <td>Walk-in</td>\n",
       "      <td>4</td>\n",
       "      <td>5.0</td>\n",
       "      <td>3</td>\n",
       "      <td>1</td>\n",
       "      <td>59143.5</td>\n",
       "      <td>Female</td>\n",
       "      <td>2004-06-01</td>\n",
       "      <td>0.09</td>\n",
       "      <td>0</td>\n",
       "    </tr>\n",
       "    <tr>\n",
       "      <th>309</th>\n",
       "      <td>MKT8343</td>\n",
       "      <td>46</td>\n",
       "      <td>Marketing</td>\n",
       "      <td>Undergrad</td>\n",
       "      <td>Walk-in</td>\n",
       "      <td>1</td>\n",
       "      <td>2.0</td>\n",
       "      <td>4</td>\n",
       "      <td>0</td>\n",
       "      <td>21668.4</td>\n",
       "      <td>Male</td>\n",
       "      <td>2004-06-08</td>\n",
       "      <td>0.01</td>\n",
       "      <td>1</td>\n",
       "    </tr>\n",
       "    <tr>\n",
       "      <th>157</th>\n",
       "      <td>TECH2291</td>\n",
       "      <td>36</td>\n",
       "      <td>Technology</td>\n",
       "      <td>Undergrad</td>\n",
       "      <td>Walk-in</td>\n",
       "      <td>2</td>\n",
       "      <td>3.0</td>\n",
       "      <td>0</td>\n",
       "      <td>1</td>\n",
       "      <td>26824.5</td>\n",
       "      <td>Female</td>\n",
       "      <td>2004-06-20</td>\n",
       "      <td>0.04</td>\n",
       "      <td>1</td>\n",
       "    </tr>\n",
       "    <tr>\n",
       "      <th>469</th>\n",
       "      <td>TECH5171</td>\n",
       "      <td>48</td>\n",
       "      <td>Technology</td>\n",
       "      <td>Postgraduate</td>\n",
       "      <td>Walk-in</td>\n",
       "      <td>1</td>\n",
       "      <td>2.0</td>\n",
       "      <td>7</td>\n",
       "      <td>0</td>\n",
       "      <td>21668.4</td>\n",
       "      <td>Male</td>\n",
       "      <td>2004-07-05</td>\n",
       "      <td>0.05</td>\n",
       "      <td>1</td>\n",
       "    </tr>\n",
       "    <tr>\n",
       "      <th>308</th>\n",
       "      <td>HR8560</td>\n",
       "      <td>41</td>\n",
       "      <td>HR</td>\n",
       "      <td>Postgraduate</td>\n",
       "      <td>Referral</td>\n",
       "      <td>2</td>\n",
       "      <td>2.0</td>\n",
       "      <td>3</td>\n",
       "      <td>1</td>\n",
       "      <td>26824.5</td>\n",
       "      <td>Female</td>\n",
       "      <td>2004-07-05</td>\n",
       "      <td>0.05</td>\n",
       "      <td>1</td>\n",
       "    </tr>\n",
       "    <tr>\n",
       "      <th>132</th>\n",
       "      <td>PUR6915</td>\n",
       "      <td>54</td>\n",
       "      <td>Purchasing</td>\n",
       "      <td>Undergrad</td>\n",
       "      <td>Walk-in</td>\n",
       "      <td>3</td>\n",
       "      <td>3.0</td>\n",
       "      <td>0</td>\n",
       "      <td>0</td>\n",
       "      <td>38177.1</td>\n",
       "      <td>Male</td>\n",
       "      <td>2004-07-13</td>\n",
       "      <td>0.05</td>\n",
       "      <td>0</td>\n",
       "    </tr>\n",
       "    <tr>\n",
       "      <th>151</th>\n",
       "      <td>PUR2495</td>\n",
       "      <td>54</td>\n",
       "      <td>Purchasing</td>\n",
       "      <td>Postgraduate</td>\n",
       "      <td>Walk-in</td>\n",
       "      <td>5</td>\n",
       "      <td>3.0</td>\n",
       "      <td>4</td>\n",
       "      <td>0</td>\n",
       "      <td>78075.0</td>\n",
       "      <td>Male</td>\n",
       "      <td>2004-07-15</td>\n",
       "      <td>0.05</td>\n",
       "      <td>1</td>\n",
       "    </tr>\n",
       "    <tr>\n",
       "      <th>478</th>\n",
       "      <td>TECH8266</td>\n",
       "      <td>46</td>\n",
       "      <td>Technology</td>\n",
       "      <td>Postgraduate</td>\n",
       "      <td>On-Campus</td>\n",
       "      <td>5</td>\n",
       "      <td>2.0</td>\n",
       "      <td>9</td>\n",
       "      <td>0</td>\n",
       "      <td>78075.0</td>\n",
       "      <td>Male</td>\n",
       "      <td>2004-08-14</td>\n",
       "      <td>0.05</td>\n",
       "      <td>1</td>\n",
       "    </tr>\n",
       "    <tr>\n",
       "      <th>39</th>\n",
       "      <td>SAL9433</td>\n",
       "      <td>39</td>\n",
       "      <td>Sales</td>\n",
       "      <td>Undergrad</td>\n",
       "      <td>Walk-in</td>\n",
       "      <td>2</td>\n",
       "      <td>1.0</td>\n",
       "      <td>1</td>\n",
       "      <td>1</td>\n",
       "      <td>26824.5</td>\n",
       "      <td>Female</td>\n",
       "      <td>2004-08-19</td>\n",
       "      <td>0.01</td>\n",
       "      <td>1</td>\n",
       "    </tr>\n",
       "    <tr>\n",
       "      <th>94</th>\n",
       "      <td>HR4104</td>\n",
       "      <td>36</td>\n",
       "      <td>HR</td>\n",
       "      <td>Undergrad</td>\n",
       "      <td>Walk-in</td>\n",
       "      <td>1</td>\n",
       "      <td>1.0</td>\n",
       "      <td>0</td>\n",
       "      <td>1</td>\n",
       "      <td>21668.4</td>\n",
       "      <td>Female</td>\n",
       "      <td>2004-08-26</td>\n",
       "      <td>0.09</td>\n",
       "      <td>1</td>\n",
       "    </tr>\n",
       "    <tr>\n",
       "      <th>95</th>\n",
       "      <td>HR8215</td>\n",
       "      <td>44</td>\n",
       "      <td>HR</td>\n",
       "      <td>Undergrad</td>\n",
       "      <td>Referral</td>\n",
       "      <td>4</td>\n",
       "      <td>4.0</td>\n",
       "      <td>5</td>\n",
       "      <td>1</td>\n",
       "      <td>59143.5</td>\n",
       "      <td>Female</td>\n",
       "      <td>2004-09-07</td>\n",
       "      <td>0.05</td>\n",
       "      <td>0</td>\n",
       "    </tr>\n",
       "    <tr>\n",
       "      <th>482</th>\n",
       "      <td>MKT8651</td>\n",
       "      <td>38</td>\n",
       "      <td>Marketing</td>\n",
       "      <td>Postgraduate</td>\n",
       "      <td>Walk-in</td>\n",
       "      <td>5</td>\n",
       "      <td>2.0</td>\n",
       "      <td>6</td>\n",
       "      <td>0</td>\n",
       "      <td>78075.0</td>\n",
       "      <td>Female</td>\n",
       "      <td>2004-09-16</td>\n",
       "      <td>0.01</td>\n",
       "      <td>1</td>\n",
       "    </tr>\n",
       "    <tr>\n",
       "      <th>453</th>\n",
       "      <td>TECH8357</td>\n",
       "      <td>45</td>\n",
       "      <td>Technology</td>\n",
       "      <td>Postgraduate</td>\n",
       "      <td>Walk-in</td>\n",
       "      <td>2</td>\n",
       "      <td>3.0</td>\n",
       "      <td>0</td>\n",
       "      <td>0</td>\n",
       "      <td>26824.5</td>\n",
       "      <td>Male</td>\n",
       "      <td>2004-10-04</td>\n",
       "      <td>0.09</td>\n",
       "      <td>1</td>\n",
       "    </tr>\n",
       "    <tr>\n",
       "      <th>148</th>\n",
       "      <td>HR1663</td>\n",
       "      <td>35</td>\n",
       "      <td>HR</td>\n",
       "      <td>Undergrad</td>\n",
       "      <td>Walk-in</td>\n",
       "      <td>2</td>\n",
       "      <td>5.0</td>\n",
       "      <td>7</td>\n",
       "      <td>0</td>\n",
       "      <td>26824.5</td>\n",
       "      <td>Male</td>\n",
       "      <td>2004-10-30</td>\n",
       "      <td>0.08</td>\n",
       "      <td>1</td>\n",
       "    </tr>\n",
       "    <tr>\n",
       "      <th>203</th>\n",
       "      <td>PUR2959</td>\n",
       "      <td>43</td>\n",
       "      <td>Purchasing</td>\n",
       "      <td>Postgraduate</td>\n",
       "      <td>Recruitment Agency</td>\n",
       "      <td>4</td>\n",
       "      <td>1.0</td>\n",
       "      <td>0</td>\n",
       "      <td>1</td>\n",
       "      <td>59143.5</td>\n",
       "      <td>Male</td>\n",
       "      <td>2004-10-30</td>\n",
       "      <td>0.01</td>\n",
       "      <td>0</td>\n",
       "    </tr>\n",
       "    <tr>\n",
       "      <th>198</th>\n",
       "      <td>SAL3911</td>\n",
       "      <td>44</td>\n",
       "      <td>Sales</td>\n",
       "      <td>Postgraduate</td>\n",
       "      <td>On-Campus</td>\n",
       "      <td>3</td>\n",
       "      <td>1.0</td>\n",
       "      <td>1</td>\n",
       "      <td>1</td>\n",
       "      <td>38177.1</td>\n",
       "      <td>Female</td>\n",
       "      <td>2004-11-13</td>\n",
       "      <td>NaN</td>\n",
       "      <td>1</td>\n",
       "    </tr>\n",
       "    <tr>\n",
       "      <th>345</th>\n",
       "      <td>TECH6222</td>\n",
       "      <td>34</td>\n",
       "      <td>Technology</td>\n",
       "      <td>Postgraduate</td>\n",
       "      <td>Walk-in</td>\n",
       "      <td>3</td>\n",
       "      <td>1.0</td>\n",
       "      <td>7</td>\n",
       "      <td>1</td>\n",
       "      <td>38177.1</td>\n",
       "      <td>Female</td>\n",
       "      <td>2004-12-03</td>\n",
       "      <td>NaN</td>\n",
       "      <td>0</td>\n",
       "    </tr>\n",
       "    <tr>\n",
       "      <th>414</th>\n",
       "      <td>HR6387</td>\n",
       "      <td>41</td>\n",
       "      <td>HR</td>\n",
       "      <td>Undergrad</td>\n",
       "      <td>Walk-in</td>\n",
       "      <td>1</td>\n",
       "      <td>1.0</td>\n",
       "      <td>4</td>\n",
       "      <td>1</td>\n",
       "      <td>21668.4</td>\n",
       "      <td>Female</td>\n",
       "      <td>2005-01-12</td>\n",
       "      <td>NaN</td>\n",
       "      <td>1</td>\n",
       "    </tr>\n",
       "    <tr>\n",
       "      <th>358</th>\n",
       "      <td>HR5752</td>\n",
       "      <td>33</td>\n",
       "      <td>HR</td>\n",
       "      <td>Postgraduate</td>\n",
       "      <td>Walk-in</td>\n",
       "      <td>1</td>\n",
       "      <td>5.0</td>\n",
       "      <td>4</td>\n",
       "      <td>0</td>\n",
       "      <td>21668.4</td>\n",
       "      <td>Male</td>\n",
       "      <td>2005-02-12</td>\n",
       "      <td>NaN</td>\n",
       "      <td>1</td>\n",
       "    </tr>\n",
       "    <tr>\n",
       "      <th>50</th>\n",
       "      <td>HR4943</td>\n",
       "      <td>37</td>\n",
       "      <td>HR</td>\n",
       "      <td>Undergrad</td>\n",
       "      <td>Recruitment Agency</td>\n",
       "      <td>5</td>\n",
       "      <td>4.0</td>\n",
       "      <td>5</td>\n",
       "      <td>0</td>\n",
       "      <td>78075.0</td>\n",
       "      <td>Male</td>\n",
       "      <td>2005-02-24</td>\n",
       "      <td>NaN</td>\n",
       "      <td>1</td>\n",
       "    </tr>\n",
       "    <tr>\n",
       "      <th>199</th>\n",
       "      <td>PUR2734</td>\n",
       "      <td>41</td>\n",
       "      <td>Purchasing</td>\n",
       "      <td>Postgraduate</td>\n",
       "      <td>Walk-in</td>\n",
       "      <td>1</td>\n",
       "      <td>3.0</td>\n",
       "      <td>9</td>\n",
       "      <td>0</td>\n",
       "      <td>21668.4</td>\n",
       "      <td>Female</td>\n",
       "      <td>2005-03-12</td>\n",
       "      <td>NaN</td>\n",
       "      <td>1</td>\n",
       "    </tr>\n",
       "    <tr>\n",
       "      <th>455</th>\n",
       "      <td>TECH4766</td>\n",
       "      <td>36</td>\n",
       "      <td>Technology</td>\n",
       "      <td>Postgraduate</td>\n",
       "      <td>Recruitment Agency</td>\n",
       "      <td>2</td>\n",
       "      <td>1.0</td>\n",
       "      <td>3</td>\n",
       "      <td>1</td>\n",
       "      <td>26824.5</td>\n",
       "      <td>Female</td>\n",
       "      <td>2005-03-15</td>\n",
       "      <td>NaN</td>\n",
       "      <td>0</td>\n",
       "    </tr>\n",
       "    <tr>\n",
       "      <th>223</th>\n",
       "      <td>PUR4170</td>\n",
       "      <td>34</td>\n",
       "      <td>Purchasing</td>\n",
       "      <td>Undergrad</td>\n",
       "      <td>Walk-in</td>\n",
       "      <td>2</td>\n",
       "      <td>1.0</td>\n",
       "      <td>5</td>\n",
       "      <td>1</td>\n",
       "      <td>26824.5</td>\n",
       "      <td>Male</td>\n",
       "      <td>2005-03-15</td>\n",
       "      <td>NaN</td>\n",
       "      <td>1</td>\n",
       "    </tr>\n",
       "    <tr>\n",
       "      <th>318</th>\n",
       "      <td>HR7971</td>\n",
       "      <td>40</td>\n",
       "      <td>HR</td>\n",
       "      <td>Postgraduate</td>\n",
       "      <td>Referral</td>\n",
       "      <td>3</td>\n",
       "      <td>3.0</td>\n",
       "      <td>6</td>\n",
       "      <td>1</td>\n",
       "      <td>38177.1</td>\n",
       "      <td>Male</td>\n",
       "      <td>2005-03-30</td>\n",
       "      <td>NaN</td>\n",
       "      <td>1</td>\n",
       "    </tr>\n",
       "    <tr>\n",
       "      <th>207</th>\n",
       "      <td>MKT5736</td>\n",
       "      <td>35</td>\n",
       "      <td>Marketing</td>\n",
       "      <td>Undergrad</td>\n",
       "      <td>Referral</td>\n",
       "      <td>4</td>\n",
       "      <td>1.0</td>\n",
       "      <td>8</td>\n",
       "      <td>1</td>\n",
       "      <td>59143.5</td>\n",
       "      <td>Female</td>\n",
       "      <td>2005-04-19</td>\n",
       "      <td>NaN</td>\n",
       "      <td>1</td>\n",
       "    </tr>\n",
       "    <tr>\n",
       "      <th>456</th>\n",
       "      <td>HR6644</td>\n",
       "      <td>34</td>\n",
       "      <td>HR</td>\n",
       "      <td>Postgraduate</td>\n",
       "      <td>On-Campus</td>\n",
       "      <td>2</td>\n",
       "      <td>2.0</td>\n",
       "      <td>2</td>\n",
       "      <td>1</td>\n",
       "      <td>26824.5</td>\n",
       "      <td>Male</td>\n",
       "      <td>2005-04-27</td>\n",
       "      <td>NaN</td>\n",
       "      <td>1</td>\n",
       "    </tr>\n",
       "    <tr>\n",
       "      <th>272</th>\n",
       "      <td>HR3205</td>\n",
       "      <td>35</td>\n",
       "      <td>HR</td>\n",
       "      <td>Undergrad</td>\n",
       "      <td>Referral</td>\n",
       "      <td>3</td>\n",
       "      <td>3.0</td>\n",
       "      <td>0</td>\n",
       "      <td>0</td>\n",
       "      <td>38177.1</td>\n",
       "      <td>Female</td>\n",
       "      <td>2005-05-29</td>\n",
       "      <td>NaN</td>\n",
       "      <td>1</td>\n",
       "    </tr>\n",
       "    <tr>\n",
       "      <th>395</th>\n",
       "      <td>HR6881</td>\n",
       "      <td>40</td>\n",
       "      <td>HR</td>\n",
       "      <td>Postgraduate</td>\n",
       "      <td>Referral</td>\n",
       "      <td>3</td>\n",
       "      <td>4.0</td>\n",
       "      <td>4</td>\n",
       "      <td>1</td>\n",
       "      <td>38177.1</td>\n",
       "      <td>Male</td>\n",
       "      <td>2005-06-05</td>\n",
       "      <td>NaN</td>\n",
       "      <td>1</td>\n",
       "    </tr>\n",
       "    <tr>\n",
       "      <th>366</th>\n",
       "      <td>PUR2150</td>\n",
       "      <td>54</td>\n",
       "      <td>Purchasing</td>\n",
       "      <td>Postgraduate</td>\n",
       "      <td>Referral</td>\n",
       "      <td>4</td>\n",
       "      <td>2.0</td>\n",
       "      <td>8</td>\n",
       "      <td>0</td>\n",
       "      <td>59143.5</td>\n",
       "      <td>Male</td>\n",
       "      <td>2005-06-25</td>\n",
       "      <td>NaN</td>\n",
       "      <td>0</td>\n",
       "    </tr>\n",
       "    <tr>\n",
       "      <th>196</th>\n",
       "      <td>HR2986</td>\n",
       "      <td>37</td>\n",
       "      <td>HR</td>\n",
       "      <td>Undergrad</td>\n",
       "      <td>On-Campus</td>\n",
       "      <td>3</td>\n",
       "      <td>5.0</td>\n",
       "      <td>5</td>\n",
       "      <td>1</td>\n",
       "      <td>38177.1</td>\n",
       "      <td>Female</td>\n",
       "      <td>2005-06-25</td>\n",
       "      <td>NaN</td>\n",
       "      <td>1</td>\n",
       "    </tr>\n",
       "    <tr>\n",
       "      <th>493</th>\n",
       "      <td>MKT6334</td>\n",
       "      <td>41</td>\n",
       "      <td>Marketing</td>\n",
       "      <td>Undergrad</td>\n",
       "      <td>Walk-in</td>\n",
       "      <td>5</td>\n",
       "      <td>4.0</td>\n",
       "      <td>2</td>\n",
       "      <td>0</td>\n",
       "      <td>78075.0</td>\n",
       "      <td>Male</td>\n",
       "      <td>2005-07-22</td>\n",
       "      <td>NaN</td>\n",
       "      <td>0</td>\n",
       "    </tr>\n",
       "    <tr>\n",
       "      <th>63</th>\n",
       "      <td>SAL8869</td>\n",
       "      <td>52</td>\n",
       "      <td>Sales</td>\n",
       "      <td>Postgraduate</td>\n",
       "      <td>Referral</td>\n",
       "      <td>5</td>\n",
       "      <td>4.0</td>\n",
       "      <td>1</td>\n",
       "      <td>1</td>\n",
       "      <td>78075.0</td>\n",
       "      <td>Male</td>\n",
       "      <td>2005-08-13</td>\n",
       "      <td>NaN</td>\n",
       "      <td>1</td>\n",
       "    </tr>\n",
       "    <tr>\n",
       "      <th>290</th>\n",
       "      <td>SAL9319</td>\n",
       "      <td>45</td>\n",
       "      <td>Sales</td>\n",
       "      <td>Undergrad</td>\n",
       "      <td>On-Campus</td>\n",
       "      <td>4</td>\n",
       "      <td>3.0</td>\n",
       "      <td>1</td>\n",
       "      <td>0</td>\n",
       "      <td>59143.5</td>\n",
       "      <td>Male</td>\n",
       "      <td>2005-08-21</td>\n",
       "      <td>NaN</td>\n",
       "      <td>1</td>\n",
       "    </tr>\n",
       "    <tr>\n",
       "      <th>99</th>\n",
       "      <td>PUR9154</td>\n",
       "      <td>32</td>\n",
       "      <td>Purchasing</td>\n",
       "      <td>Postgraduate</td>\n",
       "      <td>Referral</td>\n",
       "      <td>5</td>\n",
       "      <td>4.0</td>\n",
       "      <td>3</td>\n",
       "      <td>0</td>\n",
       "      <td>78075.0</td>\n",
       "      <td>Male</td>\n",
       "      <td>2005-08-27</td>\n",
       "      <td>NaN</td>\n",
       "      <td>1</td>\n",
       "    </tr>\n",
       "    <tr>\n",
       "      <th>355</th>\n",
       "      <td>PUR5465</td>\n",
       "      <td>52</td>\n",
       "      <td>Purchasing</td>\n",
       "      <td>Postgraduate</td>\n",
       "      <td>Referral</td>\n",
       "      <td>1</td>\n",
       "      <td>2.0</td>\n",
       "      <td>7</td>\n",
       "      <td>0</td>\n",
       "      <td>21668.4</td>\n",
       "      <td>Female</td>\n",
       "      <td>2005-09-16</td>\n",
       "      <td>NaN</td>\n",
       "      <td>1</td>\n",
       "    </tr>\n",
       "    <tr>\n",
       "      <th>176</th>\n",
       "      <td>TECH4510</td>\n",
       "      <td>36</td>\n",
       "      <td>Technology</td>\n",
       "      <td>Postgraduate</td>\n",
       "      <td>Referral</td>\n",
       "      <td>2</td>\n",
       "      <td>5.0</td>\n",
       "      <td>8</td>\n",
       "      <td>1</td>\n",
       "      <td>26824.5</td>\n",
       "      <td>Female</td>\n",
       "      <td>2005-10-02</td>\n",
       "      <td>NaN</td>\n",
       "      <td>1</td>\n",
       "    </tr>\n",
       "    <tr>\n",
       "      <th>346</th>\n",
       "      <td>TECH6315</td>\n",
       "      <td>53</td>\n",
       "      <td>Technology</td>\n",
       "      <td>Undergrad</td>\n",
       "      <td>Referral</td>\n",
       "      <td>4</td>\n",
       "      <td>4.0</td>\n",
       "      <td>7</td>\n",
       "      <td>0</td>\n",
       "      <td>59143.5</td>\n",
       "      <td>Female</td>\n",
       "      <td>2005-10-07</td>\n",
       "      <td>NaN</td>\n",
       "      <td>1</td>\n",
       "    </tr>\n",
       "    <tr>\n",
       "      <th>25</th>\n",
       "      <td>SAL3747</td>\n",
       "      <td>53</td>\n",
       "      <td>Sales</td>\n",
       "      <td>Postgraduate</td>\n",
       "      <td>Walk-in</td>\n",
       "      <td>4</td>\n",
       "      <td>5.0</td>\n",
       "      <td>8</td>\n",
       "      <td>1</td>\n",
       "      <td>59143.5</td>\n",
       "      <td>Female</td>\n",
       "      <td>2005-10-08</td>\n",
       "      <td>NaN</td>\n",
       "      <td>1</td>\n",
       "    </tr>\n",
       "    <tr>\n",
       "      <th>40</th>\n",
       "      <td>SAL8513</td>\n",
       "      <td>34</td>\n",
       "      <td>Sales</td>\n",
       "      <td>Postgraduate</td>\n",
       "      <td>On-Campus</td>\n",
       "      <td>4</td>\n",
       "      <td>5.0</td>\n",
       "      <td>2</td>\n",
       "      <td>0</td>\n",
       "      <td>59143.5</td>\n",
       "      <td>Male</td>\n",
       "      <td>2005-10-15</td>\n",
       "      <td>NaN</td>\n",
       "      <td>1</td>\n",
       "    </tr>\n",
       "  </tbody>\n",
       "</table>\n",
       "</div>"
      ],
      "text/plain": [
       "       emp_id  age  department     education    recruitment_type  job_level   \n",
       "386  TECH8253   48  Technology     Undergrad            Referral          5  \\\n",
       "45    PUR8099   36  Purchasing     Undergrad           On-Campus          5   \n",
       "360   MKT1830   40   Marketing  Postgraduate             Walk-in          5   \n",
       "161   MKT2636   34   Marketing  Postgraduate           On-Campus          2   \n",
       "375   PUR4672   40  Purchasing  Postgraduate            Referral          2   \n",
       "134    HR4627   44          HR     Undergrad            Referral          2   \n",
       "9    TECH9322   45  Technology  Postgraduate            Referral          3   \n",
       "274  TECH4444   39  Technology     Undergrad           On-Campus          2   \n",
       "389   PUR3141   37  Purchasing  Postgraduate             Walk-in          2   \n",
       "239    HR5433   38          HR     Undergrad           On-Campus          3   \n",
       "5     PUR7265   40  Purchasing     Undergrad             Walk-in          3   \n",
       "235    HR1098   53          HR  Postgraduate             Walk-in          4   \n",
       "309   MKT8343   46   Marketing     Undergrad             Walk-in          1   \n",
       "157  TECH2291   36  Technology     Undergrad             Walk-in          2   \n",
       "469  TECH5171   48  Technology  Postgraduate             Walk-in          1   \n",
       "308    HR8560   41          HR  Postgraduate            Referral          2   \n",
       "132   PUR6915   54  Purchasing     Undergrad             Walk-in          3   \n",
       "151   PUR2495   54  Purchasing  Postgraduate             Walk-in          5   \n",
       "478  TECH8266   46  Technology  Postgraduate           On-Campus          5   \n",
       "39    SAL9433   39       Sales     Undergrad             Walk-in          2   \n",
       "94     HR4104   36          HR     Undergrad             Walk-in          1   \n",
       "95     HR8215   44          HR     Undergrad            Referral          4   \n",
       "482   MKT8651   38   Marketing  Postgraduate             Walk-in          5   \n",
       "453  TECH8357   45  Technology  Postgraduate             Walk-in          2   \n",
       "148    HR1663   35          HR     Undergrad             Walk-in          2   \n",
       "203   PUR2959   43  Purchasing  Postgraduate  Recruitment Agency          4   \n",
       "198   SAL3911   44       Sales  Postgraduate           On-Campus          3   \n",
       "345  TECH6222   34  Technology  Postgraduate             Walk-in          3   \n",
       "414    HR6387   41          HR     Undergrad             Walk-in          1   \n",
       "358    HR5752   33          HR  Postgraduate             Walk-in          1   \n",
       "50     HR4943   37          HR     Undergrad  Recruitment Agency          5   \n",
       "199   PUR2734   41  Purchasing  Postgraduate             Walk-in          1   \n",
       "455  TECH4766   36  Technology  Postgraduate  Recruitment Agency          2   \n",
       "223   PUR4170   34  Purchasing     Undergrad             Walk-in          2   \n",
       "318    HR7971   40          HR  Postgraduate            Referral          3   \n",
       "207   MKT5736   35   Marketing     Undergrad            Referral          4   \n",
       "456    HR6644   34          HR  Postgraduate           On-Campus          2   \n",
       "272    HR3205   35          HR     Undergrad            Referral          3   \n",
       "395    HR6881   40          HR  Postgraduate            Referral          3   \n",
       "366   PUR2150   54  Purchasing  Postgraduate            Referral          4   \n",
       "196    HR2986   37          HR     Undergrad           On-Campus          3   \n",
       "493   MKT6334   41   Marketing     Undergrad             Walk-in          5   \n",
       "63    SAL8869   52       Sales  Postgraduate            Referral          5   \n",
       "290   SAL9319   45       Sales     Undergrad           On-Campus          4   \n",
       "99    PUR9154   32  Purchasing  Postgraduate            Referral          5   \n",
       "355   PUR5465   52  Purchasing  Postgraduate            Referral          1   \n",
       "176  TECH4510   36  Technology  Postgraduate            Referral          2   \n",
       "346  TECH6315   53  Technology     Undergrad            Referral          4   \n",
       "25    SAL3747   53       Sales  Postgraduate             Walk-in          4   \n",
       "40    SAL8513   34       Sales  Postgraduate           On-Campus          4   \n",
       "\n",
       "     rating  awards  certifications   salary  gender entry_date  last_raise   \n",
       "386     5.0       4               1  78075.0    Male 2004-01-05        0.07  \\\n",
       "45      5.0       4               0  78075.0  Female 2004-01-16        0.04   \n",
       "360     1.0       8               1  78075.0    Male 2004-01-20        0.08   \n",
       "161     2.0       8               0  26824.5  Female 2004-01-20        0.10   \n",
       "375     3.0       2               1  26824.5    Male 2004-01-22        0.02   \n",
       "134     4.0       8               0  26824.5    Male 2004-02-24        0.01   \n",
       "9       3.0       9               0  38177.1  Female 2004-03-19        0.07   \n",
       "274     3.0       3               1  26824.5  Female 2004-04-13        0.08   \n",
       "389     5.0       8               1  26824.5  Female 2004-04-17        0.02   \n",
       "239     3.0       3               1  38177.1    Male 2004-04-19        0.04   \n",
       "5       3.0       7               1  38177.1    Male 2004-04-22        0.02   \n",
       "235     5.0       3               1  59143.5  Female 2004-06-01        0.09   \n",
       "309     2.0       4               0  21668.4    Male 2004-06-08        0.01   \n",
       "157     3.0       0               1  26824.5  Female 2004-06-20        0.04   \n",
       "469     2.0       7               0  21668.4    Male 2004-07-05        0.05   \n",
       "308     2.0       3               1  26824.5  Female 2004-07-05        0.05   \n",
       "132     3.0       0               0  38177.1    Male 2004-07-13        0.05   \n",
       "151     3.0       4               0  78075.0    Male 2004-07-15        0.05   \n",
       "478     2.0       9               0  78075.0    Male 2004-08-14        0.05   \n",
       "39      1.0       1               1  26824.5  Female 2004-08-19        0.01   \n",
       "94      1.0       0               1  21668.4  Female 2004-08-26        0.09   \n",
       "95      4.0       5               1  59143.5  Female 2004-09-07        0.05   \n",
       "482     2.0       6               0  78075.0  Female 2004-09-16        0.01   \n",
       "453     3.0       0               0  26824.5    Male 2004-10-04        0.09   \n",
       "148     5.0       7               0  26824.5    Male 2004-10-30        0.08   \n",
       "203     1.0       0               1  59143.5    Male 2004-10-30        0.01   \n",
       "198     1.0       1               1  38177.1  Female 2004-11-13         NaN   \n",
       "345     1.0       7               1  38177.1  Female 2004-12-03         NaN   \n",
       "414     1.0       4               1  21668.4  Female 2005-01-12         NaN   \n",
       "358     5.0       4               0  21668.4    Male 2005-02-12         NaN   \n",
       "50      4.0       5               0  78075.0    Male 2005-02-24         NaN   \n",
       "199     3.0       9               0  21668.4  Female 2005-03-12         NaN   \n",
       "455     1.0       3               1  26824.5  Female 2005-03-15         NaN   \n",
       "223     1.0       5               1  26824.5    Male 2005-03-15         NaN   \n",
       "318     3.0       6               1  38177.1    Male 2005-03-30         NaN   \n",
       "207     1.0       8               1  59143.5  Female 2005-04-19         NaN   \n",
       "456     2.0       2               1  26824.5    Male 2005-04-27         NaN   \n",
       "272     3.0       0               0  38177.1  Female 2005-05-29         NaN   \n",
       "395     4.0       4               1  38177.1    Male 2005-06-05         NaN   \n",
       "366     2.0       8               0  59143.5    Male 2005-06-25         NaN   \n",
       "196     5.0       5               1  38177.1  Female 2005-06-25         NaN   \n",
       "493     4.0       2               0  78075.0    Male 2005-07-22         NaN   \n",
       "63      4.0       1               1  78075.0    Male 2005-08-13         NaN   \n",
       "290     3.0       1               0  59143.5    Male 2005-08-21         NaN   \n",
       "99      4.0       3               0  78075.0    Male 2005-08-27         NaN   \n",
       "355     2.0       7               0  21668.4  Female 2005-09-16         NaN   \n",
       "176     5.0       8               1  26824.5  Female 2005-10-02         NaN   \n",
       "346     4.0       7               0  59143.5  Female 2005-10-07         NaN   \n",
       "25      5.0       8               1  59143.5  Female 2005-10-08         NaN   \n",
       "40      5.0       2               0  59143.5    Male 2005-10-15         NaN   \n",
       "\n",
       "     satisfied  \n",
       "386          1  \n",
       "45           1  \n",
       "360          0  \n",
       "161          0  \n",
       "375          1  \n",
       "134          1  \n",
       "9            0  \n",
       "274          1  \n",
       "389          1  \n",
       "239          1  \n",
       "5            1  \n",
       "235          0  \n",
       "309          1  \n",
       "157          1  \n",
       "469          1  \n",
       "308          1  \n",
       "132          0  \n",
       "151          1  \n",
       "478          1  \n",
       "39           1  \n",
       "94           1  \n",
       "95           0  \n",
       "482          1  \n",
       "453          1  \n",
       "148          1  \n",
       "203          0  \n",
       "198          1  \n",
       "345          0  \n",
       "414          1  \n",
       "358          1  \n",
       "50           1  \n",
       "199          1  \n",
       "455          0  \n",
       "223          1  \n",
       "318          1  \n",
       "207          1  \n",
       "456          1  \n",
       "272          1  \n",
       "395          1  \n",
       "366          0  \n",
       "196          1  \n",
       "493          0  \n",
       "63           1  \n",
       "290          1  \n",
       "99           1  \n",
       "355          1  \n",
       "176          1  \n",
       "346          1  \n",
       "25           1  \n",
       "40           1  "
      ]
     },
     "execution_count": 24,
     "metadata": {},
     "output_type": "execute_result"
    }
   ],
   "source": [
    "# Ihre Analysen\n",
    "df.sort_values(by=\"entry_date\").head(50)"
   ]
  },
  {
   "cell_type": "code",
   "execution_count": 32,
   "metadata": {},
   "outputs": [
    {
     "data": {
      "text/plain": [
       "Timestamp('2004-10-30 00:00:00')"
      ]
     },
     "execution_count": 32,
     "metadata": {},
     "output_type": "execute_result"
    }
   ],
   "source": [
    "df[~df[\"last_raise\"].isnull()][\"entry_date\"].max()\n"
   ]
  },
  {
   "cell_type": "code",
   "execution_count": 37,
   "metadata": {},
   "outputs": [
    {
     "name": "stdout",
     "output_type": "stream",
     "text": [
      "2004-10-30 00:00:00\n",
      "2004-11-13 00:00:00\n",
      "2004-10-30 00:00:00\n",
      "2020-12-17 00:00:00\n"
     ]
    }
   ],
   "source": [
    "print(\"Last Employee to receive a raise started working on \"+ str(df[~df[\"last_raise\"].isnull()][\"entry_date\"].max()))\n",
    "print(\"First Employee to not receive a raise started working on \"+ str(df[df[\"last_raise\"].isnull()][\"entry_date\"].min()))\n",
    "\n",
    "#only 5% (0.05) of all employees had a raise, the rest 95% didnt. A quantile of 0.05 \n",
    "#if someone asks for a quantile at 0.05, then we can normally assume that they are asking for at least 95% of the probability \n",
    "#to the right of the value chosen,and no more than 5% of the probability to the left of the value chosen.\n",
    "print(df[\"entry_date\"].quantile(0.05))\n",
    "print(df[\"entry_date\"].max())"
   ]
  },
  {
   "cell_type": "raw",
   "metadata": {},
   "source": [
    "Wie zu erkennen ist, ist es tatsächlich so, dass alle Personen, die nach dem 30.10.2004\n",
    "in die Firma eingetreten sind, keine letzte Gehaltserhöhung eingetragen haben. Wenn wir\n",
    "davon ausgehen, dass diese Personen schlichtweg noch keine Gehaltserhöhrung bekommen\n",
    "haben, würden wir die Werte mit 0 ersetzen. Es ist jedoch eher unwahrscheinlich, dass\n",
    "diese Personen seitdem keine Gehaltserhöhung bekommen haben. Der letzte Eintritt ist\n",
    "aus dem Jahr 2020, somit liegen zumindest andere Informationen bis zum Jahr 2020 vor.\n",
    "Wir gehen deshalb davon aus, dass die Informationen zur den Gehaltserhöhungen nicht\n",
    "korrekt übertragen wurden und löschen die Spalte deshalb."
   ]
  },
  {
   "cell_type": "code",
   "execution_count": 38,
   "metadata": {
    "ExecuteTime": {
     "end_time": "2022-02-23T10:22:46.951610Z",
     "start_time": "2022-02-23T10:22:46.929424Z"
    }
   },
   "outputs": [],
   "source": [
    "# Ihre Lösung\n",
    "df = df.drop(\"last_raise\", axis=1)\n",
    "\n",
    "#df[\"gender\"] = df[\"gender\"].fillna(0.0)\n"
   ]
  },
  {
   "cell_type": "markdown",
   "metadata": {},
   "source": [
    "Eine weitere Spalte mit fehlenden Werten ist `rating`."
   ]
  },
  {
   "cell_type": "code",
   "execution_count": 39,
   "metadata": {
    "ExecuteTime": {
     "end_time": "2022-02-23T10:22:46.967235Z",
     "start_time": "2022-02-23T10:22:46.951610Z"
    }
   },
   "outputs": [
    {
     "data": {
      "text/plain": [
       "29"
      ]
     },
     "execution_count": 39,
     "metadata": {},
     "output_type": "execute_result"
    }
   ],
   "source": [
    "df[\"rating\"].isna().sum()"
   ]
  },
  {
   "cell_type": "markdown",
   "metadata": {},
   "source": [
    "Entscheiden Sie sich hier ebenfalls für eine geeignete Imputation-Strategie und begründen Sie Ihre Wahl."
   ]
  },
  {
   "cell_type": "code",
   "execution_count": 49,
   "metadata": {
    "ExecuteTime": {
     "end_time": "2022-02-23T10:22:46.998487Z",
     "start_time": "2022-02-23T10:22:46.967235Z"
    }
   },
   "outputs": [
    {
     "name": "stdout",
     "output_type": "stream",
     "text": [
      "       emp_id  age  department     education    recruitment_type  job_level   \n",
      "61    SAL8629   53       Sales  Postgraduate  Recruitment Agency          1  \\\n",
      "67     HR8916   28          HR  Postgraduate            Referral          1   \n",
      "69     HR1878   27          HR  Postgraduate             Walk-in          1   \n",
      "70     HR5887   30          HR     Undergrad  Recruitment Agency          1   \n",
      "117  TECH3790   45  Technology     Undergrad           On-Campus          5   \n",
      "123   MKT8574   39   Marketing     Undergrad  Recruitment Agency          5   \n",
      "145    HR6530   49          HR     Undergrad            Referral          2   \n",
      "184    HR8777   44          HR     Undergrad           On-Campus          5   \n",
      "222   PUR8400   48  Purchasing  Postgraduate  Recruitment Agency          5   \n",
      "236  TECH3200   45  Technology  Postgraduate            Referral          3   \n",
      "283   MKT1190   49   Marketing     Undergrad  Recruitment Agency          1   \n",
      "323  TECH3368   29  Technology  Postgraduate  Recruitment Agency          1   \n",
      "343   MKT4051   26   Marketing     Undergrad            Referral          3   \n",
      "356    HR1635   53          HR     Undergrad           On-Campus          1   \n",
      "357    HR2693   28          HR  Postgraduate  Recruitment Agency          3   \n",
      "361    HR6177   25          HR     Undergrad           On-Campus          1   \n",
      "365  TECH3838   35  Technology     Undergrad  Recruitment Agency          5   \n",
      "369  TECH2664   51  Technology     Undergrad           On-Campus          2   \n",
      "388    HR6188   46          HR  Postgraduate            Referral          1   \n",
      "393   MKT8421   29   Marketing  Postgraduate  Recruitment Agency          4   \n",
      "398    HR8390   46          HR  Postgraduate  Recruitment Agency          3   \n",
      "404   MKT6878   29   Marketing  Postgraduate  Recruitment Agency          5   \n",
      "416   PUR6536   41  Purchasing     Undergrad            Referral          5   \n",
      "440   MKT8164   43   Marketing  Postgraduate            Referral          2   \n",
      "451   MKT3143   40   Marketing  Postgraduate            Referral          2   \n",
      "458   SAL5968   46       Sales  Postgraduate           On-Campus          2   \n",
      "483   PUR4636   27  Purchasing  Postgraduate  Recruitment Agency          4   \n",
      "487  TECH8860   51  Technology     Undergrad           On-Campus          5   \n",
      "497   MKT7801   34   Marketing  Postgraduate           On-Campus          1   \n",
      "\n",
      "     rating  awards  certifications   salary  gender entry_date  satisfied  \n",
      "61      NaN       6               1  21668.4    Male 2020-11-26          1  \n",
      "67      NaN       7               1  21668.4  Female 2020-09-10          0  \n",
      "69      NaN       5               0  21668.4    Male 2020-06-01          1  \n",
      "70      NaN       0               0  21668.4  Female 2020-05-30          0  \n",
      "117     NaN       4               0  78075.0    Male 2020-10-18          1  \n",
      "123     NaN       3               1  78075.0    Male 2020-01-10          0  \n",
      "145     NaN       9               1  26824.5    Male 2020-10-10          0  \n",
      "184     NaN       3               0  78075.0    Male 2020-03-19          0  \n",
      "222     NaN       9               1  78075.0    Male 2020-05-14          1  \n",
      "236     NaN       0               0  38177.1    Male 2020-04-06          1  \n",
      "283     NaN       1               0  21668.4    Male 2020-12-16          1  \n",
      "323     NaN       4               0  21668.4    Male 2020-10-27          0  \n",
      "343     NaN       3               0  38177.1  Female 2020-11-09          1  \n",
      "356     NaN       3               1  21668.4    Male 2020-12-04          0  \n",
      "357     NaN       6               1  38177.1  Female 2020-04-15          1  \n",
      "361     NaN       8               0  21668.4  Female 2020-11-16          1  \n",
      "365     NaN       4               1  78075.0    Male 2020-05-30          0  \n",
      "369     NaN       6               0  26824.5    Male 2020-02-21          1  \n",
      "388     NaN       2               0  21668.4  Female 2020-04-11          1  \n",
      "393     NaN       7               0  59143.5  Female 2020-04-05          1  \n",
      "398     NaN       7               0  38177.1  Female 2020-11-22          0  \n",
      "404     NaN       8               1  78075.0    Male 2020-02-11          1  \n",
      "416     NaN       0               1  78075.0    Male 2020-12-17          1  \n",
      "440     NaN       3               1  26824.5    Male 2020-04-26          0  \n",
      "451     NaN       3               1  26824.5  Female 2020-02-14          1  \n",
      "458     NaN       9               1  26824.5    Male 2020-06-03          1  \n",
      "483     NaN       1               0  59143.5  Female 2020-07-22          0  \n",
      "487     NaN       8               0  78075.0    Male 2020-02-25          1  \n",
      "497     NaN       2               0  21668.4    Male 2020-10-20          1  \n"
     ]
    },
    {
     "data": {
      "text/plain": [
       "61    2020-11-26\n",
       "67    2020-09-10\n",
       "69    2020-06-01\n",
       "70    2020-05-30\n",
       "117   2020-10-18\n",
       "123   2020-01-10\n",
       "145   2020-10-10\n",
       "184   2020-03-19\n",
       "222   2020-05-14\n",
       "236   2020-04-06\n",
       "283   2020-12-16\n",
       "323   2020-10-27\n",
       "343   2020-11-09\n",
       "356   2020-12-04\n",
       "357   2020-04-15\n",
       "361   2020-11-16\n",
       "365   2020-05-30\n",
       "369   2020-02-21\n",
       "388   2020-04-11\n",
       "393   2020-04-05\n",
       "398   2020-11-22\n",
       "404   2020-02-11\n",
       "416   2020-12-17\n",
       "440   2020-04-26\n",
       "451   2020-02-14\n",
       "458   2020-06-03\n",
       "483   2020-07-22\n",
       "487   2020-02-25\n",
       "497   2020-10-20\n",
       "Name: entry_date, dtype: datetime64[ns]"
      ]
     },
     "execution_count": 49,
     "metadata": {},
     "output_type": "execute_result"
    }
   ],
   "source": [
    "# Ihre Analysen\n",
    "print(df[df['rating'].isnull()])\n",
    "df[df['rating'].isnull()][\"entry_date\"]"
   ]
  },
  {
   "cell_type": "raw",
   "metadata": {},
   "source": [
    "Ihre Begründung:\n",
    "Wie in metadata.txt zu sehen, steht in der Spalte die Bewertung der Angestellten aus dem\n",
    "letzten Jahr. Die Werte, die fehlen, gehören zu Angestellten, die im Jahr 2020\n",
    "eingestellt wurden. Wir wissen aus dem Newsletter, dass die Daten Anfang des Jahres\n",
    "2021 erhoben wurden. Möglicherweise waren die entsprechenden Angestellten noch nicht\n",
    "lange genug in der Firma, so dass keine Bewertung vorgenommen wurde. Aus diesem Grund\n",
    "ersetzen wir die fehlenden Werte mit dem String \"Unavailable\". Es wäre auch denkbar,\n",
    "die Werte mit der Zahl 0 zu ersetzen. Vorteil wäre, dass die Spalte dann nur aus\n",
    "numerischen Wetren besteht. Allerdings sind es ordinale Werte, da es eine Ordnung in\n",
    "den Zahlen gibt (1 ist die schlechteste und 5 die beste Bewertung). Die Zahl 0 würde\n",
    "also eine Ordnung implizieren, die nicht vorhanden sind (Die Angestellten sind nicht\n",
    "schlechter, sondern einfach nicht bewertet)."
   ]
  },
  {
   "cell_type": "code",
   "execution_count": 50,
   "metadata": {
    "ExecuteTime": {
     "end_time": "2022-02-23T10:22:47.014112Z",
     "start_time": "2022-02-23T10:22:46.998487Z"
    }
   },
   "outputs": [
    {
     "data": {
      "text/plain": [
       "0              2.0\n",
       "1              5.0\n",
       "2              1.0\n",
       "3              3.0\n",
       "4              1.0\n",
       "          ...     \n",
       "495            5.0\n",
       "496            4.0\n",
       "497    Unavailable\n",
       "498            1.0\n",
       "499            4.0\n",
       "Name: rating, Length: 500, dtype: object"
      ]
     },
     "execution_count": 50,
     "metadata": {},
     "output_type": "execute_result"
    }
   ],
   "source": [
    "# Ihre Lösung\n",
    "df[\"rating\"] = df[\"rating\"].fillna(\"Unavailable\")\n",
    "df[\"rating\"]"
   ]
  },
  {
   "cell_type": "markdown",
   "metadata": {},
   "source": [
    "## Ausreißer"
   ]
  },
  {
   "cell_type": "code",
   "execution_count": 56,
   "metadata": {},
   "outputs": [],
   "source": [
    "import matplotlib\n",
    "import matplotlib.pyplot as plt"
   ]
  },
  {
   "cell_type": "markdown",
   "metadata": {},
   "source": [
    "Betrachten wir die Histogramme für die Spalten `awards` und `certifications`:"
   ]
  },
  {
   "cell_type": "code",
   "execution_count": 65,
   "metadata": {
    "ExecuteTime": {
     "end_time": "2022-02-23T10:22:47.615623Z",
     "start_time": "2022-02-23T10:22:47.014112Z"
    }
   },
   "outputs": [
    {
     "data": {
      "image/png": "[encoded data removed]",
      "text/plain": [
       "<Figure size 640x480 with 1 Axes>"
      ]
     },
     "metadata": {},
     "output_type": "display_data"
    },
    {
     "data": {
      "image/png": "[encoded data removed]",
      "text/plain": [
       "<Figure size 640x480 with 1 Axes>"
      ]
     },
     "metadata": {},
     "output_type": "display_data"
    }
   ],
   "source": [
    "for col in [\"awards\", \"certifications\"]:\n",
    "    df.hist(col)"
   ]
  },
  {
   "cell_type": "markdown",
   "metadata": {},
   "source": [
    "In diesen beiden Spalten scheint es Ausreißer in Werten zu geben."
   ]
  },
  {
   "cell_type": "markdown",
   "metadata": {},
   "source": [
    "Betrachten wir zunächst die Spalte `awards`. Identifizieren Sie die Zeile, in der der Ausreißer vorkommt, und überlegen Sie sich eine geeignete Strategie, um mit diesem Wert umzugehen."
   ]
  },
  {
   "cell_type": "code",
   "execution_count": 72,
   "metadata": {
    "ExecuteTime": {
     "end_time": "2022-02-23T10:22:47.631652Z",
     "start_time": "2022-02-23T10:22:47.618619Z"
    }
   },
   "outputs": [
    {
     "name": "stdout",
     "output_type": "stream",
     "text": [
      "awards\n",
      "3     57\n",
      "8     56\n",
      "0     52\n",
      "5     52\n",
      "4     51\n",
      "7     50\n",
      "2     48\n",
      "9     46\n",
      "6     46\n",
      "1     41\n",
      "25     1\n",
      "Name: count, dtype: int64\n"
     ]
    },
    {
     "data": {
      "text/html": [
       "<div>\n",
       "<style scoped>\n",
       "    .dataframe tbody tr th:only-of-type {\n",
       "        vertical-align: middle;\n",
       "    }\n",
       "\n",
       "    .dataframe tbody tr th {\n",
       "        vertical-align: top;\n",
       "    }\n",
       "\n",
       "    .dataframe thead th {\n",
       "        text-align: right;\n",
       "    }\n",
       "</style>\n",
       "<table border=\"1\" class=\"dataframe\">\n",
       "  <thead>\n",
       "    <tr style=\"text-align: right;\">\n",
       "      <th></th>\n",
       "      <th>emp_id</th>\n",
       "      <th>age</th>\n",
       "      <th>department</th>\n",
       "      <th>education</th>\n",
       "      <th>recruitment_type</th>\n",
       "      <th>job_level</th>\n",
       "      <th>rating</th>\n",
       "      <th>awards</th>\n",
       "      <th>certifications</th>\n",
       "      <th>salary</th>\n",
       "      <th>gender</th>\n",
       "      <th>entry_date</th>\n",
       "      <th>satisfied</th>\n",
       "    </tr>\n",
       "  </thead>\n",
       "  <tbody>\n",
       "    <tr>\n",
       "      <th>233</th>\n",
       "      <td>TECH3557</td>\n",
       "      <td>55.0</td>\n",
       "      <td>Technology</td>\n",
       "      <td>Undergrad</td>\n",
       "      <td>Referral</td>\n",
       "      <td>5.0</td>\n",
       "      <td>1.0</td>\n",
       "      <td>25.0</td>\n",
       "      <td>0.0</td>\n",
       "      <td>78075.0</td>\n",
       "      <td>Female</td>\n",
       "      <td>2010-05-02</td>\n",
       "      <td>1.0</td>\n",
       "    </tr>\n",
       "  </tbody>\n",
       "</table>\n",
       "</div>"
      ],
      "text/plain": [
       "       emp_id   age  department  education recruitment_type  job_level rating   \n",
       "233  TECH3557  55.0  Technology  Undergrad         Referral        5.0    1.0  \\\n",
       "\n",
       "     awards  certifications   salary  gender entry_date  satisfied  \n",
       "233    25.0             0.0  78075.0  Female 2010-05-02        1.0  "
      ]
     },
     "execution_count": 72,
     "metadata": {},
     "output_type": "execute_result"
    }
   ],
   "source": [
    "# Ihre Analysen\n",
    "print(df['awards'].value_counts()) # 25 is the outlier\n",
    "\n",
    "#df.where(~((df[\"age\"] - difference) >=16)).dropna()\n",
    "df.where(df[\"awards\"] == 25).dropna()\n",
    "\n",
    "#or  df[df[\"awards\"]==25]"
   ]
  },
  {
   "cell_type": "raw",
   "metadata": {},
   "source": [
    "Ihre Begründung:\n",
    "Im Newsletter ist zu lesen, wie einer Mitarbeiterin zur 25. Auszeichnung gratuliert\n",
    "wird, von daher können wir davon ausgehen, dass es sich hier um einen wahren Wert\n",
    "handelt."
   ]
  },
  {
   "cell_type": "code",
   "execution_count": null,
   "metadata": {
    "ExecuteTime": {
     "end_time": "2022-02-23T10:22:47.663623Z",
     "start_time": "2022-02-23T10:22:47.649619Z"
    }
   },
   "outputs": [],
   "source": [
    "# Ihre Lösung\n",
    "# keine Aktion  nötig"
   ]
  },
  {
   "cell_type": "markdown",
   "metadata": {},
   "source": [
    "Wenden wir uns nun der Spalte `certifications` zu. Identifizieren Sie auch hier den Ausreißer und überlegen Sie sich eine geeignete Strategie, um mit diesem Wert umzugehen."
   ]
  },
  {
   "cell_type": "code",
   "execution_count": 78,
   "metadata": {
    "ExecuteTime": {
     "end_time": "2022-02-23T10:22:47.679619Z",
     "start_time": "2022-02-23T10:22:47.667626Z"
    },
    "scrolled": false
   },
   "outputs": [
    {
     "name": "stdout",
     "output_type": "stream",
     "text": [
      "certifications\n",
      "0    251\n",
      "1    248\n",
      "9      1\n",
      "Name: count, dtype: int64\n"
     ]
    },
    {
     "data": {
      "text/html": [
       "<div>\n",
       "<style scoped>\n",
       "    .dataframe tbody tr th:only-of-type {\n",
       "        vertical-align: middle;\n",
       "    }\n",
       "\n",
       "    .dataframe tbody tr th {\n",
       "        vertical-align: top;\n",
       "    }\n",
       "\n",
       "    .dataframe thead th {\n",
       "        text-align: right;\n",
       "    }\n",
       "</style>\n",
       "<table border=\"1\" class=\"dataframe\">\n",
       "  <thead>\n",
       "    <tr style=\"text-align: right;\">\n",
       "      <th></th>\n",
       "      <th>emp_id</th>\n",
       "      <th>age</th>\n",
       "      <th>department</th>\n",
       "      <th>education</th>\n",
       "      <th>recruitment_type</th>\n",
       "      <th>job_level</th>\n",
       "      <th>rating</th>\n",
       "      <th>awards</th>\n",
       "      <th>certifications</th>\n",
       "      <th>salary</th>\n",
       "      <th>gender</th>\n",
       "      <th>entry_date</th>\n",
       "      <th>satisfied</th>\n",
       "    </tr>\n",
       "  </thead>\n",
       "  <tbody>\n",
       "    <tr>\n",
       "      <th>129</th>\n",
       "      <td>HR2059</td>\n",
       "      <td>42</td>\n",
       "      <td>HR</td>\n",
       "      <td>Postgraduate</td>\n",
       "      <td>Referral</td>\n",
       "      <td>4</td>\n",
       "      <td>1.0</td>\n",
       "      <td>2</td>\n",
       "      <td>9</td>\n",
       "      <td>59143.5</td>\n",
       "      <td>Female</td>\n",
       "      <td>2014-04-09</td>\n",
       "      <td>1</td>\n",
       "    </tr>\n",
       "  </tbody>\n",
       "</table>\n",
       "</div>"
      ],
      "text/plain": [
       "     emp_id  age department     education recruitment_type  job_level rating   \n",
       "129  HR2059   42         HR  Postgraduate         Referral          4    1.0  \\\n",
       "\n",
       "     awards  certifications   salary  gender entry_date  satisfied  \n",
       "129       2               9  59143.5  Female 2014-04-09          1  "
      ]
     },
     "execution_count": 78,
     "metadata": {},
     "output_type": "execute_result"
    },
    {
     "data": {
      "image/png": "[encoded data removed]",
      "text/plain": [
       "<Figure size 640x480 with 1 Axes>"
      ]
     },
     "metadata": {},
     "output_type": "display_data"
    }
   ],
   "source": [
    "# Ihre Analysen\n",
    "print(df['certifications'].value_counts())\n",
    "df[df[\"certifications\"]==9]\n",
    "\n",
    "df.hist('certifications')"
   ]
  },
  {
   "cell_type": "raw",
   "metadata": {},
   "source": [
    "Ihre Begründung:\n",
    "n einer Zeile ist für certifications eine 9 eingetragen. Aus der Datei metadata.txt\n",
    "wissen wir, dass hier jedoch nur die Werte 0 (= nicht zertifiziert) oder 1 (=\n",
    "zertifiziert) vorkommen dürfen. Es ist denkbar, dass hier ein Tippfehler vorliegt und:\n",
    "1. statt 9 eigentlich eine 0 eingetragen werden sollte --> Wir entscheiden uns deshalb dafür,\n",
    "den Wert entsprechend mit 0 zu ersetzen. \n",
    "2. da 9>0 kann es auch sein dass eigentlich 1 stehen sollte und nicht 0 --> Wir entscheiden uns deshalb dafür,\n",
    "den Wert entsprechend mit 0 zu ersetzen.\n",
    "3. Alternativ wäre es bspw. auch denkbar, die entsprechende Zeile zu löschen, da der korrekte Wert nicht ermittelt werden kann."
   ]
  },
  {
   "cell_type": "code",
   "execution_count": null,
   "metadata": {
    "ExecuteTime": {
     "end_time": "2022-02-23T10:22:47.725628Z",
     "start_time": "2022-02-23T10:22:47.711618Z"
    }
   },
   "outputs": [],
   "source": [
    "# Ihre Lösung\n",
    "idx = df[df[\"certifications\"]==9].index\n",
    "df.loc[idx, \"certifications\"] = 0"
   ]
  },
  {
   "cell_type": "markdown",
   "metadata": {},
   "source": [
    "## Spalten/Zeilen löschen"
   ]
  },
  {
   "cell_type": "markdown",
   "metadata": {},
   "source": [
    "Betrachten wir die Spalte `emp_id`. Aus wie vielen einzigartigen Werten besteht diese?"
   ]
  },
  {
   "cell_type": "code",
   "execution_count": 101,
   "metadata": {
    "ExecuteTime": {
     "end_time": "2022-02-23T10:22:47.757626Z",
     "start_time": "2022-02-23T10:22:47.734640Z"
    }
   },
   "outputs": [
    {
     "data": {
      "text/plain": [
       "499"
      ]
     },
     "execution_count": 101,
     "metadata": {},
     "output_type": "execute_result"
    }
   ],
   "source": [
    "# Ihre Lösung\n",
    "len(df['emp_id'].unique())\n",
    "#df[df.duplicated(subset='emp_id')]\n",
    "#len(df) - len(df[df.duplicated(subset='emp_id')])"
   ]
  },
  {
   "cell_type": "markdown",
   "metadata": {},
   "source": [
    "Scheinbar gibt es eine ID doppelt. Schauen wir uns zunächst die Zeilen an, die die gleiche `emp_id` besitzen. Identifizieren Sie hierzu, um welche ID es sich handelt und lassen Sie sich dann die zugehörigen Zeilen ausgeben."
   ]
  },
  {
   "cell_type": "code",
   "execution_count": 108,
   "metadata": {
    "ExecuteTime": {
     "end_time": "2022-02-23T10:22:47.810999Z",
     "start_time": "2022-02-23T10:22:47.764407Z"
    }
   },
   "outputs": [
    {
     "name": "stdout",
     "output_type": "stream",
     "text": [
      "215\n",
      "Rows with indeces: 188 and 215 are duplicate IDs.\n"
     ]
    },
    {
     "data": {
      "text/html": [
       "<div>\n",
       "<style scoped>\n",
       "    .dataframe tbody tr th:only-of-type {\n",
       "        vertical-align: middle;\n",
       "    }\n",
       "\n",
       "    .dataframe tbody tr th {\n",
       "        vertical-align: top;\n",
       "    }\n",
       "\n",
       "    .dataframe thead th {\n",
       "        text-align: right;\n",
       "    }\n",
       "</style>\n",
       "<table border=\"1\" class=\"dataframe\">\n",
       "  <thead>\n",
       "    <tr style=\"text-align: right;\">\n",
       "      <th></th>\n",
       "      <th>emp_id</th>\n",
       "      <th>age</th>\n",
       "      <th>department</th>\n",
       "      <th>education</th>\n",
       "      <th>recruitment_type</th>\n",
       "      <th>job_level</th>\n",
       "      <th>rating</th>\n",
       "      <th>awards</th>\n",
       "      <th>certifications</th>\n",
       "      <th>salary</th>\n",
       "      <th>gender</th>\n",
       "      <th>entry_date</th>\n",
       "      <th>satisfied</th>\n",
       "    </tr>\n",
       "  </thead>\n",
       "  <tbody>\n",
       "    <tr>\n",
       "      <th>188</th>\n",
       "      <td>MKT7287</td>\n",
       "      <td>41</td>\n",
       "      <td>Marketing</td>\n",
       "      <td>Undergrad</td>\n",
       "      <td>Referral</td>\n",
       "      <td>2</td>\n",
       "      <td>5.0</td>\n",
       "      <td>0</td>\n",
       "      <td>1</td>\n",
       "      <td>26824.5</td>\n",
       "      <td>Female</td>\n",
       "      <td>2014-04-07</td>\n",
       "      <td>1</td>\n",
       "    </tr>\n",
       "    <tr>\n",
       "      <th>215</th>\n",
       "      <td>MKT7287</td>\n",
       "      <td>50</td>\n",
       "      <td>Marketing</td>\n",
       "      <td>Postgraduate</td>\n",
       "      <td>Referral</td>\n",
       "      <td>2</td>\n",
       "      <td>2.0</td>\n",
       "      <td>1</td>\n",
       "      <td>0</td>\n",
       "      <td>26824.5</td>\n",
       "      <td>Male</td>\n",
       "      <td>2013-08-01</td>\n",
       "      <td>0</td>\n",
       "    </tr>\n",
       "  </tbody>\n",
       "</table>\n",
       "</div>"
      ],
      "text/plain": [
       "      emp_id  age department     education recruitment_type  job_level rating   \n",
       "188  MKT7287   41  Marketing     Undergrad         Referral          2    5.0  \\\n",
       "215  MKT7287   50  Marketing  Postgraduate         Referral          2    2.0   \n",
       "\n",
       "     awards  certifications   salary  gender entry_date  satisfied  \n",
       "188       0               1  26824.5  Female 2014-04-07          1  \n",
       "215       1               0  26824.5    Male 2013-08-01          0  "
      ]
     },
     "execution_count": 108,
     "metadata": {},
     "output_type": "execute_result"
    }
   ],
   "source": [
    "# Ihre Lösung\n",
    "a = df[df.duplicated(subset='emp_id')]\n",
    "print(a.index[0])\n",
    "#count_empid = df.groupby(\"emp_id\").count().sort_values(\"age\", ascending=False).iloc[:, 0]\n",
    "#df.where(df[\"emp_id\"].isin(list(count_empid[count_empid > 1].index))).dropna(how=\"all\")\n",
    "\n",
    "duplicateRows = df[df.duplicated(['emp_id'], keep=False)]\n",
    "print(\"Rows with indeces: \"+str(duplicateRows.index[0])+\" and \"+str(duplicateRows.index[1])+\" are duplicate IDs.\")\n",
    "duplicateRows\n"
   ]
  },
  {
   "cell_type": "markdown",
   "metadata": {},
   "source": [
    "Wählen Sie eine geeignete Strategie, um mit diesem Duplikat umzugehen. Begründen Sie Ihre Entscheidung."
   ]
  },
  {
   "cell_type": "raw",
   "metadata": {},
   "source": [
    "Ihre Begründung:\n",
    "Eine Möglichkeit wäre es, eine Person zu Rate zu ziehen, die weiß, welcher Eintrag der\n",
    "korrekte ist. Da dies in unserem Fall der fiktiven Firma nicht möglich ist und wir\n",
    "somit den korrekten Eintrag nicht identifizieren können, werden wir beide Zeilen\n",
    "löschen. Alternativ wäre es auch denkbar, eine der beiden Zeilen zu behalten und die\n",
    "andere zu löschen. Hier könnte aufgrund mangelnder Hintergrundinformationen die\n",
    "Entscheidung jedoch nur per Zufall getroffen werden, weshalb wir uns gegen diese\n",
    "Variante entschieden haben.\n",
    "Man könnte alternativ auch argumentieren, dass die Zeilen zu unter\u0002schiedlich sind, um als Duplikat gewertet zu werden und beide behalten werden. In dem Fall muss\n",
    "jedoch eine gute Strategie gefunden werden, um eine neue ID zu vergeben"
   ]
  },
  {
   "cell_type": "code",
   "execution_count": null,
   "metadata": {
    "ExecuteTime": {
     "end_time": "2022-02-23T10:22:47.924473Z",
     "start_time": "2022-02-23T10:22:47.908834Z"
    }
   },
   "outputs": [],
   "source": [
    "# Ihre Lösung\n",
    "df.drop_duplicates(subset='emp_id', keep=False, inplace=True)\n",
    "df = df.drop_duplicates(keep=False, subset=[\"emp_id\"])\n"
   ]
  },
  {
   "cell_type": "markdown",
   "metadata": {},
   "source": [
    "Betrachten wir nun die Werte der Spalte `emp_id`. Bringen diese Informationen einen Mehrwert zu der Vorhersage der Zufriedenheit? Wenn ja, bleibt die Spalte im Datensatz, wenn nein, transformieren Sie den Datensatz entsprechend."
   ]
  },
  {
   "cell_type": "raw",
   "metadata": {},
   "source": [
    "Ihre Entscheidung:\n",
    "Die Spalte liefert nun keinen Mehrwert mehr, da sie für jede Zeile einzigartig ist. Aus\n",
    "diesem Grund wird die Spalte gelöscht.\n"
   ]
  },
  {
   "cell_type": "code",
   "execution_count": 109,
   "metadata": {
    "ExecuteTime": {
     "end_time": "2022-02-23T10:22:47.953638Z",
     "start_time": "2022-02-23T10:22:47.924473Z"
    }
   },
   "outputs": [],
   "source": [
    "# Ihre Lösung\n",
    "df = df.drop(\"emp_id\", axis=1)"
   ]
  },
  {
   "cell_type": "markdown",
   "metadata": {},
   "source": [
    "## Daten speichern"
   ]
  },
  {
   "cell_type": "code",
   "execution_count": null,
   "metadata": {
    "ExecuteTime": {
     "end_time": "2022-02-23T10:22:47.984879Z",
     "start_time": "2022-02-23T10:22:47.953638Z"
    }
   },
   "outputs": [],
   "source": [
    "df"
   ]
  },
  {
   "cell_type": "markdown",
   "metadata": {},
   "source": [
    "Wenn, Sie alle Aufgaben korrekt ausgeführt haben, ist die Vorverarbeitung nun abgeschlossen:\n",
    "- Alle Spalten liegen im passenden Datenformat vor\n",
    "- Kategorielle Spalten wurden vereinheitlicht\n",
    "- Es gibt keine Duplikate\n",
    "- Es gibt keine fehlenden Werte\n",
    "- Die Plausibilitätschecks wurden bestanden\n",
    "\n",
    "Speichern Sie den von Ihnen transformierten Datensatz unter dem Namen `employees_satisfaction_transformed.csv` ab."
   ]
  },
  {
   "cell_type": "code",
   "execution_count": 118,
   "metadata": {
    "ExecuteTime": {
     "end_time": "2022-02-23T10:22:48.000506Z",
     "start_time": "2022-02-23T10:22:47.984879Z"
    }
   },
   "outputs": [],
   "source": [
    "# Ihre Lösung\n",
    "os.makedirs('C:/Users/maayo/PycharmProjects/PAndasTutorial/KEs_uebungen/data/subfolder', exist_ok=True)\n",
    "#df.to_csv(\"./data/employees_satisfaction_transformed.csv\")\n",
    "df.to_csv('C:/Users/maayo/PycharmProjects/PAndasTutorial/KEs_uebungen/data/employees_satisfaction_transformed.csv')"
   ]
  },
  {
   "cell_type": "code",
   "execution_count": null,
   "metadata": {},
   "outputs": [],
   "source": []
  }
 ],
 "metadata": {
  "kernelspec": {
   "display_name": "Python 3 (ipykernel)",
   "language": "python",
   "name": "python3"
  },
  "language_info": {
   "codemirror_mode": {
    "name": "ipython",
    "version": 3
   },
   "file_extension": ".py",
   "mimetype": "text/x-python",
   "name": "python",
   "nbconvert_exporter": "python",
   "pygments_lexer": "ipython3",
   "version": "3.11.3"
  },
  "toc": {
   "base_numbering": 1,
   "nav_menu": {},
   "number_sections": true,
   "sideBar": true,
   "skip_h1_title": true,
   "title_cell": "Table of Contents",
   "title_sidebar": "Contents",
   "toc_cell": false,
   "toc_position": {
    "height": "calc(100% - 180px)",
    "left": "10px",
    "top": "150px",
    "width": "307.2px"
   },
   "toc_section_display": true,
   "toc_window_display": true
  }
 },
 "nbformat": 4,
 "nbformat_minor": 4
}
