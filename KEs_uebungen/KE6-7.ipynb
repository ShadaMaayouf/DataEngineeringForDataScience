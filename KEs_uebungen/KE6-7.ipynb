{
 "cells": [
  {
   "cell_type": "raw",
   "id": "15b94051",
   "metadata": {},
   "source": [
    "Name:\n",
    "Matrikelnummer:"
   ]
  },
  {
   "cell_type": "markdown",
   "id": "7b4b8e40",
   "metadata": {},
   "source": [
    "___"
   ]
  },
  {
   "cell_type": "markdown",
   "id": "b8bb480d",
   "metadata": {},
   "source": [
    "# (I can't get no) satisfaction\n",
    "\n",
    "Ziel dieser Kurseinheit ist es, Erfahrung mit der Datenmodellierung für dokument-orientierte und spalten-orientierte Datenbanksysteme (im Vergleich zu relationalen Systemen) zu sammeln."
   ]
  },
  {
   "cell_type": "markdown",
   "id": "7143af02",
   "metadata": {},
   "source": [
    "## Module und Umgebunsvariablen laden\n",
    "\n",
    "Wie bereits in KE1 beschrieben, werden zunächst zwei Umgebungsvariablen Variablen angelegt, auf die im Verlauf dieser Kurseinheit zugegriffen wird. "
   ]
  },
  {
   "cell_type": "code",
   "execution_count": 1,
   "id": "10acd745",
   "metadata": {},
   "outputs": [],
   "source": [
    "# Load neccessary python libraries\n",
    "import os\n",
    "import iplantuml\n",
    "import plantuml"
   ]
  },
  {
   "cell_type": "code",
   "execution_count": 9,
   "id": "2c92eefe",
   "metadata": {},
   "outputs": [
    {
     "data": {
      "text/plain": [
       "'C:/Users/maayo/PycharmProjects/PAndasTutorial/KEs_uebungen/data/subfolder/employees_satisfaction_transformed.csv'"
      ]
     },
     "execution_count": 9,
     "metadata": {},
     "output_type": "execute_result"
    }
   ],
   "source": [
    "# Absolute path to the folder cotaining the git repo\n",
    "host_repo_path =  \"C:/Users/maayo/PycharmProjects/PAndasTutorial\"\n",
    "#host_repo_path =  \"../../workspace\"\n",
    "\n",
    "# Relative path to the folder containing following files (INSIDE OF THE WORKSPACE FOLDER!):\n",
    "#   employees_satisfaction_transformed.csv\n",
    "#   departments.csv\n",
    "#   projects.csv\n",
    "workspace_data_path = host_repo_path+\"/KEs_uebungen/data/subfolder\"\n",
    "\n",
    "os.environ['HOST_DATA_PATH'] = os.path.join(host_repo_path, \"workspace\", workspace_data_path)\n",
    "os.environ['DATA_PATH'] = os.path.join(\"/home/pyspark-client/workspace/\", workspace_data_path)\n",
    "os.environ\n",
    "path_to_df = os.environ['DATA_PATH']+\"/employees_satisfaction_transformed.csv\"\n",
    "path_to_df"
   ]
  },
  {
   "cell_type": "markdown",
   "id": "4f4da72b",
   "metadata": {},
   "source": [
    "##  Datenmodellierung\n",
    "\n",
    "Wir beginnen mit einer Analyse der zur Verfügung stehenden Dateien bzw. Daten, die in die verschiedenen Datenbanksysteme importiert werden sollen.\n",
    "\n",
    "Neben der bereits verwendeten Datei:\n",
    "\n",
    "- *employees_satisfaction_transformed.csv*\n",
    "\n",
    "_error: '''It seems like you are trying to run a shell command to show the first line of a file named `employees_satisfaction_transformed.csv` \n",
    "located in the directory specified by the environment variable `DATA_PATH`. \n",
    "The command returned a non-zero exit status, which indicates that an error occurred. \n",
    "There could be several reasons for this error, such as the file not existing, \n",
    "the `DATA_PATH` environment variable not being set, \n",
    "or not having the necessary permissions to read the file. \n",
    "You may want to check these potential issues and try running the command again.'''_\n"
   ]
  },
  {
   "cell_type": "code",
   "execution_count": 10,
   "id": "24233efa",
   "metadata": {
    "scrolled": true
   },
   "outputs": [
    {
     "name": "stdout",
     "output_type": "stream",
     "text": [
      "\n",
      "## Employee columns\n"
     ]
    },
    {
     "name": "stderr",
     "output_type": "stream",
     "text": [
      "head: cannot open 'path_to_df' for reading: No such file or directory\n"
     ]
    },
    {
     "ename": "CalledProcessError",
     "evalue": "Command 'b'\\n# Show the headline from file \"employees_satisfaction_transformed.csv\"\\nprintf \"\\\\n## Employee columns\\\\n\"\\nhead -1 path_to_df\\n'' returned non-zero exit status 1.",
     "output_type": "error",
     "traceback": [
      "\u001b[1;31m---------------------------------------------------------------------------\u001b[0m",
      "\u001b[1;31mCalledProcessError\u001b[0m                        Traceback (most recent call last)",
      "Cell \u001b[1;32mIn[10], line 1\u001b[0m\n\u001b[1;32m----> 1\u001b[0m \u001b[43mget_ipython\u001b[49m\u001b[43m(\u001b[49m\u001b[43m)\u001b[49m\u001b[38;5;241;43m.\u001b[39;49m\u001b[43mrun_cell_magic\u001b[49m\u001b[43m(\u001b[49m\u001b[38;5;124;43m'\u001b[39;49m\u001b[38;5;124;43mbash\u001b[39;49m\u001b[38;5;124;43m'\u001b[39;49m\u001b[43m,\u001b[49m\u001b[43m \u001b[49m\u001b[38;5;124;43m'\u001b[39;49m\u001b[38;5;124;43m'\u001b[39;49m\u001b[43m,\u001b[49m\u001b[43m \u001b[49m\u001b[38;5;124;43m'\u001b[39;49m\u001b[38;5;130;43;01m\\n\u001b[39;49;00m\u001b[38;5;124;43m# Show the headline from file \u001b[39;49m\u001b[38;5;124;43m\"\u001b[39;49m\u001b[38;5;124;43memployees_satisfaction_transformed.csv\u001b[39;49m\u001b[38;5;124;43m\"\u001b[39;49m\u001b[38;5;130;43;01m\\n\u001b[39;49;00m\u001b[38;5;124;43mprintf \u001b[39;49m\u001b[38;5;124;43m\"\u001b[39;49m\u001b[38;5;130;43;01m\\\\\u001b[39;49;00m\u001b[38;5;124;43mn## Employee columns\u001b[39;49m\u001b[38;5;130;43;01m\\\\\u001b[39;49;00m\u001b[38;5;124;43mn\u001b[39;49m\u001b[38;5;124;43m\"\u001b[39;49m\u001b[38;5;130;43;01m\\n\u001b[39;49;00m\u001b[38;5;124;43mhead -1 path_to_df\u001b[39;49m\u001b[38;5;130;43;01m\\n\u001b[39;49;00m\u001b[38;5;124;43m'\u001b[39;49m\u001b[43m)\u001b[49m\n",
      "File \u001b[1;32m~\\PycharmProjects\\PAndasTutorial\\venv\\Lib\\site-packages\\IPython\\core\\interactiveshell.py:2478\u001b[0m, in \u001b[0;36mInteractiveShell.run_cell_magic\u001b[1;34m(self, magic_name, line, cell)\u001b[0m\n\u001b[0;32m   2476\u001b[0m \u001b[38;5;28;01mwith\u001b[39;00m \u001b[38;5;28mself\u001b[39m\u001b[38;5;241m.\u001b[39mbuiltin_trap:\n\u001b[0;32m   2477\u001b[0m     args \u001b[38;5;241m=\u001b[39m (magic_arg_s, cell)\n\u001b[1;32m-> 2478\u001b[0m     result \u001b[38;5;241m=\u001b[39m \u001b[43mfn\u001b[49m\u001b[43m(\u001b[49m\u001b[38;5;241;43m*\u001b[39;49m\u001b[43margs\u001b[49m\u001b[43m,\u001b[49m\u001b[43m \u001b[49m\u001b[38;5;241;43m*\u001b[39;49m\u001b[38;5;241;43m*\u001b[39;49m\u001b[43mkwargs\u001b[49m\u001b[43m)\u001b[49m\n\u001b[0;32m   2480\u001b[0m \u001b[38;5;66;03m# The code below prevents the output from being displayed\u001b[39;00m\n\u001b[0;32m   2481\u001b[0m \u001b[38;5;66;03m# when using magics with decodator @output_can_be_silenced\u001b[39;00m\n\u001b[0;32m   2482\u001b[0m \u001b[38;5;66;03m# when the last Python token in the expression is a ';'.\u001b[39;00m\n\u001b[0;32m   2483\u001b[0m \u001b[38;5;28;01mif\u001b[39;00m \u001b[38;5;28mgetattr\u001b[39m(fn, magic\u001b[38;5;241m.\u001b[39mMAGIC_OUTPUT_CAN_BE_SILENCED, \u001b[38;5;28;01mFalse\u001b[39;00m):\n",
      "File \u001b[1;32m~\\PycharmProjects\\PAndasTutorial\\venv\\Lib\\site-packages\\IPython\\core\\magics\\script.py:154\u001b[0m, in \u001b[0;36mScriptMagics._make_script_magic.<locals>.named_script_magic\u001b[1;34m(line, cell)\u001b[0m\n\u001b[0;32m    152\u001b[0m \u001b[38;5;28;01melse\u001b[39;00m:\n\u001b[0;32m    153\u001b[0m     line \u001b[38;5;241m=\u001b[39m script\n\u001b[1;32m--> 154\u001b[0m \u001b[38;5;28;01mreturn\u001b[39;00m \u001b[38;5;28;43mself\u001b[39;49m\u001b[38;5;241;43m.\u001b[39;49m\u001b[43mshebang\u001b[49m\u001b[43m(\u001b[49m\u001b[43mline\u001b[49m\u001b[43m,\u001b[49m\u001b[43m \u001b[49m\u001b[43mcell\u001b[49m\u001b[43m)\u001b[49m\n",
      "File \u001b[1;32m~\\PycharmProjects\\PAndasTutorial\\venv\\Lib\\site-packages\\IPython\\core\\magics\\script.py:314\u001b[0m, in \u001b[0;36mScriptMagics.shebang\u001b[1;34m(self, line, cell)\u001b[0m\n\u001b[0;32m    309\u001b[0m \u001b[38;5;28;01mif\u001b[39;00m args\u001b[38;5;241m.\u001b[39mraise_error \u001b[38;5;129;01mand\u001b[39;00m p\u001b[38;5;241m.\u001b[39mreturncode \u001b[38;5;241m!=\u001b[39m \u001b[38;5;241m0\u001b[39m:\n\u001b[0;32m    310\u001b[0m     \u001b[38;5;66;03m# If we get here and p.returncode is still None, we must have\u001b[39;00m\n\u001b[0;32m    311\u001b[0m     \u001b[38;5;66;03m# killed it but not yet seen its return code. We don't wait for it,\u001b[39;00m\n\u001b[0;32m    312\u001b[0m     \u001b[38;5;66;03m# in case it's stuck in uninterruptible sleep. -9 = SIGKILL\u001b[39;00m\n\u001b[0;32m    313\u001b[0m     rc \u001b[38;5;241m=\u001b[39m p\u001b[38;5;241m.\u001b[39mreturncode \u001b[38;5;129;01mor\u001b[39;00m \u001b[38;5;241m-\u001b[39m\u001b[38;5;241m9\u001b[39m\n\u001b[1;32m--> 314\u001b[0m     \u001b[38;5;28;01mraise\u001b[39;00m CalledProcessError(rc, cell)\n",
      "\u001b[1;31mCalledProcessError\u001b[0m: Command 'b'\\n# Show the headline from file \"employees_satisfaction_transformed.csv\"\\nprintf \"\\\\n## Employee columns\\\\n\"\\nhead -1 path_to_df\\n'' returned non-zero exit status 1."
     ]
    }
   ],
   "source": [
    "%%bash\n",
    "\n",
    "# Show the headline from file \"employees_satisfaction_transformed.csv\"\n",
    "printf \"\\n## Employee columns\\n\"\n",
    "head -1 ${DATA_PATH} /employees_satisfaction_transformed.csv"
   ]
  },
  {
   "cell_type": "markdown",
   "id": "40a01479",
   "metadata": {},
   "source": [
    "werden zwei weitere Dateien bereitgestellt:\n",
    "\n",
    "- *departments.csv*\n",
    "\n",
    "- *projects.csv*"
   ]
  },
  {
   "cell_type": "code",
   "execution_count": null,
   "id": "e5daf7f5",
   "metadata": {},
   "outputs": [],
   "source": [
    "%%bash\n",
    "\n",
    "# Show the headline from file \"departments.csv\"\n",
    "printf \"\\n## Department columns:\\n\"\n",
    "head -1 ${DATA_PATH}/departments.csv\n",
    "\n",
    "# Show the headline from file \"projects.csv\"\n",
    "printf \"\\n## Project columns\\n\"\n",
    "head -1 ${DATA_PATH}/projects.csv"
   ]
  },
  {
   "cell_type": "markdown",
   "id": "bc0c6b43",
   "metadata": {},
   "source": [
    "> *HINWEIS:* Die Binärdaten der Bilddateien (*Projects.proj_image*) sind base64 encodiert!"
   ]
  },
  {
   "cell_type": "markdown",
   "id": "e121aa86",
   "metadata": {},
   "source": [
    "\n",
    "\n",
    "<div class=\"alert alert-block alert-info\">\n",
    "    \n",
    "**Aufgabe 1**    \n",
    "\n",
    "Erstellen Sie zunächst ein Klassen-Diagramm, das die Struktur bzw. das Schema der vorhandenen Daten darstellt (Eine Klasse je CSV-Datei). Heben Sie insbesondere Primär- und Fremd-Schlüsselattribute hervor (fett) und Markieren Sie farblich (fett und rot) die in den vorliegenden Daten fehlenden Schlüsselattribute die für die nachfolgend aufgelisteten Beziehungen notwendig sind. Es ist ebenfalls sinnvoll eine Analyse der Datentypen (string, int, float) der vorhandenen Werte vorzunehmen und diese ebenfalls darzustellen.\n",
    "</div>\n",
    "\n",
    "\n",
    "Folgende Beziehungen sind in den Daten vorhanden bzw. sollen modelliert werden:\n",
    "\n",
    "- Ein Department hat mehrere Projekte, aber ein Projekt ist immer genau einem Department zugeordnet\n",
    "- Ein Department hat viele Mitarbeiter, aber ein Mitarbeiter ist nur einem Department zugeordnet\n",
    "\n",
    "\n",
    "\n",
    "> *HINWEIS:* Für die Modellierung verwenden wir PlantUML innerhalb der Jupyter-Notebook-Zellen. Eine Dokumentation zu PlantUML ist unter folgender URL zu finden: [https://plantuml.com/class-diagram](https://plantuml.com/class-diagram)"
   ]
  },
  {
   "cell_type": "code",
   "execution_count": 3,
   "id": "366a4500",
   "metadata": {
    "scrolled": false
   },
   "outputs": [
    {
     "data": {
      "image/svg+xml": [
       "<svg xmlns=\"http://www.w3.org/2000/svg\" xmlns:xlink=\"http://www.w3.org/1999/xlink\" contentStyleType=\"text/css\" height=\"489px\" preserveAspectRatio=\"none\" style=\"width:489px;height:489px;background:#FFFFFF;\" version=\"1.1\" viewBox=\"0 0 489 489\" width=\"489px\" zoomAndPan=\"magnify\"><defs/><g><text fill=\"#000000\" font-family=\"sans-serif\" font-size=\"14\" font-weight=\"bold\" lengthAdjust=\"spacing\" textLength=\"155\" x=\"160\" y=\"22.9951\">Relational diagram</text><!--class d--><g id=\"elem_d\"><rect codeLine=\"6\" fill=\"#F1F1F1\" height=\"99.4844\" id=\"d\" rx=\"2.5\" ry=\"2.5\" style=\"stroke:#181818;stroke-width:0.5;\" width=\"123\" x=\"182.5\" y=\"44.2969\"/><text fill=\"#000000\" font-family=\"sans-serif\" font-size=\"14\" lengthAdjust=\"spacing\" textLength=\"90\" x=\"199\" y=\"62.292\">Department</text><line style=\"stroke:#181818;stroke-width:0.5;\" x1=\"183.5\" x2=\"304.5\" y1=\"70.5938\" y2=\"70.5938\"/><ellipse cx=\"193.5\" cy=\"84.2422\" fill=\"#000000\" rx=\"3\" ry=\"3\" style=\"stroke:#000000;stroke-width:1.0;\"/><text fill=\"#000000\" font-family=\"sans-serif\" font-size=\"14\" font-weight=\"bold\" lengthAdjust=\"spacing\" textLength=\"97\" x=\"202.5\" y=\"87.5889\">id : int «PK»</text><ellipse cx=\"193.5\" cy=\"100.5391\" fill=\"#000000\" rx=\"3\" ry=\"3\" style=\"stroke:#000000;stroke-width:1.0;\"/><text fill=\"#000000\" font-family=\"sans-serif\" font-size=\"14\" lengthAdjust=\"spacing\" textLength=\"95\" x=\"202.5\" y=\"103.8857\">name : string</text><ellipse cx=\"193.5\" cy=\"116.8359\" fill=\"#000000\" rx=\"3\" ry=\"3\" style=\"stroke:#000000;stroke-width:1.0;\"/><text fill=\"#000000\" font-family=\"sans-serif\" font-size=\"14\" lengthAdjust=\"spacing\" textLength=\"82\" x=\"202.5\" y=\"120.1826\">city : string</text><ellipse cx=\"193.5\" cy=\"133.1328\" fill=\"#000000\" rx=\"3\" ry=\"3\" style=\"stroke:#000000;stroke-width:1.0;\"/><text fill=\"#000000\" font-family=\"sans-serif\" font-size=\"14\" lengthAdjust=\"spacing\" textLength=\"97\" x=\"202.5\" y=\"136.4795\">zip_code : int</text></g><!--class p--><g id=\"elem_p\"><rect codeLine=\"13\" fill=\"#F1F1F1\" height=\"148.375\" id=\"p\" rx=\"2.5\" ry=\"2.5\" style=\"stroke:#181818;stroke-width:0.5;\" width=\"220\" x=\"7\" y=\"277.2969\"/><text fill=\"#000000\" font-family=\"sans-serif\" font-size=\"14\" lengthAdjust=\"spacing\" textLength=\"59\" x=\"87.5\" y=\"295.292\">Projects</text><line style=\"stroke:#181818;stroke-width:0.5;\" x1=\"8\" x2=\"226\" y1=\"303.5938\" y2=\"303.5938\"/><ellipse cx=\"18\" cy=\"317.2422\" fill=\"#000000\" rx=\"3\" ry=\"3\" style=\"stroke:#000000;stroke-width:1.0;\"/><text fill=\"#FF6347\" font-family=\"sans-serif\" font-size=\"14\" font-weight=\"bold\" lengthAdjust=\"spacing\" textLength=\"97\" x=\"27\" y=\"320.5889\">id : int «PK»</text><ellipse cx=\"18\" cy=\"333.5391\" fill=\"#000000\" rx=\"3\" ry=\"3\" style=\"stroke:#000000;stroke-width:1.0;\"/><text fill=\"#000000\" font-family=\"sans-serif\" font-size=\"14\" font-weight=\"bold\" lengthAdjust=\"spacing\" textLength=\"194\" x=\"27\" y=\"336.8857\">department_id: int «FK»</text><ellipse cx=\"18\" cy=\"349.8359\" fill=\"#000000\" rx=\"3\" ry=\"3\" style=\"stroke:#000000;stroke-width:1.0;\"/><text fill=\"#000000\" font-family=\"sans-serif\" font-size=\"14\" lengthAdjust=\"spacing\" textLength=\"82\" x=\"27\" y=\"353.1826\">title: string</text><ellipse cx=\"18\" cy=\"366.1328\" fill=\"#000000\" rx=\"3\" ry=\"3\" style=\"stroke:#000000;stroke-width:1.0;\"/><text fill=\"#000000\" font-family=\"sans-serif\" font-size=\"14\" lengthAdjust=\"spacing\" textLength=\"131\" x=\"27\" y=\"369.4795\">proj_image: string</text><ellipse cx=\"18\" cy=\"382.4297\" fill=\"#000000\" rx=\"3\" ry=\"3\" style=\"stroke:#000000;stroke-width:1.0;\"/><text fill=\"#000000\" font-family=\"sans-serif\" font-size=\"14\" lengthAdjust=\"spacing\" textLength=\"95\" x=\"27\" y=\"385.7764\">budget: float</text><ellipse cx=\"18\" cy=\"398.7266\" fill=\"#000000\" rx=\"3\" ry=\"3\" style=\"stroke:#000000;stroke-width:1.0;\"/><text fill=\"#000000\" font-family=\"sans-serif\" font-size=\"14\" lengthAdjust=\"spacing\" textLength=\"126\" x=\"27\" y=\"402.0732\">start_date: string</text><ellipse cx=\"18\" cy=\"415.0234\" fill=\"#000000\" rx=\"3\" ry=\"3\" style=\"stroke:#000000;stroke-width:1.0;\"/><text fill=\"#000000\" font-family=\"sans-serif\" font-size=\"14\" lengthAdjust=\"spacing\" textLength=\"118\" x=\"27\" y=\"418.3701\">end_date: string</text></g><!--class e--><g id=\"elem_e\"><rect codeLine=\"23\" fill=\"#F1F1F1\" height=\"262.4531\" id=\"e\" rx=\"2.5\" ry=\"2.5\" style=\"stroke:#181818;stroke-width:0.5;\" width=\"220\" x=\"262\" y=\"220.2969\"/><text fill=\"#000000\" font-family=\"sans-serif\" font-size=\"14\" lengthAdjust=\"spacing\" textLength=\"79\" x=\"332.5\" y=\"238.292\">Employees</text><line style=\"stroke:#181818;stroke-width:0.5;\" x1=\"263\" x2=\"481\" y1=\"246.5938\" y2=\"246.5938\"/><ellipse cx=\"273\" cy=\"260.2422\" fill=\"#000000\" rx=\"3\" ry=\"3\" style=\"stroke:#000000;stroke-width:1.0;\"/><text fill=\"#000000\" font-family=\"sans-serif\" font-size=\"14\" font-weight=\"bold\" lengthAdjust=\"spacing\" textLength=\"97\" x=\"282\" y=\"263.5889\">id : int «PK»</text><ellipse cx=\"273\" cy=\"276.5391\" fill=\"#000000\" rx=\"3\" ry=\"3\" style=\"stroke:#000000;stroke-width:1.0;\"/><text fill=\"#FF6347\" font-family=\"sans-serif\" font-size=\"14\" font-weight=\"bold\" lengthAdjust=\"spacing\" textLength=\"194\" x=\"282\" y=\"279.8857\">department_id: int «FK»</text><ellipse cx=\"273\" cy=\"292.8359\" fill=\"#000000\" rx=\"3\" ry=\"3\" style=\"stroke:#000000;stroke-width:1.0;\"/><text fill=\"#000000\" font-family=\"sans-serif\" font-size=\"14\" lengthAdjust=\"spacing\" textLength=\"59\" x=\"282\" y=\"296.1826\">age : int</text><ellipse cx=\"273\" cy=\"309.1328\" fill=\"#000000\" rx=\"3\" ry=\"3\" style=\"stroke:#000000;stroke-width:1.0;\"/><text fill=\"#000000\" font-family=\"sans-serif\" font-size=\"14\" lengthAdjust=\"spacing\" textLength=\"143\" x=\"282\" y=\"312.4795\">department : string</text><ellipse cx=\"273\" cy=\"325.4297\" fill=\"#000000\" rx=\"3\" ry=\"3\" style=\"stroke:#000000;stroke-width:1.0;\"/><text fill=\"#000000\" font-family=\"sans-serif\" font-size=\"14\" lengthAdjust=\"spacing\" textLength=\"106\" x=\"282\" y=\"328.7764\">gender : string</text><ellipse cx=\"273\" cy=\"341.7266\" fill=\"#000000\" rx=\"3\" ry=\"3\" style=\"stroke:#000000;stroke-width:1.0;\"/><text fill=\"#000000\" font-family=\"sans-serif\" font-size=\"14\" lengthAdjust=\"spacing\" textLength=\"126\" x=\"282\" y=\"345.0732\">education : string</text><ellipse cx=\"273\" cy=\"358.0234\" fill=\"#000000\" rx=\"3\" ry=\"3\" style=\"stroke:#000000;stroke-width:1.0;\"/><text fill=\"#000000\" font-family=\"sans-serif\" font-size=\"14\" lengthAdjust=\"spacing\" textLength=\"183\" x=\"282\" y=\"361.3701\">recruitment_type : string</text><ellipse cx=\"273\" cy=\"374.3203\" fill=\"#000000\" rx=\"3\" ry=\"3\" style=\"stroke:#000000;stroke-width:1.0;\"/><text fill=\"#000000\" font-family=\"sans-serif\" font-size=\"14\" lengthAdjust=\"spacing\" textLength=\"97\" x=\"282\" y=\"377.667\">job_level : int</text><ellipse cx=\"273\" cy=\"390.6172\" fill=\"#000000\" rx=\"3\" ry=\"3\" style=\"stroke:#000000;stroke-width:1.0;\"/><text fill=\"#000000\" font-family=\"sans-serif\" font-size=\"14\" lengthAdjust=\"spacing\" textLength=\"98\" x=\"282\" y=\"393.9639\">rating : string</text><ellipse cx=\"273\" cy=\"406.9141\" fill=\"#000000\" rx=\"3\" ry=\"3\" style=\"stroke:#000000;stroke-width:1.0;\"/><text fill=\"#000000\" font-family=\"sans-serif\" font-size=\"14\" lengthAdjust=\"spacing\" textLength=\"82\" x=\"282\" y=\"410.2607\">awards : int</text><ellipse cx=\"273\" cy=\"423.2109\" fill=\"#000000\" rx=\"3\" ry=\"3\" style=\"stroke:#000000;stroke-width:1.0;\"/><text fill=\"#000000\" font-family=\"sans-serif\" font-size=\"14\" lengthAdjust=\"spacing\" textLength=\"129\" x=\"282\" y=\"426.5576\">certifications : int</text><ellipse cx=\"273\" cy=\"439.5078\" fill=\"#000000\" rx=\"3\" ry=\"3\" style=\"stroke:#000000;stroke-width:1.0;\"/><text fill=\"#000000\" font-family=\"sans-serif\" font-size=\"14\" lengthAdjust=\"spacing\" textLength=\"88\" x=\"282\" y=\"442.8545\">salary : float</text><ellipse cx=\"273\" cy=\"455.8047\" fill=\"#000000\" rx=\"3\" ry=\"3\" style=\"stroke:#000000;stroke-width:1.0;\"/><text fill=\"#000000\" font-family=\"sans-serif\" font-size=\"14\" lengthAdjust=\"spacing\" textLength=\"134\" x=\"282\" y=\"459.1514\">entry_date : string</text><ellipse cx=\"273\" cy=\"472.1016\" fill=\"#000000\" rx=\"3\" ry=\"3\" style=\"stroke:#000000;stroke-width:1.0;\"/><text fill=\"#000000\" font-family=\"sans-serif\" font-size=\"14\" lengthAdjust=\"spacing\" textLength=\"94\" x=\"282\" y=\"475.4482\">satisfied : int</text></g><!--link d to e--><g id=\"link_d_e\"><path codeLine=\"40\" d=\"M268.377,143.4559 C279.439,165.5359 293.104,192.8129 306.84,220.2319 \" fill=\"none\" id=\"d-e\" style=\"stroke:#181818;stroke-width:1.0;\"/><polygon fill=\"#000000\" points=\"297.2396,186.3337,295.8158,176.9303,290.5605,179.563,297.2396,186.3337\" style=\"stroke:#000000;stroke-width:1.0;\"/><text fill=\"#000000\" font-family=\"sans-serif\" font-size=\"13\" lengthAdjust=\"spacing\" textLength=\"23\" x=\"304\" y=\"186.3638\">has</text><text fill=\"#000000\" font-family=\"sans-serif\" font-size=\"13\" lengthAdjust=\"spacing\" textLength=\"8\" x=\"263.3699\" y=\"163.8922\">1</text><text fill=\"#000000\" font-family=\"sans-serif\" font-size=\"13\" lengthAdjust=\"spacing\" textLength=\"23\" x=\"279.4081\" y=\"209.2787\">0..*</text></g><!--link d to p--><g id=\"link_d_p\"><path codeLine=\"41\" d=\"M219.813,143.4559 C201.03,181.2449 174.679,234.2569 153.358,277.1519 \" fill=\"none\" id=\"d-p\" style=\"stroke:#181818;stroke-width:1.0;\"/><polygon fill=\"#000000\" points=\"205.7745,186.3407,212.4322,179.5491,207.1688,176.9329,205.7745,186.3407\" style=\"stroke:#000000;stroke-width:1.0;\"/><text fill=\"#000000\" font-family=\"sans-serif\" font-size=\"13\" lengthAdjust=\"spacing\" textLength=\"23\" x=\"217\" y=\"186.3638\">has</text><text fill=\"#000000\" font-family=\"sans-serif\" font-size=\"13\" lengthAdjust=\"spacing\" textLength=\"8\" x=\"207.673\" y=\"163.8922\">1</text><text fill=\"#000000\" font-family=\"sans-serif\" font-size=\"13\" lengthAdjust=\"spacing\" textLength=\"23\" x=\"132.805\" y=\"266.1699\">0..*</text></g><!--SRC=[XL8zRy8m4DtpAquPBK7R5KMPsYvTKDKzEkmZ6DbnP1z5AUf_hqb28APgCpdltTrxzy6Q3S4x6MJj6ZIWDDOURRRJYa1gBmqDRqjsGpvaOUUEiDLaLCWoQJ04o9-fHS-M6iu10oWuPH0_0K9e1IlG3KDHhD_AKeYHQT1IP09xtTGZ9ZLtAVQbsqewHKELx7lIN7kt9ycXLsnxGG65TCRvrOUpoAxyHRruw2FARBId9kULLfVGryce03uFwDQJW3OgLzfYdU2RWwg9Lx0r3dc00iVgbK9EGgbHS_JQrujjZUk8XiO8Jja_aqnx_gEbs-vZPknW7ElmVyrCjr17m-HJbDH1zdUJ4fwaF-Z10tVjtQBtRbCP-YGpa_UnLbEdiNX4hy8iK99dlTM3zfmAQD2VZsXQGZzjzbq_xxHuY2L2F6PrFIy5-LCEYmNaZykboE6SiukRAE-OziBy0000]--></g></svg>"
      ],
      "text/plain": [
       "<IPython.core.display.SVG object>"
      ]
     },
     "execution_count": 3,
     "metadata": {},
     "output_type": "execute_result"
    }
   ],
   "source": [
    "%%plantuml\n",
    "@startuml\n",
    "\n",
    "title Relational diagram\n",
    "hide circle\n",
    "hide members\n",
    "show fields\n",
    "\n",
    "class \"Department\" as d {\n",
    "    * **id : int <<PK>>**\n",
    "    * name : string\n",
    "    * city : string\n",
    "    * zip_code : int\n",
    "}\n",
    "\n",
    "class \"Projects\" as p{\n",
    "   * <color:Tomato>**id : int <<PK>>**</color>\n",
    "   * **department_id: int <<FK>>**\n",
    "   * title: string\n",
    "   * proj_image: string\n",
    "   * budget: float\n",
    "   * start_date: string\n",
    "   * end_date: string\n",
    "}\n",
    "\n",
    "class \"Employees\" as e {\n",
    "   * **id : int <<PK>>**\n",
    "    * <color:Tomato>**department_id: int <<FK>>**</color>\n",
    "    * age : int\n",
    "    * department : string\n",
    "    * gender : string\n",
    "    * education : string\n",
    "    * recruitment_type : string\n",
    "    * job_level : int\n",
    "    * rating : string\n",
    "    * awards : int\n",
    "    * certifications : int\n",
    "    * salary : float\n",
    "    * entry_date : string\n",
    "    * satisfied : int\n",
    "}\n",
    "\n",
    "d \"1\" -- \"0..*\" e : has >\n",
    "d \"1\" -- \"0..*\" p : has >\n",
    "\n",
    "\n",
    "\n",
    "@enduml"
   ]
  },
  {
   "cell_type": "markdown",
   "id": "2926ccc8",
   "metadata": {},
   "source": [
    "## PostgreSQL    \n",
    "\n",
    "Im Folgenden sollen die vorhandenen Daten zunächst in ein relationales Datenbanksystem - in diesem Fall PostgreSQL - importiert werden.\n",
    "\n",
    "<div class=\"alert alert-block alert-info\">\n",
    "    \n",
    "**Aufgabe 2**    \n",
    "    \n",
    "Bilden Sie das in Aufgabe 1 aus den vorhandenen Daten extrahiert Modell jetzt geeignet auf das relationale Datenmodell ab (pysisches Modell). Hierbei muss im Sinne einer Normalisierung kein weitere Aufteilung der Tabellen vorgenommen werden. Markieren Sie ebenfalls wieder farblich für die Modellierung notwendigen Attribute, die in den vorhandenen Daten fehlen. Kennzeichnen Sie ebenfalls redundante Attribute die Sie an dieser Stelle entfernen würden. \n",
    "</div>\n",
    "\n"
   ]
  },
  {
   "cell_type": "code",
   "execution_count": 4,
   "id": "fabe68f9",
   "metadata": {},
   "outputs": [
    {
     "data": {
      "image/svg+xml": [
       "<svg xmlns=\"http://www.w3.org/2000/svg\" xmlns:xlink=\"http://www.w3.org/1999/xlink\" contentStyleType=\"text/css\" height=\"435px\" preserveAspectRatio=\"none\" style=\"width:868px;height:435px;background:#FFFFFF;\" version=\"1.1\" viewBox=\"0 0 868 435\" width=\"868px\" zoomAndPan=\"magnify\"><defs/><g><!--class d--><g id=\"elem_d\"><rect codeLine=\"5\" fill=\"#F1F1F1\" height=\"99.4844\" id=\"d\" rx=\"2.5\" ry=\"2.5\" style=\"stroke:#181818;stroke-width:0.5;\" width=\"119\" x=\"564\" y=\"7\"/><text fill=\"#000000\" font-family=\"sans-serif\" font-size=\"14\" lengthAdjust=\"spacing\" textLength=\"90\" x=\"578.5\" y=\"24.9951\">Department</text><line style=\"stroke:#181818;stroke-width:0.5;\" x1=\"565\" x2=\"682\" y1=\"33.2969\" y2=\"33.2969\"/><ellipse cx=\"575\" cy=\"46.9453\" fill=\"#000000\" rx=\"3\" ry=\"3\" style=\"stroke:#000000;stroke-width:1.0;\"/><text fill=\"#000000\" font-family=\"sans-serif\" font-size=\"14\" font-weight=\"bold\" lengthAdjust=\"spacing\" textLength=\"92\" x=\"584\" y=\"50.292\">id: int «PK»</text><ellipse cx=\"575\" cy=\"63.2422\" fill=\"#000000\" rx=\"3\" ry=\"3\" style=\"stroke:#000000;stroke-width:1.0;\"/><text fill=\"#000000\" font-family=\"sans-serif\" font-size=\"14\" lengthAdjust=\"spacing\" textLength=\"80\" x=\"584\" y=\"66.5889\">name: text</text><ellipse cx=\"575\" cy=\"79.5391\" fill=\"#000000\" rx=\"3\" ry=\"3\" style=\"stroke:#000000;stroke-width:1.0;\"/><text fill=\"#000000\" font-family=\"sans-serif\" font-size=\"14\" lengthAdjust=\"spacing\" textLength=\"67\" x=\"584\" y=\"82.8857\">city: text</text><ellipse cx=\"575\" cy=\"95.8359\" fill=\"#000000\" rx=\"3\" ry=\"3\" style=\"stroke:#000000;stroke-width:1.0;\"/><text fill=\"#000000\" font-family=\"sans-serif\" font-size=\"14\" lengthAdjust=\"spacing\" textLength=\"93\" x=\"584\" y=\"99.1826\">zip_code: int</text></g><!--class p--><g id=\"elem_p\"><rect codeLine=\"12\" fill=\"#F1F1F1\" height=\"148.375\" id=\"p\" rx=\"2.5\" ry=\"2.5\" style=\"stroke:#181818;stroke-width:0.5;\" width=\"220\" x=\"641.5\" y=\"223\"/><text fill=\"#000000\" font-family=\"sans-serif\" font-size=\"14\" lengthAdjust=\"spacing\" textLength=\"52\" x=\"725.5\" y=\"240.9951\">Project</text><line style=\"stroke:#181818;stroke-width:0.5;\" x1=\"642.5\" x2=\"860.5\" y1=\"249.2969\" y2=\"249.2969\"/><ellipse cx=\"652.5\" cy=\"262.9453\" fill=\"#000000\" rx=\"3\" ry=\"3\" style=\"stroke:#000000;stroke-width:1.0;\"/><text fill=\"#FF6347\" font-family=\"sans-serif\" font-size=\"14\" font-weight=\"bold\" lengthAdjust=\"spacing\" textLength=\"92\" x=\"661.5\" y=\"266.292\">id: int «PK»</text><ellipse cx=\"652.5\" cy=\"279.2422\" fill=\"#000000\" rx=\"3\" ry=\"3\" style=\"stroke:#000000;stroke-width:1.0;\"/><text fill=\"#000000\" font-family=\"sans-serif\" font-size=\"14\" font-weight=\"bold\" lengthAdjust=\"spacing\" textLength=\"194\" x=\"661.5\" y=\"282.5889\">department_id: int «FK»</text><ellipse cx=\"652.5\" cy=\"295.5391\" fill=\"#000000\" rx=\"3\" ry=\"3\" style=\"stroke:#000000;stroke-width:1.0;\"/><text fill=\"#000000\" font-family=\"sans-serif\" font-size=\"14\" lengthAdjust=\"spacing\" textLength=\"71\" x=\"661.5\" y=\"298.8857\">title: text</text><ellipse cx=\"652.5\" cy=\"311.8359\" fill=\"#000000\" rx=\"3\" ry=\"3\" style=\"stroke:#000000;stroke-width:1.0;\"/><text fill=\"#000000\" font-family=\"sans-serif\" font-size=\"14\" lengthAdjust=\"spacing\" textLength=\"131\" x=\"661.5\" y=\"315.1826\">proj_image: bytea</text><ellipse cx=\"652.5\" cy=\"328.1328\" fill=\"#000000\" rx=\"3\" ry=\"3\" style=\"stroke:#000000;stroke-width:1.0;\"/><text fill=\"#000000\" font-family=\"sans-serif\" font-size=\"14\" lengthAdjust=\"spacing\" textLength=\"95\" x=\"661.5\" y=\"331.4795\">budget: float</text><ellipse cx=\"652.5\" cy=\"344.4297\" fill=\"#000000\" rx=\"3\" ry=\"3\" style=\"stroke:#000000;stroke-width:1.0;\"/><text fill=\"#000000\" font-family=\"sans-serif\" font-size=\"14\" lengthAdjust=\"spacing\" textLength=\"117\" x=\"661.5\" y=\"347.7764\">start_date: date</text><ellipse cx=\"652.5\" cy=\"360.7266\" fill=\"#000000\" rx=\"3\" ry=\"3\" style=\"stroke:#000000;stroke-width:1.0;\"/><text fill=\"#000000\" font-family=\"sans-serif\" font-size=\"14\" lengthAdjust=\"spacing\" textLength=\"109\" x=\"661.5\" y=\"364.0732\">end_date: date</text></g><!--class e--><g id=\"elem_e\"><rect codeLine=\"22\" fill=\"#F1F1F1\" height=\"262.4531\" id=\"e\" rx=\"2.5\" ry=\"2.5\" style=\"stroke:#181818;stroke-width:0.5;\" width=\"220\" x=\"386.5\" y=\"166\"/><text fill=\"#000000\" font-family=\"sans-serif\" font-size=\"14\" lengthAdjust=\"spacing\" textLength=\"72\" x=\"460.5\" y=\"183.9951\">Employee</text><line style=\"stroke:#181818;stroke-width:0.5;\" x1=\"387.5\" x2=\"605.5\" y1=\"192.2969\" y2=\"192.2969\"/><ellipse cx=\"397.5\" cy=\"205.9453\" fill=\"#000000\" rx=\"3\" ry=\"3\" style=\"stroke:#000000;stroke-width:1.0;\"/><text fill=\"#000000\" font-family=\"sans-serif\" font-size=\"14\" font-weight=\"bold\" lengthAdjust=\"spacing\" textLength=\"87\" x=\"406.5\" y=\"209.292\">id: int«PK»</text><ellipse cx=\"397.5\" cy=\"222.2422\" fill=\"#000000\" rx=\"3\" ry=\"3\" style=\"stroke:#000000;stroke-width:1.0;\"/><text fill=\"#FF6347\" font-family=\"sans-serif\" font-size=\"14\" font-weight=\"bold\" lengthAdjust=\"spacing\" textLength=\"194\" x=\"406.5\" y=\"225.5889\">department_id: int «FK»</text><ellipse cx=\"397.5\" cy=\"238.5391\" fill=\"#000000\" rx=\"3\" ry=\"3\" style=\"stroke:#000000;stroke-width:1.0;\"/><text fill=\"#000000\" font-family=\"sans-serif\" font-size=\"14\" lengthAdjust=\"spacing\" textLength=\"55\" x=\"406.5\" y=\"241.8857\">age: int</text><ellipse cx=\"397.5\" cy=\"254.8359\" fill=\"#000000\" rx=\"3\" ry=\"3\" style=\"stroke:#000000;stroke-width:1.0;\"/><text fill=\"#696969\" font-family=\"sans-serif\" font-size=\"14\" lengthAdjust=\"spacing\" textLength=\"88\" x=\"406.5\" y=\"258.1826\">department</text><ellipse cx=\"397.5\" cy=\"271.1328\" fill=\"#000000\" rx=\"3\" ry=\"3\" style=\"stroke:#000000;stroke-width:1.0;\"/><text fill=\"#000000\" font-family=\"sans-serif\" font-size=\"14\" lengthAdjust=\"spacing\" textLength=\"91\" x=\"406.5\" y=\"274.4795\">gender: text</text><ellipse cx=\"397.5\" cy=\"287.4297\" fill=\"#000000\" rx=\"3\" ry=\"3\" style=\"stroke:#000000;stroke-width:1.0;\"/><text fill=\"#000000\" font-family=\"sans-serif\" font-size=\"14\" lengthAdjust=\"spacing\" textLength=\"111\" x=\"406.5\" y=\"290.7764\">education: text</text><ellipse cx=\"397.5\" cy=\"303.7266\" fill=\"#000000\" rx=\"3\" ry=\"3\" style=\"stroke:#000000;stroke-width:1.0;\"/><text fill=\"#000000\" font-family=\"sans-serif\" font-size=\"14\" lengthAdjust=\"spacing\" textLength=\"168\" x=\"406.5\" y=\"307.0732\">recruitment_type: text</text><ellipse cx=\"397.5\" cy=\"320.0234\" fill=\"#000000\" rx=\"3\" ry=\"3\" style=\"stroke:#000000;stroke-width:1.0;\"/><text fill=\"#000000\" font-family=\"sans-serif\" font-size=\"14\" lengthAdjust=\"spacing\" textLength=\"93\" x=\"406.5\" y=\"323.3701\">job_level: int</text><ellipse cx=\"397.5\" cy=\"336.3203\" fill=\"#000000\" rx=\"3\" ry=\"3\" style=\"stroke:#000000;stroke-width:1.0;\"/><text fill=\"#000000\" font-family=\"sans-serif\" font-size=\"14\" lengthAdjust=\"spacing\" textLength=\"86\" x=\"406.5\" y=\"339.667\">rating: float</text><ellipse cx=\"397.5\" cy=\"352.6172\" fill=\"#000000\" rx=\"3\" ry=\"3\" style=\"stroke:#000000;stroke-width:1.0;\"/><text fill=\"#000000\" font-family=\"sans-serif\" font-size=\"14\" lengthAdjust=\"spacing\" textLength=\"78\" x=\"406.5\" y=\"355.9639\">awards: int</text><ellipse cx=\"397.5\" cy=\"368.9141\" fill=\"#000000\" rx=\"3\" ry=\"3\" style=\"stroke:#000000;stroke-width:1.0;\"/><text fill=\"#000000\" font-family=\"sans-serif\" font-size=\"14\" lengthAdjust=\"spacing\" textLength=\"125\" x=\"406.5\" y=\"372.2607\">certifications: int</text><ellipse cx=\"397.5\" cy=\"385.2109\" fill=\"#000000\" rx=\"3\" ry=\"3\" style=\"stroke:#000000;stroke-width:1.0;\"/><text fill=\"#000000\" font-family=\"sans-serif\" font-size=\"14\" lengthAdjust=\"spacing\" textLength=\"84\" x=\"406.5\" y=\"388.5576\">salary: float</text><ellipse cx=\"397.5\" cy=\"401.5078\" fill=\"#000000\" rx=\"3\" ry=\"3\" style=\"stroke:#000000;stroke-width:1.0;\"/><text fill=\"#000000\" font-family=\"sans-serif\" font-size=\"14\" lengthAdjust=\"spacing\" textLength=\"121\" x=\"406.5\" y=\"404.8545\">entry_date: date</text><ellipse cx=\"397.5\" cy=\"417.8047\" fill=\"#000000\" rx=\"3\" ry=\"3\" style=\"stroke:#000000;stroke-width:1.0;\"/><text fill=\"#000000\" font-family=\"sans-serif\" font-size=\"14\" lengthAdjust=\"spacing\" textLength=\"90\" x=\"406.5\" y=\"421.1514\">satisfied: int</text></g><path d=\"M6,272 L6,312.2656 A0,0 0 0 0 6,312.2656 L351,312.2656 A0,0 0 0 0 351,312.2656 L351,296.1328 L390.5,253.3359 L351,288.1328 L351,282 L341,272 L6,272 A0,0 0 0 0 6,272 \" fill=\"#FEFFDD\" style=\"stroke:#181818;stroke-width:0.5;\"/><path d=\"M341,272 L341,282 L351,282 L341,272 \" fill=\"#FEFFDD\" style=\"stroke:#181818;stroke-width:0.5;\"/><text fill=\"#000000\" font-family=\"sans-serif\" font-size=\"13\" lengthAdjust=\"spacing\" textLength=\"85\" x=\"12\" y=\"289.0669\">Das Attribute</text><text fill=\"#000000\" font-family=\"sans-serif\" font-size=\"13\" font-weight=\"bold\" lengthAdjust=\"spacing\" textLength=\"91\" x=\"101\" y=\"289.0669\">department</text><text fill=\"#000000\" font-family=\"sans-serif\" font-size=\"13\" lengthAdjust=\"spacing\" textLength=\"97\" x=\"196\" y=\"289.0669\">wird geloescht,</text><text fill=\"#000000\" font-family=\"sans-serif\" font-size=\"13\" lengthAdjust=\"spacing\" textLength=\"324\" x=\"12\" y=\"304.1997\">da dieses ansonsten redundant vorhanden waere!</text><!--reverse link d to e--><g id=\"link_d_e\"><path codeLine=\"45\" d=\"M594.8268,111.3479 C585.4708,128.9169 577.229,144.395 565.914,165.644 \" fill=\"none\" id=\"d-backto-e\" style=\"stroke:#181818;stroke-width:1.0;\"/><polygon fill=\"#181818\" points=\"597.647,106.052,589.8861,112.1157,595.2968,110.4652,596.9473,115.876,597.647,106.052\" style=\"stroke:#181818;stroke-width:1.0;\"/><text fill=\"#000000\" font-family=\"sans-serif\" font-size=\"13\" lengthAdjust=\"spacing\" textLength=\"8\" x=\"585.2623\" y=\"126.4726\">1</text><text fill=\"#000000\" font-family=\"sans-serif\" font-size=\"13\" lengthAdjust=\"spacing\" textLength=\"23\" x=\"546.0812\" y=\"155.1084\">0..*</text></g><!--reverse link d to p--><g id=\"link_d_p\"><path codeLine=\"46\" d=\"M652.3944,111.3387 C670.3764,144.8427 691.775,184.715 712.104,222.594 \" fill=\"none\" id=\"d-backto-p\" style=\"stroke:#181818;stroke-width:1.0;\"/><polygon fill=\"#181818\" points=\"649.557,106.052,650.2887,115.8736,651.9215,110.4576,657.3376,112.0904,649.557,106.052\" style=\"stroke:#181818;stroke-width:1.0;\"/><text fill=\"#000000\" font-family=\"sans-serif\" font-size=\"13\" lengthAdjust=\"spacing\" textLength=\"8\" x=\"644.7966\" y=\"126.4726\">1</text><text fill=\"#000000\" font-family=\"sans-serif\" font-size=\"13\" lengthAdjust=\"spacing\" textLength=\"23\" x=\"684.253\" y=\"211.8427\">0..*</text></g><!--SRC=[ZP91Zvmm38Nl-HKkHzJTjbU4a2fDsqClU-WTcSGCMOK49MQdjEf_huUPicH6gfO3GY-st_CN1ci8j8tQaHhEtoED7SMaqX1Eq5jo9Ycb7QO4nO4cZ3oIvm8mWO7V2kGfeIojgS1wXhf- -juqPNazy3XI1Km_-Ifeoqic_B9JguEXjLtzsRoUOdWcVJ6QDgDQ1nTYzIECoA6vjwq_h0NDbijiaTlNsg_xY6pPvHadiMxjY4UHkuK9htetcoDn1RqB-AysiOnl3RBKdjzNcRpPYR3RwyiukR0GhOlHFS4RWBSB_sUVcztN-6UcsQ237Rz5MfhNEJTjHubECUD1PjR8DlXCZQJZR2zHU9boXC-XQnszaDj7Y3B47tD-UC9eqhvAKsJRsujZTfBGOLpoVd6Fopt_9Dr9_bwp_LO-o3quwXb23rHLR-Dna4lwp1njDqlx7dzPmib68xnSeAG7VWzhXq4mbX8bG9za0IOlgCpi3SfTlOGue03sS4AAz4u9RJX7KqePA3uLK3yyGF7nyR4iWEwbwIy0]--></g></svg>"
      ],
      "text/plain": [
       "<IPython.core.display.SVG object>"
      ]
     },
     "execution_count": 4,
     "metadata": {},
     "output_type": "execute_result"
    }
   ],
   "source": [
    "%%plantuml\n",
    "@startuml\n",
    "\n",
    "hide circle\n",
    "hide members\n",
    "show fields\n",
    "\n",
    "class \"Department\" as d {\n",
    "    * **id: int <<PK>>**\n",
    "    * name: text\n",
    "    * city: text\n",
    "    * zip_code: int\n",
    "}\n",
    "\n",
    "class \"Project\" as p {\n",
    "    * <color:Tomato>**id: int <<PK>>**</color>\n",
    "    * **department_id: int <<FK>>**\n",
    "    * title: text\n",
    "    * proj_image: bytea\n",
    "    * budget: float\n",
    "    * start_date: date\n",
    "    * end_date: date \n",
    "}\n",
    "\n",
    "class \"Employee\" as e {\n",
    "    * **id: int<<PK>>**\n",
    "    * <color:Tomato>**department_id: int <<FK>>**</color>\n",
    "    * age: int\n",
    "    * <color:DimGrey>department</color>\n",
    "    * gender: text\n",
    "    * education: text\n",
    "    * recruitment_type: text\n",
    "    * job_level: int\n",
    "    * rating: float\n",
    "    * awards: int\n",
    "    * certifications: int\n",
    "    * salary: float\n",
    "    * entry_date: date\n",
    "    * satisfied: int\n",
    "}\n",
    "\n",
    "note left of e::<color:DimGrey>department</color>\n",
    "    Das Attribute **department** wird geloescht, \n",
    "    da dieses ansonsten redundant vorhanden waere!\n",
    "end note\n",
    "\n",
    "\n",
    "d \"1\" <-- \"0..*\" e\n",
    "d \"1\" <-- \"0..*\" p\n",
    "   \n",
    "@enduml"
   ]
  },
  {
   "cell_type": "markdown",
   "id": "5ab5c7fe",
   "metadata": {},
   "source": [
    "### Data Preparation   \n",
    "\n",
    "$$ \\\\ $$\n",
    "\n",
    "<div class=\"alert alert-block alert-info\">\n",
    "\n",
    "**Aufgabe 3**\n",
    "    \n",
    "Nehmen Sie an dieser Stelle für den Import möglicherweise notwendige Änderungen an den Daten vor. Es steht Ihnen frei dies mithilfe von Bash-Tools, Python-Skripten oder sonstigen Werkzeugen umzusetzen. \n",
    "\n",
    "Beschreiben Sie außerdem nachvollziehbar - mit Kommentaren im Code oder Markdown-Zellen - welche Änderungen Sie vornehmen und wieso Sie diese vornehmen.\n",
    "</div>\n",
    "\n"
   ]
  },
  {
   "cell_type": "markdown",
   "id": "9fc605dd",
   "metadata": {},
   "source": [
    "**Lösung:**\n",
    "1. Der Header wird aus den CSV-Dateien entfernt. Dies erleichtern den späteren Import in MongoDB mithilfe von mongoimport. Die Header werden zusätzlich in einer Textdatei abgelegt.\n",
    "2. Beim Import nach PostgreSQL kommt es zu einem Fehler, da die Spalte *rating* in der Datei employees_satisfaction_transformed.csv* strings und numerische Werte enthält. Muss korrigiert werden.\n",
    "\n",
    "**1. Header entfernen:**"
   ]
  },
  {
   "cell_type": "code",
   "execution_count": null,
   "id": "035c4533",
   "metadata": {},
   "outputs": [],
   "source": [
    "%%bash\n",
    "\n",
    "## move csv header to extra file\n",
    "head -1 ${DATA_PATH}/employees_satisfaction_transformed.csv > \\\n",
    "${DATA_PATH}/employees_satisfaction_transformed-header.txt\n",
    "\n",
    "head -1 ${DATA_PATH}/projects.csv > \\\n",
    "${DATA_PATH}/projects-header.txt\n",
    "\n",
    "head -1 ${DATA_PATH}/departments.csv > \\\n",
    "${DATA_PATH}/departments-header.txt\n",
    "\n",
    "## and remove the header from file\n",
    "tail -n +2 ${DATA_PATH}/departments.csv > ${DATA_PATH}/tmp.csv && \\\n",
    "mv ${DATA_PATH}/tmp.csv ${DATA_PATH}/departments.csv\n",
    "\n",
    "tail -n +2 ${DATA_PATH}/projects.csv > ${DATA_PATH}/tmp.csv \\\n",
    "&& mv ${DATA_PATH}/tmp.csv ${DATA_PATH}/projects.csv\n",
    "\n",
    "tail -n +2 ${DATA_PATH}/employees_satisfaction_transformed.csv > ${DATA_PATH}/tmp.csv && \\\n",
    "mv ${DATA_PATH}/tmp.csv ${DATA_PATH}/employees_satisfaction_transformed.csv"
   ]
  },
  {
   "cell_type": "code",
   "execution_count": null,
   "id": "c0d0fa19",
   "metadata": {},
   "outputs": [],
   "source": []
  },
  {
   "cell_type": "markdown",
   "id": "a5141bda",
   "metadata": {},
   "source": [
    "**2. Fehler in Spalte \"rating\" korrigieren**"
   ]
  },
  {
   "cell_type": "markdown",
   "id": "73dd1c7a",
   "metadata": {},
   "source": [
    "### Datenimport     \n",
    "\n",
    "\n",
    "Starten Sie jetzt einen Docker-Container mit einer PostgreSQL-Datenbank, innerhalb des Docker-Netzwerks, in dem sich alle weiteren hier verwendeten Container befinden."
   ]
  },
  {
   "cell_type": "code",
   "execution_count": null,
   "id": "4fe234fc",
   "metadata": {},
   "outputs": [],
   "source": [
    "%%bash\n",
    "\n",
    "sudo docker run -d --rm \\\n",
    "--name dbis-postgres-db-1 \\\n",
    "--hostname dbis-postgres-db-1 \\\n",
    "-v \"${HOST_DATA_PATH}:/mnt/workspace:ro\" \\\n",
    "-e POSTGRES_PASSWORD=root \\\n",
    "-p 127.0.0.1:5432:5432 \\\n",
    "--network dbis-hadoop-cluster-network \\\n",
    "postgres:14.4"
   ]
  },
  {
   "cell_type": "markdown",
   "id": "ea80bf65",
   "metadata": {},
   "source": [
    "Vergewissern Sie sich, dass der Container läuft:"
   ]
  },
  {
   "cell_type": "code",
   "execution_count": null,
   "id": "44414ac0",
   "metadata": {
    "scrolled": false
   },
   "outputs": [],
   "source": [
    "%%bash\n",
    "\n",
    "sudo docker ps --filter \"name=dbis-postgres-db-1\" --format \"table {{.Names}}\\t{{.Status}}\""
   ]
  },
  {
   "cell_type": "markdown",
   "id": "ce252c6d",
   "metadata": {},
   "source": [
    "<div class=\"alert alert-block alert-info\">\n",
    "    \n",
    "**Aufgabe 4**    \n",
    "    \n",
    "Schreiben Sie ein SQL-Skript, das die notwendigen Schema-Strukturen anlegt, die CSV-Dateien einliest und entsprechend dem in Aufgabe 2 entworfenem Modell \"Umstrukturierungen\" vornimmt. Vervollständigen Sie hierzu das nachfolgende SQL-Skript.\n",
    "\n",
    "Sie können natürlich auch abweichend alternative Methoden bzw. Tools verwenden. Der Python-Treiber für PostgreSQL ([psycopg](https://www.psycopg.org/psycopg3/docs/)) ist bereits installiert.\n",
    "</div>\n",
    "\n",
    "\n",
    "> *HINWEIS:* Der Import der Daten kann mehrere Minuten in Anspruch nehmen! Bezüglich der benötigten SQL-Aufrufe kann die Online-Dokumentation von PostgreSQL hilfreich sein (beispielsweise hinsichtlich des *COPY-FROM*-Befehls: [https://www.postgresql.org/docs/14/sql-copy.html](https://www.postgresql.org/docs/14/sql-copy.html)).\n"
   ]
  },
  {
   "cell_type": "markdown",
   "id": "d1f0f28e",
   "metadata": {},
   "source": [
    "Codeauschnitt für die Verwendung des Python-Treibers (Verbindungsaufbau mit einer PostgreSQL-Datenbank mithilfe des *pscopg*-Python-Modules):"
   ]
  },
  {
   "cell_type": "code",
   "execution_count": null,
   "id": "0af5868d",
   "metadata": {},
   "outputs": [],
   "source": [
    "import psycopg\n",
    "\n",
    "postgres_conn = None\n",
    "postgres_cursor = None\n",
    "try:\n",
    "    postgres_conn = psycopg.connect(\"host='dbis-postgres-db-1' dbname='satisfaction' user='postgres' password='root'\")\n",
    "    postgres_cursor = postgres_conn.cursor()\n",
    "except psycopg.DatabaseError:\n",
    "    print(\"No database connection!\")\n",
    "\n",
    "# ...\n",
    "\n",
    "postgres_cursor.close()\n",
    "postgres_conn.close()"
   ]
  },
  {
   "cell_type": "markdown",
   "id": "16267980",
   "metadata": {},
   "source": [
    "Vorgegebener \"Rahmen\" des SQL-Skripts:"
   ]
  },
  {
   "cell_type": "code",
   "execution_count": null,
   "id": "97edf0b8",
   "metadata": {},
   "outputs": [],
   "source": [
    "%%bash\n",
    "\n",
    "cat <<\"EOF\" | sudo docker exec -i dbis-postgres-db-1 psql -U postgres\n",
    "\n",
    "DROP DATABASE IF EXISTS satisfaction;\n",
    "CREATE DATABASE satisfaction;\n",
    "\\c satisfaction;\n",
    "\n",
    "\n",
    "CREATE TABLE ... (\n",
    "\n",
    "...\n",
    "\n",
    ");\n",
    "\n",
    "COPY \n",
    "    ...\n",
    "FROM \n",
    "   '/mnt/workspace/file.csv'\n",
    "WITH (\n",
    "    FORMAT CSV,\n",
    "    DELIMITER ',',\n",
    "    HEADER false,\n",
    "    NULL ''\n",
    ");\n",
    "\n",
    "...\n",
    "\n",
    "EOF"
   ]
  },
  {
   "cell_type": "markdown",
   "id": "9933fcb6",
   "metadata": {},
   "source": [
    "### Datenbankabfragen    \n",
    "\n",
    "$$ \\\\ $$\n",
    "\n",
    "<div class=\"alert alert-block alert-info\">\n",
    "    \n",
    "**Aufgabe 5**    \n",
    "    \n",
    "Schreiben Sie nun für nachfolgende Abfragen SQL-Statements und führen diese aus. Sie können entweder das vorgegebene SQL-Skript oder den Python-Treiber verwenden. Zu jeder Abfrage werden außerdem die Attribute angegeben, die jeweils ausgegeben werden sollen.\n",
    "</div>\n",
    "\n",
    "- **Q1. Anzahl Projekte pro Department**\n",
    "    - Auszugebende Attribute: *Department.id, Department.name, Department.city, Department.zip_code, count_projects*\n",
    "    - Erwartetes Ergebnis:\n",
    "\n",
    "\n",
    " id  |    name    |      city      | zip_code | count_projects \n",
    "-----|------------|----------------|----------|----------------\n",
    " 101 | HR         | Frankfurt a.M. |    60306 |             85\n",
    " 103 | Purchasing | München        |    80331 |            102\n",
    " 104 | Sales      | Hamburg        |    21140 |             59\n",
    " 105 | Technology | Berlin         |    10115 |            406\n",
    " 102 | Marketing  | Berlin         |    10115 |            348\n",
    "  \n",
    "\n",
    "- **Q2. Durchschnittliche Dauer aller Projekte**\n",
    "    - Auszugebende Attribute: *avg_project_duration_days*\n",
    "    - Erwartetes Ergebnis:\n",
    "    \n",
    "|  avg_proj_duration_days |\n",
    "|-------------------------|\n",
    "|   932.6690000000000000  |\n",
    "  \n",
    "- **Q3. Durchschnittliche Projektdauer pro Department**\n",
    "    - Auszugebende Attribute: *Department.id, Department.name, Department.city, Department.zip_code, avg_project_duration_days*\n",
    "    - Erwartetes Ergebnis:   \n",
    "  \n",
    "\n",
    " id  |    name    |      city      | zip_code | avg_proj_duration_days \n",
    "-----|------------|----------------|----------|------------------------\n",
    " 101 | HR         | Frankfurt a.M. |    60306 |   992.2000000000000000\n",
    " 103 | Purchasing | München        |    80331 |   993.4509803921568627\n",
    " 104 | Sales      | Hamburg        |    21140 |   856.1864406779661017\n",
    " 105 | Technology | Berlin         |    10115 |   946.0270935960591133\n",
    " 102 | Marketing  | Berlin         |    10115 |   897.6954022988505747\n",
    " \n",
    "\n",
    "- **Q4. Durchschnittliche Satisfaction pro Department**\n",
    "    - Auszugebende Attribute: *Department.id, Department.name, Department.city, Department.zip_code, avg_satisfied*\n",
    "    - Erwartetes Ergebnis:   \n",
    "\n",
    "\n",
    " id  |    name    |      city      | zip_code |     avg_satisfied      \n",
    "-----|------------|----------------|----------|------------------------\n",
    " 101 | HR         | Frankfurt a.M. |    60306 | 0.68867924528301886792\n",
    " 103 | Purchasing | München        |    80331 | 0.70175438596491228070\n",
    " 104 | Sales      | Hamburg        |    21140 | 0.80459770114942528736\n",
    " 105 | Technology | Berlin         |    10115 | 0.74489795918367346939\n",
    " 102 | Marketing  | Berlin         |    10115 | 0.64516129032258064516\n",
    "    \n",
    "\n",
    "- **Q5. Durchschnittliche Projektdauer des \"Technology\" Departments**\n",
    "    - Auszugebende Attribute: *Department.id, Department.name, Department.city, Department.zip_code, avg_proj_duration_days*\n",
    "    - Erwartetes Ergebnis:\n",
    "\n",
    "\n",
    " id  |    name    |  city  | zip_code | avg_proj_duration_days \n",
    "-----|------------|--------|----------|------------------------\n",
    " 105 | Technology | Berlin |    10115 |   946.0270935960591133    \n",
    "\n",
    "\n",
    "- **Q6. Satisfaction des \"Technology\" Departments**\n",
    "    - Auszugebende Attribute: *Department.id, Department.name, Department.city, Department.zip_code, avg_satisfied*\n",
    "    - Erwartetes Ergebnis:\n",
    "\n",
    "\n",
    " id  |    name    |  city  | zip_code |     avg_satisfied      \n",
    "-----|------------|--------|----------|------------------------\n",
    " 105 | Technology | Berlin |    10115 | 0.74489795918367346939\n",
    "\n"
   ]
  },
  {
   "cell_type": "markdown",
   "id": "a7a3df0a",
   "metadata": {},
   "source": [
    "Vorgegebener \"Rahmen\" des SQL-Skripts für die Abfragen:"
   ]
  },
  {
   "cell_type": "code",
   "execution_count": null,
   "id": "30ca74f3",
   "metadata": {
    "scrolled": false
   },
   "outputs": [],
   "source": [
    "%%bash\n",
    "cat <<\"EOF\" | sudo docker exec -i dbis-postgres-db-1 psql -U postgres -d satisfaction\n",
    "\n",
    "\\qecho ******** Q1 ********\n",
    "SELECT ... FROM ...\n",
    "\n",
    "\n",
    "\\qecho ******** Q2 ********\n",
    "SELECT ... FROM ...\n",
    "\n",
    "...\n",
    "\n",
    "EOF"
   ]
  },
  {
   "cell_type": "markdown",
   "id": "03415b8e",
   "metadata": {},
   "source": [
    "Abschließend kann der Datenbank-Container folgendermaßen wieder gestoppt werden (zu beachten gilt, dass aufgrund des `--rm` Flags der Container nach dem Stoppen automatisch gelöscht wird): "
   ]
  },
  {
   "cell_type": "code",
   "execution_count": null,
   "id": "03d91dbd",
   "metadata": {},
   "outputs": [],
   "source": [
    "%%bash\n",
    "\n",
    "# stop the postgresql docker container\n",
    "if [ -z $(sudo docker ps --filter \"name=dbis-postgres-db-1\" -q) ]; then\n",
    "    printf \"\\nthe container does not exist\\n\";\n",
    "else \n",
    "    printf \"\\nstopping the container ...\\n\";\n",
    "    sudo docker stop dbis-postgres-db-1\n",
    "fi"
   ]
  },
  {
   "cell_type": "markdown",
   "id": "03717155",
   "metadata": {},
   "source": [
    "## MongoDB    \n",
    "\n",
    "Nachdem die zur Verfügung stehenden Daten in ein relationales Datenbanksystem importiert wurden, beschäftigen wir uns im Folgenden mit der Modellierung und Import bezüglich des dokument-orientierten Datenbanksystems MongoDB.\n",
    "\n",
    "<div class=\"alert alert-block alert-info\">\n",
    "    \n",
    "**Aufgabe 6**    \n",
    "    \n",
    "Bilden Sie das in Aufgabe 1 aus den vorhandenen Daten extrahiert Modell jetzt geeignet auf das Modell von MongoDB ab (inklusive Datentypen). Optimieren bzw. gestalten Sie das Modell so, dass für die geplanten Abfragen keine Joins benötigt werden ([*\\$lookup*](https://www.mongodb.com/docs/manual/reference/operator/aggregation/lookup/))! Begründen Sie ihre Entscheidungen bezüglich des Schema-Designs (Einbettung, Referenzierung, Redundanz), wo dieses vom Modell aus Aufgabe 1 abweicht.\n",
    "</div>\n"
   ]
  },
  {
   "cell_type": "code",
   "execution_count": null,
   "id": "bc1a9390",
   "metadata": {},
   "outputs": [],
   "source": [
    "%%plantuml --jar\n",
    "\n",
    "@startuml\n",
    "\n",
    "   \n",
    "@enduml"
   ]
  },
  {
   "cell_type": "markdown",
   "id": "5b178052",
   "metadata": {},
   "source": [
    "### Datenimport    \n",
    "\n",
    "Starten Sie jetzt eine MongoDB Datenbank innerhalb des Docker-Netzwerks in dem sich alle weiteren hier verwendeten Container befinden."
   ]
  },
  {
   "cell_type": "code",
   "execution_count": null,
   "id": "04160b56",
   "metadata": {},
   "outputs": [],
   "source": [
    "%%bash\n",
    "\n",
    "sudo docker run -d --rm \\\n",
    "--name dbis-mongo-db-1 \\\n",
    "--hostname dbis-mongo-db-1 \\\n",
    "-v \"${HOST_DATA_PATH}:/mnt/workspace:ro\" \\\n",
    "-e BROWSERSLIST_IGNORE_OLD_DATA=1 \\\n",
    "--network dbis-hadoop-cluster-network \\\n",
    "-p 127.0.0.1:27017:27017 \\\n",
    "mongo:5.0.5-focal"
   ]
  },
  {
   "cell_type": "markdown",
   "id": "3b3a24c5",
   "metadata": {},
   "source": [
    "Vergewissern Sie sich wieder, dass der Container läuft:"
   ]
  },
  {
   "cell_type": "code",
   "execution_count": null,
   "id": "666c9ce5",
   "metadata": {
    "scrolled": true
   },
   "outputs": [],
   "source": [
    "%%bash\n",
    "sudo docker ps --filter \"name=dbis-mongo-db-1\" --format \"table {{.Names}}\\t{{.Status}}\""
   ]
  },
  {
   "cell_type": "markdown",
   "id": "332d343c",
   "metadata": {},
   "source": [
    "<div class=\"alert alert-block alert-info\">\n",
    "    \n",
    "**Aufgabe 7**    \n",
    "    \n",
    "Importieren Sie die Daten nach MongoDB (schauen Sie sich diesbezüglich die Dokumentation zu [mongoimport](https://www.mongodb.com/docs/database-tools/mongoimport/) an). Achten Sie insbesondere auf die entsprechenden Datentypen.\n",
    "    \n",
    "Nehmen Sie außerdem bezüglich dem in Aufgabe 6 erstellten Modell notwendige \"Umstrukturierungen\" der Daten vor. Hierbei sind unterschiedliche Vorgehensweisen denkbar. Es können Beispielsweise die Daten zunächst so wie sie vorliegen in MongoDB importiert und anschließend durch entsprechende Aufrufe (*\\$lookup*, *\\$addFields*, *\\$merge*, ...) umstrukturiert werden. Die Daten können natürlich auch vorher - beispielsweise mit Python - in die benötigte Struktur überführt und anschließend importiert werden.\n",
    "\n",
    "Abweichend zu *mongoimport* kann hier auch der [*pymongo*](https://pymongo.readthedocs.io/en/stable/) Python-Treiber verwendet werden. Dieser ist ebenfalls bereits installiert.\n",
    "</div>"
   ]
  },
  {
   "cell_type": "markdown",
   "id": "239651f6",
   "metadata": {},
   "source": [
    "Codeauschnitt für die Verwendung des Python-Treibers (Verbindungsaufbau mit einer Mongo-Datenbank mithilfe des *pymongo*-Python-Modules):"
   ]
  },
  {
   "cell_type": "code",
   "execution_count": null,
   "id": "9a45f2a9",
   "metadata": {},
   "outputs": [],
   "source": [
    "from pymongo import MongoClient\n",
    "from pprint import pprint\n",
    "\n",
    "mongo_client = MongoClient('mongodb://dbis-mongo-db-1:27017/')\n",
    "mongo_db = mongo_client['satisfaction']\n",
    "\n",
    "pipeline = [\n",
    "    # Mongo-pipeline\n",
    "]\n",
    "    \n",
    "result = mongo_db['Project'].aggregate(pipeline)\n",
    "pprint(list(q1_result)\n",
    "       \n",
    "mongo_client.close()"
   ]
  },
  {
   "cell_type": "markdown",
   "id": "f03380f4",
   "metadata": {},
   "source": [
    "Vorgegebener \"Rahmen\" für die Verwendung von *mongoimport*:"
   ]
  },
  {
   "cell_type": "code",
   "execution_count": null,
   "id": "b12bbe54",
   "metadata": {},
   "outputs": [],
   "source": [
    "%%bash\n",
    "\n",
    "## import a CSV-file with mongoimport\n",
    "sudo docker exec -i dbis-mongo-db-1 mongoimport \\\n",
    "--drop \\\n",
    "--db=satisfaction \\\n",
    "--collection=... \\\n",
    "--type=csv \\\n",
    "--columnsHaveTypes \\\n",
    "--fields=\"_id.int32(),name.string(), ...\" \\\n",
    "--file=/mnt/workspace/file.csv"
   ]
  },
  {
   "cell_type": "markdown",
   "id": "85e42f52",
   "metadata": {},
   "source": [
    "### Datenbankabfragen    \n",
    "\n",
    "<div class=\"alert alert-block alert-info\">\n",
    "    \n",
    "**Aufgabe 8**    \n",
    "    \n",
    "Führen Sie nun wieder die vorgegeben Abfragen aus (siehe Aufgabe 5). Nochmals der Hinweis, dass keine Joins (*\\$lookup*) verwendet werden sollen. Außerdem sollten *\\$unwind*-Operationen möglichst vermieden werden.\n",
    "\n",
    "Alternativ zu dem vorgegebenen Rahmen (Verwendung der Mongo-Shell) können Sie ebenfalls den *pymongo* Python-Treiber verwenden.\n",
    "</div>"
   ]
  },
  {
   "cell_type": "markdown",
   "id": "812791ad",
   "metadata": {},
   "source": [
    "*Q1*. Anzahl Projekte pro Department "
   ]
  },
  {
   "cell_type": "markdown",
   "id": "f57dcd7d",
   "metadata": {
    "solution2": "hidden",
    "solution2_first": true
   },
   "source": [
    "Unter dem \"Show Solution\"-Button finden Sie als Einstiegshilfe einen Lösungsvorschlag zu Q1."
   ]
  },
  {
   "cell_type": "markdown",
   "id": "99c173d9",
   "metadata": {
    "solution2": "hidden"
   },
   "source": [
    "Mögliche Lösung zu Q1:\n",
    "```js\n",
    "db.Project.aggregate([   \n",
    "        {\n",
    "            $group: {\n",
    "                _id: \"$department_name\",\n",
    "                count_projects: {\n",
    "                    $count: { }\n",
    "                },\n",
    "                city: { $first: \"$department_city\" },\n",
    "                zip_code: { $first: \"$department_zip_code\" }\n",
    "            }\n",
    "        }\n",
    "]);\n",
    "```"
   ]
  },
  {
   "cell_type": "code",
   "execution_count": null,
   "id": "898830b4",
   "metadata": {},
   "outputs": [],
   "source": [
    "%%bash\n",
    "\n",
    "sudo docker exec -i dbis-mongo-db-1 mongosh satisfaction --quiet --eval \\\n",
    "'print(\"******** Q1 ******** \");\n",
    "db.X.aggregate([  \n",
    "\n",
    "        ...\n",
    "        \n",
    "]);'"
   ]
  },
  {
   "cell_type": "markdown",
   "id": "54113787",
   "metadata": {},
   "source": [
    "*Q2*. Durchschnittliche Projektdauer aller Projekte "
   ]
  },
  {
   "cell_type": "code",
   "execution_count": null,
   "id": "30cf7394",
   "metadata": {},
   "outputs": [],
   "source": [
    "%%bash\n",
    "\n",
    "sudo docker exec -i dbis-mongo-db-1 mongosh satisfaction --quiet --eval \\\n",
    "'print(\"******** Q2 ******** \");\n",
    "\n",
    "'"
   ]
  },
  {
   "cell_type": "markdown",
   "id": "d1bbc022",
   "metadata": {},
   "source": [
    "*Q3*. Durchschnittliche Projektdauer pro Department "
   ]
  },
  {
   "cell_type": "code",
   "execution_count": null,
   "id": "1d76f994",
   "metadata": {
    "scrolled": false
   },
   "outputs": [],
   "source": [
    "%%bash\n",
    "\n",
    "sudo docker exec -i dbis-mongo-db-1 mongosh satisfaction --quiet --eval \\\n",
    "'print(\"******** Q3 ******** \");\n",
    "\n",
    "'"
   ]
  },
  {
   "cell_type": "markdown",
   "id": "d60848e0",
   "metadata": {},
   "source": [
    "*Q4*. Durchschnittliche Sat. pro Department"
   ]
  },
  {
   "cell_type": "code",
   "execution_count": null,
   "id": "f558bcb2",
   "metadata": {},
   "outputs": [],
   "source": [
    "%%bash\n",
    "\n",
    "sudo docker exec -i dbis-mongo-db-1 mongosh satisfaction --quiet --eval \\\n",
    "'print(\"******** Q4 ******** \");\n",
    "\n",
    "'"
   ]
  },
  {
   "cell_type": "markdown",
   "id": "d72e6105",
   "metadata": {},
   "source": [
    "*Q5.* Durchschnittliche Projektdauer des \"Technology\" Departments "
   ]
  },
  {
   "cell_type": "code",
   "execution_count": null,
   "id": "072c1d52",
   "metadata": {},
   "outputs": [],
   "source": [
    "%%bash\n",
    "\n",
    "sudo docker exec -i dbis-mongo-db-1 mongosh satisfaction --quiet --eval \\\n",
    "'print(\"******** Q5 ******** \");\n",
    "\n",
    "'"
   ]
  },
  {
   "cell_type": "markdown",
   "id": "c8cdb551",
   "metadata": {},
   "source": [
    "*Q6.* Satisfaction des \"Technology\" Departments"
   ]
  },
  {
   "cell_type": "code",
   "execution_count": null,
   "id": "097e44be",
   "metadata": {},
   "outputs": [],
   "source": [
    "%%bash\n",
    "\n",
    "sudo docker exec -i dbis-mongo-db-1 mongosh satisfaction --quiet --eval \\\n",
    "'print(\"******** Q6 ******** \");\n",
    "\n",
    "'"
   ]
  },
  {
   "cell_type": "markdown",
   "id": "9399bda4",
   "metadata": {},
   "source": [
    "Der MongoDB-Container kann abschließend folgendermaßen wieder gestoppt werden:"
   ]
  },
  {
   "cell_type": "code",
   "execution_count": null,
   "id": "f02d7ed4",
   "metadata": {},
   "outputs": [],
   "source": [
    "%%bash\n",
    "\n",
    "# stop the mongodb docker container\n",
    "if [ -z $(sudo docker ps --filter \"name=dbis-mongo-db-1\" -q) ]; then\n",
    "    printf \"\\nthe container does not exist\\n\";\n",
    "else \n",
    "    printf \"\\nstopping the container ...\\n\";\n",
    "    sudo docker stop dbis-mongo-db-1\n",
    "fi"
   ]
  },
  {
   "cell_type": "markdown",
   "id": "05c6092a",
   "metadata": {},
   "source": [
    "## Cassandra\n",
    "\n",
    "Abschließend, beschäftigen wir uns mit der Modellierung und Import bezüglich des spalten-orientierten Datenbanksystems Cassandra.\n",
    "\n",
    "Machen sie sich hierzu zunächst mit der Daten-Modellierung in Cassandra vertraut (siehe: [https://cassandra.apache.org/doc/latest/cassandra/data_modeling/index.html](https://cassandra.apache.org/doc/latest/cassandra/data_modeling/index.html))"
   ]
  },
  {
   "cell_type": "markdown",
   "id": "2c806e06",
   "metadata": {},
   "source": [
    "### Datenmodellierung    \n",
    "\n",
    "<div class=\"alert alert-block alert-info\">\n",
    "    \n",
    "**Aufgabe 9**    \n",
    "    \n",
    "Erstellen Sie ein *Chebotko logical data model* bezüglich der Datenbankabfragen *Q1, Q2, Q5, Q6* (siehe [https://cassandra.apache.org/doc/latest/cassandra/data_modeling/data_modeling_logical.html](https://cassandra.apache.org/doc/latest/cassandra/data_modeling/data_modeling_logical.html)). Beachten Sie dabei, dass wir jetzt - im Gegensatz zu der Modellierung und Import bei PostgreSQL und MongoDB - nur die in den Abfragen benötigten Attribute modellieren und importieren. Beachten Sie außerdem, dass wir im Gegensatzt zu dem in der Cassandra-Dokumentation verwendeten \"Hotel-Beispiel\" keinen Workflow zwischen den Abfragen haben und somit die \"Tabellen\" in unserem Diagramm auch nicht in Bezug zueinander stehen werden.\n",
    "</div>\n",
    "\n",
    "\n",
    "\n",
    "- **Q1.** Anzahl Projekte pro Department \n",
    "- **Q2.** Durchschnittliche Dauer aller Projekte \n",
    "- **Q5.** Durchschnittliche Projektdauer des \"Technology\" Departments \n",
    "- **Q6.** Durchschnittliche Employee satisfaction des \"Technology\" Departments "
   ]
  },
  {
   "cell_type": "code",
   "execution_count": null,
   "id": "082d2690",
   "metadata": {
    "scrolled": true
   },
   "outputs": [],
   "source": [
    "%%plantuml --jar\n",
    "\n",
    "@startuml\n",
    "\n",
    "hide members\n",
    "hide circle\n",
    "show fields\n",
    "\n",
    "class **A**<Q1> {\n",
    "a  **K**\n",
    "b  **C↑**\n",
    "c  **S**\n",
    "}\n",
    "\n",
    "class **B**<Q2> {\n",
    "a  **K**\n",
    "b  **C↑**\n",
    "c\n",
    "}\n",
    "\n",
    "@enduml"
   ]
  },
  {
   "cell_type": "markdown",
   "id": "19c2cd55",
   "metadata": {},
   "source": [
    "<div class=\"alert alert-block alert-info\">\n",
    "    \n",
    "**Aufgabe 10**    \n",
    "    \n",
    "Erstellen Sie jetzt ein *Chebotko physical data model*. Fassen Sie dabei, wenn möglich, Tabellen aus der logischen Modellierung (eine Tabelle je Abfrage) zusammen.\n",
    "</div>"
   ]
  },
  {
   "cell_type": "code",
   "execution_count": null,
   "id": "124253d2",
   "metadata": {},
   "outputs": [],
   "source": [
    "%%plantuml --jar\n",
    "\n",
    "@startuml\n",
    "\n",
    "\n",
    "@enduml"
   ]
  },
  {
   "cell_type": "markdown",
   "id": "7d813958",
   "metadata": {},
   "source": [
    "### Datenimport\n",
    "\n",
    "Starten Sie eine Cassandra Datenbank. Das hier verwendete Docker-Image beinhaltete bereits den DataStax Bulk Reader für einen effizienten Import von CSV-Dateien ([https://docs.datastax.com/en/dsbulk/docs/dsbulkAbout.html](https://docs.datastax.com/en/dsbulk/docs/dsbulkAbout.html))."
   ]
  },
  {
   "cell_type": "code",
   "execution_count": null,
   "id": "d7bd1671",
   "metadata": {},
   "outputs": [],
   "source": [
    "%%bash\n",
    "\n",
    "sudo docker run -d --rm \\\n",
    "--name dbis-cassandra-db-1 \\\n",
    "--hostname dbis-cassandra-db-1 \\\n",
    "-v \"${HOST_DATA_PATH}:/mnt/workspace:ro\" \\\n",
    "--network dbis-hadoop-cluster-network \\\n",
    "-p 127.0.0.1:7000:7000 \\\n",
    "registry.dbis-pro1.fernuni-hagen.de/pub-access/data-engineering-infrastructure/cassandra:4.0.4-dsbulk-1.10"
   ]
  },
  {
   "cell_type": "markdown",
   "id": "472201e6",
   "metadata": {},
   "source": [
    "Vergewissern Sie sich, dass der Docker-Container läuft:"
   ]
  },
  {
   "cell_type": "code",
   "execution_count": null,
   "id": "dccca729",
   "metadata": {},
   "outputs": [],
   "source": [
    "%%bash\n",
    "sudo docker ps --filter \"name=dbis-cassandra-db-1\" --format \"table {{.Names}}\\t{{.Status}}\""
   ]
  },
  {
   "cell_type": "markdown",
   "id": "88cb6bc6",
   "metadata": {},
   "source": [
    "<div class=\"alert alert-block alert-info\">\n",
    "    \n",
    "**Aufgabe 11**    \n",
    "    \n",
    "Vervollständigen Sie jetzt das nachfolgende CQL-Skript für die Erzeugung des Schemas.\n",
    "</div>\n",
    "\n",
    "\n",
    "> *HINWEIS:* Es kann mehrere Minuten dauern, bis die Datenbank vollständig gestartet ist!\n"
   ]
  },
  {
   "cell_type": "code",
   "execution_count": null,
   "id": "939b82af",
   "metadata": {},
   "outputs": [],
   "source": [
    "%%bash\n",
    "\n",
    "cat <<\"EOF\" | sudo docker exec -i dbis-cassandra-db-1 cqlsh\n",
    "\n",
    "DROP KEYSPACE IF EXISTS satisfaction;\n",
    "CREATE KEYSPACE satisfaction\n",
    "    WITH replication = {'class': 'SimpleStrategy', 'replication_factor' : 1};\n",
    "\n",
    "USE satisfaction;\n",
    "\n",
    "\n",
    "...\n",
    "\n",
    "\n",
    "DESCRIBE KEYSPACE satisfaction;\n",
    "\n",
    "EOF"
   ]
  },
  {
   "cell_type": "markdown",
   "id": "0363bd2f",
   "metadata": {},
   "source": [
    "<div class=\"alert alert-block alert-info\">\n",
    "    \n",
    "**Aufgabe 12**    \n",
    "    \n",
    "Erzeugen Sie zunächst die für den Import in Cassandra benötigten CSV-Dateien. Hier sind wieder unterschiedliche Vorgehensweisen denkbar. Beispielsweise haben wir die Daten bereits in PostgreSQL importiert und könnten diese durch den COPY-TO-Befehl in der benötigten Form exportierten. Es steht Ihnen an dieser Stelle ebenfalls wieder Frei auf welche Weise die Daten in die benötigte Struktur überführt und importiert werden. Der Python-Treiber für Cassandra ([*cassandra-driver*](https://docs.datastax.com/en/developer/python-driver/3.25/)) ist ebenfalls bereits installiert.\n",
    "</div>\n"
   ]
  },
  {
   "cell_type": "markdown",
   "id": "032b4a44",
   "metadata": {},
   "source": [
    "Ihre Lösung ..."
   ]
  },
  {
   "cell_type": "markdown",
   "id": "54e4d76b",
   "metadata": {},
   "source": [
    "Codeauschnitt für die Verwendung des Python-Treibers (Verbindungsaufbau mit einer Cassandra-Datenbank mithilfe des *cassandra-driver* Python-Modules):"
   ]
  },
  {
   "cell_type": "code",
   "execution_count": null,
   "id": "8b11335e",
   "metadata": {},
   "outputs": [],
   "source": [
    "from cassandra.cluster import Cluster\n",
    "from pprint import pprint\n",
    "\n",
    "cassandra_cluster = Cluster(['dbis-cassandra-db-1'])\n",
    "cassandra_session = cassandra_cluster.connect()\n",
    "cassandra_session.set_keyspace('satisfaction')\n",
    "\n",
    "cassandra_query = \"\"\"\n",
    "SELECT \n",
    "  ...\n",
    "FROM \n",
    "  ...\n",
    "\"\"\"\n",
    "\n",
    "result_rows = cassandra_session.execute(cassandra_query)\n",
    "pprint(list(result_rows))\n",
    "\n",
    "cassandra_cluster.shutdown()"
   ]
  },
  {
   "cell_type": "markdown",
   "id": "1b73178a",
   "metadata": {},
   "source": [
    "<div class=\"alert alert-block alert-info\">\n",
    "    \n",
    "**Aufgabe 13**    \n",
    "    \n",
    "Importieren Sie die zuvor erzeugten CSV-Dateien mithilfe von DSBulk (falls kein abweichendes Vorgehen gewählt wurde).\n",
    "</div>"
   ]
  },
  {
   "cell_type": "code",
   "execution_count": null,
   "id": "7f8ead82",
   "metadata": {},
   "outputs": [],
   "source": [
    "%%bash\n",
    "\n",
    "sudo docker exec -i dbis-cassandra-db-1 dsbulk load \\\n",
    "--connector.name csv \\\n",
    "--connector.csv.url /mnt/workspace/file.csv \\\n",
    "--connector.csv.delimiter ',' \\\n",
    "--connector.csv.header true \\\n",
    "--schema.keyspace satisfaction \\\n",
    "--schema.table 'x_by_y' \\\n",
    "--schema.mapping '0 = x, 1 = y, 2 = z, ...' \\\n",
    "--log.directory /var/lib/cassandra/dsbulk_log \\\n",
    "--engine.dryRun false\n"
   ]
  },
  {
   "cell_type": "markdown",
   "id": "dba355ef",
   "metadata": {},
   "source": [
    "### Datenbankabfragen    \n",
    "\n",
    "<div class=\"alert alert-block alert-info\">\n",
    "    \n",
    "**Aufgabe 14**    \n",
    "    \n",
    "Führen Sie die Abfragen jetzt auf Cassandra (CQL) aus.\n",
    "Alternativ zu dem vorgegebenen Rahmen (Verwendung der CQL-Shell) können Sie ebenfalls das *cassandra-driver* Python-Modul verwenden.\n",
    "</div>"
   ]
  },
  {
   "cell_type": "markdown",
   "id": "aa4ac56c",
   "metadata": {},
   "source": [
    "Vorgegebener \"Rahmen\" für die Verwendung der CQL-Shell:"
   ]
  },
  {
   "cell_type": "code",
   "execution_count": null,
   "id": "4126700d",
   "metadata": {},
   "outputs": [],
   "source": [
    "%%bash\n",
    "# --------------\n",
    "## Q1\n",
    "# --------------\n",
    "printf \"# ------------\\n# Q1\\n# ------------\\n\"\n",
    "cat <<\"EOF\" | sudo docker exec -i dbis-cassandra-db-1 cqlsh -k satisfaction\n",
    "\n",
    "SELECT \n",
    "  ...\n",
    "FROM \n",
    "  ...\n",
    "\n",
    "EOF\n",
    "\n",
    "# --------------\n",
    "## Q2\n",
    "# --------------\n",
    "printf \"# ------------\\n# Q2\\n# ------------\\n\"\n",
    "cat <<\"EOF\" | sudo docker exec -i dbis-cassandra-db-1 cqlsh -k satisfaction\n",
    "\n",
    "SELECT \n",
    "  ...\n",
    "FROM \n",
    "  ...\n",
    "\n",
    "EOF\n",
    "\n",
    "\n",
    "...\n",
    "\n"
   ]
  },
  {
   "cell_type": "markdown",
   "id": "194ede01",
   "metadata": {},
   "source": [
    "Der Cassandra-Container kann abschließend folgendermaßen gestoppt werden:"
   ]
  },
  {
   "cell_type": "code",
   "execution_count": null,
   "id": "31dd79e1",
   "metadata": {},
   "outputs": [],
   "source": [
    "%%bash\n",
    "\n",
    "# stop the cassandra docker container\n",
    "if [ -z $(sudo docker ps --filter \"name=dbis-cassandra-db-1\" -q) ]; then\n",
    "    printf \"\\nthe container does not exist\\n\";\n",
    "else \n",
    "    printf \"\\nstopping the container ...\\n\";\n",
    "    sudo docker stop dbis-cassandra-db-1\n",
    "fi"
   ]
  },
  {
   "cell_type": "markdown",
   "id": "39d57b97",
   "metadata": {},
   "source": [
    "<div class=\"alert alert-block alert-info\">\n",
    "    \n",
    "**Aufgabe 15**    \n",
    "    \n",
    "Beschreiben Sie, warum Abfragen wie *Q1* und *Q2* bei Cassandra zu Problemen führen könnten.\n",
    "</div>"
   ]
  },
  {
   "cell_type": "markdown",
   "id": "24b85d62",
   "metadata": {},
   "source": [
    "Ihre Lösung ..."
   ]
  },
  {
   "cell_type": "markdown",
   "id": "81e37536",
   "metadata": {},
   "source": [
    "<div class=\"alert alert-block alert-info\">\n",
    "    \n",
    "**Aufgabe 16**    \n",
    "    \n",
    "Die empfohlene Größe für Partitionen in Cassandra beträgt 100.000 Cells. Berechnen Sie die Größe der aktuell größten Partition (siehe [https://cassandra.apache.org/doc/latest/cassandra/data_modeling/data_modeling_refining.html](https://cassandra.apache.org/doc/latest/cassandra/data_modeling/data_modeling_refining.html)). Welche Möglichkeiten bzw. Modellierungsstrategien bezüglich des Schema-Designs gibt es, um zu große Partitionen zu vermeiden?\n",
    "</div>"
   ]
  },
  {
   "cell_type": "markdown",
   "id": "dd4f5dfa",
   "metadata": {},
   "source": [
    "Berechnung der *partition size*:\n",
    "\n",
    "$$ N_v = N_r(N_c - N_{pk} − N_s) + N_s $$\n",
    "\n",
    "$$ N_v = \\text{Number of values (or cells)} $$\n",
    "$$ N_s = \\text{Number of static columns} $$\n",
    "$$ N_r = \\text{Number of rows} $$\n",
    "$$ N_c = \\text{Number of columns} $$\n",
    "$$ N_{pk} = \\text{Number of primary key columns} $$"
   ]
  },
  {
   "cell_type": "markdown",
   "id": "f7357c15",
   "metadata": {},
   "source": [
    "Ihre Lösung ..."
   ]
  },
  {
   "cell_type": "markdown",
   "id": "0963d54f",
   "metadata": {},
   "source": [
    "---\n",
    "Der PDF-Export dieses Jupyter-Notebooks kann alternativ durch folgenden Aufruf erfolgen (Pfad zum Notebook muss entsprechend angepasst werden!):"
   ]
  },
  {
   "cell_type": "code",
   "execution_count": null,
   "id": "64e69633",
   "metadata": {},
   "outputs": [],
   "source": [
    "!jupyter nbconvert --to pdf --template '/home/pyspark-client/nbconvert-templates/fernuni-latex' \\\n",
    "~/workspace/PATH/TO/KE6-7.ipynb"
   ]
  }
 ],
 "metadata": {
  "kernelspec": {
   "display_name": "Python 3 (ipykernel)",
   "language": "python",
   "name": "python3"
  },
  "language_info": {
   "codemirror_mode": {
    "name": "ipython",
    "version": 3
   },
   "file_extension": ".py",
   "mimetype": "text/x-python",
   "name": "python",
   "nbconvert_exporter": "python",
   "pygments_lexer": "ipython3",
   "version": "3.11.3"
  },
  "toc": {
   "base_numbering": 1,
   "nav_menu": {},
   "number_sections": true,
   "sideBar": true,
   "skip_h1_title": true,
   "title_cell": "Table of Contents",
   "title_sidebar": "Contents",
   "toc_cell": false,
   "toc_position": {
    "height": "calc(100% - 180px)",
    "left": "10px",
    "top": "150px",
    "width": "280.4px"
   },
   "toc_section_display": true,
   "toc_window_display": true
  }
 },
 "nbformat": 4,
 "nbformat_minor": 5
}
