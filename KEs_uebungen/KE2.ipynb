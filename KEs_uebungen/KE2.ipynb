{
 "cells": [
  {
   "cell_type": "raw",
   "metadata": {},
   "source": [
    "Name: Shada Maayouf\n",
    "Matrikelnummer: 4311663"
   ]
  },
  {
   "cell_type": "markdown",
   "metadata": {},
   "source": []
  },
  {
   "cell_type": "markdown",
   "metadata": {},
   "source": [
    "___\n",
    "**_Bitte beachten:_**\n",
    "\n",
    "- In Code-Zellen soll (bei Bedarf kommentierter) Code eingefügt werden. In Raw-Zellen erwarten wir Antworten im Freitext-Format.\n",
    "- Fragestellungen sind teilweise bewusst etwas offener formuliert, weil Sie auch im Arbeitsleben nur selten mit ganz spezifischen Anweisungen rechnen können. Es gibt häufig mehrere mögliche Lösungen, dies wird in der Korrektur  berücksichtigt.\n",
    "\n",
    "___"
   ]
  },
  {
   "cell_type": "code",
   "execution_count": 3,
   "metadata": {
    "ExecuteTime": {
     "end_time": "2023-08-06T17:09:27.817865Z",
     "start_time": "2023-08-06T17:09:24.027769Z"
    },
    "pycharm": {
     "is_executing": true
    }
   },
   "outputs": [],
   "source": [
    "# Imports\n",
    "import pandas as pd\n"
   ]
  },
  {
   "cell_type": "markdown",
   "metadata": {},
   "source": [
    "# (I can't get no) satisfaction\n",
    "Wir werden in diesem Kurs mit einem Datensatz arbeiten, der verschiedene Informationen über Angestellte einer fiktiven Firma namens *Fiktiva* enthält. Mithilfe des Datensatzes soll die Fragestellung beantwortet werden, ob ein\\*e Angestellte\\*r in der Firma zufrieden ist (`satisfied = 1`) oder nicht (`satisfied = 0`). In dieser Kurseinheit werden wir uns mit den Daten vertraut machen und mit einigen Fragen zur Datenqualität auseinandersetzen.\n",
    "\n",
    "Manchmal werden zur Beantwortung von Fragen weitere Informationen benötigt. Sie können hierfür auch externe Quellen verwenden und bspw. die Datei `metadata.txt` zu Rate ziehen, aber auch alle Informationen aus dem Fiktiva-Newsletter. "
   ]
  },
  {
   "cell_type": "markdown",
   "metadata": {},
   "source": [
    "## Daten laden\n",
    "Den Datensatz (*employees_satisfaction.csv*) finden Sie im Moodle. Laden Sie ihn in ein Pandas-Dataframe. Geben Sie die ersten 10 Zeilen aus. "
   ]
  },
  {
   "cell_type": "code",
   "execution_count": 14,
   "metadata": {
    "ExecuteTime": {
     "end_time": "2022-11-10T13:51:19.317702Z",
     "start_time": "2022-11-10T13:51:19.313586Z"
    },
    "scrolled": false
   },
   "outputs": [],
   "source": [
    "# Ihre Lösung\n",
    "#df = pd.read_csv(\"wsl.localhost/Ubuntu-22.04/home/lallashatha/data-engineering-\n",
    "#infrastructure.git/workspace/KE2/employees_satisfaction.csv\", index_col=0)\n",
    "\n",
    "#index_col=0 shows where to put the index column\n",
    "df = pd.read_csv(\"./data/employees_satisfaction.csv\", index_col=0)\n",
    "df_ds = pd.read_csv(\"./data/Latest_Data_Science_Salaries.csv\", index_col=0)\n",
    "df_projects = pd.read_csv(\"C:/Users/maayo/Documents/FernUni Hagen/Data Engineering for Data Science/Uebungen/KE6/data/projects.csv\", index_col=0)\n",
    "\n",
    "\n",
    "#Erste zehn Zeilen Ausgeben\n",
    "\n",
    "\n",
    "# Hinweis: Laden Sie den Datensatz so, dass die erste Spalte als Index (Row Label) verwendet wird"
   ]
  },
  {
   "cell_type": "code",
   "execution_count": 15,
   "metadata": {},
   "outputs": [],
   "source": [
    "display(df_projects.head(5))"
   ]
  },
  {
   "cell_type": "code",
   "execution_count": 18,
   "metadata": {},
   "outputs": [],
   "source": [
    "display(df_projects.info())\n",
    "Dtype(df_projects['title'])"
   ]
  },
  {
   "cell_type": "markdown",
   "metadata": {},
   "source": [
    "## Erste Datenanalyse"
   ]
  },
  {
   "cell_type": "markdown",
   "metadata": {},
   "source": [
    "Machen Sie sich mit den Daten vertraut:\n",
    "- Wie viele Zeilen hat der Datensatz?\n",
    "- Wie viele Spalten hat der Datensatz?\n",
    "- Welchen Datentyp haben die einzelnen Spalten?\n",
    "- Ermitteln Sie statistische Kennzeichen der numerischen Spalten.\n",
    "- Welche Informationen stellt der Datensatz für die Vorhersage der Zufriedenheit bereit? Beachten Sie hierfür auch die Angaben in der Datei `metadata.txt`\n",
    "- Gibt es fehlende Werte in den Daten?"
   ]
  },
  {
   "cell_type": "code",
   "execution_count": 3,
   "metadata": {
    "ExecuteTime": {
     "end_time": "2022-11-10T13:51:19.324833Z",
     "start_time": "2022-11-10T13:51:19.320002Z"
    },
    "scrolled": true
   },
   "outputs": [
    {
     "data": {
      "text/plain": [
       "['emp_id',\n",
       " 'age',\n",
       " 'Dept',\n",
       " 'education',\n",
       " 'recruitment_type',\n",
       " 'job_level',\n",
       " 'rating',\n",
       " 'awards',\n",
       " 'certifications',\n",
       " 'salary',\n",
       " 'gender',\n",
       " 'entry_date',\n",
       " 'last_raise',\n",
       " 'satisfied']"
      ]
     },
     "execution_count": 3,
     "metadata": {},
     "output_type": "execute_result"
    }
   ],
   "source": [
    "# Ihre Lösung (nutzen Sie dafür untenstehende Zellen)\n",
    "\n",
    "\n",
    "LoRI = df.index\n",
    "LoRI2 = df.axes[0]\n",
    "LoC = df.columns\n",
    "\n",
    "LoRI.to_list()\n",
    "LoC.to_list()"
   ]
  },
  {
   "cell_type": "code",
   "execution_count": 4,
   "metadata": {
    "ExecuteTime": {
     "end_time": "2022-11-10T13:51:19.332667Z",
     "start_time": "2022-11-10T13:51:19.329971Z"
    },
    "scrolled": true
   },
   "outputs": [
    {
     "name": "stdout",
     "output_type": "stream",
     "text": [
      "500 500 500\n"
     ]
    }
   ],
   "source": [
    "# Wie viele Zeilen hat der Datensatz? \n",
    "\n",
    "#LoR List of Rows, LoC List of Columns, LoRI list of row indeces\n",
    "\n",
    "NoR = len(df.index)\n",
    "#oder\n",
    "NoR1 = len(df)\n",
    "#oder\n",
    "NoR2 = len(df.axes[0])\n",
    "\n",
    "print(str(NoR) + \" \" + str(NoR1) + \" \" + str(NoR2) )"
   ]
  },
  {
   "cell_type": "code",
   "execution_count": 5,
   "metadata": {
    "ExecuteTime": {
     "end_time": "2022-11-10T13:51:19.338525Z",
     "start_time": "2022-11-10T13:51:19.335485Z"
    },
    "scrolled": true
   },
   "outputs": [
    {
     "name": "stdout",
     "output_type": "stream",
     "text": [
      "14 14 14\n"
     ]
    }
   ],
   "source": [
    "# Wie viele Spalten hat der Datensatz?\n",
    "\n",
    "NoC = len(df.axes[1])\n",
    "#oder\n",
    "NoC1 = len(df.keys())\n",
    "#oder\n",
    "NoC2 = len(df.columns)\n",
    "\n",
    "print(str(NoC) + \" \" + str(NoC1) + \" \" + str(NoC2) )"
   ]
  },
  {
   "cell_type": "code",
   "execution_count": 6,
   "metadata": {
    "ExecuteTime": {
     "end_time": "2022-11-10T13:51:19.344388Z",
     "start_time": "2022-11-10T13:51:19.341026Z"
    },
    "scrolled": true
   },
   "outputs": [
    {
     "name": "stdout",
     "output_type": "stream",
     "text": [
      "['emp_id', 'age', 'Dept', 'education', 'recruitment_type', 'job_level', 'rating', 'awards', 'certifications', 'salary', 'gender', 'entry_date', 'last_raise', 'satisfied']\n",
      "-------------\n",
      "['emp_id', 'age', 'Dept', 'education', 'recruitment_type', 'job_level', 'rating', 'awards', 'certifications', 'salary', 'gender', 'entry_date', 'last_raise', 'satisfied']\n",
      "-------------\n",
      "['emp_id', 'age', 'Dept', 'education', 'recruitment_type', 'job_level', 'rating', 'awards', 'certifications', 'salary', 'gender', 'entry_date', 'last_raise', 'satisfied']\n",
      "-------------\n",
      "emp_id\n",
      "age\n",
      "Dept\n",
      "education\n",
      "recruitment_type\n",
      "job_level\n",
      "rating\n",
      "awards\n",
      "certifications\n",
      "salary\n",
      "gender\n",
      "entry_date\n",
      "last_raise\n",
      "satisfied\n",
      "-------------\n",
      "['emp_id', 'age', 'Dept', 'education', 'recruitment_type', 'job_level', 'rating', 'awards', 'certifications', 'salary', 'gender', 'entry_date', 'last_raise', 'satisfied']\n",
      "-------------\n",
      "['emp_id', 'age', 'Dept', 'education', 'recruitment_type', 'job_level', 'rating', 'awards', 'certifications', 'salary', 'gender', 'entry_date', 'last_raise', 'satisfied']\n"
     ]
    }
   ],
   "source": [
    "# Welche Spalten beinhaltet der Datensatz?\n",
    "\n",
    "print(LoC.to_list())\n",
    "print(\"-------------\")\n",
    "\n",
    "print(list(LoC))\n",
    "\n",
    "print(\"-------------\")\n",
    "\n",
    "print(list(df.columns))\n",
    "print(\"-------------\")\n",
    "\n",
    "# Durch Spalten iterieren\n",
    "for col in df.columns:\n",
    "    print(col)\n",
    "print(\"-------------\")\n",
    "    \n",
    "#oder\n",
    "print(list(df.keys()))\n",
    "\n",
    "print(\"-------------\")\n",
    "\n",
    "#oder\n",
    "print(list(df.columns.values))"
   ]
  },
  {
   "cell_type": "code",
   "execution_count": 16,
   "metadata": {
    "ExecuteTime": {
     "end_time": "2022-11-10T13:51:19.349681Z",
     "start_time": "2022-11-10T13:51:19.346807Z"
    },
    "scrolled": false
   },
   "outputs": [
    {
     "data": {
      "text/plain": [
       "emp_id               object\n",
       "age                   int64\n",
       "Dept                 object\n",
       "education            object\n",
       "recruitment_type     object\n",
       "job_level             int64\n",
       "rating              float64\n",
       "awards                int64\n",
       "certifications        int64\n",
       "salary                int64\n",
       "gender               object\n",
       "entry_date           object\n",
       "last_raise          float64\n",
       "satisfied             int64\n",
       "dtype: object"
      ]
     },
     "metadata": {},
     "output_type": "display_data"
    },
    {
     "data": {
      "text/html": [
       "<div>\n",
       "<style scoped>\n",
       "    .dataframe tbody tr th:only-of-type {\n",
       "        vertical-align: middle;\n",
       "    }\n",
       "\n",
       "    .dataframe tbody tr th {\n",
       "        vertical-align: top;\n",
       "    }\n",
       "\n",
       "    .dataframe thead th {\n",
       "        text-align: right;\n",
       "    }\n",
       "</style>\n",
       "<table border=\"1\" class=\"dataframe\">\n",
       "  <thead>\n",
       "    <tr style=\"text-align: right;\">\n",
       "      <th></th>\n",
       "      <th>emp_id</th>\n",
       "      <th>age</th>\n",
       "      <th>Dept</th>\n",
       "      <th>education</th>\n",
       "      <th>recruitment_type</th>\n",
       "      <th>job_level</th>\n",
       "      <th>rating</th>\n",
       "      <th>awards</th>\n",
       "      <th>certifications</th>\n",
       "      <th>salary</th>\n",
       "      <th>gender</th>\n",
       "      <th>entry_date</th>\n",
       "      <th>last_raise</th>\n",
       "      <th>satisfied</th>\n",
       "    </tr>\n",
       "  </thead>\n",
       "  <tbody>\n",
       "    <tr>\n",
       "      <th>0</th>\n",
       "      <td>HR8270</td>\n",
       "      <td>28</td>\n",
       "      <td>HR</td>\n",
       "      <td>PG</td>\n",
       "      <td>Referral</td>\n",
       "      <td>5</td>\n",
       "      <td>2.0</td>\n",
       "      <td>1</td>\n",
       "      <td>0</td>\n",
       "      <td>86750</td>\n",
       "      <td>m</td>\n",
       "      <td>2019-02-01</td>\n",
       "      <td>NaN</td>\n",
       "      <td>1</td>\n",
       "    </tr>\n",
       "    <tr>\n",
       "      <th>1</th>\n",
       "      <td>TECH1860</td>\n",
       "      <td>50</td>\n",
       "      <td>Technology</td>\n",
       "      <td>PG</td>\n",
       "      <td>Recruitment Agency</td>\n",
       "      <td>3</td>\n",
       "      <td>5.0</td>\n",
       "      <td>2</td>\n",
       "      <td>1</td>\n",
       "      <td>42419</td>\n",
       "      <td>Male</td>\n",
       "      <td>2017-01-17</td>\n",
       "      <td>NaN</td>\n",
       "      <td>0</td>\n",
       "    </tr>\n",
       "    <tr>\n",
       "      <th>2</th>\n",
       "      <td>TECH6390</td>\n",
       "      <td>43</td>\n",
       "      <td>Technology</td>\n",
       "      <td>UG</td>\n",
       "      <td>Referral</td>\n",
       "      <td>4</td>\n",
       "      <td>1.0</td>\n",
       "      <td>2</td>\n",
       "      <td>0</td>\n",
       "      <td>65715</td>\n",
       "      <td>f</td>\n",
       "      <td>2012-08-27</td>\n",
       "      <td>NaN</td>\n",
       "      <td>1</td>\n",
       "    </tr>\n",
       "    <tr>\n",
       "      <th>3</th>\n",
       "      <td>SAL6191</td>\n",
       "      <td>44</td>\n",
       "      <td>Sales</td>\n",
       "      <td>PG</td>\n",
       "      <td>On-Campus</td>\n",
       "      <td>2</td>\n",
       "      <td>3.0</td>\n",
       "      <td>0</td>\n",
       "      <td>0</td>\n",
       "      <td>29805</td>\n",
       "      <td>f</td>\n",
       "      <td>2017-07-25</td>\n",
       "      <td>NaN</td>\n",
       "      <td>1</td>\n",
       "    </tr>\n",
       "    <tr>\n",
       "      <th>4</th>\n",
       "      <td>HR6734</td>\n",
       "      <td>33</td>\n",
       "      <td>HR</td>\n",
       "      <td>UG</td>\n",
       "      <td>Recruitment Agency</td>\n",
       "      <td>2</td>\n",
       "      <td>1.0</td>\n",
       "      <td>5</td>\n",
       "      <td>0</td>\n",
       "      <td>29805</td>\n",
       "      <td>m</td>\n",
       "      <td>2019-05-17</td>\n",
       "      <td>NaN</td>\n",
       "      <td>1</td>\n",
       "    </tr>\n",
       "  </tbody>\n",
       "</table>\n",
       "</div>"
      ],
      "text/plain": [
       "     emp_id  age        Dept education    recruitment_type  job_level  rating   \n",
       "0    HR8270   28          HR        PG            Referral          5     2.0  \\\n",
       "1  TECH1860   50  Technology        PG  Recruitment Agency          3     5.0   \n",
       "2  TECH6390   43  Technology        UG            Referral          4     1.0   \n",
       "3   SAL6191   44       Sales        PG           On-Campus          2     3.0   \n",
       "4    HR6734   33          HR        UG  Recruitment Agency          2     1.0   \n",
       "\n",
       "   awards  certifications  salary gender  entry_date  last_raise  satisfied  \n",
       "0       1               0   86750      m  2019-02-01         NaN          1  \n",
       "1       2               1   42419   Male  2017-01-17         NaN          0  \n",
       "2       2               0   65715      f  2012-08-27         NaN          1  \n",
       "3       0               0   29805      f  2017-07-25         NaN          1  \n",
       "4       5               0   29805      m  2019-05-17         NaN          1  "
      ]
     },
     "execution_count": 16,
     "metadata": {},
     "output_type": "execute_result"
    }
   ],
   "source": [
    "# Welchen Datentyp haben die einzelnen Spalten?\n",
    "display(df.dtypes)"
   ]
  },
  {
   "cell_type": "code",
   "execution_count": 18,
   "metadata": {
    "ExecuteTime": {
     "end_time": "2022-11-10T13:51:19.354685Z",
     "start_time": "2022-11-10T13:51:19.351797Z"
    },
    "scrolled": true
   },
   "outputs": [
    {
     "data": {
      "text/html": [
       "<div>\n",
       "<style scoped>\n",
       "    .dataframe tbody tr th:only-of-type {\n",
       "        vertical-align: middle;\n",
       "    }\n",
       "\n",
       "    .dataframe tbody tr th {\n",
       "        vertical-align: top;\n",
       "    }\n",
       "\n",
       "    .dataframe thead th {\n",
       "        text-align: right;\n",
       "    }\n",
       "</style>\n",
       "<table border=\"1\" class=\"dataframe\">\n",
       "  <thead>\n",
       "    <tr style=\"text-align: right;\">\n",
       "      <th></th>\n",
       "      <th>emp_id</th>\n",
       "      <th>age</th>\n",
       "      <th>Dept</th>\n",
       "      <th>education</th>\n",
       "      <th>recruitment_type</th>\n",
       "      <th>job_level</th>\n",
       "      <th>rating</th>\n",
       "      <th>awards</th>\n",
       "      <th>certifications</th>\n",
       "      <th>salary</th>\n",
       "      <th>gender</th>\n",
       "      <th>entry_date</th>\n",
       "      <th>last_raise</th>\n",
       "      <th>satisfied</th>\n",
       "    </tr>\n",
       "  </thead>\n",
       "  <tbody>\n",
       "    <tr>\n",
       "      <th>count</th>\n",
       "      <td>500</td>\n",
       "      <td>500.000000</td>\n",
       "      <td>500</td>\n",
       "      <td>500</td>\n",
       "      <td>500</td>\n",
       "      <td>500.000000</td>\n",
       "      <td>471.000000</td>\n",
       "      <td>500.000000</td>\n",
       "      <td>500.000000</td>\n",
       "      <td>500.000000</td>\n",
       "      <td>497</td>\n",
       "      <td>500</td>\n",
       "      <td>26.000000</td>\n",
       "      <td>500.000000</td>\n",
       "    </tr>\n",
       "    <tr>\n",
       "      <th>unique</th>\n",
       "      <td>499</td>\n",
       "      <td>NaN</td>\n",
       "      <td>5</td>\n",
       "      <td>2</td>\n",
       "      <td>4</td>\n",
       "      <td>NaN</td>\n",
       "      <td>NaN</td>\n",
       "      <td>NaN</td>\n",
       "      <td>NaN</td>\n",
       "      <td>NaN</td>\n",
       "      <td>4</td>\n",
       "      <td>475</td>\n",
       "      <td>NaN</td>\n",
       "      <td>NaN</td>\n",
       "    </tr>\n",
       "    <tr>\n",
       "      <th>top</th>\n",
       "      <td>MKT7287</td>\n",
       "      <td>NaN</td>\n",
       "      <td>Purchasing</td>\n",
       "      <td>PG</td>\n",
       "      <td>Referral</td>\n",
       "      <td>NaN</td>\n",
       "      <td>NaN</td>\n",
       "      <td>NaN</td>\n",
       "      <td>NaN</td>\n",
       "      <td>NaN</td>\n",
       "      <td>m</td>\n",
       "      <td>2019-09-01</td>\n",
       "      <td>NaN</td>\n",
       "      <td>NaN</td>\n",
       "    </tr>\n",
       "    <tr>\n",
       "      <th>freq</th>\n",
       "      <td>2</td>\n",
       "      <td>NaN</td>\n",
       "      <td>114</td>\n",
       "      <td>254</td>\n",
       "      <td>140</td>\n",
       "      <td>NaN</td>\n",
       "      <td>NaN</td>\n",
       "      <td>NaN</td>\n",
       "      <td>NaN</td>\n",
       "      <td>NaN</td>\n",
       "      <td>207</td>\n",
       "      <td>3</td>\n",
       "      <td>NaN</td>\n",
       "      <td>NaN</td>\n",
       "    </tr>\n",
       "    <tr>\n",
       "      <th>mean</th>\n",
       "      <td>NaN</td>\n",
       "      <td>39.694000</td>\n",
       "      <td>NaN</td>\n",
       "      <td>NaN</td>\n",
       "      <td>NaN</td>\n",
       "      <td>3.032000</td>\n",
       "      <td>3.093418</td>\n",
       "      <td>4.570000</td>\n",
       "      <td>0.514000</td>\n",
       "      <td>50416.056000</td>\n",
       "      <td>NaN</td>\n",
       "      <td>NaN</td>\n",
       "      <td>0.049231</td>\n",
       "      <td>0.714000</td>\n",
       "    </tr>\n",
       "    <tr>\n",
       "      <th>std</th>\n",
       "      <td>NaN</td>\n",
       "      <td>8.477033</td>\n",
       "      <td>NaN</td>\n",
       "      <td>NaN</td>\n",
       "      <td>NaN</td>\n",
       "      <td>1.423738</td>\n",
       "      <td>1.423129</td>\n",
       "      <td>2.989812</td>\n",
       "      <td>0.628167</td>\n",
       "      <td>23671.392661</td>\n",
       "      <td>NaN</td>\n",
       "      <td>NaN</td>\n",
       "      <td>0.029519</td>\n",
       "      <td>0.452342</td>\n",
       "    </tr>\n",
       "    <tr>\n",
       "      <th>min</th>\n",
       "      <td>NaN</td>\n",
       "      <td>22.000000</td>\n",
       "      <td>NaN</td>\n",
       "      <td>NaN</td>\n",
       "      <td>NaN</td>\n",
       "      <td>1.000000</td>\n",
       "      <td>1.000000</td>\n",
       "      <td>0.000000</td>\n",
       "      <td>0.000000</td>\n",
       "      <td>24076.000000</td>\n",
       "      <td>NaN</td>\n",
       "      <td>NaN</td>\n",
       "      <td>0.010000</td>\n",
       "      <td>0.000000</td>\n",
       "    </tr>\n",
       "    <tr>\n",
       "      <th>25%</th>\n",
       "      <td>NaN</td>\n",
       "      <td>34.000000</td>\n",
       "      <td>NaN</td>\n",
       "      <td>NaN</td>\n",
       "      <td>NaN</td>\n",
       "      <td>2.000000</td>\n",
       "      <td>2.000000</td>\n",
       "      <td>2.000000</td>\n",
       "      <td>0.000000</td>\n",
       "      <td>29805.000000</td>\n",
       "      <td>NaN</td>\n",
       "      <td>NaN</td>\n",
       "      <td>0.020000</td>\n",
       "      <td>0.000000</td>\n",
       "    </tr>\n",
       "    <tr>\n",
       "      <th>50%</th>\n",
       "      <td>NaN</td>\n",
       "      <td>39.000000</td>\n",
       "      <td>NaN</td>\n",
       "      <td>NaN</td>\n",
       "      <td>NaN</td>\n",
       "      <td>3.000000</td>\n",
       "      <td>3.000000</td>\n",
       "      <td>5.000000</td>\n",
       "      <td>0.000000</td>\n",
       "      <td>42419.000000</td>\n",
       "      <td>NaN</td>\n",
       "      <td>NaN</td>\n",
       "      <td>0.050000</td>\n",
       "      <td>1.000000</td>\n",
       "    </tr>\n",
       "    <tr>\n",
       "      <th>75%</th>\n",
       "      <td>NaN</td>\n",
       "      <td>47.000000</td>\n",
       "      <td>NaN</td>\n",
       "      <td>NaN</td>\n",
       "      <td>NaN</td>\n",
       "      <td>4.000000</td>\n",
       "      <td>4.000000</td>\n",
       "      <td>7.000000</td>\n",
       "      <td>1.000000</td>\n",
       "      <td>65715.000000</td>\n",
       "      <td>NaN</td>\n",
       "      <td>NaN</td>\n",
       "      <td>0.077500</td>\n",
       "      <td>1.000000</td>\n",
       "    </tr>\n",
       "    <tr>\n",
       "      <th>max</th>\n",
       "      <td>NaN</td>\n",
       "      <td>56.000000</td>\n",
       "      <td>NaN</td>\n",
       "      <td>NaN</td>\n",
       "      <td>NaN</td>\n",
       "      <td>5.000000</td>\n",
       "      <td>5.000000</td>\n",
       "      <td>25.000000</td>\n",
       "      <td>9.000000</td>\n",
       "      <td>86750.000000</td>\n",
       "      <td>NaN</td>\n",
       "      <td>NaN</td>\n",
       "      <td>0.100000</td>\n",
       "      <td>1.000000</td>\n",
       "    </tr>\n",
       "  </tbody>\n",
       "</table>\n",
       "</div>"
      ],
      "text/plain": [
       "         emp_id         age        Dept education recruitment_type   \n",
       "count       500  500.000000         500       500              500  \\\n",
       "unique      499         NaN           5         2                4   \n",
       "top     MKT7287         NaN  Purchasing        PG         Referral   \n",
       "freq          2         NaN         114       254              140   \n",
       "mean        NaN   39.694000         NaN       NaN              NaN   \n",
       "std         NaN    8.477033         NaN       NaN              NaN   \n",
       "min         NaN   22.000000         NaN       NaN              NaN   \n",
       "25%         NaN   34.000000         NaN       NaN              NaN   \n",
       "50%         NaN   39.000000         NaN       NaN              NaN   \n",
       "75%         NaN   47.000000         NaN       NaN              NaN   \n",
       "max         NaN   56.000000         NaN       NaN              NaN   \n",
       "\n",
       "         job_level      rating      awards  certifications        salary   \n",
       "count   500.000000  471.000000  500.000000      500.000000    500.000000  \\\n",
       "unique         NaN         NaN         NaN             NaN           NaN   \n",
       "top            NaN         NaN         NaN             NaN           NaN   \n",
       "freq           NaN         NaN         NaN             NaN           NaN   \n",
       "mean      3.032000    3.093418    4.570000        0.514000  50416.056000   \n",
       "std       1.423738    1.423129    2.989812        0.628167  23671.392661   \n",
       "min       1.000000    1.000000    0.000000        0.000000  24076.000000   \n",
       "25%       2.000000    2.000000    2.000000        0.000000  29805.000000   \n",
       "50%       3.000000    3.000000    5.000000        0.000000  42419.000000   \n",
       "75%       4.000000    4.000000    7.000000        1.000000  65715.000000   \n",
       "max       5.000000    5.000000   25.000000        9.000000  86750.000000   \n",
       "\n",
       "       gender  entry_date  last_raise   satisfied  \n",
       "count     497         500   26.000000  500.000000  \n",
       "unique      4         475         NaN         NaN  \n",
       "top         m  2019-09-01         NaN         NaN  \n",
       "freq      207           3         NaN         NaN  \n",
       "mean      NaN         NaN    0.049231    0.714000  \n",
       "std       NaN         NaN    0.029519    0.452342  \n",
       "min       NaN         NaN    0.010000    0.000000  \n",
       "25%       NaN         NaN    0.020000    0.000000  \n",
       "50%       NaN         NaN    0.050000    1.000000  \n",
       "75%       NaN         NaN    0.077500    1.000000  \n",
       "max       NaN         NaN    0.100000    1.000000  "
      ]
     },
     "execution_count": 18,
     "metadata": {},
     "output_type": "execute_result"
    }
   ],
   "source": [
    "# Ermitteln Sie statistische Kennzeichen der numerischen Spalten.\n",
    "df.describe()\n",
    "\n",
    "#oder\n",
    "df.describe(include='all')\n"
   ]
  },
  {
   "cell_type": "markdown",
   "metadata": {},
   "source": [
    "### Gibt es irgendwelche fehlende Werte in den Daten?"
   ]
  },
  {
   "cell_type": "code",
   "execution_count": 34,
   "metadata": {
    "ExecuteTime": {
     "end_time": "2022-11-10T13:51:19.360356Z",
     "start_time": "2022-11-10T13:51:19.357376Z"
    },
    "scrolled": true
   },
   "outputs": [
    {
     "name": "stdout",
     "output_type": "stream",
     "text": [
      "Gibt es fehlende Werte in den Daten? True\n"
     ]
    }
   ],
   "source": [
    "check_nan = df.isnull().values.any()\n",
    "#By default, it is applied to columns. \n",
    "#If the argument axis=1 like df.isnull().values.any(axis=1), it is applied to rows.\n",
    "print(\"Gibt es fehlende Werte in den Daten? \"+str(check_nan))"
   ]
  },
  {
   "cell_type": "markdown",
   "metadata": {},
   "source": [
    "### Gibt es mindestens ein fehlendes Wert?"
   ]
  },
  {
   "cell_type": "code",
   "execution_count": 60,
   "metadata": {},
   "outputs": [
    {
     "data": {
      "text/plain": [
       "True"
      ]
     },
     "execution_count": 60,
     "metadata": {},
     "output_type": "execute_result"
    }
   ],
   "source": [
    "df.isnull().values.sum() != 0"
   ]
  },
  {
   "cell_type": "markdown",
   "metadata": {},
   "source": [
    "### Anzahl existierende Werte (nicht-Nans)"
   ]
  },
  {
   "cell_type": "code",
   "execution_count": 63,
   "metadata": {},
   "outputs": [
    {
     "data": {
      "text/plain": [
       "emp_id              500\n",
       "age                 500\n",
       "Dept                500\n",
       "education           500\n",
       "recruitment_type    500\n",
       "job_level           500\n",
       "rating              471\n",
       "awards              500\n",
       "certifications      500\n",
       "salary              500\n",
       "gender              497\n",
       "entry_date          500\n",
       "last_raise           26\n",
       "satisfied           500\n",
       "dtype: int64"
      ]
     },
     "metadata": {},
     "output_type": "display_data"
    },
    {
     "data": {
      "text/plain": [
       "0      13\n",
       "1      13\n",
       "2      13\n",
       "3      13\n",
       "4      13\n",
       "       ..\n",
       "495    13\n",
       "496    13\n",
       "497    12\n",
       "498    13\n",
       "499    13\n",
       "Length: 500, dtype: int64"
      ]
     },
     "metadata": {},
     "output_type": "display_data"
    }
   ],
   "source": [
    "#pro spalte\n",
    "display(df.count())\n",
    "#pro Zeile\n",
    "display(df.count(axis=1))"
   ]
  },
  {
   "cell_type": "markdown",
   "metadata": {},
   "source": [
    "### Fehlen alle Werte in den Daten?"
   ]
  },
  {
   "cell_type": "code",
   "execution_count": 35,
   "metadata": {},
   "outputs": [
    {
     "name": "stdout",
     "output_type": "stream",
     "text": [
      "fehlen alle Werte in den Daten? False\n"
     ]
    }
   ],
   "source": [
    "check_all_nan = df.isnull().all().all()\n",
    "print(\"fehlen alle Werte in den Daten? \"+str(check_all_nan))"
   ]
  },
  {
   "cell_type": "markdown",
   "metadata": {},
   "source": [
    "### Anzahl aller Nans in den DF + Anzahl  Nans pro Spalte"
   ]
  },
  {
   "cell_type": "code",
   "execution_count": 37,
   "metadata": {},
   "outputs": [
    {
     "name": "stdout",
     "output_type": "stream",
     "text": [
      "Anzahl aller Nans? 506\n",
      "Anzahl Nans pro Spalte? \n",
      "emp_id                0\n",
      "age                   0\n",
      "Dept                  0\n",
      "education             0\n",
      "recruitment_type      0\n",
      "job_level             0\n",
      "rating               29\n",
      "awards                0\n",
      "certifications        0\n",
      "salary                0\n",
      "gender                3\n",
      "entry_date            0\n",
      "last_raise          474\n",
      "satisfied             0\n",
      "dtype: int64\n"
     ]
    }
   ],
   "source": [
    "nan_sum = df.isnull().values.sum()\n",
    "print(\"Anzahl aller Nans? \"+str(nan_sum))\n",
    "\n",
    "nans_per_col = df.isnull().sum()\n",
    "print(\"Anzahl Nans pro Spalte? \\n\"+str(nans_per_col))"
   ]
  },
  {
   "cell_type": "markdown",
   "metadata": {},
   "source": [
    "### Welche Spalten haben Nans?"
   ]
  },
  {
   "cell_type": "code",
   "execution_count": 56,
   "metadata": {},
   "outputs": [
    {
     "data": {
      "text/plain": [
       "['rating', 'gender', 'last_raise']"
      ]
     },
     "execution_count": 56,
     "metadata": {},
     "output_type": "execute_result"
    }
   ],
   "source": [
    "df.columns[df.isna().any()].tolist()"
   ]
  },
  {
   "cell_type": "markdown",
   "metadata": {},
   "source": [
    "### Welche Zeilen haben Nans?"
   ]
  },
  {
   "cell_type": "code",
   "execution_count": 57,
   "metadata": {},
   "outputs": [
    {
     "name": "stdout",
     "output_type": "stream",
     "text": [
      "Anzahl Zeilen mit Nans 474\n"
     ]
    },
    {
     "data": {
      "text/html": [
       "<div>\n",
       "<style scoped>\n",
       "    .dataframe tbody tr th:only-of-type {\n",
       "        vertical-align: middle;\n",
       "    }\n",
       "\n",
       "    .dataframe tbody tr th {\n",
       "        vertical-align: top;\n",
       "    }\n",
       "\n",
       "    .dataframe thead th {\n",
       "        text-align: right;\n",
       "    }\n",
       "</style>\n",
       "<table border=\"1\" class=\"dataframe\">\n",
       "  <thead>\n",
       "    <tr style=\"text-align: right;\">\n",
       "      <th></th>\n",
       "      <th>emp_id</th>\n",
       "      <th>age</th>\n",
       "      <th>Dept</th>\n",
       "      <th>education</th>\n",
       "      <th>recruitment_type</th>\n",
       "      <th>job_level</th>\n",
       "      <th>rating</th>\n",
       "      <th>awards</th>\n",
       "      <th>certifications</th>\n",
       "      <th>salary</th>\n",
       "      <th>gender</th>\n",
       "      <th>entry_date</th>\n",
       "      <th>last_raise</th>\n",
       "      <th>satisfied</th>\n",
       "    </tr>\n",
       "  </thead>\n",
       "  <tbody>\n",
       "    <tr>\n",
       "      <th>0</th>\n",
       "      <td>HR8270</td>\n",
       "      <td>28</td>\n",
       "      <td>HR</td>\n",
       "      <td>PG</td>\n",
       "      <td>Referral</td>\n",
       "      <td>5</td>\n",
       "      <td>2.0</td>\n",
       "      <td>1</td>\n",
       "      <td>0</td>\n",
       "      <td>86750</td>\n",
       "      <td>m</td>\n",
       "      <td>2019-02-01</td>\n",
       "      <td>NaN</td>\n",
       "      <td>1</td>\n",
       "    </tr>\n",
       "    <tr>\n",
       "      <th>1</th>\n",
       "      <td>TECH1860</td>\n",
       "      <td>50</td>\n",
       "      <td>Technology</td>\n",
       "      <td>PG</td>\n",
       "      <td>Recruitment Agency</td>\n",
       "      <td>3</td>\n",
       "      <td>5.0</td>\n",
       "      <td>2</td>\n",
       "      <td>1</td>\n",
       "      <td>42419</td>\n",
       "      <td>Male</td>\n",
       "      <td>2017-01-17</td>\n",
       "      <td>NaN</td>\n",
       "      <td>0</td>\n",
       "    </tr>\n",
       "    <tr>\n",
       "      <th>2</th>\n",
       "      <td>TECH6390</td>\n",
       "      <td>43</td>\n",
       "      <td>Technology</td>\n",
       "      <td>UG</td>\n",
       "      <td>Referral</td>\n",
       "      <td>4</td>\n",
       "      <td>1.0</td>\n",
       "      <td>2</td>\n",
       "      <td>0</td>\n",
       "      <td>65715</td>\n",
       "      <td>f</td>\n",
       "      <td>2012-08-27</td>\n",
       "      <td>NaN</td>\n",
       "      <td>1</td>\n",
       "    </tr>\n",
       "    <tr>\n",
       "      <th>3</th>\n",
       "      <td>SAL6191</td>\n",
       "      <td>44</td>\n",
       "      <td>Sales</td>\n",
       "      <td>PG</td>\n",
       "      <td>On-Campus</td>\n",
       "      <td>2</td>\n",
       "      <td>3.0</td>\n",
       "      <td>0</td>\n",
       "      <td>0</td>\n",
       "      <td>29805</td>\n",
       "      <td>f</td>\n",
       "      <td>2017-07-25</td>\n",
       "      <td>NaN</td>\n",
       "      <td>1</td>\n",
       "    </tr>\n",
       "    <tr>\n",
       "      <th>4</th>\n",
       "      <td>HR6734</td>\n",
       "      <td>33</td>\n",
       "      <td>HR</td>\n",
       "      <td>UG</td>\n",
       "      <td>Recruitment Agency</td>\n",
       "      <td>2</td>\n",
       "      <td>1.0</td>\n",
       "      <td>5</td>\n",
       "      <td>0</td>\n",
       "      <td>29805</td>\n",
       "      <td>m</td>\n",
       "      <td>2019-05-17</td>\n",
       "      <td>NaN</td>\n",
       "      <td>1</td>\n",
       "    </tr>\n",
       "    <tr>\n",
       "      <th>...</th>\n",
       "      <td>...</td>\n",
       "      <td>...</td>\n",
       "      <td>...</td>\n",
       "      <td>...</td>\n",
       "      <td>...</td>\n",
       "      <td>...</td>\n",
       "      <td>...</td>\n",
       "      <td>...</td>\n",
       "      <td>...</td>\n",
       "      <td>...</td>\n",
       "      <td>...</td>\n",
       "      <td>...</td>\n",
       "      <td>...</td>\n",
       "      <td>...</td>\n",
       "    </tr>\n",
       "    <tr>\n",
       "      <th>495</th>\n",
       "      <td>HR5330</td>\n",
       "      <td>49</td>\n",
       "      <td>HR</td>\n",
       "      <td>PG</td>\n",
       "      <td>On-Campus</td>\n",
       "      <td>2</td>\n",
       "      <td>5.0</td>\n",
       "      <td>6</td>\n",
       "      <td>0</td>\n",
       "      <td>29805</td>\n",
       "      <td>m</td>\n",
       "      <td>2014-03-21</td>\n",
       "      <td>NaN</td>\n",
       "      <td>1</td>\n",
       "    </tr>\n",
       "    <tr>\n",
       "      <th>496</th>\n",
       "      <td>TECH9010</td>\n",
       "      <td>24</td>\n",
       "      <td>Technology</td>\n",
       "      <td>UG</td>\n",
       "      <td>Referral</td>\n",
       "      <td>2</td>\n",
       "      <td>4.0</td>\n",
       "      <td>2</td>\n",
       "      <td>0</td>\n",
       "      <td>29805</td>\n",
       "      <td>f</td>\n",
       "      <td>2018-02-20</td>\n",
       "      <td>NaN</td>\n",
       "      <td>0</td>\n",
       "    </tr>\n",
       "    <tr>\n",
       "      <th>497</th>\n",
       "      <td>MKT7801</td>\n",
       "      <td>34</td>\n",
       "      <td>Marketing</td>\n",
       "      <td>PG</td>\n",
       "      <td>On-Campus</td>\n",
       "      <td>1</td>\n",
       "      <td>NaN</td>\n",
       "      <td>2</td>\n",
       "      <td>0</td>\n",
       "      <td>24076</td>\n",
       "      <td>m</td>\n",
       "      <td>2020-10-20</td>\n",
       "      <td>NaN</td>\n",
       "      <td>1</td>\n",
       "    </tr>\n",
       "    <tr>\n",
       "      <th>498</th>\n",
       "      <td>TECH5846</td>\n",
       "      <td>26</td>\n",
       "      <td>Technology</td>\n",
       "      <td>UG</td>\n",
       "      <td>Walk-in</td>\n",
       "      <td>2</td>\n",
       "      <td>1.0</td>\n",
       "      <td>1</td>\n",
       "      <td>1</td>\n",
       "      <td>29805</td>\n",
       "      <td>Male</td>\n",
       "      <td>2012-05-18</td>\n",
       "      <td>NaN</td>\n",
       "      <td>0</td>\n",
       "    </tr>\n",
       "    <tr>\n",
       "      <th>499</th>\n",
       "      <td>TECH7731</td>\n",
       "      <td>26</td>\n",
       "      <td>Technology</td>\n",
       "      <td>UG</td>\n",
       "      <td>Recruitment Agency</td>\n",
       "      <td>3</td>\n",
       "      <td>4.0</td>\n",
       "      <td>3</td>\n",
       "      <td>0</td>\n",
       "      <td>42419</td>\n",
       "      <td>Male</td>\n",
       "      <td>2018-12-28</td>\n",
       "      <td>NaN</td>\n",
       "      <td>0</td>\n",
       "    </tr>\n",
       "  </tbody>\n",
       "</table>\n",
       "<p>474 rows × 14 columns</p>\n",
       "</div>"
      ],
      "text/plain": [
       "       emp_id  age        Dept education    recruitment_type  job_level   \n",
       "0      HR8270   28          HR        PG            Referral          5  \\\n",
       "1    TECH1860   50  Technology        PG  Recruitment Agency          3   \n",
       "2    TECH6390   43  Technology        UG            Referral          4   \n",
       "3     SAL6191   44       Sales        PG           On-Campus          2   \n",
       "4      HR6734   33          HR        UG  Recruitment Agency          2   \n",
       "..        ...  ...         ...       ...                 ...        ...   \n",
       "495    HR5330   49          HR        PG           On-Campus          2   \n",
       "496  TECH9010   24  Technology        UG            Referral          2   \n",
       "497   MKT7801   34   Marketing        PG           On-Campus          1   \n",
       "498  TECH5846   26  Technology        UG             Walk-in          2   \n",
       "499  TECH7731   26  Technology        UG  Recruitment Agency          3   \n",
       "\n",
       "     rating  awards  certifications  salary gender  entry_date  last_raise   \n",
       "0       2.0       1               0   86750      m  2019-02-01         NaN  \\\n",
       "1       5.0       2               1   42419   Male  2017-01-17         NaN   \n",
       "2       1.0       2               0   65715      f  2012-08-27         NaN   \n",
       "3       3.0       0               0   29805      f  2017-07-25         NaN   \n",
       "4       1.0       5               0   29805      m  2019-05-17         NaN   \n",
       "..      ...     ...             ...     ...    ...         ...         ...   \n",
       "495     5.0       6               0   29805      m  2014-03-21         NaN   \n",
       "496     4.0       2               0   29805      f  2018-02-20         NaN   \n",
       "497     NaN       2               0   24076      m  2020-10-20         NaN   \n",
       "498     1.0       1               1   29805   Male  2012-05-18         NaN   \n",
       "499     4.0       3               0   42419   Male  2018-12-28         NaN   \n",
       "\n",
       "     satisfied  \n",
       "0            1  \n",
       "1            0  \n",
       "2            1  \n",
       "3            1  \n",
       "4            1  \n",
       "..         ...  \n",
       "495          1  \n",
       "496          0  \n",
       "497          1  \n",
       "498          0  \n",
       "499          0  \n",
       "\n",
       "[474 rows x 14 columns]"
      ]
     },
     "execution_count": 57,
     "metadata": {},
     "output_type": "execute_result"
    }
   ],
   "source": [
    "print(\"Anzahl Zeilen mit Nans \"+str(df.isnull().T.any().T.sum()))\n",
    "\n",
    "nan_rows = df[df.isnull().T.any()]\n",
    "nan_rows"
   ]
  },
  {
   "cell_type": "markdown",
   "metadata": {},
   "source": [
    "### To find out which rows have NaNs in a specific column:"
   ]
  },
  {
   "cell_type": "code",
   "execution_count": 59,
   "metadata": {},
   "outputs": [
    {
     "data": {
      "text/html": [
       "<div>\n",
       "<style scoped>\n",
       "    .dataframe tbody tr th:only-of-type {\n",
       "        vertical-align: middle;\n",
       "    }\n",
       "\n",
       "    .dataframe tbody tr th {\n",
       "        vertical-align: top;\n",
       "    }\n",
       "\n",
       "    .dataframe thead th {\n",
       "        text-align: right;\n",
       "    }\n",
       "</style>\n",
       "<table border=\"1\" class=\"dataframe\">\n",
       "  <thead>\n",
       "    <tr style=\"text-align: right;\">\n",
       "      <th></th>\n",
       "      <th>emp_id</th>\n",
       "      <th>age</th>\n",
       "      <th>Dept</th>\n",
       "      <th>education</th>\n",
       "      <th>recruitment_type</th>\n",
       "      <th>job_level</th>\n",
       "      <th>rating</th>\n",
       "      <th>awards</th>\n",
       "      <th>certifications</th>\n",
       "      <th>salary</th>\n",
       "      <th>gender</th>\n",
       "      <th>entry_date</th>\n",
       "      <th>last_raise</th>\n",
       "      <th>satisfied</th>\n",
       "    </tr>\n",
       "  </thead>\n",
       "  <tbody>\n",
       "    <tr>\n",
       "      <th>61</th>\n",
       "      <td>SAL8629</td>\n",
       "      <td>53</td>\n",
       "      <td>Sales</td>\n",
       "      <td>PG</td>\n",
       "      <td>Recruitment Agency</td>\n",
       "      <td>1</td>\n",
       "      <td>NaN</td>\n",
       "      <td>6</td>\n",
       "      <td>1</td>\n",
       "      <td>24076</td>\n",
       "      <td>m</td>\n",
       "      <td>2020-11-26</td>\n",
       "      <td>NaN</td>\n",
       "      <td>1</td>\n",
       "    </tr>\n",
       "    <tr>\n",
       "      <th>67</th>\n",
       "      <td>HR8916</td>\n",
       "      <td>28</td>\n",
       "      <td>HR</td>\n",
       "      <td>PG</td>\n",
       "      <td>Referral</td>\n",
       "      <td>1</td>\n",
       "      <td>NaN</td>\n",
       "      <td>7</td>\n",
       "      <td>1</td>\n",
       "      <td>24076</td>\n",
       "      <td>Female</td>\n",
       "      <td>2020-09-10</td>\n",
       "      <td>NaN</td>\n",
       "      <td>0</td>\n",
       "    </tr>\n",
       "    <tr>\n",
       "      <th>69</th>\n",
       "      <td>HR1878</td>\n",
       "      <td>27</td>\n",
       "      <td>HR</td>\n",
       "      <td>PG</td>\n",
       "      <td>Walk-in</td>\n",
       "      <td>1</td>\n",
       "      <td>NaN</td>\n",
       "      <td>5</td>\n",
       "      <td>0</td>\n",
       "      <td>24076</td>\n",
       "      <td>Male</td>\n",
       "      <td>2020-06-01</td>\n",
       "      <td>NaN</td>\n",
       "      <td>1</td>\n",
       "    </tr>\n",
       "    <tr>\n",
       "      <th>70</th>\n",
       "      <td>HR5887</td>\n",
       "      <td>30</td>\n",
       "      <td>HR</td>\n",
       "      <td>UG</td>\n",
       "      <td>Recruitment Agency</td>\n",
       "      <td>1</td>\n",
       "      <td>NaN</td>\n",
       "      <td>0</td>\n",
       "      <td>0</td>\n",
       "      <td>24076</td>\n",
       "      <td>f</td>\n",
       "      <td>2020-05-30</td>\n",
       "      <td>NaN</td>\n",
       "      <td>0</td>\n",
       "    </tr>\n",
       "    <tr>\n",
       "      <th>117</th>\n",
       "      <td>TECH3790</td>\n",
       "      <td>45</td>\n",
       "      <td>Technology</td>\n",
       "      <td>UG</td>\n",
       "      <td>On-Campus</td>\n",
       "      <td>5</td>\n",
       "      <td>NaN</td>\n",
       "      <td>4</td>\n",
       "      <td>0</td>\n",
       "      <td>86750</td>\n",
       "      <td>m</td>\n",
       "      <td>2020-10-18</td>\n",
       "      <td>NaN</td>\n",
       "      <td>1</td>\n",
       "    </tr>\n",
       "  </tbody>\n",
       "</table>\n",
       "</div>"
      ],
      "text/plain": [
       "       emp_id  age        Dept education    recruitment_type  job_level   \n",
       "61    SAL8629   53       Sales        PG  Recruitment Agency          1  \\\n",
       "67     HR8916   28          HR        PG            Referral          1   \n",
       "69     HR1878   27          HR        PG             Walk-in          1   \n",
       "70     HR5887   30          HR        UG  Recruitment Agency          1   \n",
       "117  TECH3790   45  Technology        UG           On-Campus          5   \n",
       "\n",
       "     rating  awards  certifications  salary  gender  entry_date  last_raise   \n",
       "61      NaN       6               1   24076       m  2020-11-26         NaN  \\\n",
       "67      NaN       7               1   24076  Female  2020-09-10         NaN   \n",
       "69      NaN       5               0   24076    Male  2020-06-01         NaN   \n",
       "70      NaN       0               0   24076       f  2020-05-30         NaN   \n",
       "117     NaN       4               0   86750       m  2020-10-18         NaN   \n",
       "\n",
       "     satisfied  \n",
       "61           1  \n",
       "67           0  \n",
       "69           1  \n",
       "70           0  \n",
       "117          1  "
      ]
     },
     "execution_count": 59,
     "metadata": {},
     "output_type": "execute_result"
    }
   ],
   "source": [
    "nan_rows_in_specific_col = df[df['rating'].isnull()]\n",
    "nan_rows_in_specific_col.head(5)"
   ]
  },
  {
   "cell_type": "markdown",
   "metadata": {},
   "source": [
    "## Datenqualität\n",
    "\n",
    "*Hinweis: Bei den folgenden Fragen geht es um Ihre Einschätzung. Ziel ist es, sich mit dem Thema Datenqualität auseinanderzusetzen und sich mit Fragestellungen in Bezug auf Data Fitness, etc. zu beschäftigen.*\n",
    "\n",
    "Was denken Sie über den Datensatz? Ist dieser geeignet, um die Fragestellung über die Zufriedenheit der Angestellten zu beantworten? Reichen die angegebenen Informationen zur Beantwortung der Fragestellung aus? Wenn nicht, welche Informationen würden Sie noch verwenden?"
   ]
  },
  {
   "cell_type": "raw",
   "metadata": {},
   "source": [
    "Ihre Einschätzung:\n",
    "Um die Fragestellung, ob die Allgemeinheit der Angestellten zufrieden sind, zu beantworten, ist sowohl die Fitness als auch die Integrität des Datensatzes nicht wirklich ausreichend.\n",
    "\n",
    "Data Fitness: \n",
    "Der Datensatz stellt eine ausreichende Repräsentation der betroffenen Population dar (Metrik: Representativeness). Allerdings, ist die Zuverlässigkeit des Datensatzes fraglich, falls eine Datenanalyse des Datensatzes auf ein anderes Unternehmen übertragen wird (Metrik Reliability). Für akkurate Resultate müssen die Größe, Umsatz, und Branche der beiden Unternehemn ähnlich sein. Auch die Metrik \"Construct Validity\" wird nicht effektiv erfasst. Das kann man beispielsweise an der Spalte \"rating\" erkennen, denn die Erklärung für die Spalte \"rating\" in der Datei \"Meta-Data.txt\" ist mehrdeutig. Man kann nicht genau sagen wer wem bewertet (die Angestellten bewerten ihr Unternehmen oder andersrum?) oder auf was die Bewertung basiert (z.B. Leistung der Angestellten, Arbeitsumfeld etc...).\n",
    "\n",
    "Folgende Data Integrity characteristics wurden für den datensatz nicht erfüllt:\n",
    "1. Well-annotated (Spalte \"rating\")\n",
    "2- consistent (Spalte \"gender\")\n",
    "3. clear\n",
    "\n",
    "\n",
    "Folgende Informationen (bzw. Spalten) würde ich noch hinzufügen, um genauere Resultate zu bekommen:\n",
    "1. Number of raises they've had in the past\n",
    "2. Date of last raise (Falls die Gehalterhöhung neu ist, ist der Angestellte vermutlich zufriedener als ein anderer Angestellte mit einer älteren Gehaltserhöhung)\n",
    "3. have they been promoted? (Davon kann man wissen, ob der Angestellte in dem Joblevel aufgenommen wurde oder zu diese befördert wurde)\n",
    "4. Anzahl der Urlaubstage\n"
   ]
  },
  {
   "cell_type": "markdown",
   "metadata": {},
   "source": [
    "Für welche weiteren Fragestellungen/Analysen könnte der Datensatz geeignet sein?"
   ]
  },
  {
   "cell_type": "raw",
   "metadata": {},
   "source": [
    "Ihre Einschätzung:\n",
    "1. Welche der Einstellungsmethoden (recruitment types) am effektivsten für das Unternhemen sind.\n",
    "2. Einschätzung der nächsten Gehaltserhöhung für einen Angestellten basieren auf sein Gehalt, Job level und Awards."
   ]
  },
  {
   "cell_type": "markdown",
   "metadata": {},
   "source": [
    "Stellen Sie Überlegungen zur Datenerhebung an. Welche Faktoren könnten die Datenqualität beeinträchtigen?"
   ]
  },
  {
   "cell_type": "raw",
   "metadata": {},
   "source": [
    "Ihre Einschätzung:\n",
    "\n",
    "1. Klarheit und Annotation der Daten. Z.B. Die erklärung für die Spalte \"rating\" in der Datei \"Meta-Data.txt\" ist mehrdeutig. Man kann nicht genau sagen wer wem bewertet (die Angestellten bewerten ihr Unternehmen oder andersrum?) oder auf was die Bewertung basiert (z.B. Leistung der Angestellten, Arbeitsumfeld).\n",
    "2. Inkonsistenzen: Z.B. In der Spalte \"gender\" werden für das gleiche Geschlecht zwei verschiedene Diskriptoren verwendet (\"m\" und \"Male\", \"f\" und \"Female\"). Ein Problem wird auftreten, falls eine Klassifizierung der zufriedenen und unzufriedenen Angestellten basierend auf dem Geschlecht der Angestellten erfolgt."
   ]
  },
  {
   "cell_type": "markdown",
   "metadata": {},
   "source": [
    "Beurteilen Sie den Datensatz bzgl. der weiteren Aspekte zur Datenqualität, die Sie im Kurstext kennengelernt haben:"
   ]
  },
  {
   "cell_type": "code",
   "execution_count": 18,
   "metadata": {
    "ExecuteTime": {
     "end_time": "2022-11-10T13:51:19.409114Z",
     "start_time": "2022-11-10T13:51:19.406055Z"
    },
    "scrolled": true
   },
   "outputs": [
    {
     "name": "stdout",
     "output_type": "stream",
     "text": [
      "sind alle Angestellten im Datensatz inbegriffen? True\n",
      "Are there any missing values? True\n",
      "Number of duplicate rows: 0\n",
      "display duplicated rows: \n",
      "Empty DataFrame\n",
      "Columns: [emp_id, age, Dept, education, recruitment_type, job_level, rating, awards, certifications, salary, gender, entry_date, last_raise, satisfied]\n",
      "Index: []\n"
     ]
    },
    {
     "data": {
      "text/plain": [
       "gender\n",
       "Female     46\n",
       "Male       57\n",
       "f         187\n",
       "m         207\n",
       "Name: emp_id, dtype: int64"
      ]
     },
     "execution_count": 18,
     "metadata": {},
     "output_type": "execute_result"
    }
   ],
   "source": [
    "# Platz für Analysen bzgl. der Datenqualität\n",
    "\n",
    "#Data Integrity - Characteristic \"High volume\"\n",
    "print(\"sind alle 500 Angestellten im Datensatz inbegriffen? \"+str(len(df.index)==500))\n",
    "\n",
    "#Data Integrity - Characteristic \"Complete\"\n",
    "# Gibt es fehlende Werte in den Daten?\n",
    "check_nan = df.isnull().values.any()\n",
    "print(\"Are there any missing values? \"+str(check_nan))\n",
    "\n",
    "#Data Integrity - Characteristic \"Consistent\"\n",
    "#Duplikate finden\n",
    "print(\"Number of duplicate rows: \"+ str(len(df)-len(df.drop_duplicates())))\n",
    "print(\"display duplicated rows: \")\n",
    "print(df[df.duplicated()])\n",
    "\n",
    "#find inconsistencies:\n",
    "df.groupby(['gender'])['emp_id'].count()\n"
   ]
  },
  {
   "cell_type": "raw",
   "metadata": {},
   "source": [
    "Ihre Einschätzung:\n",
    "Von der Datenanalyse kann man folgendes entnehmen:\n",
    "1. Data Integrity characteristics:\n",
    "    a. \"High volume\": erfüllt. Alle 500 angestelleten sind im Datensatz inbegriffen.\n",
    "    b. \"Consistent\": Nicht erfüllt. Es gibt keine Duplikate. Es gibt Inkonsistenzen in Spalte \"gender\"\n",
    "    c. \"Complete\": Nicht erfüllt. Es gibt fehlende Werte in der letzten Spalte.\n",
    "    d. \"Timely\": erfüllt. Der datensatz ist aktuell.\n",
    "    e. \"Of Known Provenance\": erfüllt. Der Datensatz ist intern erstellt d.h. von einer zuverlässigen Quelle.\n",
    "    f. \"Well annotated\": Nicht erfüllt. einige Spaletn sind nicht eindeutig erklärt."
   ]
  },
  {
   "cell_type": "markdown",
   "metadata": {},
   "source": [
    "Stellen Sie sich vor, dieser Datensatz soll dazu verwendet werden, um die Zufriedenheit von Angestellten vorherzusagen und daraus wiederum Rückschlüsse auf das Kündigungswahrscheinlichkeiten zu schließen. Für wie zuverlässig würden Sie entsprechende Wahrscheinlichkeiten halten?"
   ]
  },
  {
   "cell_type": "raw",
   "metadata": {},
   "source": [
    "Ihre Einschätzung: Unzuverlässig."
   ]
  },
  {
   "cell_type": "markdown",
   "metadata": {},
   "source": [
    "Nehmen Sie an, mithilfe des Datensatzes wäre ein zuverlässiges Modell mit guten Vorhersagewahrscheinlichkeiten trainiert worden, um die Zufriedenheit der Angestellten zu bestimmen. Nun möchte eine andere Firma aus der gleichen Branche dasselbe Modell für ihre Angestellten nutzen. Denken Sie, das Modell würde auch für die andere Firma zuverlässige Vorhersagen treffen?"
   ]
  },
  {
   "cell_type": "raw",
   "metadata": {},
   "source": [
    "Ihre Einschätzung:\n",
    "Ich glaube das Modell würde für die andere Firma *nur* zuverlässige Vorhersagen treffen, wenn die Firme eine ähnliche Größe (Anzahl der Angestellten) und Umsatz hat wie die erste Firma."
   ]
  },
  {
   "cell_type": "markdown",
   "metadata": {},
   "source": [
    "Überlegen Sie, welche Vorverarbeitungsschritte für den Datensatz notwendig wären."
   ]
  },
  {
   "cell_type": "raw",
   "metadata": {},
   "source": [
    "Ihre Einschätzung:\n",
    "1 - Data Cleaning: Inkonsistenzen müssen korrigiert werden, fehlende Daten ergänzen.\n",
    "2 - Metadaten genauer formulieren."
   ]
  }
 ],
 "metadata": {
  "kernelspec": {
   "display_name": "Python 3 (ipykernel)",
   "language": "python",
   "name": "python3"
  },
  "language_info": {
   "codemirror_mode": {
    "name": "ipython",
    "version": 3
   },
   "file_extension": ".py",
   "mimetype": "text/x-python",
   "name": "python",
   "nbconvert_exporter": "python",
   "pygments_lexer": "ipython3",
   "version": "3.11.3"
  },
  "toc": {
   "base_numbering": "1",
   "nav_menu": {},
   "number_sections": true,
   "sideBar": true,
   "skip_h1_title": true,
   "title_cell": "Table of Contents",
   "title_sidebar": "Contents",
   "toc_cell": false,
   "toc_position": {
    "height": "calc(100% - 180px)",
    "left": "10px",
    "top": "150px",
    "width": "307.2px"
   },
   "toc_section_display": true,
   "toc_window_display": true
  }
 },
 "nbformat": 4,
 "nbformat_minor": 4
}
