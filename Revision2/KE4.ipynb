{
 "cells": [
  {
   "cell_type": "raw",
   "metadata": {},
   "source": [
    "Name:\n",
    "Matrikelnummer:"
   ]
  },
  {
   "cell_type": "markdown",
   "metadata": {
    "ExecuteTime": {
     "end_time": "2022-02-23T10:28:34.518915Z",
     "start_time": "2022-02-23T10:28:34.481519Z"
    }
   },
   "source": [
    "___"
   ]
  },
  {
   "cell_type": "code",
   "execution_count": 2,
   "metadata": {
    "ExecuteTime": {
     "end_time": "2022-02-23T10:28:35.146621Z",
     "start_time": "2022-02-23T10:28:34.518915Z"
    }
   },
   "outputs": [],
   "source": [
    "# Imports\n",
    "import pandas as pd\n",
    "import matplotlib.pyplot as plt"
   ]
  },
  {
   "cell_type": "markdown",
   "metadata": {},
   "source": [
    "___\n",
    "**_Bitte beachten:_**\n",
    "\n",
    "- In Code-Zellen soll (bei Bedarf kommentierter) Code eingefügt werden. In Raw-Zellen erwarten wir Antworten im Freitext-Format.\n",
    "- Fragestellungen sind teilweise bewusst etwas offener formuliert, weil Sie auch im Arbeitsleben nur selten mit ganz spezifischen Anweisungen rechnen können.Es gibt häufig mehrere mögliche Lösungen, dies wird in der Korrektur  berücksichtigt.\n",
    "\n",
    "___"
   ]
  },
  {
   "cell_type": "markdown",
   "metadata": {},
   "source": [
    "# (I can't get no) satisfaction\n",
    "Wir arbeiten weiterhin mit dem Datensatz über die Zufriedenheit von Angestellten einer fiktiven Firma. In dieser Kurseinheit werden wir einige Techniken zur Datenvisualisierung anwenden.\n",
    "\n",
    "*Hinweise:*\n",
    "- *Für die Visualisierungsaufgaben gibt es meist unterschiedliche Lösungswege. Wir verwenden in den meisten Fällen die Bibliothek `matplotlib`. Sie können die Aufgaben auch mit anderen Bibliotheken, wie z.B. `seaborn`, lösen. Denken Sie in dem Fall daran, die entsprechende Bibliothek zu installieren und zu importieren.*\n",
    "- *Denken Sie bei der Erstellung der Plots an Titel und Achsenbeschriftung!*"
   ]
  },
  {
   "cell_type": "markdown",
   "metadata": {},
   "source": [
    "**Daten laden**\n",
    "\n",
    "Wir verwenden nun den transformierten Datensatz aus KE3. Sollten Sie die Aufgaben aus KE3 erfolgreich absolviert haben, können Sie Ihren Datensatz verwenden, ansonsten finden Sie die entsprechende csv-Datei (`employees_satisfaction_transformed.csv`) im Moodle."
   ]
  },
  {
   "cell_type": "code",
   "execution_count": 13,
   "metadata": {
    "ExecuteTime": {
     "end_time": "2022-02-23T10:28:35.170948Z",
     "start_time": "2022-02-23T10:28:35.146621Z"
    }
   },
   "outputs": [],
   "source": [
    "# Datensatz laden\n",
    "# Laden Sie den Datensatz wieder so, dass die erste Spalte als Index (Row Label) verwendet wird\n",
    "# Wir verwenden hier den transformierten Datensatz aus KE3\n",
    "df = pd.read_csv('./employees_satisfaction_transformed.csv', index_col=0)"
   ]
  },
  {
   "cell_type": "markdown",
   "metadata": {},
   "source": [
    "Für Datumsberechnungen wandeln wir wieder den Datentyp von `entry_date` um."
   ]
  },
  {
   "cell_type": "code",
   "execution_count": 14,
   "metadata": {
    "ExecuteTime": {
     "end_time": "2022-02-23T10:28:35.186558Z",
     "start_time": "2022-02-23T10:28:35.170948Z"
    }
   },
   "outputs": [],
   "source": [
    "df[\"entry_date\"] = pd.to_datetime(df[\"entry_date\"], format=\"%Y-%m-%d\")"
   ]
  },
  {
   "cell_type": "code",
   "execution_count": 15,
   "metadata": {
    "ExecuteTime": {
     "end_time": "2022-02-23T10:28:35.220883Z",
     "start_time": "2022-02-23T10:28:35.186558Z"
    }
   },
   "outputs": [
    {
     "data": {
      "text/html": [
       "<div>\n",
       "<style scoped>\n",
       "    .dataframe tbody tr th:only-of-type {\n",
       "        vertical-align: middle;\n",
       "    }\n",
       "\n",
       "    .dataframe tbody tr th {\n",
       "        vertical-align: top;\n",
       "    }\n",
       "\n",
       "    .dataframe thead th {\n",
       "        text-align: right;\n",
       "    }\n",
       "</style>\n",
       "<table border=\"1\" class=\"dataframe\">\n",
       "  <thead>\n",
       "    <tr style=\"text-align: right;\">\n",
       "      <th></th>\n",
       "      <th>age</th>\n",
       "      <th>department</th>\n",
       "      <th>education</th>\n",
       "      <th>recruitment_type</th>\n",
       "      <th>job_level</th>\n",
       "      <th>rating</th>\n",
       "      <th>awards</th>\n",
       "      <th>certifications</th>\n",
       "      <th>salary</th>\n",
       "      <th>gender</th>\n",
       "      <th>entry_date</th>\n",
       "      <th>satisfied</th>\n",
       "    </tr>\n",
       "  </thead>\n",
       "  <tbody>\n",
       "    <tr>\n",
       "      <th>0</th>\n",
       "      <td>28</td>\n",
       "      <td>HR</td>\n",
       "      <td>Postgraduate</td>\n",
       "      <td>Referral</td>\n",
       "      <td>5</td>\n",
       "      <td>2.0</td>\n",
       "      <td>1</td>\n",
       "      <td>0</td>\n",
       "      <td>78075.0</td>\n",
       "      <td>Male</td>\n",
       "      <td>2019-02-01</td>\n",
       "      <td>1</td>\n",
       "    </tr>\n",
       "    <tr>\n",
       "      <th>1</th>\n",
       "      <td>50</td>\n",
       "      <td>Technology</td>\n",
       "      <td>Postgraduate</td>\n",
       "      <td>Recruitment Agency</td>\n",
       "      <td>3</td>\n",
       "      <td>5.0</td>\n",
       "      <td>2</td>\n",
       "      <td>1</td>\n",
       "      <td>38177.1</td>\n",
       "      <td>Male</td>\n",
       "      <td>2017-01-17</td>\n",
       "      <td>0</td>\n",
       "    </tr>\n",
       "    <tr>\n",
       "      <th>2</th>\n",
       "      <td>43</td>\n",
       "      <td>Technology</td>\n",
       "      <td>Undergraduate</td>\n",
       "      <td>Referral</td>\n",
       "      <td>4</td>\n",
       "      <td>1.0</td>\n",
       "      <td>2</td>\n",
       "      <td>0</td>\n",
       "      <td>59143.5</td>\n",
       "      <td>Female</td>\n",
       "      <td>2012-08-27</td>\n",
       "      <td>1</td>\n",
       "    </tr>\n",
       "    <tr>\n",
       "      <th>3</th>\n",
       "      <td>44</td>\n",
       "      <td>Sales</td>\n",
       "      <td>Postgraduate</td>\n",
       "      <td>On-Campus</td>\n",
       "      <td>2</td>\n",
       "      <td>3.0</td>\n",
       "      <td>0</td>\n",
       "      <td>0</td>\n",
       "      <td>26824.5</td>\n",
       "      <td>Female</td>\n",
       "      <td>2017-07-25</td>\n",
       "      <td>1</td>\n",
       "    </tr>\n",
       "    <tr>\n",
       "      <th>4</th>\n",
       "      <td>33</td>\n",
       "      <td>HR</td>\n",
       "      <td>Undergraduate</td>\n",
       "      <td>Recruitment Agency</td>\n",
       "      <td>2</td>\n",
       "      <td>1.0</td>\n",
       "      <td>5</td>\n",
       "      <td>0</td>\n",
       "      <td>26824.5</td>\n",
       "      <td>Male</td>\n",
       "      <td>2019-05-17</td>\n",
       "      <td>1</td>\n",
       "    </tr>\n",
       "    <tr>\n",
       "      <th>...</th>\n",
       "      <td>...</td>\n",
       "      <td>...</td>\n",
       "      <td>...</td>\n",
       "      <td>...</td>\n",
       "      <td>...</td>\n",
       "      <td>...</td>\n",
       "      <td>...</td>\n",
       "      <td>...</td>\n",
       "      <td>...</td>\n",
       "      <td>...</td>\n",
       "      <td>...</td>\n",
       "      <td>...</td>\n",
       "    </tr>\n",
       "    <tr>\n",
       "      <th>495</th>\n",
       "      <td>49</td>\n",
       "      <td>HR</td>\n",
       "      <td>Postgraduate</td>\n",
       "      <td>On-Campus</td>\n",
       "      <td>2</td>\n",
       "      <td>5.0</td>\n",
       "      <td>6</td>\n",
       "      <td>0</td>\n",
       "      <td>26824.5</td>\n",
       "      <td>Male</td>\n",
       "      <td>2014-03-21</td>\n",
       "      <td>1</td>\n",
       "    </tr>\n",
       "    <tr>\n",
       "      <th>496</th>\n",
       "      <td>24</td>\n",
       "      <td>Technology</td>\n",
       "      <td>Undergraduate</td>\n",
       "      <td>Referral</td>\n",
       "      <td>2</td>\n",
       "      <td>4.0</td>\n",
       "      <td>2</td>\n",
       "      <td>0</td>\n",
       "      <td>26824.5</td>\n",
       "      <td>Female</td>\n",
       "      <td>2018-02-20</td>\n",
       "      <td>0</td>\n",
       "    </tr>\n",
       "    <tr>\n",
       "      <th>497</th>\n",
       "      <td>34</td>\n",
       "      <td>Marketing</td>\n",
       "      <td>Postgraduate</td>\n",
       "      <td>On-Campus</td>\n",
       "      <td>1</td>\n",
       "      <td>Unavailable</td>\n",
       "      <td>2</td>\n",
       "      <td>0</td>\n",
       "      <td>21668.4</td>\n",
       "      <td>Male</td>\n",
       "      <td>2020-10-20</td>\n",
       "      <td>1</td>\n",
       "    </tr>\n",
       "    <tr>\n",
       "      <th>498</th>\n",
       "      <td>26</td>\n",
       "      <td>Technology</td>\n",
       "      <td>Undergraduate</td>\n",
       "      <td>Walk-in</td>\n",
       "      <td>2</td>\n",
       "      <td>1.0</td>\n",
       "      <td>1</td>\n",
       "      <td>1</td>\n",
       "      <td>26824.5</td>\n",
       "      <td>Male</td>\n",
       "      <td>2012-05-18</td>\n",
       "      <td>0</td>\n",
       "    </tr>\n",
       "    <tr>\n",
       "      <th>499</th>\n",
       "      <td>26</td>\n",
       "      <td>Technology</td>\n",
       "      <td>Undergraduate</td>\n",
       "      <td>Recruitment Agency</td>\n",
       "      <td>3</td>\n",
       "      <td>4.0</td>\n",
       "      <td>3</td>\n",
       "      <td>0</td>\n",
       "      <td>38177.1</td>\n",
       "      <td>Male</td>\n",
       "      <td>2018-12-28</td>\n",
       "      <td>0</td>\n",
       "    </tr>\n",
       "  </tbody>\n",
       "</table>\n",
       "<p>498 rows × 12 columns</p>\n",
       "</div>"
      ],
      "text/plain": [
       "     age  department      education    recruitment_type  job_level   \n",
       "0     28          HR   Postgraduate            Referral          5  \\\n",
       "1     50  Technology   Postgraduate  Recruitment Agency          3   \n",
       "2     43  Technology  Undergraduate            Referral          4   \n",
       "3     44       Sales   Postgraduate           On-Campus          2   \n",
       "4     33          HR  Undergraduate  Recruitment Agency          2   \n",
       "..   ...         ...            ...                 ...        ...   \n",
       "495   49          HR   Postgraduate           On-Campus          2   \n",
       "496   24  Technology  Undergraduate            Referral          2   \n",
       "497   34   Marketing   Postgraduate           On-Campus          1   \n",
       "498   26  Technology  Undergraduate             Walk-in          2   \n",
       "499   26  Technology  Undergraduate  Recruitment Agency          3   \n",
       "\n",
       "          rating  awards  certifications   salary  gender entry_date   \n",
       "0            2.0       1               0  78075.0    Male 2019-02-01  \\\n",
       "1            5.0       2               1  38177.1    Male 2017-01-17   \n",
       "2            1.0       2               0  59143.5  Female 2012-08-27   \n",
       "3            3.0       0               0  26824.5  Female 2017-07-25   \n",
       "4            1.0       5               0  26824.5    Male 2019-05-17   \n",
       "..           ...     ...             ...      ...     ...        ...   \n",
       "495          5.0       6               0  26824.5    Male 2014-03-21   \n",
       "496          4.0       2               0  26824.5  Female 2018-02-20   \n",
       "497  Unavailable       2               0  21668.4    Male 2020-10-20   \n",
       "498          1.0       1               1  26824.5    Male 2012-05-18   \n",
       "499          4.0       3               0  38177.1    Male 2018-12-28   \n",
       "\n",
       "     satisfied  \n",
       "0            1  \n",
       "1            0  \n",
       "2            1  \n",
       "3            1  \n",
       "4            1  \n",
       "..         ...  \n",
       "495          1  \n",
       "496          0  \n",
       "497          1  \n",
       "498          0  \n",
       "499          0  \n",
       "\n",
       "[498 rows x 12 columns]"
      ]
     },
     "execution_count": 15,
     "metadata": {},
     "output_type": "execute_result"
    }
   ],
   "source": [
    "df"
   ]
  },
  {
   "cell_type": "markdown",
   "metadata": {},
   "source": [
    "## Data Analysis"
   ]
  },
  {
   "cell_type": "markdown",
   "metadata": {},
   "source": [
    "### Alter"
   ]
  },
  {
   "cell_type": "markdown",
   "metadata": {},
   "source": [
    "**Wie ist das durchschnittliche Alter der Angestellten? Unterscheidet sich dieses, in Abhängigkeit von der Abteilung?**"
   ]
  },
  {
   "cell_type": "code",
   "execution_count": 16,
   "metadata": {
    "ExecuteTime": {
     "end_time": "2022-02-23T10:28:35.236458Z",
     "start_time": "2022-02-23T10:28:35.220883Z"
    }
   },
   "outputs": [
    {
     "data": {
      "text/plain": [
       "39.670682730923694"
      ]
     },
     "execution_count": 16,
     "metadata": {},
     "output_type": "execute_result"
    }
   ],
   "source": [
    "# Ihre Lösung\n",
    "\n",
    "df['age'].mean()"
   ]
  },
  {
   "cell_type": "code",
   "execution_count": 24,
   "metadata": {},
   "outputs": [
    {
     "data": {
      "text/plain": [
       "department\n",
       "HR            39.367925\n",
       "Marketing     38.784946\n",
       "Purchasing    40.140351\n",
       "Sales         38.816092\n",
       "Technology    41.051020\n",
       "Name: age, dtype: float64"
      ]
     },
     "execution_count": 24,
     "metadata": {},
     "output_type": "execute_result"
    }
   ],
   "source": [
    "df.groupby('department')['age'].mean()"
   ]
  },
  {
   "cell_type": "raw",
   "metadata": {},
   "source": [
    "Ihre Antwort:"
   ]
  },
  {
   "cell_type": "markdown",
   "metadata": {},
   "source": [
    "**In welcher Abteilung arbeitet der älteste Mann, in welcher die jüngste Frau?**"
   ]
  },
  {
   "cell_type": "code",
   "execution_count": 32,
   "metadata": {
    "ExecuteTime": {
     "end_time": "2022-02-23T10:28:35.267714Z",
     "start_time": "2022-02-23T10:28:35.252078Z"
    }
   },
   "outputs": [
    {
     "data": {
      "text/plain": [
       "68    Technology\n",
       "Name: department, dtype: object"
      ]
     },
     "execution_count": 32,
     "metadata": {},
     "output_type": "execute_result"
    }
   ],
   "source": [
    "# Ihre Lösung\n",
    "males = df[df['gender']=='Male']\n",
    "females = df[df['gender']=='Female']"
   ]
  },
  {
   "cell_type": "code",
   "execution_count": 35,
   "metadata": {
    "ExecuteTime": {
     "end_time": "2022-02-23T10:28:35.283330Z",
     "start_time": "2022-02-23T10:28:35.267714Z"
    }
   },
   "outputs": [
    {
     "data": {
      "text/plain": [
       "68    Technology\n",
       "Name: department, dtype: object"
      ]
     },
     "execution_count": 35,
     "metadata": {},
     "output_type": "execute_result"
    }
   ],
   "source": [
    "# Abteilung ältester Mann\n",
    "males[males['age'] == males['age'].max()]['department']"
   ]
  },
  {
   "cell_type": "code",
   "execution_count": 36,
   "metadata": {
    "ExecuteTime": {
     "end_time": "2022-02-23T10:28:35.298957Z",
     "start_time": "2022-02-23T10:28:35.283330Z"
    }
   },
   "outputs": [
    {
     "data": {
      "text/plain": [
       "276    HR\n",
       "Name: department, dtype: object"
      ]
     },
     "execution_count": 36,
     "metadata": {},
     "output_type": "execute_result"
    }
   ],
   "source": [
    "# Abteilung älteste Frau\n",
    "females[females['age'] == females['age'].min()]['department']"
   ]
  },
  {
   "cell_type": "raw",
   "metadata": {},
   "source": [
    "Ihre Antwort:"
   ]
  },
  {
   "cell_type": "markdown",
   "metadata": {},
   "source": [
    "### Awards\n",
    "\n",
    "**Wie ist die durchschnittliche Anzahl Awards? Wie ist der Median? Welcher Wert ist aussagekräftiger?**"
   ]
  },
  {
   "cell_type": "code",
   "execution_count": null,
   "metadata": {
    "ExecuteTime": {
     "end_time": "2022-02-23T10:28:35.321154Z",
     "start_time": "2022-02-23T10:28:35.298957Z"
    }
   },
   "outputs": [],
   "source": [
    "# Ihre Lösung"
   ]
  },
  {
   "cell_type": "code",
   "execution_count": 42,
   "metadata": {
    "ExecuteTime": {
     "end_time": "2022-02-23T10:28:35.336738Z",
     "start_time": "2022-02-23T10:28:35.321154Z"
    }
   },
   "outputs": [
    {
     "data": {
      "text/plain": [
       "4.586345381526105"
      ]
     },
     "execution_count": 42,
     "metadata": {},
     "output_type": "execute_result"
    }
   ],
   "source": [
    "# Mean\n",
    "df['awards'].mean()"
   ]
  },
  {
   "cell_type": "code",
   "execution_count": 43,
   "metadata": {
    "ExecuteTime": {
     "end_time": "2022-02-23T10:28:35.352354Z",
     "start_time": "2022-02-23T10:28:35.336738Z"
    }
   },
   "outputs": [
    {
     "data": {
      "text/plain": [
       "5.0"
      ]
     },
     "execution_count": 43,
     "metadata": {},
     "output_type": "execute_result"
    }
   ],
   "source": [
    "# Median\n",
    "df['awards'].median()"
   ]
  },
  {
   "cell_type": "raw",
   "metadata": {},
   "source": [
    "Ihre Antwort:"
   ]
  },
  {
   "cell_type": "markdown",
   "metadata": {},
   "source": [
    "### Zufriedenheit"
   ]
  },
  {
   "cell_type": "markdown",
   "metadata": {},
   "source": [
    "**In welcher Abteilung sind die meisten zufriedenen Angestellten?**"
   ]
  },
  {
   "cell_type": "code",
   "execution_count": 51,
   "metadata": {
    "ExecuteTime": {
     "end_time": "2022-02-23T10:28:35.368035Z",
     "start_time": "2022-02-23T10:28:35.352354Z"
    }
   },
   "outputs": [
    {
     "data": {
      "text/plain": [
       "'Purchasing'"
      ]
     },
     "execution_count": 51,
     "metadata": {},
     "output_type": "execute_result"
    }
   ],
   "source": [
    "# Ihre Lösung\n",
    "satisfied = df[df['satisfied'] == 1]\n",
    "satisfied['department'].value_counts().index[0]"
   ]
  },
  {
   "cell_type": "raw",
   "metadata": {},
   "source": [
    "Ihre Antwort:"
   ]
  },
  {
   "cell_type": "markdown",
   "metadata": {},
   "source": [
    "**Und in welcher Abteilung sind die Angestellten im Schnitt am zufriedensten?**"
   ]
  },
  {
   "cell_type": "code",
   "execution_count": 58,
   "metadata": {
    "ExecuteTime": {
     "end_time": "2022-02-23T10:28:35.383603Z",
     "start_time": "2022-02-23T10:28:35.368035Z"
    }
   },
   "outputs": [
    {
     "data": {
      "text/plain": [
       "department\n",
       "Sales         0.804598\n",
       "Technology    0.744898\n",
       "Purchasing    0.701754\n",
       "HR            0.688679\n",
       "Marketing     0.645161\n",
       "Name: satisfied, dtype: float64"
      ]
     },
     "execution_count": 58,
     "metadata": {},
     "output_type": "execute_result"
    }
   ],
   "source": [
    "# Ihre Lösung\n",
    "df.groupby('department')['satisfied'].mean().sort_values(ascending=False).index[0]"
   ]
  },
  {
   "cell_type": "raw",
   "metadata": {},
   "source": [
    "Ihre Antwort:"
   ]
  },
  {
   "cell_type": "markdown",
   "metadata": {},
   "source": [
    "### Fairness"
   ]
  },
  {
   "cell_type": "markdown",
   "metadata": {},
   "source": [
    "**Gender Pay Gap**\n",
    "\n",
    "Bekommen Männer und Frauen der fiktiven Firma das gleiche Gehalt?"
   ]
  },
  {
   "cell_type": "code",
   "execution_count": 63,
   "metadata": {},
   "outputs": [
    {
     "data": {
      "text/plain": [
       "47042.0794676806"
      ]
     },
     "execution_count": 63,
     "metadata": {},
     "output_type": "execute_result"
    }
   ],
   "source": [
    "males['salary'].mean()"
   ]
  },
  {
   "cell_type": "code",
   "execution_count": 62,
   "metadata": {},
   "outputs": [
    {
     "data": {
      "text/plain": [
       "43627.387500000004"
      ]
     },
     "execution_count": 62,
     "metadata": {},
     "output_type": "execute_result"
    }
   ],
   "source": [
    "females['salary'].mean()"
   ]
  },
  {
   "cell_type": "code",
   "execution_count": 61,
   "metadata": {
    "ExecuteTime": {
     "end_time": "2022-02-23T10:28:35.399226Z",
     "start_time": "2022-02-23T10:28:35.383603Z"
    }
   },
   "outputs": [
    {
     "data": {
      "text/plain": [
       "False"
      ]
     },
     "execution_count": 61,
     "metadata": {},
     "output_type": "execute_result"
    }
   ],
   "source": [
    "# Ihre Analysen\n",
    "males['salary'].mean() == females['salary'].mean()"
   ]
  },
  {
   "cell_type": "code",
   "execution_count": 66,
   "metadata": {},
   "outputs": [
    {
     "data": {
      "text/plain": [
       "gender   job_level\n",
       "Female   1            21668.4\n",
       "         2            26824.5\n",
       "         3            38177.1\n",
       "         4            59143.5\n",
       "         5            78075.0\n",
       "Male     1            21668.4\n",
       "         2            26824.5\n",
       "         3            38177.1\n",
       "         4            59143.5\n",
       "         5            78075.0\n",
       "Unknown  1            21668.4\n",
       "         4            59143.5\n",
       "Name: salary, dtype: float64"
      ]
     },
     "execution_count": 66,
     "metadata": {},
     "output_type": "execute_result"
    }
   ],
   "source": [
    "#alternativ\n",
    "df.groupby(['gender', 'job_level'])['salary'].mean()"
   ]
  },
  {
   "cell_type": "code",
   "execution_count": 67,
   "metadata": {},
   "outputs": [
    {
     "data": {
      "text/plain": [
       "gender   job_level\n",
       "Female   1            49\n",
       "         2            51\n",
       "         3            38\n",
       "         4            58\n",
       "         5            36\n",
       "Male     1            45\n",
       "         2            57\n",
       "         3            44\n",
       "         4            50\n",
       "         5            67\n",
       "Unknown  1             1\n",
       "         4             2\n",
       "dtype: int64"
      ]
     },
     "execution_count": 67,
     "metadata": {},
     "output_type": "execute_result"
    }
   ],
   "source": [
    "df.groupby(['gender', 'job_level']).size()"
   ]
  },
  {
   "cell_type": "raw",
   "metadata": {},
   "source": [
    "Ihre Einschätzung:"
   ]
  },
  {
   "cell_type": "markdown",
   "metadata": {},
   "source": [
    "Betrachten Sie den Datensatz weiterhin mit Fokus auf dem Thema *Fairness*. Was fällt Ihnen auf? Welche Aspekte könnte man noch untersuchen?"
   ]
  },
  {
   "cell_type": "raw",
   "metadata": {},
   "source": [
    "Ihre Antwort:"
   ]
  },
  {
   "cell_type": "code",
   "execution_count": 78,
   "metadata": {
    "ExecuteTime": {
     "end_time": "2022-02-23T10:28:35.468251Z",
     "start_time": "2022-02-23T10:28:35.452629Z"
    }
   },
   "outputs": [
    {
     "data": {
      "text/plain": [
       "gender   satisfied\n",
       "Female   0             66\n",
       "         1            166\n",
       "Male     0             74\n",
       "         1            189\n",
       "Unknown  0              2\n",
       "         1              1\n",
       "dtype: int64"
      ]
     },
     "execution_count": 78,
     "metadata": {},
     "output_type": "execute_result"
    }
   ],
   "source": [
    "# Ihre Analysen\n",
    "x = df.groupby(['gender','satisfied']).size()\n",
    "x"
   ]
  },
  {
   "cell_type": "code",
   "execution_count": 81,
   "metadata": {},
   "outputs": [
    {
     "data": {
      "text/plain": [
       "189"
      ]
     },
     "execution_count": 81,
     "metadata": {},
     "output_type": "execute_result"
    }
   ],
   "source": [
    "x.iloc[3]"
   ]
  },
  {
   "cell_type": "code",
   "execution_count": 82,
   "metadata": {},
   "outputs": [
    {
     "name": "stdout",
     "output_type": "stream",
     "text": [
      "Female: satisfied: 0.72 / unsatisfied: 0.28\n",
      "Male: satisfied: 0.72 / unsatisfied: 0.28\n"
     ]
    }
   ],
   "source": [
    "print(f\"Female: satisfied: {round(x.iloc[1]/len(females), 2)} / unsatisfied: {round(x.iloc[0]/len(females), 2)}\")\n",
    "print(f\"Male: satisfied: {round(x.iloc[3]/len(males), 2)} / unsatisfied: {round(x.iloc[2]/len(males), 2)}\")"
   ]
  },
  {
   "cell_type": "raw",
   "metadata": {},
   "source": [
    "Ihre Einschätzung in Bezug auf Fairness:"
   ]
  },
  {
   "cell_type": "markdown",
   "metadata": {},
   "source": [
    "## Data Visualization"
   ]
  },
  {
   "cell_type": "markdown",
   "metadata": {},
   "source": [
    "### Säulendiagramm"
   ]
  },
  {
   "cell_type": "markdown",
   "metadata": {},
   "source": [
    "**In welchem Department arbeiten die meisten Personen?**\n",
    "\n",
    "Erstellen Sie zur Beantwortung der Frage ein Säulendiagramm, das die Anzahl Angestellte pro Department darstellt."
   ]
  },
  {
   "cell_type": "code",
   "execution_count": 94,
   "metadata": {
    "ExecuteTime": {
     "end_time": "2022-02-23T10:28:35.737756Z",
     "start_time": "2022-02-23T10:28:35.468251Z"
    }
   },
   "outputs": [
    {
     "data": {
      "image/png": "[encoded data removed]",
      "text/plain": [
       "<Figure size 640x480 with 1 Axes>"
      ]
     },
     "metadata": {},
     "output_type": "display_data"
    }
   ],
   "source": [
    "# Ihre Lösung\n",
    "df['department'].value_counts().plot(kind='bar')\n",
    "plt.title('Anzahl angestellte pro department')\n",
    "plt.ylabel('Anzahl angestellte')  # Füge\n",
    "plt.show()"
   ]
  },
  {
   "cell_type": "raw",
   "metadata": {},
   "source": [
    "Ihre Interpretation des Diagramms:"
   ]
  },
  {
   "cell_type": "markdown",
   "metadata": {},
   "source": [
    "**Unterscheidet sich die durchschnittliche Anzahl Awards, in Abhängigkeit von der Ausbildung, stark?**\n",
    "\n",
    "Erstellen Sie hierfür wiederum ein Säulendiagramm."
   ]
  },
  {
   "cell_type": "code",
   "execution_count": 99,
   "metadata": {
    "ExecuteTime": {
     "end_time": "2022-02-23T10:28:35.853854Z",
     "start_time": "2022-02-23T10:28:35.737756Z"
    }
   },
   "outputs": [
    {
     "data": {
      "text/plain": [
       "education\n",
       "Postgraduate     4.711462\n",
       "Undergraduate    4.457143\n",
       "Name: awards, dtype: float64"
      ]
     },
     "execution_count": 99,
     "metadata": {},
     "output_type": "execute_result"
    }
   ],
   "source": [
    "# Ihre Lösung\n",
    "df.groupby('education')['awards'].mean().plot(kind = )"
   ]
  },
  {
   "cell_type": "raw",
   "metadata": {},
   "source": [
    "Ihre Interpretation des Diagramms:"
   ]
  },
  {
   "cell_type": "markdown",
   "metadata": {},
   "source": [
    "### Liniendiagramm"
   ]
  },
  {
   "cell_type": "markdown",
   "metadata": {},
   "source": [
    "**Steigt das durchschnittliche Alter pro Job-Level, fällt es oder bleibt es ungefähr gleich?**\n",
    "\n",
    "Beantworten Sie diese Frage mithilfe eines Liniendiagramms."
   ]
  },
  {
   "cell_type": "code",
   "execution_count": null,
   "metadata": {
    "ExecuteTime": {
     "end_time": "2022-02-23T10:28:35.969612Z",
     "start_time": "2022-02-23T10:28:35.853854Z"
    }
   },
   "outputs": [],
   "source": [
    "# Ihre Lösung"
   ]
  },
  {
   "cell_type": "raw",
   "metadata": {},
   "source": [
    "Ihre Interpretation des Diagramms:"
   ]
  },
  {
   "cell_type": "markdown",
   "metadata": {},
   "source": [
    "**Verändert sich das Recruiting über die Jahre?**\n",
    "\n",
    "Erstellen Sie hierzu ein Liniendiagramm, das die Anzahl der Angestellten über die Zeit (`entry_date`) in Abhängigkeit vom Recruitment-Typ darstellt."
   ]
  },
  {
   "cell_type": "code",
   "execution_count": null,
   "metadata": {
    "ExecuteTime": {
     "end_time": "2022-02-23T10:28:36.164824Z",
     "start_time": "2022-02-23T10:28:35.969612Z"
    }
   },
   "outputs": [],
   "source": [
    "# Ihre Lösung"
   ]
  },
  {
   "cell_type": "raw",
   "metadata": {},
   "source": [
    "Ihre Interpretation des Diagramms:"
   ]
  },
  {
   "cell_type": "markdown",
   "metadata": {},
   "source": [
    "**Sind Angestellte mit einem höheren Gehalt im Schnitt zufriedener?**\n",
    "\n",
    "Erstellen Sie hierzu ein Liniendiagramm, das pro Gehaltsklasse die durchschnittliche Zufriedenheit angibt."
   ]
  },
  {
   "cell_type": "code",
   "execution_count": null,
   "metadata": {
    "ExecuteTime": {
     "end_time": "2022-02-23T10:28:36.285828Z",
     "start_time": "2022-02-23T10:28:36.164824Z"
    }
   },
   "outputs": [],
   "source": [
    "# Ihre Lösung"
   ]
  },
  {
   "cell_type": "raw",
   "metadata": {},
   "source": [
    "Ihre Interpretation des Diagramms:"
   ]
  },
  {
   "cell_type": "markdown",
   "metadata": {},
   "source": [
    "**Sind Angestellte, die schon länger in der Firma sind, im Schnitt zufriedener?**\n",
    "\n",
    "Beantworten Sie diese Frage ebenfalls mithilfe eines Liniendiagramms. Gruppieren Sie die Angestellten dafür nach dem Einstellungsjahr (`df[\"entry_date\"].dt.year`)."
   ]
  },
  {
   "cell_type": "code",
   "execution_count": null,
   "metadata": {
    "ExecuteTime": {
     "end_time": "2022-02-23T10:28:36.540867Z",
     "start_time": "2022-02-23T10:28:36.418488Z"
    }
   },
   "outputs": [],
   "source": [
    "# Ihre Lösung"
   ]
  },
  {
   "cell_type": "raw",
   "metadata": {},
   "source": [
    "Ihre Interpretation des Diagramms:"
   ]
  },
  {
   "cell_type": "markdown",
   "metadata": {},
   "source": [
    "### Kreisdiagramm"
   ]
  },
  {
   "cell_type": "markdown",
   "metadata": {},
   "source": [
    "**Gibt es Abteilungen, in denen mehr Frauen als Männer arbeiten?**\n",
    "\n",
    "Beantworten Sie diese Frage mithilfe von Kreisdiagrammen (ein Kreisdiagramm pro Abteilung)."
   ]
  },
  {
   "cell_type": "code",
   "execution_count": null,
   "metadata": {
    "ExecuteTime": {
     "end_time": "2022-02-23T10:28:37.187269Z",
     "start_time": "2022-02-23T10:28:36.542945Z"
    }
   },
   "outputs": [],
   "source": [
    "# Ihre Lösung"
   ]
  },
  {
   "cell_type": "raw",
   "metadata": {},
   "source": [
    "Ihre Interpretation des Diagramms:"
   ]
  }
 ],
 "metadata": {
  "kernelspec": {
   "display_name": "Python 3 (ipykernel)",
   "language": "python",
   "name": "python3"
  },
  "language_info": {
   "codemirror_mode": {
    "name": "ipython",
    "version": 3
   },
   "file_extension": ".py",
   "mimetype": "text/x-python",
   "name": "python",
   "nbconvert_exporter": "python",
   "pygments_lexer": "ipython3",
   "version": "3.11.3"
  },
  "toc": {
   "base_numbering": 1,
   "nav_menu": {},
   "number_sections": true,
   "sideBar": true,
   "skip_h1_title": true,
   "title_cell": "Table of Contents",
   "title_sidebar": "Contents",
   "toc_cell": false,
   "toc_position": {
    "height": "calc(100% - 180px)",
    "left": "10px",
    "top": "150px",
    "width": "238.667px"
   },
   "toc_section_display": true,
   "toc_window_display": true
  }
 },
 "nbformat": 4,
 "nbformat_minor": 4
}
