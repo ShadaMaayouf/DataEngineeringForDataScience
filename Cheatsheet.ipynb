{
 "cells": [
  {
   "cell_type": "markdown",
   "id": "6f1f070c",
   "metadata": {},
   "source": [
    "# Content\n",
    "\n",
    ">* [**Data preperation**](#0)\n",
    ">* [**1. Data Quality**](#1)\n",
    "    - [**Data Integrity**](#1_1)\n",
    "    - [**Data fitness**](#1_2)\n",
    ">* [**2. Plausibilitätschecks**](#2)\n",
    ">* [**3. Analysis**](#2)\n",
    ">* [**data preperation**](#3)\n"
   ]
  },
  {
   "cell_type": "code",
   "execution_count": 3,
   "id": "1c3513c1",
   "metadata": {
    "ExecuteTime": {
     "end_time": "2024-02-27T14:32:20.944861Z",
     "start_time": "2024-02-27T14:32:20.872924Z"
    },
    "pycharm": {
     "is_executing": true
    }
   },
   "outputs": [],
   "source": [
    "import pandas as pd\n",
    "import numpy as np\n",
    "import matplotlib as plt"
   ]
  },
  {
   "cell_type": "code",
   "execution_count": null,
   "id": "5d4edde4",
   "metadata": {},
   "outputs": [],
   "source": []
  },
  {
   "cell_type": "markdown",
   "id": "ed081fca",
   "metadata": {},
   "source": [
    "---\n",
    "## Data preperation <a name=0></a>"
   ]
  },
  {
   "cell_type": "code",
   "execution_count": null,
   "id": "222d87d9",
   "metadata": {},
   "outputs": [],
   "source": [
    "#Den Header als Index zu verwenden\n",
    "df = pd.read_csv(\"./Revision2/employees_satisfaction.csv\", index_col = 0)"
   ]
  },
  {
   "cell_type": "code",
   "execution_count": null,
   "id": "66c83912",
   "metadata": {},
   "outputs": [],
   "source": [
    "#der Index ist rein numerisch.\n",
    "df = pd.read_csv(\"./Revision2/employees_satisfaction.csv\")"
   ]
  },
  {
   "cell_type": "code",
   "execution_count": null,
   "id": "df8f45aa",
   "metadata": {
    "scrolled": true
   },
   "outputs": [],
   "source": [
    "\n",
    "display(df.head(5))"
   ]
  },
  {
   "cell_type": "code",
   "execution_count": null,
   "id": "6b59f424",
   "metadata": {},
   "outputs": [],
   "source": [
    "df.info()"
   ]
  },
  {
   "cell_type": "code",
   "execution_count": null,
   "id": "7c9d6948",
   "metadata": {},
   "outputs": [],
   "source": [
    "df['age'].dtype"
   ]
  },
  {
   "cell_type": "code",
   "execution_count": null,
   "id": "d97d175c",
   "metadata": {
    "scrolled": true
   },
   "outputs": [],
   "source": [
    "df.columns.values"
   ]
  },
  {
   "cell_type": "code",
   "execution_count": null,
   "id": "0e79d529",
   "metadata": {},
   "outputs": [],
   "source": [
    "df.describe(include='all')\n"
   ]
  },
  {
   "cell_type": "markdown",
   "id": "b8562555",
   "metadata": {},
   "source": [
    "---\n",
    "## Data Quality  <a name=1></a>\n",
    "\n",
    "### Data Integrity  <a name=1_1></a>"
   ]
  },
  {
   "cell_type": "markdown",
   "id": "118ee1d3",
   "metadata": {},
   "source": [
    "Data integrity is based on the following **metrics**: \n",
    "\n",
    "- [***Necessary, but not sufficient***](#a)\n",
    "    - [Of known provence.](#a)\n",
    "    - [Well-Annotated.](#a)\n",
    "- ***Important***\n",
    "    - [Timely.](#b)\n",
    "    - [Complete.](#c)\n",
    "    - [High Volume.](#d)\n",
    "    - [Multivariant.](#e)\n",
    "    - [Atomic](#f)\n",
    "- ***Achievable***\n",
    "    - [Consistent.](#g)\n",
    "    - [Clear.](#h)\n",
    "    - [Dimensionally structed.](#i)"
   ]
  },
  {
   "cell_type": "markdown",
   "id": "3acdacae",
   "metadata": {},
   "source": [
    "### **Timely** <a name=b></a>"
   ]
  },
  {
   "cell_type": "markdown",
   "id": "46218c70",
   "metadata": {},
   "source": [
    "##### analysis"
   ]
  },
  {
   "cell_type": "code",
   "execution_count": 4,
   "id": "25ce8846",
   "metadata": {},
   "outputs": [
    {
     "ename": "NameError",
     "evalue": "name 'df' is not defined",
     "output_type": "error",
     "traceback": [
      "\u001B[1;31m---------------------------------------------------------------------------\u001B[0m",
      "\u001B[1;31mNameError\u001B[0m                                 Traceback (most recent call last)",
      "Cell \u001B[1;32mIn[4], line 2\u001B[0m\n\u001B[0;32m      1\u001B[0m \u001B[38;5;66;03m#Timely\u001B[39;00m\n\u001B[1;32m----> 2\u001B[0m \u001B[38;5;28mprint\u001B[39m(\u001B[43mdf\u001B[49m[\u001B[38;5;124m'\u001B[39m\u001B[38;5;124mentry_date\u001B[39m\u001B[38;5;124m'\u001B[39m]\u001B[38;5;241m.\u001B[39mmin(), \u001B[38;5;124m\"\u001B[39m\u001B[38;5;124m - \u001B[39m\u001B[38;5;124m\"\u001B[39m, df[\u001B[38;5;124m'\u001B[39m\u001B[38;5;124mentry_date\u001B[39m\u001B[38;5;124m'\u001B[39m]\u001B[38;5;241m.\u001B[39mmax())\n",
      "\u001B[1;31mNameError\u001B[0m: name 'df' is not defined"
     ]
    }
   ],
   "source": [
    "#Timely\n",
    "print(df['entry_date'].min(), \" - \", df['entry_date'].max())"
   ]
  },
  {
   "cell_type": "markdown",
   "id": "9d5e5459",
   "metadata": {},
   "source": [
    "##### fixes"
   ]
  },
  {
   "cell_type": "markdown",
   "id": "0faa11c8",
   "metadata": {},
   "source": [
    "### **complete** <a name=c></a>"
   ]
  },
  {
   "cell_type": "markdown",
   "id": "96a80234",
   "metadata": {},
   "source": [
    "##### analysis"
   ]
  },
  {
   "cell_type": "code",
   "execution_count": null,
   "id": "e800b91e",
   "metadata": {},
   "outputs": [],
   "source": [
    "#Anzahl fehlende Werte pro spalte\n",
    "df.isnull().sum()"
   ]
  },
  {
   "cell_type": "code",
   "execution_count": null,
   "id": "dcc953a1",
   "metadata": {},
   "outputs": [],
   "source": [
    "#Zeilen mit fehlenden werten anzeigen\n",
    "df[df['Ernaehrung'].isnull()]"
   ]
  },
  {
   "cell_type": "markdown",
   "id": "c351bb86",
   "metadata": {},
   "source": [
    "##### fixes"
   ]
  },
  {
   "cell_type": "code",
   "execution_count": null,
   "id": "8b108f80",
   "metadata": {},
   "outputs": [],
   "source": [
    "#Schätzung der fehlenden Werte??\n",
    "\n",
    "#Ist die durchschnittlichen Entfernungen der Mitglieder aus dem gleichen Stadtteil?\n",
    "df.groupby('stadtteil')['entfernung'].apply(list)\n",
    "#low variance means that the data points tend to be very close to the mean, and thus, the mean is a good measure of central tendency.\n",
    "df.groupby('stadtteil')['entfernung'].var()"
   ]
  },
  {
   "cell_type": "code",
   "execution_count": null,
   "id": "8aa3d007",
   "metadata": {},
   "outputs": [],
   "source": [
    "#Fehlende WErten ersetzen:\n",
    "\n",
    "# Angenommen, 'df' ist Ihr DataFrame und 'Stadtteil', 'Entfernung' sind die Spaltennamen\n",
    "# Ersetzen Sie diese durch die tatsächlichen Namen in Ihrem Datensatz\n",
    "\n",
    "# Berechnen Sie den Durchschnitt der Entfernungen für jeden Stadtteil\n",
    "average_distances = df.groupby('Stadtteil')['Entfernung'].mean()\n",
    "\n",
    "# Definieren Sie eine Funktion, die die fehlenden Entfernungen ersetzt\n",
    "def impute_distance(row):\n",
    "    if pd.isnull(row['Entfernung']):\n",
    "        return average_distances[row['Stadtteil']]\n",
    "    else:\n",
    "        return row['Entfernung']\n",
    "\n",
    "# Wenden Sie die Funktion auf jede Zeile an\n",
    "df['Entfernung'] = df.apply(impute_distance, axis=1)\n"
   ]
  },
  {
   "cell_type": "code",
   "execution_count": null,
   "id": "8de72f24",
   "metadata": {},
   "outputs": [],
   "source": [
    "df.fillna(df.mean(), inplace=True)  # Für den Durchschnitt\n",
    "df.fillna(df.median(), inplace=True)  # Für den Median\n",
    "df.fillna(df.mode().iloc[0], inplace=True)  # Für den Modus\n"
   ]
  },
  {
   "cell_type": "markdown",
   "id": "dc23a279",
   "metadata": {},
   "source": [
    "### **High Volume.** <a name=d></a>"
   ]
  },
  {
   "cell_type": "markdown",
   "id": "9a3e5fd9",
   "metadata": {},
   "source": [
    "##### analysis"
   ]
  },
  {
   "cell_type": "code",
   "execution_count": null,
   "id": "6b1bd198",
   "metadata": {},
   "outputs": [],
   "source": [
    "#is the number of data in your dataset is enough?\n",
    "len(df)"
   ]
  },
  {
   "cell_type": "code",
   "execution_count": null,
   "id": "e637e4c7",
   "metadata": {},
   "outputs": [],
   "source": [
    "#Is the number of data for each category in your dataset is enough?\n",
    "df['Stadtteil'].value_counts()\n",
    "df.groupby('stadtteil')['entfernung'].mean()"
   ]
  },
  {
   "cell_type": "code",
   "execution_count": 7,
   "id": "fddc73f1",
   "metadata": {},
   "outputs": [],
   "source": [
    "participation_rate = (111 / 256) * 100\n",
    "print(f\"Die Teilnahmequote beträgt {participation_rate:.3f}%\")"
   ]
  },
  {
   "cell_type": "raw",
   "id": "f3446cbc",
   "metadata": {},
   "source": [
    "\n",
    "eine Teilnahmequote von 44% kann als ziemlich gut angesehen werden, insbesondere wenn die Umfrage freiwillig war. Es ist jedoch wichtig zu bedenken, dass die Ergebnisse der Umfrage möglicherweise nicht die Ansichten aller 254 Mitglieder vollständig repräsentieren, da fast die Hälfte der Mitglieder nicht teilgenommen hat.\n",
    "\n",
    "Die Teilnahmequote aus der einzelnen Stadtteilen variiert, vermutlich basierend auf die Entfernung zum Jugendzentrum. Z.b. ist die Teilnahmequote aus der Südstadt geringer als in den anderen Stadtteilen. "
   ]
  },
  {
   "cell_type": "markdown",
   "id": "f6268091",
   "metadata": {},
   "source": [
    "##### fixes"
   ]
  },
  {
   "cell_type": "raw",
   "id": "dd63ea0a",
   "metadata": {},
   "source": [
    "Deskriptive Statistik: Sie können grundlegende statistische Maßnahmen wie Mittelwert, Median, Modus, Standardabweichung usw. berechnen. Diese geben Ihnen einen Überblick über die Verteilung Ihrer Daten.\n",
    "\n",
    "- Visualisierung: Erstellen Sie Diagramme und Grafiken, um die Daten zu visualisieren. Dies kann dabei helfen, Muster und Trends zu erkennen, die in den Rohdaten nicht offensichtlich sind.\n",
    "\n",
    "    Korrelationsanalyse: Untersuchen Sie die Beziehungen zwischen verschiedenen Variablen in Ihrem Datensatz. Dies kann Aufschluss darüber geben, wie verschiedene Faktoren zusammenhängen.\n",
    "\n",
    "    Hypothesentests: Wenn Sie spezifische Fragen oder Hypothesen über Ihre Daten haben, können Sie statistische Tests durchführen, um diese zu überprüfen.\n",
    "\n",
    "Machinelles lernen."
   ]
  },
  {
   "cell_type": "markdown",
   "id": "598ef297",
   "metadata": {},
   "source": [
    "### **multivariate** <a name=e></a>"
   ]
  },
  {
   "cell_type": "markdown",
   "id": "35b34f4a",
   "metadata": {},
   "source": [
    "##### analysis"
   ]
  },
  {
   "cell_type": "code",
   "execution_count": null,
   "id": "beaa1146",
   "metadata": {},
   "outputs": [],
   "source": [
    "#multivariate\n",
    "# Check the number of variables (columns) in the dataset\n",
    "if df.shape[1] > 1:\n",
    "    print(\"Der Datensatz ist multivariant mit \", df.shape[1], \" Variablen.\")\n",
    "else:\n",
    "    print(\"Der Datensatz ist nicht multivariant.\")"
   ]
  },
  {
   "cell_type": "code",
   "execution_count": null,
   "id": "dd49763b",
   "metadata": {},
   "outputs": [],
   "source": [
    "# Nur numerische Spalten auswählen\n",
    "numerical_df = df.select_dtypes(include=[np.number])\n",
    "\n",
    "# Korrelationsmatrix erstellen\n",
    "corr = numerical_df.corr()\n",
    "\n",
    "# Korrelationsmatrix anzeigen\n",
    "sns.heatmap(corr, annot=True, cmap='coolwarm')\n",
    "plt.show()"
   ]
  },
  {
   "cell_type": "markdown",
   "id": "bce285eb",
   "metadata": {},
   "source": [
    "##### fixes"
   ]
  },
  {
   "cell_type": "markdown",
   "id": "d5235267",
   "metadata": {},
   "source": [
    "### **atomic** <a name=f></a>"
   ]
  },
  {
   "cell_type": "markdown",
   "id": "2ee64567",
   "metadata": {},
   "source": [
    "##### analysis"
   ]
  },
  {
   "cell_type": "code",
   "execution_count": null,
   "id": "e66ab0f3",
   "metadata": {},
   "outputs": [],
   "source": [
    "#atomic\n",
    "def is_atomic(df):\n",
    "    for column in df.columns:\n",
    "        if df[column].apply(lambda x: isinstance(x, (list, dict))).any():\n",
    "            return False\n",
    "    return True\n",
    "\n",
    "#überprüft,ob ein Element in der Spalte eine Instanz einer Liste oder eines dictionarys ist\n",
    "print(is_atomic(df))\n",
    "\n",
    "'''\n",
    "# Assuming 'info' column contains dictionaries\n",
    "info_df = df['info'].apply(pd.Series)\n",
    "df = pd.concat([df.drop(['info'], axis=1), info_df], axis=1)\n",
    "\n",
    "\n",
    "# Assuming 'tags' column contains lists\n",
    "for tag in set(x for l in df['tags'] for x in l):\n",
    "    df['tag_' + tag] = df['tags'].apply(lambda x: tag in x)\n",
    "\n",
    "'''"
   ]
  },
  {
   "cell_type": "code",
   "execution_count": 8,
   "id": "4ddf89a4",
   "metadata": {},
   "outputs": [],
   "source": [
    "unique_values = df['MA'].unique()\n",
    "unique_values\n",
    "\n",
    "\n",
    "    \n",
    "df[df['id'].duplicated()]['id']"
   ]
  },
  {
   "cell_type": "markdown",
   "id": "4ccb38d8",
   "metadata": {},
   "source": [
    "##### fixes"
   ]
  },
  {
   "cell_type": "markdown",
   "id": "672803e5",
   "metadata": {},
   "source": [
    "### **consistent** <a name=g></a>"
   ]
  },
  {
   "cell_type": "markdown",
   "id": "a298627c",
   "metadata": {},
   "source": [
    "##### analysis"
   ]
  },
  {
   "cell_type": "code",
   "execution_count": null,
   "id": "121a0edb",
   "metadata": {},
   "outputs": [],
   "source": [
    "# consistent\n",
    "\n",
    "#are there duplicates?\n",
    "\n",
    "if(df.duplicated().any()):\n",
    "    print(\"this dataset contains \", df.duplicated().sum() ,\" duplicates.\")\n",
    "    print(df[df.duplicated()])\n",
    "else: print(\"this dataset does not contain duplicates.\")\n",
    "\n",
    "#you can drop duplicates as follows:\n",
    "#df_dss.drop_duplicates() \n",
    "\n",
    "#are the decriptives used for the same value in the dataset consistent? e.g. spelling of \"male\" vs \"Male\"\n",
    "#find inconsistencies:\n",
    "df['gender'].value_counts()"
   ]
  },
  {
   "cell_type": "code",
   "execution_count": null,
   "id": "71b8e289",
   "metadata": {},
   "outputs": [],
   "source": [
    "# Überprüfe die Einzigartigkeit der Werte in jeder Spalte\n",
    "for column in df.columns:\n",
    "    print(f\"{column}: {df[column].nunique()} unique values\")"
   ]
  },
  {
   "cell_type": "markdown",
   "id": "0dea58b0",
   "metadata": {},
   "source": [
    "##### fixes"
   ]
  },
  {
   "cell_type": "code",
   "execution_count": null,
   "id": "79d1ba8c",
   "metadata": {},
   "outputs": [],
   "source": [
    "#you can drop duplicates as follows:\n",
    "df.drop_duplicates() "
   ]
  },
  {
   "cell_type": "code",
   "execution_count": null,
   "id": "0d02943c",
   "metadata": {},
   "outputs": [],
   "source": [
    "#recoding\n",
    "\n",
    "gender_recoding = {\n",
    "\"f\": \"Female\",\n",
    "\"m\": \"Male\"\n",
    "}\n",
    "df[\"gender\"] = df[\"gender\"].replace(gender_recoding)"
   ]
  },
  {
   "cell_type": "markdown",
   "id": "4685762d",
   "metadata": {},
   "source": [
    "### **clear** <a name=h></a>"
   ]
  },
  {
   "cell_type": "markdown",
   "id": "38cfa0bd",
   "metadata": {},
   "source": [
    "##### analysis"
   ]
  },
  {
   "cell_type": "code",
   "execution_count": null,
   "id": "662d423b",
   "metadata": {},
   "outputs": [],
   "source": [
    "#clear\n",
    "\n",
    "# Check column names for clarity\n",
    "print(\"Column names:\")\n",
    "print(df.columns)\n",
    "\n",
    "# Check unique values in each column\n",
    "for column in df.columns:\n",
    "    print(f\"\\nUnique values in {column}:\")\n",
    "    print(df[column].unique())"
   ]
  },
  {
   "cell_type": "markdown",
   "id": "cce9dba5",
   "metadata": {},
   "source": [
    "##### fixes"
   ]
  },
  {
   "cell_type": "code",
   "execution_count": null,
   "id": "e6ae196f",
   "metadata": {},
   "outputs": [],
   "source": [
    "# spalten umbenennen\n",
    "df.rename(columns = {\"Dept\":\"department\"}, inplace = True)"
   ]
  },
  {
   "cell_type": "code",
   "execution_count": null,
   "id": "7f6b703b",
   "metadata": {},
   "outputs": [],
   "source": [
    "#recoding\n",
    "\n",
    "gender_recoding = {\n",
    "\"f\": \"Female\",\n",
    "\"m\": \"Male\"\n",
    "}\n",
    "df[\"gender\"] = df[\"gender\"].replace(gender_recoding)"
   ]
  },
  {
   "cell_type": "markdown",
   "id": "20957889",
   "metadata": {},
   "source": [
    "### **Dimensionally structed.** <a name=i></a>"
   ]
  },
  {
   "cell_type": "markdown",
   "id": "ec242c66",
   "metadata": {},
   "source": [
    "##### analysis"
   ]
  },
  {
   "cell_type": "code",
   "execution_count": null,
   "id": "2cb08240",
   "metadata": {},
   "outputs": [],
   "source": [
    "#Dimensionally structed.\n",
    "\n",
    "# Überprüfe die ersten paar Zeilen des Datensatzes, um die Struktur zu sehen\n",
    "df.head()\n",
    "\n",
    "# Überprüfe die Anzahl der Dimensionen (Spalten) in Ihrem Datensatz\n",
    "print(\"Number of dimensions in the dataset: \", df.shape[1])"
   ]
  },
  {
   "cell_type": "code",
   "execution_count": null,
   "id": "0bd4e27c",
   "metadata": {},
   "outputs": [],
   "source": [
    "# Überprüfen Sie die Datentypen Ihrer Spalten\n",
    "print(df.dtypes)"
   ]
  },
  {
   "cell_type": "markdown",
   "id": "263862cd",
   "metadata": {},
   "source": [
    "##### fixes"
   ]
  },
  {
   "cell_type": "markdown",
   "id": "34422282",
   "metadata": {},
   "source": [
    "### Data Fit  <a name=1_2></a>"
   ]
  },
  {
   "cell_type": "code",
   "execution_count": null,
   "id": "53091646",
   "metadata": {},
   "outputs": [],
   "source": [
    "#Representativeness\n",
    "# Überprüfen Sie die Verteilung der Zielvariable 'satisfied'\n",
    "print(df['satisfied'].value_counts(normalize=True))"
   ]
  },
  {
   "cell_type": "markdown",
   "id": "e2f7f118",
   "metadata": {},
   "source": [
    "## 1. data preperation <a name=1></a>"
   ]
  },
  {
   "cell_type": "code",
   "execution_count": null,
   "id": "9584bf0e",
   "metadata": {},
   "outputs": [],
   "source": [
    "#Den Header als Index zu verwenden\n",
    "df = pd.read_csv(\"./Revision2/employees_satisfaction.csv\", index_col = 0)"
   ]
  },
  {
   "cell_type": "code",
   "execution_count": null,
   "id": "b62ab368",
   "metadata": {},
   "outputs": [],
   "source": [
    "#der Index ist rein numerisch.\n",
    "df = pd.read_csv(\"./Revision2/employees_satisfaction.csv\")"
   ]
  },
  {
   "cell_type": "code",
   "execution_count": null,
   "id": "b240a7ec",
   "metadata": {
    "scrolled": true
   },
   "outputs": [],
   "source": [
    "\n",
    "display(df.head(5))"
   ]
  },
  {
   "cell_type": "code",
   "execution_count": null,
   "id": "6d41bcd0",
   "metadata": {},
   "outputs": [],
   "source": [
    "df.info()"
   ]
  },
  {
   "cell_type": "code",
   "execution_count": null,
   "id": "a1369f03",
   "metadata": {},
   "outputs": [],
   "source": [
    "df['age'].dtype"
   ]
  },
  {
   "cell_type": "code",
   "execution_count": null,
   "id": "726c3d38",
   "metadata": {
    "scrolled": true
   },
   "outputs": [],
   "source": [
    "df.columns.values"
   ]
  },
  {
   "cell_type": "code",
   "execution_count": null,
   "id": "145d377b",
   "metadata": {},
   "outputs": [],
   "source": [
    "df.describe(include='all')\n"
   ]
  },
  {
   "cell_type": "markdown",
   "id": "1f99b378",
   "metadata": {},
   "source": [
    "---\n",
    "## 2. Plausibilitätschecks <a name=2></a>"
   ]
  },
  {
   "cell_type": "code",
   "execution_count": 9,
   "id": "d0e505f0",
   "metadata": {},
   "outputs": [],
   "source": [
    "#Bereichsprüfung: liegen die Werte in den Spalten innerhalb eines erwarteten Bereichs\n",
    "\n",
    "df['alter'].min()>=9 & df['alter'].max()<=19"
   ]
  },
  {
   "cell_type": "code",
   "execution_count": null,
   "id": "503bce99",
   "metadata": {},
   "outputs": [],
   "source": [
    "#Vollständigkeitsprüfung: sind alle erforderlichen Daten vorhanden?\n",
    "\n",
    "missing_values = df.isnull().sum()\n",
    "print(\"Fehlende Werte in jeder Spalte:\\n\", missing_values)"
   ]
  },
  {
   "cell_type": "code",
   "execution_count": null,
   "id": "5a775f68",
   "metadata": {},
   "outputs": [],
   "source": [
    "#Duplikatsprüfung: ob es sich um tatsächliche Duplikate handelt oder ob es einen Fehler bei der Datenerfassung gab?\n",
    "\n",
    "duplicates = df.duplicated(subset=['id'], keep=False)\n",
    "print(\"Anzahl der Duplikate in der Spalte 'ID':\", duplicates.sum())\n",
    "df[duplicates]"
   ]
  },
  {
   "cell_type": "code",
   "execution_count": null,
   "id": "03294b9b",
   "metadata": {},
   "outputs": [],
   "source": [
    "#Konsistenzprüfung: Überprüfen Sie, ob die Daten in verschiedenen Spalten konsistent sind\n",
    "\n",
    "id_dept_mapping = {\n",
    "\"HR\":\"HR\",\n",
    "\"MKT\":\"Marketing\",\n",
    "\"PUR\":\"Purchasing\",\n",
    "\"SAL\":\"Sales\",\n",
    "\"TECH\":\"Technology\"\n",
    "}\n",
    "\n",
    "import re\n",
    "\n",
    "# Ihre Lösung\n",
    "regular_expression = \"[A-Z]+\" # <- fügen Sie hier den entsprechenden regulären Ausdruck ein\n",
    "\n",
    "def check_id(emp_id, department):\n",
    "    dept_id = \"\".join(re.findall(regular_expression, emp_id))\n",
    "    return id_dept_mapping.get(dept_id) == department\n",
    "\n",
    "# Ist der Check für alle Zeilen des Datensatzes erfolgreich?\n",
    "df.apply(lambda x: check_id(x[\"emp_id\"], x[\"department\"]), axis=1).all()"
   ]
  },
  {
   "cell_type": "code",
   "execution_count": null,
   "id": "6460b13a",
   "metadata": {},
   "outputs": [],
   "source": [
    "#\n",
    "inconsistent_data = (df['Mo'] == 1) & (df['Favorit'].isnull())\n",
    "print(\"Anzahl der inkonsistenten Daten:\", inconsistent_data.sum())\n",
    "df[inconsistent_data]"
   ]
  },
  {
   "cell_type": "code",
   "execution_count": 10,
   "id": "f808cae9",
   "metadata": {},
   "outputs": [],
   "source": [
    "#Gültigkeitsprüfung: Überprüfen Sie, ob die Werte in den Spalten gültig sind.\n",
    "\n",
    "invalid_values_stadtteil = ~df['Stadtteil'].isin(['Nord', 'Ost', 'Süd', 'West'])\n",
    "print(\"Anzahl der ungültigen Werte in der Spalte 'Stadtteil':\", invalid_values_stadtteil.sum())\n",
    "\n",
    "invalid_values_favorit = ~df['favorit'].isin(['Kochen', 'Malen', 'Musik', 'Sport', 'Werken'])\n",
    "print(\"Anzahl der ungültigen Werte in der Spalte 'favorit':\", invalid_values_stadtteil.sum())"
   ]
  },
  {
   "cell_type": "markdown",
   "id": "6fa1213b",
   "metadata": {},
   "source": [
    "---\n",
    "## 3. Analysis <a name=3></a>"
   ]
  },
  {
   "cell_type": "markdown",
   "id": "f479a191",
   "metadata": {},
   "source": [
    "### 1.1. Anzahl Spalten"
   ]
  },
  {
   "cell_type": "code",
   "execution_count": null,
   "id": "cdc13ed5",
   "metadata": {
    "scrolled": true
   },
   "outputs": [],
   "source": [
    "len(df.columns)"
   ]
  },
  {
   "cell_type": "code",
   "execution_count": null,
   "id": "752ad619",
   "metadata": {},
   "outputs": [],
   "source": [
    "len(df.keys())"
   ]
  },
  {
   "cell_type": "code",
   "execution_count": null,
   "id": "aad29736",
   "metadata": {},
   "outputs": [],
   "source": [
    "len(df.axes[1])"
   ]
  },
  {
   "cell_type": "code",
   "execution_count": null,
   "id": "c409ac1e",
   "metadata": {
    "scrolled": true
   },
   "outputs": [],
   "source": [
    "len(df)"
   ]
  },
  {
   "cell_type": "code",
   "execution_count": null,
   "id": "0aa91749",
   "metadata": {},
   "outputs": [],
   "source": [
    "len(df.index)"
   ]
  },
  {
   "cell_type": "code",
   "execution_count": null,
   "id": "c3a85310",
   "metadata": {},
   "outputs": [],
   "source": [
    "len(df.axes[0])"
   ]
  },
  {
   "cell_type": "markdown",
   "id": "20cdf444",
   "metadata": {},
   "source": [
    "## 3. Spalten transformieren  <a name=3></a>"
   ]
  },
  {
   "cell_type": "code",
   "execution_count": null,
   "id": "242d877c",
   "metadata": {},
   "outputs": [],
   "source": [
    "df = df.rename(columns={'Dept': 'department'})\n"
   ]
  },
  {
   "cell_type": "code",
   "execution_count": null,
   "id": "ba7c805e",
   "metadata": {},
   "outputs": [],
   "source": [
    "df['salary'] *= 0.9"
   ]
  },
  {
   "cell_type": "code",
   "execution_count": null,
   "id": "fef764ee",
   "metadata": {},
   "outputs": [],
   "source": [
    "df['entry_date'] = pd.to_datetime(df['entry_date'], format='%Y-%m-%d')\n"
   ]
  },
  {
   "cell_type": "code",
   "execution_count": null,
   "id": "fa2d4bd4",
   "metadata": {},
   "outputs": [],
   "source": [
    "\n",
    "edu_recoding = {\n",
    "    \"UG\": \"Undergrad\",\n",
    "    \"PG\": \"Postgrad\"\n",
    "}\n",
    "df['education'] = df['education'].map(edu_recoding).fillna(df['education'])"
   ]
  },
  {
   "cell_type": "code",
   "execution_count": null,
   "id": "a0aaaf21",
   "metadata": {},
   "outputs": [],
   "source": [
    "df[['age','entry_date']]\n",
    "\n",
    "diff = created.year - df['entry_date'].dt.year\n",
    "\n",
    "len(df[df['age']- diff < 16])"
   ]
  },
  {
   "cell_type": "code",
   "execution_count": null,
   "id": "80e20de8",
   "metadata": {},
   "outputs": [],
   "source": [
    "df[\"gender\"] = df[\"gender\"].fillna(\"Unknown\")\n"
   ]
  },
  {
   "cell_type": "code",
   "execution_count": null,
   "id": "3b8355a6",
   "metadata": {},
   "outputs": [],
   "source": [
    "df = df.drop(\"last_raise\", axis=1)"
   ]
  },
  {
   "cell_type": "code",
   "execution_count": null,
   "id": "3e08dec2",
   "metadata": {},
   "outputs": [],
   "source": [
    "idx = df[df['certifications']==9].index\n",
    "df.loc[idx, \"certifications\"] = 0"
   ]
  },
  {
   "cell_type": "code",
   "execution_count": null,
   "id": "9a1987ad",
   "metadata": {},
   "outputs": [],
   "source": [
    "df['emp_id'].unique()\n",
    "df['emp_id'].nunique()\n",
    "df[df['emp_id'].duplicated(keep=False)]\n",
    "df.drop_duplicates(keep==False, subset=['emp_id'])"
   ]
  },
  {
   "cell_type": "code",
   "execution_count": null,
   "id": "f84a2214",
   "metadata": {},
   "outputs": [],
   "source": [
    "# Ihre Lösung\n",
    "males = df[df['gender']=='Male']\n",
    "females = df[df['gender']=='Female']\n",
    "males[males['age'] == males['age'].max()]['department']"
   ]
  },
  {
   "cell_type": "code",
   "execution_count": null,
   "id": "40a40908",
   "metadata": {},
   "outputs": [],
   "source": [
    "#In welcher Abteilung sind die meisten zufriedenen Angestellten?\n",
    "satisfied = df[df['satisfied'] == 1]\n",
    "satisfied['department'].value_counts().index[0]"
   ]
  },
  {
   "cell_type": "code",
   "execution_count": null,
   "id": "f67b7061",
   "metadata": {},
   "outputs": [],
   "source": [
    "#Und in welcher Abteilung sind die Angestellten im Schnitt am zufriedensten?\n",
    "df.groupby('department')['satisfied'].mean().sort_values(ascending=False).index[0]"
   ]
  },
  {
   "cell_type": "markdown",
   "id": "288d51f1",
   "metadata": {},
   "source": [
    "## 4. Diagramme  <a name=4></a>"
   ]
  },
  {
   "cell_type": "code",
   "execution_count": null,
   "id": "b0505f21",
   "metadata": {},
   "outputs": [],
   "source": [
    "# outliers:\n",
    "df.hist(column='age', bins=20, color='blue')\n",
    "\n",
    "for column in df.columns:\n",
    "    # Check if the column is numeric for valid histogram plotting\n",
    "    if pd.api.types.is_numeric_dtype(df[column]):\n",
    "        df.hist(column)\n"
   ]
  },
  {
   "cell_type": "code",
   "execution_count": null,
   "id": "a59388d2",
   "metadata": {},
   "outputs": [],
   "source": [
    "df['department'].value_counts().plot(kind='bar')\n",
    "plt.title('Anzahl angestellte pro department')\n",
    "plt.ylabel('Anzahl angestellte')  # Füge\n",
    "plt.show()"
   ]
  },
  {
   "cell_type": "code",
   "execution_count": null,
   "id": "a9feb519",
   "metadata": {},
   "outputs": [],
   "source": [
    "# Ihre Lösung\n",
    "\n",
    "df.groupby(['department', 'gender'])\\\n",
    ".size()\\\n",
    ".unstack('department')\\\n",
    ".plot(kind='pie',subplots=True, figsize=(15,10), layout=(3, 3), autopct='%1.1f%%')"
   ]
  },
  {
   "cell_type": "markdown",
   "id": "50163c40",
   "metadata": {},
   "source": [
    "## 5. grouping  <a name=5></a>"
   ]
  },
  {
   "cell_type": "markdown",
   "id": "bf28558e",
   "metadata": {},
   "source": [
    "1. `df.groupby('job_level')['age']`: This groups the DataFrame `df` by the column 'job_level' and then selects the 'age' column from the grouped data. The result is a Series with the 'job_level' as the index. You can then apply aggregate functions (like mean, sum, etc.) to this Series to get statistics for 'age' within each 'job_level'.\n",
    "\n",
    "2. `df.groupby(['job_level', 'age'])`: This groups the DataFrame `df` by two columns: 'job_level' and 'age'. The result is a DataFrame with a MultiIndex ('job_level' and 'age'). You can then apply aggregate functions to this DataFrame to get statistics for each combination of 'job_level' and 'age'.\n",
    "\n",
    "In summary, the first expression is used when you want to analyze the 'age' column within each 'job_level', while the second expression is used when you want to analyze the data for each combination of 'job_level' and 'age'."
   ]
  },
  {
   "cell_type": "code",
   "execution_count": null,
   "id": "f39fe9ca",
   "metadata": {},
   "outputs": [],
   "source": [
    "df.groupby([df['entry_date'].dt.year, 'recruitment_type']).size().unstack('recruitment_type').plot(kind='line')"
   ]
  }
 ],
 "metadata": {
  "kernelspec": {
   "display_name": "Python 3 (ipykernel)",
   "language": "python",
   "name": "python3"
  },
  "language_info": {
   "codemirror_mode": {
    "name": "ipython",
    "version": 3
   },
   "file_extension": ".py",
   "mimetype": "text/x-python",
   "name": "python",
   "nbconvert_exporter": "python",
   "pygments_lexer": "ipython3",
   "version": "3.11.3"
  }
 },
 "nbformat": 4,
 "nbformat_minor": 5
}
