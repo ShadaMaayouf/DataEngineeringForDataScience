{
 "cells": [
  {
   "cell_type": "markdown",
   "id": "027ccd60",
   "metadata": {},
   "source": [
    "# Assessing Completeness\n",
    "\n",
    "Completeness of data means that the main features/attributes required for the analysis do not have missing values. Missing values can skew the analysis and lead to misleading trends. \n",
    "\n",
    "The metrics to measure it is the ratio of missing records for the features that are necessary (not optional) for the analysis. For example, if 30 out of 100 records in your analysis is missing the industry feature that you need for your marketing campaign, the completeness of your data is 70%.\n",
    "\n",
    "> _important questions would be:_\n",
    ">* _Are there any missing values in the data?_\n",
    ">* _Find the earliest date(s) in our “recent” data file and confirm that they are before a specific date._\n",
    "\n",
    "> _in case of two data sets:_\n",
    ">* _Compare the file sizes and/or row counts of the two datasets to confirm that the more recent file is larger than the older file._\n",
    ">* _Compare the data they contain to confirm that all the records in the earlier file already exist in the later file._\n",
    "\n",
    "One important thing here is that not every kind of missing data can be detected by the default method of the pandas library e.g. if the missing value has been encoded as an empty string or arbitrary value.\n",
    "\n",
    "Let's see what strategies we can use to assess completeness. \n"
   ]
  },
  {
   "cell_type": "code",
   "execution_count": null,
   "id": "f7a5b2a4",
   "metadata": {},
   "outputs": [],
   "source": [
    "#import "
   ]
  },
  {
   "cell_type": "markdown",
   "id": "45e0ed1b",
   "metadata": {},
   "source": [
    "### 1. Are there any missing values in the data?"
   ]
  },
  {
   "cell_type": "code",
   "execution_count": null,
   "id": "5df12e39",
   "metadata": {},
   "outputs": [],
   "source": [
    "#for exapmple by checking for NANs\n",
    "check_nan = df_es.isnull().values.any()\n",
    "print(\"Are there any missing values? \"+str(check_nan))\n",
    "\n",
    "print(\"show number of missing values in each column:\")\n",
    "df_es.isna().sum()\n",
    "\n",
    "#You can replace NAN values with a string of your choice if you want\n",
    "#missing_value.replace(np.nan, 'N/A')"
   ]
  },
  {
   "cell_type": "markdown",
   "id": "bc2f61d5",
   "metadata": {},
   "source": [
    "You can check for the count of all the values in a column.\n",
    "By default, there is a ```dropna``` argument that controls the behavior of this function.\n",
    "You have to explicitly pass it to the function to make it return the missing value as well."
   ]
  },
  {
   "cell_type": "code",
   "execution_count": null,
   "id": "aa24f333",
   "metadata": {},
   "outputs": [],
   "source": [
    "print(df_es['gender'].value_counts())\n",
    "#or\n",
    "print(df_es['gender'].value_counts(dropna=False))"
   ]
  },
  {
   "cell_type": "markdown",
   "id": "9f09e9d7",
   "metadata": {},
   "source": [
    "### 2. find the earliest date(s) in the dataset file and confirm that they are recent.\n",
    "\n",
    "In this case find the earliest date(s) in our “recent” data file and confirm that they are before June 30, 2023."
   ]
  },
  {
   "cell_type": "code",
   "execution_count": null,
   "id": "02eb872b",
   "metadata": {},
   "outputs": [],
   "source": [
    "# convert the values in the `entry_date` column to *actual* dates\n",
    "df_es['entry_date'] = pd.to_datetime(df_es['entry_date'], format='%Y-%m-%d')\n",
    "\n",
    "# print out the `min()` and `max()` values in the `entry_date` column\n",
    "print(df_es['entry_date'].min())\n",
    "print(df_es['entry_date'].max())"
   ]
  },
  {
   "cell_type": "markdown",
   "id": "27e17315",
   "metadata": {},
   "source": [
    "### 2. find the earliest date(s) in the dataset file and confirm that they are recent.\n",
    "\n",
    "In this case find the earliest date(s) in our “recent” data file and confirm that they are before June 30, 2023."
   ]
  },
  {
   "cell_type": "code",
   "execution_count": null,
   "id": "224038d5",
   "metadata": {},
   "outputs": [],
   "source": []
  },
  {
   "cell_type": "markdown",
   "id": "a084efa5",
   "metadata": {},
   "source": []
  }
 ],
 "metadata": {
  "kernelspec": {
   "display_name": "Python 3 (ipykernel)",
   "language": "python",
   "name": "python3"
  },
  "language_info": {
   "codemirror_mode": {
    "name": "ipython",
    "version": 3
   },
   "file_extension": ".py",
   "mimetype": "text/x-python",
   "name": "python",
   "nbconvert_exporter": "python",
   "pygments_lexer": "ipython3",
   "version": "3.11.3"
  }
 },
 "nbformat": 4,
 "nbformat_minor": 5
}
