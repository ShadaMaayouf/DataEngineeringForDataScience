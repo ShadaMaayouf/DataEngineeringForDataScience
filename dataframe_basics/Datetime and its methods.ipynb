{
 "cells": [
  {
   "cell_type": "markdown",
   "id": "1e9f9945",
   "metadata": {},
   "source": [
    "# 1. Classes of the module Datetime"
   ]
  },
  {
   "cell_type": "code",
   "execution_count": 53,
   "id": "e5b96a21",
   "metadata": {},
   "outputs": [
    {
     "data": {
      "text/html": [
       "<div>\n",
       "<style scoped>\n",
       "    .dataframe tbody tr th:only-of-type {\n",
       "        vertical-align: middle;\n",
       "    }\n",
       "\n",
       "    .dataframe tbody tr th {\n",
       "        vertical-align: top;\n",
       "    }\n",
       "\n",
       "    .dataframe thead th {\n",
       "        text-align: right;\n",
       "    }\n",
       "</style>\n",
       "<table border=\"1\" class=\"dataframe\">\n",
       "  <thead>\n",
       "    <tr style=\"text-align: right;\">\n",
       "      <th></th>\n",
       "      <th>emp_id</th>\n",
       "      <th>age</th>\n",
       "      <th>Dept</th>\n",
       "      <th>education</th>\n",
       "      <th>recruitment_type</th>\n",
       "      <th>job_level</th>\n",
       "      <th>rating</th>\n",
       "      <th>awards</th>\n",
       "      <th>certifications</th>\n",
       "      <th>salary</th>\n",
       "      <th>gender</th>\n",
       "      <th>entry_date</th>\n",
       "      <th>last_raise</th>\n",
       "      <th>satisfied</th>\n",
       "    </tr>\n",
       "  </thead>\n",
       "  <tbody>\n",
       "    <tr>\n",
       "      <th>0</th>\n",
       "      <td>HR8270</td>\n",
       "      <td>28</td>\n",
       "      <td>HR</td>\n",
       "      <td>PG</td>\n",
       "      <td>Referral</td>\n",
       "      <td>5</td>\n",
       "      <td>2.0</td>\n",
       "      <td>1</td>\n",
       "      <td>0</td>\n",
       "      <td>86750</td>\n",
       "      <td>m</td>\n",
       "      <td>2019-02-01</td>\n",
       "      <td>NaN</td>\n",
       "      <td>1</td>\n",
       "    </tr>\n",
       "    <tr>\n",
       "      <th>1</th>\n",
       "      <td>TECH1860</td>\n",
       "      <td>50</td>\n",
       "      <td>Technology</td>\n",
       "      <td>PG</td>\n",
       "      <td>Recruitment Agency</td>\n",
       "      <td>3</td>\n",
       "      <td>5.0</td>\n",
       "      <td>2</td>\n",
       "      <td>1</td>\n",
       "      <td>42419</td>\n",
       "      <td>Male</td>\n",
       "      <td>2017-01-17</td>\n",
       "      <td>NaN</td>\n",
       "      <td>0</td>\n",
       "    </tr>\n",
       "    <tr>\n",
       "      <th>2</th>\n",
       "      <td>TECH6390</td>\n",
       "      <td>43</td>\n",
       "      <td>Technology</td>\n",
       "      <td>UG</td>\n",
       "      <td>Referral</td>\n",
       "      <td>4</td>\n",
       "      <td>1.0</td>\n",
       "      <td>2</td>\n",
       "      <td>0</td>\n",
       "      <td>65715</td>\n",
       "      <td>f</td>\n",
       "      <td>2012-08-27</td>\n",
       "      <td>NaN</td>\n",
       "      <td>1</td>\n",
       "    </tr>\n",
       "    <tr>\n",
       "      <th>3</th>\n",
       "      <td>SAL6191</td>\n",
       "      <td>44</td>\n",
       "      <td>Sales</td>\n",
       "      <td>PG</td>\n",
       "      <td>On-Campus</td>\n",
       "      <td>2</td>\n",
       "      <td>3.0</td>\n",
       "      <td>0</td>\n",
       "      <td>0</td>\n",
       "      <td>29805</td>\n",
       "      <td>f</td>\n",
       "      <td>2017-07-25</td>\n",
       "      <td>NaN</td>\n",
       "      <td>1</td>\n",
       "    </tr>\n",
       "    <tr>\n",
       "      <th>4</th>\n",
       "      <td>HR6734</td>\n",
       "      <td>33</td>\n",
       "      <td>HR</td>\n",
       "      <td>UG</td>\n",
       "      <td>Recruitment Agency</td>\n",
       "      <td>2</td>\n",
       "      <td>1.0</td>\n",
       "      <td>5</td>\n",
       "      <td>0</td>\n",
       "      <td>29805</td>\n",
       "      <td>m</td>\n",
       "      <td>2019-05-17</td>\n",
       "      <td>NaN</td>\n",
       "      <td>1</td>\n",
       "    </tr>\n",
       "    <tr>\n",
       "      <th>...</th>\n",
       "      <td>...</td>\n",
       "      <td>...</td>\n",
       "      <td>...</td>\n",
       "      <td>...</td>\n",
       "      <td>...</td>\n",
       "      <td>...</td>\n",
       "      <td>...</td>\n",
       "      <td>...</td>\n",
       "      <td>...</td>\n",
       "      <td>...</td>\n",
       "      <td>...</td>\n",
       "      <td>...</td>\n",
       "      <td>...</td>\n",
       "      <td>...</td>\n",
       "    </tr>\n",
       "    <tr>\n",
       "      <th>495</th>\n",
       "      <td>HR5330</td>\n",
       "      <td>49</td>\n",
       "      <td>HR</td>\n",
       "      <td>PG</td>\n",
       "      <td>On-Campus</td>\n",
       "      <td>2</td>\n",
       "      <td>5.0</td>\n",
       "      <td>6</td>\n",
       "      <td>0</td>\n",
       "      <td>29805</td>\n",
       "      <td>m</td>\n",
       "      <td>2014-03-21</td>\n",
       "      <td>NaN</td>\n",
       "      <td>1</td>\n",
       "    </tr>\n",
       "    <tr>\n",
       "      <th>496</th>\n",
       "      <td>TECH9010</td>\n",
       "      <td>24</td>\n",
       "      <td>Technology</td>\n",
       "      <td>UG</td>\n",
       "      <td>Referral</td>\n",
       "      <td>2</td>\n",
       "      <td>4.0</td>\n",
       "      <td>2</td>\n",
       "      <td>0</td>\n",
       "      <td>29805</td>\n",
       "      <td>f</td>\n",
       "      <td>2018-02-20</td>\n",
       "      <td>NaN</td>\n",
       "      <td>0</td>\n",
       "    </tr>\n",
       "    <tr>\n",
       "      <th>497</th>\n",
       "      <td>MKT7801</td>\n",
       "      <td>34</td>\n",
       "      <td>Marketing</td>\n",
       "      <td>PG</td>\n",
       "      <td>On-Campus</td>\n",
       "      <td>1</td>\n",
       "      <td>NaN</td>\n",
       "      <td>2</td>\n",
       "      <td>0</td>\n",
       "      <td>24076</td>\n",
       "      <td>m</td>\n",
       "      <td>2020-10-20</td>\n",
       "      <td>NaN</td>\n",
       "      <td>1</td>\n",
       "    </tr>\n",
       "    <tr>\n",
       "      <th>498</th>\n",
       "      <td>TECH5846</td>\n",
       "      <td>26</td>\n",
       "      <td>Technology</td>\n",
       "      <td>UG</td>\n",
       "      <td>Walk-in</td>\n",
       "      <td>2</td>\n",
       "      <td>1.0</td>\n",
       "      <td>1</td>\n",
       "      <td>1</td>\n",
       "      <td>29805</td>\n",
       "      <td>Male</td>\n",
       "      <td>2012-05-18</td>\n",
       "      <td>NaN</td>\n",
       "      <td>0</td>\n",
       "    </tr>\n",
       "    <tr>\n",
       "      <th>499</th>\n",
       "      <td>TECH7731</td>\n",
       "      <td>26</td>\n",
       "      <td>Technology</td>\n",
       "      <td>UG</td>\n",
       "      <td>Recruitment Agency</td>\n",
       "      <td>3</td>\n",
       "      <td>4.0</td>\n",
       "      <td>3</td>\n",
       "      <td>0</td>\n",
       "      <td>42419</td>\n",
       "      <td>Male</td>\n",
       "      <td>2018-12-28</td>\n",
       "      <td>NaN</td>\n",
       "      <td>0</td>\n",
       "    </tr>\n",
       "  </tbody>\n",
       "</table>\n",
       "<p>500 rows × 14 columns</p>\n",
       "</div>"
      ],
      "text/plain": [
       "       emp_id  age        Dept education    recruitment_type  job_level   \n",
       "0      HR8270   28          HR        PG            Referral          5  \\\n",
       "1    TECH1860   50  Technology        PG  Recruitment Agency          3   \n",
       "2    TECH6390   43  Technology        UG            Referral          4   \n",
       "3     SAL6191   44       Sales        PG           On-Campus          2   \n",
       "4      HR6734   33          HR        UG  Recruitment Agency          2   \n",
       "..        ...  ...         ...       ...                 ...        ...   \n",
       "495    HR5330   49          HR        PG           On-Campus          2   \n",
       "496  TECH9010   24  Technology        UG            Referral          2   \n",
       "497   MKT7801   34   Marketing        PG           On-Campus          1   \n",
       "498  TECH5846   26  Technology        UG             Walk-in          2   \n",
       "499  TECH7731   26  Technology        UG  Recruitment Agency          3   \n",
       "\n",
       "     rating  awards  certifications  salary gender  entry_date  last_raise   \n",
       "0       2.0       1               0   86750      m  2019-02-01         NaN  \\\n",
       "1       5.0       2               1   42419   Male  2017-01-17         NaN   \n",
       "2       1.0       2               0   65715      f  2012-08-27         NaN   \n",
       "3       3.0       0               0   29805      f  2017-07-25         NaN   \n",
       "4       1.0       5               0   29805      m  2019-05-17         NaN   \n",
       "..      ...     ...             ...     ...    ...         ...         ...   \n",
       "495     5.0       6               0   29805      m  2014-03-21         NaN   \n",
       "496     4.0       2               0   29805      f  2018-02-20         NaN   \n",
       "497     NaN       2               0   24076      m  2020-10-20         NaN   \n",
       "498     1.0       1               1   29805   Male  2012-05-18         NaN   \n",
       "499     4.0       3               0   42419   Male  2018-12-28         NaN   \n",
       "\n",
       "     satisfied  \n",
       "0            1  \n",
       "1            0  \n",
       "2            1  \n",
       "3            1  \n",
       "4            1  \n",
       "..         ...  \n",
       "495          1  \n",
       "496          0  \n",
       "497          1  \n",
       "498          0  \n",
       "499          0  \n",
       "\n",
       "[500 rows x 14 columns]"
      ]
     },
     "execution_count": 53,
     "metadata": {},
     "output_type": "execute_result"
    }
   ],
   "source": [
    "import pandas as pd\n",
    "import datetime as dt\n",
    "\n",
    "df = pd.read_csv(\"./data/employees_satisfaction.csv\", index_col=0)\n",
    "df"
   ]
  },
  {
   "cell_type": "markdown",
   "id": "4ef3f329",
   "metadata": {},
   "source": [
    "### 1.1. Class ```date``` of the ```Datetime``` module\n",
    "The ```date``` class in the ```DateTime``` module of Python deals with dates in the Gregorian calendar. It accepts three integer arguments: year, month, and day. Let’s have a look at how to create a date object of a date class:"
   ]
  },
  {
   "cell_type": "code",
   "execution_count": 54,
   "id": "dd2de8a2",
   "metadata": {},
   "outputs": [
    {
     "name": "stdout",
     "output_type": "stream",
     "text": [
      "2020-04-23\n",
      "<class 'datetime.date'>\n"
     ]
    }
   ],
   "source": [
    "d = dt.date(2020,4,23)\n",
    "print(d)\n",
    "print(type(d))"
   ]
  },
  {
   "cell_type": "markdown",
   "id": "fed44396",
   "metadata": {},
   "source": [
    "We can extract features like day, month, and year from the date object. This can be done using the ```day```, ```month```, and ```year``` attributes. We will see how to do that on the current local day date object that we will create using the ```today()``` function:"
   ]
  },
  {
   "cell_type": "code",
   "execution_count": 55,
   "id": "839bb0aa",
   "metadata": {},
   "outputs": [],
   "source": [
    "d1 = dt.date.today()\n",
    "\n",
    "print('Day: ', d1.day)\n",
    "\n",
    "print('Month: ', d1.month)\n",
    "\n",
    "print('Year: ', d1.year)"
   ]
  },
  {
   "cell_type": "markdown",
   "id": "bcec4abb",
   "metadata": {},
   "source": [
    "### 1.2. Class ```time``` of the ```Datetime``` module\n",
    "```time``` is another class of the DateTime module that accepts integer arguments for time up to microseconds and returns a DateTime object:"
   ]
  },
  {
   "cell_type": "code",
   "execution_count": 56,
   "id": "4dd9663f",
   "metadata": {},
   "outputs": [
    {
     "name": "stdout",
     "output_type": "stream",
     "text": [
      "13:20:13.000040\n",
      "<class 'datetime.time'>\n",
      "Hour : 13\n",
      "Minute : 20\n",
      "Second : 13\n",
      "Microsecond : 40\n"
     ]
    }
   ],
   "source": [
    "t = dt.time(13,20,13,40)\n",
    "\n",
    "print(t)\n",
    "\n",
    "print(type(t))\n",
    "\n",
    "# hour\n",
    "print('Hour :',t.hour)\n",
    "# minute\n",
    "print('Minute :',t.minute)\n",
    "# second\n",
    "print('Second :',t.second)\n",
    "# microsecond\n",
    "print('Microsecond :',t.microsecond)"
   ]
  },
  {
   "cell_type": "markdown",
   "id": "d949540b",
   "metadata": {},
   "source": [
    "### 1.3. Class ```datetime``` of the ```Datetime``` module\n",
    "\n",
    "```datetime``` is a class and an object in Python’s ```DateTime``` module, just like date and time. The arguments are a combination of date and time attributes, starting from the year and ending in microseconds. Lets create a DateTime object:"
   ]
  },
  {
   "cell_type": "code",
   "execution_count": 57,
   "id": "c6b8d4d1",
   "metadata": {},
   "outputs": [
    {
     "name": "stdout",
     "output_type": "stream",
     "text": [
      "2020-04-23 11:20:30.000040\n",
      "<class 'datetime.datetime'>\n"
     ]
    }
   ],
   "source": [
    "d1 = dt.datetime(2020,4,23,11,20,30,40)\n",
    "print(d1)\n",
    "print(type(d1))"
   ]
  },
  {
   "cell_type": "markdown",
   "id": "1e48d284",
   "metadata": {},
   "source": [
    "Or you could even create an object on the local date and time using the ```now()``` method:"
   ]
  },
  {
   "cell_type": "code",
   "execution_count": 58,
   "id": "1fe7eac4",
   "metadata": {},
   "outputs": [
    {
     "data": {
      "text/plain": [
       "datetime.datetime(2023, 8, 18, 20, 10, 49, 482128)"
      ]
     },
     "execution_count": 58,
     "metadata": {},
     "output_type": "execute_result"
    }
   ],
   "source": [
    "dt.datetime.now()"
   ]
  },
  {
   "cell_type": "markdown",
   "id": "30c55d13",
   "metadata": {},
   "source": [
    "You can go on and extract whichever value you want to from the DateTime object using the same attributes we used with the date and time objects individually."
   ]
  },
  {
   "cell_type": "markdown",
   "id": "aad5ee65",
   "metadata": {},
   "source": [
    "# 2. Methods of  ```datetime``` class\n"
   ]
  },
  {
   "cell_type": "markdown",
   "id": "e5943724",
   "metadata": {},
   "source": [
    "### 2.1. Updating old Dates\n",
    "\n",
    "There are two ways to do this:\n",
    "1. Replace a value in the DateTime objects without having to change the entire date using the replace() method:"
   ]
  },
  {
   "cell_type": "code",
   "execution_count": 59,
   "id": "67b44f87",
   "metadata": {},
   "outputs": [
    {
     "name": "stdout",
     "output_type": "stream",
     "text": [
      "New datetime : 2020-04-24 14:20:30.000040\n"
     ]
    }
   ],
   "source": [
    "print('New datetime :',d1.replace(day=24, hour=14))"
   ]
  },
  {
   "cell_type": "markdown",
   "id": "2cfa55bc",
   "metadata": {},
   "source": [
    "2. Separate date and time from the DateTime object using the date() and time() methods. "
   ]
  },
  {
   "cell_type": "code",
   "execution_count": 60,
   "id": "15e7a808",
   "metadata": {},
   "outputs": [
    {
     "name": "stdout",
     "output_type": "stream",
     "text": [
      "Datetime : 2020-04-23 11:20:30.000040\n",
      "Date : 2020-04-23\n",
      "Time : 11:20:30.000040\n"
     ]
    }
   ],
   "source": [
    "print('Datetime :',d1)\n",
    "# date\n",
    "print('Date :',d1.date())\n",
    "# time\n",
    "print('Time :',d1.time())"
   ]
  },
  {
   "cell_type": "markdown",
   "id": "12cf3d74",
   "metadata": {},
   "source": [
    "### 2.2. What week of the day it is?\n",
    "One really cool thing that you can do with the DateTime function is to extract the day of the week! This is especially helpful in feature engineering because the value of the target variable can be dependent on the day of the week, like sales of a product are generally higher on a weekend or traffic on StackOverflow could be higher on a weekday when people are working, etc.\n",
    "\n",
    "The ```weekday()``` method returns an integer value for the day of the week, where Monday is 0 and Sunday is 6. But if you wanted it to return the weekday value between 1 and 7, like in a real-world scenario, you should use ```isoweekday()```:"
   ]
  },
  {
   "cell_type": "code",
   "execution_count": 61,
   "id": "1459f512",
   "metadata": {},
   "outputs": [
    {
     "name": "stdout",
     "output_type": "stream",
     "text": [
      "3\n",
      "4\n"
     ]
    }
   ],
   "source": [
    "print(d1.weekday()) # output 3 for Thurday\n",
    "# week starts with 1\n",
    "print(d1.isoweekday())"
   ]
  },
  {
   "cell_type": "markdown",
   "id": "b1f684a9",
   "metadata": {},
   "source": [
    "###  2.3. What week is it?\n",
    "\n",
    "Knowing what week of the year it is is useful in cases in which the value of the target variable might be higher during certain times of the year. For example, the sales of products on e-commerce websites are generally higher during vacations. You can get the week of the year by slicing the value returned by the ````isocalendar()``` method:"
   ]
  },
  {
   "cell_type": "code",
   "execution_count": 62,
   "id": "1a097cf5",
   "metadata": {},
   "outputs": [
    {
     "name": "stdout",
     "output_type": "stream",
     "text": [
      "datetime.IsoCalendarDate(year=2020, week=17, weekday=4)\n",
      "Week : 17\n"
     ]
    }
   ],
   "source": [
    "print(d1.isocalendar())\n",
    "print('Week :',d1.isocalendar()[1])"
   ]
  },
  {
   "cell_type": "markdown",
   "id": "59e1987e",
   "metadata": {},
   "source": [
    "### 2.4. The ```Calender``` Module Leap Year or Not?\n",
    "\n",
    "You will need to use the ```isleap()``` method from the ```calendar``` module and pass the year as an attribute:"
   ]
  },
  {
   "cell_type": "code",
   "execution_count": 63,
   "id": "b02b4be2",
   "metadata": {},
   "outputs": [
    {
     "data": {
      "text/plain": [
       "True"
      ]
     },
     "execution_count": 63,
     "metadata": {},
     "output_type": "execute_result"
    }
   ],
   "source": [
    "import calendar\n",
    "# leap year or not\n",
    "calendar.isleap(d1.year)"
   ]
  },
  {
   "cell_type": "markdown",
   "id": "272d8e9b",
   "metadata": {},
   "source": [
    "You can print a calender as follows:"
   ]
  },
  {
   "cell_type": "code",
   "execution_count": 64,
   "id": "75f97b25",
   "metadata": {},
   "outputs": [
    {
     "name": "stdout",
     "output_type": "stream",
     "text": [
      "     April 2020\n",
      "Mo Tu We Th Fr Sa Su\n",
      "       1  2  3  4  5\n",
      " 6  7  8  9 10 11 12\n",
      "13 14 15 16 17 18 19\n",
      "20 21 22 23 24 25 26\n",
      "27 28 29 30\n",
      "\n"
     ]
    }
   ],
   "source": [
    "print(calendar.month(2020,4))"
   ]
  },
  {
   "cell_type": "code",
   "execution_count": 65,
   "id": "fed3f54f",
   "metadata": {},
   "outputs": [
    {
     "name": "stdout",
     "output_type": "stream",
     "text": [
      "                                  2020\n",
      "\n",
      "      January                   February                   March\n",
      "Mo Tu We Th Fr Sa Su      Mo Tu We Th Fr Sa Su      Mo Tu We Th Fr Sa Su\n",
      "       1  2  3  4  5                      1  2                         1\n",
      " 6  7  8  9 10 11 12       3  4  5  6  7  8  9       2  3  4  5  6  7  8\n",
      "13 14 15 16 17 18 19      10 11 12 13 14 15 16       9 10 11 12 13 14 15\n",
      "20 21 22 23 24 25 26      17 18 19 20 21 22 23      16 17 18 19 20 21 22\n",
      "27 28 29 30 31            24 25 26 27 28 29         23 24 25 26 27 28 29\n",
      "                                                    30 31\n",
      "\n",
      "       April                      May                       June\n",
      "Mo Tu We Th Fr Sa Su      Mo Tu We Th Fr Sa Su      Mo Tu We Th Fr Sa Su\n",
      "       1  2  3  4  5                   1  2  3       1  2  3  4  5  6  7\n",
      " 6  7  8  9 10 11 12       4  5  6  7  8  9 10       8  9 10 11 12 13 14\n",
      "13 14 15 16 17 18 19      11 12 13 14 15 16 17      15 16 17 18 19 20 21\n",
      "20 21 22 23 24 25 26      18 19 20 21 22 23 24      22 23 24 25 26 27 28\n",
      "27 28 29 30               25 26 27 28 29 30 31      29 30\n",
      "\n",
      "        July                     August                  September\n",
      "Mo Tu We Th Fr Sa Su      Mo Tu We Th Fr Sa Su      Mo Tu We Th Fr Sa Su\n",
      "       1  2  3  4  5                      1  2          1  2  3  4  5  6\n",
      " 6  7  8  9 10 11 12       3  4  5  6  7  8  9       7  8  9 10 11 12 13\n",
      "13 14 15 16 17 18 19      10 11 12 13 14 15 16      14 15 16 17 18 19 20\n",
      "20 21 22 23 24 25 26      17 18 19 20 21 22 23      21 22 23 24 25 26 27\n",
      "27 28 29 30 31            24 25 26 27 28 29 30      28 29 30\n",
      "                          31\n",
      "\n",
      "      October                   November                  December\n",
      "Mo Tu We Th Fr Sa Su      Mo Tu We Th Fr Sa Su      Mo Tu We Th Fr Sa Su\n",
      "          1  2  3  4                         1          1  2  3  4  5  6\n",
      " 5  6  7  8  9 10 11       2  3  4  5  6  7  8       7  8  9 10 11 12 13\n",
      "12 13 14 15 16 17 18       9 10 11 12 13 14 15      14 15 16 17 18 19 20\n",
      "19 20 21 22 23 24 25      16 17 18 19 20 21 22      21 22 23 24 25 26 27\n",
      "26 27 28 29 30 31         23 24 25 26 27 28 29      28 29 30 31\n",
      "                          30\n",
      "\n"
     ]
    }
   ],
   "source": [
    "print(calendar.calendar(2020))\n"
   ]
  },
  {
   "cell_type": "markdown",
   "id": "1cb24aeb",
   "metadata": {},
   "source": [
    "# 3. Datetime Formats\n",
    "The Datetime module lets you interchange the format of DateTime between a few options.\n",
    "\n",
    "### 3.1. From and into ISO format:\n",
    "If you wanted to create a DateTime object from the string form of the date in ISO format, use the ```fromisoformat()``` method. And if you intended to do the reverse, use the ```isoformat()``` method:"
   ]
  },
  {
   "cell_type": "code",
   "execution_count": 66,
   "id": "af27a0bc",
   "metadata": {},
   "outputs": [
    {
     "name": "stdout",
     "output_type": "stream",
     "text": [
      "From ISO to normal datetime: 2020-04-23\n",
      "<class 'datetime.date'>\n",
      "From normal datetime to ISO: 2020-04-23\n",
      "<class 'str'>\n"
     ]
    }
   ],
   "source": [
    "d_datetime = dt.date.fromisoformat('2020-04-23')\n",
    "print(\"From ISO to normal datetime: \"+str(d_datetime))\n",
    "print(type(d_datetime))\n",
    "d_ISO = dt.date(2020,4,23).isoformat()\n",
    "print(\"From normal datetime to ISO: \"+str(d_ISO))\n",
    "print(type(d_ISO))"
   ]
  },
  {
   "cell_type": "markdown",
   "id": "2ae4e531",
   "metadata": {},
   "source": [
    "### 3.2. From and into String format:\n",
    "If you wanted to convert DateTime into a string format, you could use the ```ctime()``` method. This returns the date in a string format. And if you wanted to extract just the date from that, well, you would have to use slicing:"
   ]
  },
  {
   "cell_type": "code",
   "execution_count": 67,
   "id": "e8848f45",
   "metadata": {},
   "outputs": [
    {
     "name": "stdout",
     "output_type": "stream",
     "text": [
      "Fri Aug 18 20:10:50 2023\n",
      "Fri Aug 18\n"
     ]
    }
   ],
   "source": [
    "# date in string format\n",
    "d = dt.datetime.now()\n",
    "# string format for date\n",
    "print(d.ctime())\n",
    "# slicing to extract date\n",
    "print(d.ctime()[:10])"
   ]
  },
  {
   "cell_type": "markdown",
   "id": "6953f861",
   "metadata": {},
   "source": [
    "### 3.3. User defined format:\n",
    "And if none of these functions strike your fancy, you could use the ```format()``` method which lets you define your own format:"
   ]
  },
  {
   "cell_type": "code",
   "execution_count": 69,
   "id": "55d4dfb1",
   "metadata": {},
   "outputs": [
    {
     "data": {
      "text/plain": [
       "'2020/04/23'"
      ]
     },
     "execution_count": 69,
     "metadata": {},
     "output_type": "execute_result"
    }
   ],
   "source": [
    "dt.date(2020,4,23).__format__('%Y/%m/%d')"
   ]
  },
  {
   "cell_type": "markdown",
   "id": "2129155f",
   "metadata": {},
   "source": [
    "# 4. time difference with TimeDelta\n",
    "So far, we have seen how to create a DateTime object and how to format it. But sometimes, you might have to find the duration between two dates, which can be another very useful feature that you can derive from a dataset. This duration is, however, returned as a ```timedelta``` object.\n",
    "\n",
    "### 4.1. Time difference between two dates:"
   ]
  },
  {
   "cell_type": "code",
   "execution_count": 70,
   "id": "78e507d4",
   "metadata": {},
   "outputs": [
    {
     "name": "stdout",
     "output_type": "stream",
     "text": [
      "365 days, 1:00:00\n",
      "<class 'datetime.timedelta'>\n"
     ]
    }
   ],
   "source": [
    "d1 = dt.datetime(2020,4,23,11,13,10)\n",
    "d2 = dt.datetime(2021,4,23,12,13,10)\n",
    "duration = d2-d1\n",
    "\n",
    "print(duration)\n",
    "print(type(duration))"
   ]
  },
  {
   "cell_type": "markdown",
   "id": "79d3bd56",
   "metadata": {},
   "source": [
    "As you can see, the duration is returned as the number of days for the date and seconds for the time between the dates. So you can actually retrieve these values for your features."
   ]
  },
  {
   "cell_type": "code",
   "execution_count": 71,
   "id": "06c634bf",
   "metadata": {},
   "outputs": [
    {
     "name": "stdout",
     "output_type": "stream",
     "text": [
      "difference in days is 365\n",
      "difference in seconds is 3600\n"
     ]
    }
   ],
   "source": [
    "print(\"difference in days is \"+str(duration.days))\n",
    "print(\"difference in seconds is \"+str(duration.seconds))"
   ]
  },
  {
   "cell_type": "markdown",
   "id": "a5752a30",
   "metadata": {},
   "source": [
    "But what if you actually wanted the duration in hours or minutes? Well, there is a simple solution for that.\n",
    "\n",
    "timedelta is also a class in the DateTime module. So, you could use it to convert your duration into hours and minutes as I’ve done below:"
   ]
  },
  {
   "cell_type": "code",
   "execution_count": 72,
   "id": "d39bd0df",
   "metadata": {},
   "outputs": [
    {
     "name": "stdout",
     "output_type": "stream",
     "text": [
      "Duration in hours : 8761.0\n",
      "Duration in minutes : 525660.0\n",
      "Duration in seconds : 31539600.0\n"
     ]
    }
   ],
   "source": [
    "# duration in hours\n",
    "print('Duration in hours :',duration/dt.timedelta(hours=1))\n",
    "# duration in minutes\n",
    "print('Duration in minutes :',duration/dt.timedelta(minutes=1))\n",
    "# duration in seconds\n",
    "print('Duration in seconds :',duration/dt.timedelta(seconds=1))"
   ]
  },
  {
   "cell_type": "markdown",
   "id": "0de314df",
   "metadata": {},
   "source": [
    "### 4.2. Add time to current date\n",
    "\n",
    "#### Example: What's the date 5 days from today?\n",
    "timedelta makes it possible to add and subtract integers from a DateTime object."
   ]
  },
  {
   "cell_type": "code",
   "execution_count": 73,
   "id": "050b62fd",
   "metadata": {},
   "outputs": [
    {
     "name": "stdout",
     "output_type": "stream",
     "text": [
      "Today's date : 2023-08-18 20:11:22.212524\n",
      "Date 2 days from today : 2023-08-20 20:11:22.212524\n",
      "Date 2 weeks ago from today : 2023-08-04 20:11:22.212524\n"
     ]
    }
   ],
   "source": [
    "d1 = dt.datetime.now()\n",
    "print(\"Today's date :\",d1)\n",
    "\n",
    "d2 = d1+dt.timedelta(days=2)\n",
    "print(\"Date 2 days from today :\",d2)\n",
    "\n",
    "d3 = d1-dt.timedelta(weeks=2)\n",
    "print(\"Date 2 weeks ago from today :\",d3)"
   ]
  },
  {
   "cell_type": "markdown",
   "id": "836efe99",
   "metadata": {},
   "source": [
    "# 5. Datetime in Pandas\n",
    "\n",
    "Pandas has some great methods for handling dates and times, such as:\n",
    "### 5.1. ```to_datetime()```: converts from string to Datetime objects\n",
    "\n"
   ]
  },
  {
   "cell_type": "code",
   "execution_count": 74,
   "id": "83b63d99",
   "metadata": {},
   "outputs": [
    {
     "name": "stdout",
     "output_type": "stream",
     "text": [
      "2020-04-24 00:00:00\n",
      "<class 'pandas._libs.tslibs.timestamps.Timestamp'>\n"
     ]
    }
   ],
   "source": [
    "date = pd.to_datetime('24th of April, 2020')\n",
    "print(date)\n",
    "print(type(date))"
   ]
  },
  {
   "cell_type": "markdown",
   "id": "fabda389",
   "metadata": {},
   "source": [
    "The type of the object returned by ```to_datetime()``` is not ```DateTime``` but ```Timestamp```. This is just the Pandas equivalent of Python’s DateTime.\n",
    "\n",
    "For example: The `entry_date` column in the df above, contains information about the entry date, but the data is not of datetime type. This is very unfavorable for date calculations, so convert the data types accordingly."
   ]
  },
  {
   "cell_type": "code",
   "execution_count": 75,
   "id": "7c1894e8",
   "metadata": {},
   "outputs": [
    {
     "data": {
      "text/plain": [
       "0     2019-02-01\n",
       "1     2017-01-17\n",
       "2     2012-08-27\n",
       "3     2017-07-25\n",
       "4     2019-05-17\n",
       "         ...    \n",
       "495   2014-03-21\n",
       "496   2018-02-20\n",
       "497   2020-10-20\n",
       "498   2012-05-18\n",
       "499   2018-12-28\n",
       "Name: entry_date, Length: 500, dtype: datetime64[ns]"
      ]
     },
     "metadata": {},
     "output_type": "display_data"
    },
    {
     "name": "stdout",
     "output_type": "stream",
     "text": [
      "2004-01-05 00:00:00\n",
      "2020-12-17 00:00:00\n"
     ]
    }
   ],
   "source": [
    "# Ihre Lösung\n",
    "# convert the values in the `entry_date` column to *actual* dates\n",
    "df['entry_date'] = pd.to_datetime(df['entry_date'], format='%Y-%m-%d')\n",
    "\n",
    "# print out the `min()` and `max()` values in the `entry_date` column\n",
    "display(df['entry_date'])\n",
    "print(df['entry_date'].min())\n",
    "print(df['entry_date'].max())"
   ]
  },
  {
   "cell_type": "markdown",
   "id": "9248be46",
   "metadata": {},
   "source": [
    "To convert multiple columns use one of the following methods:"
   ]
  },
  {
   "cell_type": "code",
   "execution_count": null,
   "id": "1efe3280",
   "metadata": {},
   "outputs": [],
   "source": [
    "#df.iloc[:, 7:12] = data.iloc[:, 7:12].apply(pd.to_datetime, errors='coerce')"
   ]
  },
  {
   "cell_type": "code",
   "execution_count": null,
   "id": "6cdd34e3",
   "metadata": {},
   "outputs": [],
   "source": [
    "#cols_2_extract = data.columns[2:15]\n",
    "\n",
    "#data[cols_2_extract] = data[cols_2_extract].applymap(lambda x : pd.to_datetime(x, format = '%d %M %Y'))"
   ]
  },
  {
   "cell_type": "markdown",
   "id": "198b2b93",
   "metadata": {},
   "source": [
    "### 5.2. ```to_timedelta()```: calculates absolute time differences"
   ]
  },
  {
   "cell_type": "code",
   "execution_count": null,
   "id": "3f670624",
   "metadata": {},
   "outputs": [],
   "source": [
    "import numpy as np\n",
    "date = dt.datetime.now()\n",
    "# present date\n",
    "print(date)\n",
    "# date after 1 day\n",
    "print(date+pd.to_timedelta(1,unit='D'))\n",
    "# date after 1 month\n",
    "print(date+pd.to_timedelta(1*30,unit='D'))"
   ]
  },
  {
   "cell_type": "markdown",
   "id": "e89fe7ee",
   "metadata": {},
   "source": [
    "### 5.3. ```date_range()```: creation of date sequences\n",
    "To make the creation of date sequences a convenient task, Pandas provides the ```date_range()``` method. It accepts a start date, an end date, and an optional frequency code (you can find the list of frequency cods [here](https://pandas.pydata.org/pandas-docs/stable/user_guide/timeseries.html#offset-aliases)):"
   ]
  },
  {
   "cell_type": "code",
   "execution_count": null,
   "id": "825d2afc",
   "metadata": {},
   "outputs": [],
   "source": [
    "pd.date_range(start='24/4/2020', end='24/5/2020', freq='D')"
   ]
  },
  {
   "cell_type": "markdown",
   "id": "916251af",
   "metadata": {},
   "source": [
    "Instead of defining the end date, you could define the period or number of time periods you want to generate:"
   ]
  },
  {
   "cell_type": "code",
   "execution_count": null,
   "id": "41ecef63",
   "metadata": {},
   "outputs": [],
   "source": [
    "start_date = dt.datetime.today()\n",
    "dates_start = pd.date_range(start=start_date, periods=10, freq='T')\n",
    "print(dates_start[:5])\n",
    "len(dates_start)"
   ]
  },
  {
   "cell_type": "markdown",
   "id": "ab8fa8f9",
   "metadata": {},
   "source": [
    "# 6. Lets make an example\n",
    "\n",
    "Let’s also create a series of end dates and make a dummy dataset from which we can derive some new features and bring our learning about DateTime to fruition."
   ]
  },
  {
   "cell_type": "code",
   "execution_count": null,
   "id": "b99399bc",
   "metadata": {},
   "outputs": [],
   "source": [
    "dates_end = pd.date_range(start=start_date, periods=10, freq='D')\n",
    "dates_end[:5]"
   ]
  },
  {
   "cell_type": "markdown",
   "id": "a892f47e",
   "metadata": {},
   "source": [
    "Initialise a dataset containing start date, end date, and a target variable:"
   ]
  },
  {
   "cell_type": "code",
   "execution_count": null,
   "id": "d8d52097",
   "metadata": {},
   "outputs": [],
   "source": [
    "import random\n",
    "randomList = []\n",
    "for i in range(10):\n",
    "    randomList.append(random.randint(0,1))\n",
    "\n",
    "# dataframe\n",
    "df = pd.DataFrame()\n",
    "df['Start_date'] = dates_start\n",
    "df['End_date'] = dates_end\n",
    "df['Target'] = randomList\n",
    "\n",
    "df.head()"
   ]
  },
  {
   "cell_type": "markdown",
   "id": "f6a36c61",
   "metadata": {},
   "source": [
    "We can create multiple new features (columns) from the date column, like the day, month, year, hour, minute, etc. using the dt attribute as shown below:"
   ]
  },
  {
   "cell_type": "code",
   "execution_count": null,
   "id": "47faccc8",
   "metadata": {},
   "outputs": [],
   "source": [
    "# day\n",
    "df['Day'] = df['Start_date'].dt.day\n",
    "# month\n",
    "df['Month'] = df['Start_date'].dt.month\n",
    "# year\n",
    "df['Year'] = df['Start_date'].dt.year\n",
    "# hour\n",
    "df['Start_hour'] = df['Start_date'].dt.hour\n",
    "# minute\n",
    "df['Start_minute'] = df['Start_date'].dt.minute\n",
    "# second\n",
    "df['Start_second'] = df['Start_date'].dt.second\n",
    "# Monday is 0 and Sunday is 6\n",
    "df['Start_weekday'] = df['Start_date'].dt.weekday\n",
    "# week of the year\n",
    "a=df['Start_date'].dt.to_pydatetime()\n",
    "df['Start_week_of_year'] = a[0].isocalendar()[1]\n",
    "# duration\n",
    "df['Duration'] = df['End_date']-df['Start_date']\n"
   ]
  },
  {
   "cell_type": "code",
   "execution_count": null,
   "id": "3c8141f0",
   "metadata": {},
   "outputs": [],
   "source": [
    "df.head()"
   ]
  },
  {
   "cell_type": "code",
   "execution_count": null,
   "id": "55122d08",
   "metadata": {},
   "outputs": [],
   "source": [
    "df['Duration_days'] = df['Duration']/dt.timedelta(days=1)\n",
    "df['Duration_minutes'] = df['Duration']/dt.timedelta(minutes=1)\n",
    "df['Duration_seconds'] = df['Duration']/dt.timedelta(seconds=1)\n",
    "df.head()"
   ]
  },
  {
   "cell_type": "markdown",
   "id": "96248464",
   "metadata": {},
   "source": [
    "Now, let’s make the start date the index of the DataFrame. This will help us easily analyze our dataset because we can use slicing to find data representing our desired dates:"
   ]
  },
  {
   "cell_type": "code",
   "execution_count": null,
   "id": "a6b9bf9b",
   "metadata": {},
   "outputs": [],
   "source": [
    "df.index=df['Start_date']\n",
    "df['2020-04-24':'2020-04-24'].head()"
   ]
  },
  {
   "cell_type": "code",
   "execution_count": null,
   "id": "a90144b7",
   "metadata": {},
   "outputs": [],
   "source": []
  }
 ],
 "metadata": {
  "kernelspec": {
   "display_name": "Python 3 (ipykernel)",
   "language": "python",
   "name": "python3"
  },
  "language_info": {
   "codemirror_mode": {
    "name": "ipython",
    "version": 3
   },
   "file_extension": ".py",
   "mimetype": "text/x-python",
   "name": "python",
   "nbconvert_exporter": "python",
   "pygments_lexer": "ipython3",
   "version": "3.11.3"
  }
 },
 "nbformat": 4,
 "nbformat_minor": 5
}
