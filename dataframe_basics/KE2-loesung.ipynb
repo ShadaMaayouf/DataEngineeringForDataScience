{
 "cells": [
  {
   "cell_type": "raw",
   "metadata": {},
   "source": [
    "Name:\n",
    "Matrikelnummer:"
   ]
  },
  {
   "cell_type": "markdown",
   "metadata": {},
   "source": [
    "___"
   ]
  },
  {
   "cell_type": "code",
   "execution_count": null,
   "metadata": {
    "ExecuteTime": {
     "end_time": "2022-11-10T13:52:35.786855Z",
     "start_time": "2022-11-10T13:52:35.417568Z"
    }
   },
   "outputs": [],
   "source": [
    "# Imports\n",
    "import pandas as pd"
   ]
  },
  {
   "cell_type": "markdown",
   "metadata": {},
   "source": [
    "___\n",
    "**_Bitte beachten:_**\n",
    "\n",
    "- In Code-Zellen soll (bei Bedarf kommentierter) Code eingefügt werden. In Raw-Zellen erwarten wir Antworten im Freitext-Format.\n",
    "- Fragestellungen sind teilweise bewusst etwas offener formuliert, weil Sie auch im Arbeitsleben nur selten mit ganz spezifischen Anweisungen rechnen können. Es gibt häufig mehrere mögliche Lösungen, dies wird in der Korrektur  berücksichtigt.\n",
    "\n",
    "___"
   ]
  },
  {
   "cell_type": "markdown",
   "metadata": {},
   "source": [
    "# (I can't get no) satisfaction\n",
    "Wir werden in diesem Kurs mit einem Datensatz arbeiten, der verschiedene Informationen über Angestellte einer fiktiven Firma namens *Fiktiva* enthält. Mithilfe des Datensatzes soll die Fragestellung beantwortet werden, ob ein\\*e Angestellte\\*r in der Firma zufrieden ist (`satisfied = 1`) oder nicht (`satisfied = 0`). In dieser Kurseinheit werden wir uns mit den Daten vertraut machen und mit einigen Fragen zur Datenqualität auseinandersetzen.\n",
    "\n",
    "Manchmal werden zur Beantwortung von Fragen weitere Informationen benötigt. Sie können hierfür auch externe Quellen verwenden und bspw. die Datei `metadata.txt` zu Rate ziehen, aber auch alle Informationen aus dem Fiktiva-Newsletter. "
   ]
  },
  {
   "cell_type": "markdown",
   "metadata": {},
   "source": [
    "## Daten laden\n",
    "Den Datensatz (*employees_satisfaction.csv*) finden Sie im Moodle. Laden Sie ihn in ein Pandas-Dataframe. Geben Sie die ersten 10 Zeilen aus."
   ]
  },
  {
   "cell_type": "code",
   "execution_count": null,
   "metadata": {
    "ExecuteTime": {
     "end_time": "2022-11-10T13:52:35.835439Z",
     "start_time": "2022-11-10T13:52:35.789540Z"
    }
   },
   "outputs": [],
   "source": [
    "# Ihre Lösung\n",
    "# Hinweis: Laden Sie den Datensatz so, dass die erste Spalte als Index (Row Label) verwendet wird\n",
    "df = pd.read_csv(\"../data/employees_satisfaction.csv\", index_col=0)\n",
    "# Durch die Verwendung von index_col=0 verhindern wir eine extra Spalte am Anfang\n",
    "df.head(10)"
   ]
  },
  {
   "cell_type": "markdown",
   "metadata": {},
   "source": [
    "## Erste Datenanalyse"
   ]
  },
  {
   "cell_type": "markdown",
   "metadata": {},
   "source": [
    "Machen Sie sich mit den Daten vertraut:\n",
    "- Wie viele Zeilen hat der Datensatz?\n",
    "- Wie viele Spalten hat der Datensatz?\n",
    "- Welchen Datentyp haben die einzelnen Spalten?\n",
    "- Ermitteln Sie statistische Kennzeichen der numerischen Spalten.\n",
    "- Welche Informationen stellt der Datensatz für die Vorhersage der Zufriedenheit bereit? Beachten Sie hierfür auch die Angaben in der Datei `metadata.txt`\n",
    "- Gibt es fehlende Werte in den Daten?"
   ]
  },
  {
   "cell_type": "code",
   "execution_count": null,
   "metadata": {
    "ExecuteTime": {
     "end_time": "2022-11-10T13:52:35.846218Z",
     "start_time": "2022-11-10T13:52:35.842590Z"
    }
   },
   "outputs": [],
   "source": [
    "# Ihre Lösung (nutzen Sie dafür untenstehende Zellen)"
   ]
  },
  {
   "cell_type": "code",
   "execution_count": null,
   "metadata": {
    "ExecuteTime": {
     "end_time": "2022-11-10T13:52:35.865834Z",
     "start_time": "2022-11-10T13:52:35.853109Z"
    }
   },
   "outputs": [],
   "source": [
    "df.info()"
   ]
  },
  {
   "cell_type": "code",
   "execution_count": null,
   "metadata": {
    "ExecuteTime": {
     "end_time": "2022-11-10T13:52:35.873526Z",
     "start_time": "2022-11-10T13:52:35.868999Z"
    }
   },
   "outputs": [],
   "source": [
    "# Wie viele Zeilen hat der Datensatz? \n",
    "len(df)"
   ]
  },
  {
   "cell_type": "code",
   "execution_count": null,
   "metadata": {
    "ExecuteTime": {
     "end_time": "2022-11-10T13:52:35.909010Z",
     "start_time": "2022-11-10T13:52:35.876027Z"
    }
   },
   "outputs": [],
   "source": [
    "# Wie viele Spalten hat der Datensatz?\n",
    "len(df.columns)"
   ]
  },
  {
   "cell_type": "code",
   "execution_count": null,
   "metadata": {
    "ExecuteTime": {
     "end_time": "2022-11-10T13:52:35.921403Z",
     "start_time": "2022-11-10T13:52:35.913595Z"
    }
   },
   "outputs": [],
   "source": [
    "# Welche Spalten beinhaltet der Datensatz?\n",
    "df.columns"
   ]
  },
  {
   "cell_type": "code",
   "execution_count": null,
   "metadata": {
    "ExecuteTime": {
     "end_time": "2022-11-10T13:52:35.931941Z",
     "start_time": "2022-11-10T13:52:35.926262Z"
    }
   },
   "outputs": [],
   "source": [
    "# Welchen Datentyp haben die einzelnen Spalten?\n",
    "df.dtypes"
   ]
  },
  {
   "cell_type": "code",
   "execution_count": null,
   "metadata": {
    "ExecuteTime": {
     "end_time": "2022-11-10T13:52:35.960138Z",
     "start_time": "2022-11-10T13:52:35.934462Z"
    }
   },
   "outputs": [],
   "source": [
    "# Ermitteln Sie statistische Kennzeichen der numerischen Spalten.\n",
    "df.describe()"
   ]
  },
  {
   "cell_type": "code",
   "execution_count": null,
   "metadata": {
    "ExecuteTime": {
     "end_time": "2022-11-10T13:52:36.012198Z",
     "start_time": "2022-11-10T13:52:36.004803Z"
    }
   },
   "outputs": [],
   "source": [
    "# Gibt es fehlende Werte in den Daten?\n",
    "df.isna().sum()"
   ]
  },
  {
   "cell_type": "code",
   "execution_count": null,
   "metadata": {
    "ExecuteTime": {
     "end_time": "2022-11-10T13:52:36.031585Z",
     "start_time": "2022-11-10T13:52:36.016389Z"
    }
   },
   "outputs": [],
   "source": [
    "# Alternativen\n",
    "df.info()\n",
    "df.count()"
   ]
  },
  {
   "cell_type": "markdown",
   "metadata": {},
   "source": [
    "## Datenqualität\n",
    "\n",
    "*Hinweis: Bei den folgenden Fragen geht es um Ihre Einschätzung. Ziel ist es, sich mit dem Thema Datenqualität auseinanderzusetzen und sich mit Fragestellungen in Bezug auf Data Fitness, etc. zu beschäftigen.*\n",
    "\n",
    "Was denken Sie über den Datensatz? Ist dieser geeignet, um die Fragestellung über die Zufriedenheit der Angestellten zu beantworten? Reichen die angegebenen Informationen zur Beantwortung der Fragestellung aus? Wenn nicht, welche Informationen würden Sie noch verwenden?"
   ]
  },
  {
   "cell_type": "raw",
   "metadata": {},
   "source": [
    "Ihre Einschätzung:\n",
    "Die Informationen könnten teilweise hilfreich für die Beantwortung der Fragestellung sein, so könnte man z.B. analysieren, ob die Zufriedenheit vom Gehalt abhängig ist. Trotzdem ist die Zufriedenheit ein wesentlich komplexeres Thema und kann vermutlich nicht allein durch die hier angegebenen Informationen beantwortet werden. \n",
    "Zudem kann sich Zufriedenheit aus vielen unterschiedlichen Aspekten zusammensetzen, die Kategorien \"zufrieden\" und \"nicht zufrieden\" allein, können dieses komplexe Thema evtl. nicht abdecken."
   ]
  },
  {
   "cell_type": "markdown",
   "metadata": {},
   "source": [
    "Für welche weiteren Fragestellungen/Analysen könnte der Datensatz geeignet sein?"
   ]
  },
  {
   "cell_type": "raw",
   "metadata": {},
   "source": [
    "Ihre Einschätzung:\n",
    "- Gender Pay Gap\n",
    "- Analysen zum Alter der Angestellten\n",
    "- Hat sich das Recruiting über die Jahre geändert?\n",
    "- Geschlechterverteilung in den Abteilungen\n",
    "- Weitere siehe KE4"
   ]
  },
  {
   "cell_type": "markdown",
   "metadata": {},
   "source": [
    "Stellen Sie Überlegungen zur Datenerhebung an. Welche Faktoren könnten die Datenqualität beeinträchtigen?"
   ]
  },
  {
   "cell_type": "raw",
   "metadata": {},
   "source": [
    "Ihre Einschätzung:\n",
    "- Angestellte mussten ihre eindeutige ID angeben, somit ist die Umfrage nicht anonym. Dies könnte natürlich Einfluss auf die Beantwortung der Frage nach der Zufriedenheit haben.\n",
    "- Die Aussage könnte nur eine Momentaufnahme sein.\n",
    "- Es macht einen Unterschied, von wem und für wen die Daten erhoben wurden. Von dem/der Vorgesetzten, um über Kündigungen zu entscheiden? Um Kündigungen vorzubeugen? Von einer unabhängigen Insatz, um sich ein allgemeines Bild über die Angestellten-Zufriedenheit zu machen? Je nachdem, könnten Angestellte in ihrer Antwort beeinflusst werden."
   ]
  },
  {
   "cell_type": "markdown",
   "metadata": {},
   "source": [
    "Beurteilen Sie den Datensatz bzgl. der weiteren Aspekte zur Datenqualität, die Sie im Kurstext kennengelernt haben:"
   ]
  },
  {
   "cell_type": "code",
   "execution_count": null,
   "metadata": {
    "ExecuteTime": {
     "end_time": "2022-11-10T13:52:36.037939Z",
     "start_time": "2022-11-10T13:52:36.034962Z"
    }
   },
   "outputs": [],
   "source": [
    "# Platz für Analysen bzgl. der Datenqualität\n"
   ]
  },
  {
   "cell_type": "raw",
   "metadata": {},
   "source": [
    "Ihre Einschätzung:\n",
    "- Of known provenance: Dieser Punkt ist nicht so einfach zu beurteilen. Wir wissen, wie die Umfrage erhoben wurde und mit Daten aus dem System verknüpft wurde. Allerdings haben wir keine weiteren Informationen übr diesen Prozess und wie vetrauenswürdig die Daten sind.\n",
    "- Well-annotated: Die Datei metadata.txt beinhaltet Informationen zu den Daten.\n",
    "- Timely: Im Newsletter ist zu lesen, dass die Firma im Jahr 2004 gegründet wurde und die Umfrage im Februar 2021 erhoben wurde. Da in dem Datensatz Daten von 2004-2020 vorliegen, ist dieses Qualitätskriterium gegeben.\n",
    "- Complete: Teilweise fehlende Werte (werden in KE3 behandelt).\n",
    "- High volume: Im Newsletter ist zu lesen, dass im Dezember 2020 der 500. Mitarbeiter angestellt wurde. Insgesamt befinden sich 500. Zeilen in dem Datensatz, der letzte vom Dezember 2020. Die Informationen zu diesem Mitarbeiter stimmen mit denen, die im Newsletter angegeben wurden, überein. Wir können also davon ausgehen, dass dieses Qualitätskriterium gegeben ist.\n",
    "- Multivariate: Insgesamt stehen uns in diesem Datensazt 14 Features zur Verfügung, bzw. 13 zur Vorhersage der Zufriedenheit.\n",
    "- Atomic: Größtenteils gegegeben (keine Aggregationen), aber 0 und 1 keine detaillierte Beschreibung für Zufriedenheit.\n",
    "- Consistent: Teilweise nicht gegegeben (siehe Spalte \"gender\"), wird in KE3 behandelt.\n",
    "- Clear: Teilweise nicht gegeben (siehe UG/PG in Spalte education), wird in KE3 behandelt.\n",
    "- Dimensionally structured: Größtenteils gegegeben."
   ]
  },
  {
   "cell_type": "markdown",
   "metadata": {},
   "source": [
    "Stellen Sie sich vor, dieser Datensatz soll dazu verwendet werden, um die Zufriedenheit von Angestellten vorherzusagen und daraus wiederum Rückschlüsse auf das Kündigungswahrscheinlichkeiten zu schließen. Für wie zuverlässig würden Sie entsprechende Wahrscheinlichkeiten halten?"
   ]
  },
  {
   "cell_type": "raw",
   "metadata": {},
   "source": [
    "Ihre Einschätzung:\n",
    "- Wie bereits erwähnt, kann sich Zufriedenheit aus vielen unterschiedlichen Aspekten zusammensetzen, die Kategorien \"zufrieden\" und \"nicht zufrieden\" allein, können dieses komplexe Thema evtl. nicht abdecken.\n",
    "- Wie in der Antwort auf die vorherige Frage beschrieben, könnte die Angabe zur Zufriedenheit zum einen lediglich eine Momentaufnahme sein und zum anderen aufgrund unterschiedlicher Faktoren (nicht-anonymisiert) evtl. nicht ehrlich beantwortet worden sein.\n",
    "- Die Zufriedenheit alleine reicht vermutlich nicht aus, um Rückschlüsse auf Kündigungswahrscheinlichekiten zu schließen. Bei unzufriedenen Angestellten wäre die Wahrscheinlichkeit zwar vermutlich höher, dass sie kündigen, aber auch zufriedene Angestellte können aus unterschiedlichen Gründen kündigen, bspw. weil sie sich thematisch verändern wollen oder weil sich ihre Lebensbedingungen ändern oder der Standort nicht mehr für sie passt.\n",
    "-> Genannte Wahrscheinlichkeiten zum Kündigungsverhalten wären vermutlich nicht sehr zuverlässig."
   ]
  },
  {
   "cell_type": "markdown",
   "metadata": {},
   "source": [
    "Nehmen Sie an, mithilfe des Datensatzes wäre ein zuverlässiges Modell mit guten Vorhersagewahrscheinlichkeiten trainiert worden, um die Zufriedenheit der Angestellten zu bestimmen. Nun möchte eine andere Firma aus der gleichen Branche dasselbe Modell für ihre Angestellten nutzen. Denken Sie, das Modell würde auch für die andere Firma zuverlässige Vorhersagen treffen?"
   ]
  },
  {
   "cell_type": "raw",
   "metadata": {},
   "source": [
    "Ihre Einschätzung:\n",
    "Nur weil das Modell für eine Firma gut funktioniert, bedeutet das nicht, dass es auch in einer anderen Firma zuverlässige Ergebnisse liefert, auch wenn sich dieses in der gleichen Branche befindet."
   ]
  },
  {
   "cell_type": "markdown",
   "metadata": {},
   "source": [
    "Überlegen Sie, welche Vorverarbeitungsschritte für den Datensatz notwendig wären."
   ]
  },
  {
   "cell_type": "raw",
   "metadata": {},
   "source": [
    "Ihre Einschätzung:\n",
    "Mögliche Vorverarbeitungsschritte:\n",
    "- Ersetzen fehlender Werte von gender und last_raise\n",
    "- Vereinheitlichen der Spalte gender\n",
    "- Tranformieren des Gehalts von Dollar in Euro\n",
    "- Weitere Schritte siehe Aufgaben KE3"
   ]
  }
 ],
 "metadata": {
  "kernelspec": {
   "display_name": "Python 3 (ipykernel)",
   "language": "python",
   "name": "python3"
  },
  "language_info": {
   "codemirror_mode": {
    "name": "ipython",
    "version": 3
   },
   "file_extension": ".py",
   "mimetype": "text/x-python",
   "name": "python",
   "nbconvert_exporter": "python",
   "pygments_lexer": "ipython3",
   "version": "3.10.7"
  },
  "toc": {
   "base_numbering": "1",
   "nav_menu": {},
   "number_sections": true,
   "sideBar": true,
   "skip_h1_title": true,
   "title_cell": "Table of Contents",
   "title_sidebar": "Contents",
   "toc_cell": false,
   "toc_position": {
    "height": "calc(100% - 180px)",
    "left": "10px",
    "top": "150px",
    "width": "384px"
   },
   "toc_section_display": true,
   "toc_window_display": true
  }
 },
 "nbformat": 4,
 "nbformat_minor": 4
}
