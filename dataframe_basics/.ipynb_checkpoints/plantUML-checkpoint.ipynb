{
 "cells": [
  {
   "cell_type": "markdown",
   "metadata": {},
   "source": [
    "# PlantUML [Class diagrams](https://plantuml.com/class-diagram)\n",
    "\n",
    "First you need to install ```plantuml``` and ```iplantuml``` in your project using the following commands:\n",
    "\n",
    "```pip install plantuml```\n",
    "\n",
    "```pip install iplantuml```\n",
    "\n",
    "Then import both packages to your script as usual:"
   ]
  },
  {
   "cell_type": "code",
   "execution_count": 4,
   "metadata": {},
   "outputs": [],
   "source": [
    "import iplantuml\n",
    "import plantuml"
   ]
  },
  {
   "cell_type": "markdown",
   "metadata": {
    "collapsed": true
   },
   "source": [
    "Each script needs to be declared by ```%%plantuml```, started with ```@startuml``` and ended with ```@enduml```.\n",
    "The output will be the generated SVG UML diagram.\n",
    "The name you enter ```%%plantuml```, is the name given for both files of ```$name.uml``` and ```$name.svg```.\n",
    "\n",
    "## 1.  Class declarations\n",
    "\n",
    "A class is defined as the following:"
   ]
  },
  {
   "cell_type": "code",
   "execution_count": 7,
   "metadata": {},
   "outputs": [
    {
     "data": {
      "image/svg+xml": [
       "<svg xmlns=\"http://www.w3.org/2000/svg\" xmlns:xlink=\"http://www.w3.org/1999/xlink\" contentStyleType=\"text/css\" height=\"134px\" preserveAspectRatio=\"none\" style=\"width:144px;height:134px;background:#FFFFFF;\" version=\"1.1\" viewBox=\"0 0 144 134\" width=\"144px\" zoomAndPan=\"magnify\"><defs/><g><!--class d--><g id=\"elem_d\"><rect codeLine=\"1\" fill=\"#F1F1F1\" height=\"113.1875\" id=\"d\" rx=\"2.5\" ry=\"2.5\" style=\"stroke:#181818;stroke-width:0.5;\" width=\"123\" x=\"7\" y=\"7\"/><ellipse cx=\"22.45\" cy=\"23\" fill=\"#ADD1B2\" rx=\"11\" ry=\"11\" style=\"stroke:#181818;stroke-width:1.0;\"/><path d=\"M24.7938,18.6719 C23.8563,18.2344 23.2625,18.0938 22.3875,18.0938 C19.7625,18.0938 17.7625,20.1719 17.7625,22.8906 L17.7625,24.0156 C17.7625,26.5938 19.8719,28.4844 22.7625,28.4844 C23.9813,28.4844 25.1375,28.1875 25.8875,27.6406 C26.4656,27.2344 26.7938,26.7813 26.7938,26.3906 C26.7938,25.9375 26.4031,25.5469 25.9344,25.5469 C25.7156,25.5469 25.5125,25.625 25.325,25.8125 C24.8719,26.2969 24.8719,26.2969 24.6844,26.3906 C24.2625,26.6563 23.575,26.7813 22.8094,26.7813 C20.7625,26.7813 19.4656,25.6875 19.4656,23.9844 L19.4656,22.8906 C19.4656,21.1094 20.7156,19.7969 22.45,19.7969 C23.0281,19.7969 23.6375,19.9531 24.1063,20.2031 C24.5906,20.4844 24.7625,20.7031 24.8563,21.1094 C24.9188,21.5156 24.95,21.6406 25.0906,21.7656 C25.2313,21.9063 25.4656,22.0156 25.6844,22.0156 C25.95,22.0156 26.2156,21.875 26.3875,21.6563 C26.4969,21.5 26.5281,21.3125 26.5281,20.8906 L26.5281,19.4688 C26.5281,19.0313 26.5125,18.9063 26.4188,18.75 C26.2625,18.4844 25.9813,18.3438 25.6844,18.3438 C25.3875,18.3438 25.1844,18.4375 24.9656,18.75 L24.7938,18.6719 Z \" fill=\"#000000\"/><text fill=\"#000000\" font-family=\"sans-serif\" font-size=\"14\" lengthAdjust=\"spacing\" textLength=\"90\" x=\"36.55\" y=\"27.8467\">Department</text><line style=\"stroke:#181818;stroke-width:0.5;\" x1=\"8\" x2=\"129\" y1=\"39\" y2=\"39\"/><ellipse cx=\"18\" cy=\"52.6484\" fill=\"#000000\" rx=\"3\" ry=\"3\" style=\"stroke:#000000;stroke-width:1.0;\"/><text fill=\"#000000\" font-family=\"sans-serif\" font-size=\"14\" font-weight=\"bold\" lengthAdjust=\"spacing\" textLength=\"97\" x=\"27\" y=\"55.9951\">id : int «PK»</text><ellipse cx=\"18\" cy=\"68.9453\" fill=\"#000000\" rx=\"3\" ry=\"3\" style=\"stroke:#000000;stroke-width:1.0;\"/><text fill=\"#000000\" font-family=\"sans-serif\" font-size=\"14\" lengthAdjust=\"spacing\" textLength=\"95\" x=\"27\" y=\"72.292\">name : string</text><ellipse cx=\"18\" cy=\"85.2422\" fill=\"#000000\" rx=\"3\" ry=\"3\" style=\"stroke:#000000;stroke-width:1.0;\"/><text fill=\"#000000\" font-family=\"sans-serif\" font-size=\"14\" lengthAdjust=\"spacing\" textLength=\"82\" x=\"27\" y=\"88.5889\">city : string</text><ellipse cx=\"18\" cy=\"101.5391\" fill=\"#000000\" rx=\"3\" ry=\"3\" style=\"stroke:#000000;stroke-width:1.0;\"/><text fill=\"#000000\" font-family=\"sans-serif\" font-size=\"14\" lengthAdjust=\"spacing\" textLength=\"97\" x=\"27\" y=\"104.8857\">zip_code : int</text><line style=\"stroke:#181818;stroke-width:0.5;\" x1=\"8\" x2=\"129\" y1=\"112.1875\" y2=\"112.1875\"/></g><!--SRC=[Iyv9B2vMK799BKWiAibDpIjHKaWiLaXHgEPI008j1Isjp1G5AuNCl1856vi0RpixBIseJ5vYRYfGfhYaA3Cl7IgMd5bIYIvMbLaGdvoVaWenXQiM0000]--></g></svg>"
      ],
      "text/plain": [
       "<IPython.core.display.SVG object>"
      ]
     },
     "execution_count": 7,
     "metadata": {},
     "output_type": "execute_result"
    }
   ],
   "source": [
    "%%plantuml\n",
    "@startuml\n",
    "\n",
    "class \"Department\" as d {\n",
    "    * **id : int <<PK>>**\n",
    "    * name : string\n",
    "    * city : string\n",
    "    * zip_code : int\n",
    "}\n",
    "\n",
    "@enduml"
   ]
  },
  {
   "attachments": {},
   "cell_type": "markdown",
   "metadata": {},
   "source": [
    "Where ```Department``` is the **name of the class**, ```d``` is its alias (**variable** of reference) and ```id, name, city and zip_code```are it's **attributes**.\n",
    "As such we'll add two more classes ```Projects``` and ```Employees```.\n",
    "\n",
    "In  order to make the class object look more like a data entity, we can make use of the hide and show features of plantuml. We need to remove the Circle with \"C\" in it, the members field at the bottom and make sure the fields (attributes) are showing.\n",
    "We can also give it a title:"
   ]
  },
  {
   "cell_type": "code",
   "execution_count": 36,
   "metadata": {},
   "outputs": [
    {
     "data": {
      "image/svg+xml": [
       "<svg xmlns=\"http://www.w3.org/2000/svg\" xmlns:xlink=\"http://www.w3.org/1999/xlink\" contentStyleType=\"text/css\" height=\"157px\" preserveAspectRatio=\"none\" style=\"width:222px;height:157px;background:#FFFFFF;\" version=\"1.1\" viewBox=\"0 0 222 157\" width=\"222px\" zoomAndPan=\"magnify\"><defs/><g><text fill=\"#000000\" font-family=\"sans-serif\" font-size=\"14\" font-weight=\"bold\" lengthAdjust=\"spacing\" textLength=\"194\" x=\"10\" y=\"22.9951\">Department data entity</text><!--class d--><g id=\"elem_d\"><rect codeLine=\"7\" fill=\"#F1F1F1\" height=\"99.4844\" id=\"d\" rx=\"2.5\" ry=\"2.5\" style=\"stroke:#181818;stroke-width:0.5;\" width=\"123\" x=\"46\" y=\"44.2969\"/><text fill=\"#000000\" font-family=\"sans-serif\" font-size=\"14\" lengthAdjust=\"spacing\" textLength=\"90\" x=\"62.5\" y=\"62.292\">Department</text><line style=\"stroke:#181818;stroke-width:0.5;\" x1=\"47\" x2=\"168\" y1=\"70.5938\" y2=\"70.5938\"/><ellipse cx=\"57\" cy=\"84.2422\" fill=\"#000000\" rx=\"3\" ry=\"3\" style=\"stroke:#000000;stroke-width:1.0;\"/><text fill=\"#000000\" font-family=\"sans-serif\" font-size=\"14\" font-weight=\"bold\" lengthAdjust=\"spacing\" textLength=\"97\" x=\"66\" y=\"87.5889\">id : int «PK»</text><ellipse cx=\"57\" cy=\"100.5391\" fill=\"#000000\" rx=\"3\" ry=\"3\" style=\"stroke:#000000;stroke-width:1.0;\"/><text fill=\"#000000\" font-family=\"sans-serif\" font-size=\"14\" lengthAdjust=\"spacing\" textLength=\"95\" x=\"66\" y=\"103.8857\">name : string</text><ellipse cx=\"57\" cy=\"116.8359\" fill=\"#000000\" rx=\"3\" ry=\"3\" style=\"stroke:#000000;stroke-width:1.0;\"/><text fill=\"#000000\" font-family=\"sans-serif\" font-size=\"14\" lengthAdjust=\"spacing\" textLength=\"82\" x=\"66\" y=\"120.1826\">city : string</text><ellipse cx=\"57\" cy=\"133.1328\" fill=\"#000000\" rx=\"3\" ry=\"3\" style=\"stroke:#000000;stroke-width:1.0;\"/><text fill=\"#000000\" font-family=\"sans-serif\" font-size=\"14\" lengthAdjust=\"spacing\" textLength=\"97\" x=\"66\" y=\"136.4795\">zip_code : int</text></g><!--SRC=[NOt12i8m44Jl-nL3Z_a4AJrvy-8Vo9giTY59ItP1LFnt0oq8pccO1szSFGkEidBp8jMHs1czg3-9Pas2g2rcsNgHSfLcPFFom4qb9oEAcSqm_2G3s93m9lG4XA091sYtZ-FvD4qXxAHoaKxCczRxliN-_B-zTBt49SbceSyN]--></g></svg>"
      ],
      "text/plain": [
       "<IPython.core.display.SVG object>"
      ]
     },
     "execution_count": 36,
     "metadata": {},
     "output_type": "execute_result"
    }
   ],
   "source": [
    "%%plantuml\n",
    "@startuml\n",
    "\n",
    "title Department data entity\n",
    "\n",
    "hide circle\n",
    "hide members\n",
    "show fields\n",
    "\n",
    "class \"Department\" as d {\n",
    "    * **id : int <<PK>>**\n",
    "    * name : string\n",
    "    * city : string\n",
    "    * zip_code : int\n",
    "}\n",
    "\n",
    "@enduml"
   ]
  },
  {
   "cell_type": "markdown",
   "metadata": {},
   "source": [
    "\n",
    "## 2. Arrows and links:\n",
    "\n",
    "A regular link between two data entities would be using ```--``` as follows:"
   ]
  },
  {
   "cell_type": "code",
   "execution_count": 18,
   "metadata": {},
   "outputs": [
    {
     "data": {
      "image/svg+xml": [
       "<svg xmlns=\"http://www.w3.org/2000/svg\" xmlns:xlink=\"http://www.w3.org/1999/xlink\" contentStyleType=\"text/css\" height=\"321px\" preserveAspectRatio=\"none\" style=\"width:234px;height:321px;background:#FFFFFF;\" version=\"1.1\" viewBox=\"0 0 234 321\" width=\"234px\" zoomAndPan=\"magnify\"><defs/><g><!--class d--><g id=\"elem_d\"><rect codeLine=\"6\" fill=\"#F1F1F1\" height=\"99.4844\" id=\"d\" rx=\"2.5\" ry=\"2.5\" style=\"stroke:#181818;stroke-width:0.5;\" width=\"123\" x=\"55.5\" y=\"7\"/><text fill=\"#000000\" font-family=\"sans-serif\" font-size=\"14\" lengthAdjust=\"spacing\" textLength=\"90\" x=\"72\" y=\"24.9951\">Department</text><line style=\"stroke:#181818;stroke-width:0.5;\" x1=\"56.5\" x2=\"177.5\" y1=\"33.2969\" y2=\"33.2969\"/><ellipse cx=\"66.5\" cy=\"46.9453\" fill=\"#000000\" rx=\"3\" ry=\"3\" style=\"stroke:#000000;stroke-width:1.0;\"/><text fill=\"#000000\" font-family=\"sans-serif\" font-size=\"14\" font-weight=\"bold\" lengthAdjust=\"spacing\" textLength=\"97\" x=\"75.5\" y=\"50.292\">id : int «PK»</text><ellipse cx=\"66.5\" cy=\"63.2422\" fill=\"#000000\" rx=\"3\" ry=\"3\" style=\"stroke:#000000;stroke-width:1.0;\"/><text fill=\"#000000\" font-family=\"sans-serif\" font-size=\"14\" lengthAdjust=\"spacing\" textLength=\"95\" x=\"75.5\" y=\"66.5889\">name : string</text><ellipse cx=\"66.5\" cy=\"79.5391\" fill=\"#000000\" rx=\"3\" ry=\"3\" style=\"stroke:#000000;stroke-width:1.0;\"/><text fill=\"#000000\" font-family=\"sans-serif\" font-size=\"14\" lengthAdjust=\"spacing\" textLength=\"82\" x=\"75.5\" y=\"82.8857\">city : string</text><ellipse cx=\"66.5\" cy=\"95.8359\" fill=\"#000000\" rx=\"3\" ry=\"3\" style=\"stroke:#000000;stroke-width:1.0;\"/><text fill=\"#000000\" font-family=\"sans-serif\" font-size=\"14\" lengthAdjust=\"spacing\" textLength=\"97\" x=\"75.5\" y=\"99.1826\">zip_code : int</text></g><!--class p--><g id=\"elem_p\"><rect codeLine=\"13\" fill=\"#F1F1F1\" height=\"148.375\" id=\"p\" rx=\"2.5\" ry=\"2.5\" style=\"stroke:#181818;stroke-width:0.5;\" width=\"220\" x=\"7\" y=\"166\"/><text fill=\"#000000\" font-family=\"sans-serif\" font-size=\"14\" lengthAdjust=\"spacing\" textLength=\"59\" x=\"87.5\" y=\"183.9951\">Projects</text><line style=\"stroke:#181818;stroke-width:0.5;\" x1=\"8\" x2=\"226\" y1=\"192.2969\" y2=\"192.2969\"/><ellipse cx=\"18\" cy=\"205.9453\" fill=\"#000000\" rx=\"3\" ry=\"3\" style=\"stroke:#000000;stroke-width:1.0;\"/><text fill=\"#FF6347\" font-family=\"sans-serif\" font-size=\"14\" font-weight=\"bold\" lengthAdjust=\"spacing\" textLength=\"97\" x=\"27\" y=\"209.292\">id : int «PK»</text><ellipse cx=\"18\" cy=\"222.2422\" fill=\"#000000\" rx=\"3\" ry=\"3\" style=\"stroke:#000000;stroke-width:1.0;\"/><text fill=\"#000000\" font-family=\"sans-serif\" font-size=\"14\" font-weight=\"bold\" lengthAdjust=\"spacing\" textLength=\"194\" x=\"27\" y=\"225.5889\">department_id: int «FK»</text><ellipse cx=\"18\" cy=\"238.5391\" fill=\"#000000\" rx=\"3\" ry=\"3\" style=\"stroke:#000000;stroke-width:1.0;\"/><text fill=\"#000000\" font-family=\"sans-serif\" font-size=\"14\" lengthAdjust=\"spacing\" textLength=\"82\" x=\"27\" y=\"241.8857\">title: string</text><ellipse cx=\"18\" cy=\"254.8359\" fill=\"#000000\" rx=\"3\" ry=\"3\" style=\"stroke:#000000;stroke-width:1.0;\"/><text fill=\"#000000\" font-family=\"sans-serif\" font-size=\"14\" lengthAdjust=\"spacing\" textLength=\"131\" x=\"27\" y=\"258.1826\">proj_image: string</text><ellipse cx=\"18\" cy=\"271.1328\" fill=\"#000000\" rx=\"3\" ry=\"3\" style=\"stroke:#000000;stroke-width:1.0;\"/><text fill=\"#000000\" font-family=\"sans-serif\" font-size=\"14\" lengthAdjust=\"spacing\" textLength=\"95\" x=\"27\" y=\"274.4795\">budget: float</text><ellipse cx=\"18\" cy=\"287.4297\" fill=\"#000000\" rx=\"3\" ry=\"3\" style=\"stroke:#000000;stroke-width:1.0;\"/><text fill=\"#000000\" font-family=\"sans-serif\" font-size=\"14\" lengthAdjust=\"spacing\" textLength=\"126\" x=\"27\" y=\"290.7764\">start_date: string</text><ellipse cx=\"18\" cy=\"303.7266\" fill=\"#000000\" rx=\"3\" ry=\"3\" style=\"stroke:#000000;stroke-width:1.0;\"/><text fill=\"#000000\" font-family=\"sans-serif\" font-size=\"14\" lengthAdjust=\"spacing\" textLength=\"118\" x=\"27\" y=\"307.0732\">end_date: string</text></g><!--link d to p--><g id=\"link_d_p\"><path codeLine=\"24\" d=\"M117,106.139 C117,124.515 117,145.85 117,165.976 \" fill=\"none\" id=\"d-p\" style=\"stroke:#181818;stroke-width:1.0;\"/></g><!--SRC=[RP0_QyCm4CLtVOeZIq0GkXlZgNJfag6xKNHd-rhzCReBfItzxbKT9wIcMYH-ztZldIP60i_51pBJxpjIF54H8rD-Xu4fe1YpHneuSHh11oT2OfORTeyqkwAHakx02I1y6QZ7WhMCq00dXROzFdUTjUiakKXr8bggtyeywyUMVVBS-unqSJ7VvffvBFcLlCgIE2-15bgVGoxDIuvES_TFUlkmA3gpriDRyvxnAdsw5RMWh87kErcOQtBFqOqRVZhZIDh04BBJ2nAjxZqwtKWfuLzQzze7Jc_tdujmEC3y0m00]--></g></svg>"
      ],
      "text/plain": [
       "<IPython.core.display.SVG object>"
      ]
     },
     "execution_count": 18,
     "metadata": {},
     "output_type": "execute_result"
    }
   ],
   "source": [
    "%%plantuml\n",
    "@startuml\n",
    "hide circle\n",
    "hide members\n",
    "show fields\n",
    "\n",
    "'defining classes\n",
    "class \"Department\" as d {\n",
    "    * **id : int <<PK>>**\n",
    "    * name : string\n",
    "    * city : string\n",
    "    * zip_code : int\n",
    "}\n",
    "\n",
    "class \"Projects\" as p {\n",
    "   * <color:Tomato>**id : int <<PK>>**</color>\n",
    "   * **department_id: int <<FK>>**\n",
    "   * title: string\n",
    "   * proj_image: string\n",
    "   * budget: float\n",
    "   * start_date: string\n",
    "   * end_date: string\n",
    "}\n",
    "\n",
    "'linking classes\n",
    "d -- p\n",
    "\n",
    "@enduml"
   ]
  },
  {
   "cell_type": "markdown",
   "metadata": {},
   "source": [
    "By default, links between classes have two dashes ```--``` and are **vertically oriented**. It is possible to use **horizontal** link by putting a single dash ```-``` (or dot) like this:"
   ]
  },
  {
   "cell_type": "code",
   "execution_count": 25,
   "metadata": {},
   "outputs": [
    {
     "data": {
      "image/svg+xml": [
       "<svg xmlns=\"http://www.w3.org/2000/svg\" xmlns:xlink=\"http://www.w3.org/1999/xlink\" contentStyleType=\"text/css\" height=\"236px\" preserveAspectRatio=\"none\" style=\"width:423px;height:236px;background:#FFFFFF;\" version=\"1.1\" viewBox=\"0 0 423 236\" width=\"423px\" zoomAndPan=\"magnify\"><defs/><g><!--class company--><g id=\"elem_company\"><rect fill=\"#F1F1F1\" height=\"34.2969\" id=\"company\" rx=\"2.5\" ry=\"2.5\" style=\"stroke:#181818;stroke-width:0.5;\" width=\"72\" x=\"59\" y=\"7\"/><text fill=\"#000000\" font-family=\"sans-serif\" font-size=\"14\" lengthAdjust=\"spacing\" textLength=\"66\" x=\"62\" y=\"24.9951\">company</text><line style=\"stroke:#181818;stroke-width:0.5;\" x1=\"60\" x2=\"130\" y1=\"33.2969\" y2=\"33.2969\"/></g><!--class department--><g id=\"elem_department\"><rect fill=\"#F1F1F1\" height=\"34.2969\" id=\"department\" rx=\"2.5\" ry=\"2.5\" style=\"stroke:#181818;stroke-width:0.5;\" width=\"94\" x=\"48\" y=\"101\"/><text fill=\"#000000\" font-family=\"sans-serif\" font-size=\"14\" lengthAdjust=\"spacing\" textLength=\"88\" x=\"51\" y=\"118.9951\">department</text><line style=\"stroke:#181818;stroke-width:0.5;\" x1=\"49\" x2=\"141\" y1=\"127.2969\" y2=\"127.2969\"/></g><!--class project--><g id=\"elem_project\"><rect fill=\"#F1F1F1\" height=\"34.2969\" id=\"project\" rx=\"2.5\" ry=\"2.5\" style=\"stroke:#181818;stroke-width:0.5;\" width=\"59\" x=\"177.5\" y=\"101\"/><text fill=\"#000000\" font-family=\"sans-serif\" font-size=\"14\" lengthAdjust=\"spacing\" textLength=\"53\" x=\"180.5\" y=\"118.9951\">project</text><line style=\"stroke:#181818;stroke-width:0.5;\" x1=\"178.5\" x2=\"235.5\" y1=\"127.2969\" y2=\"127.2969\"/></g><!--class employee--><g id=\"elem_employee\"><rect fill=\"#F1F1F1\" height=\"34.2969\" id=\"employee\" rx=\"2.5\" ry=\"2.5\" style=\"stroke:#181818;stroke-width:0.5;\" width=\"78\" x=\"7\" y=\"195\"/><text fill=\"#000000\" font-family=\"sans-serif\" font-size=\"14\" lengthAdjust=\"spacing\" textLength=\"72\" x=\"10\" y=\"212.9951\">employee</text><line style=\"stroke:#181818;stroke-width:0.5;\" x1=\"8\" x2=\"84\" y1=\"221.2969\" y2=\"221.2969\"/></g><!--class client--><g id=\"elem_client\"><rect fill=\"#F1F1F1\" height=\"34.2969\" id=\"client\" rx=\"2.5\" ry=\"2.5\" style=\"stroke:#181818;stroke-width:0.5;\" width=\"47\" x=\"120.5\" y=\"195\"/><text fill=\"#000000\" font-family=\"sans-serif\" font-size=\"14\" lengthAdjust=\"spacing\" textLength=\"41\" x=\"123.5\" y=\"212.9951\">client</text><line style=\"stroke:#181818;stroke-width:0.5;\" x1=\"121.5\" x2=\"166.5\" y1=\"221.2969\" y2=\"221.2969\"/></g><!--class Room--><g id=\"elem_Room\"><rect fill=\"#F1F1F1\" height=\"34.2969\" id=\"Room\" rx=\"2.5\" ry=\"2.5\" style=\"stroke:#181818;stroke-width:0.5;\" width=\"48\" x=\"269\" y=\"7\"/><text fill=\"#000000\" font-family=\"sans-serif\" font-size=\"14\" lengthAdjust=\"spacing\" textLength=\"42\" x=\"272\" y=\"24.9951\">Room</text><line style=\"stroke:#181818;stroke-width:0.5;\" x1=\"270\" x2=\"316\" y1=\"33.2969\" y2=\"33.2969\"/></g><!--class Student--><g id=\"elem_Student\"><rect fill=\"#F1F1F1\" height=\"34.2969\" id=\"Student\" rx=\"2.5\" ry=\"2.5\" style=\"stroke:#181818;stroke-width:0.5;\" width=\"64\" x=\"352\" y=\"7\"/><text fill=\"#000000\" font-family=\"sans-serif\" font-size=\"14\" lengthAdjust=\"spacing\" textLength=\"58\" x=\"355\" y=\"24.9951\">Student</text><line style=\"stroke:#181818;stroke-width:0.5;\" x1=\"353\" x2=\"415\" y1=\"33.2969\" y2=\"33.2969\"/></g><!--class Chair--><g id=\"elem_Chair\"><rect fill=\"#F1F1F1\" height=\"34.2969\" id=\"Chair\" rx=\"2.5\" ry=\"2.5\" style=\"stroke:#181818;stroke-width:0.5;\" width=\"43\" x=\"271.5\" y=\"101\"/><text fill=\"#000000\" font-family=\"sans-serif\" font-size=\"14\" lengthAdjust=\"spacing\" textLength=\"37\" x=\"274.5\" y=\"118.9951\">Chair</text><line style=\"stroke:#181818;stroke-width:0.5;\" x1=\"272.5\" x2=\"313.5\" y1=\"127.2969\" y2=\"127.2969\"/></g><!--reverse link company to department--><g id=\"link_company_department\"><path codeLine=\"6\" d=\"M95,47.025 C95,63.808 95,84.02 95,100.85 \" fill=\"none\" id=\"company-backto-department\" style=\"stroke:#181818;stroke-width:1.0;\"/><polygon fill=\"#181818\" points=\"95,41.025,91,50.025,95,46.025,99,50.025,95,41.025\" style=\"stroke:#181818;stroke-width:1.0;\"/></g><!--link department to project--><g id=\"link_department_project\"><path codeLine=\"7\" d=\"M142.25,118 C153.969,118 165.688,118 177.407,118 \" fill=\"none\" id=\"department-project\" style=\"stroke:#181818;stroke-width:1.0;\"/></g><!--reverse link department to employee--><g id=\"link_department_employee\"><path codeLine=\"8\" d=\"M80.8238,145.6166 C71.885,162.3996 63.5654,178.0201 54.6017,194.8498 \" fill=\"none\" id=\"department-backto-employee\" style=\"stroke:#181818;stroke-width:1.0;\"/><polygon fill=\"#181818\" points=\"86.4649,135.0252,80.1139,138.4405,80.8238,145.6166,87.1748,142.2013,86.4649,135.0252\" style=\"stroke:#181818;stroke-width:1.0;\"/></g><!--link department to client--><g id=\"link_department_client\"><path codeLine=\"9\" d=\"M103.5351,135.0252 C112.474,151.8082 126.435,178.0201 135.398,194.8498 \" fill=\"none\" id=\"department-client\" style=\"stroke:#181818;stroke-width:1.0;\"/></g><!--reverse link Room to Student--><g id=\"link_Room_Student\"><path codeLine=\"10\" d=\"M329.172,24 C340.745,24 340.318,24 351.891,24 \" fill=\"none\" id=\"Room-backto-Student\" style=\"stroke:#181818;stroke-width:1.0;\"/><polygon fill=\"none\" points=\"317.172,24,323.172,28,329.172,24,323.172,20,317.172,24\" style=\"stroke:#181818;stroke-width:1.0;\"/></g><!--link Room to Chair--><g id=\"link_Room_Chair\"><path codeLine=\"11\" d=\"M293,41.025 C293,57.808 293,72.02 293,88.85 \" fill=\"none\" id=\"Room-to-Chair\" style=\"stroke:#181818;stroke-width:1.0;\"/><polygon fill=\"#181818\" points=\"293,100.85,297,94.85,293,88.85,289,94.85,293,100.85\" style=\"stroke:#181818;stroke-width:1.0;\"/></g><!--SRC=[LOn13i8m30JlVeLlI9Ny0sxy05uGaeKOuZXAYb1_t_O2wcrsDPgi2HornmBAEnliZZvePF_oGr7I83eLhM-jJuubZ851qQs5kl1PX1DQwBEXplH75cxTNuY7SzfqM2k-00TPjhBkXQkxiGlVva_wRP69BpbeNm40]--></g></svg>"
      ],
      "text/plain": [
       "<IPython.core.display.SVG object>"
      ]
     },
     "execution_count": 25,
     "metadata": {},
     "output_type": "execute_result"
    }
   ],
   "source": [
    "%%plantuml\n",
    "@startuml\n",
    "hide circle\n",
    "hide members\n",
    "show fields\n",
    "\n",
    "'linking classes\n",
    "company <-- department\n",
    "department - project\n",
    "department *-- employee\n",
    "department -- client\n",
    "Room o- Student\n",
    "Room --* Chair\n",
    "\n",
    "@enduml"
   ]
  },
  {
   "cell_type": "markdown",
   "metadata": {},
   "source": [
    "It is also possible to change arrow direction by adding ```left, right, up, down```\n",
    "> [!IMPORTANT] Please note that you should not abuse this functionality."
   ]
  },
  {
   "cell_type": "code",
   "execution_count": 27,
   "metadata": {},
   "outputs": [
    {
     "data": {
      "image/svg+xml": [
       "<svg xmlns=\"http://www.w3.org/2000/svg\" xmlns:xlink=\"http://www.w3.org/1999/xlink\" contentStyleType=\"text/css\" height=\"278px\" preserveAspectRatio=\"none\" style=\"width:379px;height:278px;background:#FFFFFF;\" version=\"1.1\" viewBox=\"0 0 379 278\" width=\"379px\" zoomAndPan=\"magnify\"><defs/><g><!--class foo--><g id=\"elem_foo\"><rect fill=\"#F1F1F1\" height=\"48\" id=\"foo\" rx=\"2.5\" ry=\"2.5\" style=\"stroke:#181818;stroke-width:0.5;\" width=\"56\" x=\"157.5\" y=\"115\"/><ellipse cx=\"172.5\" cy=\"131\" fill=\"#ADD1B2\" rx=\"11\" ry=\"11\" style=\"stroke:#181818;stroke-width:1.0;\"/><path d=\"M174.8438,126.6719 C173.9063,126.2344 173.3125,126.0938 172.4375,126.0938 C169.8125,126.0938 167.8125,128.1719 167.8125,130.8906 L167.8125,132.0156 C167.8125,134.5938 169.9219,136.4844 172.8125,136.4844 C174.0313,136.4844 175.1875,136.1875 175.9375,135.6406 C176.5156,135.2344 176.8438,134.7813 176.8438,134.3906 C176.8438,133.9375 176.4531,133.5469 175.9844,133.5469 C175.7656,133.5469 175.5625,133.625 175.375,133.8125 C174.9219,134.2969 174.9219,134.2969 174.7344,134.3906 C174.3125,134.6563 173.625,134.7813 172.8594,134.7813 C170.8125,134.7813 169.5156,133.6875 169.5156,131.9844 L169.5156,130.8906 C169.5156,129.1094 170.7656,127.7969 172.5,127.7969 C173.0781,127.7969 173.6875,127.9531 174.1563,128.2031 C174.6406,128.4844 174.8125,128.7031 174.9063,129.1094 C174.9688,129.5156 175,129.6406 175.1406,129.7656 C175.2813,129.9063 175.5156,130.0156 175.7344,130.0156 C176,130.0156 176.2656,129.875 176.4375,129.6563 C176.5469,129.5 176.5781,129.3125 176.5781,128.8906 L176.5781,127.4688 C176.5781,127.0313 176.5625,126.9063 176.4688,126.75 C176.3125,126.4844 176.0313,126.3438 175.7344,126.3438 C175.4375,126.3438 175.2344,126.4375 175.0156,126.75 L174.8438,126.6719 Z \" fill=\"#000000\"/><text fill=\"#000000\" font-family=\"sans-serif\" font-size=\"14\" lengthAdjust=\"spacing\" textLength=\"24\" x=\"186.5\" y=\"135.8467\">foo</text><line style=\"stroke:#181818;stroke-width:0.5;\" x1=\"158.5\" x2=\"212.5\" y1=\"147\" y2=\"147\"/><line style=\"stroke:#181818;stroke-width:0.5;\" x1=\"158.5\" x2=\"212.5\" y1=\"155\" y2=\"155\"/></g><!--class dummyLeft--><g id=\"elem_dummyLeft\"><rect fill=\"#F1F1F1\" height=\"48\" id=\"dummyLeft\" rx=\"2.5\" ry=\"2.5\" style=\"stroke:#181818;stroke-width:0.5;\" width=\"115\" x=\"7\" y=\"115\"/><ellipse cx=\"22\" cy=\"131\" fill=\"#ADD1B2\" rx=\"11\" ry=\"11\" style=\"stroke:#181818;stroke-width:1.0;\"/><path d=\"M24.3438,126.6719 C23.4063,126.2344 22.8125,126.0938 21.9375,126.0938 C19.3125,126.0938 17.3125,128.1719 17.3125,130.8906 L17.3125,132.0156 C17.3125,134.5938 19.4219,136.4844 22.3125,136.4844 C23.5313,136.4844 24.6875,136.1875 25.4375,135.6406 C26.0156,135.2344 26.3438,134.7813 26.3438,134.3906 C26.3438,133.9375 25.9531,133.5469 25.4844,133.5469 C25.2656,133.5469 25.0625,133.625 24.875,133.8125 C24.4219,134.2969 24.4219,134.2969 24.2344,134.3906 C23.8125,134.6563 23.125,134.7813 22.3594,134.7813 C20.3125,134.7813 19.0156,133.6875 19.0156,131.9844 L19.0156,130.8906 C19.0156,129.1094 20.2656,127.7969 22,127.7969 C22.5781,127.7969 23.1875,127.9531 23.6563,128.2031 C24.1406,128.4844 24.3125,128.7031 24.4063,129.1094 C24.4688,129.5156 24.5,129.6406 24.6406,129.7656 C24.7813,129.9063 25.0156,130.0156 25.2344,130.0156 C25.5,130.0156 25.7656,129.875 25.9375,129.6563 C26.0469,129.5 26.0781,129.3125 26.0781,128.8906 L26.0781,127.4688 C26.0781,127.0313 26.0625,126.9063 25.9688,126.75 C25.8125,126.4844 25.5313,126.3438 25.2344,126.3438 C24.9375,126.3438 24.7344,126.4375 24.5156,126.75 L24.3438,126.6719 Z \" fill=\"#000000\"/><text fill=\"#000000\" font-family=\"sans-serif\" font-size=\"14\" lengthAdjust=\"spacing\" textLength=\"83\" x=\"36\" y=\"135.8467\">dummyLeft</text><line style=\"stroke:#181818;stroke-width:0.5;\" x1=\"8\" x2=\"121\" y1=\"147\" y2=\"147\"/><line style=\"stroke:#181818;stroke-width:0.5;\" x1=\"8\" x2=\"121\" y1=\"155\" y2=\"155\"/></g><!--class dummyRight--><g id=\"elem_dummyRight\"><rect fill=\"#F1F1F1\" height=\"48\" id=\"dummyRight\" rx=\"2.5\" ry=\"2.5\" style=\"stroke:#181818;stroke-width:0.5;\" width=\"124\" x=\"248.5\" y=\"115\"/><ellipse cx=\"263.5\" cy=\"131\" fill=\"#ADD1B2\" rx=\"11\" ry=\"11\" style=\"stroke:#181818;stroke-width:1.0;\"/><path d=\"M265.8438,126.6719 C264.9063,126.2344 264.3125,126.0938 263.4375,126.0938 C260.8125,126.0938 258.8125,128.1719 258.8125,130.8906 L258.8125,132.0156 C258.8125,134.5938 260.9219,136.4844 263.8125,136.4844 C265.0313,136.4844 266.1875,136.1875 266.9375,135.6406 C267.5156,135.2344 267.8438,134.7813 267.8438,134.3906 C267.8438,133.9375 267.4531,133.5469 266.9844,133.5469 C266.7656,133.5469 266.5625,133.625 266.375,133.8125 C265.9219,134.2969 265.9219,134.2969 265.7344,134.3906 C265.3125,134.6563 264.625,134.7813 263.8594,134.7813 C261.8125,134.7813 260.5156,133.6875 260.5156,131.9844 L260.5156,130.8906 C260.5156,129.1094 261.7656,127.7969 263.5,127.7969 C264.0781,127.7969 264.6875,127.9531 265.1563,128.2031 C265.6406,128.4844 265.8125,128.7031 265.9063,129.1094 C265.9688,129.5156 266,129.6406 266.1406,129.7656 C266.2813,129.9063 266.5156,130.0156 266.7344,130.0156 C267,130.0156 267.2656,129.875 267.4375,129.6563 C267.5469,129.5 267.5781,129.3125 267.5781,128.8906 L267.5781,127.4688 C267.5781,127.0313 267.5625,126.9063 267.4688,126.75 C267.3125,126.4844 267.0313,126.3438 266.7344,126.3438 C266.4375,126.3438 266.2344,126.4375 266.0156,126.75 L265.8438,126.6719 Z \" fill=\"#000000\"/><text fill=\"#000000\" font-family=\"sans-serif\" font-size=\"14\" lengthAdjust=\"spacing\" textLength=\"92\" x=\"277.5\" y=\"135.8467\">dummyRight</text><line style=\"stroke:#181818;stroke-width:0.5;\" x1=\"249.5\" x2=\"371.5\" y1=\"147\" y2=\"147\"/><line style=\"stroke:#181818;stroke-width:0.5;\" x1=\"249.5\" x2=\"371.5\" y1=\"155\" y2=\"155\"/></g><!--class dummyUp--><g id=\"elem_dummyUp\"><rect fill=\"#F1F1F1\" height=\"48\" id=\"dummyUp\" rx=\"2.5\" ry=\"2.5\" style=\"stroke:#181818;stroke-width:0.5;\" width=\"104\" x=\"133.5\" y=\"7\"/><ellipse cx=\"148.5\" cy=\"23\" fill=\"#ADD1B2\" rx=\"11\" ry=\"11\" style=\"stroke:#181818;stroke-width:1.0;\"/><path d=\"M150.8438,18.6719 C149.9063,18.2344 149.3125,18.0938 148.4375,18.0938 C145.8125,18.0938 143.8125,20.1719 143.8125,22.8906 L143.8125,24.0156 C143.8125,26.5938 145.9219,28.4844 148.8125,28.4844 C150.0313,28.4844 151.1875,28.1875 151.9375,27.6406 C152.5156,27.2344 152.8438,26.7813 152.8438,26.3906 C152.8438,25.9375 152.4531,25.5469 151.9844,25.5469 C151.7656,25.5469 151.5625,25.625 151.375,25.8125 C150.9219,26.2969 150.9219,26.2969 150.7344,26.3906 C150.3125,26.6563 149.625,26.7813 148.8594,26.7813 C146.8125,26.7813 145.5156,25.6875 145.5156,23.9844 L145.5156,22.8906 C145.5156,21.1094 146.7656,19.7969 148.5,19.7969 C149.0781,19.7969 149.6875,19.9531 150.1563,20.2031 C150.6406,20.4844 150.8125,20.7031 150.9063,21.1094 C150.9688,21.5156 151,21.6406 151.1406,21.7656 C151.2813,21.9063 151.5156,22.0156 151.7344,22.0156 C152,22.0156 152.2656,21.875 152.4375,21.6563 C152.5469,21.5 152.5781,21.3125 152.5781,20.8906 L152.5781,19.4688 C152.5781,19.0313 152.5625,18.9063 152.4688,18.75 C152.3125,18.4844 152.0313,18.3438 151.7344,18.3438 C151.4375,18.3438 151.2344,18.4375 151.0156,18.75 L150.8438,18.6719 Z \" fill=\"#000000\"/><text fill=\"#000000\" font-family=\"sans-serif\" font-size=\"14\" lengthAdjust=\"spacing\" textLength=\"72\" x=\"162.5\" y=\"27.8467\">dummyUp</text><line style=\"stroke:#181818;stroke-width:0.5;\" x1=\"134.5\" x2=\"236.5\" y1=\"39\" y2=\"39\"/><line style=\"stroke:#181818;stroke-width:0.5;\" x1=\"134.5\" x2=\"236.5\" y1=\"47\" y2=\"47\"/></g><!--class dummyDown--><g id=\"elem_dummyDown\"><rect fill=\"#F1F1F1\" height=\"48\" id=\"dummyDown\" rx=\"2.5\" ry=\"2.5\" style=\"stroke:#181818;stroke-width:0.5;\" width=\"125\" x=\"123\" y=\"223\"/><ellipse cx=\"138\" cy=\"239\" fill=\"#ADD1B2\" rx=\"11\" ry=\"11\" style=\"stroke:#181818;stroke-width:1.0;\"/><path d=\"M140.3438,234.6719 C139.4063,234.2344 138.8125,234.0938 137.9375,234.0938 C135.3125,234.0938 133.3125,236.1719 133.3125,238.8906 L133.3125,240.0156 C133.3125,242.5938 135.4219,244.4844 138.3125,244.4844 C139.5313,244.4844 140.6875,244.1875 141.4375,243.6406 C142.0156,243.2344 142.3438,242.7813 142.3438,242.3906 C142.3438,241.9375 141.9531,241.5469 141.4844,241.5469 C141.2656,241.5469 141.0625,241.625 140.875,241.8125 C140.4219,242.2969 140.4219,242.2969 140.2344,242.3906 C139.8125,242.6563 139.125,242.7813 138.3594,242.7813 C136.3125,242.7813 135.0156,241.6875 135.0156,239.9844 L135.0156,238.8906 C135.0156,237.1094 136.2656,235.7969 138,235.7969 C138.5781,235.7969 139.1875,235.9531 139.6563,236.2031 C140.1406,236.4844 140.3125,236.7031 140.4063,237.1094 C140.4688,237.5156 140.5,237.6406 140.6406,237.7656 C140.7813,237.9063 141.0156,238.0156 141.2344,238.0156 C141.5,238.0156 141.7656,237.875 141.9375,237.6563 C142.0469,237.5 142.0781,237.3125 142.0781,236.8906 L142.0781,235.4688 C142.0781,235.0313 142.0625,234.9063 141.9688,234.75 C141.8125,234.4844 141.5313,234.3438 141.2344,234.3438 C140.9375,234.3438 140.7344,234.4375 140.5156,234.75 L140.3438,234.6719 Z \" fill=\"#000000\"/><text fill=\"#000000\" font-family=\"sans-serif\" font-size=\"14\" lengthAdjust=\"spacing\" textLength=\"93\" x=\"152\" y=\"243.8467\">dummyDown</text><line style=\"stroke:#181818;stroke-width:0.5;\" x1=\"124\" x2=\"247\" y1=\"255\" y2=\"255\"/><line style=\"stroke:#181818;stroke-width:0.5;\" x1=\"124\" x2=\"247\" y1=\"263\" y2=\"263\"/></g><!--reverse link dummyLeft to foo--><g id=\"link_dummyLeft_foo\"><path codeLine=\"1\" d=\"M128.164,139 C139.875,139 145.585,139 157.296,139 \" fill=\"none\" id=\"dummyLeft-backto-foo\" style=\"stroke:#181818;stroke-width:1.0;\"/><polygon fill=\"#181818\" points=\"122.164,139,131.164,143,127.164,139,131.164,135,122.164,139\" style=\"stroke:#181818;stroke-width:1.0;\"/></g><!--link foo to dummyRight--><g id=\"link_foo_dummyRight\"><path codeLine=\"2\" d=\"M213.82,139 C225.276,139 230.731,139 242.187,139 \" fill=\"none\" id=\"foo-to-dummyRight\" style=\"stroke:#181818;stroke-width:1.0;\"/><polygon fill=\"#181818\" points=\"248.187,139,239.187,135,243.187,139,239.187,143,248.187,139\" style=\"stroke:#181818;stroke-width:1.0;\"/></g><!--reverse link dummyUp to foo--><g id=\"link_dummyUp_foo\"><path codeLine=\"3\" d=\"M185.5,61 C185.5,78.658 185.5,96.941 185.5,114.678 \" fill=\"none\" id=\"dummyUp-backto-foo\" style=\"stroke:#181818;stroke-width:1.0;\"/><polygon fill=\"#181818\" points=\"185.5,55,181.5,64,185.5,60,189.5,64,185.5,55\" style=\"stroke:#181818;stroke-width:1.0;\"/></g><!--link foo to dummyDown--><g id=\"link_foo_dummyDown\"><path codeLine=\"4\" d=\"M185.5,163 C185.5,180.6584 185.5,198.9408 185.5,216.6784 \" fill=\"none\" id=\"foo-to-dummyDown\" style=\"stroke:#181818;stroke-width:1.0;\"/><polygon fill=\"#181818\" points=\"185.5,222.6784,189.5,213.6784,185.5,217.6784,181.5,213.6784,185.5,222.6784\" style=\"stroke:#181818;stroke-width:1.0;\"/></g><!--SRC=[IylFLz3DIKqhqRLJI2dDpQtq0RAvqa2YHPdf6N3X81078bvQ01CCBO28fEINvy74N81i0000]--></g></svg>"
      ],
      "text/plain": [
       "<IPython.core.display.SVG object>"
      ]
     },
     "execution_count": 27,
     "metadata": {},
     "output_type": "execute_result"
    }
   ],
   "source": [
    "%%plantuml\n",
    "@startuml\n",
    "foo -left-> dummyLeft\n",
    "foo -right-> dummyRight\n",
    "foo -up-> dummyUp\n",
    "foo -down-> dummyDown\n",
    "@enduml\n"
   ]
  },
  {
   "cell_type": "markdown",
   "metadata": {},
   "source": [
    "It is also possible to have explicitly **bold**, dashed, dotted or hidden, or plain relations and links."
   ]
  },
  {
   "cell_type": "code",
   "execution_count": 31,
   "metadata": {},
   "outputs": [
    {
     "data": {
      "image/svg+xml": [
       "<svg xmlns=\"http://www.w3.org/2000/svg\" xmlns:xlink=\"http://www.w3.org/1999/xlink\" contentStyleType=\"text/css\" height=\"186px\" preserveAspectRatio=\"none\" style=\"width:592px;height:186px;background:#FFFFFF;\" version=\"1.1\" viewBox=\"0 0 592 186\" width=\"592px\" zoomAndPan=\"magnify\"><defs/><g><!--class foo--><g id=\"elem_foo\"><rect codeLine=\"1\" fill=\"#F1F1F1\" height=\"48\" id=\"foo\" rx=\"2.5\" ry=\"2.5\" style=\"stroke:#181818;stroke-width:0.5;\" width=\"56\" x=\"261\" y=\"7\"/><ellipse cx=\"276\" cy=\"23\" fill=\"#ADD1B2\" rx=\"11\" ry=\"11\" style=\"stroke:#181818;stroke-width:1.0;\"/><path d=\"M278.3438,18.6719 C277.4063,18.2344 276.8125,18.0938 275.9375,18.0938 C273.3125,18.0938 271.3125,20.1719 271.3125,22.8906 L271.3125,24.0156 C271.3125,26.5938 273.4219,28.4844 276.3125,28.4844 C277.5313,28.4844 278.6875,28.1875 279.4375,27.6406 C280.0156,27.2344 280.3438,26.7813 280.3438,26.3906 C280.3438,25.9375 279.9531,25.5469 279.4844,25.5469 C279.2656,25.5469 279.0625,25.625 278.875,25.8125 C278.4219,26.2969 278.4219,26.2969 278.2344,26.3906 C277.8125,26.6563 277.125,26.7813 276.3594,26.7813 C274.3125,26.7813 273.0156,25.6875 273.0156,23.9844 L273.0156,22.8906 C273.0156,21.1094 274.2656,19.7969 276,19.7969 C276.5781,19.7969 277.1875,19.9531 277.6563,20.2031 C278.1406,20.4844 278.3125,20.7031 278.4063,21.1094 C278.4688,21.5156 278.5,21.6406 278.6406,21.7656 C278.7813,21.9063 279.0156,22.0156 279.2344,22.0156 C279.5,22.0156 279.7656,21.875 279.9375,21.6563 C280.0469,21.5 280.0781,21.3125 280.0781,20.8906 L280.0781,19.4688 C280.0781,19.0313 280.0625,18.9063 279.9688,18.75 C279.8125,18.4844 279.5313,18.3438 279.2344,18.3438 C278.9375,18.3438 278.7344,18.4375 278.5156,18.75 L278.3438,18.6719 Z \" fill=\"#000000\"/><text fill=\"#000000\" font-family=\"sans-serif\" font-size=\"14\" lengthAdjust=\"spacing\" textLength=\"24\" x=\"290\" y=\"27.8467\">foo</text><line style=\"stroke:#181818;stroke-width:0.5;\" x1=\"262\" x2=\"316\" y1=\"39\" y2=\"39\"/><line style=\"stroke:#181818;stroke-width:0.5;\" x1=\"262\" x2=\"316\" y1=\"47\" y2=\"47\"/></g><!--class bar--><g id=\"elem_bar\"><rect codeLine=\"2\" fill=\"#F1F1F1\" height=\"48\" id=\"bar\" rx=\"2.5\" ry=\"2.5\" style=\"stroke:#181818;stroke-width:0.5;\" width=\"56\" x=\"7\" y=\"123\"/><ellipse cx=\"22\" cy=\"139\" fill=\"#ADD1B2\" rx=\"11\" ry=\"11\" style=\"stroke:#181818;stroke-width:1.0;\"/><path d=\"M24.3438,134.6719 C23.4063,134.2344 22.8125,134.0938 21.9375,134.0938 C19.3125,134.0938 17.3125,136.1719 17.3125,138.8906 L17.3125,140.0156 C17.3125,142.5938 19.4219,144.4844 22.3125,144.4844 C23.5313,144.4844 24.6875,144.1875 25.4375,143.6406 C26.0156,143.2344 26.3438,142.7813 26.3438,142.3906 C26.3438,141.9375 25.9531,141.5469 25.4844,141.5469 C25.2656,141.5469 25.0625,141.625 24.875,141.8125 C24.4219,142.2969 24.4219,142.2969 24.2344,142.3906 C23.8125,142.6563 23.125,142.7813 22.3594,142.7813 C20.3125,142.7813 19.0156,141.6875 19.0156,139.9844 L19.0156,138.8906 C19.0156,137.1094 20.2656,135.7969 22,135.7969 C22.5781,135.7969 23.1875,135.9531 23.6563,136.2031 C24.1406,136.4844 24.3125,136.7031 24.4063,137.1094 C24.4688,137.5156 24.5,137.6406 24.6406,137.7656 C24.7813,137.9063 25.0156,138.0156 25.2344,138.0156 C25.5,138.0156 25.7656,137.875 25.9375,137.6563 C26.0469,137.5 26.0781,137.3125 26.0781,136.8906 L26.0781,135.4688 C26.0781,135.0313 26.0625,134.9063 25.9688,134.75 C25.8125,134.4844 25.5313,134.3438 25.2344,134.3438 C24.9375,134.3438 24.7344,134.4375 24.5156,134.75 L24.3438,134.6719 Z \" fill=\"#000000\"/><text fill=\"#000000\" font-family=\"sans-serif\" font-size=\"14\" lengthAdjust=\"spacing\" textLength=\"24\" x=\"36\" y=\"143.8467\">bar</text><line style=\"stroke:#181818;stroke-width:0.5;\" x1=\"8\" x2=\"62\" y1=\"155\" y2=\"155\"/><line style=\"stroke:#181818;stroke-width:0.5;\" x1=\"8\" x2=\"62\" y1=\"163\" y2=\"163\"/></g><!--class bar1--><g id=\"elem_bar1\"><rect fill=\"#F1F1F1\" height=\"64.2969\" id=\"bar1\" rx=\"2.5\" ry=\"2.5\" style=\"stroke:#181818;stroke-width:0.5;\" width=\"65\" x=\"98.5\" y=\"115\"/><ellipse cx=\"113.5\" cy=\"131\" fill=\"#ADD1B2\" rx=\"11\" ry=\"11\" style=\"stroke:#181818;stroke-width:1.0;\"/><path d=\"M115.8438,126.6719 C114.9063,126.2344 114.3125,126.0938 113.4375,126.0938 C110.8125,126.0938 108.8125,128.1719 108.8125,130.8906 L108.8125,132.0156 C108.8125,134.5938 110.9219,136.4844 113.8125,136.4844 C115.0313,136.4844 116.1875,136.1875 116.9375,135.6406 C117.5156,135.2344 117.8438,134.7813 117.8438,134.3906 C117.8438,133.9375 117.4531,133.5469 116.9844,133.5469 C116.7656,133.5469 116.5625,133.625 116.375,133.8125 C115.9219,134.2969 115.9219,134.2969 115.7344,134.3906 C115.3125,134.6563 114.625,134.7813 113.8594,134.7813 C111.8125,134.7813 110.5156,133.6875 110.5156,131.9844 L110.5156,130.8906 C110.5156,129.1094 111.7656,127.7969 113.5,127.7969 C114.0781,127.7969 114.6875,127.9531 115.1563,128.2031 C115.6406,128.4844 115.8125,128.7031 115.9063,129.1094 C115.9688,129.5156 116,129.6406 116.1406,129.7656 C116.2813,129.9063 116.5156,130.0156 116.7344,130.0156 C117,130.0156 117.2656,129.875 117.4375,129.6563 C117.5469,129.5 117.5781,129.3125 117.5781,128.8906 L117.5781,127.4688 C117.5781,127.0313 117.5625,126.9063 117.4688,126.75 C117.3125,126.4844 117.0313,126.3438 116.7344,126.3438 C116.4375,126.3438 116.2344,126.4375 116.0156,126.75 L115.8438,126.6719 Z \" fill=\"#000000\"/><text fill=\"#000000\" font-family=\"sans-serif\" font-size=\"14\" lengthAdjust=\"spacing\" textLength=\"33\" x=\"127.5\" y=\"135.8467\">bar1</text><line style=\"stroke:#181818;stroke-width:0.5;\" x1=\"99.5\" x2=\"162.5\" y1=\"147\" y2=\"147\"/><text fill=\"#000000\" font-family=\"sans-serif\" font-size=\"14\" lengthAdjust=\"spacing\" textLength=\"42\" x=\"104.5\" y=\"163.9951\">[bold]</text><line style=\"stroke:#181818;stroke-width:0.5;\" x1=\"99.5\" x2=\"162.5\" y1=\"171.2969\" y2=\"171.2969\"/></g><!--class bar2--><g id=\"elem_bar2\"><rect fill=\"#F1F1F1\" height=\"64.2969\" id=\"bar2\" rx=\"2.5\" ry=\"2.5\" style=\"stroke:#181818;stroke-width:0.5;\" width=\"73\" x=\"198.5\" y=\"115\"/><ellipse cx=\"217.55\" cy=\"131\" fill=\"#ADD1B2\" rx=\"11\" ry=\"11\" style=\"stroke:#181818;stroke-width:1.0;\"/><path d=\"M219.8938,126.6719 C218.9563,126.2344 218.3625,126.0938 217.4875,126.0938 C214.8625,126.0938 212.8625,128.1719 212.8625,130.8906 L212.8625,132.0156 C212.8625,134.5938 214.9719,136.4844 217.8625,136.4844 C219.0813,136.4844 220.2375,136.1875 220.9875,135.6406 C221.5656,135.2344 221.8938,134.7813 221.8938,134.3906 C221.8938,133.9375 221.5031,133.5469 221.0344,133.5469 C220.8156,133.5469 220.6125,133.625 220.425,133.8125 C219.9719,134.2969 219.9719,134.2969 219.7844,134.3906 C219.3625,134.6563 218.675,134.7813 217.9094,134.7813 C215.8625,134.7813 214.5656,133.6875 214.5656,131.9844 L214.5656,130.8906 C214.5656,129.1094 215.8156,127.7969 217.55,127.7969 C218.1281,127.7969 218.7375,127.9531 219.2063,128.2031 C219.6906,128.4844 219.8625,128.7031 219.9563,129.1094 C220.0188,129.5156 220.05,129.6406 220.1906,129.7656 C220.3313,129.9063 220.5656,130.0156 220.7844,130.0156 C221.05,130.0156 221.3156,129.875 221.4875,129.6563 C221.5969,129.5 221.6281,129.3125 221.6281,128.8906 L221.6281,127.4688 C221.6281,127.0313 221.6125,126.9063 221.5188,126.75 C221.3625,126.4844 221.0813,126.3438 220.7844,126.3438 C220.4875,126.3438 220.2844,126.4375 220.0656,126.75 L219.8938,126.6719 Z \" fill=\"#000000\"/><text fill=\"#000000\" font-family=\"sans-serif\" font-size=\"14\" lengthAdjust=\"spacing\" textLength=\"32\" x=\"232.45\" y=\"135.8467\">bar2</text><line style=\"stroke:#181818;stroke-width:0.5;\" x1=\"199.5\" x2=\"270.5\" y1=\"147\" y2=\"147\"/><text fill=\"#000000\" font-family=\"sans-serif\" font-size=\"14\" lengthAdjust=\"spacing\" textLength=\"61\" x=\"204.5\" y=\"163.9951\">[dashed]</text><line style=\"stroke:#181818;stroke-width:0.5;\" x1=\"199.5\" x2=\"270.5\" y1=\"171.2969\" y2=\"171.2969\"/></g><!--class bar3--><g id=\"elem_bar3\"><rect fill=\"#F1F1F1\" height=\"64.2969\" id=\"bar3\" rx=\"2.5\" ry=\"2.5\" style=\"stroke:#181818;stroke-width:0.5;\" width=\"72\" x=\"307\" y=\"115\"/><ellipse cx=\"325.15\" cy=\"131\" fill=\"#ADD1B2\" rx=\"11\" ry=\"11\" style=\"stroke:#181818;stroke-width:1.0;\"/><path d=\"M327.4938,126.6719 C326.5563,126.2344 325.9625,126.0938 325.0875,126.0938 C322.4625,126.0938 320.4625,128.1719 320.4625,130.8906 L320.4625,132.0156 C320.4625,134.5938 322.5719,136.4844 325.4625,136.4844 C326.6813,136.4844 327.8375,136.1875 328.5875,135.6406 C329.1656,135.2344 329.4938,134.7813 329.4938,134.3906 C329.4938,133.9375 329.1031,133.5469 328.6344,133.5469 C328.4156,133.5469 328.2125,133.625 328.025,133.8125 C327.5719,134.2969 327.5719,134.2969 327.3844,134.3906 C326.9625,134.6563 326.275,134.7813 325.5094,134.7813 C323.4625,134.7813 322.1656,133.6875 322.1656,131.9844 L322.1656,130.8906 C322.1656,129.1094 323.4156,127.7969 325.15,127.7969 C325.7281,127.7969 326.3375,127.9531 326.8063,128.2031 C327.2906,128.4844 327.4625,128.7031 327.5563,129.1094 C327.6188,129.5156 327.65,129.6406 327.7906,129.7656 C327.9313,129.9063 328.1656,130.0156 328.3844,130.0156 C328.65,130.0156 328.9156,129.875 329.0875,129.6563 C329.1969,129.5 329.2281,129.3125 329.2281,128.8906 L329.2281,127.4688 C329.2281,127.0313 329.2125,126.9063 329.1188,126.75 C328.9625,126.4844 328.6813,126.3438 328.3844,126.3438 C328.0875,126.3438 327.8844,126.4375 327.6656,126.75 L327.4938,126.6719 Z \" fill=\"#000000\"/><text fill=\"#000000\" font-family=\"sans-serif\" font-size=\"14\" lengthAdjust=\"spacing\" textLength=\"33\" x=\"339.85\" y=\"135.8467\">bar3</text><line style=\"stroke:#181818;stroke-width:0.5;\" x1=\"308\" x2=\"378\" y1=\"147\" y2=\"147\"/><text fill=\"#000000\" font-family=\"sans-serif\" font-size=\"14\" lengthAdjust=\"spacing\" textLength=\"60\" x=\"313\" y=\"163.9951\">[dotted]</text><line style=\"stroke:#181818;stroke-width:0.5;\" x1=\"308\" x2=\"378\" y1=\"171.2969\" y2=\"171.2969\"/></g><!--class bar4--><g id=\"elem_bar4\"><rect fill=\"#F1F1F1\" height=\"64.2969\" id=\"bar4\" rx=\"2.5\" ry=\"2.5\" style=\"stroke:#181818;stroke-width:0.5;\" width=\"71\" x=\"414.5\" y=\"115\"/><ellipse cx=\"432.65\" cy=\"131\" fill=\"#ADD1B2\" rx=\"11\" ry=\"11\" style=\"stroke:#181818;stroke-width:1.0;\"/><path d=\"M434.9938,126.6719 C434.0563,126.2344 433.4625,126.0938 432.5875,126.0938 C429.9625,126.0938 427.9625,128.1719 427.9625,130.8906 L427.9625,132.0156 C427.9625,134.5938 430.0719,136.4844 432.9625,136.4844 C434.1813,136.4844 435.3375,136.1875 436.0875,135.6406 C436.6656,135.2344 436.9938,134.7813 436.9938,134.3906 C436.9938,133.9375 436.6031,133.5469 436.1344,133.5469 C435.9156,133.5469 435.7125,133.625 435.525,133.8125 C435.0719,134.2969 435.0719,134.2969 434.8844,134.3906 C434.4625,134.6563 433.775,134.7813 433.0094,134.7813 C430.9625,134.7813 429.6656,133.6875 429.6656,131.9844 L429.6656,130.8906 C429.6656,129.1094 430.9156,127.7969 432.65,127.7969 C433.2281,127.7969 433.8375,127.9531 434.3063,128.2031 C434.7906,128.4844 434.9625,128.7031 435.0563,129.1094 C435.1188,129.5156 435.15,129.6406 435.2906,129.7656 C435.4313,129.9063 435.6656,130.0156 435.8844,130.0156 C436.15,130.0156 436.4156,129.875 436.5875,129.6563 C436.6969,129.5 436.7281,129.3125 436.7281,128.8906 L436.7281,127.4688 C436.7281,127.0313 436.7125,126.9063 436.6188,126.75 C436.4625,126.4844 436.1813,126.3438 435.8844,126.3438 C435.5875,126.3438 435.3844,126.4375 435.1656,126.75 L434.9938,126.6719 Z \" fill=\"#000000\"/><text fill=\"#000000\" font-family=\"sans-serif\" font-size=\"14\" lengthAdjust=\"spacing\" textLength=\"32\" x=\"447.35\" y=\"135.8467\">bar4</text><line style=\"stroke:#181818;stroke-width:0.5;\" x1=\"415.5\" x2=\"484.5\" y1=\"147\" y2=\"147\"/><text fill=\"#000000\" font-family=\"sans-serif\" font-size=\"14\" lengthAdjust=\"spacing\" textLength=\"59\" x=\"420.5\" y=\"163.9951\">[hidden]</text><line style=\"stroke:#181818;stroke-width:0.5;\" x1=\"415.5\" x2=\"484.5\" y1=\"171.2969\" y2=\"171.2969\"/></g><!--class bar5--><g id=\"elem_bar5\"><rect fill=\"#F1F1F1\" height=\"64.2969\" id=\"bar5\" rx=\"2.5\" ry=\"2.5\" style=\"stroke:#181818;stroke-width:0.5;\" width=\"65\" x=\"520.5\" y=\"115\"/><ellipse cx=\"535.5\" cy=\"131\" fill=\"#ADD1B2\" rx=\"11\" ry=\"11\" style=\"stroke:#181818;stroke-width:1.0;\"/><path d=\"M537.8438,126.6719 C536.9063,126.2344 536.3125,126.0938 535.4375,126.0938 C532.8125,126.0938 530.8125,128.1719 530.8125,130.8906 L530.8125,132.0156 C530.8125,134.5938 532.9219,136.4844 535.8125,136.4844 C537.0313,136.4844 538.1875,136.1875 538.9375,135.6406 C539.5156,135.2344 539.8438,134.7813 539.8438,134.3906 C539.8438,133.9375 539.4531,133.5469 538.9844,133.5469 C538.7656,133.5469 538.5625,133.625 538.375,133.8125 C537.9219,134.2969 537.9219,134.2969 537.7344,134.3906 C537.3125,134.6563 536.625,134.7813 535.8594,134.7813 C533.8125,134.7813 532.5156,133.6875 532.5156,131.9844 L532.5156,130.8906 C532.5156,129.1094 533.7656,127.7969 535.5,127.7969 C536.0781,127.7969 536.6875,127.9531 537.1563,128.2031 C537.6406,128.4844 537.8125,128.7031 537.9063,129.1094 C537.9688,129.5156 538,129.6406 538.1406,129.7656 C538.2813,129.9063 538.5156,130.0156 538.7344,130.0156 C539,130.0156 539.2656,129.875 539.4375,129.6563 C539.5469,129.5 539.5781,129.3125 539.5781,128.8906 L539.5781,127.4688 C539.5781,127.0313 539.5625,126.9063 539.4688,126.75 C539.3125,126.4844 539.0313,126.3438 538.7344,126.3438 C538.4375,126.3438 538.2344,126.4375 538.0156,126.75 L537.8438,126.6719 Z \" fill=\"#000000\"/><text fill=\"#000000\" font-family=\"sans-serif\" font-size=\"14\" lengthAdjust=\"spacing\" textLength=\"33\" x=\"549.5\" y=\"135.8467\">bar5</text><line style=\"stroke:#181818;stroke-width:0.5;\" x1=\"521.5\" x2=\"584.5\" y1=\"147\" y2=\"147\"/><text fill=\"#000000\" font-family=\"sans-serif\" font-size=\"14\" lengthAdjust=\"spacing\" textLength=\"45\" x=\"526.5\" y=\"163.9951\">[plain]</text><line style=\"stroke:#181818;stroke-width:0.5;\" x1=\"521.5\" x2=\"584.5\" y1=\"171.2969\" y2=\"171.2969\"/></g><!--link foo to bar--><g id=\"link_foo_bar\"><path codeLine=\"11\" d=\"M260.907,41.067 C220.135,54.699 142.697,82.3808 81,115 C75.0404,118.1508 73.9213,118.611 68.1455,122.3904 \" fill=\"none\" id=\"foo-to-bar\" style=\"stroke:#181818;stroke-width:1.0;\"/><polygon fill=\"#181818\" points=\"63.1248,125.6757,72.846,124.0949,67.3087,122.938,68.4656,117.4007,63.1248,125.6757\" style=\"stroke:#181818;stroke-width:1.0;\"/></g><!--link foo to bar1--><g id=\"link_foo_bar1\"><path codeLine=\"12\" d=\"M260.753,52.381 C233.503,72.042 197.1467,98.2737 168.5057,118.9387 \" fill=\"none\" id=\"foo-to-bar1\" style=\"stroke:#181818;stroke-width:2.0;\"/><polygon fill=\"#181818\" points=\"163.64,122.4494,173.279,120.4272,167.6948,119.5238,168.5981,113.9396,163.64,122.4494\" style=\"stroke:#181818;stroke-width:2.0;\"/></g><!--link foo to bar2--><g id=\"link_foo_bar2\"><path codeLine=\"13\" d=\"M278.072,55.07 C269.936,72.246 261.3076,90.4621 252.3686,109.3324 \" fill=\"none\" id=\"foo-to-bar2\" style=\"stroke:#181818;stroke-width:1.0;stroke-dasharray:7.0,7.0;\"/><polygon fill=\"#181818\" points=\"249.8,114.7548,257.2678,108.3336,251.9405,110.2362,250.038,104.9088,249.8,114.7548\" style=\"stroke:#181818;stroke-width:1.0;\"/></g><!--link foo to bar3--><g id=\"link_foo_bar3\"><path codeLine=\"14\" d=\"M299.928,55.07 C308.064,72.246 316.6924,90.4621 325.6314,109.3324 \" fill=\"none\" id=\"foo-to-bar3\" style=\"stroke:#181818;stroke-width:1.0;stroke-dasharray:1.0,3.0;\"/><polygon fill=\"#181818\" points=\"328.2,114.7548,327.962,104.9088,326.0595,110.2362,320.7322,108.3336,328.2,114.7548\" style=\"stroke:#181818;stroke-width:1.0;\"/></g><!--link foo to bar4--><!--link foo to bar5--><g id=\"link_foo_bar5\"><path codeLine=\"16\" d=\"M317.065,41.025 C358.644,54.808 438.628,82.9071 503,115 C508.759,117.871 509.5565,118.1352 515.2585,121.5325 \" fill=\"none\" id=\"foo-to-bar5\" style=\"stroke:#181818;stroke-width:1.0;\"/><polygon fill=\"#181818\" points=\"520.413,124.6036,514.7287,116.5607,516.1176,122.0444,510.6339,123.4333,520.413,124.6036\" style=\"stroke:#181818;stroke-width:1.0;\"/></g><!--SRC=[DOsv3O0m301xJ-45A7ZIKB08IX4mY4XHWWZxY_Z1XUMxmhUdK2kUfS0krnOU06YxnndNhIJoYCm3CuLw7UIPH-7oliOJynM9ZYpicEyKOlO8s0PQ1BjkaOJS-bvDRyeAAeTVQaRbQD9QAYUJ6bJdFW00]--></g></svg>"
      ],
      "text/plain": [
       "<IPython.core.display.SVG object>"
      ]
     },
     "execution_count": 31,
     "metadata": {},
     "output_type": "execute_result"
    }
   ],
   "source": [
    "%%plantuml\n",
    "@startuml\n",
    "class foo\n",
    "class bar\n",
    "    \n",
    "foo --> bar\n",
    "foo -[bold]-> bar1\n",
    "foo -[dashed]-> bar2\n",
    "foo -[dotted]-> bar3\n",
    "foo -[hidden]-> bar4\n",
    "foo -[plain]-> bar5\n",
    "@enduml\n"
   ]
  },
  {
   "cell_type": "markdown",
   "metadata": {},
   "source": [
    "and with label:"
   ]
  },
  {
   "cell_type": "code",
   "execution_count": 35,
   "metadata": {},
   "outputs": [
    {
     "data": {
      "image/svg+xml": [
       "<svg xmlns=\"http://www.w3.org/2000/svg\" xmlns:xlink=\"http://www.w3.org/1999/xlink\" contentStyleType=\"text/css\" height=\"224px\" preserveAspectRatio=\"none\" style=\"width:570px;height:224px;background:#FFFFFF;\" version=\"1.1\" viewBox=\"0 0 570 224\" width=\"570px\" zoomAndPan=\"magnify\"><defs/><g><text fill=\"#000000\" font-family=\"sans-serif\" font-size=\"14\" font-weight=\"bold\" lengthAdjust=\"spacing\" textLength=\"246\" x=\"155.25\" y=\"22.9951\">Bracketed line style with label</text><!--class foo--><g id=\"elem_foo\"><rect codeLine=\"3\" fill=\"#F1F1F1\" height=\"48\" id=\"foo\" rx=\"2.5\" ry=\"2.5\" style=\"stroke:#181818;stroke-width:0.5;\" width=\"56\" x=\"253\" y=\"44.2969\"/><ellipse cx=\"268\" cy=\"60.2969\" fill=\"#ADD1B2\" rx=\"11\" ry=\"11\" style=\"stroke:#181818;stroke-width:1.0;\"/><path d=\"M270.3438,55.9688 C269.4063,55.5313 268.8125,55.3906 267.9375,55.3906 C265.3125,55.3906 263.3125,57.4688 263.3125,60.1875 L263.3125,61.3125 C263.3125,63.8906 265.4219,65.7813 268.3125,65.7813 C269.5313,65.7813 270.6875,65.4844 271.4375,64.9375 C272.0156,64.5313 272.3438,64.0781 272.3438,63.6875 C272.3438,63.2344 271.9531,62.8438 271.4844,62.8438 C271.2656,62.8438 271.0625,62.9219 270.875,63.1094 C270.4219,63.5938 270.4219,63.5938 270.2344,63.6875 C269.8125,63.9531 269.125,64.0781 268.3594,64.0781 C266.3125,64.0781 265.0156,62.9844 265.0156,61.2813 L265.0156,60.1875 C265.0156,58.4063 266.2656,57.0938 268,57.0938 C268.5781,57.0938 269.1875,57.25 269.6563,57.5 C270.1406,57.7813 270.3125,58 270.4063,58.4063 C270.4688,58.8125 270.5,58.9375 270.6406,59.0625 C270.7813,59.2031 271.0156,59.3125 271.2344,59.3125 C271.5,59.3125 271.7656,59.1719 271.9375,58.9531 C272.0469,58.7969 272.0781,58.6094 272.0781,58.1875 L272.0781,56.7656 C272.0781,56.3281 272.0625,56.2031 271.9688,56.0469 C271.8125,55.7813 271.5313,55.6406 271.2344,55.6406 C270.9375,55.6406 270.7344,55.7344 270.5156,56.0469 L270.3438,55.9688 Z \" fill=\"#000000\"/><text fill=\"#000000\" font-family=\"sans-serif\" font-size=\"14\" lengthAdjust=\"spacing\" textLength=\"24\" x=\"282\" y=\"65.1436\">foo</text><line style=\"stroke:#181818;stroke-width:0.5;\" x1=\"254\" x2=\"308\" y1=\"76.2969\" y2=\"76.2969\"/><line style=\"stroke:#181818;stroke-width:0.5;\" x1=\"254\" x2=\"308\" y1=\"84.2969\" y2=\"84.2969\"/></g><!--class bar--><g id=\"elem_bar\"><rect codeLine=\"4\" fill=\"#F1F1F1\" height=\"48\" id=\"bar\" rx=\"2.5\" ry=\"2.5\" style=\"stroke:#181818;stroke-width:0.5;\" width=\"56\" x=\"7\" y=\"169.2969\"/><ellipse cx=\"22\" cy=\"185.2969\" fill=\"#ADD1B2\" rx=\"11\" ry=\"11\" style=\"stroke:#181818;stroke-width:1.0;\"/><path d=\"M24.3438,180.9688 C23.4063,180.5313 22.8125,180.3906 21.9375,180.3906 C19.3125,180.3906 17.3125,182.4688 17.3125,185.1875 L17.3125,186.3125 C17.3125,188.8906 19.4219,190.7813 22.3125,190.7813 C23.5313,190.7813 24.6875,190.4844 25.4375,189.9375 C26.0156,189.5313 26.3438,189.0781 26.3438,188.6875 C26.3438,188.2344 25.9531,187.8438 25.4844,187.8438 C25.2656,187.8438 25.0625,187.9219 24.875,188.1094 C24.4219,188.5938 24.4219,188.5938 24.2344,188.6875 C23.8125,188.9531 23.125,189.0781 22.3594,189.0781 C20.3125,189.0781 19.0156,187.9844 19.0156,186.2813 L19.0156,185.1875 C19.0156,183.4063 20.2656,182.0938 22,182.0938 C22.5781,182.0938 23.1875,182.25 23.6563,182.5 C24.1406,182.7813 24.3125,183 24.4063,183.4063 C24.4688,183.8125 24.5,183.9375 24.6406,184.0625 C24.7813,184.2031 25.0156,184.3125 25.2344,184.3125 C25.5,184.3125 25.7656,184.1719 25.9375,183.9531 C26.0469,183.7969 26.0781,183.6094 26.0781,183.1875 L26.0781,181.7656 C26.0781,181.3281 26.0625,181.2031 25.9688,181.0469 C25.8125,180.7813 25.5313,180.6406 25.2344,180.6406 C24.9375,180.6406 24.7344,180.7344 24.5156,181.0469 L24.3438,180.9688 Z \" fill=\"#000000\"/><text fill=\"#000000\" font-family=\"sans-serif\" font-size=\"14\" lengthAdjust=\"spacing\" textLength=\"24\" x=\"36\" y=\"190.1436\">bar</text><line style=\"stroke:#181818;stroke-width:0.5;\" x1=\"8\" x2=\"62\" y1=\"201.2969\" y2=\"201.2969\"/><line style=\"stroke:#181818;stroke-width:0.5;\" x1=\"8\" x2=\"62\" y1=\"209.2969\" y2=\"209.2969\"/></g><!--class bar1--><g id=\"elem_bar1\"><rect fill=\"#F1F1F1\" height=\"48\" id=\"bar1\" rx=\"2.5\" ry=\"2.5\" style=\"stroke:#181818;stroke-width:0.5;\" width=\"65\" x=\"98.5\" y=\"169.2969\"/><ellipse cx=\"113.5\" cy=\"185.2969\" fill=\"#ADD1B2\" rx=\"11\" ry=\"11\" style=\"stroke:#181818;stroke-width:1.0;\"/><path d=\"M115.8438,180.9688 C114.9063,180.5313 114.3125,180.3906 113.4375,180.3906 C110.8125,180.3906 108.8125,182.4688 108.8125,185.1875 L108.8125,186.3125 C108.8125,188.8906 110.9219,190.7813 113.8125,190.7813 C115.0313,190.7813 116.1875,190.4844 116.9375,189.9375 C117.5156,189.5313 117.8438,189.0781 117.8438,188.6875 C117.8438,188.2344 117.4531,187.8438 116.9844,187.8438 C116.7656,187.8438 116.5625,187.9219 116.375,188.1094 C115.9219,188.5938 115.9219,188.5938 115.7344,188.6875 C115.3125,188.9531 114.625,189.0781 113.8594,189.0781 C111.8125,189.0781 110.5156,187.9844 110.5156,186.2813 L110.5156,185.1875 C110.5156,183.4063 111.7656,182.0938 113.5,182.0938 C114.0781,182.0938 114.6875,182.25 115.1563,182.5 C115.6406,182.7813 115.8125,183 115.9063,183.4063 C115.9688,183.8125 116,183.9375 116.1406,184.0625 C116.2813,184.2031 116.5156,184.3125 116.7344,184.3125 C117,184.3125 117.2656,184.1719 117.4375,183.9531 C117.5469,183.7969 117.5781,183.6094 117.5781,183.1875 L117.5781,181.7656 C117.5781,181.3281 117.5625,181.2031 117.4688,181.0469 C117.3125,180.7813 117.0313,180.6406 116.7344,180.6406 C116.4375,180.6406 116.2344,180.7344 116.0156,181.0469 L115.8438,180.9688 Z \" fill=\"#000000\"/><text fill=\"#000000\" font-family=\"sans-serif\" font-size=\"14\" lengthAdjust=\"spacing\" textLength=\"33\" x=\"127.5\" y=\"190.1436\">bar1</text><line style=\"stroke:#181818;stroke-width:0.5;\" x1=\"99.5\" x2=\"162.5\" y1=\"201.2969\" y2=\"201.2969\"/><line style=\"stroke:#181818;stroke-width:0.5;\" x1=\"99.5\" x2=\"162.5\" y1=\"209.2969\" y2=\"209.2969\"/></g><!--class bar2--><g id=\"elem_bar2\"><rect fill=\"#F1F1F1\" height=\"48\" id=\"bar2\" rx=\"2.5\" ry=\"2.5\" style=\"stroke:#181818;stroke-width:0.5;\" width=\"64\" x=\"199\" y=\"169.2969\"/><ellipse cx=\"214\" cy=\"185.2969\" fill=\"#ADD1B2\" rx=\"11\" ry=\"11\" style=\"stroke:#181818;stroke-width:1.0;\"/><path d=\"M216.3438,180.9688 C215.4063,180.5313 214.8125,180.3906 213.9375,180.3906 C211.3125,180.3906 209.3125,182.4688 209.3125,185.1875 L209.3125,186.3125 C209.3125,188.8906 211.4219,190.7813 214.3125,190.7813 C215.5313,190.7813 216.6875,190.4844 217.4375,189.9375 C218.0156,189.5313 218.3438,189.0781 218.3438,188.6875 C218.3438,188.2344 217.9531,187.8438 217.4844,187.8438 C217.2656,187.8438 217.0625,187.9219 216.875,188.1094 C216.4219,188.5938 216.4219,188.5938 216.2344,188.6875 C215.8125,188.9531 215.125,189.0781 214.3594,189.0781 C212.3125,189.0781 211.0156,187.9844 211.0156,186.2813 L211.0156,185.1875 C211.0156,183.4063 212.2656,182.0938 214,182.0938 C214.5781,182.0938 215.1875,182.25 215.6563,182.5 C216.1406,182.7813 216.3125,183 216.4063,183.4063 C216.4688,183.8125 216.5,183.9375 216.6406,184.0625 C216.7813,184.2031 217.0156,184.3125 217.2344,184.3125 C217.5,184.3125 217.7656,184.1719 217.9375,183.9531 C218.0469,183.7969 218.0781,183.6094 218.0781,183.1875 L218.0781,181.7656 C218.0781,181.3281 218.0625,181.2031 217.9688,181.0469 C217.8125,180.7813 217.5313,180.6406 217.2344,180.6406 C216.9375,180.6406 216.7344,180.7344 216.5156,181.0469 L216.3438,180.9688 Z \" fill=\"#000000\"/><text fill=\"#000000\" font-family=\"sans-serif\" font-size=\"14\" lengthAdjust=\"spacing\" textLength=\"32\" x=\"228\" y=\"190.1436\">bar2</text><line style=\"stroke:#181818;stroke-width:0.5;\" x1=\"200\" x2=\"262\" y1=\"201.2969\" y2=\"201.2969\"/><line style=\"stroke:#181818;stroke-width:0.5;\" x1=\"200\" x2=\"262\" y1=\"209.2969\" y2=\"209.2969\"/></g><!--class bar3--><g id=\"elem_bar3\"><rect fill=\"#F1F1F1\" height=\"48\" id=\"bar3\" rx=\"2.5\" ry=\"2.5\" style=\"stroke:#181818;stroke-width:0.5;\" width=\"65\" x=\"298.5\" y=\"169.2969\"/><ellipse cx=\"313.5\" cy=\"185.2969\" fill=\"#ADD1B2\" rx=\"11\" ry=\"11\" style=\"stroke:#181818;stroke-width:1.0;\"/><path d=\"M315.8438,180.9688 C314.9063,180.5313 314.3125,180.3906 313.4375,180.3906 C310.8125,180.3906 308.8125,182.4688 308.8125,185.1875 L308.8125,186.3125 C308.8125,188.8906 310.9219,190.7813 313.8125,190.7813 C315.0313,190.7813 316.1875,190.4844 316.9375,189.9375 C317.5156,189.5313 317.8438,189.0781 317.8438,188.6875 C317.8438,188.2344 317.4531,187.8438 316.9844,187.8438 C316.7656,187.8438 316.5625,187.9219 316.375,188.1094 C315.9219,188.5938 315.9219,188.5938 315.7344,188.6875 C315.3125,188.9531 314.625,189.0781 313.8594,189.0781 C311.8125,189.0781 310.5156,187.9844 310.5156,186.2813 L310.5156,185.1875 C310.5156,183.4063 311.7656,182.0938 313.5,182.0938 C314.0781,182.0938 314.6875,182.25 315.1563,182.5 C315.6406,182.7813 315.8125,183 315.9063,183.4063 C315.9688,183.8125 316,183.9375 316.1406,184.0625 C316.2813,184.2031 316.5156,184.3125 316.7344,184.3125 C317,184.3125 317.2656,184.1719 317.4375,183.9531 C317.5469,183.7969 317.5781,183.6094 317.5781,183.1875 L317.5781,181.7656 C317.5781,181.3281 317.5625,181.2031 317.4688,181.0469 C317.3125,180.7813 317.0313,180.6406 316.7344,180.6406 C316.4375,180.6406 316.2344,180.7344 316.0156,181.0469 L315.8438,180.9688 Z \" fill=\"#000000\"/><text fill=\"#000000\" font-family=\"sans-serif\" font-size=\"14\" lengthAdjust=\"spacing\" textLength=\"33\" x=\"327.5\" y=\"190.1436\">bar3</text><line style=\"stroke:#181818;stroke-width:0.5;\" x1=\"299.5\" x2=\"362.5\" y1=\"201.2969\" y2=\"201.2969\"/><line style=\"stroke:#181818;stroke-width:0.5;\" x1=\"299.5\" x2=\"362.5\" y1=\"209.2969\" y2=\"209.2969\"/></g><!--class bar4--><g id=\"elem_bar4\"><rect fill=\"#F1F1F1\" height=\"48\" id=\"bar4\" rx=\"2.5\" ry=\"2.5\" style=\"stroke:#181818;stroke-width:0.5;\" width=\"64\" x=\"399\" y=\"169.2969\"/><ellipse cx=\"414\" cy=\"185.2969\" fill=\"#ADD1B2\" rx=\"11\" ry=\"11\" style=\"stroke:#181818;stroke-width:1.0;\"/><path d=\"M416.3438,180.9688 C415.4063,180.5313 414.8125,180.3906 413.9375,180.3906 C411.3125,180.3906 409.3125,182.4688 409.3125,185.1875 L409.3125,186.3125 C409.3125,188.8906 411.4219,190.7813 414.3125,190.7813 C415.5313,190.7813 416.6875,190.4844 417.4375,189.9375 C418.0156,189.5313 418.3438,189.0781 418.3438,188.6875 C418.3438,188.2344 417.9531,187.8438 417.4844,187.8438 C417.2656,187.8438 417.0625,187.9219 416.875,188.1094 C416.4219,188.5938 416.4219,188.5938 416.2344,188.6875 C415.8125,188.9531 415.125,189.0781 414.3594,189.0781 C412.3125,189.0781 411.0156,187.9844 411.0156,186.2813 L411.0156,185.1875 C411.0156,183.4063 412.2656,182.0938 414,182.0938 C414.5781,182.0938 415.1875,182.25 415.6563,182.5 C416.1406,182.7813 416.3125,183 416.4063,183.4063 C416.4688,183.8125 416.5,183.9375 416.6406,184.0625 C416.7813,184.2031 417.0156,184.3125 417.2344,184.3125 C417.5,184.3125 417.7656,184.1719 417.9375,183.9531 C418.0469,183.7969 418.0781,183.6094 418.0781,183.1875 L418.0781,181.7656 C418.0781,181.3281 418.0625,181.2031 417.9688,181.0469 C417.8125,180.7813 417.5313,180.6406 417.2344,180.6406 C416.9375,180.6406 416.7344,180.7344 416.5156,181.0469 L416.3438,180.9688 Z \" fill=\"#000000\"/><text fill=\"#000000\" font-family=\"sans-serif\" font-size=\"14\" lengthAdjust=\"spacing\" textLength=\"32\" x=\"428\" y=\"190.1436\">bar4</text><line style=\"stroke:#181818;stroke-width:0.5;\" x1=\"400\" x2=\"462\" y1=\"201.2969\" y2=\"201.2969\"/><line style=\"stroke:#181818;stroke-width:0.5;\" x1=\"400\" x2=\"462\" y1=\"209.2969\" y2=\"209.2969\"/></g><!--class bar5--><g id=\"elem_bar5\"><rect fill=\"#F1F1F1\" height=\"48\" id=\"bar5\" rx=\"2.5\" ry=\"2.5\" style=\"stroke:#181818;stroke-width:0.5;\" width=\"65\" x=\"498.5\" y=\"169.2969\"/><ellipse cx=\"513.5\" cy=\"185.2969\" fill=\"#ADD1B2\" rx=\"11\" ry=\"11\" style=\"stroke:#181818;stroke-width:1.0;\"/><path d=\"M515.8438,180.9688 C514.9063,180.5313 514.3125,180.3906 513.4375,180.3906 C510.8125,180.3906 508.8125,182.4688 508.8125,185.1875 L508.8125,186.3125 C508.8125,188.8906 510.9219,190.7813 513.8125,190.7813 C515.0313,190.7813 516.1875,190.4844 516.9375,189.9375 C517.5156,189.5313 517.8438,189.0781 517.8438,188.6875 C517.8438,188.2344 517.4531,187.8438 516.9844,187.8438 C516.7656,187.8438 516.5625,187.9219 516.375,188.1094 C515.9219,188.5938 515.9219,188.5938 515.7344,188.6875 C515.3125,188.9531 514.625,189.0781 513.8594,189.0781 C511.8125,189.0781 510.5156,187.9844 510.5156,186.2813 L510.5156,185.1875 C510.5156,183.4063 511.7656,182.0938 513.5,182.0938 C514.0781,182.0938 514.6875,182.25 515.1563,182.5 C515.6406,182.7813 515.8125,183 515.9063,183.4063 C515.9688,183.8125 516,183.9375 516.1406,184.0625 C516.2813,184.2031 516.5156,184.3125 516.7344,184.3125 C517,184.3125 517.2656,184.1719 517.4375,183.9531 C517.5469,183.7969 517.5781,183.6094 517.5781,183.1875 L517.5781,181.7656 C517.5781,181.3281 517.5625,181.2031 517.4688,181.0469 C517.3125,180.7813 517.0313,180.6406 516.7344,180.6406 C516.4375,180.6406 516.2344,180.7344 516.0156,181.0469 L515.8438,180.9688 Z \" fill=\"#000000\"/><text fill=\"#000000\" font-family=\"sans-serif\" font-size=\"14\" lengthAdjust=\"spacing\" textLength=\"33\" x=\"527.5\" y=\"190.1436\">bar5</text><line style=\"stroke:#181818;stroke-width:0.5;\" x1=\"499.5\" x2=\"562.5\" y1=\"201.2969\" y2=\"201.2969\"/><line style=\"stroke:#181818;stroke-width:0.5;\" x1=\"499.5\" x2=\"562.5\" y1=\"209.2969\" y2=\"209.2969\"/></g><!--link foo to bar--><g id=\"link_foo_bar\"><path codeLine=\"6\" d=\"M252.774,78.2069 C224.352,87.6219 179.594,103.6679 143,122.2969 C114.725,136.6912 89.4967,153.2039 68.2633,168.1291 \" fill=\"none\" id=\"foo-to-bar\" style=\"stroke:#181818;stroke-width:1.0;\"/><polygon fill=\"#181818\" points=\"63.3546,171.5795,73.0178,169.6764,67.4452,168.7042,68.4174,163.1315,63.3546,171.5795\" style=\"stroke:#181818;stroke-width:1.0;\"/><text fill=\"#000000\" font-family=\"sans-serif\" font-size=\"13\" lengthAdjust=\"spacing\" textLength=\"10\" x=\"144\" y=\"135.3638\">[]</text></g><!--link foo to bar1--><g id=\"link_foo_bar1\"><path codeLine=\"7\" d=\"M252.892,79.2499 C230.765,88.0829 200.081,102.6409 178,122.2969 C163.24,135.4363 153.9124,148.9512 145.6174,163.7384 \" fill=\"none\" id=\"foo-to-bar1\" style=\"stroke:#181818;stroke-width:2.0;\"/><polygon fill=\"#181818\" points=\"142.682,168.9713,150.5738,163.0789,145.1282,164.6105,143.5966,159.165,142.682,168.9713\" style=\"stroke:#181818;stroke-width:2.0;\"/><text fill=\"#000000\" font-family=\"sans-serif\" font-size=\"13\" lengthAdjust=\"spacing\" textLength=\"37\" x=\"179\" y=\"135.3638\">[bold]</text></g><!--link foo to bar2--><g id=\"link_foo_bar2\"><path codeLine=\"8\" d=\"M252.862,90.2919 C243.421,99.0259 234.023,110.0059 229,122.2969 C222.975,137.04 222.7587,149.0895 224.8447,163.1374 \" fill=\"none\" id=\"foo-to-bar2\" style=\"stroke:#181818;stroke-width:1.0;stroke-dasharray:7.0,7.0;\"/><polygon fill=\"#181818\" points=\"225.726,169.0723,228.3607,159.5824,224.9916,164.1265,220.4475,160.7574,225.726,169.0723\" style=\"stroke:#181818;stroke-width:1.0;\"/><text fill=\"#000000\" font-family=\"sans-serif\" font-size=\"13\" lengthAdjust=\"spacing\" textLength=\"57\" x=\"230\" y=\"135.3638\">[dashed]</text></g><!--link foo to bar3--><g id=\"link_foo_bar3\"><path codeLine=\"9\" d=\"M290.405,92.4319 C299.344,114.4229 310.4524,141.7509 319.3784,163.707 \" fill=\"none\" id=\"foo-to-bar3\" style=\"stroke:#181818;stroke-width:1.0;stroke-dasharray:1.0,3.0;\"/><polygon fill=\"#181818\" points=\"321.638,169.2653,321.954,159.4215,319.755,164.6334,314.543,162.4343,321.638,169.2653\" style=\"stroke:#181818;stroke-width:1.0;\"/><text fill=\"#000000\" font-family=\"sans-serif\" font-size=\"13\" lengthAdjust=\"spacing\" textLength=\"52\" x=\"310\" y=\"135.3638\">[dotted]</text></g><!--link foo to bar4--><!--link foo to bar5--><g id=\"link_foo_bar5\"><path codeLine=\"11\" d=\"M309.218,74.3399 C344.167,81.4079 404.741,96.3899 451,122.2969 C473.06,134.6513 490.187,149.5777 505.279,164.7385 \" fill=\"none\" id=\"foo-to-bar5\" style=\"stroke:#181818;stroke-width:1.0;\"/><polygon fill=\"#181818\" points=\"509.512,168.9908,505.9974,159.7904,505.9845,165.4472,500.3277,165.4343,509.512,168.9908\" style=\"stroke:#181818;stroke-width:1.0;\"/><text fill=\"#000000\" font-family=\"sans-serif\" font-size=\"13\" lengthAdjust=\"spacing\" textLength=\"40\" x=\"477\" y=\"135.3638\">[plain]</text></g><!--SRC=[FSqx3iCm283XtQVW0XdwMZ9qw3MY33WcibKKLp5IrTitDZXCy7y3aeG9NZikRn8Am6aZAF8xuZT914PFxDp2M0giETlcSNVkE64OdlM0SqQOPfN9Pmwp-aMb5TE09LBtQrKhtRF8wRVcMinZ2e4sytjrA-OVnjJvqRvh-GC0]--></g></svg>"
      ],
      "text/plain": [
       "<IPython.core.display.SVG object>"
      ]
     },
     "execution_count": 35,
     "metadata": {},
     "output_type": "execute_result"
    }
   ],
   "source": [
    "%%plantuml\n",
    "@startuml\n",
    "title Bracketed line style with label\n",
    "\n",
    "class foo\n",
    "class bar\n",
    "\n",
    "foo --> bar          : []\n",
    "foo -[bold]-> bar1   : [bold]\n",
    "foo -[dashed]-> bar2 : [dashed]\n",
    "foo -[dotted]-> bar3 : [dotted]\n",
    "foo -[hidden]-> bar4 : [hidden]\n",
    "foo -[plain]-> bar5  : [plain]\n",
    "\n",
    "@enduml\n"
   ]
  },
  {
   "cell_type": "markdown",
   "metadata": {},
   "source": [
    "You can also change thickness and colour or change everything at the same time. You'll find a good explanation in this [link](https://plantuml.com/class-diagram).\n",
    "An important feature is Adding arrows from/to class members(attributes):"
   ]
  },
  {
   "cell_type": "code",
   "execution_count": 37,
   "metadata": {},
   "outputs": [
    {
     "data": {
      "image/svg+xml": [
       "<svg xmlns=\"http://www.w3.org/2000/svg\" xmlns:xlink=\"http://www.w3.org/1999/xlink\" contentStyleType=\"text/css\" height=\"259px\" preserveAspectRatio=\"none\" style=\"width:211px;height:259px;background:#FFFFFF;\" version=\"1.1\" viewBox=\"0 0 211 259\" width=\"211px\" zoomAndPan=\"magnify\"><defs/><g><!--class Foo--><g id=\"elem_Foo\"><rect codeLine=\"1\" fill=\"#F1F1F1\" height=\"80.5938\" id=\"Foo\" rx=\"2.5\" ry=\"2.5\" style=\"stroke:#181818;stroke-width:0.5;\" width=\"67\" x=\"85.8333\" y=\"7\"/><ellipse cx=\"104.8833\" cy=\"23\" fill=\"#ADD1B2\" rx=\"11\" ry=\"11\" style=\"stroke:#181818;stroke-width:1.0;\"/><path d=\"M107.2271,18.6719 C106.2896,18.2344 105.6958,18.0938 104.8208,18.0938 C102.1958,18.0938 100.1958,20.1719 100.1958,22.8906 L100.1958,24.0156 C100.1958,26.5938 102.3052,28.4844 105.1958,28.4844 C106.4146,28.4844 107.5708,28.1875 108.3208,27.6406 C108.8989,27.2344 109.2271,26.7813 109.2271,26.3906 C109.2271,25.9375 108.8364,25.5469 108.3677,25.5469 C108.1489,25.5469 107.9458,25.625 107.7583,25.8125 C107.3052,26.2969 107.3052,26.2969 107.1177,26.3906 C106.6958,26.6563 106.0083,26.7813 105.2427,26.7813 C103.1958,26.7813 101.8989,25.6875 101.8989,23.9844 L101.8989,22.8906 C101.8989,21.1094 103.1489,19.7969 104.8833,19.7969 C105.4614,19.7969 106.0708,19.9531 106.5396,20.2031 C107.0239,20.4844 107.1958,20.7031 107.2896,21.1094 C107.3521,21.5156 107.3833,21.6406 107.5239,21.7656 C107.6646,21.9063 107.8989,22.0156 108.1177,22.0156 C108.3833,22.0156 108.6489,21.875 108.8208,21.6563 C108.9302,21.5 108.9614,21.3125 108.9614,20.8906 L108.9614,19.4688 C108.9614,19.0313 108.9458,18.9063 108.8521,18.75 C108.6958,18.4844 108.4146,18.3438 108.1177,18.3438 C107.8208,18.3438 107.6177,18.4375 107.3989,18.75 L107.2271,18.6719 Z \" fill=\"#000000\"/><text fill=\"#000000\" font-family=\"sans-serif\" font-size=\"14\" lengthAdjust=\"spacing\" textLength=\"26\" x=\"119.7833\" y=\"27.8467\">Foo</text><line style=\"stroke:#181818;stroke-width:0.5;\" x1=\"86.8333\" x2=\"151.8333\" y1=\"39\" y2=\"39\"/><ellipse cx=\"96.8333\" cy=\"52.6484\" fill=\"none\" rx=\"3\" ry=\"3\" style=\"stroke:#038048;stroke-width:1.0;\"/><text fill=\"#000000\" font-family=\"sans-serif\" font-size=\"14\" lengthAdjust=\"spacing\" textLength=\"41\" x=\"105.8333\" y=\"55.9951\">field1</text><ellipse cx=\"96.8333\" cy=\"68.9453\" fill=\"none\" rx=\"3\" ry=\"3\" style=\"stroke:#038048;stroke-width:1.0;\"/><text fill=\"#000000\" font-family=\"sans-serif\" font-size=\"14\" lengthAdjust=\"spacing\" textLength=\"40\" x=\"105.8333\" y=\"72.292\">field2</text><line style=\"stroke:#181818;stroke-width:0.5;\" x1=\"86.8333\" x2=\"151.8333\" y1=\"79.5938\" y2=\"79.5938\"/></g><!--class Bar--><g id=\"elem_Bar\"><rect codeLine=\"6\" fill=\"#F1F1F1\" height=\"80.5938\" id=\"Bar\" rx=\"2.5\" ry=\"2.5\" style=\"stroke:#181818;stroke-width:0.5;\" width=\"67\" x=\"85.8333\" y=\"172\"/><ellipse cx=\"105.7833\" cy=\"188\" fill=\"#ADD1B2\" rx=\"11\" ry=\"11\" style=\"stroke:#181818;stroke-width:1.0;\"/><path d=\"M108.1271,183.6719 C107.1896,183.2344 106.5958,183.0938 105.7208,183.0938 C103.0958,183.0938 101.0958,185.1719 101.0958,187.8906 L101.0958,189.0156 C101.0958,191.5938 103.2052,193.4844 106.0958,193.4844 C107.3146,193.4844 108.4708,193.1875 109.2208,192.6406 C109.7989,192.2344 110.1271,191.7813 110.1271,191.3906 C110.1271,190.9375 109.7364,190.5469 109.2677,190.5469 C109.0489,190.5469 108.8458,190.625 108.6583,190.8125 C108.2052,191.2969 108.2052,191.2969 108.0177,191.3906 C107.5958,191.6563 106.9083,191.7813 106.1427,191.7813 C104.0958,191.7813 102.7989,190.6875 102.7989,188.9844 L102.7989,187.8906 C102.7989,186.1094 104.0489,184.7969 105.7833,184.7969 C106.3614,184.7969 106.9708,184.9531 107.4396,185.2031 C107.9239,185.4844 108.0958,185.7031 108.1896,186.1094 C108.2521,186.5156 108.2833,186.6406 108.4239,186.7656 C108.5646,186.9063 108.7989,187.0156 109.0177,187.0156 C109.2833,187.0156 109.5489,186.875 109.7208,186.6563 C109.8302,186.5 109.8614,186.3125 109.8614,185.8906 L109.8614,184.4688 C109.8614,184.0313 109.8458,183.9063 109.7521,183.75 C109.5958,183.4844 109.3146,183.3438 109.0177,183.3438 C108.7208,183.3438 108.5177,183.4375 108.2989,183.75 L108.1271,183.6719 Z \" fill=\"#000000\"/><text fill=\"#000000\" font-family=\"sans-serif\" font-size=\"14\" lengthAdjust=\"spacing\" textLength=\"24\" x=\"120.8833\" y=\"192.8467\">Bar</text><line style=\"stroke:#181818;stroke-width:0.5;\" x1=\"86.8333\" x2=\"151.8333\" y1=\"204\" y2=\"204\"/><ellipse cx=\"96.8333\" cy=\"217.6484\" fill=\"none\" rx=\"3\" ry=\"3\" style=\"stroke:#038048;stroke-width:1.0;\"/><text fill=\"#000000\" font-family=\"sans-serif\" font-size=\"14\" lengthAdjust=\"spacing\" textLength=\"41\" x=\"105.8333\" y=\"220.9951\">field3</text><ellipse cx=\"96.8333\" cy=\"233.9453\" fill=\"none\" rx=\"3\" ry=\"3\" style=\"stroke:#038048;stroke-width:1.0;\"/><text fill=\"#000000\" font-family=\"sans-serif\" font-size=\"14\" lengthAdjust=\"spacing\" textLength=\"40\" x=\"105.8333\" y=\"237.292\">field4</text><line style=\"stroke:#181818;stroke-width:0.5;\" x1=\"86.8333\" x2=\"151.8333\" y1=\"244.5938\" y2=\"244.5938\"/></g><!--link Foo to Bar--><g id=\"link_Foo_Bar\"><path codeLine=\"11\" d=\"M85.3333,51 C12,51 6,216 79.3333,216 \" fill=\"none\" id=\"Foo-to-Bar\" style=\"stroke:#181818;stroke-width:1.0;\"/><polygon fill=\"#181818\" points=\"85.3333,216,76.3333,212,80.3333,216,76.3333,220,85.3333,216\" style=\"stroke:#181818;stroke-width:1.0;\"/><text fill=\"#000000\" font-family=\"sans-serif\" font-size=\"13\" lengthAdjust=\"spacing\" textLength=\"21\" x=\"32.3333\" y=\"134.0669\">foo</text></g><!--link Foo to Bar--><g id=\"link_Foo_Bar\"><path codeLine=\"12\" d=\"M154.3333,67 C191.0003,67 197.0003,232 160.3333,232 \" fill=\"none\" id=\"Foo-to-Bar-1\" style=\"stroke:#181818;stroke-width:1.0;\"/><polygon fill=\"#181818\" points=\"154.3333,232,163.3333,236,159.3333,232,163.3333,228,154.3333,232\" style=\"stroke:#181818;stroke-width:1.0;\"/><text fill=\"#000000\" font-family=\"sans-serif\" font-size=\"13\" lengthAdjust=\"spacing\" textLength=\"21\" x=\"182.3333\" y=\"134.0669\">bar</text></g><!--SRC=[Iyv9B2vMSClFLwZcqbP8oqpDIJ64COouQhcuai4Ad1AB40gCOGmJa0AWNYihY4O5NLqxa58etrZ1IY4jFnz9XH6Q2XEWYgJ48W00]--></g></svg>"
      ],
      "text/plain": [
       "<IPython.core.display.SVG object>"
      ]
     },
     "execution_count": 37,
     "metadata": {},
     "output_type": "execute_result"
    }
   ],
   "source": [
    "%%plantuml\n",
    "@startuml\n",
    "class Foo {\n",
    "+ field1\n",
    "+ field2\n",
    "}\n",
    "\n",
    "class Bar {\n",
    "+ field3\n",
    "+ field4\n",
    "}\n",
    "\n",
    "Foo::field1 --> Bar::field3 : foo\n",
    "Foo::field2 --> Bar::field4 : bar\n",
    "@enduml\n"
   ]
  },
  {
   "cell_type": "markdown",
   "metadata": {},
   "source": [
    "## 3. Association and Cardinality\n",
    "You can define association class after that a relation has been defined between two classes, like in this example:"
   ]
  },
  {
   "cell_type": "code",
   "execution_count": 29,
   "metadata": {},
   "outputs": [
    {
     "data": {
      "image/svg+xml": [
       "<svg xmlns=\"http://www.w3.org/2000/svg\" xmlns:xlink=\"http://www.w3.org/1999/xlink\" contentStyleType=\"text/css\" height=\"218px\" preserveAspectRatio=\"none\" style=\"width:259px;height:218px;background:#FFFFFF;\" version=\"1.1\" viewBox=\"0 0 259 218\" width=\"259px\" zoomAndPan=\"magnify\"><defs/><g><!--class Student--><g id=\"elem_Student\"><rect codeLine=\"1\" fill=\"#F1F1F1\" height=\"64.2969\" id=\"Student\" rx=\"2.5\" ry=\"2.5\" style=\"stroke:#181818;stroke-width:0.5;\" width=\"90\" x=\"7\" y=\"7\"/><ellipse cx=\"22\" cy=\"23\" fill=\"#ADD1B2\" rx=\"11\" ry=\"11\" style=\"stroke:#181818;stroke-width:1.0;\"/><path d=\"M24.3438,18.6719 C23.4063,18.2344 22.8125,18.0938 21.9375,18.0938 C19.3125,18.0938 17.3125,20.1719 17.3125,22.8906 L17.3125,24.0156 C17.3125,26.5938 19.4219,28.4844 22.3125,28.4844 C23.5313,28.4844 24.6875,28.1875 25.4375,27.6406 C26.0156,27.2344 26.3438,26.7813 26.3438,26.3906 C26.3438,25.9375 25.9531,25.5469 25.4844,25.5469 C25.2656,25.5469 25.0625,25.625 24.875,25.8125 C24.4219,26.2969 24.4219,26.2969 24.2344,26.3906 C23.8125,26.6563 23.125,26.7813 22.3594,26.7813 C20.3125,26.7813 19.0156,25.6875 19.0156,23.9844 L19.0156,22.8906 C19.0156,21.1094 20.2656,19.7969 22,19.7969 C22.5781,19.7969 23.1875,19.9531 23.6563,20.2031 C24.1406,20.4844 24.3125,20.7031 24.4063,21.1094 C24.4688,21.5156 24.5,21.6406 24.6406,21.7656 C24.7813,21.9063 25.0156,22.0156 25.2344,22.0156 C25.5,22.0156 25.7656,21.875 25.9375,21.6563 C26.0469,21.5 26.0781,21.3125 26.0781,20.8906 L26.0781,19.4688 C26.0781,19.0313 26.0625,18.9063 25.9688,18.75 C25.8125,18.4844 25.5313,18.3438 25.2344,18.3438 C24.9375,18.3438 24.7344,18.4375 24.5156,18.75 L24.3438,18.6719 Z \" fill=\"#000000\"/><text fill=\"#000000\" font-family=\"sans-serif\" font-size=\"14\" lengthAdjust=\"spacing\" textLength=\"58\" x=\"36\" y=\"27.8467\">Student</text><line style=\"stroke:#181818;stroke-width:0.5;\" x1=\"8\" x2=\"96\" y1=\"39\" y2=\"39\"/><text fill=\"#000000\" font-family=\"sans-serif\" font-size=\"14\" lengthAdjust=\"spacing\" textLength=\"41\" x=\"13\" y=\"55.9951\">Name</text><line style=\"stroke:#181818;stroke-width:0.5;\" x1=\"8\" x2=\"96\" y1=\"63.2969\" y2=\"63.2969\"/></g><!--class Course--><g id=\"elem_Course\"><rect fill=\"#F1F1F1\" height=\"48\" id=\"Course\" rx=\"2.5\" ry=\"2.5\" style=\"stroke:#181818;stroke-width:0.5;\" width=\"81\" x=\"171.5\" y=\"15\"/><ellipse cx=\"186.5\" cy=\"31\" fill=\"#ADD1B2\" rx=\"11\" ry=\"11\" style=\"stroke:#181818;stroke-width:1.0;\"/><path d=\"M188.8438,26.6719 C187.9063,26.2344 187.3125,26.0938 186.4375,26.0938 C183.8125,26.0938 181.8125,28.1719 181.8125,30.8906 L181.8125,32.0156 C181.8125,34.5938 183.9219,36.4844 186.8125,36.4844 C188.0313,36.4844 189.1875,36.1875 189.9375,35.6406 C190.5156,35.2344 190.8438,34.7813 190.8438,34.3906 C190.8438,33.9375 190.4531,33.5469 189.9844,33.5469 C189.7656,33.5469 189.5625,33.625 189.375,33.8125 C188.9219,34.2969 188.9219,34.2969 188.7344,34.3906 C188.3125,34.6563 187.625,34.7813 186.8594,34.7813 C184.8125,34.7813 183.5156,33.6875 183.5156,31.9844 L183.5156,30.8906 C183.5156,29.1094 184.7656,27.7969 186.5,27.7969 C187.0781,27.7969 187.6875,27.9531 188.1563,28.2031 C188.6406,28.4844 188.8125,28.7031 188.9063,29.1094 C188.9688,29.5156 189,29.6406 189.1406,29.7656 C189.2813,29.9063 189.5156,30.0156 189.7344,30.0156 C190,30.0156 190.2656,29.875 190.4375,29.6563 C190.5469,29.5 190.5781,29.3125 190.5781,28.8906 L190.5781,27.4688 C190.5781,27.0313 190.5625,26.9063 190.4688,26.75 C190.3125,26.4844 190.0313,26.3438 189.7344,26.3438 C189.4375,26.3438 189.2344,26.4375 189.0156,26.75 L188.8438,26.6719 Z \" fill=\"#000000\"/><text fill=\"#000000\" font-family=\"sans-serif\" font-size=\"14\" lengthAdjust=\"spacing\" textLength=\"49\" x=\"200.5\" y=\"35.8467\">Course</text><line style=\"stroke:#181818;stroke-width:0.5;\" x1=\"172.5\" x2=\"251.5\" y1=\"47\" y2=\"47\"/><line style=\"stroke:#181818;stroke-width:0.5;\" x1=\"172.5\" x2=\"251.5\" y1=\"55\" y2=\"55\"/></g><!--class Enrollment--><g id=\"elem_Enrollment\"><rect codeLine=\"7\" fill=\"#F1F1F1\" height=\"80.5938\" id=\"Enrollment\" rx=\"2.5\" ry=\"2.5\" style=\"stroke:#181818;stroke-width:0.5;\" width=\"112\" x=\"78\" y=\"131\"/><ellipse cx=\"93\" cy=\"147\" fill=\"#ADD1B2\" rx=\"11\" ry=\"11\" style=\"stroke:#181818;stroke-width:1.0;\"/><path d=\"M95.3438,142.6719 C94.4063,142.2344 93.8125,142.0938 92.9375,142.0938 C90.3125,142.0938 88.3125,144.1719 88.3125,146.8906 L88.3125,148.0156 C88.3125,150.5938 90.4219,152.4844 93.3125,152.4844 C94.5313,152.4844 95.6875,152.1875 96.4375,151.6406 C97.0156,151.2344 97.3438,150.7813 97.3438,150.3906 C97.3438,149.9375 96.9531,149.5469 96.4844,149.5469 C96.2656,149.5469 96.0625,149.625 95.875,149.8125 C95.4219,150.2969 95.4219,150.2969 95.2344,150.3906 C94.8125,150.6563 94.125,150.7813 93.3594,150.7813 C91.3125,150.7813 90.0156,149.6875 90.0156,147.9844 L90.0156,146.8906 C90.0156,145.1094 91.2656,143.7969 93,143.7969 C93.5781,143.7969 94.1875,143.9531 94.6563,144.2031 C95.1406,144.4844 95.3125,144.7031 95.4063,145.1094 C95.4688,145.5156 95.5,145.6406 95.6406,145.7656 C95.7813,145.9063 96.0156,146.0156 96.2344,146.0156 C96.5,146.0156 96.7656,145.875 96.9375,145.6563 C97.0469,145.5 97.0781,145.3125 97.0781,144.8906 L97.0781,143.4688 C97.0781,143.0313 97.0625,142.9063 96.9688,142.75 C96.8125,142.4844 96.5313,142.3438 96.2344,142.3438 C95.9375,142.3438 95.7344,142.4375 95.5156,142.75 L95.3438,142.6719 Z \" fill=\"#000000\"/><text fill=\"#000000\" font-family=\"sans-serif\" font-size=\"14\" lengthAdjust=\"spacing\" textLength=\"80\" x=\"107\" y=\"151.8467\">Enrollment</text><line style=\"stroke:#181818;stroke-width:0.5;\" x1=\"79\" x2=\"189\" y1=\"163\" y2=\"163\"/><line style=\"stroke:#181818;stroke-width:0.5;\" x1=\"79\" x2=\"189\" y1=\"171\" y2=\"171\"/><text fill=\"#000000\" font-family=\"sans-serif\" font-size=\"14\" lengthAdjust=\"spacing\" textLength=\"44\" x=\"84\" y=\"187.9951\">drop()</text><text fill=\"#000000\" font-family=\"sans-serif\" font-size=\"14\" lengthAdjust=\"spacing\" textLength=\"56\" x=\"84\" y=\"204.292\">cancel()</text></g><ellipse cx=\"134\" cy=\"39\" fill=\"#181818\" rx=\"2\" ry=\"2\" style=\"stroke:#181818;stroke-width:1.0;\"/><!--link Student to apoint6--><g id=\"link_Student_apoint6\"><path d=\"M97.1641,39 C108.771,39 120.378,39 131.986,39 \" fill=\"none\" id=\"Student-apoint6\" style=\"stroke:#181818;stroke-width:1.0;\"/><text fill=\"#000000\" font-family=\"sans-serif\" font-size=\"13\" lengthAdjust=\"spacing\" textLength=\"23\" x=\"100.8992\" y=\"32.9288\">0..*</text></g><!--link apoint6 to Course--><g id=\"link_apoint6_Course\"><path d=\"M136.133,39 C147.888,39 159.644,39 171.399,39 \" fill=\"none\" id=\"apoint6-Course\" style=\"stroke:#181818;stroke-width:1.0;\"/><text fill=\"#000000\" font-family=\"sans-serif\" font-size=\"13\" lengthAdjust=\"spacing\" textLength=\"23\" x=\"143.9492\" y=\"33.241\">1..*</text></g><!--link apoint6 to Enrollment--><g id=\"link_apoint6_Enrollment\"><path d=\"M134,41.466 C134,50.202 134,96.206 134,130.8142 \" fill=\"none\" id=\"apoint6-Enrollment\" style=\"stroke:#181818;stroke-width:1.0;stroke-dasharray:7.0,7.0;\"/></g><!--SRC=[Iyv9B2vM22ufJKdDAr6evb9Gy4lCJUMgvO89AHdewMafAUWgA1c26SxvfKN5gLmQK7aTg82cWfwUWcjUKNvEJYvGc8ih6MmmGWHiTafHVe669f2Hd9YNd9e3PDO20000]--></g></svg>"
      ],
      "text/plain": [
       "<IPython.core.display.SVG object>"
      ]
     },
     "execution_count": 29,
     "metadata": {},
     "output_type": "execute_result"
    }
   ],
   "source": [
    "%%plantuml\n",
    "@startuml\n",
    "class Student {\n",
    "  Name\n",
    "}\n",
    "\n",
    "Student \"0..*\" - \"1..*\" Course\n",
    "(Student, Course) .. Enrollment\n",
    "\n",
    "class Enrollment {\n",
    "  drop()\n",
    "  cancel()\n",
    "}\n",
    "@enduml\n"
   ]
  },
  {
   "cell_type": "markdown",
   "metadata": {},
   "source": [
    "\n",
    "## 4. Examples\n",
    "\n",
    "### Example 1:\n",
    "\n",
    "Lets create a class diagram that shows the structure or schema of 3 CSV files ```employees```,  ```departments``` and ```projects``` (one class per CSV file). We need to make sure to highlight primary and foreign key attributes (**bold**) and mark in color (**bold and red**) the missing key attributes in the available data that are necessary for the relationships listed below. It also makes sense to analyze the data types (string, int, float) of the existing values and display them as well.\n",
    "\n",
    "The following relationships exist in the data or are to be modeled:\n",
    "- A department has several projects, but a project is always assigned to exactly one department\n",
    "- A department has many employees, but an employee is assigned to only one department"
   ]
  },
  {
   "cell_type": "code",
   "execution_count": 39,
   "metadata": {},
   "outputs": [
    {
     "data": {
      "image/svg+xml": [
       "<svg xmlns=\"http://www.w3.org/2000/svg\" xmlns:xlink=\"http://www.w3.org/1999/xlink\" contentStyleType=\"text/css\" height=\"489px\" preserveAspectRatio=\"none\" style=\"width:489px;height:489px;background:#FFFFFF;\" version=\"1.1\" viewBox=\"0 0 489 489\" width=\"489px\" zoomAndPan=\"magnify\"><defs/><g><text fill=\"#000000\" font-family=\"sans-serif\" font-size=\"14\" font-weight=\"bold\" lengthAdjust=\"spacing\" textLength=\"155\" x=\"160\" y=\"22.9951\">Relational diagram</text><!--class d--><g id=\"elem_d\"><rect codeLine=\"6\" fill=\"#F1F1F1\" height=\"99.4844\" id=\"d\" rx=\"2.5\" ry=\"2.5\" style=\"stroke:#181818;stroke-width:0.5;\" width=\"123\" x=\"182.5\" y=\"44.2969\"/><text fill=\"#000000\" font-family=\"sans-serif\" font-size=\"14\" lengthAdjust=\"spacing\" textLength=\"90\" x=\"199\" y=\"62.292\">Department</text><line style=\"stroke:#181818;stroke-width:0.5;\" x1=\"183.5\" x2=\"304.5\" y1=\"70.5938\" y2=\"70.5938\"/><ellipse cx=\"193.5\" cy=\"84.2422\" fill=\"#000000\" rx=\"3\" ry=\"3\" style=\"stroke:#000000;stroke-width:1.0;\"/><text fill=\"#000000\" font-family=\"sans-serif\" font-size=\"14\" font-weight=\"bold\" lengthAdjust=\"spacing\" textLength=\"97\" x=\"202.5\" y=\"87.5889\">id : int «PK»</text><ellipse cx=\"193.5\" cy=\"100.5391\" fill=\"#000000\" rx=\"3\" ry=\"3\" style=\"stroke:#000000;stroke-width:1.0;\"/><text fill=\"#000000\" font-family=\"sans-serif\" font-size=\"14\" lengthAdjust=\"spacing\" textLength=\"95\" x=\"202.5\" y=\"103.8857\">name : string</text><ellipse cx=\"193.5\" cy=\"116.8359\" fill=\"#000000\" rx=\"3\" ry=\"3\" style=\"stroke:#000000;stroke-width:1.0;\"/><text fill=\"#000000\" font-family=\"sans-serif\" font-size=\"14\" lengthAdjust=\"spacing\" textLength=\"82\" x=\"202.5\" y=\"120.1826\">city : string</text><ellipse cx=\"193.5\" cy=\"133.1328\" fill=\"#000000\" rx=\"3\" ry=\"3\" style=\"stroke:#000000;stroke-width:1.0;\"/><text fill=\"#000000\" font-family=\"sans-serif\" font-size=\"14\" lengthAdjust=\"spacing\" textLength=\"97\" x=\"202.5\" y=\"136.4795\">zip_code : int</text></g><!--class p--><g id=\"elem_p\"><rect codeLine=\"13\" fill=\"#F1F1F1\" height=\"148.375\" id=\"p\" rx=\"2.5\" ry=\"2.5\" style=\"stroke:#181818;stroke-width:0.5;\" width=\"220\" x=\"7\" y=\"277.2969\"/><text fill=\"#000000\" font-family=\"sans-serif\" font-size=\"14\" lengthAdjust=\"spacing\" textLength=\"59\" x=\"87.5\" y=\"295.292\">Projects</text><line style=\"stroke:#181818;stroke-width:0.5;\" x1=\"8\" x2=\"226\" y1=\"303.5938\" y2=\"303.5938\"/><ellipse cx=\"18\" cy=\"317.2422\" fill=\"#000000\" rx=\"3\" ry=\"3\" style=\"stroke:#000000;stroke-width:1.0;\"/><text fill=\"#FF6347\" font-family=\"sans-serif\" font-size=\"14\" font-weight=\"bold\" lengthAdjust=\"spacing\" textLength=\"97\" x=\"27\" y=\"320.5889\">id : int «PK»</text><ellipse cx=\"18\" cy=\"333.5391\" fill=\"#000000\" rx=\"3\" ry=\"3\" style=\"stroke:#000000;stroke-width:1.0;\"/><text fill=\"#000000\" font-family=\"sans-serif\" font-size=\"14\" font-weight=\"bold\" lengthAdjust=\"spacing\" textLength=\"194\" x=\"27\" y=\"336.8857\">department_id: int «FK»</text><ellipse cx=\"18\" cy=\"349.8359\" fill=\"#000000\" rx=\"3\" ry=\"3\" style=\"stroke:#000000;stroke-width:1.0;\"/><text fill=\"#000000\" font-family=\"sans-serif\" font-size=\"14\" lengthAdjust=\"spacing\" textLength=\"82\" x=\"27\" y=\"353.1826\">title: string</text><ellipse cx=\"18\" cy=\"366.1328\" fill=\"#000000\" rx=\"3\" ry=\"3\" style=\"stroke:#000000;stroke-width:1.0;\"/><text fill=\"#000000\" font-family=\"sans-serif\" font-size=\"14\" lengthAdjust=\"spacing\" textLength=\"131\" x=\"27\" y=\"369.4795\">proj_image: string</text><ellipse cx=\"18\" cy=\"382.4297\" fill=\"#000000\" rx=\"3\" ry=\"3\" style=\"stroke:#000000;stroke-width:1.0;\"/><text fill=\"#000000\" font-family=\"sans-serif\" font-size=\"14\" lengthAdjust=\"spacing\" textLength=\"95\" x=\"27\" y=\"385.7764\">budget: float</text><ellipse cx=\"18\" cy=\"398.7266\" fill=\"#000000\" rx=\"3\" ry=\"3\" style=\"stroke:#000000;stroke-width:1.0;\"/><text fill=\"#000000\" font-family=\"sans-serif\" font-size=\"14\" lengthAdjust=\"spacing\" textLength=\"126\" x=\"27\" y=\"402.0732\">start_date: string</text><ellipse cx=\"18\" cy=\"415.0234\" fill=\"#000000\" rx=\"3\" ry=\"3\" style=\"stroke:#000000;stroke-width:1.0;\"/><text fill=\"#000000\" font-family=\"sans-serif\" font-size=\"14\" lengthAdjust=\"spacing\" textLength=\"118\" x=\"27\" y=\"418.3701\">end_date: string</text></g><!--class e--><g id=\"elem_e\"><rect codeLine=\"23\" fill=\"#F1F1F1\" height=\"262.4531\" id=\"e\" rx=\"2.5\" ry=\"2.5\" style=\"stroke:#181818;stroke-width:0.5;\" width=\"220\" x=\"262\" y=\"220.2969\"/><text fill=\"#000000\" font-family=\"sans-serif\" font-size=\"14\" lengthAdjust=\"spacing\" textLength=\"79\" x=\"332.5\" y=\"238.292\">Employees</text><line style=\"stroke:#181818;stroke-width:0.5;\" x1=\"263\" x2=\"481\" y1=\"246.5938\" y2=\"246.5938\"/><ellipse cx=\"273\" cy=\"260.2422\" fill=\"#000000\" rx=\"3\" ry=\"3\" style=\"stroke:#000000;stroke-width:1.0;\"/><text fill=\"#000000\" font-family=\"sans-serif\" font-size=\"14\" font-weight=\"bold\" lengthAdjust=\"spacing\" textLength=\"97\" x=\"282\" y=\"263.5889\">id : int «PK»</text><ellipse cx=\"273\" cy=\"276.5391\" fill=\"#000000\" rx=\"3\" ry=\"3\" style=\"stroke:#000000;stroke-width:1.0;\"/><text fill=\"#FF6347\" font-family=\"sans-serif\" font-size=\"14\" font-weight=\"bold\" lengthAdjust=\"spacing\" textLength=\"194\" x=\"282\" y=\"279.8857\">department_id: int «FK»</text><ellipse cx=\"273\" cy=\"292.8359\" fill=\"#000000\" rx=\"3\" ry=\"3\" style=\"stroke:#000000;stroke-width:1.0;\"/><text fill=\"#000000\" font-family=\"sans-serif\" font-size=\"14\" lengthAdjust=\"spacing\" textLength=\"59\" x=\"282\" y=\"296.1826\">age : int</text><ellipse cx=\"273\" cy=\"309.1328\" fill=\"#000000\" rx=\"3\" ry=\"3\" style=\"stroke:#000000;stroke-width:1.0;\"/><text fill=\"#000000\" font-family=\"sans-serif\" font-size=\"14\" lengthAdjust=\"spacing\" textLength=\"143\" x=\"282\" y=\"312.4795\">department : string</text><ellipse cx=\"273\" cy=\"325.4297\" fill=\"#000000\" rx=\"3\" ry=\"3\" style=\"stroke:#000000;stroke-width:1.0;\"/><text fill=\"#000000\" font-family=\"sans-serif\" font-size=\"14\" lengthAdjust=\"spacing\" textLength=\"106\" x=\"282\" y=\"328.7764\">gender : string</text><ellipse cx=\"273\" cy=\"341.7266\" fill=\"#000000\" rx=\"3\" ry=\"3\" style=\"stroke:#000000;stroke-width:1.0;\"/><text fill=\"#000000\" font-family=\"sans-serif\" font-size=\"14\" lengthAdjust=\"spacing\" textLength=\"126\" x=\"282\" y=\"345.0732\">education : string</text><ellipse cx=\"273\" cy=\"358.0234\" fill=\"#000000\" rx=\"3\" ry=\"3\" style=\"stroke:#000000;stroke-width:1.0;\"/><text fill=\"#000000\" font-family=\"sans-serif\" font-size=\"14\" lengthAdjust=\"spacing\" textLength=\"183\" x=\"282\" y=\"361.3701\">recruitment_type : string</text><ellipse cx=\"273\" cy=\"374.3203\" fill=\"#000000\" rx=\"3\" ry=\"3\" style=\"stroke:#000000;stroke-width:1.0;\"/><text fill=\"#000000\" font-family=\"sans-serif\" font-size=\"14\" lengthAdjust=\"spacing\" textLength=\"97\" x=\"282\" y=\"377.667\">job_level : int</text><ellipse cx=\"273\" cy=\"390.6172\" fill=\"#000000\" rx=\"3\" ry=\"3\" style=\"stroke:#000000;stroke-width:1.0;\"/><text fill=\"#000000\" font-family=\"sans-serif\" font-size=\"14\" lengthAdjust=\"spacing\" textLength=\"98\" x=\"282\" y=\"393.9639\">rating : string</text><ellipse cx=\"273\" cy=\"406.9141\" fill=\"#000000\" rx=\"3\" ry=\"3\" style=\"stroke:#000000;stroke-width:1.0;\"/><text fill=\"#000000\" font-family=\"sans-serif\" font-size=\"14\" lengthAdjust=\"spacing\" textLength=\"82\" x=\"282\" y=\"410.2607\">awards : int</text><ellipse cx=\"273\" cy=\"423.2109\" fill=\"#000000\" rx=\"3\" ry=\"3\" style=\"stroke:#000000;stroke-width:1.0;\"/><text fill=\"#000000\" font-family=\"sans-serif\" font-size=\"14\" lengthAdjust=\"spacing\" textLength=\"129\" x=\"282\" y=\"426.5576\">certifications : int</text><ellipse cx=\"273\" cy=\"439.5078\" fill=\"#000000\" rx=\"3\" ry=\"3\" style=\"stroke:#000000;stroke-width:1.0;\"/><text fill=\"#000000\" font-family=\"sans-serif\" font-size=\"14\" lengthAdjust=\"spacing\" textLength=\"88\" x=\"282\" y=\"442.8545\">salary : float</text><ellipse cx=\"273\" cy=\"455.8047\" fill=\"#000000\" rx=\"3\" ry=\"3\" style=\"stroke:#000000;stroke-width:1.0;\"/><text fill=\"#000000\" font-family=\"sans-serif\" font-size=\"14\" lengthAdjust=\"spacing\" textLength=\"134\" x=\"282\" y=\"459.1514\">entry_date : string</text><ellipse cx=\"273\" cy=\"472.1016\" fill=\"#000000\" rx=\"3\" ry=\"3\" style=\"stroke:#000000;stroke-width:1.0;\"/><text fill=\"#000000\" font-family=\"sans-serif\" font-size=\"14\" lengthAdjust=\"spacing\" textLength=\"94\" x=\"282\" y=\"475.4482\">satisfied : int</text></g><!--link d to e--><g id=\"link_d_e\"><path codeLine=\"40\" d=\"M268.377,143.4559 C279.439,165.5359 293.104,192.8129 306.84,220.2319 \" fill=\"none\" id=\"d-e\" style=\"stroke:#181818;stroke-width:1.0;\"/><polygon fill=\"#000000\" points=\"297.2396,186.3337,295.8158,176.9303,290.5605,179.563,297.2396,186.3337\" style=\"stroke:#000000;stroke-width:1.0;\"/><text fill=\"#000000\" font-family=\"sans-serif\" font-size=\"13\" lengthAdjust=\"spacing\" textLength=\"23\" x=\"304\" y=\"186.3638\">has</text><text fill=\"#000000\" font-family=\"sans-serif\" font-size=\"13\" lengthAdjust=\"spacing\" textLength=\"8\" x=\"263.3699\" y=\"163.8922\">1</text><text fill=\"#000000\" font-family=\"sans-serif\" font-size=\"13\" lengthAdjust=\"spacing\" textLength=\"23\" x=\"279.4081\" y=\"209.2787\">0..*</text></g><!--link d to p--><g id=\"link_d_p\"><path codeLine=\"41\" d=\"M219.813,143.4559 C201.03,181.2449 174.679,234.2569 153.358,277.1519 \" fill=\"none\" id=\"d-p\" style=\"stroke:#181818;stroke-width:1.0;\"/><polygon fill=\"#000000\" points=\"205.7745,186.3407,212.4322,179.5491,207.1688,176.9329,205.7745,186.3407\" style=\"stroke:#000000;stroke-width:1.0;\"/><text fill=\"#000000\" font-family=\"sans-serif\" font-size=\"13\" lengthAdjust=\"spacing\" textLength=\"23\" x=\"217\" y=\"186.3638\">has</text><text fill=\"#000000\" font-family=\"sans-serif\" font-size=\"13\" lengthAdjust=\"spacing\" textLength=\"8\" x=\"207.673\" y=\"163.8922\">1</text><text fill=\"#000000\" font-family=\"sans-serif\" font-size=\"13\" lengthAdjust=\"spacing\" textLength=\"23\" x=\"132.805\" y=\"266.1699\">0..*</text></g><!--SRC=[XL8zRy8m4DtpAquPBK7R5KMPsYvTKDKzEkmZ6DbnP1z5AUf_hqb28APgCpdltTrxzy6Q3S4x6MJj6ZIWDDOURRRJYa1gBmqDRqjsGpvaOUUEiDLaLCWoQJ04o9-fHS-M6iu10oWuPH0_0K9e1IlG3KDHhD_AKeYHQT1IP09xtTGZ9ZLtAVQbsqewHKELx7lIN7kt9ycXLsnxGG65TCRvrOUpoAxyHRruw2FARBId9kULLfVGryce03uFwDQJW3OgLzfYdU2RWwg9Lx0r3dc00iVgbK9EGgbHS_JQrujjZUk8XiO8Jja_aqnx_gEbs-vZPknW7ElmVyrCjr17m-HJbDH1zdUJ4fwaF-Z10tVjtQBtRbCP-YGpa_UnLbEdiNX4hy8iK99dlTM3zfmAQD2VZsXQGZzjzbq_xxHuY2L2F6PrFIy5-LCEYmNaZykboE6SiukRAE-OziBy0000]--></g></svg>"
      ],
      "text/plain": [
       "<IPython.core.display.SVG object>"
      ]
     },
     "execution_count": 39,
     "metadata": {},
     "output_type": "execute_result"
    }
   ],
   "source": [
    "%%plantuml\n",
    "@startuml\n",
    "\n",
    "title Relational diagram\n",
    "hide circle\n",
    "hide members\n",
    "show fields\n",
    "\n",
    "class \"Department\" as d {\n",
    "    * **id : int <<PK>>**\n",
    "    * name : string\n",
    "    * city : string\n",
    "    * zip_code : int\n",
    "}\n",
    "\n",
    "class \"Projects\" as p{\n",
    "   * <color:Tomato>**id : int <<PK>>**</color>\n",
    "   * **department_id: int <<FK>>**\n",
    "   * title: string\n",
    "   * proj_image: string\n",
    "   * budget: float\n",
    "   * start_date: string\n",
    "   * end_date: string\n",
    "}\n",
    "\n",
    "class \"Employees\" as e {\n",
    "   * **id : int <<PK>>**\n",
    "    * <color:Tomato>**department_id: int <<FK>>**</color>\n",
    "    * age : int\n",
    "    * department : string\n",
    "    * gender : string\n",
    "    * education : string\n",
    "    * recruitment_type : string\n",
    "    * job_level : int\n",
    "    * rating : string\n",
    "    * awards : int\n",
    "    * certifications : int\n",
    "    * salary : float\n",
    "    * entry_date : string\n",
    "    * satisfied : int\n",
    "}\n",
    "\n",
    "d \"1\" -- \"0..*\" e : has >\n",
    "d \"1\" -- \"0..*\" p : has >\n",
    "\n",
    "\n",
    "\n",
    "@enduml"
   ]
  },
  {
   "cell_type": "markdown",
   "metadata": {},
   "source": [
    "### Example 2:\n",
    "\n",
    "Now map the diagram from Example 1 to the relational data model (physical model). In this case, no further division of the tables has to be carried out in the sense of normalization. Also mark in color the attributes necessary for the modeling that are missing in the existing data. Also mark redundant attributes that you would remove at this point.\n"
   ]
  },
  {
   "cell_type": "code",
   "execution_count": 41,
   "metadata": {},
   "outputs": [
    {
     "data": {
      "image/svg+xml": [
       "<svg xmlns=\"http://www.w3.org/2000/svg\" xmlns:xlink=\"http://www.w3.org/1999/xlink\" contentStyleType=\"text/css\" height=\"435px\" preserveAspectRatio=\"none\" style=\"width:868px;height:435px;background:#FFFFFF;\" version=\"1.1\" viewBox=\"0 0 868 435\" width=\"868px\" zoomAndPan=\"magnify\"><defs/><g><!--class d--><g id=\"elem_d\"><rect codeLine=\"5\" fill=\"#F1F1F1\" height=\"99.4844\" id=\"d\" rx=\"2.5\" ry=\"2.5\" style=\"stroke:#181818;stroke-width:0.5;\" width=\"119\" x=\"564\" y=\"7\"/><text fill=\"#000000\" font-family=\"sans-serif\" font-size=\"14\" lengthAdjust=\"spacing\" textLength=\"90\" x=\"578.5\" y=\"24.9951\">Department</text><line style=\"stroke:#181818;stroke-width:0.5;\" x1=\"565\" x2=\"682\" y1=\"33.2969\" y2=\"33.2969\"/><ellipse cx=\"575\" cy=\"46.9453\" fill=\"#000000\" rx=\"3\" ry=\"3\" style=\"stroke:#000000;stroke-width:1.0;\"/><text fill=\"#000000\" font-family=\"sans-serif\" font-size=\"14\" font-weight=\"bold\" lengthAdjust=\"spacing\" textLength=\"92\" x=\"584\" y=\"50.292\">id: int «PK»</text><ellipse cx=\"575\" cy=\"63.2422\" fill=\"#000000\" rx=\"3\" ry=\"3\" style=\"stroke:#000000;stroke-width:1.0;\"/><text fill=\"#000000\" font-family=\"sans-serif\" font-size=\"14\" lengthAdjust=\"spacing\" textLength=\"80\" x=\"584\" y=\"66.5889\">name: text</text><ellipse cx=\"575\" cy=\"79.5391\" fill=\"#000000\" rx=\"3\" ry=\"3\" style=\"stroke:#000000;stroke-width:1.0;\"/><text fill=\"#000000\" font-family=\"sans-serif\" font-size=\"14\" lengthAdjust=\"spacing\" textLength=\"67\" x=\"584\" y=\"82.8857\">city: text</text><ellipse cx=\"575\" cy=\"95.8359\" fill=\"#000000\" rx=\"3\" ry=\"3\" style=\"stroke:#000000;stroke-width:1.0;\"/><text fill=\"#000000\" font-family=\"sans-serif\" font-size=\"14\" lengthAdjust=\"spacing\" textLength=\"93\" x=\"584\" y=\"99.1826\">zip_code: int</text></g><!--class p--><g id=\"elem_p\"><rect codeLine=\"12\" fill=\"#F1F1F1\" height=\"148.375\" id=\"p\" rx=\"2.5\" ry=\"2.5\" style=\"stroke:#181818;stroke-width:0.5;\" width=\"220\" x=\"641.5\" y=\"223\"/><text fill=\"#000000\" font-family=\"sans-serif\" font-size=\"14\" lengthAdjust=\"spacing\" textLength=\"52\" x=\"725.5\" y=\"240.9951\">Project</text><line style=\"stroke:#181818;stroke-width:0.5;\" x1=\"642.5\" x2=\"860.5\" y1=\"249.2969\" y2=\"249.2969\"/><ellipse cx=\"652.5\" cy=\"262.9453\" fill=\"#000000\" rx=\"3\" ry=\"3\" style=\"stroke:#000000;stroke-width:1.0;\"/><text fill=\"#FF6347\" font-family=\"sans-serif\" font-size=\"14\" font-weight=\"bold\" lengthAdjust=\"spacing\" textLength=\"92\" x=\"661.5\" y=\"266.292\">id: int «PK»</text><ellipse cx=\"652.5\" cy=\"279.2422\" fill=\"#000000\" rx=\"3\" ry=\"3\" style=\"stroke:#000000;stroke-width:1.0;\"/><text fill=\"#000000\" font-family=\"sans-serif\" font-size=\"14\" font-weight=\"bold\" lengthAdjust=\"spacing\" textLength=\"194\" x=\"661.5\" y=\"282.5889\">department_id: int «FK»</text><ellipse cx=\"652.5\" cy=\"295.5391\" fill=\"#000000\" rx=\"3\" ry=\"3\" style=\"stroke:#000000;stroke-width:1.0;\"/><text fill=\"#000000\" font-family=\"sans-serif\" font-size=\"14\" lengthAdjust=\"spacing\" textLength=\"71\" x=\"661.5\" y=\"298.8857\">title: text</text><ellipse cx=\"652.5\" cy=\"311.8359\" fill=\"#000000\" rx=\"3\" ry=\"3\" style=\"stroke:#000000;stroke-width:1.0;\"/><text fill=\"#000000\" font-family=\"sans-serif\" font-size=\"14\" lengthAdjust=\"spacing\" textLength=\"131\" x=\"661.5\" y=\"315.1826\">proj_image: bytea</text><ellipse cx=\"652.5\" cy=\"328.1328\" fill=\"#000000\" rx=\"3\" ry=\"3\" style=\"stroke:#000000;stroke-width:1.0;\"/><text fill=\"#000000\" font-family=\"sans-serif\" font-size=\"14\" lengthAdjust=\"spacing\" textLength=\"95\" x=\"661.5\" y=\"331.4795\">budget: float</text><ellipse cx=\"652.5\" cy=\"344.4297\" fill=\"#000000\" rx=\"3\" ry=\"3\" style=\"stroke:#000000;stroke-width:1.0;\"/><text fill=\"#000000\" font-family=\"sans-serif\" font-size=\"14\" lengthAdjust=\"spacing\" textLength=\"117\" x=\"661.5\" y=\"347.7764\">start_date: date</text><ellipse cx=\"652.5\" cy=\"360.7266\" fill=\"#000000\" rx=\"3\" ry=\"3\" style=\"stroke:#000000;stroke-width:1.0;\"/><text fill=\"#000000\" font-family=\"sans-serif\" font-size=\"14\" lengthAdjust=\"spacing\" textLength=\"109\" x=\"661.5\" y=\"364.0732\">end_date: date</text></g><!--class e--><g id=\"elem_e\"><rect codeLine=\"22\" fill=\"#F1F1F1\" height=\"262.4531\" id=\"e\" rx=\"2.5\" ry=\"2.5\" style=\"stroke:#181818;stroke-width:0.5;\" width=\"220\" x=\"386.5\" y=\"166\"/><text fill=\"#000000\" font-family=\"sans-serif\" font-size=\"14\" lengthAdjust=\"spacing\" textLength=\"72\" x=\"460.5\" y=\"183.9951\">Employee</text><line style=\"stroke:#181818;stroke-width:0.5;\" x1=\"387.5\" x2=\"605.5\" y1=\"192.2969\" y2=\"192.2969\"/><ellipse cx=\"397.5\" cy=\"205.9453\" fill=\"#000000\" rx=\"3\" ry=\"3\" style=\"stroke:#000000;stroke-width:1.0;\"/><text fill=\"#000000\" font-family=\"sans-serif\" font-size=\"14\" font-weight=\"bold\" lengthAdjust=\"spacing\" textLength=\"87\" x=\"406.5\" y=\"209.292\">id: int«PK»</text><ellipse cx=\"397.5\" cy=\"222.2422\" fill=\"#000000\" rx=\"3\" ry=\"3\" style=\"stroke:#000000;stroke-width:1.0;\"/><text fill=\"#FF6347\" font-family=\"sans-serif\" font-size=\"14\" font-weight=\"bold\" lengthAdjust=\"spacing\" textLength=\"194\" x=\"406.5\" y=\"225.5889\">department_id: int «FK»</text><ellipse cx=\"397.5\" cy=\"238.5391\" fill=\"#000000\" rx=\"3\" ry=\"3\" style=\"stroke:#000000;stroke-width:1.0;\"/><text fill=\"#000000\" font-family=\"sans-serif\" font-size=\"14\" lengthAdjust=\"spacing\" textLength=\"55\" x=\"406.5\" y=\"241.8857\">age: int</text><ellipse cx=\"397.5\" cy=\"254.8359\" fill=\"#000000\" rx=\"3\" ry=\"3\" style=\"stroke:#000000;stroke-width:1.0;\"/><text fill=\"#696969\" font-family=\"sans-serif\" font-size=\"14\" lengthAdjust=\"spacing\" textLength=\"88\" x=\"406.5\" y=\"258.1826\">department</text><ellipse cx=\"397.5\" cy=\"271.1328\" fill=\"#000000\" rx=\"3\" ry=\"3\" style=\"stroke:#000000;stroke-width:1.0;\"/><text fill=\"#000000\" font-family=\"sans-serif\" font-size=\"14\" lengthAdjust=\"spacing\" textLength=\"91\" x=\"406.5\" y=\"274.4795\">gender: text</text><ellipse cx=\"397.5\" cy=\"287.4297\" fill=\"#000000\" rx=\"3\" ry=\"3\" style=\"stroke:#000000;stroke-width:1.0;\"/><text fill=\"#000000\" font-family=\"sans-serif\" font-size=\"14\" lengthAdjust=\"spacing\" textLength=\"111\" x=\"406.5\" y=\"290.7764\">education: text</text><ellipse cx=\"397.5\" cy=\"303.7266\" fill=\"#000000\" rx=\"3\" ry=\"3\" style=\"stroke:#000000;stroke-width:1.0;\"/><text fill=\"#000000\" font-family=\"sans-serif\" font-size=\"14\" lengthAdjust=\"spacing\" textLength=\"168\" x=\"406.5\" y=\"307.0732\">recruitment_type: text</text><ellipse cx=\"397.5\" cy=\"320.0234\" fill=\"#000000\" rx=\"3\" ry=\"3\" style=\"stroke:#000000;stroke-width:1.0;\"/><text fill=\"#000000\" font-family=\"sans-serif\" font-size=\"14\" lengthAdjust=\"spacing\" textLength=\"93\" x=\"406.5\" y=\"323.3701\">job_level: int</text><ellipse cx=\"397.5\" cy=\"336.3203\" fill=\"#000000\" rx=\"3\" ry=\"3\" style=\"stroke:#000000;stroke-width:1.0;\"/><text fill=\"#000000\" font-family=\"sans-serif\" font-size=\"14\" lengthAdjust=\"spacing\" textLength=\"86\" x=\"406.5\" y=\"339.667\">rating: float</text><ellipse cx=\"397.5\" cy=\"352.6172\" fill=\"#000000\" rx=\"3\" ry=\"3\" style=\"stroke:#000000;stroke-width:1.0;\"/><text fill=\"#000000\" font-family=\"sans-serif\" font-size=\"14\" lengthAdjust=\"spacing\" textLength=\"78\" x=\"406.5\" y=\"355.9639\">awards: int</text><ellipse cx=\"397.5\" cy=\"368.9141\" fill=\"#000000\" rx=\"3\" ry=\"3\" style=\"stroke:#000000;stroke-width:1.0;\"/><text fill=\"#000000\" font-family=\"sans-serif\" font-size=\"14\" lengthAdjust=\"spacing\" textLength=\"125\" x=\"406.5\" y=\"372.2607\">certifications: int</text><ellipse cx=\"397.5\" cy=\"385.2109\" fill=\"#000000\" rx=\"3\" ry=\"3\" style=\"stroke:#000000;stroke-width:1.0;\"/><text fill=\"#000000\" font-family=\"sans-serif\" font-size=\"14\" lengthAdjust=\"spacing\" textLength=\"84\" x=\"406.5\" y=\"388.5576\">salary: float</text><ellipse cx=\"397.5\" cy=\"401.5078\" fill=\"#000000\" rx=\"3\" ry=\"3\" style=\"stroke:#000000;stroke-width:1.0;\"/><text fill=\"#000000\" font-family=\"sans-serif\" font-size=\"14\" lengthAdjust=\"spacing\" textLength=\"121\" x=\"406.5\" y=\"404.8545\">entry_date: date</text><ellipse cx=\"397.5\" cy=\"417.8047\" fill=\"#000000\" rx=\"3\" ry=\"3\" style=\"stroke:#000000;stroke-width:1.0;\"/><text fill=\"#000000\" font-family=\"sans-serif\" font-size=\"14\" lengthAdjust=\"spacing\" textLength=\"90\" x=\"406.5\" y=\"421.1514\">satisfied: int</text></g><path d=\"M6,272 L6,312.2656 A0,0 0 0 0 6,312.2656 L351,312.2656 A0,0 0 0 0 351,312.2656 L351,296.1328 L390.5,253.3359 L351,288.1328 L351,282 L341,272 L6,272 A0,0 0 0 0 6,272 \" fill=\"#FEFFDD\" style=\"stroke:#181818;stroke-width:0.5;\"/><path d=\"M341,272 L341,282 L351,282 L341,272 \" fill=\"#FEFFDD\" style=\"stroke:#181818;stroke-width:0.5;\"/><text fill=\"#000000\" font-family=\"sans-serif\" font-size=\"13\" lengthAdjust=\"spacing\" textLength=\"85\" x=\"12\" y=\"289.0669\">Das Attribute</text><text fill=\"#000000\" font-family=\"sans-serif\" font-size=\"13\" font-weight=\"bold\" lengthAdjust=\"spacing\" textLength=\"91\" x=\"101\" y=\"289.0669\">department</text><text fill=\"#000000\" font-family=\"sans-serif\" font-size=\"13\" lengthAdjust=\"spacing\" textLength=\"97\" x=\"196\" y=\"289.0669\">wird geloescht,</text><text fill=\"#000000\" font-family=\"sans-serif\" font-size=\"13\" lengthAdjust=\"spacing\" textLength=\"324\" x=\"12\" y=\"304.1997\">da dieses ansonsten redundant vorhanden waere!</text><!--reverse link d to e--><g id=\"link_d_e\"><path codeLine=\"45\" d=\"M594.8268,111.3479 C585.4708,128.9169 577.229,144.395 565.914,165.644 \" fill=\"none\" id=\"d-backto-e\" style=\"stroke:#181818;stroke-width:1.0;\"/><polygon fill=\"#181818\" points=\"597.647,106.052,589.8861,112.1157,595.2968,110.4652,596.9473,115.876,597.647,106.052\" style=\"stroke:#181818;stroke-width:1.0;\"/><text fill=\"#000000\" font-family=\"sans-serif\" font-size=\"13\" lengthAdjust=\"spacing\" textLength=\"8\" x=\"585.2623\" y=\"126.4726\">1</text><text fill=\"#000000\" font-family=\"sans-serif\" font-size=\"13\" lengthAdjust=\"spacing\" textLength=\"23\" x=\"546.0812\" y=\"155.1084\">0..*</text></g><!--reverse link d to p--><g id=\"link_d_p\"><path codeLine=\"46\" d=\"M652.3944,111.3387 C670.3764,144.8427 691.775,184.715 712.104,222.594 \" fill=\"none\" id=\"d-backto-p\" style=\"stroke:#181818;stroke-width:1.0;\"/><polygon fill=\"#181818\" points=\"649.557,106.052,650.2887,115.8736,651.9215,110.4576,657.3376,112.0904,649.557,106.052\" style=\"stroke:#181818;stroke-width:1.0;\"/><text fill=\"#000000\" font-family=\"sans-serif\" font-size=\"13\" lengthAdjust=\"spacing\" textLength=\"8\" x=\"644.7966\" y=\"126.4726\">1</text><text fill=\"#000000\" font-family=\"sans-serif\" font-size=\"13\" lengthAdjust=\"spacing\" textLength=\"23\" x=\"684.253\" y=\"211.8427\">0..*</text></g><!--SRC=[ZP91Zvmm38Nl-HKkHzJTjbU4a2fDsqClU-WTcSGCMOK49MQdjEf_huUPicH6gfO3GY-st_CN1ci8j8tQaHhEtoED7SMaqX1Eq5jo9Ycb7QO4nO4cZ3oIvm8mWO7V2kGfeIojgS1wXhf- -juqPNazy3XI1Km_-Ifeoqic_B9JguEXjLtzsRoUOdWcVJ6QDgDQ1nTYzIECoA6vjwq_h0NDbijiaTlNsg_xY6pPvHadiMxjY4UHkuK9htetcoDn1RqB-AysiOnl3RBKdjzNcRpPYR3RwyiukR0GhOlHFS4RWBSB_sUVcztN-6UcsQ237Rz5MfhNEJTjHubECUD1PjR8DlXCZQJZR2zHU9boXC-XQnszaDj7Y3B47tD-UC9eqhvAKsJRsujZTfBGOLpoVd6Fopt_9Dr9_bwp_LO-o3quwXb23rHLR-Dna4lwp1njDqlx7dzPmib68xnSeAG7VWzhXq4mbX8bG9za0IOlgCpi3SfTlOGue03sS4AAz4u9RJX7KqePA3uLK3yyGF7nyR4iWEwbwIy0]--></g></svg>"
      ],
      "text/plain": [
       "<IPython.core.display.SVG object>"
      ]
     },
     "execution_count": 41,
     "metadata": {},
     "output_type": "execute_result"
    }
   ],
   "source": [
    "%%plantuml\n",
    "@startuml\n",
    "\n",
    "hide circle\n",
    "hide members\n",
    "show fields\n",
    "\n",
    "class \"Department\" as d {\n",
    "    * **id: int <<PK>>**\n",
    "    * name: text\n",
    "    * city: text\n",
    "    * zip_code: int\n",
    "}\n",
    "\n",
    "class \"Project\" as p {\n",
    "    * <color:Tomato>**id: int <<PK>>**</color>\n",
    "    * **department_id: int <<FK>>**\n",
    "    * title: text\n",
    "    * proj_image: bytea\n",
    "    * budget: float\n",
    "    * start_date: date\n",
    "    * end_date: date \n",
    "}\n",
    "\n",
    "class \"Employee\" as e {\n",
    "    * **id: int<<PK>>**\n",
    "    * <color:Tomato>**department_id: int <<FK>>**</color>\n",
    "    * age: int\n",
    "    * <color:DimGrey>department</color>\n",
    "    * gender: text\n",
    "    * education: text\n",
    "    * recruitment_type: text\n",
    "    * job_level: int\n",
    "    * rating: float\n",
    "    * awards: int\n",
    "    * certifications: int\n",
    "    * salary: float\n",
    "    * entry_date: date\n",
    "    * satisfied: int\n",
    "}\n",
    "\n",
    "note left of e::<color:DimGrey>department</color>\n",
    "    Das Attribute **department** wird geloescht, \n",
    "    da dieses ansonsten redundant vorhanden waere!\n",
    "end note\n",
    "\n",
    "\n",
    "d \"1\" <-- \"0..*\" e\n",
    "d \"1\" <-- \"0..*\" p\n",
    "   \n",
    "@enduml"
   ]
  },
  {
   "cell_type": "code",
   "execution_count": null,
   "metadata": {},
   "outputs": [],
   "source": []
  }
 ],
 "metadata": {
  "kernelspec": {
   "display_name": "Python 3 (ipykernel)",
   "language": "python",
   "name": "python3"
  },
  "language_info": {
   "codemirror_mode": {
    "name": "ipython",
    "version": 3
   },
   "file_extension": ".py",
   "mimetype": "text/x-python",
   "name": "python",
   "nbconvert_exporter": "python",
   "pygments_lexer": "ipython3",
   "version": "3.11.3"
  }
 },
 "nbformat": 4,
 "nbformat_minor": 1
}
