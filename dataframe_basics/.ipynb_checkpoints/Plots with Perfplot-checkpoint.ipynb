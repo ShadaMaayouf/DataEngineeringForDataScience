{
 "cells": [
  {
   "cell_type": "code",
   "execution_count": 2,
   "id": "d1225fbc",
   "metadata": {},
   "outputs": [
    {
     "ename": "ModuleNotFoundError",
     "evalue": "No module named 'perfplot'",
     "output_type": "error",
     "traceback": [
      "\u001b[1;31m---------------------------------------------------------------------------\u001b[0m",
      "\u001b[1;31mModuleNotFoundError\u001b[0m                       Traceback (most recent call last)",
      "Cell \u001b[1;32mIn[2], line 3\u001b[0m\n\u001b[0;32m      1\u001b[0m \u001b[38;5;28;01mimport\u001b[39;00m \u001b[38;5;21;01mnumpy\u001b[39;00m \u001b[38;5;28;01mas\u001b[39;00m \u001b[38;5;21;01mnp\u001b[39;00m\n\u001b[0;32m      2\u001b[0m \u001b[38;5;28;01mimport\u001b[39;00m \u001b[38;5;21;01mpandas\u001b[39;00m \u001b[38;5;28;01mas\u001b[39;00m \u001b[38;5;21;01mpd\u001b[39;00m\n\u001b[1;32m----> 3\u001b[0m \u001b[38;5;28;01mimport\u001b[39;00m \u001b[38;5;21;01mperfplot\u001b[39;00m\n",
      "\u001b[1;31mModuleNotFoundError\u001b[0m: No module named 'perfplot'"
     ]
    }
   ],
   "source": [
    "import numpy as np\n",
    "import pandas as pd\n",
    "import perfplot"
   ]
  },
  {
   "cell_type": "code",
   "execution_count": 1,
   "id": "a07acc2e",
   "metadata": {},
   "outputs": [
    {
     "ename": "NameError",
     "evalue": "name 'perfplot' is not defined",
     "output_type": "error",
     "traceback": [
      "\u001b[1;31m---------------------------------------------------------------------------\u001b[0m",
      "\u001b[1;31mNameError\u001b[0m                                 Traceback (most recent call last)",
      "Cell \u001b[1;32mIn[1], line 23\u001b[0m\n\u001b[0;32m     19\u001b[0m \u001b[38;5;28;01mdef\u001b[39;00m \u001b[38;5;21misnull_values_any\u001b[39m(df):\n\u001b[0;32m     20\u001b[0m     \u001b[38;5;28;01mreturn\u001b[39;00m df\u001b[38;5;241m.\u001b[39misnull()\u001b[38;5;241m.\u001b[39mvalues\u001b[38;5;241m.\u001b[39many()\n\u001b[1;32m---> 23\u001b[0m \u001b[43mperfplot\u001b[49m\u001b[38;5;241m.\u001b[39msave(\n\u001b[0;32m     24\u001b[0m     \u001b[38;5;124m\"\u001b[39m\u001b[38;5;124mout.png\u001b[39m\u001b[38;5;124m\"\u001b[39m,\n\u001b[0;32m     25\u001b[0m     setup\u001b[38;5;241m=\u001b[39msetup,\n\u001b[0;32m     26\u001b[0m     kernels\u001b[38;5;241m=\u001b[39m[isnull_any, isnull_values_sum, isnull_sum, isnull_values_any],\n\u001b[0;32m     27\u001b[0m     n_range\u001b[38;5;241m=\u001b[39m[\u001b[38;5;241m2\u001b[39m \u001b[38;5;241m*\u001b[39m\u001b[38;5;241m*\u001b[39m k \u001b[38;5;28;01mfor\u001b[39;00m k \u001b[38;5;129;01min\u001b[39;00m \u001b[38;5;28mrange\u001b[39m(\u001b[38;5;241m25\u001b[39m)],\n\u001b[0;32m     28\u001b[0m )\n",
      "\u001b[1;31mNameError\u001b[0m: name 'perfplot' is not defined"
     ]
    }
   ],
   "source": [
    "\n",
    "def setup(n):\n",
    "    df = pd.DataFrame(np.random.randn(n))\n",
    "    df[df > 0.9] = np.nan\n",
    "    return df\n",
    "\n",
    "\n",
    "def isnull_any(df):\n",
    "    return df.isnull().any()\n",
    "\n",
    "\n",
    "def isnull_values_sum(df):\n",
    "    return df.isnull().values.sum() > 0\n",
    "\n",
    "\n",
    "def isnull_sum(df):\n",
    "    return df.isnull().sum() > 0\n",
    "\n",
    "\n",
    "def isnull_values_any(df):\n",
    "    return df.isnull().values.any()\n",
    "\n",
    "\n",
    "perfplot.save(\n",
    "    \"out.png\",\n",
    "    setup=setup,\n",
    "    kernels=[isnull_any, isnull_values_sum, isnull_sum, isnull_values_any],\n",
    "    n_range=[2 ** k for k in range(25)],\n",
    ")"
   ]
  }
 ],
 "metadata": {
  "kernelspec": {
   "display_name": "Python 3 (ipykernel)",
   "language": "python",
   "name": "python3"
  },
  "language_info": {
   "codemirror_mode": {
    "name": "ipython",
    "version": 3
   },
   "file_extension": ".py",
   "mimetype": "text/x-python",
   "name": "python",
   "nbconvert_exporter": "python",
   "pygments_lexer": "ipython3",
   "version": "3.11.3"
  }
 },
 "nbformat": 4,
 "nbformat_minor": 5
}
