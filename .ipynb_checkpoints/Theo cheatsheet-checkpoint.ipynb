{
 "cells": [
  {
   "cell_type": "markdown",
   "metadata": {},
   "source": [
    "# Content\n",
    "\n",
    ">* [1. Introduction to Data Wrangling and Data Quality](#1)\n",
    "    - [Data Wrangling](#1_1)\n",
    "    - [2. Data Quality](#1_2)\n",
    "        - [Data fit](#fit)\n",
    "        - [Data integrity](#integrity)\n",
    ">* [Plausibilitätschecks](#2)\n",
    ">* [Statistik und Verteilung](#3)\n",
    ">* [Big data (Spark)](#4)"
   ]
  },
  {
   "cell_type": "markdown",
   "metadata": {
    "collapsed": true,
    "pycharm": {
     "is_executing": true
    }
   },
   "source": [
    "# 1. Introduction to Data Wrangling and Data Quality <a name=1></a>"
   ]
  },
  {
   "cell_type": "markdown",
   "metadata": {},
   "source": [
    "1. Data Quality\n",
    "2. Data Wrangling"
   ]
  },
  {
   "cell_type": "markdown",
   "metadata": {},
   "source": [
    "## Data wrangling <a name=1_1></a>\n",
    "\n",
    "- is the process of taking “raw” or “found” data, and transforming it into something that can be used to generate insight and meaning. \n",
    "\n",
    "-  it is about much more than simply learning how to access and manipulate data; it’s about making judgments, inferences, and selections.\n",
    "\n",
    "- Every significant data manipulation task is propelled by a **question**.\n",
    "\n",
    "-  the data wrangling process is really more of a **cycle** than it is a linear set of steps.\n",
    "\n"
   ]
  },
  {
   "cell_type": "markdown",
   "metadata": {},
   "source": [
    "#### Steps of data wrangling:\n",
    "1. Researching.\n",
    "2. Locating or collecting data\n",
    "3. Reviewing the data\n",
    "4. “Cleaning,” standardizing, transforming, and/or augmenting the data\n",
    "5. Analyzing the data\n",
    "6. Visualizing the data\n",
    "7. Communicating the data"
   ]
  },
  {
   "cell_type": "markdown",
   "metadata": {},
   "source": [
    "## Data Quality <a name=1_2></a>\n",
    "\n",
    "- It it is up to the humans involved in data collection, acquisition, and analysis to ensure its quality so that the outputs of our data work actually mean something.\n",
    "\n",
    "- axes for evaluating data quality:\n",
    "1. the **integrity** of the data itself, \n",
    "2. and the “**fit**” or appropriateness of the data with respect to a particular question or problem."
   ]
  },
  {
   "cell_type": "markdown",
   "metadata": {},
   "source": [
    "### 1.1. Data Fit <a name=fit></a>\n",
    "\n",
    "-  often we have to do a significant amount of integrity work before we can know with confidence that our dataset is actually fit for our selected question or project.\n",
    "\n",
    "> **Definition** *Data Fit*\n",
    ">\n",
    "> The extent to which a given dataset accurately represents the phenomenon you're investigatig.\n",
    "\n",
    "Data fit is based on **3 metrics**: [*validity*](#a1), [*reliability*](#a2), and [*representativeness*](#a3)."
   ]
  },
  {
   "cell_type": "raw",
   "metadata": {},
   "source": [
    "1. **Gültigkeit (Validity)**: Die Gültigkeit bezieht sich darauf, ob die Daten tatsächlich das messen, was sie zu messen beabsichtigen. In diesem Fall scheinen die Daten gültig zu sein, da sie Informationen über die Präferenzen der Mitglieder für verschiedene Aktivitäten enthalten, was direkt relevant für die Fragestellung ist. Die Daten scheinen auch korrekt erfasst und codiert worden zu sein, wie aus den Anmerkungen der Mitarbeiter hervorgeht.\n",
    "\n",
    "2. **Zuverlässigkeit (Reliability)**: Die Zuverlässigkeit bezieht sich darauf, ob die Daten konsistent und stabil sind. Da jeder Teilnehmer eine eindeutige ID hat und nur ein Eintrag pro ID erlaubt ist, scheinen die Daten zuverlässig zu sein. Es gibt jedoch einige potenzielle Probleme, wie z.B. die Schwierigkeit, einige der handschriftlichen Antworten zu lesen, die die Zuverlässigkeit beeinträchtigen könnten.\n",
    "\n",
    "3. **Repräsentativität (Representativeness)**: Die Repräsentativität bezieht sich darauf, ob die Daten eine genaue Darstellung der Gruppe sind, die sie repräsentieren sollen. Da die Daten von allen Mitgliedern des Jugendzentrums gesammelt wurden und die Altersverteilung gleichmäßig ist, scheinen die Daten repräsentativ für die Mitglieder des Jugendzentrums zu sein. Es ist jedoch zu beachten, dass seit der Erstellung der Umfrage zwei neue Mitglieder hinzugekommen sind, deren Präferenzen in den Daten nicht enthalten sind.\n",
    "\n",
    "Insgesamt scheint der Datensatz eine hohe Datenfitness zu haben, obwohl es einige potenzielle Probleme gibt, die berücksichtigt werden sollten. Es könnte sinnvoll sein, die Daten regelmäßig zu aktualisieren und zu überprüfen, um sicherzustellen, dass sie weiterhin gültig, zuverlässig und repräsentativ sind."
   ]
  },
  {
   "cell_type": "raw",
   "metadata": {},
   "source": [
    "Die Informationen könnten teilweise hilfreich für die Beantwortung der Fragestellung sein\n",
    "\n",
    "- \n",
    "Zusätzliche Informationen, die hilfreich sein könnten, sind zum Beispiel der genaue Standort der Befragten innerhalb ihrer Stadtteile, ihre Präferenzen für verschiedene Arten von Restaurants (z.B. Fast Food, Fine Dining, Ethnisch, etc.), und ihre Ausgabengewohnheiten in Bezug auf Essen und Trinken."
   ]
  },
  {
   "cell_type": "markdown",
   "metadata": {},
   "source": [
    "#### **1. Validity**  <a name=a1></a>\n",
    "\n",
    "Describes the extent to which something measuresa what it is supposed to.\n",
    "\n",
    "\n",
    "- **Construct Validity**: This refers to how well a test or tool measures the theoretical construct that it was designed to measure¹². For example, if a test is designed to measure introversion, construct validity would be the degree to which the test actually measures introversion¹. It's especially important when researching concepts that can't be quantified and/or are intangible¹.\n",
    "> _important questions would be:_\n",
    ">* _Sind die Variablen im Datensatz angemessen operationalisiert? (Alter in Jahre, Kategorie Male/Female für geschlecht)_\n",
    "\n",
    "- **Content Validity**: This assesses how well a test represents all aspects of the construct¹². If a test is designed to measure introversion, content validity would be the degree to which the test covers all aspects of introversion¹. If some aspects are missing or irrelevant parts are included, the test has low content validity¹.\n",
    "\n",
    "> _important questions would be:_\n",
    ">* _Wie relevant für die Fragestellung sind die daten?_\n",
    ">* _inwieweit können die Ergebnisse auf andere Situationen oder Populationen verallgemeinert werden?_\n",
    "\n",
    "\n",
    "In summary, construct validity is about the test measuring what it's supposed to measure, while content validity is about the test covering the full breadth of the concept¹²."
   ]
  },
  {
   "cell_type": "markdown",
   "metadata": {},
   "source": [
    "#### 2. Reliability <a name=a2></a>\n",
    "\n",
    "Reliability of a given measure describes its accuracy and stability. Together they help us assess whether the same measure taken twice in the same circumstances will give us the same results.\n",
    "\n",
    "> _important questions would be:_\n",
    ">* _Gibt es inkonsistenzen?_\n",
    ">* _Gibt es fehlende Werte?_\n",
    ">* _Wenn die gleiche Studie unter den gleichen Bedingungen wiederholt würde, würden wir dann ähnliche Ergebnisse erhalten?_"
   ]
  },
  {
   "cell_type": "raw",
   "metadata": {},
   "source": [
    "Die Zuverlässigkeit des Datensatzes ist möglicherweise durch die oben genannten Faktoren beeinträchtigt:\n",
    "\n",
    "1. **Lesbarkeit der Handschrift**: Wie Thelma bemerkte, war die Handschrift auf einigen Bögen schwierig zu lesen. Obwohl sie das Meiste herleiten konnte, besteht die Möglichkeit von Fehlern bei der Übertragung der Daten.\n",
    "\n",
    "2. **Zeit und Aufmerksamkeit**: Die Mitarbeiter haben die Bögen in unterschiedlichen Kontexten übertragen. Enisa hat beispielsweise 20 Bögen übertragen, als es ruhig war und sie schneller als sonst mit ihrem Kochkurs fertig war. Tilo hat 17 Bögen erfasst, musste dann aber aufhören, um Thelma bei der Organisation eines Fußballturniers zu helfen. Diese unterschiedlichen Umstände könnten die Genauigkeit der Datenübertragung beeinflusst haben.\n",
    "\n",
    "3. **Überprüfung und Validierung**: Aus den gegebenen Aussagen geht nicht hervor, ob es einen Prozess zur Überprüfung oder Validierung der übertragenen Daten gibt. Ein solcher Prozess könnte dazu beitragen, Fehler zu identifizieren und zu korrigieren und somit die Zuverlässigkeit des Datensatzes zu erhöhen."
   ]
  },
  {
   "cell_type": "markdown",
   "metadata": {},
   "source": [
    "#### 3. Representativeness <a name=a3></a>\n",
    "\n",
    "Reliability of a given measure describes whether those insights are an accurate portrait of a particular situation or population.\n",
    "\n",
    "> _important questions would be:_\n",
    ">* _Sind die Probanden gut verteilt (z.b. auf stadteile einer stadt)?_\n",
    ">* _Gibt es fehlende Werte die die Repräsentativität der Daten beeinträchtigen können?_\n",
    ">* _War die Auswahl der Probanden zufällig oder sind bestimmte Gruppen über- oder unterrepräsentiert?_\n",
    ">* _könnte man eine weitere Information nennen, die bisher nicht in den Daten enthalten ist, aber die hilfreich wäre, um die Repräsentativität besser beurteilen zu können? (Alter?)_"
   ]
  },
  {
   "cell_type": "markdown",
   "metadata": {},
   "source": [
    "### 1.2. Data integrity  <a name=integrity></a>\n",
    "\n",
    "the integrity of a dataset is evaluated using the data values and descriptors that make it up.\n",
    "\n",
    "Data integrity is about whether the data you have can support the analysis you''ll need to perform in order to answer that quastion.\n",
    "\n",
    "> **Definition** *Data Integrity*\n",
    ">\n",
    ">Data Integrity is the completeness, accuracy, and consistency of data as it is maintained over time and across all formats."
   ]
  },
  {
   "cell_type": "markdown",
   "metadata": {},
   "source": [
    "Data integrity is based on the following **metrics**: \n",
    "\n",
    "- [***Necessary, but not sufficient***](#a)\n",
    "    - [Of known provence.](#a)\n",
    "    - [Well-Annotated.](#a)\n",
    "- ***Important***\n",
    "    - [Timely.](#b)\n",
    "    - [Complete.](#c)\n",
    "    - [High Volume.](#d)\n",
    "    - [Multivariant.](#e)\n",
    "    - [Atomic](#f)\n",
    "- ***Achievable***\n",
    "    - [Consistent.](#g)\n",
    "    - [Clear.](#h)\n",
    "    - [Dimensionally structed.](#i)"
   ]
  },
  {
   "cell_type": "raw",
   "metadata": {},
   "source": [
    "- Necessary, but not sufficient\n",
    "    - Of known provence:\n",
    "    \n",
    "    - Well-Annotated:\n",
    "    \n",
    "- Important\n",
    "    - Timely:\n",
    "    \n",
    "    - Complete:\n",
    "    \n",
    "    - High Volume:\n",
    "    \n",
    "    - Multivariant:\n",
    "    \n",
    "    - Atomic:\n",
    "    \n",
    "- Achievable:\n",
    "    - Consistent:\n",
    "    \n",
    "    - Clear:\n",
    "    \n",
    "    - Dimensionally structed:\n",
    "    "
   ]
  },
  {
   "cell_type": "markdown",
   "metadata": {},
   "source": [
    "here are short explanations for each of the points:\n",
    "\n",
    "***Necessary, but not sufficient*** <a name=a></a>\n",
    "- **Of known provenance**: This means the data's origin or source is known and can be traced. It's necessary for data integrity and authenticity, but not sufficient alone for overall data quality.\n",
    ">* _is the dataset from a reliable source?_\n",
    "- **Well-Annotated**: This refers to data being accompanied by explanatory information (annotations). While necessary for understanding the data, it alone doesn't guarantee the data's accuracy or relevance.\n"
   ]
  },
  {
   "cell_type": "markdown",
   "metadata": {},
   "source": [
    "\n",
    "***Important*** <a name=b></a>\n",
    "- **Timely**: This means the data is available when needed. Timeliness is important for data to be actionable, but it doesn't ensure other aspects like accuracy or completeness.\n",
    ">* _is the dataset up to date?_\n",
    ">* _does the dataset include the most recent records? Wurden neuen Mitglieder nach der Erstellung der Umfrage hinzugefügt?_\n",
    ">* _when was the last time the data was updated?_\n",
    ">* _What are the minimum and maximum dates in the table?_\n"
   ]
  },
  {
   "cell_type": "raw",
   "metadata": {},
   "source": [
    "Keine Info:\n",
    "Ohne zusätzliche Informationen wie das Datum der Umfrage oder den Zeitraum, in dem die Daten gesammelt wurden, ist es schwierig zu beurteilen, ob die Daten aktuell sind.\n",
    "\n",
    "Mit Info:\n",
    "- Die Umfrage lag vom 12.08.2023 – 25.08.2023 aus. Die letzte Datenerfassung, die erwähnt ist, war am 31. August 2023. Wenn wir uns in einem Zeitraum kurz nach diesem Datum befinden, könnte man den Datensatz als aktuell betrachten. Wenn jedoch seitdem eine erhebliche Zeit vergangen ist, könnte der Datensatz veraltet sein. \n",
    "\n",
    "- Seit der Erstellung der Umfrage sind auch 2 Mitglieder dazu gekommen, was die Aktualität des Datensatzes beeinflussen kann. Es zeigt, dass sich die Mitgliederbasis des Jugendzentrums weiterentwickelt. Wenn diese neuen Mitglieder jedoch noch nicht in der Umfrage berücksichtigt wurden, spiegelt der Datensatz möglicherweise nicht die aktuelle Situation des Zentrums vollständig wider."
   ]
  },
  {
   "cell_type": "markdown",
   "metadata": {},
   "source": [
    "- **Complete**: Complete data has all the necessary parts. It's important for a comprehensive analysis, but doesn't ensure the data is timely or accurate. <a name=c></a>\n",
    "> _important questions would be:_\n",
    ">* _Are there any missing values in the data?_\n",
    ">* _Find the earliest date(s) in our “recent” data file and confirm that they are before a specific date._"
   ]
  },
  {
   "cell_type": "raw",
   "metadata": {},
   "source": [
    "Der Datensatz scheint in den meisten Spalten vollständig zu sein, mit Ausnahme der Spalte “Entfernung”, in der 4 Werte fehlen undd der spalte 'Favorit' mit 7 fehleneden werten. Diese sind keine große Zahlen. Mann könnte überlegen ob es Möglichkeiten gibt, diese fehlenden Werte zu ersetzen oder zu schätzen, oder ob man die Analyse auf die Teilmenge der Daten beschränken, die diese Information enthält.\n",
    "\n",
    "vorallem bei der Spalte Entfernung. Man könnte die fehlenden Entfernungen basierend auf den durchschnittlichen Entfernungen der Mitglieder aus dem gleichen Stadtteil schätzen. Diese Methode berücksichtigt die geografische Nähe und könnte in diesem Kontext genauer sein als andere Methoden.\n",
    "\n",
    " Die varianz der Entfernungen der Mitglieder aus dem gleichen Stadtteil ist niedrig was auf die Möglichkeit andeutet, diese fehlenden Werte mit der durchschnittlichen Entfernungen der Mitglieder aus dem gleichen Stadtteil zu ersetzen.\n",
    "\n",
    "Hier ist ein einfacher Ansatz, wie Sie das tun könnten:\n",
    "\n",
    "    Gruppieren Sie die Daten nach Stadtteilen.\n",
    "    Berechnen Sie für jeden Stadtteil den Durchschnitt der Entfernungen der Mitglieder, für die Entfernungsdaten vorhanden sind.\n",
    "    Ersetzen Sie die fehlenden Entfernungen in jedem Stadtteil durch den"
   ]
  },
  {
   "cell_type": "markdown",
   "metadata": {},
   "source": [
    "\n",
    "- **High Volume**: This refers to having a large amount of data, which is important for statistical significance. However, high volume doesn't ensure the data is relevant or accurate. <a name=d></a>\n",
    ">- Is the number of data in your dataset is enough?\n",
    ">- Is the number of data for each category in your dataset is enough?\n"
   ]
  },
  {
   "cell_type": "raw",
   "metadata": {},
   "source": [
    "Die Einräge reichen aus, um die Hauptfrage zu beantworten.\n",
    "\n",
    "Die Mitarbeiter haben insgesamt 521 Personen befragt, verteilt auf die vier Stadtteile. diese Verteilung scheint nicht gleichmäßig zu sein, da der Stadtteil Nord mehr Befragte hat als die anderen Stadtteile, , während stadtteil ost vielweniger befragten hat. Wenn die Bevölkerung in den Stadtteilen jedoch stark variiert, könnte diese Verteilung repräsentativ sein. Karin hat erwähnt dass die wenigsrten ihrere befragten aus der Oststadt kommen."
   ]
  },
  {
   "cell_type": "markdown",
   "metadata": {},
   "source": [
    "- **Multivariant**: This means the data covers multiple variables or factors. It's important for a holistic view, but doesn't ensure the data is complete or timely.\n",
    "<a name=e></a>\n",
    "\n",
    "> - gibt es mehr als eine Variable/Merkmal im datensatz?\n",
    "> - Wenn ja:\n",
    "    - können diese gleichzeitig betrachtet werden?\n",
    "    - Korrelieren diese?"
   ]
  },
  {
   "cell_type": "raw",
   "metadata": {},
   "source": [
    "Insgesamt stehen uns in diesem Datensazt 14 Features zur Verfügung, bzw. 13 zur Vorhersage der Zufriedenheit."
   ]
  },
  {
   "cell_type": "markdown",
   "metadata": {},
   "source": [
    "- **Atomic**: This refers to data that is in its smallest indivisible unit, providing a high level of detail. It's important for granular analysis, but doesn't ensure the data is complete or timely.\n",
    "<a name=f></a>\n",
    "\n",
    "> - gibt es irgendeiner Art Aggregation? (zusammengesetzten werte wie Listen oder dictionaries)\n",
    "> - gibt es zusammenfassenden Statistiken?\n",
    "> - Gibt es mehrere Zeilen für jeden Mitarbeiter (z.B. “Sara Hofmann”) mit unterschiedlichen Werten für andere Attribute?"
   ]
  },
  {
   "cell_type": "raw",
   "metadata": {},
   "source": [
    "Die Daten weisen keine zusammenfassenden Statistiken, kombinierte Daten, Aggregationen oder Kennzahlen auf.\n",
    "\n",
    "Größtenteils gegegeben (keine Aggregation) im allgemeinen enthält der datensatz keine zusammengesetzten werte wie Listen oder dictionaries.\n",
    "\n",
    "Allerdings gibt es im Datensatz mehrere Zeilen für jeden Mitarbeiter (z.B. “Sara Hofmann”) mit unterschiedlichen Werten für andere Attribute"
   ]
  },
  {
   "cell_type": "markdown",
   "metadata": {},
   "source": [
    "\n",
    "***Achievable***\n",
    "- **Consistent**: This means the data is uniform and reliable across all instances. It's achievable with good data governance, but doesn't ensure the data is timely or complete. <a name=g></a>\n",
    "> _important questions would be:_\n",
    ">* _are there duplicates?_\n",
    ">* _Do the data match when thy are read from two different sources?_\n",
    ">* are the decriptives used for the same value in the dataset consistent? (e.g. spelling of \"male\" vs \"Male\")\n"
   ]
  },
  {
   "cell_type": "raw",
   "metadata": {},
   "source": [
    "- Es gibt duplikate in der Spalte id.\n",
    "\n",
    "- Teilweise nicht gegegeben (siehe Spalte \"gender\")\n",
    "\n",
    "- In der Spalte 'Gender' sind die Beschreibungen, die für denselben Wert verwendet werden, nicht konsistent (z. B. Schreibweise von „Male“ vs. „male“)\n",
    "\n",
    "Bezüglich der Duplikate in der Spalte “ID” könnten Sie überprüfen, ob die gesamten Zeilen dupliziert sind oder nur die IDs. Wenn nur die IDs dupliziert sind, könnten Sie prüfen, ob es sich um einen Fehler handelt (z.B. zwei verschiedene Mitglieder haben versehentlich dieselbe ID erhalten). Wenn die gesamte Zeile dupliziert ist, könnten Sie eine davon sicher entfernen."
   ]
  },
  {
   "cell_type": "markdown",
   "metadata": {},
   "source": [
    "- **Clear**: This refers to data that is easy to understand and interpret. It's achievable with good data presentation, but doesn't ensure the data is accurate or complete.<a name=h></a>\n",
    "\n",
    "> _important questions would be:_\n",
    ">* _Are the column names clear?_\n",
    ">* _Sind die benutzten Beschreibeungen klar?_"
   ]
  },
  {
   "cell_type": "raw",
   "metadata": {},
   "source": [
    "- Teilweise nicht gegeben.\n",
    "- Die Namen der Spalten mo bis fr sind nicht klar geschrieben. \n",
    "- Die spalte entfernung ist nicht richtig parametrisiert. Wir wissen nicht um welcher Entfernungseinheit es sich handelt."
   ]
  },
  {
   "cell_type": "markdown",
   "metadata": {},
   "source": [
    "- **Dimensionally Structured**: This means the data is organized in a way that allows analysis across different dimensions (e.g., time, location). It's achievable with good data modeling, but doesn't ensure the data is timely or accurate. <a name=i></a>\n",
    "\n",
    "> _important questions would be:_\n",
    ">* _Gibt es klar definierte Dimensionen und Metriken? Dimensionen sind oft kategorische Attribute wie “Stadt”, “Produkttyp” oder “Zeit”, während Metriken quantitative Messungen wie “Umsatz”, “Anzahl der Besuche” oder “Dauer” sind._\n",
    ">* _ wie sieht die Struktur des Datensatzes aus?_"
   ]
  },
  {
   "cell_type": "markdown",
   "metadata": {
    "collapsed": true,
    "pycharm": {
     "is_executing": true
    }
   },
   "source": [
    "# 2. Plausibilitätschecks <a name=2></a>"
   ]
  },
  {
   "cell_type": "markdown",
   "metadata": {},
   "source": [
    "Ein Plausibilitätscheck (auch bekannt als \"Data Quality Check\" oder \"Data Validation\") ist ein Prozess, bei dem Daten auf ihre Richtigkeit, Vollständigkeit und Plausibilität überprüft werden, bevor sie weiter verarbeitet oder analysiert werden. \n",
    "\n",
    "**Das Ziel** ist es, falsche oder inkonsistente Daten zu identifizieren und zu korrigieren, um die Genauigkeit der Datenanalyse sicherzustellen. \n",
    "Arten von Plausibilitätschecks sind:\n",
    "- Überprüfungen auf bereichsüberschreitende Werte\n",
    "- Überprüfungen auf fehlende oder doppelte Daten\n",
    "- Überprüfungen auf Konsistenz zwischen abhängigen Variablen².\n",
    "\n",
    "Ein Beispiel für die Anwendung von Plausibilitätskontrollen in der Marktforschung ist die Überprüfung von Antworten in Umfragen auf bereichsüberschreitende Werte oder fehlende Daten². Eine solche Überprüfung kann helfen, falsche Antworten zu identifizieren und zu korrigieren, die durch menschliche Fehler oder technische Probleme entstanden sind²."
   ]
  },
  {
   "cell_type": "markdown",
   "metadata": {},
   "source": [
    "> _important questions would be:_\n",
    ">* _Überprüfen Sie, ob die Werte in den Spalten innerhalb eines erwarteten Bereichs liegen._\n",
    ">*_Überprüfen Sie, ob alle erforderlichen Daten vorhanden sind?_\n",
    ">* _Überprüfen Sie, ob die Daten in verschiedenen Spalten konsistent sind? Zum Beispiel, wenn ein Mitglied angibt, dass es das Jugendzentrum an einem bestimmten Tag besucht, sollte es an diesem Tag eine Aktivität geben._\n",
    ">* _Überprüfen Sie, ob die Werte in den Spalten gültig sind. Zum Beispiel sollten die Werte in der Spalte “Stadtteil” einer der vier Stadtteile sein (Nord, Ost, Süd, West)._\n",
    ">* _ob es sich um tatsächliche Duplikate handelt oder ob es einen Fehler bei der Datenerfassung gab?_"
   ]
  },
  {
   "cell_type": "markdown",
   "metadata": {},
   "source": [
    "Nehmen Sie an, einer Ihrer Plausibilitätschecks schlägt fehlt. Was sollten Sie dann tun?"
   ]
  },
  {
   "cell_type": "raw",
   "metadata": {},
   "source": [
    "Dann sollten weitere Informationen eingeholt werden, um herauszufinden, ob die\n",
    "Informationen korrekt sind. Können diese Informationen nicht beschafft werden, die\n",
    "Prüfung ist aber nur für wenige, einzelne Zeilen fehlgeschlagen, könnte es sinnvoll\n",
    "sein, die entsprechenden Zeilen zu löschen, da sie unter Umständen inkorrekte Daten\n",
    "enthalten. Schlägt ein Plausbilitätscheck für einen Großteil der Daten fehl, sollte die\n",
    "Qualität und somit die Verwendbarkeit des Datensatzes in Frage gestellt werden."
   ]
  },
  {
   "cell_type": "markdown",
   "metadata": {},
   "source": [
    "---\n",
    "## 3. Statistik und Verteilung <a name=3></a>"
   ]
  },
  {
   "cell_type": "markdown",
   "metadata": {},
   "source": [
    "***Frage***:\n",
    "*Analysieren Sie die Verteilung des Alters. Ist zu erkennen, ob eher jüngere oder eher ältere Jugendliche an der Umfrage teilgenommen haben? Entspricht die Verteilung der Befragten der aller Jugendlichen? (2 Punkte)*\n",
    "\n",
    "***Antwort***:\n",
    "```python\n",
    "df['alter'].describe()\n",
    "```\n",
    "die deskriptiven Statistiken zeigen, dass das Durchschnittsalter der Jugendlichen, die an der Umfrage teilgenommen haben, etwa 12,33 Jahre beträgt. Die Standardabweichung beträgt etwa 3,17 Jahre, was darauf hindeutet, dass das Alter der Jugendlichen um das Durchschnittsalter herum ziemlich gut verteilt ist.\n",
    "\n",
    "Die Quartilwerte zeigen, dass 25% der Jugendlichen 10 Jahre oder jünger sind und 50% (also der Median) 11 Jahre oder jünger sind.\n",
    "Diese Statistiken deuten darauf hin, dass eher jüngere Jugendliche an der Umfrage teilgenommen haben, da der Median (11 Jahre) unter dem Durchschnittsalter liegt. "
   ]
  },
  {
   "cell_type": "markdown",
   "metadata": {},
   "source": [
    "---\n",
    "## 4. Big Data (Spark) <a name=4></a>"
   ]
  },
  {
   "cell_type": "markdown",
   "metadata": {},
   "source": [
    "```python\n",
    "from pyspark.sql import SparkSession\n",
    "import pyspark.sql.functions as f\n",
    "```"
   ]
  },
  {
   "cell_type": "markdown",
   "metadata": {},
   "source": [
    "### Spark-Prinzipien:\n",
    "- [Lazy evaluation.](#lazy)\n",
    "- [Caching.](#cache)\n"
   ]
  },
  {
   "cell_type": "markdown",
   "metadata": {},
   "source": [
    "1. **Lazy Evaluation**: <a name=lazy></a> \n",
    "\n",
    "bedeutet, dass die Ausführung von Operationen so lange wie möglich verzögert wird. Eine Berechnung oder Funktion wird nicht sofort ausgeführt, wenn sie aufgerufen wird. Stattdessen wird sie erst ausgeführt, wenn eine Aktion (wie z.B. collect(), take(), etc.) auf dem RDD aufgerufen wird, das durch die Berechnung bzw. Funktion erzeugt wurde.\n",
    "\n",
    "> **Vorteil:** \n",
    ">- optimiert die Ausführung von Spark-Programmen. \n",
    ">- Sie ermöglicht es Spark, den gesamten Datenverarbeitungsplan zu betrachten und Optimierungen vorzunehmen, bevor die tatsächliche Berechnung stattfindet. \n",
    ">- kann zu erheblichen Leistungsverbesserungen führen."
   ]
  },
  {
   "cell_type": "markdown",
   "metadata": {},
   "source": [
    "2. **Caching**: <a name=cache></a> \n",
    "\n",
    "Es wäre sinnvoll, ein Caching nach der Zeile `hagen = customers.where(customers['City']=='Hagen')` einzufügen. Der Grund dafür ist, dass wir mehrere Operationen auf dem DataFrame hagen ausführen. Durch das Caching dieses DataFrames nach seiner Erstellung kann man die Berechnungszeit für nachfolgende Aktionen, die hagen verwenden, erheblich reduzieren.\n",
    "\n",
    "> **Vorteil:** \n",
    ">- Berechungszeit reduzieren."
   ]
  },
  {
   "cell_type": "markdown",
   "metadata": {},
   "source": [
    "---\n",
    "## 5.  Big Data Technologien <a name=5></a>"
   ]
  },
  {
   "cell_type": "markdown",
   "metadata": {},
   "source": [
    "#### Characteristics of Big Data\n",
    "\n",
    "- Volume: Menge der Daten. Data At Rest\n",
    "\n",
    "- Velocity: Data sind nicht nur statisch, sie sind in Bewegung. \n",
    "    - Sie benötigen bestimmte Technologien weil sie nicht erst nach dem Speichern bearbeitet werden, sondern schon während des Streamen. \n",
    "\n",
    "- Variety: Daten gibt es in verschiedenen Formen.\n",
    "    - strukturiert vs unstrukturiert. Komplex vs einfach vs Mmultimedia.\n",
    "\n",
    "- Veracity: Welche Daten kann man vertrauen?\n",
    "    - wegen Inkonsistenz, fehlende WErte, mehrdeutigkeit...etc."
   ]
  },
  {
   "cell_type": "markdown",
   "metadata": {},
   "source": [
    "#### Scale up vs Scale out\n",
    "\n",
    "**Scale up**:\n",
    "- Vertikale Skalierung\n",
    "- Mehr RAM, CPU und HDD\n",
    "- Vorteil:\n",
    "    - Leistung der Rechner verbessern durch die Erweiterung von RAM und Prozessor.\n",
    "    - Transparent for database system\n",
    "    - Management complexity constant\n",
    "- Nachteile: \n",
    "    - Teuere Hardware\n",
    "    - Nicht flexibel (Limitierte Skalierbarkeit)\n",
    "\n",
    "**Scale out**:\n",
    "- Horizontale Skalierung\n",
    "- Mehr Knoten\n",
    "- Commodity Hardware\n",
    "- Große Menge an normalen (günstigen) rechnern in riesige Cluster (aka Nodes) zusammen zu schalten. Es könnte 100te oder 1000e von Nodes geben.\n",
    "- Dieses Modell ist skalierbar, in dem man Nodes hinzufügt oder rausnimmt.\n",
    "- Vorteile:\n",
    "    - günstige Hardware.\n",
    "    - Hohe Skalierbarkeit\n",
    "- Nachteile: \n",
    "    - Load balancing necessary\n",
    "    - Data distribution necessary\n",
    "    - Increased error rate\n",
    "    - Increased management complexity\n",
    "    - Distributed lock and replication protocols"
   ]
  },
  {
   "cell_type": "markdown",
   "metadata": {},
   "source": [
    "**Daten zu code** $\\longrightarrow$ **schlecht**!, weil eine große menge an Daten (Big Data), die auf über eine hohe anzahl von Servern verteilt sind, in einem ausführbaren Programm umzuwandeln hat hohe Kommunikationskosten . \n",
    "\n",
    "**code zu Daten** $\\longrightarrow$ **Sinnvoll**\n",
    "\n",
    "Wir haben aber jetzt das Problem der massiven parallelen Verarbeitung der Daten. Denn oft müssten wir auf die gleichen ressoursen zugreifen und Systeme und Daten synchronisieren (Über eine hohe anzahl von Servern)\n",
    "--> deshalb ändert sich das Programmier-Paradigma, um diese Parallelität sicherzustellen\n",
    "--> MapReduce\n",
    "\n",
    "#### MapReduce:\n",
    "\n",
    "MapReduce ist ein Programmiermodell und Framework zur parallelen Verarbeitung großer Datensätze mit einem Cluster oder einem Grid von Computern. Es basiert auf dem Apache Hadoop-Ökosystem und verwendet Java als Programmiersprache. \n",
    "- Es vereinfacht die verteilte Programmierung, indem es zwei Verarbeitungsschritte bereitstellt: \n",
    "    - **Map**, das Daten zwischen parallelen Aufgaben aufteilt, \n",
    "    - und **Reduce**, das die Ergebnisse aggregiert.\n",
    "    \n",
    "$\\longrightarrow$ braucht **verteilten und horizontal-skalierbare Datenbanken**."
   ]
  },
  {
   "cell_type": "markdown",
   "metadata": {},
   "source": [
    "#### (horizontal-skalierbar) NoSQL Database Systems:\n",
    "- verteilt und horizontal-skalierbar\n",
    "- easy replication support\n",
    "- tunable consistency\n",
    "- non-relational\n",
    "- schema-free\n",
    "\n",
    "**Anwedndungen**\n",
    "- Classification\n",
    "- Data Modeling\n",
    "- Application Development\n",
    "- Scalability, Availability, and Consistency\n",
    "- Decision Guide: Select the Right DBMS"
   ]
  },
  {
   "cell_type": "markdown",
   "metadata": {},
   "source": [
    "#### Column Store Database Systems\n",
    "- Ziel: Reduzieren Sie die Anzahl der Disc-Zugriffe bzw. die Menge der zu lesenden Daten.\n",
    "- geeignet für überwiegend leseintensive, große Datenrepositorys (OLAP).\n",
    "- Vorteile:\n",
    "    - Es müssen nur relevante Daten eingelesen werden\n",
    "    - höheres Kompressionsverhältnis\n",
    "- Nachteile:\n",
    "    - Einfügen/Aktualisieren erfordern mehrere Zugriffe\n",
    "    - teure Lesevorgänge für ganze Datensätze\n",
    "\n",
    "#### Row Store Database Systems\n",
    "- Vortiel: easy to insert / update a record \n",
    "- Nachteil: might read in unnecessary data\n",
    "\n",
    "**Anwedndungen**\n",
    "- Storage Layout\n",
    "    - Columnar Storage\n",
    "    - Compression\n",
    "- Execution Engine\n",
    "    - Operating on columns (insert / update / read)\n",
    "    - Operating on compressed data (early vs. late materialization)"
   ]
  },
  {
   "cell_type": "markdown",
   "metadata": {},
   "source": [
    "#### In-Memory Database Systems\n",
    "- Ein In-Memory Database System (IMDB) ist ein Datenbankmanagementsystem, das hauptsächlich auf Hauptspeicher für die Speicherung von Computerdaten angewiesen ist, anstelle von Festplattenspeichermechanismus. \n",
    "- Traditional OLTP & OLAP\n",
    "- Der Zugriff auf Daten im Speicher eliminiert die Suchzeit beim Abfragen der Daten, was eine schnellere und vorhersehbarere Leistung als bei Festplatten bietet\n",
    "- "
   ]
  },
  {
   "cell_type": "markdown",
   "metadata": {},
   "source": [
    "---\n",
    "## 6.  Large Scale Parallel Data Processing <a name=6></a>"
   ]
  },
  {
   "cell_type": "markdown",
   "metadata": {},
   "source": [
    "#### MapReduce:\n",
    "\n",
    "- MapReduce ist ein Programmiermodell und Framework zur parallelen Verarbeitung großer Datensätze mit einem Cluster oder einem Grid von Computern. Es basiert auf dem Apache Hadoop-Ökosystem und verwendet Java als Programmiersprache. \n",
    "- basiert auf funktionale Programmierung\n",
    "- Es vereinfacht die verteilte Programmierung, indem es zwei Verarbeitungsschritte bereitstellt: \n",
    "    - **Map**, das Daten zwischen parallelen Aufgaben aufteilt, \n",
    "    - und **Reduce**, das die Ergebnisse aggregiert."
   ]
  }
 ],
 "metadata": {
  "kernelspec": {
   "display_name": "Python 3 (ipykernel)",
   "language": "python",
   "name": "python3"
  },
  "language_info": {
   "codemirror_mode": {
    "name": "ipython",
    "version": 3
   },
   "file_extension": ".py",
   "mimetype": "text/x-python",
   "name": "python",
   "nbconvert_exporter": "python",
   "pygments_lexer": "ipython3",
   "version": "3.11.3"
  }
 },
 "nbformat": 4,
 "nbformat_minor": 1
}
